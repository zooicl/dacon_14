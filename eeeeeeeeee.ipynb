{
 "cells": [
  {
   "cell_type": "code",
   "execution_count": 12,
   "metadata": {
    "ExecuteTime": {
     "end_time": "2020-01-05T19:56:15.620513Z",
     "start_time": "2020-01-05T19:56:15.616237Z"
    }
   },
   "outputs": [],
   "source": [
    "import pandas as pd\n",
    "from tools import eval_summary\n",
    "import glob"
   ]
  },
  {
   "cell_type": "markdown",
   "metadata": {},
   "source": [
    "### E6"
   ]
  },
  {
   "cell_type": "code",
   "execution_count": 63,
   "metadata": {
    "ExecuteTime": {
     "end_time": "2020-01-05T20:16:46.302378Z",
     "start_time": "2020-01-05T20:16:46.295417Z"
    }
   },
   "outputs": [],
   "source": [
    "def merge_preds(pred_csv):\n",
    "    if len(pred_csv) == 0:\n",
    "        return \n",
    "    print(len(pred_csv), pred_csv)\n",
    "    df_test = pd.read_csv('input/public_test.csv', index_col=0)\n",
    "    df_test['smishing'] = -1\n",
    "    df_submit = df_test[['smishing']]\n",
    "\n",
    "    for csv in pred_csv:\n",
    "        df = pd.read_csv(csv, index_col=0)\n",
    "        c = csv.split('__')[0].split('_')[-1]\n",
    "#         print(csv, c)\n",
    "        df_submit['smishing_{}'.format(c)] = df['smishing']\n",
    "#         print(df_submit.columns)\n",
    "        \n",
    "    pred_cols = [c for c in df_submit.columns if 'smishing_' in c]\n",
    "#     print(pred_cols)\n",
    "    df_submit['std'] = df_submit[pred_cols].std(axis=1)\n",
    "    df_submit['median'] = df_submit[pred_cols].median(axis=1)\n",
    "    df_submit['mean'] = df_submit[pred_cols].mean(axis=1)\n",
    "\n",
    "    return df_submit\n"
   ]
  },
  {
   "cell_type": "code",
   "execution_count": 67,
   "metadata": {
    "ExecuteTime": {
     "end_time": "2020-01-05T20:19:46.598333Z",
     "start_time": "2020-01-05T20:19:46.312763Z"
    },
    "scrolled": true
   },
   "outputs": [
    {
     "name": "stdout",
     "output_type": "stream",
     "text": [
      "3 ['submit/20200105T183350_smishing_3_1__12653_lgb.csv', 'submit/20200105T183350_smishing_3_0__5507_lgb.csv', 'submit/20200105T183350_smishing_3_2__6038_lgb.csv']\n",
      "4 ['submit/20200105T183350_smishing_4_1__9974_lgb.csv', 'submit/20200105T183350_smishing_4_0__8763_lgb.csv', 'submit/20200105T183350_smishing_4_3__8257_lgb.csv', 'submit/20200105T183350_smishing_4_2__8677_lgb.csv']\n",
      "5 ['submit/20200105T183350_smishing_5_2__13700_lgb.csv', 'submit/20200105T183350_smishing_5_0__6621_lgb.csv', 'submit/20200105T183350_smishing_5_1__3948_lgb.csv', 'submit/20200105T183350_smishing_5_4__8871_lgb.csv', 'submit/20200105T183350_smishing_5_3__3502_lgb.csv']\n",
      "6 ['submit/20200105T183350_smishing_6_3__12657_lgb.csv', 'submit/20200105T183350_smishing_6_4__1767_lgb.csv', 'submit/20200105T183350_smishing_6_0__3789_lgb.csv', 'submit/20200105T183350_smishing_6_5__7908_lgb.csv', 'submit/20200105T183350_smishing_6_2__2998_lgb.csv', 'submit/20200105T183350_smishing_6_1__7557_lgb.csv']\n",
      "7 ['submit/20200105T183350_smishing_7_4__1653_lgb.csv', 'submit/20200105T183350_smishing_7_6__8704_lgb.csv', 'submit/20200105T183350_smishing_7_5__2430_lgb.csv', 'submit/20200105T183350_smishing_7_0__5379_lgb.csv', 'submit/20200105T183350_smishing_7_1__4897_lgb.csv', 'submit/20200105T183350_smishing_7_3__13317_lgb.csv', 'submit/20200105T183350_smishing_7_2__4879_lgb.csv']\n",
      "10 ['submit/20200105T183350_smishing_10_2__2475_lgb.csv', 'submit/20200105T183350_smishing_10_7__1784_lgb.csv', 'submit/20200105T183350_smishing_10_4__2922_lgb.csv', 'submit/20200105T183350_smishing_10_1__3734_lgb.csv', 'submit/20200105T183350_smishing_10_3__2166_lgb.csv', 'submit/20200105T183350_smishing_10_5__7898_lgb.csv', 'submit/20200105T183350_smishing_10_0__4167_lgb.csv', 'submit/20200105T183350_smishing_10_9__4802_lgb.csv', 'submit/20200105T183350_smishing_10_8__4105_lgb.csv', 'submit/20200105T183350_smishing_10_6__1707_lgb.csv']\n",
      "13 ['submit/20200105T183350_smishing_13_5__2802_lgb.csv', 'submit/20200105T183350_smishing_13_8__1543_lgb.csv', 'submit/20200105T183350_smishing_13_11__8709_lgb.csv', 'submit/20200105T183350_smishing_13_4__2125_lgb.csv', 'submit/20200105T183350_smishing_13_6__7969_lgb.csv', 'submit/20200105T183350_smishing_13_3__2645_lgb.csv', 'submit/20200105T183350_smishing_13_9__1725_lgb.csv', 'submit/20200105T183350_smishing_13_10__1713_lgb.csv', 'submit/20200105T183350_smishing_13_0__3705_lgb.csv', 'submit/20200105T183350_smishing_13_1__2153_lgb.csv', 'submit/20200105T183350_smishing_13_2__4543_lgb.csv', 'submit/20200105T183350_smishing_13_12__4444_lgb.csv', 'submit/20200105T183350_smishing_13_7__1458_lgb.csv']\n"
     ]
    },
    {
     "name": "stderr",
     "output_type": "stream",
     "text": [
      "/home/aiden/anaconda3/lib/python3.7/site-packages/ipykernel_launcher.py:13: SettingWithCopyWarning: \n",
      "A value is trying to be set on a copy of a slice from a DataFrame.\n",
      "Try using .loc[row_indexer,col_indexer] = value instead\n",
      "\n",
      "See the caveats in the documentation: http://pandas.pydata.org/pandas-docs/stable/user_guide/indexing.html#returning-a-view-versus-a-copy\n",
      "  del sys.path[0]\n"
     ]
    },
    {
     "name": "stdout",
     "output_type": "stream",
     "text": [
      "16 ['submit/20200105T183350_smishing_16_9__1447_lgb.csv', 'submit/20200105T183350_smishing_16_8__8888_lgb.csv', 'submit/20200105T183350_smishing_16_10__1526_lgb.csv', 'submit/20200105T183350_smishing_16_12__1237_lgb.csv', 'submit/20200105T183350_smishing_16_14__5758_lgb.csv', 'submit/20200105T183350_smishing_16_0__4545_lgb.csv', 'submit/20200105T183350_smishing_16_4__2453_lgb.csv', 'submit/20200105T183350_smishing_16_13__53_lgb.csv', 'submit/20200105T183350_smishing_16_6__1778_lgb.csv', 'submit/20200105T183350_smishing_16_5__1654_lgb.csv', 'submit/20200105T183350_smishing_16_3__4471_lgb.csv', 'submit/20200105T183350_smishing_16_7__1131_lgb.csv', 'submit/20200105T183350_smishing_16_1__2703_lgb.csv', 'submit/20200105T183350_smishing_16_15__3586_lgb.csv', 'submit/20200105T183350_smishing_16_11__1015_lgb.csv', 'submit/20200105T183350_smishing_16_2__3344_lgb.csv']\n"
     ]
    }
   ],
   "source": [
    "dfs = {}\n",
    "for t in [3, 4, 5, 6, 7, 10, 13, 16]:\n",
    "    pred_csv = glob.glob(f'submit/20200105T183350_smishing_{t}_*_lgb.csv')\n",
    "    df_submit = merge_preds(pred_csv)\n",
    "    \n",
    "    df_submit['smishing'] = df_submit['median']\n",
    "    df_submit[['smishing']].to_csv(f'submit/20200105T183350_cv_{t}_lgb_median.csv', index=True)\n",
    "\n",
    "    df_submit['smishing'] = df_submit['mean']\n",
    "    df_submit[['smishing']].to_csv(f'submit/20200105T183350_cv_{t}_lgb.csv', index=True)\n",
    "        \n"
   ]
  },
  {
   "cell_type": "code",
   "execution_count": 66,
   "metadata": {
    "ExecuteTime": {
     "end_time": "2020-01-05T20:17:14.697189Z",
     "start_time": "2020-01-05T20:17:14.680260Z"
    }
   },
   "outputs": [
    {
     "data": {
      "text/html": [
       "<div>\n",
       "<style scoped>\n",
       "    .dataframe tbody tr th:only-of-type {\n",
       "        vertical-align: middle;\n",
       "    }\n",
       "\n",
       "    .dataframe tbody tr th {\n",
       "        vertical-align: top;\n",
       "    }\n",
       "\n",
       "    .dataframe thead th {\n",
       "        text-align: right;\n",
       "    }\n",
       "</style>\n",
       "<table border=\"1\" class=\"dataframe\">\n",
       "  <thead>\n",
       "    <tr style=\"text-align: right;\">\n",
       "      <th></th>\n",
       "      <th>smishing</th>\n",
       "      <th>smishing_1</th>\n",
       "      <th>smishing_0</th>\n",
       "      <th>smishing_2</th>\n",
       "      <th>std</th>\n",
       "      <th>median</th>\n",
       "      <th>mean</th>\n",
       "    </tr>\n",
       "    <tr>\n",
       "      <th>id</th>\n",
       "      <th></th>\n",
       "      <th></th>\n",
       "      <th></th>\n",
       "      <th></th>\n",
       "      <th></th>\n",
       "      <th></th>\n",
       "      <th></th>\n",
       "    </tr>\n",
       "  </thead>\n",
       "  <tbody>\n",
       "    <tr>\n",
       "      <td>340000</td>\n",
       "      <td>-1</td>\n",
       "      <td>1.436012e-13</td>\n",
       "      <td>2.608289e-08</td>\n",
       "      <td>7.787214e-08</td>\n",
       "      <td>3.963686e-08</td>\n",
       "      <td>2.608289e-08</td>\n",
       "      <td>3.465173e-08</td>\n",
       "    </tr>\n",
       "    <tr>\n",
       "      <td>340001</td>\n",
       "      <td>-1</td>\n",
       "      <td>1.163827e-08</td>\n",
       "      <td>9.441819e-06</td>\n",
       "      <td>4.554039e-05</td>\n",
       "      <td>2.403089e-05</td>\n",
       "      <td>9.441819e-06</td>\n",
       "      <td>1.833128e-05</td>\n",
       "    </tr>\n",
       "    <tr>\n",
       "      <td>340002</td>\n",
       "      <td>-1</td>\n",
       "      <td>3.521593e-15</td>\n",
       "      <td>1.010951e-09</td>\n",
       "      <td>1.309541e-10</td>\n",
       "      <td>5.497812e-10</td>\n",
       "      <td>1.309541e-10</td>\n",
       "      <td>3.806361e-10</td>\n",
       "    </tr>\n",
       "    <tr>\n",
       "      <td>340003</td>\n",
       "      <td>-1</td>\n",
       "      <td>1.509995e-15</td>\n",
       "      <td>4.358846e-10</td>\n",
       "      <td>1.886413e-10</td>\n",
       "      <td>2.185971e-10</td>\n",
       "      <td>1.886413e-10</td>\n",
       "      <td>2.081758e-10</td>\n",
       "    </tr>\n",
       "    <tr>\n",
       "      <td>340004</td>\n",
       "      <td>-1</td>\n",
       "      <td>6.777843e-13</td>\n",
       "      <td>1.157533e-08</td>\n",
       "      <td>9.374517e-09</td>\n",
       "      <td>6.146611e-09</td>\n",
       "      <td>9.374517e-09</td>\n",
       "      <td>6.983508e-09</td>\n",
       "    </tr>\n",
       "    <tr>\n",
       "      <td>...</td>\n",
       "      <td>...</td>\n",
       "      <td>...</td>\n",
       "      <td>...</td>\n",
       "      <td>...</td>\n",
       "      <td>...</td>\n",
       "      <td>...</td>\n",
       "      <td>...</td>\n",
       "    </tr>\n",
       "    <tr>\n",
       "      <td>341621</td>\n",
       "      <td>-1</td>\n",
       "      <td>1.563781e-12</td>\n",
       "      <td>5.218427e-09</td>\n",
       "      <td>2.519190e-09</td>\n",
       "      <td>2.608958e-09</td>\n",
       "      <td>2.519190e-09</td>\n",
       "      <td>2.579727e-09</td>\n",
       "    </tr>\n",
       "    <tr>\n",
       "      <td>341622</td>\n",
       "      <td>-1</td>\n",
       "      <td>3.559499e-15</td>\n",
       "      <td>1.942084e-09</td>\n",
       "      <td>5.133855e-10</td>\n",
       "      <td>1.006348e-09</td>\n",
       "      <td>5.133855e-10</td>\n",
       "      <td>8.184911e-10</td>\n",
       "    </tr>\n",
       "    <tr>\n",
       "      <td>341623</td>\n",
       "      <td>-1</td>\n",
       "      <td>4.831699e-15</td>\n",
       "      <td>3.878532e-10</td>\n",
       "      <td>1.161661e-09</td>\n",
       "      <td>5.914180e-10</td>\n",
       "      <td>3.878532e-10</td>\n",
       "      <td>5.165065e-10</td>\n",
       "    </tr>\n",
       "    <tr>\n",
       "      <td>341624</td>\n",
       "      <td>-1</td>\n",
       "      <td>1.334042e-07</td>\n",
       "      <td>3.226664e-05</td>\n",
       "      <td>1.297484e-05</td>\n",
       "      <td>1.617416e-05</td>\n",
       "      <td>1.297484e-05</td>\n",
       "      <td>1.512496e-05</td>\n",
       "    </tr>\n",
       "    <tr>\n",
       "      <td>341625</td>\n",
       "      <td>-1</td>\n",
       "      <td>2.587234e-07</td>\n",
       "      <td>1.776141e-04</td>\n",
       "      <td>8.818205e-05</td>\n",
       "      <td>8.867874e-05</td>\n",
       "      <td>8.818205e-05</td>\n",
       "      <td>8.868495e-05</td>\n",
       "    </tr>\n",
       "  </tbody>\n",
       "</table>\n",
       "<p>1626 rows × 7 columns</p>\n",
       "</div>"
      ],
      "text/plain": [
       "        smishing    smishing_1    smishing_0    smishing_2           std  \\\n",
       "id                                                                         \n",
       "340000        -1  1.436012e-13  2.608289e-08  7.787214e-08  3.963686e-08   \n",
       "340001        -1  1.163827e-08  9.441819e-06  4.554039e-05  2.403089e-05   \n",
       "340002        -1  3.521593e-15  1.010951e-09  1.309541e-10  5.497812e-10   \n",
       "340003        -1  1.509995e-15  4.358846e-10  1.886413e-10  2.185971e-10   \n",
       "340004        -1  6.777843e-13  1.157533e-08  9.374517e-09  6.146611e-09   \n",
       "...          ...           ...           ...           ...           ...   \n",
       "341621        -1  1.563781e-12  5.218427e-09  2.519190e-09  2.608958e-09   \n",
       "341622        -1  3.559499e-15  1.942084e-09  5.133855e-10  1.006348e-09   \n",
       "341623        -1  4.831699e-15  3.878532e-10  1.161661e-09  5.914180e-10   \n",
       "341624        -1  1.334042e-07  3.226664e-05  1.297484e-05  1.617416e-05   \n",
       "341625        -1  2.587234e-07  1.776141e-04  8.818205e-05  8.867874e-05   \n",
       "\n",
       "              median          mean  \n",
       "id                                  \n",
       "340000  2.608289e-08  3.465173e-08  \n",
       "340001  9.441819e-06  1.833128e-05  \n",
       "340002  1.309541e-10  3.806361e-10  \n",
       "340003  1.886413e-10  2.081758e-10  \n",
       "340004  9.374517e-09  6.983508e-09  \n",
       "...              ...           ...  \n",
       "341621  2.519190e-09  2.579727e-09  \n",
       "341622  5.133855e-10  8.184911e-10  \n",
       "341623  3.878532e-10  5.165065e-10  \n",
       "341624  1.297484e-05  1.512496e-05  \n",
       "341625  8.818205e-05  8.868495e-05  \n",
       "\n",
       "[1626 rows x 7 columns]"
      ]
     },
     "execution_count": 66,
     "metadata": {},
     "output_type": "execute_result"
    }
   ],
   "source": [
    "dfs[3]"
   ]
  },
  {
   "cell_type": "code",
   "execution_count": null,
   "metadata": {},
   "outputs": [],
   "source": [
    "print(model_ts)\n",
    "df_submit['smishing'] = df_submit['median']\n",
    "df_submit[['smishing']].to_csv('submit/{}_lgb_median.csv'.format(model_ts), index=True)\n",
    "\n",
    "df_submit['smishing'] = df_submit['mean_n4']\n",
    "df_submit[['smishing']].to_csv('submit/{}_lgb_n4.csv'.format(model_ts), index=True)\n",
    "\n",
    "df_submit['smishing'] = df_submit['mean']\n",
    "df_submit[['smishing']].to_csv('submit/{}_lgb.csv'.format(model_ts), index=True)"
   ]
  },
  {
   "cell_type": "code",
   "execution_count": 55,
   "metadata": {
    "ExecuteTime": {
     "end_time": "2020-01-05T20:14:33.711453Z",
     "start_time": "2020-01-05T20:14:33.709076Z"
    }
   },
   "outputs": [],
   "source": [
    "dfs[3]"
   ]
  },
  {
   "cell_type": "code",
   "execution_count": 9,
   "metadata": {
    "ExecuteTime": {
     "end_time": "2020-01-04T21:00:36.906078Z",
     "start_time": "2020-01-04T21:00:36.880835Z"
    }
   },
   "outputs": [],
   "source": [
    "df9863 = pd.read_csv('submit/20200102/20200102T020750.csv', index_col=0)\n",
    "df9868 = pd.read_csv('submit/20200104/20200104T040724.csv', index_col=0)\n",
    "df98631 = pd.read_csv('submit/20200105T050745_lgb_no4.csv', index_col=0)\n",
    "\n",
    "df9868['smishing'] = (df9868['smishing'] + df9863['smishing']  + df98631['smishing'])  / 3\n",
    "df9868[['smishing']].to_csv('submit/e6.csv')"
   ]
  },
  {
   "cell_type": "markdown",
   "metadata": {},
   "source": [
    "#### e5 (987)"
   ]
  },
  {
   "cell_type": "code",
   "execution_count": 7,
   "metadata": {
    "ExecuteTime": {
     "end_time": "2020-01-04T20:22:01.848529Z",
     "start_time": "2020-01-04T20:22:01.841834Z"
    }
   },
   "outputs": [],
   "source": [
    "df985 = pd.read_csv('submit/20200104/20200104T055036.csv', index_col=0)\n",
    "df986 = pd.read_csv('submit/20200104/20200104T040724.csv', index_col=0)\n",
    "\n",
    "df985['smishing'] = (df985['smishing'] + df986['smishing'])  / 2\n",
    "df985[['smishing']].to_csv('submit/e5.csv')"
   ]
  },
  {
   "cell_type": "code",
   "execution_count": null,
   "metadata": {},
   "outputs": [],
   "source": []
  },
  {
   "cell_type": "code",
   "execution_count": 5,
   "metadata": {
    "ExecuteTime": {
     "end_time": "2020-01-04T20:20:10.849051Z",
     "start_time": "2020-01-04T20:20:10.836462Z"
    },
    "scrolled": true
   },
   "outputs": [],
   "source": [
    "df_rnn = pd.read_csv('submit/20200104/20200104T055036.csv', index_col=0)"
   ]
  },
  {
   "cell_type": "code",
   "execution_count": 3,
   "metadata": {
    "ExecuteTime": {
     "end_time": "2020-01-04T20:20:01.786983Z",
     "start_time": "2020-01-04T20:20:01.773651Z"
    }
   },
   "outputs": [],
   "source": [
    "df_rnn = pd.read_csv('submit/20200104/20200104T055036.csv', index_col=0)"
   ]
  },
  {
   "cell_type": "code",
   "execution_count": 16,
   "metadata": {
    "ExecuteTime": {
     "end_time": "2020-01-03T20:14:30.948724Z",
     "start_time": "2020-01-03T20:14:30.942764Z"
    }
   },
   "outputs": [
    {
     "name": "stdout",
     "output_type": "stream",
     "text": [
      "[3.5308403e-05] [0.999998]\n"
     ]
    },
    {
     "data": {
      "text/plain": [
       "array([4.46955892e-04, 3.08666076e-03, 7.12384748e-05, ...,\n",
       "       1.49740054e-04, 2.04987687e-03, 2.50399432e-03])"
      ]
     },
     "execution_count": 16,
     "metadata": {},
     "output_type": "execute_result"
    }
   ],
   "source": [
    "from sklearn.preprocessing import MinMaxScaler\n",
    "scaler_rnn = MinMaxScaler()\n",
    "\n",
    "scaler_rnn = scaler_rnn.fit(df_rnn[['smishing']].values)\n",
    "print(scaler_rnn.data_min_, scaler_rnn.data_max_)\n",
    "\n",
    "score_rnn = scaler_rnn.transform(df_rnn[['smishing']].values).reshape(1,-1)[0]\n",
    "score_rnn"
   ]
  },
  {
   "cell_type": "code",
   "execution_count": 19,
   "metadata": {
    "ExecuteTime": {
     "end_time": "2020-01-03T20:15:23.007721Z",
     "start_time": "2020-01-03T20:15:23.001515Z"
    }
   },
   "outputs": [
    {
     "name": "stdout",
     "output_type": "stream",
     "text": [
      "[3.75730502e-08] [0.99998889]\n"
     ]
    },
    {
     "data": {
      "text/plain": [
       "array([1.66474034e-06, 1.23235789e-03, 1.39443589e-07, ...,\n",
       "       2.66519766e-07, 1.09369138e-04, 3.90671637e-04])"
      ]
     },
     "execution_count": 19,
     "metadata": {},
     "output_type": "execute_result"
    }
   ],
   "source": [
    "scaler_lgb = MinMaxScaler()\n",
    "scaler_lgb = scaler_lgb.fit(df_lgb[['smishing']].values)\n",
    "print(scaler_lgb.data_min_, scaler_lgb.data_max_)\n",
    "\n",
    "score_lgb = scaler_lgb.transform(df_lgb[['smishing']].values).reshape(1,-1)[0]\n",
    "score_lgb"
   ]
  },
  {
   "cell_type": "code",
   "execution_count": 20,
   "metadata": {
    "ExecuteTime": {
     "end_time": "2020-01-03T20:15:43.209474Z",
     "start_time": "2020-01-03T20:15:43.206929Z"
    },
    "scrolled": true
   },
   "outputs": [],
   "source": [
    "df_lgb['smishing'] = (score_rnn + score_lgb)  / 2"
   ]
  },
  {
   "cell_type": "code",
   "execution_count": 22,
   "metadata": {
    "ExecuteTime": {
     "end_time": "2020-01-03T20:15:50.916066Z",
     "start_time": "2020-01-03T20:15:50.909429Z"
    }
   },
   "outputs": [
    {
     "data": {
      "text/html": [
       "<div>\n",
       "<style scoped>\n",
       "    .dataframe tbody tr th:only-of-type {\n",
       "        vertical-align: middle;\n",
       "    }\n",
       "\n",
       "    .dataframe tbody tr th {\n",
       "        vertical-align: top;\n",
       "    }\n",
       "\n",
       "    .dataframe thead th {\n",
       "        text-align: right;\n",
       "    }\n",
       "</style>\n",
       "<table border=\"1\" class=\"dataframe\">\n",
       "  <thead>\n",
       "    <tr style=\"text-align: right;\">\n",
       "      <th></th>\n",
       "      <th>smishing</th>\n",
       "    </tr>\n",
       "    <tr>\n",
       "      <th>id</th>\n",
       "      <th></th>\n",
       "    </tr>\n",
       "  </thead>\n",
       "  <tbody>\n",
       "    <tr>\n",
       "      <td>340000</td>\n",
       "      <td>0.000224</td>\n",
       "    </tr>\n",
       "    <tr>\n",
       "      <td>340001</td>\n",
       "      <td>0.002160</td>\n",
       "    </tr>\n",
       "    <tr>\n",
       "      <td>340002</td>\n",
       "      <td>0.000036</td>\n",
       "    </tr>\n",
       "    <tr>\n",
       "      <td>340003</td>\n",
       "      <td>0.000072</td>\n",
       "    </tr>\n",
       "    <tr>\n",
       "      <td>340004</td>\n",
       "      <td>0.000048</td>\n",
       "    </tr>\n",
       "    <tr>\n",
       "      <td>...</td>\n",
       "      <td>...</td>\n",
       "    </tr>\n",
       "    <tr>\n",
       "      <td>341621</td>\n",
       "      <td>0.000038</td>\n",
       "    </tr>\n",
       "    <tr>\n",
       "      <td>341622</td>\n",
       "      <td>0.000080</td>\n",
       "    </tr>\n",
       "    <tr>\n",
       "      <td>341623</td>\n",
       "      <td>0.000075</td>\n",
       "    </tr>\n",
       "    <tr>\n",
       "      <td>341624</td>\n",
       "      <td>0.001080</td>\n",
       "    </tr>\n",
       "    <tr>\n",
       "      <td>341625</td>\n",
       "      <td>0.001447</td>\n",
       "    </tr>\n",
       "  </tbody>\n",
       "</table>\n",
       "<p>1626 rows × 1 columns</p>\n",
       "</div>"
      ],
      "text/plain": [
       "        smishing\n",
       "id              \n",
       "340000  0.000224\n",
       "340001  0.002160\n",
       "340002  0.000036\n",
       "340003  0.000072\n",
       "340004  0.000048\n",
       "...          ...\n",
       "341621  0.000038\n",
       "341622  0.000080\n",
       "341623  0.000075\n",
       "341624  0.001080\n",
       "341625  0.001447\n",
       "\n",
       "[1626 rows x 1 columns]"
      ]
     },
     "execution_count": 22,
     "metadata": {},
     "output_type": "execute_result"
    }
   ],
   "source": [
    "df_lgb"
   ]
  },
  {
   "cell_type": "code",
   "execution_count": 23,
   "metadata": {
    "ExecuteTime": {
     "end_time": "2020-01-03T20:16:06.141425Z",
     "start_time": "2020-01-03T20:16:06.134233Z"
    }
   },
   "outputs": [],
   "source": [
    "df_lgb[['smishing']].to_csv('submit/e4.csv')"
   ]
  },
  {
   "cell_type": "code",
   "execution_count": null,
   "metadata": {},
   "outputs": [],
   "source": []
  }
 ],
 "metadata": {
  "kernelspec": {
   "display_name": "Python 3",
   "language": "python",
   "name": "python3"
  },
  "language_info": {
   "codemirror_mode": {
    "name": "ipython",
    "version": 3
   },
   "file_extension": ".py",
   "mimetype": "text/x-python",
   "name": "python",
   "nbconvert_exporter": "python",
   "pygments_lexer": "ipython3",
   "version": "3.7.4"
  },
  "toc": {
   "base_numbering": 1,
   "nav_menu": {},
   "number_sections": true,
   "sideBar": true,
   "skip_h1_title": false,
   "title_cell": "Table of Contents",
   "title_sidebar": "Contents",
   "toc_cell": false,
   "toc_position": {},
   "toc_section_display": true,
   "toc_window_display": false
  }
 },
 "nbformat": 4,
 "nbformat_minor": 2
}
