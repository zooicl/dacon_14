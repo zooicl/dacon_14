{
 "cells": [
  {
   "cell_type": "code",
   "execution_count": 1,
   "metadata": {
    "ExecuteTime": {
     "end_time": "2020-01-04T23:57:56.348360Z",
     "start_time": "2020-01-04T23:57:55.226384Z"
    },
    "colab": {
     "base_uri": "https://localhost:8080/",
     "height": 71
    },
    "colab_type": "code",
    "executionInfo": {
     "elapsed": 1590,
     "status": "ok",
     "timestamp": 1576286906380,
     "user": {
      "displayName": "주이클",
      "photoUrl": "https://lh3.googleusercontent.com/a-/AAuE7mCWVh4nvn9788qUddhoWTl5qQoYt0bzVMDlJWUumTg=s64",
      "userId": "02708070532256873610"
     },
     "user_tz": -540
    },
    "id": "U3xmRNtgpZwi",
    "outputId": "f6e95e03-5913-4a53-9ff3-1b6cde1b5a82"
   },
   "outputs": [
    {
     "name": "stderr",
     "output_type": "stream",
     "text": [
      "/home/aiden/anaconda3/lib/python3.7/site-packages/sklearn/externals/joblib/__init__.py:15: DeprecationWarning: sklearn.externals.joblib is deprecated in 0.21 and will be removed in 0.23. Please import this functionality directly from joblib, which can be installed with: pip install joblib. If this warning is raised when loading pickled models, you may need to re-serialize those models with scikit-learn 0.21+.\n",
      "  warnings.warn(msg, category=DeprecationWarning)\n"
     ]
    },
    {
     "name": "stdout",
     "output_type": "stream",
     "text": [
      "2.3.2\n",
      "1.3.1\n",
      "GeForce RTX 2070 SUPER\n",
      "True\n"
     ]
    },
    {
     "data": {
      "text/plain": [
       "device(type='cuda', index=0)"
      ]
     },
     "execution_count": 1,
     "metadata": {},
     "output_type": "execute_result"
    }
   ],
   "source": [
    "#!/usr/bin/env python\n",
    "# coding: utf-8\n",
    "get_ipython().run_line_magic('matplotlib', 'inline')\n",
    "import pandas as pd\n",
    "import time\n",
    "import numpy as np\n",
    "from datetime import datetime\n",
    "from sklearn.externals import joblib \n",
    "import os\n",
    "import glob\n",
    "from konlpy.tag import Mecab\n",
    "import lightgbm as lgb\n",
    "print(lgb.__version__)\n",
    "\n",
    "from sklearn import metrics\n",
    "from sklearn.preprocessing import MinMaxScaler\n",
    "from sklearn.externals import joblib \n",
    "from sklearn.model_selection import StratifiedKFold\n",
    "\n",
    "import gc\n",
    "\n",
    "from tqdm import tqdm_notebook\n",
    "\n",
    "import warnings\n",
    "warnings.filterwarnings(action='ignore')\n",
    "\n",
    "\n",
    "import torch\n",
    "print(torch.__version__)\n",
    "import torch.nn.functional as F\n",
    "from torch.utils.data import Dataset, DataLoader\n",
    "\n",
    "from torchsummary import summary\n",
    "\n",
    "from tools import eval_summary\n",
    "from tools import save_feature_importance\n",
    "\n",
    "print(torch.cuda.get_device_name(0))\n",
    "print(torch.cuda.is_available())\n",
    "\n",
    "device = torch.device(\"cuda:0\" if torch.cuda.is_available() else \"cpu\")\n",
    "# device = torch.device('cpu')\n",
    "device"
   ]
  },
  {
   "cell_type": "code",
   "execution_count": 42,
   "metadata": {
    "ExecuteTime": {
     "end_time": "2020-01-05T01:39:22.867172Z",
     "start_time": "2020-01-05T01:38:20.735790Z"
    }
   },
   "outputs": [
    {
     "name": "stdout",
     "output_type": "stream",
     "text": [
      "/home/aiden/src/dacon_14\n"
     ]
    }
   ],
   "source": [
    "print(os.getcwd())\n",
    "\n",
    "base_path = '.'\n",
    "\n",
    "# df_train = pd.read_csv(os.path.join(base_path , 'input/train.csv'), index_col=0)\n",
    "\n",
    "df_train = joblib.load('data/df_fea_1.pkl')"
   ]
  },
  {
   "cell_type": "code",
   "execution_count": 43,
   "metadata": {
    "ExecuteTime": {
     "end_time": "2020-01-05T01:39:23.171738Z",
     "start_time": "2020-01-05T01:39:22.868393Z"
    }
   },
   "outputs": [
    {
     "data": {
      "text/html": [
       "<div>\n",
       "<style scoped>\n",
       "    .dataframe tbody tr th:only-of-type {\n",
       "        vertical-align: middle;\n",
       "    }\n",
       "\n",
       "    .dataframe tbody tr th {\n",
       "        vertical-align: top;\n",
       "    }\n",
       "\n",
       "    .dataframe thead th {\n",
       "        text-align: right;\n",
       "    }\n",
       "</style>\n",
       "<table border=\"1\" class=\"dataframe\">\n",
       "  <thead>\n",
       "    <tr style=\"text-align: right;\">\n",
       "      <th></th>\n",
       "      <th>year_month</th>\n",
       "      <th>text</th>\n",
       "      <th>smishing</th>\n",
       "      <th>morphs</th>\n",
       "      <th>morphs_str</th>\n",
       "      <th>nouns</th>\n",
       "      <th>nouns_str</th>\n",
       "      <th>fea__EC</th>\n",
       "      <th>fea__EF</th>\n",
       "      <th>fea__EP</th>\n",
       "      <th>...</th>\n",
       "      <th>fea__VA</th>\n",
       "      <th>fea__VCN</th>\n",
       "      <th>fea__VCP</th>\n",
       "      <th>fea__VV</th>\n",
       "      <th>fea__VX</th>\n",
       "      <th>fea__XPN</th>\n",
       "      <th>fea__XR</th>\n",
       "      <th>fea__XSA</th>\n",
       "      <th>fea__XSN</th>\n",
       "      <th>fea__XSV</th>\n",
       "    </tr>\n",
       "    <tr>\n",
       "      <th>id</th>\n",
       "      <th></th>\n",
       "      <th></th>\n",
       "      <th></th>\n",
       "      <th></th>\n",
       "      <th></th>\n",
       "      <th></th>\n",
       "      <th></th>\n",
       "      <th></th>\n",
       "      <th></th>\n",
       "      <th></th>\n",
       "      <th></th>\n",
       "      <th></th>\n",
       "      <th></th>\n",
       "      <th></th>\n",
       "      <th></th>\n",
       "      <th></th>\n",
       "      <th></th>\n",
       "      <th></th>\n",
       "      <th></th>\n",
       "      <th></th>\n",
       "      <th></th>\n",
       "    </tr>\n",
       "  </thead>\n",
       "  <tbody>\n",
       "    <tr>\n",
       "      <td>0</td>\n",
       "      <td>2017-01</td>\n",
       "      <td>XXX은행성산XXX팀장입니다.행복한주말되세요</td>\n",
       "      <td>0</td>\n",
       "      <td>[XXX, 은, 행성, 산, XXX, 팀장, 입니다, ., 행복, 한, 주말, 되,...</td>\n",
       "      <td>XXX 은 행성 산 XXX 팀장 입니다 . 행복 한 주말 되 세요</td>\n",
       "      <td>[행성, 산, 팀장, 행복, 주말]</td>\n",
       "      <td>행성 산 팀장 행복 주말</td>\n",
       "      <td>0</td>\n",
       "      <td>2</td>\n",
       "      <td>1</td>\n",
       "      <td>...</td>\n",
       "      <td>0</td>\n",
       "      <td>0</td>\n",
       "      <td>1</td>\n",
       "      <td>0</td>\n",
       "      <td>0</td>\n",
       "      <td>0</td>\n",
       "      <td>0</td>\n",
       "      <td>1</td>\n",
       "      <td>0</td>\n",
       "      <td>1</td>\n",
       "    </tr>\n",
       "    <tr>\n",
       "      <td>1</td>\n",
       "      <td>2017-01</td>\n",
       "      <td>오늘도많이웃으시는하루시작하세요XXX은행 진월동VIP라운지 XXX올림</td>\n",
       "      <td>0</td>\n",
       "      <td>[오늘, 도, 많이, 웃, 으시, 는, 하루, 시작, 하, 세요, XXX, 은행, ...</td>\n",
       "      <td>오늘 도 많이 웃 으시 는 하루 시작 하 세요 XXX 은행 진월동 VIP 라운지 X...</td>\n",
       "      <td>[오늘, 하루, 시작, 은행, 진월동, 라운지]</td>\n",
       "      <td>오늘 하루 시작 은행 진월동 라운지</td>\n",
       "      <td>1</td>\n",
       "      <td>1</td>\n",
       "      <td>2</td>\n",
       "      <td>...</td>\n",
       "      <td>0</td>\n",
       "      <td>0</td>\n",
       "      <td>0</td>\n",
       "      <td>2</td>\n",
       "      <td>0</td>\n",
       "      <td>0</td>\n",
       "      <td>0</td>\n",
       "      <td>0</td>\n",
       "      <td>0</td>\n",
       "      <td>1</td>\n",
       "    </tr>\n",
       "    <tr>\n",
       "      <td>2</td>\n",
       "      <td>2017-01</td>\n",
       "      <td>안녕하십니까 고객님. XXX은행입니다.금일 납부하셔야 할 금액은 153600원 입니...</td>\n",
       "      <td>0</td>\n",
       "      <td>[안녕, 하, 십니까, 고객, 님, ., XXX, 은행, 입니다, ., 금일, 납부...</td>\n",
       "      <td>안녕 하 십니까 고객 님 . XXX 은행 입니다 . 금일 납부 하 셔야 할 금액 은...</td>\n",
       "      <td>[안녕, 고객, 은행, 금일, 납부, 금액, 원, 감사, 새해, 복, 은행, 옥포]</td>\n",
       "      <td>안녕 고객 은행 금일 납부 금액 원 감사 새해 복 은행 옥포</td>\n",
       "      <td>2</td>\n",
       "      <td>5</td>\n",
       "      <td>4</td>\n",
       "      <td>...</td>\n",
       "      <td>0</td>\n",
       "      <td>0</td>\n",
       "      <td>2</td>\n",
       "      <td>2</td>\n",
       "      <td>1</td>\n",
       "      <td>0</td>\n",
       "      <td>0</td>\n",
       "      <td>0</td>\n",
       "      <td>1</td>\n",
       "      <td>3</td>\n",
       "    </tr>\n",
       "    <tr>\n",
       "      <td>4</td>\n",
       "      <td>2017-01</td>\n",
       "      <td>XXX 고객님안녕하세요XXX은행 XXX지점입니다지난 한 해 동안 저희 XXX지점에 ...</td>\n",
       "      <td>0</td>\n",
       "      <td>[XXX, 고객, 님, 안녕, 하, 세요, XXX, 은행, XXX, 지점, 입니다,...</td>\n",
       "      <td>XXX 고객 님 안녕 하 세요 XXX 은행 XXX 지점 입니다 지난 한 해 동안 저...</td>\n",
       "      <td>[고객, 안녕, 은행, 지점, 해, 동안, 저희, 지점, 성원, 감사, 시작, 년,...</td>\n",
       "      <td>고객 안녕 은행 지점 해 동안 저희 지점 성원 감사 시작 년 소망 일 고객 가정 건...</td>\n",
       "      <td>1</td>\n",
       "      <td>5</td>\n",
       "      <td>5</td>\n",
       "      <td>...</td>\n",
       "      <td>0</td>\n",
       "      <td>0</td>\n",
       "      <td>1</td>\n",
       "      <td>7</td>\n",
       "      <td>1</td>\n",
       "      <td>0</td>\n",
       "      <td>0</td>\n",
       "      <td>2</td>\n",
       "      <td>2</td>\n",
       "      <td>4</td>\n",
       "    </tr>\n",
       "    <tr>\n",
       "      <td>5</td>\n",
       "      <td>2017-01</td>\n",
       "      <td>1월은 새로움이 가득XXX입니다.올 한해 더 많이행복한 한해되시길바랍니다</td>\n",
       "      <td>0</td>\n",
       "      <td>[1, 월, 은, 새로움, 이, 가득, XXX, 입니다, ., 올, 한, 해, 더,...</td>\n",
       "      <td>1 월 은 새로움 이 가득 XXX 입니다 . 올 한 해 더 많이 행복 한 한 해 되...</td>\n",
       "      <td>[월, 한, 행복, 해]</td>\n",
       "      <td>월 한 행복 해</td>\n",
       "      <td>2</td>\n",
       "      <td>1</td>\n",
       "      <td>1</td>\n",
       "      <td>...</td>\n",
       "      <td>1</td>\n",
       "      <td>0</td>\n",
       "      <td>1</td>\n",
       "      <td>1</td>\n",
       "      <td>0</td>\n",
       "      <td>0</td>\n",
       "      <td>0</td>\n",
       "      <td>1</td>\n",
       "      <td>0</td>\n",
       "      <td>2</td>\n",
       "    </tr>\n",
       "    <tr>\n",
       "      <td>...</td>\n",
       "      <td>...</td>\n",
       "      <td>...</td>\n",
       "      <td>...</td>\n",
       "      <td>...</td>\n",
       "      <td>...</td>\n",
       "      <td>...</td>\n",
       "      <td>...</td>\n",
       "      <td>...</td>\n",
       "      <td>...</td>\n",
       "      <td>...</td>\n",
       "      <td>...</td>\n",
       "      <td>...</td>\n",
       "      <td>...</td>\n",
       "      <td>...</td>\n",
       "      <td>...</td>\n",
       "      <td>...</td>\n",
       "      <td>...</td>\n",
       "      <td>...</td>\n",
       "      <td>...</td>\n",
       "      <td>...</td>\n",
       "      <td>...</td>\n",
       "    </tr>\n",
       "    <tr>\n",
       "      <td>341621</td>\n",
       "      <td>2019-04</td>\n",
       "      <td>(광고)XXX 고객님안녕하십니까!!고객님의 소중한 업무처리를 도와드린 kb창원중앙동...</td>\n",
       "      <td>-1</td>\n",
       "      <td>[(, 광고, ), XXX, 고객, 님, 안녕, 하, 십니까, !, !, 고객, 님...</td>\n",
       "      <td>( 광고 ) XXX 고객 님 안녕 하 십니까 ! ! 고객 님 의 소중 한 업무 처리...</td>\n",
       "      <td>[광고, 고객, 안녕, 고객, 업무, 처리, 창원, 중앙동, 지점, 계장, 업무, ...</td>\n",
       "      <td>광고 고객 안녕 고객 업무 처리 창원 중앙동 지점 계장 업무 처리 불편 아침 봄비 ...</td>\n",
       "      <td>7</td>\n",
       "      <td>8</td>\n",
       "      <td>8</td>\n",
       "      <td>...</td>\n",
       "      <td>2</td>\n",
       "      <td>0</td>\n",
       "      <td>1</td>\n",
       "      <td>13</td>\n",
       "      <td>1</td>\n",
       "      <td>0</td>\n",
       "      <td>1</td>\n",
       "      <td>3</td>\n",
       "      <td>3</td>\n",
       "      <td>2</td>\n",
       "    </tr>\n",
       "    <tr>\n",
       "      <td>341622</td>\n",
       "      <td>2019-04</td>\n",
       "      <td>고객님 항상 저희 지점을 거래해 주셔서 감사합니다  본점 서비스 설문 전화 받으시면...</td>\n",
       "      <td>-1</td>\n",
       "      <td>[고객, 님, 항상, 저희, 지점, 을, 거래, 해, 주, 셔서, 감사, 합니다, ...</td>\n",
       "      <td>고객 님 항상 저희 지점 을 거래 해 주 셔서 감사 합니다 본점 서비스 설문 전화 ...</td>\n",
       "      <td>[고객, 저희, 지점, 거래, 감사, 본점, 서비스, 설문, 전화, 동의, 부탁, ...</td>\n",
       "      <td>고객 저희 지점 거래 감사 본점 서비스 설문 전화 동의 부탁 오늘 하루 은행 호평</td>\n",
       "      <td>5</td>\n",
       "      <td>2</td>\n",
       "      <td>3</td>\n",
       "      <td>...</td>\n",
       "      <td>1</td>\n",
       "      <td>0</td>\n",
       "      <td>0</td>\n",
       "      <td>4</td>\n",
       "      <td>1</td>\n",
       "      <td>0</td>\n",
       "      <td>0</td>\n",
       "      <td>0</td>\n",
       "      <td>1</td>\n",
       "      <td>2</td>\n",
       "    </tr>\n",
       "    <tr>\n",
       "      <td>341623</td>\n",
       "      <td>2019-04</td>\n",
       "      <td>XXX 고객님 저희 XXX은행 XXX지점을 이용해주셔서 감사드립니다  이번주도 더 ...</td>\n",
       "      <td>-1</td>\n",
       "      <td>[XXX, 고객, 님, 저희, XXX, 은행, XXX, 지점, 을, 이용, 해, 주...</td>\n",
       "      <td>XXX 고객 님 저희 XXX 은행 XXX 지점 을 이용 해 주 셔서 감사 드립니다 ...</td>\n",
       "      <td>[고객, 저희, 은행, 지점, 이용, 감사, 이번, 주도, 행복, 시간, 기원, 은...</td>\n",
       "      <td>고객 저희 은행 지점 이용 감사 이번 주도 행복 시간 기원 은행 화정</td>\n",
       "      <td>5</td>\n",
       "      <td>1</td>\n",
       "      <td>2</td>\n",
       "      <td>...</td>\n",
       "      <td>1</td>\n",
       "      <td>0</td>\n",
       "      <td>0</td>\n",
       "      <td>3</td>\n",
       "      <td>1</td>\n",
       "      <td>0</td>\n",
       "      <td>0</td>\n",
       "      <td>1</td>\n",
       "      <td>2</td>\n",
       "      <td>2</td>\n",
       "    </tr>\n",
       "    <tr>\n",
       "      <td>341624</td>\n",
       "      <td>2019-04</td>\n",
       "      <td>(광고)알림 신청하면 매일 현금 100만원! XXX부동산 리브온지금 XXX부동산 리...</td>\n",
       "      <td>-1</td>\n",
       "      <td>[(, 광고, ), 알림, 신청, 하, 면, 매일, 현금, 100, 만, 원, !,...</td>\n",
       "      <td>( 광고 ) 알림 신청 하 면 매일 현금 100 만 원 ! XXX 부동산 리브 온 ...</td>\n",
       "      <td>[광고, 신청, 현금, 만, 원, 부동산, 리브, 지금, 부동산, 리브, 신청, 만...</td>\n",
       "      <td>광고 신청 현금 만 원 부동산 리브 지금 부동산 리브 신청 만 원 행운 매물 시세 ...</td>\n",
       "      <td>9</td>\n",
       "      <td>3</td>\n",
       "      <td>3</td>\n",
       "      <td>...</td>\n",
       "      <td>1</td>\n",
       "      <td>0</td>\n",
       "      <td>0</td>\n",
       "      <td>24</td>\n",
       "      <td>2</td>\n",
       "      <td>1</td>\n",
       "      <td>2</td>\n",
       "      <td>2</td>\n",
       "      <td>1</td>\n",
       "      <td>6</td>\n",
       "    </tr>\n",
       "    <tr>\n",
       "      <td>341625</td>\n",
       "      <td>2019-04</td>\n",
       "      <td>(광고) XXX 고객님 안녕하세요.XXX봉XXX점 XXX대리입니다. 군인연금수급권자...</td>\n",
       "      <td>-1</td>\n",
       "      <td>[(, 광고, ), XXX, 고객, 님, 안녕, 하, 세요, ., XXX, 봉, X...</td>\n",
       "      <td>( 광고 ) XXX 고객 님 안녕 하 세요 . XXX 봉 XXX 점 XXX 대리 입...</td>\n",
       "      <td>[광고, 고객, 안녕, 봉, 점, 대리, 군인, 연금, 수급, 대출, 상품, 출시,...</td>\n",
       "      <td>광고 고객 안녕 봉 점 대리 군인 연금 수급 대출 상품 출시 안내 군인 연금 수급 ...</td>\n",
       "      <td>7</td>\n",
       "      <td>8</td>\n",
       "      <td>2</td>\n",
       "      <td>...</td>\n",
       "      <td>0</td>\n",
       "      <td>0</td>\n",
       "      <td>2</td>\n",
       "      <td>5</td>\n",
       "      <td>1</td>\n",
       "      <td>0</td>\n",
       "      <td>0</td>\n",
       "      <td>2</td>\n",
       "      <td>6</td>\n",
       "      <td>6</td>\n",
       "    </tr>\n",
       "  </tbody>\n",
       "</table>\n",
       "<p>297571 rows × 51 columns</p>\n",
       "</div>"
      ],
      "text/plain": [
       "       year_month                                               text  \\\n",
       "id                                                                     \n",
       "0         2017-01                           XXX은행성산XXX팀장입니다.행복한주말되세요   \n",
       "1         2017-01              오늘도많이웃으시는하루시작하세요XXX은행 진월동VIP라운지 XXX올림   \n",
       "2         2017-01  안녕하십니까 고객님. XXX은행입니다.금일 납부하셔야 할 금액은 153600원 입니...   \n",
       "4         2017-01  XXX 고객님안녕하세요XXX은행 XXX지점입니다지난 한 해 동안 저희 XXX지점에 ...   \n",
       "5         2017-01           1월은 새로움이 가득XXX입니다.올 한해 더 많이행복한 한해되시길바랍니다   \n",
       "...           ...                                                ...   \n",
       "341621    2019-04  (광고)XXX 고객님안녕하십니까!!고객님의 소중한 업무처리를 도와드린 kb창원중앙동...   \n",
       "341622    2019-04  고객님 항상 저희 지점을 거래해 주셔서 감사합니다  본점 서비스 설문 전화 받으시면...   \n",
       "341623    2019-04  XXX 고객님 저희 XXX은행 XXX지점을 이용해주셔서 감사드립니다  이번주도 더 ...   \n",
       "341624    2019-04  (광고)알림 신청하면 매일 현금 100만원! XXX부동산 리브온지금 XXX부동산 리...   \n",
       "341625    2019-04  (광고) XXX 고객님 안녕하세요.XXX봉XXX점 XXX대리입니다. 군인연금수급권자...   \n",
       "\n",
       "        smishing                                             morphs  \\\n",
       "id                                                                    \n",
       "0              0  [XXX, 은, 행성, 산, XXX, 팀장, 입니다, ., 행복, 한, 주말, 되,...   \n",
       "1              0  [오늘, 도, 많이, 웃, 으시, 는, 하루, 시작, 하, 세요, XXX, 은행, ...   \n",
       "2              0  [안녕, 하, 십니까, 고객, 님, ., XXX, 은행, 입니다, ., 금일, 납부...   \n",
       "4              0  [XXX, 고객, 님, 안녕, 하, 세요, XXX, 은행, XXX, 지점, 입니다,...   \n",
       "5              0  [1, 월, 은, 새로움, 이, 가득, XXX, 입니다, ., 올, 한, 해, 더,...   \n",
       "...          ...                                                ...   \n",
       "341621        -1  [(, 광고, ), XXX, 고객, 님, 안녕, 하, 십니까, !, !, 고객, 님...   \n",
       "341622        -1  [고객, 님, 항상, 저희, 지점, 을, 거래, 해, 주, 셔서, 감사, 합니다, ...   \n",
       "341623        -1  [XXX, 고객, 님, 저희, XXX, 은행, XXX, 지점, 을, 이용, 해, 주...   \n",
       "341624        -1  [(, 광고, ), 알림, 신청, 하, 면, 매일, 현금, 100, 만, 원, !,...   \n",
       "341625        -1  [(, 광고, ), XXX, 고객, 님, 안녕, 하, 세요, ., XXX, 봉, X...   \n",
       "\n",
       "                                               morphs_str  \\\n",
       "id                                                          \n",
       "0                    XXX 은 행성 산 XXX 팀장 입니다 . 행복 한 주말 되 세요   \n",
       "1       오늘 도 많이 웃 으시 는 하루 시작 하 세요 XXX 은행 진월동 VIP 라운지 X...   \n",
       "2       안녕 하 십니까 고객 님 . XXX 은행 입니다 . 금일 납부 하 셔야 할 금액 은...   \n",
       "4       XXX 고객 님 안녕 하 세요 XXX 은행 XXX 지점 입니다 지난 한 해 동안 저...   \n",
       "5       1 월 은 새로움 이 가득 XXX 입니다 . 올 한 해 더 많이 행복 한 한 해 되...   \n",
       "...                                                   ...   \n",
       "341621  ( 광고 ) XXX 고객 님 안녕 하 십니까 ! ! 고객 님 의 소중 한 업무 처리...   \n",
       "341622  고객 님 항상 저희 지점 을 거래 해 주 셔서 감사 합니다 본점 서비스 설문 전화 ...   \n",
       "341623  XXX 고객 님 저희 XXX 은행 XXX 지점 을 이용 해 주 셔서 감사 드립니다 ...   \n",
       "341624  ( 광고 ) 알림 신청 하 면 매일 현금 100 만 원 ! XXX 부동산 리브 온 ...   \n",
       "341625  ( 광고 ) XXX 고객 님 안녕 하 세요 . XXX 봉 XXX 점 XXX 대리 입...   \n",
       "\n",
       "                                                    nouns  \\\n",
       "id                                                          \n",
       "0                                     [행성, 산, 팀장, 행복, 주말]   \n",
       "1                              [오늘, 하루, 시작, 은행, 진월동, 라운지]   \n",
       "2          [안녕, 고객, 은행, 금일, 납부, 금액, 원, 감사, 새해, 복, 은행, 옥포]   \n",
       "4       [고객, 안녕, 은행, 지점, 해, 동안, 저희, 지점, 성원, 감사, 시작, 년,...   \n",
       "5                                           [월, 한, 행복, 해]   \n",
       "...                                                   ...   \n",
       "341621  [광고, 고객, 안녕, 고객, 업무, 처리, 창원, 중앙동, 지점, 계장, 업무, ...   \n",
       "341622  [고객, 저희, 지점, 거래, 감사, 본점, 서비스, 설문, 전화, 동의, 부탁, ...   \n",
       "341623  [고객, 저희, 은행, 지점, 이용, 감사, 이번, 주도, 행복, 시간, 기원, 은...   \n",
       "341624  [광고, 신청, 현금, 만, 원, 부동산, 리브, 지금, 부동산, 리브, 신청, 만...   \n",
       "341625  [광고, 고객, 안녕, 봉, 점, 대리, 군인, 연금, 수급, 대출, 상품, 출시,...   \n",
       "\n",
       "                                                nouns_str  fea__EC  fea__EF  \\\n",
       "id                                                                            \n",
       "0                                           행성 산 팀장 행복 주말        0        2   \n",
       "1                                     오늘 하루 시작 은행 진월동 라운지        1        1   \n",
       "2                       안녕 고객 은행 금일 납부 금액 원 감사 새해 복 은행 옥포        2        5   \n",
       "4       고객 안녕 은행 지점 해 동안 저희 지점 성원 감사 시작 년 소망 일 고객 가정 건...        1        5   \n",
       "5                                                월 한 행복 해        2        1   \n",
       "...                                                   ...      ...      ...   \n",
       "341621  광고 고객 안녕 고객 업무 처리 창원 중앙동 지점 계장 업무 처리 불편 아침 봄비 ...        7        8   \n",
       "341622      고객 저희 지점 거래 감사 본점 서비스 설문 전화 동의 부탁 오늘 하루 은행 호평        5        2   \n",
       "341623             고객 저희 은행 지점 이용 감사 이번 주도 행복 시간 기원 은행 화정        5        1   \n",
       "341624  광고 신청 현금 만 원 부동산 리브 지금 부동산 리브 신청 만 원 행운 매물 시세 ...        9        3   \n",
       "341625  광고 고객 안녕 봉 점 대리 군인 연금 수급 대출 상품 출시 안내 군인 연금 수급 ...        7        8   \n",
       "\n",
       "        fea__EP  ...  fea__VA  fea__VCN  fea__VCP  fea__VV  fea__VX  fea__XPN  \\\n",
       "id               ...                                                            \n",
       "0             1  ...        0         0         1        0        0         0   \n",
       "1             2  ...        0         0         0        2        0         0   \n",
       "2             4  ...        0         0         2        2        1         0   \n",
       "4             5  ...        0         0         1        7        1         0   \n",
       "5             1  ...        1         0         1        1        0         0   \n",
       "...         ...  ...      ...       ...       ...      ...      ...       ...   \n",
       "341621        8  ...        2         0         1       13        1         0   \n",
       "341622        3  ...        1         0         0        4        1         0   \n",
       "341623        2  ...        1         0         0        3        1         0   \n",
       "341624        3  ...        1         0         0       24        2         1   \n",
       "341625        2  ...        0         0         2        5        1         0   \n",
       "\n",
       "        fea__XR  fea__XSA  fea__XSN  fea__XSV  \n",
       "id                                             \n",
       "0             0         1         0         1  \n",
       "1             0         0         0         1  \n",
       "2             0         0         1         3  \n",
       "4             0         2         2         4  \n",
       "5             0         1         0         2  \n",
       "...         ...       ...       ...       ...  \n",
       "341621        1         3         3         2  \n",
       "341622        0         0         1         2  \n",
       "341623        0         1         2         2  \n",
       "341624        2         2         1         6  \n",
       "341625        0         2         6         6  \n",
       "\n",
       "[297571 rows x 51 columns]"
      ]
     },
     "execution_count": 43,
     "metadata": {},
     "output_type": "execute_result"
    }
   ],
   "source": [
    "df_train"
   ]
  },
  {
   "cell_type": "code",
   "execution_count": 3,
   "metadata": {
    "ExecuteTime": {
     "end_time": "2020-01-04T23:58:11.540003Z",
     "start_time": "2020-01-04T23:58:11.537779Z"
    },
    "colab": {
     "base_uri": "https://localhost:8080/",
     "height": 1000
    },
    "colab_type": "code",
    "executionInfo": {
     "elapsed": 185838,
     "status": "ok",
     "timestamp": 1576287091046,
     "user": {
      "displayName": "주이클",
      "photoUrl": "https://lh3.googleusercontent.com/a-/AAuE7mCWVh4nvn9788qUddhoWTl5qQoYt0bzVMDlJWUumTg=s64",
      "userId": "02708070532256873610"
     },
     "user_tz": -540
    },
    "id": "QOi9dYzqpZxV",
    "outputId": "9ceb7e20-059e-4946-934e-ab85c98dca56",
    "scrolled": true
   },
   "outputs": [
    {
     "name": "stdout",
     "output_type": "stream",
     "text": [
      "295945\n"
     ]
    }
   ],
   "source": [
    "train_size = len(df_train)\n",
    "print(train_size)\n",
    "\n",
    "# cat_cols = []\n",
    "# fea_cols = tfidf_cols + cat_cols + cnt_cols\n",
    "# fea_cols = cnt_cols + cat_cols\n",
    "# fea_cols = tfidf_cols + cat_cols\n",
    "# len(fea_cols)"
   ]
  },
  {
   "cell_type": "code",
   "execution_count": 28,
   "metadata": {
    "ExecuteTime": {
     "end_time": "2020-01-05T00:27:44.151907Z",
     "start_time": "2020-01-05T00:27:44.117938Z"
    }
   },
   "outputs": [],
   "source": [
    "df_train = df_train.reset_index()"
   ]
  },
  {
   "cell_type": "markdown",
   "metadata": {},
   "source": [
    "#### Params"
   ]
  },
  {
   "cell_type": "code",
   "execution_count": null,
   "metadata": {
    "ExecuteTime": {
     "end_time": "2020-01-04T23:22:32.313526Z",
     "start_time": "2020-01-04T23:22:32.309793Z"
    },
    "colab": {
     "base_uri": "https://localhost:8080/",
     "height": 51
    },
    "colab_type": "code",
    "executionInfo": {
     "elapsed": 187149,
     "status": "ok",
     "timestamp": 1576287092380,
     "user": {
      "displayName": "주이클",
      "photoUrl": "https://lh3.googleusercontent.com/a-/AAuE7mCWVh4nvn9788qUddhoWTl5qQoYt0bzVMDlJWUumTg=s64",
      "userId": "02708070532256873610"
     },
     "user_tz": -540
    },
    "id": "LCEEOdJK4__q",
    "outputId": "24fb71a8-e639-43d1-b476-d617adfff1e7"
   },
   "outputs": [],
   "source": [
    "from sklearn.model_selection import train_test_split\n",
    "from sklearn.model_selection import StratifiedKFold\n",
    "\n",
    "\n"
   ]
  },
  {
   "cell_type": "markdown",
   "metadata": {},
   "source": [
    "#### Train"
   ]
  },
  {
   "cell_type": "code",
   "execution_count": 21,
   "metadata": {
    "ExecuteTime": {
     "end_time": "2020-01-05T00:26:11.538654Z",
     "start_time": "2020-01-05T00:26:11.427307Z"
    }
   },
   "outputs": [
    {
     "data": {
      "application/vnd.jupyter.widget-view+json": {
       "model_id": "2f41fff9d13a4904b2844498754715ce",
       "version_major": 2,
       "version_minor": 0
      },
      "text/plain": [
       "HBox(children=(IntProgress(value=0, description='CV', max=5, style=ProgressStyle(description_width='initial'))…"
      ]
     },
     "metadata": {},
     "output_type": "display_data"
    },
    {
     "name": "stdout",
     "output_type": "stream",
     "text": [
      "\n"
     ]
    }
   ],
   "source": [
    "fold5 = {}\n",
    "n_splits = 5\n",
    "skf = StratifiedKFold(n_splits=n_splits, random_state=8405)\n",
    "i = 0\n",
    "for train_index, valid_index in tqdm_notebook(skf.split(df_train.values, df_train['smishing'].values), total=n_splits, desc = 'CV'):\n",
    "#     print(train_index)\n",
    "    fold5[i] = valid_index\n",
    "    i += 1\n",
    "\n"
   ]
  },
  {
   "cell_type": "code",
   "execution_count": 22,
   "metadata": {
    "ExecuteTime": {
     "end_time": "2020-01-05T00:26:11.794070Z",
     "start_time": "2020-01-05T00:26:11.691615Z"
    },
    "scrolled": false
   },
   "outputs": [
    {
     "data": {
      "application/vnd.jupyter.widget-view+json": {
       "model_id": "97fc1fe2ec674a36b9e332b5b8683f28",
       "version_major": 2,
       "version_minor": 0
      },
      "text/plain": [
       "HBox(children=(IntProgress(value=0, description='CV', max=8, style=ProgressStyle(description_width='initial'))…"
      ]
     },
     "metadata": {},
     "output_type": "display_data"
    },
    {
     "name": "stdout",
     "output_type": "stream",
     "text": [
      "\n"
     ]
    }
   ],
   "source": [
    "fold8 = {}\n",
    "n_splits = 8\n",
    "skf = StratifiedKFold(n_splits=n_splits, random_state=8405)\n",
    "i = 0\n",
    "for train_index, valid_index in tqdm_notebook(skf.split(df_train.values, df_train['smishing'].values), total=n_splits, desc = 'CV'):\n",
    "#     print(train_index)\n",
    "    fold8[i] = valid_index\n",
    "    i += 1\n",
    "\n"
   ]
  },
  {
   "cell_type": "code",
   "execution_count": 23,
   "metadata": {
    "ExecuteTime": {
     "end_time": "2020-01-05T00:26:12.223136Z",
     "start_time": "2020-01-05T00:26:12.099732Z"
    }
   },
   "outputs": [
    {
     "data": {
      "application/vnd.jupyter.widget-view+json": {
       "model_id": "ab5c8a446d75451fa73cd64849a8ede6",
       "version_major": 2,
       "version_minor": 0
      },
      "text/plain": [
       "HBox(children=(IntProgress(value=0, description='CV', max=16, style=ProgressStyle(description_width='initial')…"
      ]
     },
     "metadata": {},
     "output_type": "display_data"
    },
    {
     "name": "stdout",
     "output_type": "stream",
     "text": [
      "\n"
     ]
    }
   ],
   "source": [
    "fold16 = {}\n",
    "n_splits = 16\n",
    "skf = StratifiedKFold(n_splits=n_splits, random_state=8405)\n",
    "i = 0\n",
    "for train_index, valid_index in tqdm_notebook(skf.split(df_train.values, df_train['smishing'].values), total=n_splits, desc = 'CV'):\n",
    "#     print(train_index)\n",
    "    fold16[i] = valid_index\n",
    "    i += 1\n",
    "\n"
   ]
  },
  {
   "cell_type": "code",
   "execution_count": 38,
   "metadata": {
    "ExecuteTime": {
     "end_time": "2020-01-05T00:47:13.891653Z",
     "start_time": "2020-01-05T00:47:13.723597Z"
    }
   },
   "outputs": [
    {
     "data": {
      "application/vnd.jupyter.widget-view+json": {
       "model_id": "bdc96e72792141669465d69ecdac5221",
       "version_major": 2,
       "version_minor": 0
      },
      "text/plain": [
       "HBox(children=(IntProgress(value=0, description='CV', max=32, style=ProgressStyle(description_width='initial')…"
      ]
     },
     "metadata": {},
     "output_type": "display_data"
    },
    {
     "name": "stdout",
     "output_type": "stream",
     "text": [
      "\n"
     ]
    }
   ],
   "source": [
    "fold32 = {}\n",
    "n_splits = 32\n",
    "skf = StratifiedKFold(n_splits=n_splits, random_state=8405)\n",
    "i = 0\n",
    "for train_index, valid_index in tqdm_notebook(skf.split(df_train.values, df_train['smishing'].values), total=n_splits, desc = 'CV'):\n",
    "#     print(train_index)\n",
    "    fold32[i] = valid_index\n",
    "    i += 1\n",
    "\n"
   ]
  },
  {
   "cell_type": "code",
   "execution_count": null,
   "metadata": {},
   "outputs": [],
   "source": []
  },
  {
   "cell_type": "code",
   "execution_count": 15,
   "metadata": {
    "ExecuteTime": {
     "end_time": "2020-01-05T00:02:09.208759Z",
     "start_time": "2020-01-05T00:02:09.194078Z"
    }
   },
   "outputs": [
    {
     "data": {
      "text/plain": [
       "59188"
      ]
     },
     "execution_count": 15,
     "metadata": {},
     "output_type": "execute_result"
    }
   ],
   "source": [
    "len(set(fold5[4]))"
   ]
  },
  {
   "cell_type": "code",
   "execution_count": 17,
   "metadata": {
    "ExecuteTime": {
     "end_time": "2020-01-05T00:02:59.503074Z",
     "start_time": "2020-01-05T00:02:59.484135Z"
    }
   },
   "outputs": [
    {
     "data": {
      "text/plain": [
       "3701"
      ]
     },
     "execution_count": 17,
     "metadata": {},
     "output_type": "execute_result"
    }
   ],
   "source": [
    "len(set(fold5[4]) & set(fold8[12]))"
   ]
  },
  {
   "cell_type": "code",
   "execution_count": 18,
   "metadata": {
    "ExecuteTime": {
     "end_time": "2020-01-05T00:03:06.044459Z",
     "start_time": "2020-01-05T00:03:06.028973Z"
    }
   },
   "outputs": [
    {
     "data": {
      "text/plain": [
       "18496"
      ]
     },
     "execution_count": 18,
     "metadata": {},
     "output_type": "execute_result"
    }
   ],
   "source": [
    "len(set(fold5[4]) & set(fold8[13]))"
   ]
  },
  {
   "cell_type": "code",
   "execution_count": 25,
   "metadata": {
    "ExecuteTime": {
     "end_time": "2020-01-05T00:26:32.353423Z",
     "start_time": "2020-01-05T00:26:32.339011Z"
    }
   },
   "outputs": [
    {
     "data": {
      "text/plain": [
       "18496"
      ]
     },
     "execution_count": 25,
     "metadata": {},
     "output_type": "execute_result"
    }
   ],
   "source": [
    "len(set(fold8[7]) & set(fold16[14]))"
   ]
  },
  {
   "cell_type": "code",
   "execution_count": 20,
   "metadata": {
    "ExecuteTime": {
     "end_time": "2020-01-05T00:03:17.415236Z",
     "start_time": "2020-01-05T00:03:17.397312Z"
    }
   },
   "outputs": [
    {
     "data": {
      "text/plain": [
       "18495"
      ]
     },
     "execution_count": 20,
     "metadata": {},
     "output_type": "execute_result"
    }
   ],
   "source": [
    "len(set(fold5[4]) & set(fold8[15]))"
   ]
  },
  {
   "cell_type": "code",
   "execution_count": 41,
   "metadata": {
    "ExecuteTime": {
     "end_time": "2020-01-05T00:47:56.185222Z",
     "start_time": "2020-01-05T00:47:56.176220Z"
    }
   },
   "outputs": [
    {
     "data": {
      "text/plain": [
       "9246"
      ]
     },
     "execution_count": 41,
     "metadata": {},
     "output_type": "execute_result"
    }
   ],
   "source": [
    "len(set(fold16[14]) & set(fold32[29]))"
   ]
  },
  {
   "cell_type": "code",
   "execution_count": 37,
   "metadata": {
    "ExecuteTime": {
     "end_time": "2020-01-05T00:34:41.449460Z",
     "start_time": "2020-01-05T00:34:41.428685Z"
    },
    "scrolled": false
   },
   "outputs": [
    {
     "name": "stdout",
     "output_type": "stream",
     "text": [
      "nrB59OO147MMS SPAM Report Message정확하고 올바른 신용대출 당사상품의 자격기준과 심사기준이 변동되어 상품에 대해 고객님께 간단하게 상품정보를 전달드립니다. XXX은행 대출상품안내 1. 직장인신용대출 한도: 1억3000만원 금리: 연 3.25% 자격: XXX은행 자체등급과 기업리스트에 따라 차등적용. 2. 채무통합전환대출 한도: 연봉대비250% 금리: 연 3.45% 자격: XXX은행 자체등급과 기업리스트에 따라 차등적용. 3. 홀씨 한도: 2500만원. 금리: 연 8.68%12% 자격: 연소득 4500만원 이하 고객대상으로 XXX은행 자체등급에 따라 차등적용. XXX은행 상품의 특징 1. 당사 거래가 전혀 없어도 대출가능. 2. 시중은행보다 높은 한도. 3. 자체등급으로 판단하므로 저신용자도 대출가능. 4. 부채가 많다면 부채통합상품으로 전환가능. 5. 원리금균등방식을 이자만 납입하는 만기일시로 전환가능. 6. 가상조회를 통해 한도 및 금리를 한번에 확인가능. 이런분들께 권해드립니다. 1. 이미 시중은행권에서 대출한도를 모두 사용중이신분. 2. 기대출의 원리금균등방식으로 인해 월납입금액이 부담스러우신분. 3. 총 대출금액은 작으나 대출건수가 많아서 관리가 안되시는분. 4. 이제라도 대출로 인한 신용등급 관리 및 상승에 관심이 있으신분. 신용에 대한 기본적인 상식과 지식을 알아야 하는 시대입니다. 최소한의 지식을 본인이 알아야 금전적 손해를 보는 일이 없습니다. 신청방법:상담 또는 00시 00분 상담이라고 답장을 보내주시거나 전화를 주시면 친절하고 안전한 상담으로 도움드리겠습니다. 수신을 희망하지 않으실 경우에는 거부 라는 답장을 주시면 수신거부 목록에 등록을 시켜 두번 다시 발송되지 않도록 조치를 취해드리겠습니다.무료거부 XXX-XXX-XXX제목없음 \n",
      "\n",
      "XXX정확하고 올바른 신용대출당사상품의 자격기준과 심사기준이 완화되어 상품에 대해 고객님께 간단하게 상품정보를 전달드립니다.5분이내 빠른 대출가능여부확인 XXX 대출상품안내1. 직장인신용대출한도: 1억4000만원금리: 연 3.97%자격: XXX 자체등급과 기업리스트에 따라 차등적용.2. 채무통합전환대출한도: 연봉대비250%금리: 연 3.97%자격: XXX 자체등급과 기업리스트에 따라 차등적용.3. 홀씨한도: 2500만원.금리: 연 8.68%12%자격: 연소득 4000만원 이하 고객대상으로 XXX 자체등급에 따라 차등적용.XXX 상품의 특징1. 당사 거래가 전혀 없어도 대출가능.2. 시중은행보다 높은 한도.3. 자체등급으로 판단하므로 저신용자도 대출가능.4. 부채가 많다면 부채통합상품으로 전환가능.5. 원리금균등방식을 이자만 납입하는 만기일시로 전환가능.6. 가상조회를 통해 한도 및 금리를 한번에 확인가능.이런분들께 권해드립니다.1. 이미 시중은행권에서 대출한도를 모두 사용중이신분2. 기대출의 원리금균등방식으로 인해 월납입금액이 부담스러우신분.3. 총 대출금액은 작으나 대출건수가 많아서 관리가 안되시는분.4. 이제라도 대출로 인한 신용등급 관리 및 상승에 관심이 있으신분.2018년에는 모든 금융사가 대출 한도를 줄이고 신용등급 을 엄격하게 심사합니다 현제 대출 건수나 카드론 현금 서비스 과다 고객 분 들은 미리 대비하시고 등급관리 를 하시기 바랍니다.신용에 대한 기본적인 상식과 지식을 알아야 하는 시대입니다. 최소한의 지식을 본인이 알아야 금전적 손해를 보는 일이 없습니다.신청방법: 상담 또는 00시 00분 상담이라고 답장을 보내주시거나 전화를 주시면 친절하고 안전한 상담으로 도움드리겠습니다.수신을 희망하지 않으실 경우에는 거부 라는 답장을 주시면 수신거부 목록에 등록을 시켜 두번 다시 발송되지 않도록 조치를 취안녕하세요 \n",
      "\n",
      "안녕하세요현존하는 XXX 최고한도1억!!페퍼XXX에서XXX고객님분들 개인신용 상담및 실행업무를 맡고있는  개인 신용 담당 XXX팀장 입니다. 무분별한 금융사 사칭과 금융보이스피싱을 조심하길 항상기도드리며 행여 바쁜업무에 불편드릴까봐 메세지로 연락드립니다. 메세지를 보내드리는 이유는 다름이 아니라 현재 2금융권 신용을 보유중이시거나 자금이 필요하신데 주거래은행에서 더이상 한도가 발생하지 않으시다면 아래 내용을 꼭 읽어봐 주시길 권유드립니다. 2금융권에서 고금리 신용을 보유중이신 분들을 위해 은행권전환과 추가한도를 위하여 페퍼XXX 직장인 신용상품을 출시하였습니다. 최근 조건이 상당수 많은부분 완화되어 안내해 드립니다타사 XXX XXX 대부업채까지도 가능확인만뜨면 모두 합하여 통합 상품도있습니다-직장인신용상품-1.급여소득자전문직대상 (급여대상자 모두)2.최저 6.9%부터 (연체기록이 과다하지 않다면 가능)3.최대1억4천 급여의 최대 21배까지 가능 4.연봉대비 부채(채무)율이 높으셔도 가능합니다 원리금 상환방식을 이자만 내는 만기일시 상품으로 전환가능. 매달내는 원리금이 부담되시거나고금리를이용중이라면 자신있게 권해드립니다 현재 은행권에서 가장 완화된 조건의 신용대출입니다. 5.신청방법:언제나 전화 주시면 친절하게 상담해 드리겠습니다 가능조회는 신용등급에 전혀 영향을 주지 않습니다. 모바일가조회로 가능여부를 먼저 확인 가능하시며항상 정직XXX 고객님의 힘이되는 페퍼XXX 이 되도록 노력하겠습니다. 위 문자는 당행과 상담하셨고 상품서비스 안내등에 동의하셨던 분들을 대상으로 한하여 보내고 있습니다. 혹시 당행거래와 관련이 전혀 없으실 경우 번호오기로 인한 오류가 있을수 있으며 잘못된 수신안녕하세요 현... \n",
      "\n",
      "안녕하세요 페XXX은행 입니다.고금리 대출 XXX드리는 상품 홍보차 연락을 드리게 되었으며 바쁜업무에 지장드릴까봐 메세지로 연락드립니다.현재 고금리 대출상품을 보유하고 계시고 추가자금이 필요하시면 채무통합과 추가한도 발생을 위하여 아래 내용을 꼭 읽어봐 주시길 권유드립니다.1.직장인(4대보험 가입자)1-1. 프리랜서 6개월이상  사업자 가능2.금리 최저 6.9%19.9% (개인 신용에 따라 상이)3.1억까지 가능 (대환포함  개인 신용에 따라 상이)4.연봉대비 DTI 200% 이내 진행 가능.5.고금리 및 타금융을 저희은행으로 대환 및 통합해드립니다. 매달내는 상환금이 부담되시거나 고금리를 이용중이라면 자신있게 권해드립니다6.신청방법:언제나 전화 주시면 친절하게 상담해 드리겠습니다.대출 가능조회는 신용등급에 영향을 주지 않습니다. 항상 정직XXX 고객님께 힘이되는 상담사가 되도록 노력하겠습니다. 위 문자는 당 상담사와 상담하셨고 상품서비스 안내등에 동의하셨던 분들을 대상으로 한하여 보내고 있습니다.혹시 당 상담사와 와 관련이 전혀 없으실 경우번호오기로 인한 오류가 있을수 있으며잘못된 수신을 받으셨거나 수신을 원하지 않으실 경우 거부 문자 남겨주시면 조치해 드리도록 하겠습니다.안녕하세요 페XXX... \n",
      "\n",
      "XXX금융소비자 질문 TOP31. 가상조회는 신용등급에 영향이 없나요?소정의 점수는 차감이 되지만 등급이 하락할 정도로 영향이 있는 것은 아닙니다.2. 카드 장기 단기 대출이 신용에 안 좋은 건가요?카드업 권은 할부금융사이기 때문에 신용평가사에서 안 좋게 반영됩니다.3. 연체가 없어도 신용등급이 떨어지나요?신용등급 기준은 연체뿐만 아니라 채무 내용과 카드사용 등등이 반영되기 때문에 한가지 내용으로 판단할 수 없습니다.상담신청은 문자로 상담이라고 회신을 해주시거나 전화를 주시면 최선을 다해 도와드릴 것을 약속합니다.XXX 대출상품 안내1. 직장인 신용대출한도: 1억 4000만금리: 2.97%자격: XXX 자체 등급과 기업 리스트에 따라 차등 적용.2. 채무통합 전환대출한도: 연봉 대비 300%금리: 2.97%자격: XXX 자체 등급과 기업 리스트에 따라 차등 적용.3. 희망홀씨한도: 2500만 원.금리: 8.68%12%자격: 연 소득 4000만 원 이하 고객 대상으로 자체등급에 따라 차등적용.XXX 상품의 특징1. 당사 거래가 전혀 없어도 대출 가능.2. 시중은행보다 높은 한도.3. 자체 등급으로 판단하므로 저신용자도 대출 가능.4. 부채가 많다면 부채 통합상품으로 전환 가능.5. 원리금 균등방식을 이자만 내는 만기일시로 전환 가능.6. 가상 조회를 통해 한도 및 금리를 한 번에 확인 가능.이런 분들께 권해드립니다.1. 이미 시중 은행권에서 대출한도를 모두 사용 중이신 분.2. 기존대출의 원리금 균등방식으로 인해 월납입금액이 부담스러우신 분.3. 총대출금액은 적으나 대출 건수가 많아서 관리가 안 되는 분.4. 이제라도 대출로 인한 신용등급 관리 및 상승에 관심이 있으신 분.상담신청은 문자로 상담이라고 회신을 해주시거나 전화를 주시면 최선을 다해 도와드릴 것을 약속합니다.수신을 희망하지 않으실 경우에는 거부라는 답장을 주시면 수신 거부 목록에 등록을 시켜 두 번 다시 발송되지 않도록 조치를 해드리겠습니다.무료수신거부 XXX-XXX-XXX제목없음 \n",
      "\n",
      "(주)XXX 채권수임사 중앙신XXX입니다 연락바랍니다.XX-XXX-XXX \n",
      "\n",
      "-XXX 안내-항상 XXX을 이용해주셔서 감사합니다.2018년 하반기 정부지원조건이 변경되어 안내드립니다.고금리시대에 저 금리로 대출을 이용하실수있는 기회입니다. 놓치지 마시고 모두 혜택 받으시기 바랍니다. XXX에서 판매하는특별기획상품입니다.지금 신청하셔서생활의 여유를 만들어 보세요.자격조건1.만20세65세까지2.직장인사업자전문직종사자3.최근부결자다중채무자가능(단연체이력자는 불가)상품조건1. 17 등급2.기존이용금액 많아도 가능!!3.최저조건 4.59%부터4.최대 1억원까지!상품내용1.다중채무를 하나로 통합하실 분2.월 납입금 70%이상 절감효과가 있습니다!!3.채무통합으로 인해 신용등급이 상향조정됩니다!!4.건수 통합으로 관리가 편해집니다5.고금리를 저금리로 전환하여 삶의 여유가 생깁니다우선혜택1.현재 금리상승 및 대출규제로 인해  신청자가 많습니다!!2.금일신청시 우선진행가능!!3.최근 승인지급금 대폭상승!!4.한도소진시까지 전폭적   진행합니다!!  채무통합 추가자금 필요하신분  지금 서둘러 신청하세요!은행권대환추가자금XXX 수탁법인신청방법전화주시거나 부재중일시 상담가능시간 문자예약 보내주시면 상담가능합니다서민의 희망을 키워가는 금융!대한민국의 더 든든한 내일을 만들어갑니다.번호의 오류나 전산의 실수가 있을수 있사오니 양해 부탁드립니다XXX \n",
      "\n",
      "LGU XXX청구월: 2018년11월고객명: XXX고객번호 - XXX-XXX-XXX서비스번호 - 070-32-2931       이용기간 - 2018.10.012018.10.31XXX 작성 기준일 : 2018년 11월 06일----------------------------------------------청구요금 상세보기  cv.uplus.kr180.html----------------------------------------------요금청구내역 U인터넷전화 요금 : 13000원   월정액 : 13000원 부가가치세 : 1300원이번달 요금 계(A) : 14300원미납 요금 계(B): 0원----------------------------------------------청구금액(AB): 14300원----------------------------------------------()표시 항목은 부가가치세가 포함된 요금으로 XXX에는 별도로 표기하지 않습니다.납부정보납입기한: 2018.11.30납부방법: 신용카드금융기관: 삼성카드계좌카드번호 - XX-XXX-XXXXXX고객님만의 가상 계좌 XXX XXX-XXX-XXX03 XXX XXX-XXX-XXX36 XXX XXX-XXX-XXX75 XXX XXX-XXX-XXX91 월요일은 통화량이 많아 고객센터 연결이 지연될 수 있으니 고객센터 문의 시 참고 부탁드립니다. 2018년 11월 30일 이후 납부하는 경우 다음달 요금에 연체가산금 260원이 추가됩니다.김태님 LG U XXX \n",
      "\n",
      "한국XXX은행금전을 요구하는건 사기 입니다. 유의하세요!1.부득이하게 높은 이자를 내고 있는 분2.월 불입금을 줄이고 하시는 분3.건수를 줄여 신용등급을 올리고 싶으신 분4.복잡한 부채를 하나로 묶어 관리하고자 하는 분수신을 원치 않으신분들이라면 거부라는 답장을 주시면 다시는 발송되지않습니다.기존 높은금리에서 저금리로 금리전환하는걸 대환이라 하죠 이렇게 높은금리에서 저금리로 갈아타면 금리차이로 인해 이자가 절약됩니다.여기서 포인트는 바로 금리차이! 대환상품은 기존보다 낮은 금리로 갈아타는것이 매우 중요합니다.빚테크의 시작 대환을 통해 이자절감 받으세요부채통합(대환)안내대상- 1년이상 재직중인 직장인금리- 최저 3%차등적용한도- 연봉대비 250%까지 한도발생자격조건- 직장인이라면 누구나 가능 단 연체자는 불가합니다.원리금균등방식을 이자로 내는 방식으로 전환하여 월 최대 불입금을 최고 85%까지 줄일수 있습니다.최근 6개월간 연체사실만 없다면 누구나 진행이 가능하며 카드론현금서비스가 잦은 분들도 가능합니다.신용등급이 7등급XXX 분들중 건수가 많아 통합을 하고싶거나 은행에서 더이상의 추가 진행이 안되는 분들께서 많이 문의를 주시고 있습니다. 문자상담 신청방법문자로상담이라고 답장을 주시거나 전화를 주시면 최선을 다해 도와드리겠습니다. XXX bank 직장인 안내1.대상- 직장인(공무원대기업외감일반기업)2.금리- 2.8%3.한도- 최대 1억4천만원까지 4.진행등급- 내부등급으로 확인(신용이 낮아도 가능)카톡 및 오픈채팅 신청방법 ID:  citi63  아이디 검색후 친구추가하시고 상담이라고 카톡주시면 됩니다. open.kakao.comosXDdPO1 (입장하셔서 문의 남겨 주세요)햇살론새희망홀씨안내최대 3000만원까지연 20%이상의 악성부채를 6개월 이상사용중인분연 10%대의 낮은금리로 진행XXX \n",
      "\n",
      "-XXX 안내-항상 XXX을 이용해주셔서 감사합니다.2018년 하반기 정부지원조건이 변경되어 안내드립니다.고금리시대에 저 금리로 대출을이용하실수있는 기회입니다.놓치지 마시고 모두 혜택 받으시기 바랍니다.XXX에서 판매하는특별기획상품입니다.지금 신청하셔서생활의 여유를 만들어 보세요.자격조건1.만20세65세까지2.직장인사업자전문직종사자3.최근부결자다중채무자가능(단연체이력자는 불가)상품조건1. 17 등급2.기존이용금액 많아도 가능!!3.최저조건 4.59%부터4.최대 1억원까지!상품내용1.다중채무를 하나로 통합하실 분2.월 납입금 70%이상 절감효과가 있습니다!!3.채무통합으로 인해 신용등급이 상향조정됩니다!!4.건수 통합으로 관리가 편해집니다5.고금리를 저금리로 전환하여 삶의 여유가 생깁니다우선혜택1.현재 금리상승 및 대출규제로 인해신청자가 많습니다!!2.금일신청시 우선진행가능!!3.최근 승인지급금 대폭상승!!4.한도소진시까지 전폭적진행합니다!!채무통합 추가자금 필요하신분지금 서둘러 신청하세요!은행권대환추가자금XXX 수탁법인신청방법전화주시거나 부재중일시 상담가능시간 문자예약 보내주시면 상담가능합니다서민의 희망을 키워가는 금융!대한민국의 더 든든한 내일을 만들어갑니다.번호의 오류나 전산의 실수가 있을수 있사오니 양해 부탁드립니다XXX \n",
      "\n",
      "안녕하십니XXX팀장입니다!!따분한 월요일오후에 인사드립니다강력한 정부정책으로 인해 내년부턴 금융상품들이 대폭 묶일예정입니다 추가자금(대환등)필요시 꼭 올해안에 신청하세요!더불어 저희상품 안내드립니다 법인폰이라 송수신이 원활치 않을때가 많습니다.상XXX문자주시면 원하시는 시간에 맞춰 전화드리겠습니다2018 XXX 신용상품 안내- 전국 광역시 진행가능!- 최대한도 : 1억5천- 최저금리 : 3.92%- 상환방식 : 최대 10년까지 원리금  만기일시- 공무원 우량기업 추가우대금리및 퇴직금담보 대환까지 가능2018 XXX은행 신용상품안내- 도서산간 지역 포함 전국가능!- 최대한도 : 1억3천- 최저금리 : 3.91%- 상환방식 : 최대 5년까지 만기일시원리금  Tip : XXX XXX 카드론 현금서비스 대환과 더불어 추가한도를 받으시기에 가장 좋은 상품입니다   상식밖의 저금리는 없습니다. 다만 현재 상황에서 가장 좋은 조건을 찾아드리겠습니다. 언제나 정상영업만을 고집하는 13년차 베테랑 상담사가 대기중입니다  취급가능상품 XXX XXX은행 XXX 전북은행 햇살론 사잇돌 취급가능! XXX : 애큐온한국JTBNKDGB아주XXXOK롯데하나XXX XXX : 페퍼XXXHK친애현대JT아주참대신동원제일XXX한국투자 대부업 : 산와러시태강유니바로 등 모든 대부업 기부채 전액대환상품! (통대환) 상담 아파트 담보(은행 XXX XXX) 후순위 담보 오토론(차량담보최대7천) 무설정아파트론 임대아파트 보증금담보 본 메세지는 기존상담고객께만 발신합니다만 번호변경 혹은 수신을 원치않을시 답장만 주시면 즉시 수신거부 처리하겠습니다. (변경전 번호를주시면 확실하게 거부처리됩니다)휴대폰요금 아끼시고 문자주시면 요청시간에 제가 전화드리겠습니다  통화원제목없음 \n",
      "\n",
      "XXX11월 당사상품의 자격기준과 심사기준이 완화되어 상품에 대해 고객님께 간단하게 상품정보를 전달드립니다.XXX 대출상품안내1. 직장인신용대출한도: 1억4000만원까지금리: 최저 4.97%자격: XXX 자체등급과 기업리스트에 따라 차등적용.2. 채무통합전환대출한도: 연봉대비300%까지(종합적인 판단으로 차등적용)금리: 최저 4.97%자격: XXX 자체등급과 기업리스트에 따라 차등적용.만약 잘못 받은 대출때문에 고민이시거나 매월 나가는 이자를 아끼고 싶다면 주저하지 마세요! 기회는 항상 열려 있습니다.XXX 상품의 특징1. 당사 거래가 전혀 없어도 대출가능.2. 시중은행보다 높은 한도.3. 자체등급으로 판단하므로 저신용자도 대출가능.4. 부채가 많다면 부채통합상품으로 전환가능.5. 원리금균등방식을 이자만 납입하는 만기일시로 전환가능.6. 가상조회를 통해 한도 및 금리를 한번에 확인가능.신용에 대한 기본적인 상식과 지식을 알아야 하는 시대입니다. 최소한의 지식을 본인이 알아야 금전적 손해를 보는 일이 없습니다.이런분들께 권해드립니다.1. 이미 시중은행권에서 대출한도를 모두 사용중이신분.2. 기대출의 원리금균등방식으로 인해 월납입금액이 부담스러우신분.3. 총 대출금액은 작으나 대출건수가 많아서 관리가 안되시는분.4. 이제라도 대출로 인한 신용등급 관리 및 상승에 관심이 있으신분.상담을 원하신다면 전화주시거나 상담이나 0000분 상담 이라고 답장을 해주시면 원하시는 시간에 맞춰 연락드리겠습니다. 수신을 희망하지 않으실 경우에는 거부라는 답장을 주시면 수신 거부 목록에 등록을 시켜 두 번 다시 발송되지 않도록 조치를 해드리겠습니다.수신거부 XXX-XXX-XXX제목없음 \n",
      "\n",
      "안녕하세요. XXX축은XXX팀장입니다.고금리 대출 XXX드리는 상품 홍보차 연락을 드리게 되었으며 바쁜업무에 지장드릴까봐 메세지로 연락드립니다.현재 고금리 대출상품을 보유하고 계시고 추가자금이 필요하시면 채무통합과 추가한도 발생을 위하여 아래 내용을 꼭 읽어봐 주시길 권유드립니다.11월 1일 기준으로 금융사 영업 방침으로 한도도 대폭 인상되었으며 기존보다 금리 인하도 가능하게 되었습니다. 많은 문의 부탁드립니다.XXX축은행 상품 특징1.직장인(4대보험 가입자)2.금리 최저 8.9% (개인 신용에 따라 상이)3.1억까지 가능 (개인 신용에 따라 상이)4.연봉대비 DTI 250% 이내 진행 가능.5.고금리 및 타금융을 저희은행으로 대환 및 통합해드립니다.6.신청방법:언제나 전화나 문자 주시면 친절하게 상담해 드리겠습니다.매달내는 상환금이 부담되시거나고금리를 이용중이라면 자신있게 권해드립니다대출 가능조회는 신용등급에 영향을 주지 않습니다.항상 정직XXX 고객님의 힘이되는 상담사가 되도록 노력하겠습니다.위 문자는 당 상담사와 상담하셨고 상품서비스 안내등에 동의하셨던 분들을 대상으로 한하여 보내고 있습니다.혹시 당 상담사와 와 관련이전혀 없으실 경우번호오기로 인한 오류가 있을수 있으며잘못된 수신을 받으셨거나 수신을 원하지 않으실 경우 거부 문자 남겨주시면 조치해 드리도록 하겠습니다.안녕하세요. XXX... \n",
      "\n",
      "안녕하세요 페XXX은행 입니다.고금리 대출 XXX드리는 상품 홍보차 연락을 드리게 되었으며 바쁜업무에 지장드릴까봐 메세지로 연락드립니다.현재 고금리 대출상품을 보유하고 계시고 추가자금이 필요하시면 채무통합과 추가한도 발생을 위하여 아래 내용을 꼭 읽어봐 주시길 권유드립니다.1.직장인(4대보험 가입자)1-1. 프리랜서 6개월이상  사업자 가능2.금리 최저 6.9%19.9% (개인 신용에 따라 상이)3.1억까지 가능 (대환포함  개인 신용에 따라 상이)4.연봉대비 DTI 250% 이내 진행 가능.5.고금리 및 타금융을 저희은행으로 대환 및 통합해드립니다. 매달내는 상환금이 부담되시거나 고금리를 이용중이라면 자신있게 권해드립니다6.신청방법:언제나 전화 주시면 친절하게 상담해 드리겠습니다.대출 가능조회는 신용등급에 영향을 주지 않습니다. 항상 정직XXX 고객님께 힘이되는 상담사가 되도록 노력하겠습니다. 위 문자는 당 상담사와 상담하셨고 상품서비스 안내등에 동의하셨던 분들을 대상으로 한하여 보내고 있습니다.혹시 당 상담사와 와 관련이 전혀 없으실 경우번호오기로 인한 오류가 있을수 있으며잘못된 수신을 받으셨거나 수신을 원하지 않으실 경우 거부 문자 남겨주시면 조치해 드리도록 하겠습니다.안녕하세요 페XXX... \n",
      "\n",
      "정확하고 올바른 신용대출2018년 하반기 당사상품의 자격기준과 심사기준이 완화되어 상품에 대해 고객님께 간단하게 상품정보를 안내드립니다.XXX 대출상품안내1. 직장인신용대출한도: 1억4000만원금리: 연 4.59%자격: XXX 자체등급과 기업리스트에 따라 차등적용.2. 채무통합전환대출한도: 연봉대비300%(단 직업군 연봉 소득대비 상환하는 수지율에따라 적용)금리: 연 4.59%자격: XXX 자체등급과 기업리스트에 따라 차등적용.3. 홀씨한도: 2500만원.금리: 연 8.68%12%자격: 연소득 4000만원 이하 고객대상으로 XXX국민 자체등급에 따라 차등적용.XXX 상품의 특징1. 당사 거래가 전혀 없어도 대출가능.2. 시중은행보다 높은 한도.3. 자체등급으로 판단하므로 저신용자도 대출가능.4. 부채가 많다면 부채통합상품으로 전환가능.5. 원리금균등방식을 이자만 납입하는 만기일시로 전환가능.6. 가상조회를 통해 한도 및 금리를 한번에 확인가능.이런분들께 권해드립니다.1. 이미 시중은행권에서 대출한도를 모두 사용중이신분.2. 기대출의 원리금균등방식으로 인해 월납입금액이 부담스러우신분.3. 총 대출금액은 작으나 대출건수가 많아서 관리가 안되시는분.4. 이제라도 대출로 인한 신용등급 관리 및 상승에 관심이 있으신분.신용에 대한 기본적인 상식과 지식을 알아야 하는 시대입니다. 최소한의 지식을 본인이 알아야 금전적 손해를 보는 일이 없습니다.최근 6개 월 연체이력 있을시 진행은 어렵습니다.신청방법:상담 또는 00시 00분 상담이라고 답장을 보내주시거나 전화를 주시면 친절하고 안전한 상담으로 도움드리겠습니다.수신을 희망하지 않으실 경우에는 거부 라는 답장을 주시면 수신거부 목록에 등록을 시켜 두번 다시 발송되지 않도록 조치를 취해드리겠습니다.무료수신거부 XXX-XXX-XXX \n",
      "\n",
      "XXX XXX안녕하세요메세지를 보내드린것은 다름이 아니라 2018년도 하반기 새롭게바뀐 직장인대상 가이드 안내차 보내드리며 메세지를 원치 않으시는 경우 거부문자시 신속히 조치를 취하도록 하겠습니다.XXX XXX대상 - 연소득 2천 이상금리 - 연 3.8% 기간 - 거치 만기상품으로 이자만 납입하시거나 5년분할상환 중 자유선택가능1 카드론2금융대출이 있으셔도 대환대출로 진행가능2 대출건수현금서비스 금액이 많아도 예외건으로 진행가능3 신용등급 17등급 진행가능많은 직장인분들이 바쁘셔서 혹은 시중은행 가계대출(신용대출)이 제한되면서 현금서비스 및 고금리의 2금융권상품(카드론XXX3금융)을 많이들 사용하고 계십니다XXX 고객님들을 낮은 금리의 전환대출 및 부채통합을 도와드리고 있습니다(분산된 부채 통합시 신용등급 상승 및 매월 내시는 불입금액에 대한 부담감소 이자비용의 절감)이자만 납입시)5000만원 신청시 매월 250417원으로 이용가능 합니다5년분할 납입시)5000만원 신청시 매월 966873원(원금이자)으로 이용가능 합니다이번 기회에 은행권 저금리상품으로 전환해 보시기 바랍니다홍보성 문자이나 필요한 한분 한분에게 도움이 되고자 합니다 신청방법상담 가능 시간.성함.으로 문자예약.또는 전화주시면 상담가능하십니다감사합니다.은행권대환 추가자금XXX XXX 수탁법인해당이 되지 않으시거나 거부를 원하시는 분들은 거부라고 회신하여 주신다면 재발송 않도록 하겠습니다 번호의 오류나 전산의 실수가 있을 수 있사오니 양해 부탁드립니다준법감시인 심의필 제2017-351호(2018.6.30)XXX XXX 안... \n",
      "\n",
      "(광문)XXX국민XXX 항상 (XXX국민XXX) 을 이용해주셔서 감사합니다. 2018년 11월 신상품이 출시되여서 안내드립니다. 낮은 금리로 정.부지원 상품을 이용 할수 있습니다. 고민하지 마시고 전화주세요. 신청접수상담  1833-8996 (내용) 신상품.출시안내 본상품은 서.민.지.원ㄷ ㅐ.출 로 정부에서 지원하고 XXX국민XXX 에서만 이용할수있는 상품입니다. 상품특징 1. 무담보! 무수수료! 2. 신용등급상관없이 3. 최대한도 8000 4. 최하금리 3% 5. 상환수수료 없이 자유롭게 상환가능! 6. 기존채무자 저금리전환가능 자격조건 1.만21세이상 2.직장인사업자프리랜서주부학생 3.최근부결자 다중채무자 가능 신청기간 11월30일마감. 접수자가 많으니 빠른신청 바랍니다. 신청방법 본 문자수신번호로 전화하셔서 1번 누르시고 금액을 입력하시면 접수완료 신청자가 많아 상담이 지연될수 있습니다. 양해부탁드립니다. 신청접수상담  1833-8996본 문자의 수신을 원치 않으시면 휴대폰에서 스팸차단을 하시던지 080무료수신거부번호로 수신거부하시기 바랍니다.무료수신거부XXX-XXX-XXX국민 저금리 신상품 출시안내입니다 \n",
      "\n",
      "페퍼 XXX안녕하세요11월을 맞이하여 당사상품의 자격기준과 심사기준이 완화되어 상품에 대해 고객님께 간단하게 상품정보를전달드립니다.수신을 희망하지 않으실 경우에는 거부 라는 답장을 주시면 KISA 수신거부 목록에 등록 시켜 두번 다시 발송되지 않도록 조치를 취해드리겠습니다.현재 타행상품을 보유 중이신데 1 금융권에 추가한도가 안나오시는경우2 금융권 상품을 이용 중이신데 월 불입금이 부담이되어 낮은금리로 상품변경이 필요하신 경우추가로 넉넉한 자금 한도가 필요하신 경우에 추천해 드리며 상품의 대한 가이드는 아래와 같습니다.대출 상품 안내1.직장인신용대출한도: 1억까지.금리: 최저 6.9%자격: 페퍼 XXX 은행 자체등급과 기업리스트에 따라 차등적용.2.채무통합전환대출한도: 연봉대비250%까지.금리: 최저 6.9%자격: 페퍼 XXX 은행 자체등급과 기업리스트에 따라 차등적용.상품의 특징1.당사 거래가 전혀 없어도 대출가능.2.시중은행보다 높은 한도.3.자체등급으로 판단하므로 저신용자도 대출가능.4.부채가 많다면 부채통합상품으로 전환가능.5.상환 방법을 이자만 납입하는 만기일시로 전환가능.6.신용조회 없이 가상 조회를 통해 한도 및 금리를 한번에 확인 가능.이런 분들께 권해드립니다.1.이미 시중은행권에서 대출한도를 모두 사용중이신분.2.기대출의 원리금균등방식으로 인해 월납입금액이 부담스러우신분.3.총 대출금액은 작으나 대출건수가 많아서 관리가 안되시는분.4.이제라도 대출로 인한 신용등급 관리 및 상승에 관심이 있으신분.신용에 대한 기본적인 상식과 지식을 알아야 하는 시대입니다.최소한의 지식을 본인이 알아야 금전적 손해를 보는 일이 없습니다.신청방법: 문자로 상담또는00시00분 상담이라고 답장을 보내주시거나 전화를 주시면 친절하고 안전한 상담으로 도움드리겠습니다.페퍼 XXX... \n",
      "\n",
      "XXX정확하고 올바른 신용대출2018년 하반기 당사상품의 자격기준과 심사기준이 완화되어 상품에 대해 고객님께 간단하게 상품정보를 안내드립니다.XXX 대출상품안내1. 직장인신용대출한도: 1억4000만원금리: 연 2.97%자격: XXX 자체등급과 기업리스트에 따라 차등적용.2. 채무통합전환대출한도: 연봉대비300%금리: 연 2.97%자격: XXX 자체등급과 기업리스트에 따라 차등적용.3. 홀씨한도: 2500만원.금리: 연 8.68%12%자격: 연소득 4000만원 이하 고객대상으로 XXX국민 자체등급에 따라 차등적용.XXX 상품의 특징1. 당사 거래가 전혀 없어도 대출가능.2. 시중은행보다 높은 한도.3. 자체등급으로 판단하므로 저신용자도 대출가능.4. 부채가 많다면 부채통합상품으로 전환가능.5. 원리금균등방식을 이자만 납입하는 만기일시로 전환가능.6. 가상조회를 통해 한도 및 금리를 한번에 확인가능.이런분들께 권해드립니다.1. 이미 시중은행권에서 대출한도를 모두 사용중이신분.2. 기대출의 원리금균등방식으로 인해 월납입금액이 부담스러우신분.3. 총 대출금액은 작으나 대출건수가 많아서 관리가 안되시는분.4. 이제라도 대출로 인한 신용등급 관리 및 상승에 관심이 있으신분.신용에 대한 기본적인 상식과 지식을 알아야 하는 시대입니다. 최소한의 지식을 본인이 알아야 금전적 손해를 보는 일이 없습니다.신청방법:상담 또는 00시 00분 상담이라고 답장을 보내주시거나 전화를 주시면 친절하고 안전한 상담으로 도움드리겠습니다.수신을 희망하지 않으실 경우에는 거부 라는 답장을 주시면 수신거부 목록에 등록을 시켜 두번 다시 발송되지 않도록 조치를 취해드리겠습니다.무료수신거부 XXX-XXX-XXX \n",
      "\n",
      "안녕하셨어요?오랫만에 문자로 인사드리네요.2012년 저희 XXX(구 XXX)에서 신용대출 받으실때 대출 도와드렸던 담당 직원 XXX 책임입니다.11월달도 하시는 모든 일 잘되시고 가족분들 모두 항상 건강하시길 기도하겠습니다.2018년 11월부로 당행 대출 상품이 대폭 완화되었습니다. 현재 대출이 많더라도 안된다고 생각치 마시고 편히 연락주십시요. 전화번호가 없으셨다면 하나 저장해두시고 나중에라도 편하게 연락주십시요.대출 진행시 예전처럼 다시 한번 방문드려서 친절히 상담드리겠습니다.당행에서 신규 대출 상품이 나와 간단히 안내만 드립니다.XXX 대출상품 특징1. 현재 당행 거래가 없어도 가능2. 연소득대비 최대 2.5배까지 가능3. 월 불입금이 많으셔서 부담되면 - 이자만 납입으로 전환 가능4. 신용등급 악영향주는 카드론  현금서비스를 은행으로 전환5. 고금리의 XXXXXX대부업 전환대출 가능직장인 신용대출-최저금리 : 3.22%-최대한도 : 1억5천만원-연소득의 2.5배까지 대출 가능고금리 대환대출 상품-신용등급에 안좋은 현금서비스 및 카드론 대환-고금리 XXX계열XXX대부업 대환 대출-여러 곳의 대출을 하나로 채무 통합하여 관리 매달 월불입금이 너무 많으셔서 힘드시거나 또는 이자만 내는 방식으로 전환을 원하시면 편히 전화 주십시요. 여러 건의 대출을 통합하길 원하시거나 한달 월불입금이 많으셔서 계속 현금서비스나 카드론 대출이 늘어난다고 생각이 드셔도 주저 없이 연락주시기 바랍니다. 특히 XXX이나 XXX 사금융권(대부업) 이용중이신 분들은 바로 연락부탁드립니다. 현재 - 2금융권이나 사금융권(대부업) 이용시 2030%대 정도 되는 금리를 10%대로 갈아타셔도 엄청난 이자 절감을 하실수 있습니다. 수신을 원치 않으시면 간단히 수신거부라 보내주시면 은행 전체에서 문자 발송을 금지하도록 처리하겠습니다.지금 필요하지 않으시다면 번호를 저장해두셨다가 필요시 편하게 전화주세요.언제나 건승하시고 가족분 모두의 건강을 함께 기도하겠습니다.XXX 개인대출본부 XXX 배상제목없음 \n",
      "\n",
      "(XXX고객님 안녕하세요다름이 아니라 메세지를 보내드리XXX 고객님들에게 도움을 드리고자해서 입니다2018년도 하반기 바뀐 XXX XXX 직장인대상 가이드 안내입니다이런 분들께 권해드립니다.1. 은행권에서 기존한도를 모두 사용 중이신 분.2. 기대출의 원리금 균등방식으로 인해 월 불입금액이 부담스러우신 분.(분산된 부채 통합시 신용등급 상승 및 매월 내시는 불입금액감소 이자비용의 절감)3. 총 채무금액은 작으나 채무건수가 많아서 관리가 안 되시는 분.(현금서비스 및 고금리의 2금융권상품(카드론XXX3금융)사용하고 계신분)XXX XXX의 특징1. 당행 거래가 없으셔도 진행가능.2. 시중은행권보다 높은 한도.3. 부채가 많다면 부채 통합상품으로 전환가능.XXX XXX 상품 안내대상 - 연소득 2천 이상금리: 최저 3.5%기간 - 거치 만기상품으로 이자만 납입하시거나 5년분할상환 중 자유선택가능신용등급 17등급 진행가능은행권대환 추가자금XXX 수탁법인결코 아직 늦지 않았다고 말씀드리겠습니다. 본인의 신용은 스스로 직접 관리해야 하는 시대입니다. 최소한의 지식과 상식은 알고 계셔야 금전적인 손해 보는 일이 없습니다.신청방법:문자로 상담 또는 00시 00분 상담이라고 답장을 보내주시거나 전화를 주시면 친절하고 안전한 상담으로 도움드리겠습니다.수신을 희망하지 않으실 경우에는 거부 라는 답장을 주시면 KISA 수신거부 목록에 등록을 시켜 두번 다시 발송되지 않도록 조치를 취해드리겠습니다.무료거부 XXX-XXX-XXX(XXX고객님 안녕하세요 \n",
      "\n",
      "안녕하세요 좀전에 XXX린 XXX입니다 추가 자금필요하시거나 기존고금리상품 대환가능하셔XXX주시면 친절히 상담드리겠습니다 오늘도 좋은하루 되세요안녕하세요 좀전에 XXX \n",
      "\n",
      "XXX2018년 하반기 채무통합(대환상품)추가상품 개편되어 안내드립니다.금년 부채통합및 낮은금리로 이용하실수있는 마지막 기회입니다.고민하지 마시고 전화주세요.상품특징원리금균등(원금이자)방식을 이자만내는 방식으로 전환신용등급 7등급이내의 직장인부채과다로인해 추가진행이 어렵다면 통합해드리겠습니다연소득대비 최 대 300%이내가능 (단 직업군 연봉 소득대비 상환하는 수지율에따라 적용)최근 6개 월간 연체사실이 있다면 진행불가.카드론현금서비스 사용이 잦은 분들채무금액은 작으나 건수가 여러건으로 이용중인분들1가상조회로 한도금리를 한번에 알수 있습니다.2XXXXXX은행사금융등을 1금융권 으로 대환할 수 있습니다.3시중은행보다 높은 한도를 자부합니다.4꼭 주거래 은행이 아니라도 상관없이 진행가능합니다.내용금리최 저 4.59% 부터(기준금리가산금리)한도최 대 1억원까지(대환자금추가자금)조건만23세이상직장인개인사업자채무통합의 핵심포인트1.월 납입액 45%85% 감소및 이자금액 최 대 85%감소효과2.신용도를 최 대 등급 1등급까지 상승3.퍼져있는 부채를 13건으로 줄여 관리하기 편하게4.추가 자금이 필요할때 은행권으로 가능하실수 있게이런분들께 권해드립니다.1.이미 시중은행권에서 대출한도를 모두 사용중이신분.2.기대출의 원리금균등방식으로 인해 월납입금액이 부담스러우신분.3.총 대출금액은 작으나 대출건수가 많아서 관리가 안되시는분.4.이제라도 대출로 인한 신용등급 관리 및 상승에 관심이 있으신분.신청방법전화주시거나 부재중일시 상담가능시간 문자예약 보내주시면 상담가능합니다감사합니다.은행권대환 추가자금XXX 수탁법인해당이 되지 않으시거나 거부를 원하시는 분들은 거부라고 회신하여 주신다면 재발송 않도록 하겠습니다.번호의 오류나 전산의 실수가 있을수 있사오니 양해 부탁드립니다.무료수신거부 XXX-XXX-XXX \n",
      "\n",
      "XXX정확하고 올바른 신용대출당사상품의 자격기준과 심사기준이 완화되어 상품에 대해 고객님께 간단하게 상품정보를 전달드립니다.5분이내 빠른 대출가능여부확인  XXX 대출상품안내1. 직장인신용대출한도: 1억4000만원금리: 연 3.97%자격: XXX 자체등급과 기업리스트에 따라 차등적용.2. 채무통합전환대출한도: 연봉대비250%금리: 연 3.97%자격: XXX 자체등급과 기업리스트에 따라 차등적용.3. 홀씨한도: 2500만원.금리: 연 8.68%12%자격: 연소득 4000만원 이하 고객대상으로 XXX 자체등급에 따라 차등적용.XXX 상품의 특징1. 당사 거래가 전혀 없어도 대출가능.2. 시중은행보다 높은 한도.3. 자체등급으로 판단하므로 저신용자도 대출가능.4. 부채가 많다면 부채통합상품으로 전환가능.5. 원리금균등방식을 이자만 납입하는 만기일시로 전환가능.6. 가상조회를 통해 한도 및 금리를 한번에 확인가능.이런분들께 권해드립니다.1. 이미 시중은행권에서 대출한도를 모두 사용중이신분2. 기대출의 원리금균등방식으로 인해 월납입금액이 부담스러우신분.3. 총 대출금액은 작으나 대출건수가 많아서 관리가 안되시는분.4. 이제라도 대출로 인한 신용등급 관리 및 상승에 관심이 있으신분.2018년에는 모든 금융사가 대출 한도를 줄이고 신용등급 을 엄격하게 심사합니다 현제 대출 건수나 카드론 현금 서비스 과다 고객 분 들은 미리 대비하시고 등급관리 를 하시기 바랍니다.신용에 대한 기본적인 상식과 지식을 알아야 하는 시대입니다. 최소한의 지식을 본인이 알아야 금전적 손해를 보는 일이 없습니다.신청방법: 상담 또는 00시 00분 상담이라고 답장을 보내주시거나 전화를 주시면 친절하고 안전한 상담으로 도움드리겠습니다.수신을 희망하지 않으실 경우에는 거부 라는 답장을 주시면 수신거부 목록에 등록을 시켜 두번 다시 발송되지안녕하세요 \n",
      "\n",
      "-XXX 안내-항상 XXX을 이용해주셔서 감사합니다.2018년 하반기 정부지원조건이 변경되어 안내드립니다.고금리시대에 저 금리로 대출을 이용하실수있는 기회입니다. 놓치지 마시고 모두 혜택 받으시기 바랍니다. XXX에서 판매하는특별기획상품입니다.지금 신청하셔서생활의 여유를 만들어 보세요.자격조건1.만20세65세까지2.직장인사업자전문직종사자3.최근부결자다중채무자가능(단연체이력자는 불가)상품조건1. 17 등급2.기존이용금액 많아도 가능!!3.최저조건 4.59%부터4.최대 1억원까지!상품내용1.다중채무를 하나로 통합하실 분2.월 납입금 70%이상 절감효과가 있습니다!!3.채무통합으로 인해 신용등급이 상향조정됩니다!!4.건수 통합으로 관리가 편해집니다5.고금리를 저금리로 전환하여 삶의 여유가 생깁니다우선혜택1.현재 금리상승 및 대출규제로 인해  신청자가 많습니다!!2.금일신청시 우선진행가능!!3.최근 승인지급금 대폭상승!!4.한도소진시까지 전폭적   진행합니다!!  채무통합 추가자금 필요하신분  지금 서둘러 신청하세요!은행권대환추가자금XXX 수탁법인신청방법전화주시거나 부재중일시 상담가능시간 문자예약 보내주시면 상담가능합니다서민의 희망을 키워가는 금융!대한민국의 더 든든한 내일을 만들어갑니다.번호의 오류나 전산의 실수가 있을수 있사오니 양해 부탁드립니다제목없음 \n",
      "\n",
      "안녕하세요XXX축은행 수탁법인에서 기존 고객분들 개인 신용 상담 및 실행 업무를 맡고있는 XXX 팀장입니다. 항상 건강하시고 행복한 일들 가득하시길 기원합니다. 메세지를 보내드리는 이유는 다름이 아니라 당사 중금리 상품 가이드가 완화되어2금융권에서 고금리 신용을 보유 중이신 분들을 위해 은행권 전환과 추가한도를 위하여 XXX축은행 직장인 신용상품을 출시하였습니다. 연말 총량제 가동 전에 마지막 저금리 대환의 기회이니 많은 관심 부탁드립니다 !-직장인 신용 상품- 1.급여 소득자 전문직 대상 (급여 대상자 모두)2.최저 6.9%부터 3.최대1억  4.연봉대비 부채(채무)율이 높으셔도 가능원리금 상환방식을 이자만 내는 만기일시 상품으로 전환 가능 매달 내는 원리금이 부담 되시거나 고금리를 이용 중이라면 자신있게 권해드립니다 현재 은행권에서 가장 완화된 조건의 신용대출입니다. 신청방법: 전화나 문자로 상담 남겨 주시면 친절하게 상담해 드리겠습니다 신용조회 없이 가능 여부를 먼저 확인 해 드리며 서류 접수시 온라인과 유선상으로접수진행 도와드립니다. 항상 정직하고XXX고객님의 힘이되는 상담사가 되도록 노력하겠습니다. 위 문자는 당행과 상담하셨고 상품서비스 안내 등에 동의하셨던 분들을 대상으로 보내고 있습니다. 혹시 당행 거래와 관련이 전혀 없으실 경우 번호 오기로 인한 오류가 있을수 있으며XXX잘못된 수신을 받으셨거나 수신을 원하지 않으실 경우 거부 문자 남겨주시면 조치해 드리도록 하겠습니다.담당자 : XXX 팀장좋은 기회에 도움이 되시면 좋겠습니다.감사합니다안녕하세요XXX... \n",
      "\n",
      "한국XXX은행금전을 요구하는건 사기 입니다. 유의하세요!1.부득이하게 높은 이자를 내고 있는 분2.월 불입금을 줄이고 하시는 분3.건수를 줄여 신용등급을 올리고 싶으신 분4.복잡한 부채를 하나로 묶어 관리하고자 하는 분수신을 원치 않으신분들이라면 거부라는 답장을 주시면 다시는 발송되지않습니다.기존 높은금리에서 저금리로 금리전환하는걸 대환이라 하죠 이렇게 높은금리에서 저금리로 갈아타면 금리차이로 인해 이자가 절약됩니다.여기서 포인트는 바로 금리차이! 대환상품은 기존보다 낮은 금리로 갈아타는것이 매우 중요합니다.빚테크의 시작 대환을 통해 이자절감 받으세요부채통합(대환)안내대상- 1년이상 재직중인 직장인금리- 최저 3%차등적용한도- 연봉대비 250%까지 한도발생자격조건- 직장인이라면 누구나 가능 단 연체자는 불가합니다.원리금균등방식을 이자로 내는 방식으로 전환하여 월 최대 불입금을 최고 85%까지 줄일수 있습니다.최근 6개월간 연체사실만 없다면 누구나 진행이 가능하며 카드론현금서비스가 잦은 분들도 가능합니다.신용등급이 7등급XXX 분들중 건수가 많아 통합을 하고싶거나 은행에서 더이상의 추가 진행이 안되는 분들께서 많이 문의를 주시고 있습니다. 문자상담 신청방법문자로상담이라고 답장을 주시거나 전화를 주시면 최선을 다해 도와드리겠습니다. XXX bank 직장인 안내1.대상- 직장인(공무원대기업외감일반기업)2.금리- 2.8%3.한도- 최대 1억4천만원까지 4.진행등급- 내부등급으로 확인(신용이 낮아도 가능)카톡 및 오픈채팅 신청방법 ID:  citi57  아이디 검색후 친구추가하시고 상담이라고 카톡주시면 됩니다. open.kakao.comosRnzTO1 (입장하셔서 문의 남겨 주세요)햇살론새희망홀씨안내최대 3000만원까지연 20%이상의 악성부채를 6개월 이상사용중인분연 10%대의 낮은금리로 진행XXX \n",
      "\n",
      "XXX2018년 하반기 채무통합(대환상품)추가상품 개편되어 안내드립니다.금년 부채통합및 낮은금리로 이용하실수있는 마지막 기회입니다.고민하지 마시고 전화주세요.상품특징원리금균등(원금이자)방식을 이자만내는 방식으로 전환신용등급 7등급이내의 직장인부채과다로인해 추가진행이 어렵다면 통합해드리겠습니다연소득대비 최 대 300%이내가능 (단 직업군 연봉 소득대비 상환하는 수지율에따라 적용)최근 6개 월간 연체사실이 있다면 진행불가.카드론현금서비스 사용이 잦은 분들채무금액은 작으나 건수가 여러건으로 이용중인분들1가상조회로 한도금리를 한번에 알수 있습니다.2XXXXXX은행사금융등을 1금융권 으로 대환할 수 있습니다.3시중은행보다 높은 한도를 자부합니다.4꼭 주거래 은행이 아니라도 상관없이 진행가능합니다.내용금리최 저 4.59% 부터(기준금리가산금리)한도최 대 1억원까지(대환자금추가자금)조건만23세이상직장인개인사업자채무통합의 핵심포인트1.월 납입액 45%85% 감소및 이자금액 최 대 85%감소효과2.신용도를 최 대 등급 1등급까지 상승3.퍼져있는 부채를 13건으로 줄여 관리하기 편하게4.추가 자금이 필요할때 은행권으로 가능하실수 있게이런분들께 권해드립니다.1.이미 시중은행권에서 대출한도를 모두 사용중이신분.2.기대출의 원리금균등방식으로 인해 월납입금액이 부담스러우신분.3.총 대출금액은 작으나 대출건수가 많아서 관리가 안되시는분.4.이제라도 대출로 인한 신용등급 관리 및 상승에 관심이 있으신분.신청방법전화주시거나 부재중일시 상담가능시간 문자예약 보내주시면 상담가능합니다감사합니다.은행권대환 추가자금XXX 수탁법인해당이 되지 않으시거나 거부를 원하시는 분들은 거부라고 회신하여 주신다면 재발송 않도록 하겠습니다.번호의XXX \n",
      "\n",
      "XXX금융소비자 질문 TOP31. 가상조회는 신용등급에 영향이 없나요?소정의 점수는 차감이 되지만 등급이 하락할 정도로 영향이 있는 것은 아닙니다.2. 카드 장기 단기 대출이 신용에 안 좋은 건가요?카드업 권은 할부금융사이기 때문에 신용평가사에서 안 좋게 반영됩니다.3. 연체가 없어도 신용등급이 떨어지나요?신용등급 기준은 연체뿐만 아니라 채무 내용과 카드사용 등등이 반영되기 때문에 한가지 내용으로 판단할 수 없습니다.상담신청은 문자로 상담이라고 회신을 해주시거나 전화를 주시면 최선을 다해 도와드릴 것을 약속합니다.XXX 대출상품 안내1. 직장인 신용대출한도: 1억 4000만금리: 2.97%자격: XXX 자체 등급과 기업 리스트에 따라 차등 적용.2. 채무통합 전환대출한도: 연봉 대비 300%금리: 2.97%자격: XXX  자체 등급과 기업 리스트에 따라 차등 적용.3. 희망홀씨한도: 2500만 원.금리: 8.68%12%자격: 연 소득 4000만 원 이하 고객 대상으로 자체등급에 따라 차등적용.XXX 상품의 특징1. 당사 거래가 전혀 없어도 대출 가능.2. 시중은행보다 높은 한도.3. 자체 등급으로 판단하므로 저신용자도 대출 가능.4. 부채가 많다면 부채 통합상품으로 전환 가능.5. 원리금 균등방식을 이자만 내는 만기일시로 전환 가능.6. 가상 조회를 통해 한도 및 금리를 한 번에 확인 가능.이런 분들께 권해드립니다.1. 이미 시중 은행권에서 대출한도를 모두 사용 중이신 분.2. 기존대출의 원리금 균등방식으로 인해 월납입금액이 부담스러우신 분.3. 총대출금액은 적으나 대출 건수가 많아서 관리가 안 되는 분.4. 이제라도 대출로 인한 신용등급 관리 및 상승에 관심이 있으신 분.상담신청은 문자로 상담이라고 회신을 해주시거나 전화를 주시면 최선을 다해 도와드릴 것을 약속합니다.수신을 희망하지 않으실 경우제목없음 \n",
      "\n",
      "XXX정확하고 올바른 신용대출당사상품의 자격기준과 심사기준이 완화되어 상품에 대해 고객님께 간단하게 상품정보를 전달드립니다.5분이내 빠른 대출가능여부확인  XXX 대출상품안내1. 직장인신용대출한도: 1억4000만원금리: 연 3.97%자격: XXX 자체등급과 기업리스트에 따라 차등적용.2. 채무통합전환대출한도: 연봉대비250%금리: 연 3.97%자격: XXX 자체등급과 기업리스트에 따라 차등적용.3. 홀씨한도: 2500만원.금리: 연 8.68%12%자격: 연소득 4000만원 이하 고객대상으로 XXX 자체등급에 따라 차등적용.XXX 상품의 특징1. 당사 거래가 전혀 없어도 대출가능.2. 시중은행보다 높은 한도.3. 자체등급으로 판단하므로 저신용자도 대출가능.4. 부채가 많다면 부채통합상품으로 전환가능.5. 원리금균등방식을 이자만 납입하는 만기일시로 전환가능.6. 가상조회를 통해 한도 및 금리를 한번에 확인가능.이런분들께 권해드립니다.1. 이미 시중은행권에서 대출한도를 모두 사용중이신분2. 기대출의 원리금균등방식으로 인해 월납입금액이 부담스러우신분.3. 총 대출금액은 작으나 대출건수가 많아서 관리가 안되시는분.4. 이제라도 대출로 인한 신용등급 관리 및 상승에 관심이 있으신분.2018년에는 모든 금융사가 대출 한도를 줄이고 신용등급 을 엄격하게 심사합니다 현제 대출 건수나 카드론 현금 서비스 과다 고객 분 들은 미리 대비하시고 등급관리 를 하시기 바랍니다.신용에 대한 기본적인 상식과 지식을 알아야 하는 시대입니다. 최소한의 지식을 본인이 알아야 금전적 손해를 보는 일이 없습니다.신청방법: 상담 또는 00시 00분 상담이라고 답장을 보내주시거나 전화를 주시면 친절하고 안전한 상담으로 도움드리겠습니다.수신을 희망하지 않으실 경우에는 거부 라는 답장을 주시면 수신거부 목록에 등록을 시켜 두번 다시 발송되지안냥하세요 \n",
      "\n",
      "정확하고 올바른 신용대출 당사상품의 자격기준과 심사기준이 변동되어 상품에 대해 고객님께 간단하게 상품정보를 전달드립니다. XXX은행 대출상품안내 1. 직장인신용대출 한도: 1억3000만원 금리: 연 3.25% 자격: XXX은행 자체등급과 기업리스트에 따라 차등적용. 2. 채무통합전환대출 한도: 연봉대비250% 금리: 연 3.45% 자격: XXX은행 자체등급과 기업리스트에 따라 차등적용. 3. 홀씨 한도: 2500만원. 금리: 연 8.68%12% 자격: 연소득 4500만원 이하 고객대상으로 XXX은행 자체등급에 따라 차등적용. XXX은행 상품의 특징 1. 당사 거래가 전혀 없어도 대출가능. 2. 시중은행보다 높은 한도. 3. 자체등급으로 판단하므로 저신용자도 대출가능. 4. 부채가 많다면 부채통합상품으로 전환가능. 5. 원리금균등방식을 이자만 납입하는 만기일시로 전환가능. 6. 가상조회를 통해 한도 및 금리를 한번에 확인가능. 이런분들께 권해드립니다. 1. 이미 시중은행권에서 대출한도를 모두 사용중이신분. 2. 기대출의 원리금균등방식으로 인해 월납입금액이 부담스러우신분. 3. 총 대출금액은 작으나 대출건수가 많아서 관리가 안되시는분. 4. 이제라도 대출로 인한 신용등급 관리 및 상승에 관심이 있으신분. 신용에 대한 기본적인 상식과 지식을 알아야 하는 시대입니다. 최소한의 지식을 본인이 알아야 금전적 손해를 보는 일이 없습니다. 신청방법:상담 또는 00시 00분 상담이라고 답장을 보내주시거나 전화를 주시면 친절하고 안전한 상담으로 도움드리겠습니다. 수신을 희망하지 않으실 경우에는 거부 라는 답장을 주시면 수신거부 목록에 등록을 시켜 두번 다시 발송되지 않도록 조치를 취해드리겠습니다.무료거부 XXX-XXX-XXX제목없음 \n",
      "\n",
      "XXX XXX안녕하세요메XXX 보내드린것은 다름이 아니라 2018년도 하반기 새롭게바뀐 직장인대상 가이드 안내차보내드리며 메XXX 원치 않으시는 경우 거부문자시 신속히 조치를 취하도록 하겠습니다.XXX XXX대상 - 연소득 2천 이상금리 - 연 3.8% 기간 - 거치 만기상품으로 이자만 납입하시거나 5년분할상환 중 자유선택가능1 카드론2금융대출이 있으셔도 대환대출로 진행가능2 대출건수현금서비스 금액이 많아도 예외건으로 진행가능3 신용등급 17등급 진행가능많은 직장인분들이 바쁘셔서 혹은 시중은행 가계대출(신용대출)이 제한되면서 현금서비스 및 고금리의 2금융권상품(카드론XXX3금융)을 많이들 사용하고 계십니다XXX 고객님들을 낮은 금리의 전환대출 및 부채통합을 도와드리고 있습니다(분산된 부채 통합시 신용등급 상승 및 매월 내시는 불입금액에 대한 부담감소 이자비용의 절감)이자만 납입시)5000만원 신청시 매월 250417원으로 이용가능 합니다5년분할 납입시)5000만원 신청시 매월 966873원(원금이자)으로 이용가능 합니다이번 기회에 은행권 저금리상품으로 전환해 보시기 바랍니다홍보성 문자이나 필요한 한분 한분에게 도움이 되고자 합니다신청방법상담 가능 시간.성함.으로 문자예약.또는 전화주시면 상담가능하십니다감사합니다.은행권대환 추가자금XXX XXX 수탁법인해당이 되지 않으시거나 거부를 원하시는 분들은 거부라고 회신하여 주신다면 재발송 않도록 하겠습니다 번호의 오류나 전산의 실수가 있을 수 있사오니 양해 부탁드립니다준법감시인 심의필 제2017-351호(2018.6.30)XXX XXX안녕하세요 메XXX \n",
      "\n",
      "XXX정확하고 올바른 신용대출당사상품의 자격기준과 심사기준이 완화되어 상품에 대해 고객님께 간단하게 상품정보를 전달드립니다.5분이내 빠른 대출가능여부확인XXX 대출상품안내1. 직장인신용대출한도: 1억4000만원금리: 연 3.97%자격: XXX 자체등급과 기업리스트에 따라 차등적용.2. 채무통합전환대출한도: 연봉대비250%금리: 연 3.97%자격: XXX 자체등급과 기업리스트에 따라 차등적용.3. 홀씨한도: 2500만원.금리: 연 8.68%12%자격: 연소득 4000만원 이하 고객대상으로 XXX 자체등급에 따라 차등적용.XXX 상품의 특징1. 당사 거래가 전혀 없어도 대출가능.2. 시중은행보다 높은 한도.3. 자체등급으로 판단하므로 저신용자도 대출가능.4. 부채가 많다면 부채통합상품으로 전환가능.5. 원리금균등방식을 이자만 납입하는 만기일시로 전환가능.6. 가상조회를 통해 한도 및 금리를 한번에 확인가능.이런분들께 권해드립니다.1. 이미 시중은행권에서 대출한도를 모두 사용중이신분2. 기대출의 원리금균등방식으로 인해 월납입금액이 부담스러우신분.3. 총 대출금액은 작으나 대출건수가 많아서 관리가 안되시는분.4. 이제라도 대출로 인한 신용등급 관리 및 상승에 관심이 있으신분.2018년에는 모든 금융사가 대출 한도를 줄이고 신용등급 을 엄격하게 심사합니다 현제 대출 건수나 카드론 현금 서비스 과다 고객 분 들은 미리 대비하시고 등급관리 를 하시기 바랍니다.신용에 대한 기본적인 상식과 지식을 알아야 하는 시대입니다. 최소한의 지식을 본인이 알아야 금전적 손해를 보는 일이 없습니다.신청방법: 상담 또는 00시 00분 상담이라고 답장을 보내주시거나 전화를 주시면 친절하고 안전한 상담으로 도움드리겠습니다.수신을 희망하지 않으실 경우에는 거부 라는 답장을 주시면 수신거부 목록에 등록을 시켜 두번 다시 발송되지 않도FW안녕하세요 \n",
      "\n",
      "(광XXX고객님 안녕하세요2018년도 하반기 바뀐 XXX 국민 은행 직장인대상 가이드 안내입니다다름이 아니라 메세지를 보내드리XXX 고객님들에게 도움을 드리고자해서 입니다이런 분들께 권해드립니다.1. 은행권에서 기존한도를 모두 사용 중이신 분.2. 기대출의 원리금 균등방식으로 인해 월 불입금액이 부담스러우신 분.(분산된 부채 통합시 신용등급 상승 및 매월 내시는 불입금액감소 이자비용의 절감)3. 총 채무금액은 작으나 채무건수가 많아서 관리가 안 되시는 분.(현금서비스 및 고금리의 2금융권상품(카드론XXX3금융)사용하고 계신분)XXX XXX의 특징1. 당행 거래가 없으셔도 진행가능.2. 시중은행권보다 높은 한도.3. 부채가 많다면 부채 통합상품으로 전환가능.XXX XXX 상품 안내대상 - 연소득 2천 이상금리: 최저 3.5%기간 - 거치 만기상품으로 이자만 납입하시거나 5년분할상환 중 자유선택가능신용등급 17등급 진행가능은행권대환 추가자금XXX 수탁법인결코 아직 늦지 않았다고 말씀드리겠습니다. 본인의 신용은 스스로 직접 관리해야 하는 시대입니다. 최소한의 지식과 상식은 알고 계셔야 금전적인 손해 보는 일이 없습니다.신청방법:문자로 상담 또는 00시 00분 상담이라고 답장을 보내주시거나 전화를 주시면 친절하고 안전한 상담으로 도움드리겠습니다.수신을 희망하지 않으실 경우에는 거부 라는 답장을 주시면 KISA 수신거부 목록에 등록을 시켜 두번 다시 발송되지 않도록 조치를 취해드리겠습니다.무료거부 XXX-XXX-XXX인증 XXX 고객님 안녕하세요  2018년 \n",
      "\n",
      "안녕하셨어요?오랫만에 문자로 인사드리네요.2012년 저희 XXX(구 XXX)에서 신용대출 받으실때 대출 도와드렸던 담당 직원 XXX 책임입니다.남은 11월달도 하시는 모든 일 잘되시고 가족분들 모두 항상 건강하시길 기도하겠습니다.2018년 11월 15일부로 당행 대출 상품이 일부 완화되었습니다. 현재 대출이 많더라도 안된다고 생각치 마시고 편히 연락주십시요. 전화번호가 없으셨다면 하나 저장해두시고 나중에라도 편하게 연락주십시요.대출 진행시 예전처럼 다시 한번 방문드려서 친절히 상담드리겠습니다.당행에서 신규 대출 상품이 나와 간단히 안내만 드립니다.XXX 대출상품 특징1. 현재 당행 거래가 없어도 가능2. 연소득대비 최대 2.5배까지 가능3. 월 불입금이 많으셔서 부담되면 - 이자만 납입으로 전환 가능4. 신용등급 악영향주는 카드론  현금서비스를 은행으로 전환5. 고금리의 XXXXXX대부업 전환대출 가능직장인 신용대출-최저금리 : 3.22%-최대한도 : 1억5천만원-연소득의 2.5배까지 대출 가능고금리 대환대출 상품-신용등급에 안좋은 현금서비스 및 카드론 대환-고금리 XXX계열XXX대부업 대환 대출-여러 곳의 대출을 하나로 채무 통합하여 관리 매달 월불입금이 너무 많으셔서 힘드시거나 또는 이자만 내는 방식으로 전환을 원하시면 편히 전화 주십시요. 여러 건의 대출을 통합하길 원하시거나 한달 월불입금이 많으셔서 계속 현금서비스나 카드론 대출이 늘어난다고 생각이 드셔도 주저 없이 연락주시기 바랍니다. 특히 XXX이나 XXX 사금융권(대부업) 이용중이신 분들은 편히 연락부탁드립니다. 수신을 원치 않으시면 간단히 수신거부라 보내주시면 은행 전체에서 문자 발송을 금지하도록 처리하겠습니다.지금 필요하지 않으시다면 번호를 저장해두셨다가 필요시 편하게 전화주세요.언제나 건승하시고 가족분 모두의제목없음 \n",
      "\n",
      "XXX XXX안녕하세요메XXX 보내드린것은 다름이 아니라 2018년도 하반기 새롭게바뀐 직장인대상 가이드 안내차 보내드리며 메XXX 원치 않으시는 경우 거부문자시 신속히 조치를 취하도록 하겠습니다.XXX XXX대상 - 연소득 2천 이상금리 - 연 3.8% 기간 - 거치 만기상품으로 이자만 납입하시거나 5년분할상환 중 자유선택가능1 카드론2금융대출이 있으셔도 대환대출로 진행가능2 대출건수현금서비스 금액이 많아도 예외건으로 진행가능3 신용등급 17등급 진행가능많은 직장인분들이 바쁘셔서 혹은 시중은행 가계대출(신용대출)이 제한되면서 현금서비스 및 고금리의 2금융권상품(카드론XXX3금융)을 많이들 사용하고 계십니다XXX 고객님들을 낮은 금리의 전환대출 및 부채통합을 도와드리고 있습니다(분산된 부채 통합시 신용등급 상승 및 매월 내시는 불입금액에 대한 부담감소 이자비용의 절감)이자만 납입시)5000만원 신청시 매월 250417원으로 이용가능 합니다5년분할 납입시)5000만원 신청시 매월 966873원(원금이자)으로 이용가능 합니다이번 기회에 은행권 저금리상품으로 전환해 보시기 바랍니다홍보성 문자이나 필요한 한분 한분에게 도움이 되고자 합니다 신청방법상담 가능 시간.성함.으로 문자예약.또는 전화주시면 상담가능하십니다감사합니다.은행권대환 추가자금XXX XXX 수탁법인해당이 되지 않으시거나 거부를 원하시는 분들은 거부라고 회신하여 주신다면 재발송 않도록 하겠습니다 번호의 오류나 전산의 실수가 있을 수 있사오니 양해 부탁드립니다준법감시인 심의필 제2017-351호(2018.6.30)FWXXX XXX안녕하세요  메XXX \n",
      "\n",
      "안녕하셨어요?오랫만에 문자로 인사드리네요.2012년 저희 XXX(구 XXX)에서 신용대출 받으실때 대출 도와드렸던 담당 직원 XXX 책임입니다.남은 11월달도 하시는 모든 일 잘되시고 가족분들 모두 항상 건강하시길 기도하겠습니다.제가 올해 다시 신용대출본부로 배정되어 담당자를 몰라 연락을 못하실까하여 문자드립니다.2018년 11월 15일부로 당행 대출 상품이 일부 완화되었습니다. 현재 대출이 많더라도 안된다고 생각치 마시고 편히 연락주십시요. 전화번호가 없으셨다면 하나 저장해두시고 나중에라도 편하게 연락주십시요.대출 진행시 예전처럼 다시 한번 방문드려서 친절히 상담드리겠습니다.당행에서 신규 대출 상품이 나와 간단히 안내만 드립니다.XXX 대출상품 특징1. 현재 당행 거래가 없어도 가능2. 연소득대비 최대 2.5배까지 가능3. 월 불입금이 많으셔서 부담되면 - 이자만 납입으로 전환 가능4. 신용등급 악영향주는 카드론  현금서비스를 은행으로 전환5. 고금리의 XXXXXX대부업 전환대출 가능직장인 신용대출-최저금리 : 3.22%-최대한도 : 1억5천만원-연소득의 2.5배까지 대출 가능고금리 대환대출 상품-신용등급에 안좋은 현금서비스 및 카드론 대환-고금리 XXX계열XXX대부업 대환 대출-여러 곳의 대출을 하나로 채무 통합하여 관리 매달 월불입금이 너무 많으셔서 힘드시거나 또는 이자만 내는 방식으로 전환을 원하시면 편히 전화 주십시요. 여러 건의 대출을 통합하길 원하시거나 한달 월불입금이 많으셔서 계속 현금서비스나 카드론 대출이 늘어난다고 생각이 드셔도 주저 없이 연락주시기 바랍니다. 특히 XXX이나 XXX 사금융권(대부업) 이용중이신 분들은 편히 연락부탁드립니다. 수신을 원치 않으시면 간단히 수신거부라 보내주시면 은행 전체에서 문자 발송을 금지하도록 처리하겠습니다.지금 필요하지 않으시다면 번호를 저장해두셨다가 필요시 편하게 전화주세요.언제나 건승하시고 가족분 모두의 건강을 함께 기도하겠습니다.XXX 개인대출본부 XXX 배상제목없음 \n",
      "\n",
      "안녕하세요 페XXX은행 입니다.고금리 대출 XXX드리는 상품 홍보차 연락을 드리게 되었으며 바쁜업무에 지장드릴까봐 메세지로 연락드립니다.현재 고금리 대출상품을 보유하고 계시고 추가자금이 필요하시면 채무통합과 추가한도 발생을 위하여 아래 내용을 꼭 읽어봐 주시길 권유드립니다.1.직장인(4대보험 가입자)1-1. 프리랜서 6개월이상  사업자 가능2.금리 최저 6.9%19.9% (개인 신용에 따라 상이)3.1억까지 가능 (대환포함  개인 신용에 따라 상이)4.연봉대비 DTI 200% 이내 진행 가능.5.고금리 및 타금융을 저희은행으로 대환 및 통합해드립니다.매달내는 상환금이 부담되시거나 고금리를 이용중이라면 자신있게 권해드립니다6.신청방법:언제나 전화 주시면 친절하게 상담해 드리겠습니다.대출 가능조회는 신용등급에 영향을 주지 않습니다.항상 정직XXX 고객님께 힘이되는 상담사가 되도록 노력하겠습니다.위 문자는 당 상담사와 상담하셨고 상품서비스 안내등에 동의하셨던 분들을 대상으로 한하여 보내고 있습니다.혹시 당 상담사와 와 관련이 전혀 없으실 경우번호오기로 인한 오류가 있을수 있으며잘못된 수신을 받으셨거나 수신을 원하지 않으실 경우 거부 문자 남겨주시면 조치해 드리도록 하겠습니다.안녕하세요 페XXX... \n",
      "\n",
      "XXX항상 (XXX국민)은행을 이용해주셔서 감사합니다. 2018년 11월 신상품이 출시되여서 안내드립니다. 낮은 금리로 정부지원 상품을 이용할수있습니다.고민하지 마시고 전화주세요(내용) 신상품.출시안내 본상품은 서민지원대출로 정부에서 지원하고 XXX국민에만 이용할수있는 상품입니다. 상품특징 1. 무담보! 무수수료! 2. 신용등급상관없이 3. 최고한도 3억 4. 최하금리 3%5. 상환수수료 없이 자유롭게 상환가능! 6. 기존채무자 저금리전환가능 자격조건 1.만21세이상 2.직장인사업자프리랜서주부학생 3.최근부결자 다중채무자 가능 신청기간 11월30일마감. 접수자가 많으니 빠른신청 바랍니다. 문자상담 신청방법문자로상담이라고 답장을 주시거나 전화를 주시면 최선을 다해 도와드리겠습니다.무료거부XXX-XXX-XXX무료수신거부XXX-XXX-XXX \n",
      "\n",
      "안녕하세요 페XXX은행 입니다.고금리 대출 XXX드리는 상품 홍보차 연락을 드리게 되었으며 바쁜업무에 지장드릴까봐 메세지로 연락드립니다.현재 고금리 대출상품을 보유하고 계시고 추가자금이 필요하시면 채무통합과 추가한도 발생을 위하여 아래 내용을 꼭 읽어봐 주시길 권유드립니다.1.직장인(4대보험 가입자)1-1. 프리랜서 6개월이상  사업자 가능2.금리 최저 6.9%19.9% (개인 신용에 따라 상이)3.1억까지 가능 (대환포함  개인 신용에 따라 상이)4.연봉대비 DTI 250% 이내 진행 가능.5.고금리 및 타금융을 저희은행으로 대환 및 통합해드립니다.매달내는 상환금이 부담되시거나 고금리를 이용중이라면 자신있게 권해드립니다6.신청방법:언제나 전화 주시면 친절하게 상담해 드리겠습니다.대출 가능조회는 신용등급에 영향을 주지 않습니다.항상 정직XXX 고객님께 힘이되는 상담사가 되도록 노력하겠습니다.위 문자는 당 상담사와 상담하셨고 상품서비스 안내등에 동의하셨던 분들을 대상으로 한하여 보내고 있습니다.혹시 당 상담사와 와 관련이 전혀 없으실 경우번호오기로 인한 오류가 있을수 있으며잘못된 수신을 받으셨거나 수신을 원하지 않으실 경우 거부 문자 남겨주시면 조치해 드리도록 하겠습니다.안녕하세요 페XXX... \n",
      "\n",
      "한국XXX은행금전을 요구하는건 사기 입니다. 유의하세요!1.부득이하게 높은 이자를 내고 있는 분2.월 불입금을 줄이고 하시는 분3.건수를 줄여 신용등급을 올리고 싶으신 분4.복잡한 부채를 하나로 묶어 관리하고자 하는 분수신을 원치 않으신분들이라면 거부라는 답장을 주시면 다시는 발송되지않습니다.기존 높은금리에서 저금리로 금리전환하는걸 대환이라 하죠 이렇게 높은금리에서 저금리로 갈아타면 금리차이로 인해 이자가 절약됩니다.여기서 포인트는 바로 금리차이! 대환상품은 기존보다 낮은 금리로 갈아타는것이 매우 중요합니다.빚테크의 시작 대환을 통해 이자절감 받으세요부채통합(대환)안내대상- 1년이상 재직중인 직장인금리- 최저 3%차등적용한도- 연봉대비 250%까지 한도발생자격조건- 직장인이라면 누구나 가능 단 연체자는 불가합니다.원리금균등방식을 이자로 내는 방식으로 전환하여 월 최대 불입금을 최고 85%까지 줄일수 있습니다.최근 6개월간 연체사실만 없다면 누구나 진행이 가능하며 카드론현금서비스가 잦은 분들도 가능합니다.신용등급이 7등급XXX 분들중 건수가 많아 통합을 하고싶거나 은행에서 더이상의 추가 진행이 안되는 분들께서 많이 문의를 주시고 있습니다. 문자상담 신청방법문자로상담이라고 답장을 주시거나 전화를 주시면 최선을 다해 도와드리겠습니다. XXX bank 직장인 안내1.대상- 직장인(공무원대기업외감일반기업)2.금리- 2.8%3.한도- 최대 1억4천만원까지 4.진행등급- 내부등급으로 확인(신용이 낮아도 가능)카톡 및 오픈채팅 신청방법 ID:  citi55  아이디 검색후 친구추가하시고 상담이라고 카톡주시면 됩니다. open.kakao.comosHLITO1 (입장하셔서 문의 남겨 주세요)햇살론새희망홀씨안내최대 3000만원까지연 20%이상의 악성부채를 6개월 이상사용중인분연 10%대의 낮은금리로 진행XXX \n",
      "\n",
      "XXX2018년 하반기 채무통합(대환상품)추가상품 개편되어 안내드립니다.금년 부채통합및 낮은금리로 이용하실수있는 마지막 기회입니다.고민하지 마시고 전화주세요.상품특징원리금균등(원금이자)방식을 이자만내는 방식으로 전환신용등급 7등급이내의 직장인부채과다로인해 추가진행이 어렵다면 통합해드리겠습니다연소득대비 최 대 300%이내가능 (단 직업군 연봉 소득대비 상환하는 수지율에따라 적용)최근 6개 월간 연체사실이 있다면 진행불가.카드론현금서비스 사용이 잦은 분들채무금액은 작으나 건수가 여러건으로 이용중인분들1가상조회로 한도금리를 한번에 알수 있습니다.2XXXXXX은행사금융등을 1금융권 으로 대환할 수 있습니다.3시중은행보다 높은 한도를 자부합니다.4꼭 주거래 은행이 아니라도 상관없이 진행가능합니다.내용금리최 저 4.59% 부터(기준금리가산금리)한도최 대 1억원까지(대환자금추가자금)조건만23세이상직장인개인사업자채무통합의 핵심포인트1.월 납입액 45%85% 감소및 이자금액 최 대 85%감소효과2.신용도를 최 대 등급 1등급까지 상승3.퍼져있는 부채를 13건으로 줄여 관리하기 편하게4.추가 자금이 필요할때 은행권으로 가능하실수 있게이런분들께 권해드립니다.1.이미 시중은행권에서 대출한도를 모두 사용중이신분.2.기대출의 원리금균등방식으로 인해 월납입금액이 부담스러우신분.3.총 대출금액은 작으나 대출건수가 많아서 관리가 안되시는분.4.이제라도 대출로 인한 신용등급 관리 및 상승에 관심이 있으신분.신청방법전화주시거나 부재중일시 상담가능시간 문자예약 보내주시면 상담가능합니다감사합니다.은행권대환 추가자금XXX 수탁법인해당이 되지 않으시거나 거부를 원하시는 분들은 거부라고 회신하여 주신다면 재발송 않도록 하겠습니다.번XXX \n",
      "\n",
      "한국XXX은행금전을 요구하는건 사기 입니다. 유의하세요!1.부득이하게 높은 이자를 내고 있는 분2.월 불입금을 줄이고 하시는 분3.건수를 줄여 신용등급을 올리고 싶으신 분4.복잡한 부채를 하나로 묶어 관리하고자 하는 분수신을 원치 않으신분들이라면 거부라는 답장을 주시면 다시는 발송되지않습니다.기존 높은금리에서 저금리로 금리전환하는걸 대환이라 하죠 이렇게 높은금리에서 저금리로 갈아타면 금리차이로 인해 이자가 절약됩니다.여기서 포인트는 바로 금리차이! 대환상품은 기존보다 낮은 금리로 갈아타는것이 매우 중요합니다.빚테크의 시작 대환을 통해 이자절감 받으세요부채통합(대환)안내대상- 1년이상 재직중인 직장인금리- 최저 3%차등적용한도- 연봉대비 250%까지 한도발생자격조건- 직장인이라면 누구나 가능 단 연체자는 불가합니다.원리금균등방식을 이자로 내는 방식으로 전환하여 월 최대 불입금을 최고 85%까지 줄일수 있습니다.최근 6개월간 연체사실만 없다면 누구나 진행이 가능하며 카드론현금서비스가 잦은 분들도 가능합니다.신용등급이 7등급XXX 분들중 건수가 많아 통합을 하고싶거나 은행에서 더이상의 추가 진행이 안되는 분들께서 많이 문의를 주시고 있습니다.문자상담 신청방법문자로상담이라고 답장을 주시거나 전화를 주시면 최선을 다해 도와드리겠습니다.XXX bank 직장인 안내1.대상- 직장인(공무원대기업외감일반기업)2.금리- 2.8%3.한도- 최대 1억4천만원까지4.진행등급- 내부등급으로 확인(신용이 낮아도 가능)카톡 및 오픈채팅 신청방법 ID:  citi55  아이디 검색후 친구추가하시고 상담이라고 카톡주시면 됩니다. open.kakao.comosHLITO1 (입장하셔서 문의 남겨 주세요)햇살론새희망홀씨안내최대 3000만원까지연 20%이상의 악성부채를 6개월 이상사용중인분연 10%대의 낮은금리로 진행XXX \n",
      "\n",
      "한국XXX은행금전을 요구하는건 사기 입니다. 유의하세요!1.부득이하게 높은 이자를 내고 있는 분2.월 불입금을 줄이고 하시는 분3.건수를 줄여 신용등급을 올리고 싶으신 분4.복잡한 부채를 하나로 묶어 관리하고자 하는 분수신을 원치 않으신분들이라면 거부라는 답장을 주시면 다시는 발송되지않습니다.기존 높은금리에서 저금리로 금리전환하는걸 대환이라 하죠 이렇게 높은금리에서 저금리로 갈아타면 금리차이로 인해 이자가 절약됩니다.여기서 포인트는 바로 금리차이! 대환상품은 기존보다 낮은 금리로 갈아타는것이 매우 중요합니다.빚테크의 시작 대환을 통해 이자절감 받으세요부채통합(대환)안내대상- 1년이상 재직중인 직장인금리- 최저 3%차등적용한도- 연봉대비 250%까지 한도발생자격조건- 직장인이라면 누구나 가능 단 연체자는 불가합니다.원리금균등방식을 이자로 내는 방식으로 전환하여 월 최대 불입금을 최고 85%까지 줄일수 있습니다.최근 6개월간 연체사실만 없다면 누구나 진행이 가능하며 카드론현금서비스가 잦은 분들도 가능합니다.신용등급이 7등급XXX 분들중 건수가 많아 통합을 하고싶거나 은행에서 더이상의 추가 진행이 안되는 분들께서 많이 문의를 주시고 있습니다.문자상담 신청방법문자로상담이라고 답장을 주시거나 전화를 주시면 최선을 다해 도와드리겠습니다.XXX bank 직장인 안내1.대상- 직장인(공무원대기업외감일반기업)2.금리- 2.8%3.한도- 최대 1억4천만원까지4.진행등급- 내부등급으로 확인(신용이 낮아도 가능)카톡 및 오픈채팅 신청방법 ID:  citi50  아이디 검색후 친구추가하시고 상담이라고 카톡주시면 됩니다. open.kakao.comosjqKQO1 (입장하셔서 문의 남겨 주세요)햇살론새희망홀씨안내최대 3000만원까지연 20%이상의 악성부채를 6개월 이상사용중인분연 10%대의 낮은금리로 진행XXX \n",
      "\n",
      "(XXX고객님 안녕하세요2018년도 하반기 바뀐 XXX 국민 은행 직장인대상 가이드 안내입니다다름이 아니라 메세지를 보내드리XXX 고객님들에게 도움을 드리고자해서 입니다이런 분들께 권해드립니다.1. 은행권에서 기존한도를 모두 사용 중이신 분.2. 기대출의 원리금 균등방식으로 인해 월 불입금액이 부담스러우신 분.(분산된 부채 통합시 신용등급 상승 및 매월 내시는 불입금액감소 이자비용의 절감)3. 총 채무금액은 작으나 채무건수가 많아서 관리가 안 되시는 분.(현금서비스 및 고금리의 2금융권상품(카드론XXX3금융)사용하고 계신분)XXX XXX의 특징1. 당행 거래가 없으셔도 진행가능.2. 시중은행권보다 높은 한도.3. 부채가 많다면 부채 통합상품으로 전환가능.XXX XXX 상품 안내대상 - 연소득 2천 이상금리: 최저 3.5%기간 - 거치 만기상품으로 이자만 납입하시거나 5년분할상환 중 자유선택가능신용등급 17등급 진행가능은행권대환 추가자금XXX 수탁법인결코 아직 늦지 않았다고 말씀드리겠습니다. 본인의 신용은 스스로 직접 관리해야 하는 시대입니다. 최소한의 지식과 상식은 알고 계셔야 금전적인 손해 보는 일이 없습니다.신청방법:문자로 상담 또는 00시 00분 상담이라고 답장을 보내주시거나 전화를 주시면 친절하고 안전한 상담으로 도움드리겠습니다.수신을 희망하지 않으실 경우에는 거부 라는 답장을 주시면 KISA 수신거부 목록에 등록을 시켜 두번 다시 발송되지 않도록 조치를 취해드리겠습니다.무료거부 XXX-XXX-XXX(XXX \n",
      "\n",
      "안녕하셨어요?오랫만에 문자로 인사드리네요.2012년 저희 XXX(구 XXX)에서 신용대출 받으실때 대출 도와드렸던 담당 직원 XXX 책임입니다.남은 11월달도 하시는 모든 일 잘되시고 가족분들 모두 항상 건강하시길 기도하겠습니다.2018년 11월 15일부로 당행 대출 상품이 일부 완화되었습니다. 현재 대출이 많더라도 안된다고 생각치 마시고 편히 연락주십시요. 전화번호가 없으셨다면 하나 저장해두시고 나중에라도 편하게 연락주십시요.대출 진행시 예전처럼 다시 한번 방문드려서 친절히 상담드리겠습니다.당행에서 신규 대출 상품이 나와 간단히 안내만 드립니다.XXX 대출상품 특징1. 현재 당행 거래가 없어도 가능2. 연소득대비 최대 2.5배까지 가능3. 월 불입금이 많으셔서 부담되면 - 이자만 납입으로 전환 가능4. 신용등급 악영향주는 카드론  현금서비스를 은행으로 전환5. 고금리의 XXXXXX대부업 전환대출 가능직장인 신용대출-최저금리 : 3.22%-최대한도 : 1억5천만원-연소득의 2.5배까지 대출 가능고금리 대환대출 상품-신용등급에 안좋은 현금서비스 및 카드론 대환-고금리 XXX계열XXX대부업 대환 대출-여러 곳의 대출을 하나로 채무 통합하여 관리 매달 월불입금이 너무 많으셔서 힘드시거나 또는 이자만 내는 방식으로 전환을 원하시면 편히 전화 주십시요. 여러 건의 대출을 통합하길 원하시거나 한달 월불입금이 많으셔서 계속 현금서비스나 카드론 대출이 늘어난다고 생각이 드셔도 주저 없이 연락주시기 바랍니다. 특히 XXX이나 XXX 사금융권(대부업) 이용중이신 분들은 편히 연락부탁드립니다. 수신을 원치 않으시면 간단히 수신거부라 보내주시면 은행 전체에서 문자 발송을 금지하도록 처리하겠습니다.지금 필요하지 않으시다면 번호를 저장해두셨다가 필요시 편하게 전화주세요.언제나 건승하시고 가족분 모두의 건강을 함께 기도하겠습니다.XXX 개인대출본부 XXX 배상제목없음 \n",
      "\n",
      "XXX금융소비자 질문 TOP31. 가상조회는 신용등급에 영향이 없나요?소정의 점수는 차감이 되지만 등급이 하락할 정도로 영향이 있는 것은 아닙니다.2. 카드 장기 단기 대출이 신용에 안 좋은 건가요?카드업 권은 할부금융사이기 때문에 신용평가사에서 안 좋게 반영됩니다.3. 연체가 없어도 신용등급이 떨어지나요?신용등급 기준은 연체뿐만 아니라 채무 내용과 카드사용 등등이 반영되기 때문에 한가지 내용으로 판단할 수 없습니다.상담신청은 문자로 상담이라고 회신을 해주시거나 전화를 주시면 최선을 다해 도와드릴 것을 약속합니다.XXX 대출상품 안내1. 직장인 신용대출한도: 1억 4000만금리: 2.97%자격: XXX 자체 등급과 기업 리스트에 따라 차등 적용.2. 채무통합 전환대출한도: 연봉 대비 300%금리: 2.97%자격: XXX  자체 등급과 기업 리스트에 따라 차등 적용.3. 희망홀씨한도: 2500만 원.금리: 8.68%12%자격: 연 소득 4000만 원 이하 고객 대상으로 자체등급에 따라 차등적용.XXX 상품의 특징1. 당사 거래가 전혀 없어도 대출 가능.2. 시중은행보다 높은 한도.3. 자체 등급으로 판단하므로 저신용자도 대출 가능.4. 부채가 많다면 부채 통합상품으로 전환 가능.5. 원리금 균등방식을 이자만 내는 만기일시로 전환 가능.6. 가상 조회를 통해 한도 및 금리를 한 번에 확인 가능.이런 분들께 권해드립니다.1. 이미 시중 은행권에서 대출한도를 모두 사용 중이신 분.2. 기존대출의 원리금 균등방식으로 인해 월납입금액이 부담스러우신 분.3. 총대출금액은 적으나 대출 건수가 많아서 관리가 안 되는 분.4. 이제라도 대출로 인한 신용등급 관리 및 상승에 관심이 있으신 분.상담신청은 문자로 상담이라고 회신을 해주시거나 전화를 주시면 최선을 다해 도와드릴 것을 약속합니다.수신을 희망하지 않으실 경우에는제목없음 \n",
      "\n",
      "안녕하세요 ...안녕하세요현존하는 XXX 최고한도1억!!페퍼XXX에서XXX고객님분들 개인신용 상담및 실행업무를 맡고있는 개인 신용 담당 XXX팀장 입니다.무분별한 금융사 사칭과 금융보이스피싱을 조심하길 항상기도드리며행여 바쁜업무에 지장드릴까봐 메세지로 연락드립니다.메세지를 보내드리는 이유는 다름이 아니라 현재 2금융권 신용을 보유중이시거나 자금이 필요하신데 주거래은행에서 더이상 한도가 발생하지 않으시다면 아래 내용을 꼭 읽어봐 주시길 권유드립니다.2금융권에서 고금리 신용을 보유중이신 분들을 위해 은행권전환과 추가한도를 위하여 페퍼XXX 직장인 신용상품을 출시하였습니다.최근 조건이 상당수 많은부분 완화되어 안내해 드립니다타사 XXX XXX 대부업채까지도 가능확인만뜨면 모두 합하여 통합 상품도있습니다-직장인신용상품-1.급여소득자전문직대상 (급여대상자 모두)2.최저 6.9%부터 (연체기록이 과다하지 않다면 가능)3.최대1억4천급여의 최대 21배까지 가능4.연봉대비 부채(채무)율이 높으셔도 가능합니다원리금 상환방식을 이자만 내는 만기일시 상품으로 전환가능.매달내는 원리금이 부담되시거나고금리를이용중이라면 자신있게 권해드립니다현재 은행권에서 가장 완화된 조건의 신용대출입니다.5.신청방법:언제나 전화 주시면 친절하게 상담해 드리겠습니다가능조회는 신용등급에 전혀 영향을 주지 않습니다.모바일가조회로 가능여부를 먼저 확인 가능하시며 서류 접수시 은행방문없이 계신지역으로 직접 찾아뵙고 신분확인 해 드리고접수진행 도와드립니다.항상 정직XXX고객님의 힘이되는 페퍼XXX이 되도록 노력하겠습니다.위 문자는 당행과 상담하셨고 상품서비스 안내등에 동의하셨던 분들을 대상으로 한하여 보내고 있습니다.혹시 당행거래와 관련이 전혀 없으실 경우 번호오기로 인한 오류가 있을수 있으며잘못된 수신을 받으셨거나 수신을 원하지 않으실 경우 거부 문자 남겨주시면 조치해 드리도록 하겠습니다.좋은 기회에 도움이 되시면 좋겠습니다.감사합니다.안녕하세요 ... \n",
      "\n",
      "안녕하세요. XXX축은XXX팀장입니다.고금리 대출 XXX드리는 상품 홍보차 연락을 드리게 되었으며 바쁜업무에 지장드릴까봐 메세지로 연락드립니다.현재 고금리 대출상품을 보유하고 계시고 추가자금이 필요하시면 채무통합과 추가한도 발생을 위하여 아래 내용을 꼭 읽어봐 주시길 권유드립니다.11월 1일 기준으로 금융사 영업 방침으로 한도도 대폭 인상되었으며 기존보다 금리 인하도 가능하게 되었습니다. 많은 문의 부탁드립니다.XXX축은행 상품 특징1.직장인(4대보험 가입자)2.금리 최저 8.9% (개인 신용에 따라 상이)3.1억까지 가능 (개인 신용에 따라 상이)4.연봉대비 DTI 250% 이내 진행 가능.5.고금리 및 타금융을 저희은행으로 대환 및 통합해드립니다. 6.신청방법:언제나 전화나 문자 주시면 친절하게 상담해 드리겠습니다.매달내는 상환금이 부담되시거나고금리를 이용중이라면 자신있게 권해드립니다대출 가능조회는 신용등급에 영향을 주지 않습니다. 항상 정직XXX 고객님의 힘이되는 상담사가 되도록 노력하겠습니다. 위 문자는 당 상담사와 상담하셨고 상품서비스 안내등에 동의하셨던 분들을 대상으로 한하여 보내고 있습니다.혹시 당 상담사와 와 관련이전혀 없으실 경우번호오기로 인한 오류가 있을수 있으며잘못된 수신을 받으셨거나 수신을 원하지 않으실 경우 거부 문자 남겨주시면 조치해 드리도록 하겠습니다.안녕하세요. XXX... \n",
      "\n",
      "XXX(정확하고 올바른 신용대출) 당사상품의 자격기준과 심사기준이 완화되어 상품에 대해 고객님께 간단하게 상품정보를 전달드립니다XXX 대출상품안내1. 직장인신용대출한도: 1억4000만원금리: 연 3.97%자격: XXX 자체등급과 기업리스트에 따라 차등적용.2. 채무통합전환대출한도: 연봉대비250%금리: 연 3.97%자격: XXX 자체등급과 기업리스트에 따라 차등적용.3. 홀씨한도: 2500만원.금리: 연 8.68%12%자격: 연소득 4000만원 이하 고객대상으로 XXX 자체등급에 따라 차등적용.XXX 상품의 특징1. 당사 거래가 전혀 없어도 대출가능.2. 시중은행보다 높은 한도.3. 자체등급으로 판단하므로 저신용자도 대출가능.4. 부채가 많다면 부채통합상품으로 전환가능.5. 원리금균등방식을 이자만 납입하는 만기일시로 전환가능.6. 가상조회를 통해 한도 및 금리를 한번에 확인가능.이런분들께 권해드립니다.1. 이미 시중은행권에서 대출한도를 모두 사용중이신분.2. 기대출의 원리금균등방식으로 인해 월납입금액이 부담스러우신분.3. 총 대출금액은 작으나 대출건수가 많아서 관리가 안되시는분.4. 이제라도 대출로 인한 신용등급 관리 및 상승에 관심이 있으신분.신용에 대한 기본적인 상식과 지식을 알아야 하는 시대입니다. 최소한의 지식을 본인이 알아야 금전적 손해를 보는 일이 없습니다.신청방법:상담 또는 00시 00분 상담이라고 답장을 보내주시거나 전화를 주시면 친절하고 안전한 상담으로 도움드리겠습니다.수신을 희망하지 않으실 경우에는 거부 라는 답장을 주시면 수신거부 목록에 등록을 시켜 두번 다시 발송되지 않도록 조치를 취해드리겠습니다.제목없음 \n",
      "\n",
      "안녕하셨어요?오랫만에 문자로 인사드리네요.2012년 저희 XXX(구 XXX)에서 신용대출 받으실때 대출 도와드렸던 담당 직원 XXX 책임입니다.11월달도 하시는 모든 일 잘되시고 가족분들 모두 항상 건강하시길 기도하겠습니다.2018년 11월부로 당행 대출 상품이 대폭 완화되었습니다. 현재 대출이 많더라도 안된다고 생각치 마시고 편히 연락주십시요. 전화번호가 없으셨다면 하나 저장해두시고 나중에라도 편하게 연락주십시요.대출 진행시 예전처럼 다시 한번 방문드려서 친절히 상담드리겠습니다.당행에서 신규 대출 상품이 나와 간단히 안내만 드립니다.XXX 대출상품 특징1. 현재 당행 거래가 없어도 가능2. 연소득대비 최대 2.5배까지 가능3. 월 불입금이 많으셔서 부담되면 - 이자만 납입으로 전환 가능4. 신용등급 악영향주는 카드론  현금서비스를 은행으로 전환5. 고금리의 XXXXXX대부업 전환대출 가능직장인 신용대출-최저금리 : 3.22%-최대한도 : 1억5천만원-연소득의 2.5배까지 대출 가능고금리 대환대출 상품-신용등급에 안좋은 현금서비스 및 카드론 대환-고금리 XXX계열XXX대부업 대환 대출-여러 곳의 대출을 하나로 채무 통합하여 관리 매달 월불입금이 너무 많으셔서 힘드시거나 또는 이자만 내는 방식으로 전환을 원하시면 편히 전화 주십시요. 여러 건의 대출을 통합하길 원하시거나 한달 월불입금이 많으셔서 계속 현금서비스나 카드론 대출이 늘어난다고 생각이 드셔도 주저 없이 연락주시기 바랍니다. 특히 XXX이나 XXX 사금융권(대부업) 이용중이신 분들은 바로 연락부탁드립니다. 현재 - 2금융권이나 사금융권(대부업) 이용시 2030%대 정도 되는 금리를 10%대로 갈아타셔도 엄청난 이자 절감을 하실수 있습니다. 수신을 원치 않으시면 간단히 수신거부라 보내주시면 은행 전체에서 문자 발송을 금지하도제목없음 \n",
      "\n",
      "XXX2018년 하반기 채무통합(대환상품)추가상품 개편되어 안내드립니다.금년 부채통합및 낮은금리로 이용하실수있는 마지막 기회입니다.고민하지 마시고 전화주세요.상품특징원리금균등(원금이자)방식을 이자만내는 방식으로 전환신용등급 7등급이내의 직장인이면부채과다로인해 추가진행이 어렵다면 통합해드리겠습니다연소득대비 최 대 300%이내가능최근 6개 월간 연체사실이 있다면 진행불가.카드론현금서비스 사용이 잦은 분들채무금액은 작으나 건수가 여러건으로 이용중인분들1가상조회로 한도금리를 한번에 알수 있습니다.2XXXXXX은행사금융등을 1금융권 으로 대환할 수 있습니다.3시중은행보다 높은 한도를 자부합니다.4꼭 주거래 은행이 아니라도 상관없이 진행가능합니다.내용금리최 저 3.75% 부터(기준금리가산금리)한도최 대 1억원까지(대환자금추가자금)조건만23세이상직장인개인사업자채무통합의 핵심포인트1.월 납입액 45%85% 감소및 이자금액 최 대 85%감소효과2.신용도를 최 대 등급 1등급까지 상승시켜드립니다.3.퍼져있는 부채를 13건으로 줄여 관리하기 편하게 만들어 드립니다.4.추가 자금이 필요할때 은행권으로 가능하실수 있게 해드립니다.이런분들께 권해드립니다.1.이미 시중은행권에서 대출한도를 모두 사용중이신분.2.기대출의 원리금균등방식으로 인해 월납입금액이 부담스러우신분.3.총 대출금액은 작으나 대출건수가 많아서 관리가 안되시는분.4.이제라도 대출로 인한 신용등급 관리 및 상승에 관심이 있으신분.신청방법전화주시거나 부재중일시 상담가능시간 문자예약 보내주시면 상담가능합니다감사합니다.은행권대환 추가자금XXX 수탁법인해당이 되지 않으시거나 거부를 원하시는 분들은 거부라고 회신하여 주신다면 재발송 않도록 하겠습니다.번호의 오류나 전산의 실수가 있을수 있사오니 양해 부탁드립니다.무료수신거부 XXX-XXX-XXX제목없음 \n",
      "\n",
      "-XXX 안내-항상 XXX을 이용해주셔서 감사합니다.2018년 하반기 정부지원조건이 변경되어 안내드립니다.고금리시대에 저 금리로 대출을 이용하실수있는 기회입니다. 놓치지 마시고 모두 혜택 받으시기 바랍니다. XXX에서 판매하는특별기획상품입니다.지금 신청하셔서생활의 여유를 만들어 보세요.자격조건1.만20세65세까지2.직장인사업자전문직종사자3.최근부결자다중채무자가능(단연체이력자는 불가)상품조건1. 17 등급2.기존이용금액 많아도 가능!!3.최저조건 4.59%부터4.최대 1억원까지!상품내용1.다중채무를 하나로 통합하실 분2.월 납입금 70%이상 절감효과가 있습니다!!3.채무통합으로 인해 신용등급이 상향조정됩니다!!4.건수 통합으로 관리가 편해집니다5.고금리를 저금리로 전환하여 삶의 여유가 생깁니다우선혜택1.현재 금리상승 및 대출규제로 인해  신청자가 많습니다!!2.금일신청시 우선진행가능!!3.최근 승인지급금 대폭상승!!4.한도소진시까지 전폭적   진행합니다!!  채무통합 추가자금 필요하신분  지금 서둘러 신청하세요!은행권대환추가자금XXX 수탁법인신청방법전화주시거나 부재중일시 상담가능시간 문자예약 보내주시면 상담가능합니다서민의 희망을 키워가는 금융!대한민국의 더 든든한 내일을 만들어갑니다.번호의 오류나 전산의 실수가 있을수 있사오니 양해 부탁드립니다.XXX \n",
      "\n",
      "한국XXX은행금전을 요구하는건 사기 입니다. 유의하세요!1.부득이하게 높은 이자를 내고 있는 분2.월 불입금을 줄이고 하시는 분3.건수를 줄여 신용등급을 올리고 싶으신 분4.복잡한 부채를 하나로 묶어 관리하고자 하는 분수신을 원치 않으신분들이라면 거부라는 답장을 주시면 다시는 발송되지않습니다.기존 높은금리에서 저금리로 금리전환하는걸 대환이라 하죠 이렇게 높은금리에서 저금리로 갈아타면 금리차이로 인해 이자가 절약됩니다.여기서 포인트는 바로 금리차이! 대환상품은 기존보다 낮은 금리로 갈아타는것이 매우 중요합니다.빚테크의 시작 대환을 통해 이자절감 받으세요부채통합(대환)안내대상- 1년이상 재직중인 직장인금리- 최저 3%차등적용한도- 연봉대비 250%까지 한도발생자격조건- 직장인이라면 누구나 가능 단 연체자는 불가합니다.원리금균등방식을 이자로 내는 방식으로 전환하여 월 최대 불입금을 최고 85%까지 줄일수 있습니다.최근 6개월간 연체사실만 없다면 누구나 진행이 가능하며 카드론현금서비스가 잦은 분들도 가능합니다.신용등급이 7등급XXX 분들중 건수가 많아 통합을 하고싶거나 은행에서 더이상의 추가 진행이 안되는 분들께서 많이 문의를 주시고 있습니다.문자상담 신청방법문자로상담이라고 답장을 주시거나 전화를 주시면 최선을 다해 도와드리겠습니다.XXX bank 직장인 안내1.대상- 직장인(공무원대기업외감일반기업)2.금리- 2.8%3.한도- 최대 1억4천만원까지4.진행등급- 내부등급으로 확인(신용이 낮아도 가능)카톡 및 오픈채팅 신청방법 ID:  citi52  아이디 검색후 친구추가하시고 상담이라고 카톡주시면 됩니다. open.kakao.comosQ6kVO1 (입장하셔서 문의 남겨 주세요)햇살론새희망홀씨안내최대 3000만원까지연 20%이상의 악성부채를 6개월 이상사용중인분연 10%대의 낮은금리로 진행XXX \n",
      "\n",
      "XXX2018년 하반기 채무통합(대환상품)추가상품 개편되어 안내드립니다.금년 부채통합및 낮은금리로 이용하실수있는 마지막 기회입니다.고민하지 마시고 전화주세요.상품특징원리금균등(원금이자)방식을 이자만내는 방식으로 전환신용등급 7등급이내의 직장인부채과다로인해 추가진행이 어렵다면 통합해드리겠습니다연소득대비 최 대 300%이내가능 (단 직업군 연봉 소득대비 상환하는 수지율에따라 적용)최근 6개 월간 연체사실이 있다면 진행불가.카드론현금서비스 사용이 잦은 분들채무금액은 작으나 건수가 여러건으로 이용중인분들1가상조회로 한도금리를 한번에 알수 있습니다.2XXXXXX은행사금융등을 1금융권 으로 대환할 수 있습니다.3시중은행보다 높은 한도를 자부합니다.4꼭 주거래 은행이 아니라도 상관없이 진행가능합니다.내용금리최 저 4.59% 부터(기준금리가산금리)한도최 대 1억원까지(대환자금추가자금)조건만23세이상직장인개인사업자채무통합의 핵심포인트1.월 납입액 45%85% 감소및 이자금액 최 대 85%감소효과2.신용도를 최 대 등급 1등급까지 상승3.퍼져있는 부채를 13건으로 줄여 관리하기 편하게4.추가 자금이 필요할때 은행권으로 가능하실수 있게이런분들께 권해드립니다.1.이미 시중은행권에서 대출한도를 모두 사용중이신분.2.기대출의 원리금균등방식으로 인해 월납입금액이 부담스러우신분.3.총 대출금액은 작으나 대출건수가 많아서 관리가 안되시는분.4.이제라도 대출로 인한 신용등급 관리 및 상승에 관심이 있으신분.신청방법전화주시거나 부재중일시 상담가능시간 문자예약 보내주시면 상담가능합니다감사합니다.은행권대환 추가자금XXX 수탁법인해당이 되지 않으시거나 거부를 원하시는 분들은 거부라고 회신하여 주신다면 재발송 않도록 하겠습니다.번호의 오류나 전안녕하세요 \n",
      "\n",
      "XXX정확하고 올바른 신용대출당사상품의 자격기준과 심사기준이 완화되어 상품에 대해 고객님께 간단하게 상품정보를 전달드립니다.5분이내 빠른 대출가능여부확인 XXX 대출상품안내1. 직장인신용대출한도: 1억4000만원금리: 연 3.97%자격: XXX 자체등급과 기업리스트에 따라 차등적용.2. 채무통합전환대출한도: 연봉대비250%금리: 연 3.97%자격: XXX 자체등급과 기업리스트에 따라 차등적용.3. 홀씨한도: 2500만원.금리: 연 8.68%12%자격: 연소득 4000만원 이하 고객대상으로 XXX 자체등급에 따라 차등적용.XXX 상품의 특징1. 당사 거래가 전혀 없어도 대출가능.2. 시중은행보다 높은 한도.3. 자체등급으로 판단하므로 저신용자도 대출가능.4. 부채가 많다면 부채통합상품으로 전환가능.5. 원리금균등방식을 이자만 납입하는 만기일시로 전환가능.6. 가상조회를 통해 한도 및 금리를 한번에 확인가능.이런분들께 권해드립니다.1. 이미 시중은행권에서 대출한도를 모두 사용중이신분2. 기대출의 원리금균등방식으로 인해 월납입금액이 부담스러우신분.3. 총 대출금액은 작으나 대출건수가 많아서 관리가 안되시는분.4. 이제라도 대출로 인한 신용등급 관리 및 상승에 관심이 있으신분.2018년에는 모든 금융사가 대출 한도를 줄이고 신용등급 을 엄격하게 심사합니다 현제 대출 건수나 카드론 현금 서비스 과다 고객 분 들은 미리 대비하시고 등급관리 를 하시기 바랍니다.신용에 대한 기본적인 상식과 지식을 알아야 하는 시대입니다. 최소한의 지식을 본인이 알아야 금전적 손해를 보는 일이 없습니다.신청방법: 상담 또는 00시 00분 상담이라고 답장을 보내주시거나 전화를 주시면 친절하고 안전한 상담으로 도움드리겠습니다.수신을 희망하지 않으실 경우에는 거부 라는 답장을 주시면 수신거부 목록에 등록을 시켜 두번 다시 발송되지 않안녕하세요 \n",
      "\n",
      "페퍼 XXX안녕하세요11월을 맞이하여 당사상품의 자격기준과 심사기준이 완화되어 상품에 대해 고객님께 간단하게 상품정보를전달드립니다.수신을 희망하지 않으실 경우에는 거부 라는 답장을 주시면 KISA 수신거부 목록에 등록 시켜 두번 다시 발송되지 않도록 조치를 취해드리겠습니다.현재 타행상품을 보유 중이신데 1 금융권에 추가한도가 안나오시는경우2 금융권 상품을 이용 중이신데 월 불입금이 부담이되어 낮은금리로 상품변경이 필요하신 경우추가로 넉넉한 자금 한도가 필요하신 경우에 추천해 드리며 상품의 대한 가이드는 아래와 같습니다.대출 상품 안내1.직장인신용대출한도: 1억까지.금리: 최저 6.9%자격: 페퍼 XXX 은행 자체등급과 기업리스트에 따라 차등적용.2.채무통합전환대출한도: 연봉대비250%까지.금리: 최저 6.9%자격: 페퍼 XXX 은행 자체등급과 기업리스트에 따라 차등적용.상품의 특징1.당사 거래가 전혀 없어도 대출가능.2.시중은행보다 높은 한도.3.자체등급으로 판단하므로 저신용자도 대출가능.4.부채가 많다면 부채통합상품으로 전환가능.5.상환 방법을 이자만 납입하는 만기일시로 전환가능.6.신용조회 없이 가상 조회를 통해 한도 및 금리를 한번에 확인 가능.이런 분들께 권해드립니다.1.이미 시중은행권에서 대출한도를 모두 사용중이신분.2.기대출의 원리금균등방식으로 인해 월납입금액이 부담스러우신분.3.총 대출금액은 작으나 대출건수가 많아서 관리가 안되시는분.4.이제라도 대출로 인한 신용등급 관리 및 상승에 관심이 있으신분.신용에 대한 기본적인 상식과 지식을 알아야 하는 시대입니다.최소한의 지식을 본인이 알아야 금전적 손해를 보는 일이 없습니다.신청방법: 문자로 상담또는00시00분 상담이라고 답장을 보내주시거나 전화를 주시면 친절하고 안전한 상담으로 도움드리겠습니다.상담사 : XXX 팀장연락처 : XXX-XXX-XXX페퍼 XXX ... \n",
      "\n",
      "XXX정확하고 올바른 신용대출2018년 하반기 당사상품의 자격기준과 심사기준이 완화되어 상품에 대해 고객님께 간단하게 상품정보를 안내드립니다.XXX 대출상품안내1. 직장인신용대출한도: 1억4000만원금리: 연 2.97%자격: XXX 자체등급과 기업리스트에 따라 차등적용.2. 채무통합전환대출한도: 연봉대비300%금리: 연 2.97%자격: XXX 자체등급과 기업리스트에 따라 차등적용.3. 홀씨한도: 2500만원.금리: 연 8.68%12%자격: 연소득 4000만원 이하 고객대상으로 XXX국민 자체등급에 따라 차등적용.XXX 상품의 특징1. 당사 거래가 전혀 없어도 대출가능.2. 시중은행보다 높은 한도.3. 자체등급으로 판단하므로 저신용자도 대출가능.4. 부채가 많다면 부채통합상품으로 전환가능.5. 원리금균등방식을 이자만 납입하는 만기일시로 전환가능.6. 가상조회를 통해 한도 및 금리를 한번에 확인가능.이런분들께 권해드립니다.1. 이미 시중은행권에서 대출한도를 모두 사용중이신분.2. 기대출의 원리금균등방식으로 인해 월납입금액이 부담스러우신분.3. 총 대출금액은 작으나 대출건수가 많아서 관리가 안되시는분.4. 이제라도 대출로 인한 신용등급 관리 및 상승에 관심이 있으신분.신용에 대한 기본적인 상식과 지식을 알아야 하는 시대입니다. 최소한의 지식을 본인이 알아야 금전적 손해를 보는 일이 없습니다.신청방법:상담 또는 00시 00분 상담이라고 답장을 보내주시거나 전화를 주시면 친절하고 안전한 상담으로 도움드리겠습니다.수신을 희망하지 않으실 경우에는 거부 라는 답장을 주시면 수신거부 목록에 등록을 시켜 두번 다시 발송되지 않도록 조치를 취해드리겠습니다.무료수신거부 XXX-XXX-XXX제목없음 \n",
      "\n",
      "(XXX고객님 안녕하세요2018년도 하반기 바뀐 XXX 국민 은행 직장인대상 가이드 안내입니다다름이 아니라 메세지를 보내드리XXX 고객님들에게 도움을 드리고자해서 입니다이런 분들께 권해드립니다.1. 은행권에서 기존한도를 모두 사용 중이신 분.2. 기대출의 원리금 균등방식으로 인해 월 불입금액이 부담스러우신 분.(분산된 부채 통합시 신용등급 상승 및 매월 내시는 불입금액감소 이자비용의 절감)3. 총 채무금액은 작으나 채무건수가 많아서 관리가 안 되시는 분.(현금서비스 및 고금리의 2금융권상품(카드론XXX3금융)사용하고 계신분)XXX XXX의 특징1. 당행 거래가 없으셔도 진행가능.2. 시중은행권보다 높은 한도.3. 부채가 많다면 부채 통합상품으로 전환가능.XXX XXX 상품 안내대상 - 연소득 2천 이상금리: 최저 3.5%기간 - 거치 만기상품으로 이자만 납입하시거나 5년분할상환 중 자유선택가능신용등급 17등급 진행가능은행권대환 추가자금XXX 수탁법인결코 아직 늦지 않았다고 말씀드리겠습니다. 본인의 신용은 스스로 직접 관리해야 하는 시대입니다. 최소한의 지식과 상식은 알고 계셔야 금전적인 손해 보는 일이 없습니다.신청방법:문자로 상담 또는 00시 00분 상담이라고 답장을 보내주시거나 전화를 주시면 친절하고 안전한 상담으로 도움드리겠습니다.수신을 희망하지 않으실 경우에는 거부 라는 답장을 주시면 KISA 수신거부 목록에 등록을 시켜 두번 다시 발송되지 않도록 조치를 취해드리겠습니다.무료거부 XXX-XXX-XXX인증 XXX 고객님 안녕하세요 2018년 \n",
      "\n",
      "XXX메세지를 보내드린것은 다름이 아니라 2018년 새롭게바뀐 직장인대상 가이드 안내차보내드리며 메세지를 원치 않으시는 경우 거부문자시 신속히 조치를 취하도록 하겠습니다.XXX대상 - 연소득 2천 이상금리 - 연 4.24% 기간 - 거치 만기상품으로 이자만 납입하시거나 5년분할상환 중 자유선택가능1 카드론2금융대출이 있으셔도 대환대출로 진행가능2 대출건수현금서비스 금액이 많아도 예외건으로 진행가능3 신용등급 17등급 진행가능많은 직장인분들이 바쁘셔서 혹은 시중은행 가계대출(신용대출)이 제한되면서 현금서비스 및 고금리의 2금융권상품(카드론XXX3금융)을 많이들 사용하고 계십니다XXX 고객님들을 낮은 금리의 전환대출 및 부채통합을 도와드리고 있습니다(분산된 부채 통합시 신용등급 상승 및 매월 내시는 불입금액에 대한 부담감소 이자비용의 절감)이자만 납입시)5000만원 신청시 매월 250417원으로 이용가능 합니다5년분할 납입시)5000만원 신청시 매월 966873원(원금이자)으로 이용가능 합니다이번 기회에 은행권 저금리상품으로 전환해 보시기 바랍니다홍보성 문자이나 필요한 한분 한분에게 도움이 되고자 합니다신청방법상담 가능 시간.성함.으로 문자예약.또는 전화주시면 상담가능하십니다감사합니다.은행권대환 추가자금XXX 수탁법인해당이 되지 않으시거나 거부를 원하시는 분들은 거부라고 회신하여 주신다면 재발송 않도록 하겠습니다 번호의 오류나 전산의 실수가 있을 수 있사오니 양해 부탁드립니다무료거부 XXX-XXX-XXX 메세... \n",
      "\n",
      "XXX정확하고 올바른 신용대출2018년 하반기 당사상품의 자격기준과 심사기준이 완화되어 상품에 대해 고객님께 간단하게 상품정보를 안내드립니다.XXX 대출상품안내1. 직장인신용대출한도: 1억4000만원금리: 연 4.59%자격: XXX 자체등급과 기업리스트에 따라 차등적용.2. 채무통합전환대출한도: 연봉대비300%(단 직업군 연봉 소득대비 상환하는 수지율에따라 적용)금리: 연 4.59%자격: XXX 자체등급과 기업리스트에 따라 차등적용.3. 홀씨한도: 2500만원.금리: 연 8.68%12%자격: 연소득 4000만원 이하 고객대상으로 XXX국민 자체등급에 따라 차등적용.XXX 상품의 특징1. 당사 거래가 전혀 없어도 대출가능.2. 시중은행보다 높은 한도.3. 자체등급으로 판단하므로 저신용자도 대출가능.4. 부채가 많다면 부채통합상품으로 전환가능.5. 원리금균등방식을 이자만 납입하는 만기일시로 전환가능.6. 가상조회를 통해 한도 및 금리를 한번에 확인가능.이런분들께 권해드립니다.1. 이미 시중은행권에서 대출한도를 모두 사용중이신분.2. 기대출의 원리금균등방식으로 인해 월납입금액이 부담스러우신분.3. 총 대출금액은 작으나 대출건수가 많아서 관리가 안되시는분.4. 이제라도 대출로 인한 신용등급 관리 및 상승에 관심이 있으신분.신용에 대한 기본적인 상식과 지식을 알아야 하는 시대입니다. 최소한의 지식을 본인이 알아야 금전적 손해를 보는 일이 없습니다.최근 6개 월 연체이력 있을시 진행은 어렵습니다.신청방법:상담 또는 00시 00분 상담이라고 답장을 보내주시거나 전화를 주시면 친절하고 안전한 상담으로 도움드리겠습니다.수신을 희망하지 않으실 경우에는 거부 라는 답장을 주시면 수신거부 목록에 등록을 시켜 두번 다시 발송되지 않도록 조치를 취해드리겠습니다.무료수신거부 XXX-XXX-XXX제목없음 \n",
      "\n",
      "XXX정확하고 올바른 신용대출당사상품의 자격기준과 심사기준이 완화되어 상품에 대해 고객님께 간단하게 상품정보를 전달드립니다.5분이내 빠른 대출가능여부확인  XXX 대출상품안내1. 직장인신용대출한도: 1억4000만원금리: 연 3.97%자격: XXX 자체등급과 기업리스트에 따라 차등적용.2. 채무통합전환대출한도: 연봉대비250%금리: 연 3.97%자격: XXX 자체등급과 기업리스트에 따라 차등적용.3. 홀씨한도: 2500만원.금리: 연 8.68%12%자격: 연소득 4000만원 이하 고객대상으로 XXX 자체등급에 따라 차등적용.XXX 상품의 특징1. 당사 거래가 전혀 없어도 대출가능.2. 시중은행보다 높은 한도.3. 자체등급으로 판단하므로 저신용자도 대출가능.4. 부채가 많다면 부채통합상품으로 전환가능.5. 원리금균등방식을 이자만 납입하는 만기일시로 전환가능.6. 가상조회를 통해 한도 및 금리를 한번에 확인가능.이런분들께 권해드립니다.1. 이미 시중은행권에서 대출한도를 모두 사용중이신분2. 기대출의 원리금균등방식으로 인해 월납입금액이 부담스러우신분.3. 총 대출금액은 작으나 대출건수가 많아서 관리가 안되시는분.4. 이제라도 대출로 인한 신용등급 관리 및 상승에 관심이 있으신분.2018년에는 모든 금융사가 대출 한도를 줄이고 신용등급 을 엄격하게 심사합니다 현제 대출 건수나 카드론 현금 서비스 과다 고객 분 들은 미리 대비하시고 등급관리 를 하시기 바랍니다.신용에 대한 기본적인 상식과 지식을 알아야 하는 시대입니다. 최소한의 지식을 본인이 알아야 금전적 손해를 보는 일이 없습니다.신청방법: 상담 또는 00시 00분 상담이라고 답장을 보내주시거나 전화를 주시면 친절하고 안전한 상담으로 도움드리겠습니다.수신을 희망하지 않으실 경우에는 거부 라는 답장을 주시면 수신거부 목록에 등록을 시켜 두번 다시 발송되지 않도록 조치를안냥하세요 \n",
      "\n",
      "XXX2018년 하반기 채무통합(대환상품)추가상품 개편되어 안내드립니다.금년 부채통합및 낮은금리로 이용하실수있는 마지막 기회입니다.고민하지 마시고 전화주세요.상품특징원리금균등(원금이자)방식을 이자만내는 방식으로 전환신용등급 7등급이내의 직장인부채과다로인해 추가진행이 어렵다면 통합해드리겠습니다연소득대비 최 대 300%이내가능 (단 직업군 연봉 소득대비 상환하는 수지율에따라 적용)최근 6개 월간 연체사실이 있다면 진행불가.카드론현금서비스 사용이 잦은 분들채무금액은 작으나 건수가 여러건으로 이용중인분들1가상조회로 한도금리를 한번에 알수 있습니다.2XXXXXX은행사금융등을 1금융권 으로 대환할 수 있습니다.3시중은행보다 높은 한도를 자부합니다.4꼭 주거래 은행이 아니라도 상관없이 진행가능합니다.내용금리최 저 4.59% 부터(기준금리가산금리)한도최 대 1억원까지(대환자금추가자금)조건만23세이상직장인개인사업자채무통합의 핵심포인트1.월 납입액 45%85% 감소및 이자금액 최 대 85%감소효과2.신용도를 최 대 등급 1등급까지 상승3.퍼져있는 부채를 13건으로 줄여 관리하기 편하게4.추가 자금이 필요할때 은행권으로 가능하실수 있게이런분들께 권해드립니다.1.이미 시중은행권에서 대출한도를 모두 사용중이신분.2.기대출의 원리금균등방식으로 인해 월납입금액이 부담스러우신분.3.총 대출금액은 작으나 대출건수가 많아서 관리가 안되시는분.4.이제라도 대출로 인한 신용등급 관리 및 상승에 관심이 있으신분.신청방법전화주시거나 부재중일시 상담가능시간 문자예약 보내주시면 상담가능합니다감사합니다.은행권대환 추가자금XXX 수탁법인해당이안녕하세요 \n",
      "\n",
      "XXX정확하고 올바른 신용대출당사상품의 자격기준과 심사기준이 완화되어 상품에 대해 고객님께 간단하게 상품정보를 전달드립니다.5분이내 빠른 대출가능여부확인 XXX 대출상품안내1. 직장인신용대출한도: 1억4000만원금리: 연 3.97%자격: XXX 자체등급과 기업리스트에 따라 차등적용.2. 채무통합전환대출한도: 연봉대비250%금리: 연 3.97%자격: XXX 자체등급과 기업리스트에 따라 차등적용.3. 홀씨한도: 2500만원.금리: 연 8.68%12%자격: 연소득 4000만원 이하 고객대상으로 XXX 자체등급에 따라 차등적용.XXX 상품의 특징1. 당사 거래가 전혀 없어도 대출가능.2. 시중은행보다 높은 한도.3. 자체등급으로 판단하므로 저신용자도 대출가능.4. 부채가 많다면 부채통합상품으로 전환가능.5. 원리금균등방식을 이자만 납입하는 만기일시로 전환가능.6. 가상조회를 통해 한도 및 금리를 한번에 확인가능.이런분들께 권해드립니다.1. 이미 시중은행권에서 대출한도를 모두 사용중이신분2. 기대출의 원리금균등방식으로 인해 월납입금액이 부담스러우신분.3. 총 대출금액은 작으나 대출건수가 많아서 관리가 안되시는분.4. 이제라도 대출로 인한 신용등급 관리 및 상승에 관심이 있으신분.2018년에는 모든 금융사가 대출 한도를 줄이고 신용등급 을 엄격하게 심사합니다 현제 대출 건수나 카드론 현금 서비스 과다 고객 분 들은 미리 대비하시고 등급관리 를 하시기 바랍니다.신용에 대한 기본적인 상식과 지식을 알아야 하는 시대입니다. 최소한의 지식을 본인이 알아야 금전적 손해를 보는 일이 없습니다.신청방법: 상담 또는00시 00분 상담이라고 답장을 보내주시거나 전화를 주시면 친절하고 안전한 상담으로 도움드리겠습니다.수신을 희망하지 않으실 경우에는 거부 라는 답장을 주시면 수신거부 목록에 등록을 시켜 두번 다시 발송되지 않도록 조치를 취해드리겠습니다안녕하세요 \n",
      "\n",
      "안녕하셨어요?오랫만에 문자로 인사드리네요.2012년 저희 XXX(구 XXX)에서 신용대출 받으실때 대출 도와드렸던 담당 직원 XXX 책임입니다.남은 11월달도 하시는 모든 일 잘되시고 가족분들 모두 항상 건강하시길 기도하겠습니다.2018년 11월 15일부로 당행 대출 상품이 일부 완화되었습니다. 현재 대출이 많더라도 안된다고 생각치 마시고 편히 연락주십시요. 전화번호가 없으셨다면 하나 저장해두시고 나중에라도 편하게 연락주십시요.대출 진행시 예전처럼 다시 한번 방문드려서 친절히 상담드리겠습니다.당행에서 신규 대출 상품이 나와 간단히 안내만 드립니다.?XXX 대출상품 특징?1. 현재 당행 거래가 없어도 가능2. 연소득대비 최대 2.5배까지 가능3. 월 불입금이 많으셔서 부담되면 - 이자만 납입으로 전환 가능4. 신용등급 악영향주는 카드론  현금서비스를 은행으로 전환5. 고금리의 XXXXXX대부업 전환대출 가능직장인 신용대출-최저금리 : 3.22%-최대한도 : 1억5천만원-연소득의 2.5배까지 대출 가능고금리 대환대출 상품-신용등급에 안좋은 현금서비스 및 카드론 대환-고금리 XXX계열XXX대부업 대환 대출-여러 곳의 대출을 하나로 채무 통합하여 관리 매달 월불입금이 너무 많으셔서 힘드시거나 또는 이자만 내는 방식으로 전환을 원하시면 편히 전화 주십시요. 여러 건의 대출을 통합하길 원하시거나 한달 월불입금이 많으셔서 계속 현금서비스나 카드론 대출이 늘어난다고 생각이 드셔도 주저 없이 연락주시기 바랍니다. 특히 XXX이나 XXX 사금융권(대부업) 이용중이신 분들은 편히 연락부탁드립니다. 수신을 원치 않으시면 간단히 수신거부라 보내주시면 은행 전체에서 문자 발송을 금지하도록 처리하겠습니다.지금 필요하지 않으시다면 번호를 저장해두셨다가 필요시 편하게 전화주세요.언제나 건승하시고 가족분 모두의 건강을 함께 기도하겠습니다.XXX 개인대출본부 XXX 배상제목없음 \n",
      "\n",
      "XXX금융소비자 질문 TOP31. 가상조회는 신용등급에 영향이 없나요?소정의 점수는 차감이 되지만 등급이 하락할 정도로 영향이 있는 것은 아닙니다.2. 카드 장기 단기 대출이 신용에 안 좋은 건가요?카드업 권은 할부금융사이기 때문에 신용평가사에서 안 좋게 반영됩니다.3. 연체가 없어도 신용등급이 떨어지나요?신용등급 기준은 연체뿐만 아니라 채무 내용과 카드사용 등등이 반영되기 때문에 한가지 내용으로 판단할 수 없습니다.상담신청은 문자로 상담이라고 회신을 해주시거나 전화를 주시면 최선을 다해 도와드릴 것을 약속합니다.XXX 대출상품 안내1. 직장인 신용대출한도: 1억 4000만금리: 2.97%자격: XXX 자체 등급과 기업 리스트에 따라 차등 적용.2. 채무통합 전환대출한도: 연봉 대비 300%금리: 2.97%자격: XXX  자체 등급과 기업 리스트에 따라 차등 적용.3. 희망홀씨한도: 2500만 원.금리: 8.68%12%자격: 연 소득 4000만 원 이하 고객 대상으로 자체등급에 따라 차등적용.XXX 상품의 특징1. 당사 거래가 전혀 없어도 대출 가능.2. 시중은행보다 높은 한도.3. 자체 등급으로 판단하므로 저신용자도 대출 가능.4. 부채가 많다면 부채 통합상품으로 전환 가능.5. 원리금 균등방식을 이자만 내는 만기일시로 전환 가능.6. 가상 조회를 통해 한도 및 금리를 한 번에 확인 가능.이런 분들께 권해드립니다.1. 이미 시중 은행권에서 대출한도를 모두 사용 중이신 분.2. 기존대출의 원리금 균등방식으로 인해 월납입금액이 부담스러우신 분.3. 총대출금액은 적으나 대출 건수가 많아서 관리가 안 되는 분.4. 이제라도 대출로 인한 신용등급 관리 및 상승에 관심이 있으신 분.상담신청은 문자로 상담이라고 회신을 해주시거나 전화를 주시면 최선을 다해 도와드릴 것을 약속합니다.수신을 희망하지 않으실 경우에는 거부라제목없음 \n",
      "\n",
      "XXX2018년 하반기 채무통합(대환상품)추가상품 개편되어 안내드립니다.금년 부채통합및 낮은금리로 이용하실수있는 마지막 기회입니다.고민하지 마시고 전화주세요.상품특징원리금균등(원금이자)방식을 이자만내는 방식으로 전환신용등급 7등급이내의 직장인부채과다로인해 추가진행이 어렵다면 통합해드리겠습니다연소득대비 최 대 300%이내가능 (단 직업군 연봉 소득대비 상환하는 수지율에따라 적용)최근 6개 월간 연체사실이 있다면 진행불가.카드론현금서비스 사용이 잦은 분들채무금액은 작으나 건수가 여러건으로 이용중인분들1가상조회로 한도금리를 한번에 알수 있습니다.2XXXXXX은행사금융등을 1금융권 으로 대환할 수 있습니다.3시중은행보다 높은 한도를 자부합니다.4꼭 주거래 은행이 아니라도 상관없이 진행가능합니다.내용금리최 저 4.59% 부터(기준금리가산금리)한도최 대 1억원까지(대환자금추가자금)조건만23세이상직장인개인사업자채무통합의 핵심포인트1.월 납입액 45%85% 감소및 이자금액 최 대 85%감소효과2.신용도를 최 대 등급 1등급까지 상승3.퍼져있는 부채를 13건으로 줄여 관리하기 편하게4.추가 자금이 필요할때 은행권으로 가능하실수 있게이런분들께 권해드립니다.1.이미 시중은행권에서 대출한도를 모두 사용중이신분.2.기대출의 원리금균등방식으로 인해 월납입금액이 부담스러우신분.3.총 대출금액은 작으나 대출건수가 많아서 관리가 안되시는분.4.이제라도 대출로 인한 신용등급 관리 및 상승에 관심이 있으신분.신청방법전화주시거나 부재중일시 상담가능시간 문자예약 보내주시면 상담가능합니다감사합니다.은행권대환 추가자금XXX 수탁법인해당이 되지 않으시거나 거부를 원하시는 분들은 거부라고 회신하여 주신다면 재발송 않도록 하겠습니다.번호의 오류나 전산의 실수가 있을수 있사오니 양해 부탁드립니다.무료수신거부 XXX-XXX-XXX제목없음 \n",
      "\n",
      "XXX2018년 하반기 채무통합(대환상품)추가상품 개편되어 안내드립니다.금년 부채통합및 낮은금리로 이용하실수있는 마지막 기회입니다.고민하지 마시고 전화주세요.상품특징원리금균등(원금이자)방식을 이자만내는 방식으로 전환신용등급 7등급이내의 직장인부채과다로인해 추가진행이 어렵다면 통합해드리겠습니다연소득대비 최 대 300%이내가능 (단 직업군 연봉 소득대비 상환하는 수지율에따라 적용)최근 6개 월간 연체사실이 있다면 진행불가.카드론현금서비스 사용이 잦은 분들채무금액은 작으나 건수가 여러건으로 이용중인분들1가상조회로 한도금리를 한번에 알수 있습니다.2XXXXXX은행사금융등을 1금융권 으로 대환할 수 있습니다.3시중은행보다 높은 한도를 자부합니다.4꼭 주거래 은행이 아니라도 상관없이 진행가능합니다.내용금리최 저 4.59% 부터(기준금리가산금리)한도최 대 1억원까지(대환자금추가자금)조건만23세이상직장인개인사업자채무통합의 핵심포인트1.월 납입액 45%85% 감소및 이자금액 최 대 85%감소효과2.신용도를 최 대 등급 1등급까지 상승3.퍼져있는 부채를 13건으로 줄여 관리하기 편하게4.추가 자금이 필요할때 은행권으로 가능하실수 있게이런분들께 권해드립니다.1.이미 시중은행권에서 대출한도를 모두 사용중이신분.2.기대출의 원리금균등방식으로 인해 월납입금액이 부담스러우신분.3.총 대출금액은 작으나 대출건수가 많아서 관리가 안되시는분.4.이제라도 대출로 인한 신용등급 관리 및 상승에 관심이 있으신분.신청방법전화주시거나 부재중일시 상담가능시간 문자예약 보내주시면 상담가능합니다감사합니다.은행권대환 추가자금XXX 수탁법인해당이 되지 않으시거나 거부를 원하시는 분들은 거부라고 회신하여 주신다면 재발송 않도록 하겠습니다.번호의 오류나 전제목없음 \n",
      "\n",
      "XXX정확하고 올바른 신용대출당사상품의 자격기준과 심사기준이 완화되어 상품에 대해 고객님께 간단하게 상품정보를 전달드립니다.5분이내 빠른 대출가능여부확인XXX 대출상품안내1. 직장인신용대출한도: 1억4000만원금리: 연 3.97%자격: XXX 자체등급과 기업리스트에 따라 차등적용.2. 채무통합전환대출한도: 연봉대비250%금리: 연 3.97%자격: XXX 자체등급과 기업리스트에 따라 차등적용.3. 홀씨한도: 2500만원.금리: 연 8.68%12%자격: 연소득 4000만원 이하 고객대상으로 XXX 자체등급에 따라 차등적용.XXX 상품의 특징1. 당사 거래가 전혀 없어도 대출가능.2. 시중은행보다 높은 한도.3. 자체등급으로 판단하므로 저신용자도 대출가능.4. 부채가 많다면 부채통합상품으로 전환가능.5. 원리금균등방식을 이자만 납입하는 만기일시로 전환가능.6. 가상조회를 통해 한도 및 금리를 한번에 확인가능.이런분들께 권해드립니다.1. 이미 시중은행권에서 대출한도를 모두 사용중이신분2. 기대출의 원리금균등방식으로 인해 월납입금액이 부담스러우신분.3. 총 대출금액은 작으나 대출건수가 많아서 관리가 안되시는분.4. 이제라도 대출로 인한 신용등급 관리 및 상승에 관심이 있으신분.2018년에는 모든 금융사가 대출 한도를 줄이고 신용등급 을 엄격하게 심사합니다 현제 대출 건수나 카드론 현금 서비스 과다 고객 분 들은 미리 대비하시고 등급관리 를 하시기 바랍니다.신용에 대한 기본적인 상식과 지식을 알아야 하는 시대입니다. 최소한의 지식을 본인이 알아야 금전적 손해를 보는 일이 없습니다.신청방법: 상담 또는 00시 00분 상담이라고 답장을 보내주시거나 전화를 주시면 친절하고 안전한 상담으로 도움드리겠습니다.수신을 희망하지 않으실 경우에는 거부 라는 답장을 주시면 수신거부 목록에 등록을 시켜 두번 다시 발송되지 않도록 조치를 취해안녕하세요 \n",
      "\n",
      "XXX정확하고 올바른 신용대출당사상품의 자격기준과 심사기준이 완화되어 상품에 대해 고객님께 간단하게 상품정보를 전달드립니다.5분이내 빠른 대출가능여부확인XXX 대출상품안내1. 직장인신용대출한도: 1억4000만원금리: 연 3.97%자격: XXX 자체등급과 기업리스트에 따라 차등적용.2. 채무통합전환대출한도: 연봉대비250%금리: 연 3.97%자격: XXX 자체등급과 기업리스트에 따라 차등적용.3. 홀씨한도: 2500만원.금리: 연 8.68%12%자격: 연소득 4000만원 이하 고객대상으로 XXX 자체등급에 따라 차등적용.XXX 상품의 특징1. 당사 거래가 전혀 없어도 대출가능.2. 시중은행보다 높은 한도.3. 자체등급으로 판단하므로 저신용자도 대출가능.4. 부채가 많다면 부채통합상품으로 전환가능.5. 원리금균등방식을 이자만 납입하는 만기일시로 전환가능.6. 가상조회를 통해 한도 및 금리를 한번에 확인가능.이런분들께 권해드립니다.1. 이미 시중은행권에서 대출한도를 모두 사용중이신분2. 기대출의 원리금균등방식으로 인해 월납입금액이 부담스러우신분.3. 총 대출금액은 작으나 대출건수가 많아서 관리가 안되시는분.4. 이제라도 대출로 인한 신용등급 관리 및 상승에 관심이 있으신분.2018년에는 모든 금융사가 대출 한도를 줄이고 신용등급 을 엄격하게 심사합니다 현제 대출 건수나 카드론 현금 서비스 과다 고객 분 들은 미리 대비하시고 등급관리 를 하시기 바랍니다.신용에 대한 기본적인 상식과 지식을 알아야 하는 시대입니다. 최소한의 지식을 본인이 알아야 금전적 손해를 보는 일이 없습니다.신청방법: 상담 또는 00시 00분 상담이라고 답장을 보내주시거나 전화를 주시면 친절하고 안전한 상담으로 도움드리겠습니다.수신을 희망하지 않으실 경안녕하세요 \n",
      "\n",
      "한국XXX은행금전을 요구하는건 사기 입니다. 유의하세요!1.부득이하게 높은 이자를 내고 있는 분2.월 불입금을 줄이고 하시는 분3.건수를 줄여 신용등급을 올리고 싶으신 분4.복잡한 부채를 하나로 묶어 관리하고자 하는 분수신을 원치 않으신분들이라면 거부라는 답장을 주시면 다시는 발송되지않습니다.기존 높은금리에서 저금리로 금리전환하는걸 대환이라 하죠 이렇게 높은금리에서 저금리로 갈아타면 금리차이로 인해 이자가 절약됩니다.여기서 포인트는 바로 금리차이! 대환상품은 기존보다 낮은 금리로 갈아타는것이 매우 중요합니다.빚테크의 시작 대환을 통해 이자절감 받으세요부채통합(대환)안내대상- 1년이상 재직중인 직장인금리- 최저 3%차등적용한도- 연봉대비 250%까지 한도발생자격조건- 직장인이라면 누구나 가능 단 연체자는 불가합니다.원리금균등방식을 이자로 내는 방식으로 전환하여 월 최대 불입금을 최고 85%까지 줄일수 있습니다.최근 6개월간 연체사실만 없다면 누구나 진행이 가능하며 카드론현금서비스가 잦은 분들도 가능합니다.신용등급이 7등급XXX 분들중 건수가 많아 통합을 하고싶거나 은행에서 더이상의 추가 진행이 안되는 분들께서 많이 문의를 주시고 있습니다. 문자상담 신청방법문자로상담이라고 답장을 주시거나 전화를 주시면 최선을 다해 도와드리겠습니다. XXX bank 직장인 안내1.대상- 직장인(공무원대기업외감일반기업)2.금리- 2.8%3.한도- 최대 1억4천만원까지 4.진행등급- 내부등급으로 확인(신용이 낮아도 가능)카톡 및 오픈채팅 신청방법 ID:  citi58  아이디 검색후 친구추가하시고 상담이라고 카톡주시면 됩니다. open.kakao.comost3EPO1 (입장하셔서 문의 남겨 주세요)햇살론새희망홀씨안내최대 3000만원까지연 20%이상의 악성부채를 6개월 이상사용중인분연 10%대의 낮은금리로 진행XXX \n",
      "\n",
      "XXX정확하고 올바른 신용대출당사상품의 자격기준과 심사기준이 완화되어 상품에 대해 고객님께 간단하게 상품정보를 전달드립니다.5분이내 빠른 대출가능여부확인XXX 대출상품안내1. 직장인신용대출한도: 1억4000만원금리: 연 3.97%자격: XXX 자체등급과 기업리스트에 따라 차등적용.2. 채무통합전환대출한도: 연봉대비250%금리: 연 3.97%자격: XXX 자체등급과 기업리스트에 따라 차등적용.3. 홀씨한도: 2500만원.금리: 연 8.68%12%자격: 연소득 4000만원 이하 고객대상으로 XXX 자체등급에 따라 차등적용.XXX 상품의 특징1. 당사 거래가 전혀 없어도 대출가능.2. 시중은행보다 높은 한도.3. 자체등급으로 판단하므로 저신용자도 대출가능.4. 부채가 많다면 부채통합상품으로 전환가능.5. 원리금균등방식을 이자만 납입하는 만기일시로 전환가능.6. 가상조회를 통해 한도 및 금리를 한번에 확인가능.이런분들께 권해드립니다.1. 이미 시중은행권에서 대출한도를 모두 사용중이신분2. 기대출의 원리금균등방식으로 인해 월납입금액이 부담스러우신분.3. 총 대출금액은 작으나 대출건수가 많아서 관리가 안되시는분.4. 이제라도 대출로 인한 신용등급 관리 및 상승에 관심이 있으신분.2018년에는 모든 금융사가 대출 한도를 줄이고 신용등급 을 엄격하게 심사합니다 현제 대출 건수나 카드론 현금 서비스 과다 고객 분 들은 미리 대비하시고 등급관리 를 하시기 바랍니다.신용에 대한 기본적인 상식과 지식을 알아야 하는 시대입니다. 최소한의 지식을 본인이 알아야 금전적 손해를 보는 일이 없습니다.신청방법: 상담 또는 00시 00분 상담이라고 답장을 보내주시거나 전화를 주시면 친절하고 안전한 상담으로 도움드리겠습니다.수신을 희망하지 않으실 경우에는 거부 라는 답장을 주시면 수신거부 목록에 등록을 시켜 두번 다시 발송되지 않도안녕하세요 \n",
      "\n",
      "안녕하세요 좀전에 XXX린 XXX입니다 추가 자금필요하시거나 기존고금리상품 대환가능하셔요연락주시면 친절히 상담드리겠습니다 오늘도 좋은하루 되세요안녕하세요 좀전에 XXX \n",
      "\n",
      "XXX 상품 안내안녕하세요.저희 XXX에서 신규 상품 출시되고 채무통합(대환상품)신규상품 가능 고객으로 선정되어 안내차 연락 드립니다.여유시간을 내어 읽어 주신다면 도움이 되실거라 생각되어 안내장을 보내드립니다.금리최 저 4.15% 부터(기준금리가산금리)한도최 대 1억원까지(대환자금추가자금)조건만20세이상직장인개인사업자프리랜서무직자 가능채무 통합 상품원리금균등(원금이자)방식을이자만내는 방식으로 전환신용등급 7등급이내의 직장인이면부채과다로인해 추가진행이 어렵다면 통합해드리겠습니다연소득대비 최 대 300%이내가능최근 6개 월간 연체사실이 있다면 진행불가.카드론현금서비스 사용이 잦은 분들채무금액은 작으나 건수가 여러건으로 이용중인분들채무통합의 핵심포인트1.월 납입액 45%85% 감소및 이자금액 최 대 85%감소시켜드립니다.2.신용도를 최 대 등급 1등급까지 상승시켜드립니다.3.퍼져있는 부채를 13건으로 줄여 관리하기 편하게 만들어 드립니다.4.추가 자금이 필요할때 은행권으로 가능하실수 있게 해드립니다.정부지원(사잇돌햇.살.론XXX드림)1.한도:3000만원까지(대환자금포함)2.금리:8%15%까지3.자격조건:20%이상의 대출을 6개 월이상 사용중인 분홍보성 문자이나 필요한 한분 한분에게 도움이 되고자 합니다.신청방법상담 가능 시간.성함.으로 문자예약.또는 전화주시면 상담가능하십니다.감사합니다.은행권대환 추가자금XXX 수탁법인HP: XXX-XXX-XXXTEL: XX-XXX-XXXXXX 상품 안내 안녕 \n",
      "\n",
      "XXX메세지를 보내드린것은 다름이 아니라 직장인대상 가이드 안내차 보내드리며 메세지를 원치 않으시는 경우 거부 문자시 신속히 조치를 취하도록 하겠습니다.현재 타행상품을 보유중이신데 1 금융권에 추가한도가 안나오시는경우 또는 2 금융권 상품을 이용중이신데 월불입금이 부담이되어 낮은금리로 상품변경이 필요하신 경우 또한 추가로 넉넉한 자금 한도가 필요하신경우 추천해 드리며 상품의 대한 가이드는 아래와 같습니다.만 23세 이상 직장인전문직 종사자한도:최고 1억 3천한도는 XXX에서 정한 산정방법에 의거 산출함 4.97%부터(등급2 금융건수부채비율구간에 따라 차등적용)가능구간: 연봉대비 부채비율 200% 최고250%이하.(단 직업군 연봉 소득대비 상환하는 수지율에따라 적용)상환방식: 원리금균등분할상환방식 만기일시상환방식위상품은 저희 금융사 거래 실적과는 무관하며..거래내역이 없더라도 가능한 상품입니다.이용가능한 신용등급은 마이크레딧 기준 7등급 이상의 조건이며..2 금융권상품현금서비스카드론이자 부담이XXX 고객님들께 이자 부담과 함께 신용등급 하락에 주요한 원인이 됩니다. 또한 건수가 줄게되면 신용등급이 상향됩니다 현재 지점 방문없이 모바일 인증시스템을 이용 가능한도확인접수 가능하시며 실행또한 지점방문없이 자서담당이 XXX 고객님께서 편리한 시스템을 이용중입니다. 정직하고 자세한 상담을 약속드리며 상담이 필요하신 고객분은 전화 또는 메세지를 남겨주시면 상담 가능시간대에 연락을 드리도록하겠습니다.무료수신거부 XXX-XXX-XXX제목없음 \n",
      "\n",
      "XXX정확하고 올바른 신용대출당사상품의 자격기준과 심사기준이 완화되어 상품에 대해 고객님께 간단하게 상품정보를 전달드립니다.5분이내 빠른 대출가능여부확인 XXX 대출상품안내1. 직장인신용대출한도: 1억4000만원금리: 연 3.97%자격: XXX 자체등급과 기업리스트에 따라 차등적용.2. 채무통합전환대출한도: 연봉대비250%금리: 연 3.97%자격: XXX 자체등급과 기업리스트에 따라 차등적용.3. 홀씨한도: 2500만원.금리: 연 8.68%12%자격: 연소득 4000만원 이하 고객대상으로 XXX 자체등급에 따라 차등적용.XXX 상품의 특징1. 당사 거래가 전혀 없어도 대출가능.2. 시중은행보다 높은 한도.3. 자체등급으로 판단하므로 저신용자도 대출가능.4. 부채가 많다면 부채통합상품으로 전환가능.5. 원리금균등방식을 이자만 납입하는 만기일시로 전환가능.6. 가상조회를 통해 한도 및 금리를 한번에 확인가능.이런분들께 권해드립니다.1. 이미 시중은행권에서 대출한도를 모두 사용중이신분2. 기대출의 원리금균등방식으로 인해 월납입금액이 부담스러우신분.3. 총 대출금액은 작으나 대출건수가 많아서 관리가 안되시는분.4. 이제라도 대출로 인한 신용등급 관리 및 상승에 관심이 있으신분.2018년에는 모든 금융사가 대출 한도를 줄이고 신용등급 을 엄격하게 심사합니다 현제 대출 건수나 카드론 현금 서비스 과다 고객 분 들은 미리 대비하시고 등급관리 를 하시기 바랍니다.신용에 대한 기본적인 상식과 지식을 알아야 하는 시대입니다. 최소한의 지식을 본인이 알아야 금전적 손해를 보는 일이 없습니다.신청방법: 상담 또는 00시 00분 상담이라고 답장을 보내주시거나 전화를 주시면 친절하고 안전한 상담으로 도움드리겠습니다.수신을 희망하지 않으실 경우에는 거부 라는 답장을 주시면 수신거부 목록에 등록을 시켜 두번 다시 발송되지 않도록 조치를 취해드리겠습니다안냥하세요 \n",
      "\n",
      "안녕하세요 친XXX은행 입니다.고금리 대출 XXX드리는 상품 홍보차 연락을 드리게 되었으며 바쁜업무에 지장드릴까봐 메세지로 연락드립니다.현재 고금리 대출상품을 보유하고 계시고 추가자금이 필요하시면 채무통합과 추가한도 발생을 위하여 아래 내용을 꼭 읽어봐 주시길 권유드립니다.1.직장인(4대보험 가입자)1-1. 프리랜서 6개월이상  사업자 가능2.금리 최저 6.9%19.9% (개인 신용에 따라 상이)3.1억까지 가능 (대환포함  개인 신용에 따라 상이)4.연봉대비 DTI 250% 이내 진행 가능.5.고금리 및 타금융을 저희은행으로 대환 및 통합해드립니다. 매달내는 상환금이 부담되시거나 고금리를 이용중이라면 자신있게 권해드립니다6.신청방법:언제나 전화 주시면 친절하게 상담해 드리겠습니다.대출 가능조회는 신용등급에 영향을 주지 않습니다. 항상 정직XXX 고객님께 힘이되는 상담사가 되도록 노력하겠습니다. 위 문자는 당 상담사와 상담하셨고 상품서비스 안내등에 동의하셨던 분들을 대상으로 한하여 보내고 있습니다.혹시 당 상담사와 와 관련이 전혀 없으실 경우번호오기로 인한 오류가 있을수 있으며잘못된 수신을 받으셨거나 수신을 원하지 않으실 경우 거부 문자 남겨주시면 조치해 드리도록 하겠습니다.안녕하세요 친XXX... \n",
      "\n",
      "한국XXX은행금전을 요구하는건 사기 입니다. 유의하세요!1.부득이하게 높은 이자를 내고 있는 분2.월 불입금을 줄이고 하시는 분3.건수를 줄여 신용등급을 올리고 싶으신 분4.복잡한 부채를 하나로 묶어 관리하고자 하는 분수신을 원치 않으신분들이라면 거부라는 답장을 주시면 다시는 발송되지않습니다.기존 높은금리에서 저금리로 금리전환하는걸 대환이라 하죠 이렇게 높은금리에서 저금리로 갈아타면 금리차이로 인해 이자가 절약됩니다.여기서 포인트는 바로 금리차이! 대환상품은 기존보다 낮은 금리로 갈아타는것이 매우 중요합니다.빚테크의 시작 대환을 통해 이자절감 받으세요부채통합(대환)안내대상- 1년이상 재직중인 직장인금리- 최저 3%차등적용한도- 연봉대비 250%까지 한도발생자격조건- 직장인이라면 누구나 가능 단 연체자는 불가합니다.원리금균등방식을 이자로 내는 방식으로 전환하여 월 최대 불입금을 최고 85%까지 줄일수 있습니다.최근 6개월간 연체사실만 없다면 누구나 진행이 가능하며 카드론현금서비스가 잦은 분들도 가능합니다.신용등급이 7등급XXX 분들중 건수가 많아 통합을 하고싶거나 은행에서 더이상의 추가 진행이 안되는 분들께서 많이 문의를 주시고 있습니다.문자상담 신청방법문자로상담이라고 답장을 주시거나 전화를 주시면 최선을 다해 도와드리겠습니다.XXX bank 직장인 안내1.대상- 직장인(공무원대기업외감일반기업)2.금리- 2.8%3.한도- 최대 1억4천만원까지4.진행등급- 내부등급으로 확인(신용이 낮아도 가능)카톡 및 오픈채팅 신청방법 ID:  citi57  아이디 검색후 친구추가하시고 상담이라고 카톡주시면 됩니다. open.kakao.comosRnzTO1 (입장하셔서 문의 남겨 주세요)햇살론새희망홀씨안내최대 3000만원까지연 20%이상의 악성부채를 6개월 이상사용중인분연 10%대의 낮은금리로 진행XXX \n",
      "\n",
      "XXX은행 상품 안내안녕하세요. XXX 연락드렸었던 XXX은행 여신영업부 팀장입니다.아침 저녁 일교차가 심해져서 감기 조심하세요(안내)XXX은행에서 11월 신규 상품 출시되며 채무통합(대환상품)신규상품  안내차 연락 드립니다.여유시간을 내어 읽어 주신다면 도움이 되실거라 생각되어 안내장을 보내드립니다.금리최 저 4.3% 부터(기준금리가산금리)한도최 대 1억5000만원까지(대환자금추가자금)조건만20세이상직장인개인사업자법인사업자XXX은행 상품의 포인트1가조회로 한도금리를 한번에 알수 있습니다.2XXXXXX 은행사금융등을 1금융권 으로 대환할 수 있습니다.3시중은행 연봉대비 110%한도 외국계은행 연봉대비220%(대환포함)4주거래 은행이 아니라도 상관없이 진행가능합니다.52금융권에서 부결나셨어도 대환 하실 수 있는 상품이 있습니다.채무 통합 상품원리금균등(원금이자)방식을 이자만내는 방식으로 전환신용등급 7등급이내의 직장인이면부채과다로인해 추가진행이 어렵다면 통합해드리겠습니다.연소득대비 최 대 250%이내가능최근 6개 월간 연체사실이 있다면 진행불가 할 수 있습니다.카드론현금서비스 사용이 잦은 분들채무금액은 작으나 건수가 여러건으로 이용중인분들채무통합의 핵심포인트1.월 납입액 45%85% 감소및 이자금액 최 대 85%감소시켜드립니다.2.신용등급 평균 23등급 올라가서 신용관리에 유리하십니다.3.다중 채무를 13건으로 줄여 관리하기 편하게 만들어 드립니다.4.추가 자금이 필요할때 은행권으로 가능하실수 있게 해드립니다.정부지원(새희망홀씨사잇돌햇살론XXX드림)1.한도:5000만원까지(대환자금포함)2.금리:8%15%까지3.자격조건:20%이상의 대출을 6개월이상 사용중인 분필요한 한분 한분에게 조금이나마 도움이 되고자 합니다. 꼭 은행권이 아니여도 지금 현 상황에서 최대한 유리한 상품으로 확인 가능합니다.신청방법상담 가능 시간.성함.으로 문자예약.또는 전화주시면 상담가능하십니다.XXX은행 개인금융 여신영업부XXX팀장h.p: XXX-XXX-XXX해당이 되지 않으시거나 거부를 원하시는 분들은 거부라고 회신하여 주신다면 재발송 않도록 하겠습니다. 번호의 오류나 전산의 실수가 있을 수 있사오니 양해 XXX은행 상품 안내 안녕하세요. XXX \n",
      "\n",
      "XXXXXX님. 대출이 실행(송금) 되었습니다.대출정보 요약1.대출금액:7000000원2.대출기간:36개월3.대출금리:19.80%4.상환방법:원리금균등상환5.중도상환수수료:0%6.자동이체(CMS)계좌정보 - 은행명 : 우체국 - 계좌번호 : XXX-XXX-XXX517.납입일: 매월 25일 (공휴일인 경우 다음 영업일에 출금됩니다.)8.입금전용(가상)계좌 상호XXX(50):XXX-XXX-XXX59 주의사항1.신용등급 상향 또는 대출을 진행 용도로 비용을 요구하거나저금리로 XXX준다며 개인계좌 송금을 독촉하는 행위 등은모두 사기 대출이므로 주의하시기 바랍니다.2.XXX약 후 14일 이내에 대출금 상환 시 XXX약 철회권 행사가 가능함을 알려드립니다.대출철회 의사를 표시한 경우 중도상환수수료가 면제됩니다.(전 금융사 1개월내 1회당사 1년내 2회 초과 제한) 문의전화 1544-2040(영업일 09시18시)XXX \n",
      "\n",
      "XXX정확하고 올바른 신용대출당사상품의 자격기준과 심사기준이 완화되어 상품에 대해 고객님께 간단하게 상품정보를 전달드립니다.5분이내 빠른 대출가능여부확인 XXX 대출상품안내1. 직장인신용대출한도: 1억4000만원금리: 연 3.97%자격: XXX 자체등급과 기업리스트에 따라 차등적용.2. 채무통합전환대출한도: 연봉대비250%금리: 연 3.97%자격: XXX 자체등급과 기업리스트에 따라 차등적용.3. 홀씨한도: 2500만원.금리: 연 8.68%12%자격: 연소득 4000만원 이하 고객대상으로 XXX 자체등급에 따라 차등적용.XXX 상품의 특징1. 당사 거래가 전혀 없어도 대출가능.2. 시중은행보다 높은 한도.3. 자체등급으로 판단하므로 저신용자도 대출가능.4. 부채가 많다면 부채통합상품으로 전환가능.5. 원리금균등방식을 이자만 납입하는 만기일시로 전환가능.6. 가상조회를 통해 한도 및 금리를 한번에 확인가능.이런분들께 권해드립니다.1. 이미 시중은행권에서 대출한도를 모두 사용중이신분.2. 기대출의 원리금균등방식으로 인해 월납입금액이 부담스러우신분.3. 총 대출금액은 작으나 대출건수가 많아서 관리가 안되시는분.4. 이제라도 대출로 인한 신용등급 관리 및 상승에 관심이 있으신분.2018년에는 모든 금융사가 대출 한도를 줄이고 신용등급 을 엄격하게 심사합니다 현제 대출 건수나 카드론 현금 서비스 과다 고객 분 들은 미리 대비하시고 등급관리 를 하시기 바랍니다.신용에 대한 기본적인 상식과 지식을 알아야 하는 시대입니다. 최소한의 지식을 본인이 알아야 금전적 손해를 보는 일이 없습니다.신청방법:상담 또는 00시 00분 상담이라고 답장을 보내주시거나 전화를 주시면 친절하고 안전한 상담으로 도움드리겠습니다.수신을 희망하지 않으실 경우에는 거부 라는 답장을 주시면 수신거부 목록에 등록을 시켜 두번 다시안녕하세요 \n",
      "\n",
      "XXX정확하고 올바른 신용대출2018년 하반기 당사상품의 자격기준과 심사기준이 완화되어 상품에 대해 고객님께 간단하게 상품정보를 안내드립니다.XXX 대출상품안내1. 직장인신용대출한도: 1억4000만원금리: 연 4.59%자격: XXX 자체등급과 기업리스트에 따라 차등적용.2. 채무통합전환대출한도: 연봉대비300%(단 직업군 연봉 소득대비 상환하는 수지율에따라 적용)금리: 연 4.59%자격: XXX 자체등급과 기업리스트에 따라 차등적용.3. 홀씨한도: 2500만원.금리: 연 8.68%12%자격: 연소득 4000만원 이하 고객대상으로 XXX국민 자체등급에 따라 차등적용.XXX 상품의 특징1. 당사 거래가 전혀 없어도 대출가능.2. 시중은행보다 높은 한도.3. 자체등급으로 판단하므로 저신용자도 대출가능.4. 부채가 많다면 부채통합상품으로 전환가능.5. 원리금균등방식을 이자만 납입하는 만기일시로 전환가능.6. 가상조회를 통해 한도 및 금리를 한번에 확인가능.이런분들께 권해드립니다.1. 이미 시중은행권에서 대출한도를 모두 사용중이신분.2. 기대출의 원리금균등방식으로 인해 월납입금액이 부담스러우신분.3. 총 대출금액은 작으나 대출건수가 많아서 관리가 안되시는분.4. 이제라도 대출로 인한 신용등급 관리 및 상승에 관심이 있으신분.신용에 대한 기본적인 상식과 지식을 알아야 하는 시대입니다. 최소한의 지식을 본인이 알아야 금전적 손해를 보는 일이 없습니다.최근 6개 월 연체이력 있을시 진행은 어렵습니다.신청방법:상담 또는 00시 00분 상담이라고 답장을 보내주시거나 전화를 주시면 친절하고 안전한 상담으로 도움드리겠습니다.수신을 희망하지 않으실 경우에는 거부 라는 답장을 주시면 수신거부 목록에 등록을 시켜 두번 다시 발송되지 않도록 조치를 취해드리겠습니다.제목없음 \n",
      "\n",
      "안녕하세요 페XXX은XXX팀장입니다.고금리 대출 XXX드리는 상품 홍보차 연락을 드리게 되었으며 바쁜업무에 지장드릴까봐 메세지로 연락드립니다.현재 고금리 대출상품을 보유하고 계시고 추가자금이 필요하시면 채무통합과 추가한도 발생을 위하여 아래 내용을 꼭 읽어봐 주시길 권유드립니다.1.직장인(4대보험 가입자)2.금리 최저 6.9% (개인 신용에 따라 상이)3.1억까지 가능 (개인 신용에 따라 상이)4.연봉대비 DTI 200% 이내 진행 가능.5.고금리 및 타금융을 저희은행으로 대환 및 통합해드립니다.6.신청방법:언제나 전화 주시면 친절하게 상담해 드리겠습니다.매달내는 상환금이 부담되시거나고금리를 이용중이라면 자신있게 권해드립니다대출 가능조회는 신용등급에 영향을 주지 않습니다.항상 정직XXX 고객님의 힘이되는 상담사가 되도록 노력하겠습니다.위 문자는 당 상담사와 상담하셨고 상품서비스 안내등에 동의하셨던 분들을 대상으로 한하여 보내고 있습니다.혹시 당 상담사와 와 관련이전혀 없으실 경우번호오기로 인한 오류가 있을수 있으며잘못된 수신을 받으셨거나 수신을 원하지 않으실 경우 거부 문자 남겨주시면 조치해 드리도록 하겠습니다.안녕하세요 페XXX... \n",
      "\n",
      "(XXX고객님 안녕하세요XXX 아니라 메세지를 보내드리XXX 고객님들에게 도움을 드리고자해서 입니다2018년도 하반기 바뀐 XXX XXX 직장인대상 가이드 안내입니다이런 분들께 권해드립니다.1. 은행권에서 기존한도를 모두 사용 중이신 분.2. 기대출의 원리금 균등방식으로 인해 월 불입금액이 부담스러우신 분.(분산된 부채 통합시 신용등급 상승 및 매월 내시는 불입금액감소 이자비용의 절감)3. 총 채무금액은 작으나 채무건수가 많아서 관리가 안 되시는 분.(현금서비스 및 고금리의 2금융권상품(카드론XXX3금융)사용하고 계신분)XXX XXX의 특징1. 당행 거래가 없으셔도 진행가능.2. 시중은행권보다 높은 한도.3. 부채가 많다면 부채 통합상품으로 전환가능.XXX XXX 상품 안내대상 - 연소득 2천 이상금리: 최저 3.5%기간 - 거치 만기상품으로 이자만 납입하시거나 5년분할상환 중 자유선택가능신용등급 17등급 진행가능은행권대환 추가자금XXX 수탁법인결코 아직 늦지 않았다고 말씀드리겠습니다. 본인의 신용은 스스로 직접 관리해야 하는 시대입니다. 최소한의 지식과 상식은 알고 계셔야 금전적인 손해 보는 일이 없습니다.신청방법:문자로 상담 또는 00시 00분 상담이라고 답장을 보내주시거나 전화를 주시면 친절하고 안전한 상담으로 도움드리겠습니다.수신을 희망하지 않으실 경우에는 거부 라는 답장을 주시면 KISA 수신거부 목록에 등록을 시켜 두번 다시 발송되지 않도록 조치를 취해드리겠습니다.무료거부 XXX-XXX-XXX인증 XXX 고객님 안녕하세요  XXX \n",
      "\n",
      "안녕하세요XXX축은행에서XXX고객님분들 개인신용 상담및 접수업무를 맡고있는 신용대출XXX 팀장 입니다. 항상 건강하시고 행복한 일들 가득하시길 기원드립니다. 행여 바쁜업무에 지장드릴까봐 메세지로 연락드립니다. 메세지를 보내드리는 이유는 다름이 아니라 법정최고금리 인하로 2월부터 대환상품 및 서민금융상품 금리기준이 많이 완화되었으나 대출총량제로 인해 판매한도는 매우 부족합니다.현재 2금융권 신용대출을 보유중이시거나 자금이 필요하신데 주거래은행에서 더이상 한도가 발생하지 않으시다면 아래 내용을 꼭 읽어봐 주시고 서둘러 상담받아 보시길 권유 드립니다. 2금융권에서 고금리 신용대출을 보유중이신 분들을 위해 은행권전환과 추가한도를 위하여 XXX축은행 직장인 신용상품을 출시하였습니다. 최근 조건이 상당수 많은부분 완화되어 안내해 드립니다. -직장인신용상품- 1.급여소득자전문직대상 (급여대상자 모두)2.최저 6.9%부터 (연체기록이 과다하지 않다면 가능)3.최대1억4천 급여의 최대 21배까지 가능 4.연봉대비 부채(채무)율이 높으셔도 가능합니다 원리금 상환방식을 이자만 내는 만기일시 상품으로 전환가능. 매달내는 원리금이 부담되시거나고금리를이용중이라면 자신있게 권해드립니다. 현재 은행권에서 가장 완화된 조건의 신용대출입니다.(카드론 및 XXX XXX 대출 이용하시는 분은 부채통합을 위해 추천해 드립니다.) 5.신청방법:언제나 전화 주시면 친절하게 상담해 드리겠습니다 가능조회는 신용등급에 전혀 영향을 주지 않습니다. 모바일가조회로 가능여부를 먼저 확인 가능하시며 서류 접수시 은행방문없이 계신지역으로 직접 찾아뵙고 신분확인 해 드리고접수진행 도와드립니다. 항상 정직XXX 고객님의 힘이되는 XXX축은행이 되도록 노력하겠습니다. 위 문자는 당행과 상담하셨고 상품서비스 안내등에 동의하셨던 분들을 대상으로 한하여 보내고 있습니다. 혹시 당행거래와 관련이 전혀 없으실 경우 번호오안녕하세요 XXX... \n",
      "\n",
      "안녕하세요현존하는 XXX 최고한도1억!!페퍼XXX에서XXX고객님분들 개인신용 상담및 실행업무를 맡고있는 개인 신용 담당 XXX팀장 입니다. 무분별한 금융사 사칭과 금융보이스피싱을 조심하길 항상기도드리며 행여 바쁜업무에 지장드릴까봐 메세지로 연락드립니다. 메세지를 보내드리는 이유는 다름이 아니라 현재 2금융권 신용을 보유중이시거나 자금이 필요하신데 주거래은행에서 더이상 한도가 발생하지 않으시다면 아래 내용을 꼭 읽어봐 주시길 권유드립니다. 2금융권에서 고금리 신용을 보유중이신 분들을 위해 은행권전환과 추가한도를 위하여 페퍼XXX 직장인 신용상품을 출시하였습니다. 최근 조건이 상당수 많은부분 완화되어 안내해 드립니다타사 XXX XXX 대부업채까지도 가능확인만뜨면 모두 합하여 통합 상품도있습니다-직장인신용상품-1.급여소득자전문직대상 (급여대상자 모두)2.최저 6.9%부터 (연체기록이 과다하지 않다면 가능)3.최대1억4천 급여의 최대 21배까지 가능 4.연봉대비 부채(채무)율이 높으셔도 가능합니다 원리금 상환방식을 이자만 내는 만기일시 상품으로 전환가능. 매달내는 원리금이 부담되시거나고금리를이용중이라면 자신있게 권해드립니다 현재 은행권에서 가장 완화된 조건의 신용대출입니다. 5.신청방법:언제나 전화 주시면 친절하게 상담해 드리겠습니다 가능조회는 신용등급에 전혀 영향을 주지 않습니다. 모바일가조회로 가능여부를 먼저 확인 가능하시며 서류 접수시 은행방문없이 계신지역으로 직접 찾아뵙고 신분확인 해 드리고접수진행 도와드립니다. 항상 정직XXX 고객님의 힘이되는 페퍼XXX이 되도록 노력하겠습니다. 위 문자는 당행과 상담하셨고 상품서비스 안내등에 동의하셨던 분들을 대상으로 한하여 보내고 있습니다. 혹시 당행거래와 관련이 전혀 없으실 경우안녕하세요... \n",
      "\n",
      "XXX정확하고 올바른 신용대출당사상품의 자격기준과 심사기준이 완화되어 상품에 대해 고객님께 간단하게 상품정보를 전달드립니다.5분이내 빠른 대출가능여부확인XXX 대출상품안내1. 직장인신용대출한도: 1억4000만원금리: 연 3.97%자격: XXX 자체등급과 기업리스트에 따라 차등적용.2. 채무통합전환대출한도: 연봉대비250%금리: 연 3.97%자격: XXX 자체등급과 기업리스트에 따라 차등적용.3. 홀씨한도: 2500만원.금리: 연 8.68%12%자격: 연소득 4000만원 이하 고객대상으로 XXX 자체등급에 따라 차등적용.XXX 상품의 특징1. 당사 거래가 전혀 없어도 대출가능.2. 시중은행보다 높은 한도.3. 자체등급으로 판단하므로 저신용자도 대출가능.4. 부채가 많다면 부채통합상품으로 전환가능.5. 원리금균등방식을 이자만 납입하는 만기일시로 전환가능.6. 가상조회를 통해 한도 및 금리를 한번에 확인가능.이런분들께 권해드립니다.1. 이미 시중은행권에서 대출한도를 모두 사용중이신분2. 기대출의 원리금균등방식으로 인해 월납입금액이 부담스러우신분.3. 총 대출금액은 작으나 대출건수가 많아서 관리가 안되시는분.4. 이제라도 대출로 인한 신용등급 관리 및 상승에 관심이 있으신분.2018년에는 모든 금융사가 대출 한도를 줄이고 신용등급 을 엄격하게 심사합니다 현제 대출 건수나 카드론 현금 서비스 과다 고객 분 들은 미리 대비하시고 등급관리 를 하시기 바랍니다.신용에 대한 기본적인 상식과 지식을 알아야 하는 시대입니다. 최소한의 지식을 본인이 알아야 금전적 손해를 보는 일이 없습니다.신청방법: 상담 또는 00시 00분 상담이라고 답장을 보내주시거나 전화를 주시면 친절하고 안전한 상담으로 도움드리겠습니다.수신을 희망하지 않으실 경우에는 거부 라는 답장을 주시면 수신거부 목록에 등록을 시켜 두번 다시 발송되지 않도록안녕하세요 \n",
      "\n",
      "한국XXX은행금전을 요구하는건 사기 입니다. 유의하세요!1.부득이하게 높은 이자를 내고 있는 분2.월 불입금을 줄이고 하시는 분3.건수를 줄여 신용등급을 올리고 싶으신 분4.복잡한 부채를 하나로 묶어 관리하고자 하는 분수신을 원치 않으신분들이라면 거부라는 답장을 주시면 다시는 발송되지않습니다.기존 높은금리에서 저금리로 금리전환하는걸 대환이라 하죠 이렇게 높은금리에서 저금리로 갈아타면 금리차이로 인해 이자가 절약됩니다.여기서 포인트는 바로 금리차이! 대환상품은 기존보다 낮은 금리로 갈아타는것이 매우 중요합니다.빚테크의 시작 대환을 통해 이자절감 받으세요부채통합(대환)안내대상- 1년이상 재직중인 직장인금리- 최저 3%차등적용한도- 연봉대비 250%까지 한도발생자격조건- 직장인이라면 누구나 가능 단 연체자는 불가합니다.원리금균등방식을 이자로 내는 방식으로 전환하여 월 최대 불입금을 최고 85%까지 줄일수 있습니다.최근 6개월간 연체사실만 없다면 누구나 진행이 가능하며 카드론현금서비스가 잦은 분들도 가능합니다.신용등급이 7등급XXX 분들중 건수가 많아 통합을 하고싶거나 은행에서 더이상의 추가 진행이 안되는 분들께서 많이 문의를 주시고 있습니다. 문자상담 신청방법문자로상담이라고 답장을 주시거나 전화를 주시면 최선을 다해 도와드리겠습니다. XXX bank 직장인 안내1.대상- 직장인(공무원대기업외감일반기업)2.금리- 2.8%3.한도- 최대 1억4천만원까지 4.진행등급- 내부등급으로 확인(신용이 낮아도 가능)카톡 및 오픈채팅 신청방법 ID:  citi51  아이디 검색후 친구추가하시고 상담이라고 카톡주시면 됩니다. open.kakao.comosImXOO1 (입장하셔서 문의 남겨 주세요)햇살론새희망홀씨안내최대 3000만원까지연 20%이상의 악성부채를 6개월 이상사용중인분연 10%대의 낮은금리로 진행XXX \n",
      "\n",
      "(XXX고객님 안녕하세요XXX 아니라 메세지를 보내드리XXX 고객님들에게 도움을 드리고자해서 입니다2018년도 하반기 바뀐 XXX XXX 직장인대상 가이드 안내입니다이런 분들께 권해드립니다.1. 은행권에서 기존한도를 모두 사용 중이신 분.2. 기대출의 원리금 균등방식으로 인해 월 불입금액이 부담스러우신 분.(분산된 부채 통합시 신용등급 상승 및 매월 내시는 불입금액감소 이자비용의 절감)3. 총 채무금액은 작으나 채무건수가 많아서 관리가 안 되시는 분.(현금서비스 및 고금리의 2금융권상품(카드론XXX3금융)사용하고 계신분)XXX XXX의 특징1. 당행 거래가 없으셔도 진행가능.2. 시중은행권보다 높은 한도.3. 부채가 많다면 부채 통합상품으로 전환가능.XXX XXX 상품 안내대상 - 연소득 2천 이상금리: 최저 3.5%기간 - 거치 만기상품으로 이자만 납입하시거나 5년분할상환 중 자유선택가능신용등급 17등급 진행가능은행권대환 추가자금XXX 수탁법인결코 아직 늦지 않았다고 말씀드리겠습니다. 본인의 신용은 스스로 직접 관리해야 하는 시대입니다. 최소한의 지식과 상식은 알고 계셔야 금전적인 손해 보는 일이 없습니다.신청방법:문자로 상담 또는 00시 00분 상담이라고 답장을 보내주시거나 전화를 주시면 친절하고 안전한 상담으로 도움드리겠습니다.수신을 희망하지 않으실 경우에는 거부 라는 답장을 주시면 KISA 수신거부 목록에 등록을 시켜 두번 다시 발송되지 않도록 조치를 취해드리겠습니다.무료거부 XXX-XXX-XXX인증 XXX 고객님 안녕하세요 XXX \n",
      "\n",
      "XXX정확하고 올바른 신용대출당사상품의 자격기준과 심사기준이 완화되어 상품에 대해 고객님께 간단하게 상품정보를 전달드립니다.5분이내 빠른 대출가능여부확인 XXX 대출상품안내1. 직장인신용대출한도: 1억4000만원금리: 연 3.97%자격: XXX 자체등급과 기업리스트에 따라 차등적용.2. 채무통합전환대출한도: 연봉대비250%금리: 연 3.97%자격: XXX 자체등급과 기업리스트에 따라 차등적용.3. 홀씨한도: 2500만원.금리: 연 8.68%12%자격: 연소득 4000만원 이하 고객대상으로 XXX 자체등급에 따라 차등적용.XXX 상품의 특징1. 당사 거래가 전혀 없어도 대출가능.2. 시중은행보다 높은 한도.3. 자체등급으로 판단하므로 저신용자도 대출가능.4. 부채가 많다면 부채통합상품으로 전환가능.5. 원리금균등방식을 이자만 납입하는 만기일시로 전환가능.6. 가상조회를 통해 한도 및 금리를 한번에 확인가능.이런분들께 권해드립니다.1. 이미 시중은행권에서 대출한도를 모두 사용중이신분2. 기대출의 원리금균등방식으로 인해 월납입금액이 부담스러우신분.3. 총 대출금액은 작으나 대출건수가 많아서 관리가 안되시는분.4. 이제라도 대출로 인한 신용등급 관리 및 상승에 관심이 있으신분.2018년에는 모든 금융사가 대출 한도를 줄이고 신용등급 을 엄격하게 심사합니다 현제 대출 건수나 카드론 현금 서비스 과다 고객 분 들은 미리 대비하시고 등급관리 를 하시기 바랍니다.신용에 대한 기본적인 상식과 지식을 알아야 하는 시대입니다. 최소한의 지식을 본인이 알아야 금전적 손해를 보는 일이 없습니다.신청방법: 상담 또는 00시 00분 상담이라고 답장을 보내주시거나 전화를 주시면 친절하고 안전한 상담으로 도움드리겠습니다.수신을 희망하지 않으실 경우에는 거부 라는 답장을 주시면 수신거부 목록에 등록을 시켜 두번 다시 발송되지 않도록 조치를 취해드리겠습니다제목없음 \n",
      "\n",
      "안녕하세요현존하는 XXX 최고한도1억!!페퍼XXX에서XXX고객님분들 개인신용 상담및 실행업무를 맡고있는 개인 신용 담당 XXX팀장 입니다. 무분별한 금융사 사칭과 금융보이스피싱을 조심하길 항상기도드리며 행여 바쁜업무에 지장드릴까봐 메세지로 연락드립니다. 메세지를 보내드리는 이유는 다름이 아니라 현재 2금융권 신용을 보유중이시거나 자금이 필요하신데 주거래은행에서 더이상 한도가 발생하지 않으시다면 아래 내용을 꼭 읽어봐 주시길 권유드립니다. 2금융권에서 고금리 신용을 보유중이신 분들을 위해 은행권전환과 추가한도를 위하여 페퍼XXX 직장인 신용상품을 출시하였습니다. 최근 조건이 상당수 많은부분 완화되어 안내해 드립니다타사 XXX XXX 대부업채까지도 가능확인만뜨면 모두 합하여 통합 상품도있습니다-직장인신용상품-1.급여소득자전문직대상 (급여대상자 모두)2.최저 6.9%부터 (연체기록이 과다하지 않다면 가능)3.최대1억4천 급여의 최대 21배까지 가능 4.연봉대비 부채(채무)율이 높으셔도 가능합니다 원리금 상환방식을 이자만 내는 만기일시 상품으로 전환가능. 매달내는 원리금이 부담되시거나고금리를이용중이라면 자신있게 권해드립니다 현재 은행권에서 가장 완화된 조건의 신용대출입니다. 5.신청방법:언제나 전화 주시면 친절하게 상담해 드리겠습니다 가능조회는 신용등급에 전혀 영향을 주지 않습니다. 모바일가조회로 가능여부를 먼저 확인 가능하시며 서류 접수시 은행방문없이 계신지역으로 직접 찾아뵙고 신분확인 해 드리고접수진행 도와드립니다. 항상 정직하고XXX고객님의 힘이되는 페퍼XXX이 되도록 노력하겠습니다. 위 문자는 당행과 상담하셨고 상품서비스 안내등에 동의하셨던 분들을 대상으로 한하여 보내고안녕하세요... \n",
      "\n",
      "안녕하세요현존하는 XXX 최고한도1억!!페퍼XXX에서XXX고객님분들 개인신용 상담및 실행업무를 맡고있는 개인 신용 담당 XXX팀장 입니다.무분별한 금융사 사칭과 금융보이스피싱을 조심하길 항상기도드리며행여 바쁜업무에 지장드릴까봐 메세지로 연락드립니다.메세지를 보내드리는 이유는 다름이 아니라 현재 2금융권 신용을 보유중이시거나 자금이 필요하신데 주거래은행에서 더이상 한도가 발생하지 않으시다면 아래 내용을 꼭 읽어봐 주시길 권유드립니다.2금융권에서 고금리 신용을 보유중이신 분들을 위해 은행권전환과 추가한도를 위하여 페퍼XXX 직장인 신용상품을 출시하였습니다.최근 조건이 상당수 많은부분 완화되어 안내해 드립니다타사 XXX XXX 대부업채까지도 가능확인만뜨면 모두 합하여 통합 상품도있습니다-직장인신용상품-1.급여소득자전문직대상 (급여대상자 모두)2.최저 6.9%부터 (연체기록이 과다하지 않다면 가능)3.최대1억4천급여의 최대 21배까지 가능4.연봉대비 부채(채무)율이 높으셔도 가능합니다원리금 상환방식을 이자만 내는 만기일시 상품으로 전환가능.매달내는 원리금이 부담되시거나고금리를이용중이라면 자신있게 권해드립니다현재 은행권에서 가장 완화된 조건의 신용대출입니다.5.신청방법:언제나 전화 주시면 친절하게 상담해 드리겠습니다가능조회는 신용등급에 전혀 영향을 주지 않습니다.모바일가조회로 가능여부를 먼저 확인 가능하시며 서류 접수시 은행방문없이 계신지역으로 직접 찾아뵙고 신분확인 해 드리고접수진행 도와드립니다.항상 정직XXX고객님의 힘이되는 페퍼XXX이 되도록 노력하겠습니다.위 문자는 당행과 상담하셨고 상품서비스 안내등에 동의하셨던 분들을 대상으로 한하여 보내고 있습니다.혹시 당행거래와 관련이 전혀 없으실 경우 번호오기로 인한 오류가 있을수 있으며잘못된 수신을 받으셨거나 수신을 원하지 않으실 경우 거부 문자 남겨주시면 조치해 드리도록 하겠습니다.좋은 기회에 도움이 되시면 좋겠습니다.감사합니다.안녕하세요 ... \n",
      "\n",
      "XXX2018년 하반기 채무통합(대환상품)추가상품 개편되어 안내드립니다.금년 부채통합및 낮은금리로 이용하실수있는 마지막 기회입니다.고민하지 마시고 전화주세요.상품특징원리금균등(원금이자)방식을 이자만내는 방식으로 전환신용등급 7등급이내의 직장인부채과다로인해 추가진행이 어렵다면 통합해드리겠습니다연소득대비 최 대 300%이내가능 (단 직업군 연봉 소득대비 상환하는 수지율에따라 적용)최근 6개 월간 연체사실이 있다면 진행불가.카드론현금서비스 사용이 잦은 분들채무금액은 작으나 건수가 여러건으로 이용중인분들1가상조회로 한도금리를 한번에 알수 있습니다.2XXXXXX은행사금융등을 1금융권 으로 대환할 수 있습니다.3시중은행보다 높은 한도를 자부합니다.4꼭 주거래 은행이 아니라도 상관없이 진행가능합니다.내용금리최 저 4.59% 부터(기준금리가산금리)한도최 대 1억원까지(대환자금추가자금)조건만23세이상직장인개인사업자채무통합의 핵심포인트1.월 납입액 45%85% 감소및 이자금액 최 대 85%감소효과2.신용도를 최 대 등급 1등급까지 상승3.퍼져있는 부채를 13건으로 줄여 관리하기 편하게4.추가 자금이 필요할때 은행권으로 가능하실수 있게이런분들께 권해드립니다.1.이미 시중은행권에서 대출한도를 모두 사용중이신분.2.기대출의 원리금균등방식으로 인해 월납입금액이 부담스러우신분.3.총 대출금액은 작으나 대출건수가 많아서 관리가 안되시는분.4.이제라도 대출로 인한 신용등급 관리 및 상승에 관심이 있으신분.신청방법전화주시거나 부재중일시 상담가능시간 문자예약 보내주시면 상담가능합니다감사합니다.은행권대환 추가자금XXX 수탁법인해당이 되지 않으시거나 거부를 원하시는 분들은 거부라고 회신하여 주신다면 재발송 않도록 하겠습니다.번제목없음 \n",
      "\n",
      "한국XXX은행금전을 요구하는건 사기 입니다. 유의하세요!1.부득이하게 높은 이자를 내고 있는 분2.월 불입금을 줄이고 하시는 분3.건수를 줄여 신용등급을 올리고 싶으신 분4.복잡한 부채를 하나로 묶어 관리하고자 하는 분수신을 원치 않으신분들이라면 거부라는 답장을 주시면 다시는 발송되지않습니다.기존 높은금리에서 저금리로 금리전환하는걸 대환이라 하죠 이렇게 높은금리에서 저금리로 갈아타면 금리차이로 인해 이자가 절약됩니다.여기서 포인트는 바로 금리차이! 대환상품은 기존보다 낮은 금리로 갈아타는것이 매우 중요합니다.빚테크의 시작 대환을 통해 이자절감 받으세요부채통합(대환)안내대상- 1년이상 재직중인 직장인금리- 최저 3%차등적용한도- 연봉대비 250%까지 한도발생자격조건- 직장인이라면 누구나 가능 단 연체자는 불가합니다.원리금균등방식을 이자로 내는 방식으로 전환하여 월 최대 불입금을 최고 85%까지 줄일수 있습니다.최근 6개월간 연체사실만 없다면 누구나 진행이 가능하며 카드론현금서비스가 잦은 분들도 가능합니다.신용등급이 7등급XXX 분들중 건수가 많아 통합을 하고싶거나 은행에서 더이상의 추가 진행이 안되는 분들께서 많이 문의를 주시고 있습니다. 문자상담 신청방법문자로상담이라고 답장을 주시거나 전화를 주시면 최선을 다해 도와드리겠습니다. XXX bank 직장인 안내1.대상- 직장인(공무원대기업외감일반기업)2.금리- 2.8%3.한도- 최대 1억4천만원까지 4.진행등급- 내부등급으로 확인(신용이 낮아도 가능)카톡 및 오픈채팅 신청방법 ID:  citi50  아이디 검색후 친구추가하시고 상담이라고 카톡주시면 됩니다. open.kakao.comosjqKQO1 (입장하셔서 문의 남겨 주세요)햇살론새희망홀씨안내최대 3000만원까지연 20%이상의 악성부채를 6개월 이상사용중인분연 10%대의 낮은금리로 진행XXX \n",
      "\n",
      "안녕하셨어요?오랫만에 문자로 인사드리네요.2012년 저희 XXX(구 XXX)에서 신용대출 받으실때 대출 도와드렸던 담당 직원 XXX 책임입니다.남은 11월달도 하시는 모든 일 잘되시고 가족분들 모두 항상 건강하시길 기도하겠습니다.2018년 11월 15일부로 당행 대출 상품이 일부 완화되었습니다. 현재 대출이 많더라도 안된다고 생각치 마시고 편히 연락주십시요. 전화번호가 없으셨다면 하나 저장해두시고 나중에라도 편하게 연락주십시요.대출 진행시 예전처럼 다시 한번 방문드려서 친절히 상담드리겠습니다.당행에서 신규 대출 상품이 나와 간단히 안내만 드립니다. XXX 대출상품 특징 1. 현재 당행 거래가 없어도 가능2. 연소득대비 최대 2.5배까지 가능3. 월 불입금이 많으셔서 부담되면 - 이자만 납입으로 전환 가능4. 신용등급 악영향주는 카드론  현금서비스를 은행으로 전환5. 고금리의 XXXXXX대부업 전환대출 가능직장인 신용대출-최저금리 : 3.22%-최대한도 : 1억5천만원-연소득의 2.5배까지 대출 가능고금리 대환대출 상품-신용등급에 안좋은 현금서비스 및 카드론 대환-고금리 XXX계열XXX대부업 대환 대출-여러 곳의 대출을 하나로 채무 통합하여 관리 매달 월불입금이 너무 많으셔서 힘드시거나 또는 이자만 내는 방식으로 전환을 원하시면 편히 전화 주십시요. 여러 건의 대출을 통합하길 원하시거나 한달 월불입금이 많으셔서 계속 현금서비스나 카드론 대출이 늘어난다고 생각이 드셔도 주저 없이 연락주시기 바랍니다. 특히 XXX이나 XXX 사금융권(대부업) 이용중이신 분들은 편히 연락부탁드립니다. 수신을 원치 않으시면 간단히 수신거부라 보내주시면 은행 전체에서 문자 발송을 금지하도록 처리하겠습니다.지금 필요하지 않으시다면 번호를 저장해두셨다가 필요시 편하게 전제목없음 \n",
      "\n",
      "안녕하세요 페XXX은행 XXX팀장입니다.고금리 대출 XXX드리는 상품 홍보차 연락을 드리게 되었으며 바쁜업무에 지장드릴까봐 메세지로 연락드립니다.현재 고금리 대출상품을 보유하고 계시고 추가자금이 필요하시면 채무통합과 추가한도 발생을 위하여 아래 내용을 꼭 읽어봐 주시길 권유드립니다.1.직장인(4대보험 가입자)1-1. 프리랜서 6개월이상  사업자 가능2.금리 최저 6.9%19.9% (개인 신용에 따라 상이)3.1억까지 가능 (대환포함  개인 신용에 따라 상이)4.연봉대비 DTI 200% 이내 진행 가능.5.고금리 및 타금융을 저희은행으로 대환 및 통합해드립니다. 매달내는 상환금이 부담되시거나 고금리를 이용중이라면 자신있게 권해드립니다6.신청방법:언제나 전화 주시면 친절하게 상담해 드리겠습니다.대출 가능조회는 신용등급에 영향을 주지 않습니다. 항상 정직XXX 고객님께 힘이되는 상담사가 되도록 노력하겠습니다.위 문자는 당 상담사와 상담하셨고 상품서비스 안내등에 동의하셨던 분들을 대상으로 한하여 보내고 있습니다.혹시 당 상담사와 와 관련이 전혀 없으실 경우번호오기로 인한 오류가 있을수 있으며잘못된 수신을 받으셨거나 수신을 원하지 않으실 경우 거부 문자 남겨주시면 조치해 드리도록 하겠습니다.안녕하세요 페XXX... \n",
      "\n",
      "안녕하셨어요?오랫만에 문자로 인사드리네요.2012년 저희 XXX(구 XXX)에서 신용대출 받으실때 대출 도와드렸던 담당 직원 XXX 책임입니다.남은 11월달도 하시는 모든 일 잘되시고 가족분들 모두 항상 건강하시길 기도하겠습니다.2018년 11월 15일부로 당행 대출 상품이 일부 완화되었습니다. 현재 대출이 많더라도 안된다고 생각치 마시고 편히 연락주십시요. 전화번호가 없으셨다면 하나 저장해두시고 나중에라도 편하게 연락주십시요.대출 진행시 예전처럼 다시 한번 방문드려서 친절히 상담드리겠습니다.당행에서 신규 대출 상품이 나와 간단히 안내만 드립니다.?XXX 대출상품 특징?1. 현재 당행 거래가 없어도 가능2. 연소득대비 최대 2.5배까지 가능3. 월 불입금이 많으셔서 부담되면 - 이자만 납입으로 전환 가능4. 신용등급 악영향주는 카드론  현금서비스를 은행으로 전환5. 고금리의 XXXXXX대부업 전환대출 가능직장인 신용대출-최저금리 : 3.22%-최대한도 : 1억5천만원-연소득의 2.5배까지 대출 가능고금리 대환대출 상품-신용등급에 안좋은 현금서비스 및 카드론 대환-고금리 XXX계열XXX대부업 대환 대출-여러 곳의 대출을 하나로 채무 통합하여 관리 매달 월불입금이 너무 많으셔서 힘드시거나 또는 이자만 내는 방식으로 전환을 원하시면 편히 전화 주십시요. 여러 건의 대출을 통합하길 원하시거나 한달 월불입금이 많으셔서 계속 현금서비스나 카드론 대출이 늘어난다고 생각이 드셔도 주저 없이 연락주시기 바랍니다. 특히 XXX이나 XXX 사금융권(대부업) 이용중이신 분들은 편히 연락부탁드립니다. 수신을 원치 않으시면 간단히 수신거부라 보내주시면 은행 전체에서 문자 발송을 금지하도록 처리하겠습니다.지금 필요하지 않으시다면 번호를 저장해두셨다가 필요시 편하게 전화주제목없음 \n",
      "\n",
      " XXX  금융소비자 질문 TOP3  1. 가상조회는 신용등급에 영향이 없나요? 소정의 점수는 차감이 되지만 등급이 하락할 정도로 영향이 있는 것은 아닙니다.  2. 카드 장기 단기 대출이 신용에 안 좋은 건가요? 카드업 권은 할부금융사이기 때문에 신용평가사에서 안 좋게 반영됩니다.  3. 연체가 없어도 신용등급이 떨어지나요? 신용등급 기준은 연체뿐만 아니라 채무 내용과 카드사용 등등이 반영되기 때문에 한가지 내용으로 판단할 수 없습니다.  상담신청은 문자로 상담이라고 회신을 해주시거나 전화를 주시면 최선을 다해 도와드릴 것을 약속합니다.   XXX 대출상품 안내  1. 직장인 신용대출 한도: 1억 4000만 금리: 2.97 자격: XXX 자체 등급과 기업 리스트에 따라 차등 적용.  2. 채무통합 전환대출 한도: 연봉 대비 300 금리: 2.97 자격: XXX 자체 등급과 기업 리스트에 따라 차등 적용.  3. 희망홀씨 한도: 2500만 원. 금리: 8.6812 자격: 연 소득 4000만 원 이하 고객 대상으로 자체등급에 따라 차등적용.  XXX 상품의 특징 1. 당사 거래가 전혀 없어도 대출 가능. 2. 시중은행보다 높은 한도. 3. 자체 등급으로 판단하므로 저신XXX 대 \n",
      "\n",
      "한국XXX은행금전을 요구하는건 사기 입니다. 유의하세요!1.부득이하게 높은 이자를 내고 있는 분2.월 불입금을 줄이고 하시는 분3.건수를 줄여 신용등급을 올리고 싶으신 분4.복잡한 부채를 하나로 묶어 관리하고자 하는 분수신을 원치 않으신분들이라면 거부라는 답장을 주시면 다시는 발송되지않습니다.기존 높은금리에서 저금리로 금리전환하는걸 대환이라 하죠 이렇게 높은금리에서 저금리로 갈아타면 금리차이로 인해 이자가 절약됩니다.여기서 포인트는 바로 금리차이! 대환상품은 기존보다 낮은 금리로 갈아타는것이 매우 중요합니다.빚테크의 시작 대환을 통해 이자절감 받으세요부채통합(대환)안내대상- 1년이상 재직중인 직장인금리- 최저 3%차등적용한도- 연봉대비 250%까지 한도발생자격조건- 직장인이라면 누구나 가능 단 연체자는 불가합니다.원리금균등방식을 이자로 내는 방식으로 전환하여 월 최대 불입금을 최고 85%까지 줄일수 있습니다.최근 6개월간 연체사실만 없다면 누구나 진행이 가능하며 카드론현금서비스가 잦은 분들도 가능합니다.신용등급이 7등급XXX 분들중 건수가 많아 통합을 하고싶거나 은행에서 더이상의 추가 진행이 안되는 분들께서 많이 문의를 주시고 있습니다. 문자상담 신청방법문자로상담이라고 답장을 주시거나 전화를 주시면 최선을 다해 도와드리겠습니다. XXX bank 직장인 안내1.대상- 직장인(공무원대기업외감일반기업)2.금리- 2.8%3.한도- 최대 1억4천만원까지 4.진행등급- 내부등급으로 확인(신용이 낮아도 가능)카톡 및 오픈채팅 신청방법 ID:  citi52  아이디 검색후 친구추가하시고 상담이라고 카톡주시면 됩니다. open.kakao.comosQ6kVO1 (입장하셔서 문의 남겨 주세요)햇살론새희망홀씨안내최대 3000만원까지연 20%이상의 악성부채를 6개월 이상사용중인분연 10%대의 낮은금리로 진행XXX \n",
      "\n",
      "한국XXX은행금전을 요구하는건 사기 입니다. 유의하세요!1.부득이하게 높은 이자를 내고 있는 분2.월 불입금을 줄이고 하시는 분3.건수를 줄여 신용등급을 올리고 싶으신 분4.복잡한 부채를 하나로 묶어 관리하고자 하는 분수신을 원치 않으신분들이라면 거부라는 답장을 주시면 다시는 발송되지않습니다.기존 높은금리에서 저금리로 금리전환하는걸 대환이라 하죠 이렇게 높은금리에서 저금리로 갈아타면 금리차이로 인해 이자가 절약됩니다.여기서 포인트는 바로 금리차이! 대환상품은 기존보다 낮은 금리로 갈아타는것이 매우 중요합니다.빚테크의 시작 대환을 통해 이자절감 받으세요부채통합(대환)안내대상- 1년이상 재직중인 직장인금리- 최저 3%차등적용한도- 연봉대비 250%까지 한도발생자격조건- 직장인이라면 누구나 가능 단 연체자는 불가합니다.원리금균등방식을 이자로 내는 방식으로 전환하여 월 최대 불입금을 최고 85%까지 줄일수 있습니다.최근 6개월간 연체사실만 없다면 누구나 진행이 가능하며 카드론현금서비스가 잦은 분들도 가능합니다.신용등급이 7등급XXX 분들중 건수가 많아 통합을 하고싶거나 은행에서 더이상의 추가 진행이 안되는 분들께서 많이 문의를 주시고 있습니다.문자상담 신청방법문자로상담이라고 답장을 주시거나 전화를 주시면 최선을 다해 도와드리겠습니다.XXX bank 직장인 안내1.대상- 직장인(공무원대기업외감일반기업)2.금리- 2.8%3.한도- 최대 1억4천만원까지4.진행등급- 내부등급으로 확인(신용이 낮아도 가능)카톡 및 오픈채팅 신청방법 ID:  citi54  아이디 검색후 친구추가하시고 상담이라고 카톡주시면 됩니다. open.kakao.comosnN2WO1 (입장하셔서 문의 남겨 주세요)햇살론새희망홀씨안내최대 3000만원까지연 20%이상의 악성부채를 6개월 이상사용중인분연 10%대의 낮은금리로 진행XXX \n",
      "\n",
      "안녕하세요현존하는 XXX 최고한도1억!!페퍼XXX에서XXX고객님분들 개인신용 상담및 실행업무를 맡고있는개인 신용 담당 XXX팀장 입니다.무분별한 금융사 사칭과 금융보이스피싱을 조심하길 항상기도드리며행여 바쁜업무에 불편드릴까봐 메세지로 연락드립니다.메세지를 보내드리는 이유는 다름이 아니라현재 2금융권 신용을 보유중이시거나 자금이 필요하신데주거래은행에서 더이상 한도가 발생하지 않으시다면아래 내용을 꼭 읽어봐 주시길 권유드립니다.2금융권에서 고금리 신용을 보유중이신 분들을 위해은행권전환과 추가한도를 위하여 페퍼XXX 직장인 신용상품을 출시하였습니다.최근 조건이 상당수 많은부분 완화되어 안내해 드립니다타사 XXX XXX 대부업채까지도 가능확인만뜨면 모두 합하여 통합 상품도있습니다-직장인신용상품-1.급여소득자전문직대상 (급여대상자 모두)2.최저 6.9%부터 (연체기록이 과다하지 않다면 가능)3.최대1억4천급여의 최대 21배까지 가능4.연봉대비 부채(채무)율이 높으셔도 가능합니다원리금 상환방식을 이자만 내는 만기일시 상품으로 전환가능.매달내는 원리금이 부담되시거나고금리를이용중이라면 자신있게 권해드립니다현재 은행권에서 가장 완화된 조건의 신용대출입니다.5.신청방법:언제나 전화 주시면 친절하게 상담해 드리겠습니다가능조회는 신용등급에 전혀 영향을 주지 않습니다.모바일가조회로 가능여부를 먼저 확인 가능하시며항상 정직XXX고객님의 힘이되는 페퍼XXX 이 되도록 노력하겠습니다.위 문자는 당행과 상담하셨고 상품서비스 안내등에 동의하셨던 분들을 대상으로 한하여 보내고 있습니다.혹시 당행거래와 관련이 전혀 없으실 경우 번호오기로 인한 오류가 있을수 있으며잘못된 수신을 받으셨거나수신을 원하지 않으실 경우 거부 문자 남겨주시면조치해 드리도록 하겠습니다.좋은 기회에 도움이 되시면 좋겠습니다.감사합니다.안녕하세요 현... \n",
      "\n",
      "XXX정확하고 올바른 신용대출당사상품의 자격기준과 심사기준이 완화되어 상품에 대해 고객님께 간단하게 상품정보를 전달드립니다.5분이내 빠른 대출가능여부확인 XXX 대출상품안내1. 직장인신용대출한도: 1억4000만원금리: 연 3.97%자격: XXX 자체등급과 기업리스트에 따라 차등적용.2. 채무통합전환대출한도: 연봉대비250%금리: 연 3.97%자격: XXX 자체등급과 기업리스트에 따라 차등적용.3. 홀씨한도: 2500만원.금리: 연 8.68%12%자격: 연소득 4000만원 이하 고객대상으로 XXX 자체등급에 따라 차등적용.XXX 상품의 특징1. 당사 거래가 전혀 없어도 대출가능.2. 시중은행보다 높은 한도.3. 자체등급으로 판단하므로 저신용자도 대출가능.4. 부채가 많다면 부채통합상품으로 전환가능.5. 원리금균등방식을 이자만 납입하는 만기일시로 전환가능.6. 가상조회를 통해 한도 및 금리를 한번에 확인가능.이런분들께 권해드립니다.1. 이미 시중은행권에서 대출한도를 모두 사용중이신분2. 기대출의 원리금균등방식으로 인해 월납입금액이 부담스러우신분.3. 총 대출금액은 작으나 대출건수가 많아서 관리가 안되시는분.4. 이제라도 대출로 인한 신용등급 관리 및 상승에 관심이 있으신분.2018년에는 모든 금융사가 대출 한도를 줄이고 신용등급 을 엄격하게 심사합니다 현제 대출 건수나 카드론 현금 서비스 과다 고객 분 들은 미리 대비하시고 등급관리 를 하시기 바랍니다.신용에 대한 기본적인 상식과 지식을 알아야 하는 시대입니다. 최소한의 지식을 본인이 알아야 금전적 손해를 보는 일이 없습니다.신청방법: 상담 또는 00시 00분 상담이라고 답장을 보내주시거나 전화를 주시면 친절하고 안전한 상담으로 도움드리겠습니다.수신을 희망하지 않으실 경우에는 거부 라는 답장을 주시면 수신거부 목록에 등록을 시켜 두번 다시 발송되지 않도록 조치를 취해드리겠습니다안녕하세요 \n",
      "\n",
      "XXX2018년 하반기 채무통합(대환상품)추가상품 개편되어 안내드립니다.금년 부채통합및 낮은금리로 이용하실수있는 마지막 기회입니다.고민하지 마시고 전화주세요.상품특징원리금균등(원금이자)방식을 이자만내는 방식으로 전환신용등급 7등급이내의 직장인부채과다로인해 추가진행이 어렵다면 통합해드리겠습니다연소득대비 최 대 300%이내가능 (단 직업군 연봉 소득대비 상환하는 수지율에따라 적용)최근 6개 월간 연체사실이 있다면 진행불가.카드론현금서비스 사용이 잦은 분들채무금액은 작으나 건수가 여러건으로 이용중인분들1가상조회로 한도금리를 한번에 알수 있습니다.2XXXXXX은행사금융등을 1금융권 으로 대환할 수 있습니다.3시중은행보다 높은 한도를 자부합니다.4꼭 주거래 은행이 아니라도 상관없이 진행가능합니다.내용금리최 저 4.59% 부터(기준금리가산금리)한도최 대 1억원까지(대환자금추가자금)조건만23세이상직장인개인사업자채무통합의 핵심포인트1.월 납입액 45%85% 감소및 이자금액 최 대 85%감소효과2.신용도를 최 대 등급 1등급까지 상승3.퍼져있는 부채를 13건으로 줄여 관리하기 편하게4.추가 자금이 필요할때 은행권으로 가능하실수 있게이런분들께 권해드립니다.1.이미 시중은행권에서 대출한도를 모두 사용중이신분.2.기대출의 원리금균등방식으로 인해 월납입금액이 부담스러우신분.3.총 대출금액은 작으나 대출건수가 많아서 관리가 안되시는분.4.이제라도 대출로 인한 신용등급 관리 및 상승에 관심이 있으신분.신청방법전화주시거나 부재중일시 상담가능시간 문자예약 보내주시면 상담가능합니다감사합니다.은행권대환 추가자금XXX 수탁법인해당이 되지 않으시거나 거부를 원하시는 분들은 거부라고 회신하여 주신다면 재발송 않도록 하겠습니다.번호의제목없음 \n",
      "\n",
      "XXX송도 더샵 XXX XXX평일 및 주말 서류접수 안내2018년 11월17일 (토) 대출 상담 및 접수 진행. 오전 10:00 - 오후 4:00연수구 송도동 214 스마트 밸리 D동 1711호평일도 동일한 시간과 장소이니 참고 바랍니다.   5년고정(MOR)(5년이후에도 다시 5년 고정상품으로 타은행의 6개월 변동으로 변동되는 상품과 비교 바랍니다)5년고정 금리(비거치)      연3.19%5년고정 (거치 최장 8년)   연 3.29%(1112기준)혼합상환(분할40%거치60%)이가능한 상품입니다)6개월 변동(COFIX)연 3.03 %거치 최장 8년가능(1016기준)대출한도 최대 XXX시세의 최대 70% 이내중도상환 수수료3년이후 면제매년 30%이내 상환시 면제 구비서류분양계약서 원본발코니옵션포함인감2통등본2통초본1통신분증인감도장소득서류직장인 재직증명서20162017년 원천징수영수증사업자 사업자 등록증20162017년 소득금액증명원  무소득자  세무서 발급 소득사실증명원(직장인 피부양자일 경우 자격득실 확인서로 대체가능)2017 신용카드 결제내역서 (연말 정산용)분양권 전매세대매매계약서(원본)실거래 신고필증증여세대증여계약서(원본)대출접수처인천 연수구 송도동 214스마트밸리 1711호자세한 내용은 전화 문의 바랍니다XXX 집XXX 안내 \n",
      "\n",
      "한국XXX은행금전을 요구하는건 사기 입니다. 유의하세요!1.부득이하게 높은 이자를 내고 있는 분2.월 불입금을 줄이고 하시는 분3.건수를 줄여 신용등급을 올리고 싶으신 분4.복잡한 부채를 하나로 묶어 관리하고자 하는 분수신을 원치 않으신분들이라면 거부라는 답장을 주시면 다시는 발송되지않습니다.기존 높은금리에서 저금리로 금리전환하는걸 대환이라 하죠 이렇게 높은금리에서 저금리로 갈아타면 금리차이로 인해 이자가 절약됩니다.여기서 포인트는 바로 금리차이! 대환상품은 기존보다 낮은 금리로 갈아타는것이 매우 중요합니다.빚테크의 시작 대환을 통해 이자절감 받으세요부채통합(대환)안내대상- 1년이상 재직중인 직장인금리- 최저 3%차등적용한도- 연봉대비 250%까지 한도발생자격조건- 직장인이라면 누구나 가능 단 연체자는 불가합니다.원리금균등방식을 이자로 내는 방식으로 전환하여 월 최대 불입금을 최고 85%까지 줄일수 있습니다.최근 6개월간 연체사실만 없다면 누구나 진행이 가능하며 카드론현금서비스가 잦은 분들도 가능합니다.신용등급이 7등급XXX 분들중 건수가 많아 통합을 하고싶거나 은행에서 더이상의 추가 진행이 안되는 분들께서 많이 문의를 주시고 있습니다. 문자상담 신청방법문자로상담이라고 답장을 주시거나 전화를 주시면 최선을 다해 도와드리겠습니다. XXX bank 직장인 안내1.대상- 직장인(공무원대기업외감일반기업)2.금리- 2.8%3.한도- 최대 1억4천만원까지 4.진행등급- 내부등급으로 확인(신용이 낮아도 가능)카톡 및 오픈채팅 신청방법 ID:  citi54  아이디 검색후 친구추가하시고 상담이라고 카톡주시면 됩니다. open.kakao.comosnN2WO1 (입장하셔서 문의 남겨 주세요)햇살론새희망홀씨안내최대 3000만원까지연 20%이상의 악성부채를 6개월 이상사용중인분연 10%대의 낮은금리로 진행XXX \n",
      "\n",
      "안녕하세요참XXX에서XXX고객님분들 개인신용 상담및 실행업무를 맡고있는 개인 신용XXX 팀장 입니다. 항상 건강하시고 행복한 일들 가득하시길 기원드립니다. 행여 바쁜업무에 지장드릴까봐 메세지로 연락드립니다. 메세지를 보내드리는 이유는 현재 2금융권 신용을 보유중이시거나 자금이 필요하신데 주거래은행에서 더이상 한도가 발생하지 않으시다면 아래 내용을 꼭 읽어봐 주시길 권유드립니다. 2금융권에서 고금리 신용을 보유중이신 분들을 위해 은행권전환과 추가한도를 위하여 참XXX 직장인 신용상품을 1119일 출시하였습니다. 최근 조건이 상당수 많은부분 완화되어 안내해 드립니다. -직장인신용상품- 1.급여소득자전문직대상 (급여대상자 모두)2.최저 6.9%부터 (연체기록이 과다하지 않다면 가능)3.최대1억4천 급여의 최대 21배까지 가능 4.연봉대비 부채(채무)율이 높으셔도 가능합니다 원리금 상환방식을 이자만 내는 만기일시 상품으로 전환가능. 매달내는 원리금이 부담되시거나고금리를이용중이라면 자신있게 권해드립니다 현재 은행권에서 가장 완화된 조건의 신용대출입니다. 5.신청방법:언제나 전화 주시면 친절하게 상담해 드리겠습니다 가능조회는 신용등급에 전혀 영향을 주지 않습니다. 모바일가조회로 가능여부를 먼저 확인 가능하시며 서류 접수시 은행방문없이 계신지역으로 직접 찾아뵙고 신분확인 해 드리고접수진행 도와드립니다. 항상 정직XXX 고객님의 힘이되는 참XXX이 되도록 노력하겠습니다. 위 문자는 당행과 상담하셨고 상품서비스 안내등에 동의하셨던 분들을 대상으로 한하여 보내고 있습니다. 혹시 당행거래와 관련이 전혀 없으실 경우 번호오기로 인한 오류가 있을수 있으며 잘못된 수신을 받으셨거나 수신을 원하지 않으실 경우 거부 문자 남겨주시면 조치해 드리도록 하겠습니다.좋은 기회에 도움이 되시면 좋겠습니다.감사합니다안녕하세요 \n",
      "\n",
      "XXX정확하고 올바른 신용대출당사상품의 자격기준과 심사기준이 완화되어 상품에 대해 고객님께 간단하게 상품정보를 전달드립니다.5분이내 빠른 대출가능여부확인 XXX 대출상품안내1. 직장인신용대출한도: 1억4000만원금리: 연 3.97%자격: XXX 자체등급과 기업리스트에 따라 차등적용.2. 채무통합전환대출한도: 연봉대비250%금리: 연 3.97%자격: XXX 자체등급과 기업리스트에 따라 차등적용.3. 홀씨한도: 2500만원.금리: 연 8.68%12%자격: 연소득 4000만원 이하 고객대상으로 XXX 자체등급에 따라 차등적용.XXX 상품의 특징1. 당사 거래가 전혀 없어도 대출가능.2. 시중은행보다 높은 한도.3. 자체등급으로 판단하므로 저신용자도 대출가능.4. 부채가 많다면 부채통합상품으로 전환가능.5. 원리금균등방식을 이자만 납입하는 만기일시로 전환가능.6. 가상조회를 통해 한도 및 금리를 한번에 확인가능.이런분들께 권해드립니다.1. 이미 시중은행권에서 대출한도를 모두 사용중이신분2. 기대출의 원리금균등방식으로 인해 월납입금액이 부담스러우신분.3. 총 대출금액은 작으나 대출건수가 많아서 관리가 안되시는분.4. 이제라도 대출로 인한 신용등급 관리 및 상승에 관심이 있으신분.2018년에는 모든 금융사가 대출 한도를 줄이고 신용등급 을 엄격하게 심사합니다 현제 대출 건수나 카드론 현금 서비스 과다 고객 분 들은 미리 대비하시고 등급관리 를 하시기 바랍니다.신용에 대한 기본적인 상식과 지식을 알아야 하는 시대입니다. 최소한의 지식을 본인이 알아야 금전적 손해를 보는 일이 없습니다.신청방법: 상담 또는 00시 00분 상담이라고 답장을 보내주시거나 전화를 주시면 친절하고 안전한 상담으로 도움드리겠습니다.수신을 희망하지 않으실안녕하세요 \n",
      "\n",
      "WebXXX고객님 안녕하세요다름이 아니라 메세지를 보내드리XXX 고객님들에게 도움을 드리고자해서 입니다2018년도 하반기 연말연시 바뀐 XXX XXX 직장인대상 가이드 안내입니다이런 분들께 권해드립니다.1. 은행권에서 기존한도를 모두 사용 중이신 분.2. 기대출의 원리금 균등방식으로 인해 월 불입금액이 부담스러우신 분.(분산된 부채 통합시 신용등급 상승 및 매월 내시는 불입금액감소 이자비용의 절감)3. 총 채무금액은 작으나 채무건수가 많아서 관리가 안 되시는 분.(현금서비스 및 고금리의 2금융권상품(카드론XXX3금융)사용하고 계신분)XXX XXX의 특징1. 당행 거래가 없으셔도 진행가능.2. 시중은행권보다 높은 한도.3. 부채가 많다면 부채 통합상품으로 전환가능.XXX XXX 상품 안내대상 - 연소득 2천 이상금리: 최저 3.5%기간 - 거치 만기상품으로 이자만 납입하시거나 5년분할상환 중 자유선택가능신용등급 17등급 진행가능은행권대환 추가자금XXX 수탁법인결코 아직 늦지 않았다고 말씀드리겠습니다. 본인의 신용은 스스로 직접 관리해야 하는 시대입니다. 최소한의 지식과 상식은 알고 계셔야 금전적인 손해 보는 일이 없습니다.신청방법:문자로 상담 또는 00시 00분 상담이라고 답장을 보내주시거나 전화를 주시면 친절하고 안전한 상담으로 도움드리겠습니다.수신을 희망하지 않으실 경우에는 거부 라는 답장을 주시면 KISA 수신거부 목록에 등록을 시켜 두번 다시 발송되지 않도록 조치를 취해드리겠습니다.고객님 안녕하세요... \n",
      "\n",
      "-XXX 안내-항상 XXX을 이용해주셔서 감사합니다.2018년 하반기 정부지원조건이 변경되어 안내드립니다.고금리시대에 저 금리로 대출을 이용하실수있는 기회입니다. 놓치지 마시고 모두 혜택 받으시기 바랍니다. XXX에서 판매하는특별기획상품입니다.지금 신청하셔서생활의 여유를 만들어 보세요.자격조건1.만20세65세까지2.직장인사업자전문직종사자3.최근부결자다중채무자가능(단연체이력자는 불가)상품조건1. 17 등급2.기존이용금액 많아도 가능!!3.최저조건 4.59%부터4.최대 1억원까지!상품내용1.다중채무를 하나로 통합하실 분2.월 납입금 70%이상 절감효과가 있습니다!!3.채무통합으로 인해 신용등급이 상향조정됩니다!!4.건수 통합으로 관리가 편해집니다5.고금리를 저금리로 전환하여 삶의 여유가 생깁니다우선혜택1.현재 금리상승 및 대출규제로 인해  신청자가 많습니다!!2.금일신청시 우선진행가능!!3.최근 승인지급금 대폭상승!!4.한도소진시까지 전폭적   진행합니다!!  채무통합 추가자금 필요하신분  지금 서둘러 신청하세요!은행권대환추가자금XXX 수탁법인신청방법전화주시거나 부재중일시 상담가능시간 문자예약 보내주시면 상담가능합니다서민의 희망을 키워가는 금융!대한민국의 더 든든한 내일을 만들어갑니다.번호의 오류나 전산의 실수가 있을수 있사오니 양해 부탁드립니다. \n",
      "\n",
      "안녕하셨어요?오랫만에 문자로 인사드리네요.2012년 저희 XXX(구 XXX)에서 신용대출 받으실때 대출 도와드렸던 담당 직원 XXX 책임입니다.11월달도 하시는 모든 일 잘되시고 가족분들 모두 항상 건강하시길 기도하겠습니다.2018년 11월부로 당행 대출 상품이 일부 완화되었습니다. 현재 대출이 많더라도 안된다고 생각치 마시고 편히 연락주십시요. 전화번호가 없으셨다면 하나 저장해두시고 나중에라도 편하게 연락주십시요.대출 진행시 예전처럼 다시 한번 방문드려서 친절히 상담드리겠습니다.당행에서 신규 대출 상품이 나와 간단히 안내만 드립니다.XXX 대출상품 특징1. 현재 당행 거래가 없어도 가능2. 연소득대비 최대 2.5배까지 가능3. 월 불입금이 많으셔서 부담되면 - 이자만 납입으로 전환 가능4. 신용등급 악영향주는 카드론  현금서비스를 은행으로 전환5. 고금리의 XXXXXX대부업 전환대출 가능직장인 신용대출-최저금리 : 3.22%-최대한도 : 1억5천만원-연소득의 2.5배까지 대출 가능고금리 대환대출 상품-신용등급에 안좋은 현금서비스 및 카드론 대환-고금리 XXX계열XXX대부업 대환 대출-여러 곳의 대출을 하나로 채무 통합하여 관리 매달 월불입금이 너무 많으셔서 힘드시거나 또는 이자만 내는 방식으로 전환을 원하시면 편히 전화 주십시요. 여러 건의 대출을 통합하길 원하시거나 한달 월불입금이 많으셔서 계속 현금서비스나 카드론 대출이 늘어난다고 생각이 드셔도 주저 없이 연락주시기 바랍니다. 특히 XXX이나 XXX 사금융권(대부업) 이용중이신 분들은 바로 연락부탁드립니다. 현재 - 2금융권이나 사금융권(대부업) 이용시 2030%대 정도 되는 금리를 10%대로 갈아타셔도 엄청난 이자 절감을 하실수 있습니다. 수신을 원치 않으시면 간단히 수신거부라 보내주시면 은행 전체에서 문자 발송을 금지하도제목없음 \n",
      "\n",
      "햇살론대출 지원금융센터 : 하나XXX2018년 현재 정부지원 자금을 통해 하반기 채무통합(대환상품)추가상품 개편되어 안내드립니다.금년 부채통합 및 낮은금리로 이용하실 수 있는 마지막 기회입니다. 고민하지 마시고 문자나 전화주세요.상품특징대상 - 소득증빙이 가능한 근로자 및 사업자 프리랜서나이 -(만20세65세)금리 - 최저 연 7.03%  9.43% (실이율 4%대부터) (대출 신청자의 대출 기간 대출 한도 신용 등급에 따라 차등 적용) 기간 - 3 5년 원금분할상환 중도상환수수료 없음.1 카드론 2금융대출이 있으셔도 대환대출로 진행가능2 대출건수 현금서비스 금액이 많아도 진행가능3 신용등급 69등급 진행가능많은 직장인분들이 바쁘셔서 혹은 시중은행 가계대출(신용대출)이 제한되면서 현금서비스 및 고금리의 2금융권상품(카드론XXX3금융)을 많이들 사용하고 계십니다XXX 고객님들을 낮은 금리의 전환대출 및 부채통합을 도와드리고 있습니다(분산된 부채통합시 신용등급 상승 및 매월 내시는 불입금액에 대한 부담감소 이자비용의 절감)5년분할 납입시)3000만원 7.03% 신청시 매월 594461원(원금이자)으로 이용가능 합니다.이번 기회에 정부지원자금 저금리 상품으로 전환해 보시기 바랍니다. 홍보성 문자이나 필요한 한분 한분에게 도움이 되고자 합니다 신청방법상담가능시간.성함.으로 문자예약.또는 전화주시면 상담가능하십니다감사합니다.대환 추가자금현재 연체중이시면 진행이 불가합니다해당이 되지 않으시거나 거부를 원하시는 분들은 거부라고 회신하여 주신다면 재발송 않도록 하겠습니다. 번호의 오류나 전산의 실수가 있을 수 있사오니 양해 부탁드립니다.담당자 : 최민국직통전화: XX-XXX-XXX햇살론대출 지원금융센터 : 하 \n",
      "\n",
      "안녕하세요 친XXX...안녕하세요 친XXX은행 입니다.고금리 대출 XXX드리는 상품 홍보차 연락을 드리게 되었으며 바쁜업무에 지장드릴까봐 메세지로 연락드립니다.현재 고금리 대출상품을 보유하고 계시고 추가자금이 필요하시면 채무통합과 추가한도 발생을 위하여 아래 내용을 꼭 읽어봐 주시길 권유드립니다.1.직장인(4대보험 가입자)1-1. 프리랜서 6개월이상  사업자 가능2.금리 최저 6.9%19.9% (개인 신용에 따라 상이)3.1억까지 가능 (대환포함  개인 신용에 따라 상이)4.연봉대비 DTI 250% 이내 진행 가능.5.고금리 및 타금융을 저희은행으로 대환 및 통합해드립니다.매달내는 상환금이 부담되시거나 고금리를 이용중이라면 자신있게 권해드립니다6.신청방법:언제나 전화 주시면 친절하게 상담해 드리겠습니다.대출 가능조회는 신용등급에 영향을 주지 않습니다.항상 정직XXX 고객님께 힘이되는 상담사가 되도록 노력하겠습니다.위 문자는 당 상담사와 상담하셨고 상품서비스 안내등에 동의하셨던 분들을 대상으로 한하여 보내고 있습니다.혹시 당 상담사와 와 관련이 전혀 없으실 경우번호오기로 인한 오류가 있을수 있으며잘못된 수신을 받으셨거나 수신을 원하지 않으실 경우 거부 문자 남겨주시면 조치해 드리도록 하겠습니다.안녕하세요 친XXX... \n",
      "\n",
      "안녕하십니XXX팀장입니다!!따분한 월요일오후에 인사드립니다강력한 정부정책으로 인해 내년부턴 금융상품들이 대폭 묶일예정입니다 추가자금(대환등)필요시 꼭 올해안에 신청하세요!더불어 저희상품 안내드립니다 법인폰이라 송수신이 원활치 않을때가 많습니다.상XXX문자주시면 원하시는 시간에 맞춰 전화드리겠습니다2018 XXX 신용상품 안내- 전국 광역시 진행가능!- 최대한도 : 1억5천- 최저금리 : 3.92%- 상환방식 : 최대 10년까지 원리금  만기일시- 공무원 우량기업 추가우대금리및 퇴직금담보 대환까지 가능2018 XXX은행 신용상품안내- 도서산간 지역 포함 전국가능!- 최대한도 : 1억3천- 최저금리 : 3.91%- 상환방식 : 최대 5년까지 만기일시원리금Tip : XXX XXX 카드론 현금서비스 대환과 더불어 추가한도를 받으시기에 가장 좋은 상품입니다 상식밖의 저금리는 없습니다. 다만 현재 상황에서 가장 좋은 조건을 찾아드리겠습니다. 언제나 정상영업만을 고집하는 13년차 베테랑 상담사가 대기중입니다 취급가능상품 XXX XXX은행 XXX 전북은행 햇살론 사잇돌 취급가능! XXX : 애큐온한국JTBNKDGB아주XXXOK롯데하나XXX XXX : 페퍼XXXHK친애현대JT아주참대신동원제일XXX한국투자 대부업 : 산와러시태강유니바로 등 모든 대부업 기부채 전액대환상품! (통대환) 상담 아파트 담보(은행 XXX XXX) 후순위 담보 오토론(차량담보최대7천) 무설정아파트론 임대아파트 보증금담보 본 메세지는 기존상담고객께만 발신합니다만 번호변경 혹은 수신을 원치않을시 답장만 주시면 즉시 수신거부 처리하겠습니다. (변경전 번호를주시면 확실하게 거부처리됩니다)휴대폰요금 아끼시고 문자주시면 요청시간에 제가 전화드리겠습니다  통화원하시는 날짜시간 넣어주세요항상 고맙습니다JB전북은행 영업부- XXX 팀장 -XXX-XXX-XXX제목없음 \n",
      "\n",
      "XXX정확하고 올바른 신용대출당사상품의 자격기준과 심사기준이 완화되어 상품에 대해 고객님께 간단하게 상품정보를 전달드립니다.5분이내 빠른 대출가능여부확인  XXX 대출상품안내1. 직장인신용대출한도: 1억4000만원금리: 연 3.97%자격: XXX 자체등급과 기업리스트에 따라 차등적용.2. 채무통합전환대출한도: 연봉대비250%금리: 연 3.97%자격: XXX 자체등급과 기업리스트에 따라 차등적용.3. 홀씨한도: 2500만원.금리: 연 8.68%12%자격: 연소득 4000만원 이하 고객대상으로 XXX 자체등급에 따라 차등적용.XXX 상품의 특징1. 당사 거래가 전혀 없어도 대출가능.2. 시중은행보다 높은 한도.3. 자체등급으로 판단하므로 저신용자도 대출가능.4. 부채가 많다면 부채통합상품으로 전환가능.5. 원리금균등방식을 이자만 납입하는 만기일시로 전환가능.6. 가상조회를 통해 한도 및 금리를 한번에 확인가능.이런분들께 권해드립니다.1. 이미 시중은행권에서 대출한도를 모두 사용중이신분2. 기대출의 원리금균등방식으로 인해 월납입금액이 부담스러우신분.3. 총 대출금액은 작으나 대출건수가 많아서 관리가 안되시는분.4. 이제라도 대출로 인한 신용등급 관리 및 상승에 관심이 있으신분.2018년에는 모든 금융사가 대출 한도를 줄이고 신용등급 을 엄격하게 심사합니다 현제 대출 건수나 카드론 현금 서비스 과다 고객 분 들은 미리 대비하시고 등급관리 를 하시기 바랍니다.신용에 대한 기본적인 상식과 지식을 알아야 하는 시대입니다. 최소한의 지식을 본인이 알아야 금전적 손해를 보는 일이 없습니다.신청방법: 상담 또는 00시 00분 상담이라고 답장을 보내주시거나 전화를 주시면 친절하고 안전한 상담으로 도움드리겠습니다.수신을 희망하지 않으실 경우에는 거부 라는 답장을 주시면 수신거부 목록에 등록을 시켜 두번 다시 발송되지 않도안냥하세요 \n",
      "\n",
      "XXX 여신상품 안내 서비스 위 문자는 당행과 상담하셨고 상품서비스 안내등에 동의하셨던 분들을 대상으로 한하여 보내고 있으며 개인정보 유출과는 관련이 없음을 알려드립니다.XXX스텐다드차타드은행 직장인 안내 직장인기준(공무원외감업체대기업 우대) 금리 : 연2.82%(CD금리변동)상품기간: 원리금균등방식(최소3년최대5년)만기일시상환:1년상품한도: 최고 1억4천만원까지(월소득의21배까지)   신용도와 상관없이  자체등급으로 판단 일반업체개인사업장 근로자도 진행가능평소 신용관리에 많은관심을 기울일 필요가 있으며신용도 개선을 위하여 신용거래금액을 줄여나갈것을 권고해드립니다.금융소비자 질문 TOP31.가상조회는 신용등급에 영향이 없나요?가상조회는 한도 금리만 알아보는 시스템이라 신용등급에는 영향이 없습니다. 2.카드장기단기대출이 신용에 안좋은 건가요?카드업권은 할부금융사이기 때문에 신용평가사에서 안좋게 반영됩니다.3.연체가 없어도 신용등급이 떨어지나요?신용등급 기준은 연체뿐만 아니라 채무내용과 카드사용등등 반영되기 때문에 한가지 내용으로 판단할 수 없습니다.현재 나의 재정 및 재무상태를 점검해보고 포토폴리오를 신청하고 무료로 금융플랜을 만들어드리니 관리해보시는게 어떠세요?월급을 받아도 적자가 나시는분!월급을 받으면 대부분이 신용카드대금이나 대출이자로 빠지는분!소비습관을 바로잡고 악성 고금리 상품을 전환 하시고 싶으신 분!늦지 않았습니다. 올바른 신용상품으로 금융플랜 제시해 드리겠습니다!채무통합 및 고금리 대환대출-원리금균등(원금이자)방식을 이자만내는 방식으로 전환-카드론현금서비스 사용이 잦은 분들-채무금액은 작으나 건수가 여러건으로 이용중인분들-만약 20%24%의 고금리를이용중이시라면 원금의100%비율 또는 그 이상의 이자납입이 발생됩니다.  신청방법상담 가능 시간 문자예약 이나 전화주시면 상담가능하십니다XXX 여신... \n",
      "\n",
      "XXX정확하고 올바른 신용대출당사상품의 자격기준과 심사기준이 완화되어 상품에 대해 고객님께 간단하게 상품정보를 전달드립니다.5분이내 빠른 대출가능여부확인XXX 대출상품안내1. 직장인신용대출한도: 1억4000만원금리: 연 3.97%자격: XXX 자체등급과 기업리스트에 따라 차등적용.2. 채무통합전환대출한도: 연봉대비250%금리: 연 3.97%자격: XXX 자체등급과 기업리스트에 따라 차등적용.3. 홀씨한도: 2500만원.금리: 연 8.68%12%자격: 연소득 4000만원 이하 고객대상으로 XXX 자체등급에 따라 차등적용.XXX 상품의 특징1. 당사 거래가 전혀 없어도 대출가능.2. 시중은행보다 높은 한도.3. 자체등급으로 판단하므로 저신용자도 대출가능.4. 부채가 많다면 부채통합상품으로 전환가능.5. 원리금균등방식을 이자만 납입하는 만기일시로 전환가능.6. 가상조회를 통해 한도 및 금리를 한번에 확인가능.이런분들께 권해드립니다.1. 이미 시중은행권에서 대출한도를 모두 사용중이신분2. 기대출의 원리금균등방식으로 인해 월납입금액이 부담스러우신분.3. 총 대출금액은 작으나 대출건수가 많아서 관리가 안되시는분.4. 이제라도 대출로 인한 신용등급 관리 및 상승에 관심이 있으신분.2018년에는 모든 금융사가 대출 한도를 줄이고 신용등급 을 엄격하게 심사합니다 현제 대출 건수나 카드론 현금 서비스 과다 고객 분 들은 미리 대비하시고 등급관리 를 하시기 바랍니다.신용에 대한 기본적인 상식과 지식을 알아야 하는 시대입니다. 최소한의 지식을 본인이 알아야 금전적 손해를 보는 일이 없습니다.신청방법: 상담 또는 00시 00분 상담이라고 답장을 보내주시거나 전화를 주시면 친절하고 안전한 상담으로 도움드리겠습니다.수신을 희망하지 않으실 경우에는 거부 라안녕하세요 \n",
      "\n",
      "XXX11월 당사상품의 자격기준과 심사기준이 완화되어 상품에 대해 고객님께 간단하게 상품정보를 전달드립니다.XXX 대출상품안내1. 직장인신용대출한도: 1억4000만원까지금리: 최저 4.97%자격: XXX 자체등급과 기업리스트에 따라 차등적용.2. 채무통합전환대출한도: 연봉대비300%까지(종합적인 판단으로 차등적용)금리: 최저 4.97%자격: XXX 자체등급과 기업리스트에 따라 차등적용.만약 잘못 받은 대출때문에 고민이시거나 매월 나가는 이자를 아끼고 싶다면 주저하지 마세요! 기회는 항상 열려 있습니다.XXX 상품의 특징1. 당사 거래가 전혀 없어도 대출가능.2. 시중은행보다 높은 한도.3. 자체등급으로 판단하므로 저신용자도 대출가능.4. 부채가 많다면 부채통합상품으로 전환가능.5. 원리금균등방식을 이자만 납입하는 만기일시로 전환가능.6. 가상조회를 통해 한도 및 금리를 한번에 확인가능.신용에 대한 기본적인 상식과 지식을 알아야 하는 시대입니다. 최소한의 지식을 본인이 알아야 금전적 손해를 보는 일이 없습니다.이런분들께 권해드립니다.1. 이미 시중은행권에서 대출한도를 모두 사용중이신분.2. 기대출의 원리금균등방식으로 인해 월납입금액이 부담스러우신분.3. 총 대출금액은 작으나 대출건수가 많아서 관리가 안되시는분.4. 이제라도 대출로 인한 신용등급 관리 및 상승에 관심이 있으신분.상담을 원하신다면 전화주시거나 상담이나 0000분 상담 이라고 답장을 해주시면원하시는 시간에 맞춰 연락드리겠습니다.수신을 희망하지 않으실 경우에는 거부라는 답장을 주시면 수신 거부 목록에 등록을 시켜 두 번 다시 발송되지 않도록 조치를 해드리겠습니다.수신거부 XXX-XXX-XXX제목없음 \n",
      "\n",
      "XXX2018년 하반기 채무통합(대환상품)추가상품 개편되어 안내드립니다.금년 부채통합및 낮은금리로 이용하실수있는 마지막 기회입니다.고민하지 마시고 전화주세요.상품특징원리금균등(원금이자)방식을 이자만내는 방식으로 전환신용등급 7등급이내의 직장인부채과다로인해 추가진행이 어렵다면 통합해드리겠습니다연소득대비 최 대 300%이내가능 (단 직업군 연봉 소득대비 상환하는 수지율에따라 적용)최근 6개 월간 연체사실이 있다면 진행불가.카드론현금서비스 사용이 잦은 분들채무금액은 작으나 건수가 여러건으로 이용중인분들1가상조회로 한도금리를 한번에 알수 있습니다.2XXXXXX은행사금융등을 1금융권 으로 대환할 수 있습니다.3시중은행보다 높은 한도를 자부합니다.4꼭 주거래 은행이 아니라도 상관없이 진행가능합니다.내용금리최 저 4.59% 부터(기준금리가산금리)한도최 대 1억원까지(대환자금추가자금)조건만23세이상직장인개인사업자채무통합의 핵심포인트1.월 납입액 45%85% 감소및 이자금액 최 대 85%감소효과2.신용도를 최 대 등급 1등급까지 상승3.퍼져있는 부채를 13건으로 줄여 관리하기 편하게4.추가 자금이 필요할때 은행권으로 가능하실수 있게이런분들께 권해드립니다.1.이미 시중은행권에서 대출한도를 모두 사용중이신분.2.기대출의 원리금균등방식으로 인해 월납입금액이 부담스러우신분.3.총 대출금액은 작으나 대출건수가 많아서 관리가 안되시는분.4.이제라도 대출로 인한 신용등급 관리 및 상승에 관심이 있으신분.신청방법전화주시거나 부재중일시 상담가능시간 문자예약 보내주시면 상담가능합니다감사합니다.은행권대환 추가자금XXX 수탁법인해당이 되지 않으시거나 거부를 원하시는 분들은 거부라고 회신하여 주신다면 재발송 않도록 하겠습니다.번호의 오류나 전산의 실수가 있을수 있사오니 양해 부탁드립니다.제목없음 \n",
      "\n",
      "한국XXX은행금전을 요구하는건 사기 입니다. 유의하세요!1.부득이하게 높은 이자를 내고 있는 분2.월 불입금을 줄이고 하시는 분3.건수를 줄여 신용등급을 올리고 싶으신 분4.복잡한 부채를 하나로 묶어 관리하고자 하는 분수신을 원치 않으신분들이라면 거부라는 답장을 주시면 다시는 발송되지않습니다.기존 높은금리에서 저금리로 금리전환하는걸 대환이라 하죠 이렇게 높은금리에서 저금리로 갈아타면 금리차이로 인해 이자가 절약됩니다.여기서 포인트는 바로 금리차이! 대환상품은 기존보다 낮은 금리로 갈아타는것이 매우 중요합니다.빚테크의 시작 대환을 통해 이자절감 받으세요부채통합(대환)안내대상- 1년이상 재직중인 직장인금리- 최저 3%차등적용한도- 연봉대비 250%까지 한도발생자격조건- 직장인이라면 누구나 가능 단 연체자는 불가합니다.원리금균등방식을 이자로 내는 방식으로 전환하여 월 최대 불입금을 최고 85%까지 줄일수 있습니다.최근 6개월간 연체사실만 없다면 누구나 진행이 가능하며 카드론현금서비스가 잦은 분들도 가능합니다.신용등급이 7등급XXX 분들중 건수가 많아 통합을 하고싶거나 은행에서 더이상의 추가 진행이 안되는 분들께서 많이 문의를 주시고 있습니다.문자상담 신청방법문자로상담이라고 답장을 주시거나 전화를 주시면 최선을 다해 도와드리겠습니다.XXX bank 직장인 안내1.대상- 직장인(공무원대기업외감일반기업)2.금리- 2.8%3.한도- 최대 1억4천만원까지4.진행등급- 내부등급으로 확인(신용이 낮아도 가능)카톡 및 오픈채팅 신청방법 ID:  citi51  아이디 검색후 친구추가하시고 상담이라고 카톡주시면 됩니다. open.kakao.comosImXOO1 (입장하셔서 문의 남겨 주세요)햇살론새희망홀씨안내최대 3000만원까지연 20%이상의 악성부채를 6개월 이상사용중인분연 10%대의 낮은금리로 진행XXX \n",
      "\n",
      "정확하고 올바른 신용대출당사상품의 자격기준과 심사기준이 변동되어 상품에 대해 고객님께 간단하게 상품정보를 전달드립니다.XXX은행 대출상품안내1. 직장인신용대출한도: 1억3000만원금리: 연 3.25%자격: XXX은행 자체등급과 기업리스트에 따라 차등적용.2. 채무통합전환대출한도: 연봉대비250%금리: 연 3.45%자격: XXX은행 자체등급과 기업리스트에 따라 차등적용.3. 홀씨한도: 2500만원.금리: 연 8.68%12%자격: 연소득 4500만원 이하 고객대상으로 XXX은행 자체등급에 따라 차등적용.XXX은행 상품의 특징1. 당사 거래가 전혀 없어도 대출가능.2. 시중은행보다 높은 한도.3. 자체등급으로 판단하므로 저신용자도 대출가능.4. 부채가 많다면 부채통합상품으로 전환가능.5. 원리금균등방식을 이자만 납입하는 만기일시로 전환가능.6. 가상조회를 통해 한도 및 금리를 한번에 확인가능.이런분들께 권해드립니다.1. 이미 시중은행권에서 대출한도를 모두 사용중이신분.2. 기대출의 원리금균등방식으로 인해 월납입금액이 부담스러우신분.3. 총 대출금액은 작으나 대출건수가 많아서 관리가 안되시는분.4. 이제라도 대출로 인한 신용등급 관리 및 상승에 관심이 있으신분.신용에 대한 기본적인 상식과 지식을 알아야 하는 시대입니다. 최소한의 지식을 본인이 알아야 금전적 손해를 보는 일이 없습니다.신청방법:상담 또는 00시 00분 상담이라고 답장을 보내주시거나 전화를 주시면 친절하고 안전한 상담으로 도움드리겠습니다.수신을 희망하지 않으실 경우에는 거부 라는 답장을 주시면 수신거부 목록에 등록을 시켜 두번 다시 발송되지 않도록 조치를 취해드리겠습니다.무료거부 XXX-XXX-XXX제목없음 \n",
      "\n",
      "-XXX 안내-항상 XXX을 이용해주셔서 감사합니다.2018년 하반기 정부지원조건이 변경되어 안내드립니다.고금리시대에 저 금리로 대출을이용하실수있는 기회입니다.놓치지 마시고 모두 혜택 받으시기 바랍니다.XXX에서 판매하는특별기획상품입니다.지금 신청하셔서생활의 여유를 만들어 보세요.자격조건1.만20세65세까지2.직장인사업자전문직종사자3.최근부결자다중채무자가능(단연체이력자는 불가)상품조건1. 17 등급2.기존이용금액 많아도 가능!!3.최저조건 4.59%부터4.최대 1억원까지!상품내용1.다중채무를 하나로 통합하실 분2.월 납입금 70%이상 절감효과가 있습니다!!3.채무통합으로 인해 신용등급이 상향조정됩니다!!4.건수 통합으로 관리가 편해집니다5.고금리를 저금리로 전환하여 삶의 여유가 생깁니다우선혜택1.현재 금리상승 및 대출규제로 인해신청자가 많습니다!!2.금일신청시 우선진행가능!!3.최근 승인지급금 대폭상승!!4.한도소진시까지 전폭적진행합니다!!채무통합 추가자금 필요하신분지금 서둘러 신청하세요!은행권대환추가자금XXX 수탁법인신청방법전화주시거나 부재중일시 상담가능시간 문자예약 보내주시면 상담가능합니다서민의 희망을 키워가는 금융!대한민국의 더 든든한 내일을 만들어갑니다.번호의 오류나 전산의 실수가 있을수 있사오니 양해 부탁드립니다.XXX \n",
      "\n",
      "XXX국민은행항상 (XXX국민)은행을 이용해주셔서 감사합니다. 2018년 11월 신상품이 출시되여서 안내드립니다. 낮은 금리로 정부지원 상품을 이용할수있습니다.고민하지 마시고 전화주세요(내용) 신상품.출시안내 본상품은 서민지원대출로 정부에서 지원하고 XXX국민에만 이용할수있는 상품입니다. 상품특징 1. 무담보! 무수수료! 2. 신용등급상관없이 3. 최고한도 3억 4. 최하금리 3%5. 상환수수료 없이 자유롭게 상환가능! 6. 기존채무자 저금리전환가능 자격조건 1.만21세이상 2.직장인사업자프리랜서주부학생 3.최근부결자 다중채무자 가능 신청기간 11월30일마감. 접수자가 많으니 빠른신청 바랍니다. 신청방법상담 가능 시간성함으로 문자예약.또는 전화(08:0018:00)주시면 상담가능하십니다번호 저장 후 꼭 대.출뿐 아니라 문의사항 있으셔도 필요하실때 언제든 편하게 연락주시면 꼭 필요한 도움 드리겠습니다.무료거부XXX-XXX-XXX무료수신거부XXX-XXX-XXX국민은행 \n",
      "\n",
      "안녕하세요XXX축은행 수탁법인에서 기존 고객분들 개인 신용 상담 및 실행 업무를 맡고있는 XXX 팀장입니다. 항상 건강하시고 행복한 일들 가득하시길 기원합니다. 메세지를 보내드리는 이유는 다름이 아니라 당사 중금리 상품 가이드가 완화되어2금융권에서 고금리 신용을 보유 중이신 분들을 위해 은행권 전환과 추가한도를 위하여 XXX축은행 직장인 신용상품을 출시하였습니다. 연말 총량제 가동 전에 마지막 저금리 대환의 기회이니 많은 관심 부탁드립니다 !-직장인 신용 상품- 1.급여 소득자 전문직 대상 (급여 대상자 모두)2.최저 6.9%부터 3.최대1억  4.연봉대비 부채(채무)율이 높으셔도 가능원리금 상환방식을 이자만 내는 만기일시 상품으로 전환 가능 매달 내는 원리금이 부담 되시거나 고금리를 이용 중이라면 자신있게 권해드립니다 현재 은행권에서 가장 완화된 조건의 신용대출입니다. 신청방법: 전화나 문자로 상담 남겨 주시면 친절하게 상담해 드리겠습니다 신용조회 없이 가능 여부를 먼저 확인 해 드리며 서류 접수시 온라인과 유선상으로접수진행 도와드립니다. 항상 정직XXX 고객님의 힘이되는 상담사가 되도록 노력하겠습니다. 위 문자는 당행과 상담하셨고 상품서비스 안내 등에 동의하셨던 분들을 대상으로 보내고 있습니다. 혹시 당행 거래와 관련이 전혀 없으실 경우 번호 오기로 인한 오류가 있을수 있으며 잘못된 수신을 받으셨거나 수신을 원하지 않으실 경우 거부 문자 남겨주시면 조치해 드리도록 하겠습니다.담당자 : XXX 팀장좋은 기회에 도움이 되시면 좋겠습니다.감사합니다안녕하세요 XXX... \n",
      "\n",
      "-XXX 안내-항상 XXX을 이용해주셔서 감사합니다.2018년 하반기 정부지원조건이 변경되어 안내드립니다.고금리시대에 저 금리로 대출을이용하실수있는 기회입니다.놓치지 마시고 모두 혜택 받으시기 바랍니다.XXX에서 판매하는특별기획상품입니다.지금 신청하셔서생활의 여유를 만들어 보세요.자격조건1.만20세65세까지2.직장인사업자전문직종사자3.최근부결자다중채무자가능(단연체이력자는 불가)상품조건1. 17 등급2.기존이용금액 많아도 가능!!3.최저조건 4.59%부터4.최대 1억원까지!상품내용1.다중채무를 하나로 통합하실 분2.월 납입금 70%이상 절감효과가 있습니다!!3.채무통합으로 인해 신용등급이 상향조정됩니다!!4.건수 통합으로 관리가 편해집니다5.고금리를 저금리로 전환하여 삶의 여유가 생깁니다우선혜택1.현재 금리상승 및 대출규제로 인해신청자가 많습니다!!2.금일신청시 우선진행가능!!3.최근 승인지급금 대폭상승!!4.한도소진시까지 전폭적진행합니다!!채무통합 추가자금 필요하신분지금 서둘러 신청하세요!은행권대환추가자금XXX 수탁법인신청방법전화주시거나 부재중일시 상담가능시간 문자예약 보내주시면 상담가능합니다서민의 희망을 키워가는 금융!대한민국의 더 든든한 내일을 만들어갑니다.번호의 오류나 전산의 실수가 있을수 있사오니 양해 부탁드립니다제목없음 \n",
      "\n",
      "XXX정확하고 올바른 신용대출당사상품의 자격기준과 심사기준이 완화되어 상품에 대해 고객님께 간단하게 상품정보를 전달드립니다.5분이내 빠른 대출가능여부확인 XXX 대출상품안내1. 직장인신용대출한도: 1억4000만원금리: 연 3.97%자격: XXX 자체등급과 기업리스트에 따라 차등적용.2. 채무통합전환대출한도: 연봉대비250%금리: 연 3.97%자격: XXX 자체등급과 기업리스트에 따라 차등적용.3. 홀씨한도: 2500만원.금리: 연 8.68%12%자격: 연소득 4000만원 이하 고객대상으로 XXX 자체등급에 따라 차등적용.XXX 상품의 특징1. 당사 거래가 전혀 없어도 대출가능.2. 시중은행보다 높은 한도.3. 자체등급으로 판단하므로 저신용자도 대출가능.4. 부채가 많다면 부채통합상품으로 전환가능.5. 원리금균등방식을 이자만 납입하는 만기일시로 전환가능.6. 가상조회를 통해 한도 및 금리를 한번에 확인가능.이런분들께 권해드립니다.1. 이미 시중은행권에서 대출한도를 모두 사용중이신분2. 기대출의 원리금균등방식으로 인해 월납입금액이 부담스러우신분.3. 총 대출금액은 작으나 대출건수가 많아서 관리가 안되시는분.4. 이제라도 대출로 인한 신용등급 관리 및 상승에 관심이 있으신분.2018년에는 모든 금융사가 대출 한도를 줄이고 신용등급 을 엄격하게 심사합니다 현제 대출 건수나 카드론 현금 서비스 과다 고객 분 들은 미리 대비하시고 등급관리 를 하시기 바랍니다.신용에 대한 기본적인 상식과 지식을 알아야 하는 시대입니다. 최소한의 지식을 본인이 알아야 금전적 손해를 보는 일이 없습니다.신청방법: 상담 또는 00시 00분 상담이라고 답장을 보내주시거나 전화를 주시면 친절하고 안전한 상담으로 도움드리겠습니다.수신을 희망하지 않으실 경우에는 거부 라는 답장을 주시면 수신거부 목록에 등록을 시켜 두번 다시 발송되지 않도록안녕하세요 \n",
      "\n",
      "XXX2018년 하반기 채무통합(대환상품)추가상품 개편되어 안내드립니다.금년 부채통합및 낮은금리로 이용하실수있는 마지막 기회입니다.고민하지 마시고 전화주세요.상품특징원리금균등(원금이자)방식을 이자만내는 방식으로 전환신용등급 7등급이내의 직장인이면부채과다로인해 추가진행이 어렵다면 통합해드리겠습니다연소득대비 최 대 300%이내가능최근 6개 월간 연체사실이 있다면 진행불가.카드론현금서비스 사용이 잦은 분들채무금액은 작으나 건수가 여러건으로 이용중인분들1가상조회로 한도금리를 한번에 알수 있습니다.2XXXXXX은행사금융등을 1금융권 으로 대환할 수 있습니다.3시중은행보다 높은 한도를 자부합니다.4꼭 주거래 은행이 아니라도 상관없이 진행가능합니다.내용금리최 저 3.75% 부터(기준금리가산금리)한도최 대 1억원까지(대환자금추가자금)조건만23세이상직장인개인사업자채무통합의 핵심포인트1.월 납입액 45%85% 감소및 이자금액 최 대 85%감소효과2.신용도를 최 대 등급 1등급까지 상승시켜드립니다.3.퍼져있는 부채를 13건으로 줄여 관리하기 편하게 만들어 드립니다.4.추가 자금이 필요할때 은행권으로 가능하실수 있게 해드립니다.이런분들께 권해드립니다.1.이미 시중은행권에서 대출한도를 모두 사용중이신분.2.기대출의 원리금균등방식으로 인해 월납입금액이 부담스러우신분.3.총 대출금액은 작으나 대출건수가 많아서 관리가 안되시는분.4.이제라도 대출로 인한 신용등급 관리 및 상승에 관심이 있으신분.신청방법전화주시거나 부재중일시 상담가능시간 문자예약 보내주시면 상담가능합니다감사합니다.은행권대환 추가자금XXX 수탁법인해당이 되지 않으시거XXX \n",
      "\n"
     ]
    }
   ],
   "source": [
    "df_ea = df_train.loc[fold16[14]]\n",
    "for t in df_ea[df_ea['smishing'] == 1]['text'].values:\n",
    "    if '광고' not in t:\n",
    "        print(t, '\\n')"
   ]
  },
  {
   "cell_type": "markdown",
   "metadata": {},
   "source": [
    "#### Submit"
   ]
  },
  {
   "cell_type": "code",
   "execution_count": null,
   "metadata": {
    "ExecuteTime": {
     "end_time": "2020-01-04T23:54:30.052294Z",
     "start_time": "2020-01-04T23:54:30.025361Z"
    }
   },
   "outputs": [],
   "source": [
    "df_submit = df_test[['smishing']]\n",
    "df_submit['smishing'] = 0\n",
    "for csv in pred_csv:\n",
    "    print(csv)\n",
    "    df = pd.read_csv(csv, index_col=0)\n",
    "    c = csv.split('__')[0][-1]\n",
    "    df_submit['smishing_{}'.format(c)] = df['smishing']"
   ]
  },
  {
   "cell_type": "code",
   "execution_count": null,
   "metadata": {
    "ExecuteTime": {
     "end_time": "2020-01-04T23:54:30.064812Z",
     "start_time": "2020-01-04T23:54:30.053158Z"
    },
    "scrolled": true
   },
   "outputs": [],
   "source": [
    "pred_cols = [c for c in df_submit.columns if 'smishing_' in c]\n",
    "df_submit['std'] = df_submit[pred_cols].std(axis=1)\n",
    "df_submit['median'] = df_submit[pred_cols].median(axis=1)\n",
    "df_submit['mean'] = df_submit[pred_cols].median(axis=1)\n",
    "\n",
    "pred_cols_n4 = [c for c in pred_cols if '_4' in c]\n",
    "df_submit['std_n4'] = df_submit[pred_cols_n4].std(axis=1)\n",
    "df_submit['median_n4'] = df_submit[pred_cols_n4].median(axis=1)\n",
    "df_submit['mean_n4'] = df_submit[pred_cols_n4].median(axis=1)\n"
   ]
  },
  {
   "cell_type": "markdown",
   "metadata": {},
   "source": [
    "#### Save"
   ]
  },
  {
   "cell_type": "code",
   "execution_count": null,
   "metadata": {
    "ExecuteTime": {
     "end_time": "2020-01-04T23:54:30.084022Z",
     "start_time": "2020-01-04T23:54:30.065695Z"
    }
   },
   "outputs": [],
   "source": [
    "print(model_ts)\n",
    "df_submit['smishing'] = df_submit['median']\n",
    "df_submit[['smishing']].to_csv('submit/{}_lgb_median.csv'.format(model_ts), index=True)\n",
    "\n",
    "df_submit['smishing'] = df_submit['mean_n4']\n",
    "df_submit[['smishing']].to_csv('submit/{}_lgb_n4.csv'.format(model_ts), index=True)\n",
    "\n",
    "df_submit['smishing'] = df_submit['mean']\n",
    "df_submit[['smishing']].to_csv('submit/{}_lgb.csv'.format(model_ts), index=True)"
   ]
  },
  {
   "cell_type": "markdown",
   "metadata": {},
   "source": [
    "#### Eval"
   ]
  },
  {
   "cell_type": "markdown",
   "metadata": {},
   "source": [
    "##### Feature Imp"
   ]
  },
  {
   "cell_type": "code",
   "execution_count": null,
   "metadata": {
    "ExecuteTime": {
     "end_time": "2020-01-04T23:54:30.255504Z",
     "start_time": "2020-01-04T23:54:30.084871Z"
    }
   },
   "outputs": [],
   "source": [
    "fea_imp_dict = {}\n",
    "for pkl in glob.glob(f'model/{model_ts}*split.pkl'):\n",
    "    for k, v in joblib.load(pkl).items():\n",
    "        if k in fea_imp_dict.keys():\n",
    "            fea_imp_dict[k] += v\n",
    "        else:\n",
    "            fea_imp_dict[k] = v\n",
    "sorted(fea_imp_dict.items(), key=(lambda x:x[1]), reverse=True)"
   ]
  },
  {
   "cell_type": "code",
   "execution_count": null,
   "metadata": {
    "ExecuteTime": {
     "end_time": "2020-01-04T23:54:30.427993Z",
     "start_time": "2020-01-04T23:54:30.256147Z"
    }
   },
   "outputs": [],
   "source": [
    "non_zero_cols = [k for k, v in fea_imp_dict.items() if v != 0]\n",
    "zero_cols = set(fea_imp_dict.keys()) - set(non_zero_cols)\n",
    "\n",
    "print('non_zero_cols', len(non_zero_cols) , 'zero_cols', len(zero_cols))\n",
    "\n",
    "zero_dict = {}\n",
    "non_zero_dict = {}\n",
    "for k, v in fea_dict.items():\n",
    "    if v in zero_cols:\n",
    "        zero_dict[k] = v\n",
    "    if v in non_zero_cols:\n",
    "        non_zero_dict[k] = v\n",
    "        \n",
    "\n",
    "joblib.dump(zero_dict, f'model/{model_ts}_zero_dict.pkl')\n",
    "joblib.dump(non_zero_dict, f'model/{model_ts}_non_zero_dict.pkl')"
   ]
  },
  {
   "cell_type": "code",
   "execution_count": null,
   "metadata": {
    "ExecuteTime": {
     "end_time": "2020-01-04T23:54:30.443997Z",
     "start_time": "2020-01-04T23:54:30.428743Z"
    },
    "scrolled": true
   },
   "outputs": [],
   "source": [
    "df_std = df_submit[df_submit['std'] < 1]\n",
    "print(df_std.shape)\n",
    "df_std.sort_values('std', ascending=False).head(30)"
   ]
  },
  {
   "cell_type": "code",
   "execution_count": null,
   "metadata": {
    "ExecuteTime": {
     "end_time": "2020-01-04T23:54:30.654927Z",
     "start_time": "2020-01-04T23:54:30.444856Z"
    }
   },
   "outputs": [],
   "source": [
    "df_submit['smishing'].hist(bins=100, figsize=(20, 5))"
   ]
  },
  {
   "cell_type": "code",
   "execution_count": null,
   "metadata": {
    "ExecuteTime": {
     "end_time": "2020-01-04T23:54:30.669350Z",
     "start_time": "2020-01-04T23:54:30.656180Z"
    }
   },
   "outputs": [],
   "source": [
    "(df_submit['smishing'] * 10).astype(int).value_counts(sort=False)"
   ]
  },
  {
   "cell_type": "code",
   "execution_count": null,
   "metadata": {
    "ExecuteTime": {
     "end_time": "2020-01-04T23:54:30.680550Z",
     "start_time": "2020-01-04T23:54:30.670580Z"
    }
   },
   "outputs": [],
   "source": [
    "print(model_ts)\n",
    "df_submit[['smishing']].to_csv('submit/{}_lgb.csv'.format(model_ts), index=True)"
   ]
  },
  {
   "cell_type": "code",
   "execution_count": null,
   "metadata": {},
   "outputs": [],
   "source": []
  }
 ],
 "metadata": {
  "accelerator": "GPU",
  "colab": {
   "collapsed_sections": [],
   "name": "mecab_tfidf.ipynb",
   "provenance": []
  },
  "kernelspec": {
   "display_name": "Python 3",
   "language": "python",
   "name": "python3"
  },
  "language_info": {
   "codemirror_mode": {
    "name": "ipython",
    "version": 3
   },
   "file_extension": ".py",
   "mimetype": "text/x-python",
   "name": "python",
   "nbconvert_exporter": "python",
   "pygments_lexer": "ipython3",
   "version": "3.7.4"
  },
  "toc": {
   "base_numbering": 1,
   "nav_menu": {},
   "number_sections": true,
   "sideBar": true,
   "skip_h1_title": false,
   "title_cell": "Table of Contents",
   "title_sidebar": "Contents",
   "toc_cell": false,
   "toc_position": {
    "height": "calc(100% - 180px)",
    "left": "10px",
    "top": "150px",
    "width": "165px"
   },
   "toc_section_display": true,
   "toc_window_display": true
  }
 },
 "nbformat": 4,
 "nbformat_minor": 1
}
