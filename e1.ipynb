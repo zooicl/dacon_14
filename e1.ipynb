{
 "cells": [
  {
   "cell_type": "code",
   "execution_count": 11,
   "metadata": {
    "ExecuteTime": {
     "end_time": "2020-01-01T08:54:25.830386Z",
     "start_time": "2020-01-01T08:54:25.315912Z"
    }
   },
   "outputs": [
    {
     "name": "stdout",
     "output_type": "stream",
     "text": [
      "2.3.2\n",
      "1.3.1\n",
      "GeForce RTX 2070 SUPER\n",
      "True\n"
     ]
    },
    {
     "data": {
      "text/plain": [
       "device(type='cuda', index=0)"
      ]
     },
     "execution_count": 11,
     "metadata": {},
     "output_type": "execute_result"
    }
   ],
   "source": [
    "get_ipython().run_line_magic('matplotlib', 'inline')\n",
    "import pandas as pd\n",
    "import numpy as np\n",
    "import seaborn as sns\n",
    "\n",
    "from datetime import datetime\n",
    "\n",
    "from sklearn.externals import joblib \n",
    "import glob\n",
    "#!/usr/bin/env python\n",
    "# coding: utf-8\n",
    "get_ipython().run_line_magic('matplotlib', 'inline')\n",
    "import pandas as pd\n",
    "import time\n",
    "import numpy as np\n",
    "from datetime import datetime\n",
    "from sklearn.externals import joblib \n",
    "import os\n",
    "from konlpy.tag import Mecab\n",
    "import lightgbm as lgb\n",
    "print(lgb.__version__)\n",
    "\n",
    "from sklearn import metrics\n",
    "from sklearn.preprocessing import MinMaxScaler\n",
    "from sklearn.externals import joblib \n",
    "from sklearn.model_selection import StratifiedKFold\n",
    "\n",
    "import gc\n",
    "\n",
    "from tqdm import tqdm_notebook\n",
    "\n",
    "import warnings\n",
    "warnings.filterwarnings(action='ignore')\n",
    "\n",
    "\n",
    "import torch\n",
    "print(torch.__version__)\n",
    "import torch.nn.functional as F\n",
    "from torch.utils.data import Dataset, DataLoader\n",
    "\n",
    "from torchsummary import summary\n",
    "\n",
    "from tools import eval_summary\n",
    "\n",
    "print(torch.cuda.get_device_name(0))\n",
    "print(torch.cuda.is_available())\n",
    "\n",
    "device = torch.device(\"cuda:0\" if torch.cuda.is_available() else \"cpu\")\n",
    "# device = torch.device('cpu')\n",
    "device"
   ]
  },
  {
   "cell_type": "code",
   "execution_count": 26,
   "metadata": {
    "ExecuteTime": {
     "end_time": "2020-01-01T08:59:17.593401Z",
     "start_time": "2020-01-01T08:59:17.088829Z"
    }
   },
   "outputs": [
    {
     "name": "stdout",
     "output_type": "stream",
     "text": [
      "<class 'pandas.core.frame.DataFrame'>\n",
      "Int64Index: 1626 entries, 340000 to 341625\n",
      "Columns: 227 entries, 20200101T125632_30_5__3030_lgb to 20200101T125632_29_1__4909_lgb\n",
      "dtypes: float64(227)\n",
      "memory usage: 2.8 MB\n"
     ]
    }
   ],
   "source": [
    "dfs = []\n",
    "for path in glob.glob('submit/e1/**/*lgb.csv', recursive=True):\n",
    "    c = path.split('/')[-1].replace('.csv', '').replace('smishing_', '')\n",
    "    df = pd.read_csv(path, index_col=0).rename(columns={'smishing':c})\n",
    "    dfs.append(df)      \n",
    "    \n",
    "df_test = pd.concat(dfs, axis=1)\n",
    "\n",
    "df_test.head(10)\n",
    "df_test.info()"
   ]
  },
  {
   "cell_type": "code",
   "execution_count": 52,
   "metadata": {
    "ExecuteTime": {
     "end_time": "2020-01-01T09:08:08.311888Z",
     "start_time": "2020-01-01T09:07:51.232022Z"
    }
   },
   "outputs": [
    {
     "name": "stdout",
     "output_type": "stream",
     "text": [
      "<class 'pandas.core.frame.DataFrame'>\n",
      "Int64Index: 295945 entries, 0 to 336378\n",
      "Columns: 227 entries, 20200101T125632_21_5__1943_lgb to 20200101T125632_22_4__4455_lgb\n",
      "dtypes: float64(227)\n",
      "memory usage: 514.8 MB\n"
     ]
    }
   ],
   "source": [
    "dfs = []\n",
    "for path in glob.glob('submit/e1/**/*lgb_score.csv', recursive=True):\n",
    "    c = path.split('/')[-1].replace('.csv', '').replace('smishing_', '').replace('_score', '')\n",
    "    df = pd.read_csv(path, index_col=0).rename(columns={'score':c})\n",
    "    dfs.append(df)      \n",
    "    \n",
    "df_model = pd.concat(dfs, axis=1)\n",
    "\n",
    "df_model.head(10)\n",
    "df_model.info()\n",
    "\n",
    "df_model = pd.merge(df_model, pd.read_csv('input/train.csv', index_col=0)['smishing'], \n",
    "                    left_index=True, right_index=True,\n",
    "                    how='left')"
   ]
  },
  {
   "cell_type": "code",
   "execution_count": 53,
   "metadata": {
    "ExecuteTime": {
     "end_time": "2020-01-01T09:08:08.318578Z",
     "start_time": "2020-01-01T09:08:08.313080Z"
    }
   },
   "outputs": [
    {
     "data": {
      "text/plain": [
       "0    277242\n",
       "1     18703\n",
       "Name: smishing, dtype: int64"
      ]
     },
     "execution_count": 53,
     "metadata": {},
     "output_type": "execute_result"
    }
   ],
   "source": [
    "df_model['smishing'].value_counts()"
   ]
  },
  {
   "cell_type": "markdown",
   "metadata": {},
   "source": [
    "### param"
   ]
  },
  {
   "cell_type": "code",
   "execution_count": 57,
   "metadata": {
    "ExecuteTime": {
     "end_time": "2020-01-01T09:10:09.522357Z",
     "start_time": "2020-01-01T09:10:09.518495Z"
    }
   },
   "outputs": [],
   "source": [
    "from sklearn.model_selection import train_test_split\n",
    "from sklearn.model_selection import StratifiedKFold\n",
    "\n",
    "model_ts = datetime.now().strftime('%Y%m%dT%H%M%S')\n",
    "\n",
    "initscore_filename = ''\n",
    "params = {\n",
    "    'boosting':'gbdt',\n",
    "#     'boosting':'dart',\n",
    "    'num_leaves': 7, \n",
    "#     'max_depth': 5,\n",
    "    'objective': 'binary',\n",
    "    'metric':'auc',\n",
    "    'num_threads': 2,\n",
    "    'learning_rate': 0.005,\n",
    "#     'is_unbalance': True,\n",
    "    'scale_pos_weight':100,\n",
    "    'bagging_fraction':1,\n",
    "#     'bagging_freq':10,\n",
    "    'feature_fraction':1,\n",
    "    'initscore_filename':initscore_filename,\n",
    "#     'lambda_l1':200,\n",
    "#     'lambda_l2':2000,\n",
    "#     'device_type':'gpu',\n",
    "}\n",
    "\n",
    "data_params = {\n",
    "#     'max_bin':128,\n",
    "    'enable_bundle': True,\n",
    "}\n",
    "num_round = 5000"
   ]
  },
  {
   "cell_type": "markdown",
   "metadata": {},
   "source": [
    "### Train"
   ]
  },
  {
   "cell_type": "code",
   "execution_count": 58,
   "metadata": {
    "ExecuteTime": {
     "end_time": "2020-01-01T09:10:10.138129Z",
     "start_time": "2020-01-01T09:10:10.135724Z"
    }
   },
   "outputs": [],
   "source": [
    "fea_cols = [c for c in df_model.columns if c not in ['smishing', 'id', 'score']]\n",
    "cat_cols = []"
   ]
  },
  {
   "cell_type": "code",
   "execution_count": 61,
   "metadata": {
    "ExecuteTime": {
     "end_time": "2020-01-01T09:18:22.494377Z",
     "start_time": "2020-01-01T09:15:38.627716Z"
    },
    "scrolled": true
   },
   "outputs": [
    {
     "data": {
      "application/vnd.jupyter.widget-view+json": {
       "model_id": "df80569128374b35b6edaff941f73c3e",
       "version_major": 2,
       "version_minor": 0
      },
      "text/plain": [
       "HBox(children=(IntProgress(value=0, description='CV', max=5, style=ProgressStyle(description_width='initial'))…"
      ]
     },
     "metadata": {},
     "output_type": "display_data"
    },
    {
     "name": "stdout",
     "output_type": "stream",
     "text": [
      "\n",
      " ******************** 1 ********************\n",
      "train_set (array([0., 1.], dtype=float32), array([221793,  14962]))\n",
      "valid_set (array([0., 1.], dtype=float32), array([55449,  3741]))\n",
      "Training until validation scores don't improve for 300 rounds\n",
      "[200]\ttraining's auc: 1\tvalid_1's auc: 0.996926\n",
      "[400]\ttraining's auc: 1\tvalid_1's auc: 0.996926\n",
      "[600]\ttraining's auc: 1\tvalid_1's auc: 0.997861\n",
      "[800]\ttraining's auc: 1\tvalid_1's auc: 0.997861\n",
      "Early stopping, best iteration is:\n",
      "[691]\ttraining's auc: 1\tvalid_1's auc: 0.997861\n",
      "Best Iteration: 691\n",
      "split: [('20200101T125632_2_3__2011_lgb', 618), ('20200101T125632_2_5__3029_lgb', 608), ('20200101T125632_21_4__4476_lgb', 474), ('20200101T125632_31_1__4640_lgb', 423), ('20200101T125632_34_1__3960_lgb', 413)]\n",
      "gain: [('20200101T125632_2_1__4916_lgb', 39703515.61691058), ('20200101T125632_31_1__4640_lgb', 17555822.6693549), ('20200101T125632_21_4__4476_lgb', 782477.332223177), ('20200101T125632_41_1__4070_lgb', 322.24617643945385), ('20200101T125632_40_3__1912_lgb', 14.259117299690843)]\n",
      "model\n",
      " {'auc': 0.9995721460968876, 'confusion_matrix': array([[277242,      0],\n",
      "       [    25,  18678]]), 'precision': 1.0, 'recall': 0.9986633160455541}\n",
      "\n",
      " ******************** 2 ********************\n",
      "train_set (array([0., 1.], dtype=float32), array([221793,  14962]))\n",
      "valid_set (array([0., 1.], dtype=float32), array([55449,  3741]))\n",
      "Training until validation scores don't improve for 300 rounds\n",
      "[200]\ttraining's auc: 1\tvalid_1's auc: 1\n",
      "Early stopping, best iteration is:\n",
      "[1]\ttraining's auc: 1\tvalid_1's auc: 1\n",
      "Best Iteration: 1\n",
      "split: [('20200101T125632_21_5__1943_lgb', 2), ('20200101T125632_0_4__4972_lgb', 1), ('20200101T125632_21_4__4476_lgb', 1), ('20200101T125632_34_5__4418_lgb', 1), ('20200101T125632_31_4__3717_lgb', 1)]\n",
      "gain: [('20200101T125632_21_4__4476_lgb', 3261260.0), ('20200101T125632_31_4__3717_lgb', 1334.3199462890625), ('20200101T125632_34_5__4418_lgb', 0.4320859909057617), ('20200101T125632_21_5__1943_lgb', 3.727109066471376e-09), ('20200101T125632_0_4__4972_lgb', 8.881779961836516e-16)]\n",
      "model\n",
      " {'auc': 0.9999999919001124, 'confusion_matrix': array([[277242,      0],\n",
      "       [ 18703,      0]]), 'precision': 0.0, 'recall': 0.0}\n",
      "\n",
      " ******************** 3 ********************\n",
      "train_set (array([0., 1.], dtype=float32), array([221794,  14962]))\n",
      "valid_set (array([0., 1.], dtype=float32), array([55448,  3741]))\n",
      "Training until validation scores don't improve for 300 rounds\n",
      "[200]\ttraining's auc: 1\tvalid_1's auc: 1\n",
      "[400]\ttraining's auc: 1\tvalid_1's auc: 1\n",
      "[600]\ttraining's auc: 1\tvalid_1's auc: 1\n",
      "Early stopping, best iteration is:\n",
      "[318]\ttraining's auc: 1\tvalid_1's auc: 1\n",
      "Best Iteration: 318\n",
      "split: [('20200101T125632_21_4__4476_lgb', 318), ('20200101T125632_23_5__522_lgb', 151), ('20200101T125632_15_3__4159_lgb', 150), ('20200101T125632_30_3__4969_lgb', 51), ('20200101T125632_20_5__4190_lgb', 50)]\n",
      "gain: [('20200101T125632_21_4__4476_lgb', 49809160.17178453), ('20200101T125632_15_3__4159_lgb', 6042559.103362325), ('20200101T125632_30_3__4969_lgb', 8689.527787208557), ('20200101T125632_31_4__3717_lgb', 3539.499556541443), ('20200101T125632_42_3__2970_lgb', 3245.107734680176)]\n",
      "model\n",
      " {'auc': 0.9999999959500562, 'confusion_matrix': array([[277242,      0],\n",
      "       [     5,  18698]]), 'precision': 1.0, 'recall': 0.9997326632091108}\n",
      "\n",
      " ******************** 4 ********************\n",
      "train_set (array([0., 1.], dtype=float32), array([221794,  14963]))\n",
      "valid_set (array([0., 1.], dtype=float32), array([55448,  3740]))\n",
      "Training until validation scores don't improve for 300 rounds\n",
      "[200]\ttraining's auc: 1\tvalid_1's auc: 1\n",
      "Early stopping, best iteration is:\n",
      "[1]\ttraining's auc: 1\tvalid_1's auc: 1\n",
      "Best Iteration: 1\n",
      "split: [('20200101T125632_21_5__1943_lgb', 1), ('20200101T125632_20_5__4190_lgb', 1), ('20200101T125632_21_4__4476_lgb', 1), ('20200101T125632_31_4__3717_lgb', 1), ('20200101T125632_35_3__4970_lgb', 0)]\n",
      "gain: [('20200101T125632_21_4__4476_lgb', 3261700.0), ('20200101T125632_31_4__3717_lgb', 810.7050170898438), ('20200101T125632_20_5__4190_lgb', 0.08916009962558746), ('20200101T125632_21_5__1943_lgb', 1.81899005406716e-12), ('20200101T125632_35_3__4970_lgb', 0.0)]\n",
      "model\n",
      " {'auc': 0.9999999901644222, 'confusion_matrix': array([[277242,      0],\n",
      "       [ 18703,      0]]), 'precision': 0.0, 'recall': 0.0}\n",
      "\n",
      " ******************** 5 ********************\n",
      "train_set (array([0., 1.], dtype=float32), array([221794,  14963]))\n",
      "valid_set (array([0., 1.], dtype=float32), array([55448,  3740]))\n",
      "Training until validation scores don't improve for 300 rounds\n",
      "[200]\ttraining's auc: 1\tvalid_1's auc: 0.996664\n",
      "Early stopping, best iteration is:\n",
      "[3]\ttraining's auc: 1\tvalid_1's auc: 0.998063\n",
      "Best Iteration: 3\n",
      "split: [('20200101T125632_34_5__4418_lgb', 3), ('20200101T125632_31_1__4640_lgb', 2), ('20200101T125632_23_5__522_lgb', 2), ('20200101T125632_12_1__1919_lgb', 2), ('20200101T125632_21_5__1943_lgb', 1)]\n",
      "gain: [('20200101T125632_34_5__4418_lgb', 8638500.0), ('20200101T125632_12_1__1919_lgb', 0.25744300335645676), ('20200101T125632_31_1__4640_lgb', 0.1683010049164293), ('20200101T125632_23_5__522_lgb', 5.4914498832658865e-05), ('20200101T125632_6_1__27_lgb', 2.9262200769153424e-05)]\n",
      "model\n",
      " {'auc': 0.9996129407951755, 'confusion_matrix': array([[277242,      0],\n",
      "       [ 18703,      0]]), 'precision': 0.0, 'recall': 0.0}\n",
      "\n"
     ]
    }
   ],
   "source": [
    "[df_model.drop(c, axis=1, inplace=True) for c in df_model.columns if 'smishing_' in c]\n",
    "[df_test.drop(c, axis=1, inplace=True) for c in df_test.columns if 'smishing_' in c]\n",
    "\n",
    "X = df_model[fea_cols].values\n",
    "y = df_model['smishing'].values\n",
    "\n",
    "n_splits = 5\n",
    "skf = StratifiedKFold(n_splits=n_splits, random_state=8405)\n",
    "cnt = 0\n",
    "train_data = lgb.Dataset(X, label=y, feature_name=fea_cols, categorical_feature=cat_cols, \n",
    "                     free_raw_data=False, params=data_params)\n",
    "\n",
    "# for train_index, valid_index in skf.split(X, y):\n",
    "for train_index, valid_index in tqdm_notebook(skf.split(X, y), total=n_splits, desc = 'CV'):\n",
    "    cnt = cnt + 1\n",
    "    print('\\n', '*' * 20, cnt, '*' * 20)\n",
    "\n",
    "    train_set = train_data.subset(train_index, params=data_params).construct()\n",
    "    valid_set = train_data.subset(valid_index, params=data_params).construct()\n",
    "    print('train_set', np.unique(train_set.get_label(), return_counts=True))\n",
    "    print('valid_set', np.unique(valid_set.get_label(), return_counts=True))\n",
    "\n",
    "    bst = lgb.train(params, train_set, num_round, categorical_feature=cat_cols,\n",
    "                    early_stopping_rounds=300, \n",
    "                    valid_sets=[train_set, valid_set],\n",
    "                    verbose_eval=200,\n",
    "                    # init_model=init_model,\n",
    "                   )\n",
    "\n",
    "    print('Best Iteration:', bst.best_iteration)\n",
    "    pred_tag = 'e_{}__{}'.format(cnt, bst.best_iteration)\n",
    "\n",
    "    renamed_cols = fea_cols\n",
    "\n",
    "    impt_dict = {k:v for k, v in zip(renamed_cols, bst.feature_importance(importance_type='split'))}\n",
    "    print('split:', sorted(impt_dict.items(), key=(lambda x:x[1]), reverse=True)[:5])\n",
    "    joblib.dump(impt_dict, 'model/{}_{}_split.pkl'.format(model_ts, pred_tag))\n",
    "\n",
    "    impt_dict = {k:v for k, v in zip(renamed_cols, bst.feature_importance(importance_type='gain'))}    \n",
    "    print('gain:', sorted(impt_dict.items(), key=(lambda x:x[1]), reverse=True)[:5])\n",
    "    joblib.dump(impt_dict, 'model/{}_gain.pkl'.format(model_ts, pred_tag))\n",
    "\n",
    "    print('model\\n', eval_summary(y, bst.predict(X), cut_off=0.5))\n",
    "\n",
    "    df_test['smishing_{}'.format(cnt)] = bst.predict(df_test[fea_cols].values)    \n",
    "    df_test[['smishing_{}'.format(cnt)]].to_csv('submit/{}_{}_lgb.csv'.format(model_ts, pred_tag), index=True)\n",
    "\n",
    "    df_model['score'] = bst.predict(df_model[fea_cols].values)    \n",
    "    df_model[['score']].to_csv('submit/{}_{}_lgb_score.csv'.format(model_ts, pred_tag), index=True)"
   ]
  },
  {
   "cell_type": "code",
   "execution_count": 62,
   "metadata": {
    "ExecuteTime": {
     "end_time": "2020-01-01T09:18:22.510022Z",
     "start_time": "2020-01-01T09:18:22.497445Z"
    }
   },
   "outputs": [
    {
     "name": "stdout",
     "output_type": "stream",
     "text": [
      "5\n",
      "0.4547714644090388 0.007495666136448372 0.05388141288151504\n"
     ]
    }
   ],
   "source": [
    "pred_cols = [c for c in df_test.columns if 'smishing_' in c]\n",
    "print(len(pred_cols))\n",
    "df_test['pred_max'] = df_test[pred_cols].max(axis=1)\n",
    "df_test['pred_min'] = df_test[pred_cols].min(axis=1)\n",
    "df_test['pred_mean'] = df_test[pred_cols].mean(axis=1)\n",
    "df_test['pred_std'] = df_test[pred_cols].std(axis=1)\n",
    "\n",
    "print(df_test['pred_std'].max(), df_test['pred_std'].min(), df_test['pred_std'].mean())\n",
    "\n",
    "df_test['smishing'] = df_test['pred_mean']"
   ]
  },
  {
   "cell_type": "code",
   "execution_count": 63,
   "metadata": {
    "ExecuteTime": {
     "end_time": "2020-01-01T09:19:48.157311Z",
     "start_time": "2020-01-01T09:19:47.927572Z"
    }
   },
   "outputs": [
    {
     "data": {
      "text/plain": [
       "<matplotlib.axes._subplots.AxesSubplot at 0x7efb8c53c850>"
      ]
     },
     "execution_count": 63,
     "metadata": {},
     "output_type": "execute_result"
    },
    {
     "data": {
      "image/png": "[encoded data removed]",
      "text/plain": [
       "<Figure size 1440x360 with 1 Axes>"
      ]
     },
     "metadata": {
      "needs_background": "light"
     },
     "output_type": "display_data"
    }
   ],
   "source": [
    "df_test['smishing'].hist(bins=100, figsize=(20, 5))"
   ]
  },
  {
   "cell_type": "code",
   "execution_count": 64,
   "metadata": {
    "ExecuteTime": {
     "end_time": "2020-01-01T09:19:51.260016Z",
     "start_time": "2020-01-01T09:19:51.131793Z"
    }
   },
   "outputs": [
    {
     "data": {
      "text/plain": [
       "0    1524\n",
       "1      13\n",
       "2       7\n",
       "3      82\n",
       "Name: smishing, dtype: int64"
      ]
     },
     "execution_count": 64,
     "metadata": {},
     "output_type": "execute_result"
    }
   ],
   "source": [
    "(df_test['smishing'] * 10).astype(int).value_counts(sort=False)"
   ]
  },
  {
   "cell_type": "code",
   "execution_count": 65,
   "metadata": {
    "ExecuteTime": {
     "end_time": "2020-01-01T09:20:01.723384Z",
     "start_time": "2020-01-01T09:20:01.721035Z"
    }
   },
   "outputs": [
    {
     "data": {
      "text/plain": [
       "'20200101T181009'"
      ]
     },
     "execution_count": 65,
     "metadata": {},
     "output_type": "execute_result"
    }
   ],
   "source": [
    "model_ts"
   ]
  },
  {
   "cell_type": "code",
   "execution_count": 66,
   "metadata": {
    "ExecuteTime": {
     "end_time": "2020-01-01T09:20:02.262857Z",
     "start_time": "2020-01-01T09:20:02.254411Z"
    }
   },
   "outputs": [],
   "source": [
    "df_test['smishing'] = df_test['smishing']\n",
    "df_test[['smishing']].to_csv('submit/{}.csv'.format(model_ts), index=True)\n"
   ]
  },
  {
   "cell_type": "code",
   "execution_count": null,
   "metadata": {
    "ExecuteTime": {
     "end_time": "2020-01-01T08:37:43.380962Z",
     "start_time": "2020-01-01T08:37:43.370083Z"
    }
   },
   "outputs": [],
   "source": [
    "# df['smishing'] = df.mean(axis=1)\n",
    "# df[['smishing']].to_csv('e1.csv')\n",
    "# (df['smishing'] * 10).astype(int).value_counts(sort=False)"
   ]
  },
  {
   "cell_type": "code",
   "execution_count": null,
   "metadata": {
    "ExecuteTime": {
     "end_time": "2020-01-01T08:32:43.290197Z",
     "start_time": "2020-01-01T08:32:43.264978Z"
    }
   },
   "outputs": [],
   "source": [
    "df.sort_values('std', ascending=False)"
   ]
  },
  {
   "cell_type": "code",
   "execution_count": null,
   "metadata": {
    "ExecuteTime": {
     "end_time": "2020-01-01T08:36:07.140869Z",
     "start_time": "2020-01-01T08:36:07.135519Z"
    }
   },
   "outputs": [],
   "source": [
    "(df.loc[340746] * 100)"
   ]
  },
  {
   "cell_type": "code",
   "execution_count": null,
   "metadata": {
    "ExecuteTime": {
     "end_time": "2019-12-31T05:39:17.739219Z",
     "start_time": "2019-12-31T05:39:17.731446Z"
    }
   },
   "outputs": [],
   "source": [
    "def load_csv(csv_path, c):\n",
    "    df = pd.read_csv(csv_path)\n",
    "    display((df['smishing'] * 10).astype(int).value_counts(sort=False))\n",
    "    df.plot(kind='scatter', x='id', y='smishing', figsize=(20, 5), s=5, c=c)\n",
    "    df['tag'] = csv_path[-8:-4]\n",
    "    df['color'] = c\n",
    "    return df"
   ]
  },
  {
   "cell_type": "code",
   "execution_count": null,
   "metadata": {
    "ExecuteTime": {
     "end_time": "2019-12-31T05:42:52.103642Z",
     "start_time": "2019-12-31T05:42:51.643745Z"
    }
   },
   "outputs": [],
   "source": [
    "dfs = []\n",
    "for i in [0, 2, 3, 4]:\n",
    "    df = load_csv('20191231T141708_smishing_{}.csv'.format(i), 'blue')\n",
    "    dfs.append(df)"
   ]
  },
  {
   "cell_type": "code",
   "execution_count": null,
   "metadata": {
    "ExecuteTime": {
     "end_time": "2019-12-31T07:13:44.781669Z",
     "start_time": "2019-12-31T07:13:43.878057Z"
    },
    "scrolled": false
   },
   "outputs": [],
   "source": [
    "# df_t2 = load_csv('20191230T010609.csv', 'red')\n",
    "df_t1_nn = load_csv('submit/20191229T074522.csv', 'green')\n",
    "df_t1 = load_csv('submit/20191231T120011.csv', 'red')\n",
    "\n",
    "df_curr = load_csv('submit/20191231T154959.csv', 'blue')\n",
    "\n",
    "df_bad = load_csv('submit/20191231T151938_smishing_0.csv', 'gray')\n",
    "\n",
    "# df_best_dart = load_csv('20191230T213920.csv', 'green')"
   ]
  },
  {
   "cell_type": "code",
   "execution_count": null,
   "metadata": {},
   "outputs": [],
   "source": []
  },
  {
   "cell_type": "code",
   "execution_count": null,
   "metadata": {
    "ExecuteTime": {
     "end_time": "2019-12-30T17:02:46.935352Z",
     "start_time": "2019-12-30T17:02:46.930045Z"
    }
   },
   "outputs": [],
   "source": [
    "# df = df_best[['id']]\n",
    "# df['smishing'] = (df_best['smishing'] + df_best_nn['smishing']) / 2\n",
    "\n",
    "# df.to_csv('e2.csv', index=False)"
   ]
  },
  {
   "cell_type": "code",
   "execution_count": null,
   "metadata": {
    "ExecuteTime": {
     "end_time": "2019-12-31T05:40:12.419836Z",
     "start_time": "2019-12-31T05:40:12.408709Z"
    }
   },
   "outputs": [],
   "source": [
    "np.linalg.norm(df_t1_nn['smishing'].values - df_curr['smishing'].values)"
   ]
  },
  {
   "cell_type": "code",
   "execution_count": null,
   "metadata": {
    "ExecuteTime": {
     "end_time": "2019-12-31T05:40:21.233790Z",
     "start_time": "2019-12-31T05:40:21.219488Z"
    }
   },
   "outputs": [],
   "source": [
    "dfs = [\n",
    "    df_t1,\n",
    "#     df_best_nn\n",
    "    df_curr,\n",
    "#     df_best_dart\n",
    "#     load_csv('20191230T010609_2.csv', 'gray'),\n",
    "#     load_csv('20191230T124144.csv', 'green'),\n",
    "#     load_csv('20191230T191206_go.csv', 'blue')\n",
    "#     load_csv('submit/20191228T112709.csv', 'green'),\n",
    "]\n",
    "df = pd.concat(dfs).reset_index()\n"
   ]
  },
  {
   "cell_type": "code",
   "execution_count": null,
   "metadata": {
    "ExecuteTime": {
     "end_time": "2019-12-31T05:40:23.398769Z",
     "start_time": "2019-12-31T05:40:23.162694Z"
    }
   },
   "outputs": [],
   "source": [
    "df.plot(kind='scatter', x='id', y='smishing', figsize=(20, 10), s=4, c=df['color'])"
   ]
  },
  {
   "cell_type": "code",
   "execution_count": null,
   "metadata": {
    "ExecuteTime": {
     "end_time": "2019-12-30T14:36:38.389629Z",
     "start_time": "2019-12-30T14:36:38.245314Z"
    }
   },
   "outputs": [],
   "source": [
    "pos = 341000\n",
    "cond = (pos < df['id']) & (df['id'] < pos + 100)\n",
    "print(df[cond].shape)\n",
    "df[cond].plot(kind='scatter', x='id', y='smishing', figsize=(20, 10), s=4, c=df[cond]['color'])\n"
   ]
  },
  {
   "cell_type": "code",
   "execution_count": null,
   "metadata": {
    "ExecuteTime": {
     "end_time": "2019-12-30T04:17:54.802267Z",
     "start_time": "2019-12-30T04:17:54.792790Z"
    }
   },
   "outputs": [],
   "source": [
    "df"
   ]
  },
  {
   "cell_type": "code",
   "execution_count": null,
   "metadata": {
    "ExecuteTime": {
     "end_time": "2019-12-30T04:06:58.629623Z",
     "start_time": "2019-12-30T04:06:58.618418Z"
    }
   },
   "outputs": [],
   "source": [
    "np.linalg.norm(df1['smishing'].values - df1_2['smishing'].values)"
   ]
  },
  {
   "cell_type": "code",
   "execution_count": null,
   "metadata": {
    "ExecuteTime": {
     "end_time": "2019-12-30T04:07:14.048032Z",
     "start_time": "2019-12-30T04:07:14.043192Z"
    }
   },
   "outputs": [],
   "source": [
    "np.linalg.norm(df2['smishing'].values - df1_2['smishing'].values)"
   ]
  },
  {
   "cell_type": "code",
   "execution_count": null,
   "metadata": {
    "ExecuteTime": {
     "end_time": "2019-12-30T04:06:05.549125Z",
     "start_time": "2019-12-30T04:06:05.537297Z"
    }
   },
   "outputs": [],
   "source": [
    "np.linalg.norm(df1['smishing'].values - df3['smishing'].values)"
   ]
  },
  {
   "cell_type": "code",
   "execution_count": null,
   "metadata": {
    "ExecuteTime": {
     "end_time": "2019-12-30T04:06:13.944749Z",
     "start_time": "2019-12-30T04:06:13.934045Z"
    }
   },
   "outputs": [],
   "source": [
    "np.linalg.norm(df2['smishing'].values - df3['smishing'].values)"
   ]
  },
  {
   "cell_type": "code",
   "execution_count": null,
   "metadata": {
    "ExecuteTime": {
     "end_time": "2019-12-30T04:06:19.262909Z",
     "start_time": "2019-12-30T04:06:19.258995Z"
    }
   },
   "outputs": [],
   "source": [
    "np.linalg.norm(df1['smishing'].values - df2['smishing'].values)"
   ]
  },
  {
   "cell_type": "code",
   "execution_count": null,
   "metadata": {
    "ExecuteTime": {
     "end_time": "2019-12-31T08:01:10.616489Z",
     "start_time": "2019-12-31T08:01:10.510549Z"
    }
   },
   "outputs": [],
   "source": [
    "f1 = joblib.load('data/df_merged_20191231T165424_6099_fea_dict.pkl')\n",
    "f2 = joblib.load('data/df_merged_20191231T162533_2022_fea_dict.pkl')"
   ]
  },
  {
   "cell_type": "code",
   "execution_count": null,
   "metadata": {
    "ExecuteTime": {
     "end_time": "2019-12-31T08:02:19.028538Z",
     "start_time": "2019-12-31T08:02:19.017058Z"
    }
   },
   "outputs": [],
   "source": [
    "set(f1.values()) & set(f2.values())"
   ]
  },
  {
   "cell_type": "code",
   "execution_count": null,
   "metadata": {
    "ExecuteTime": {
     "end_time": "2019-12-31T08:01:17.601251Z",
     "start_time": "2019-12-31T08:01:17.584297Z"
    }
   },
   "outputs": [],
   "source": [
    "f2"
   ]
  },
  {
   "cell_type": "code",
   "execution_count": null,
   "metadata": {},
   "outputs": [],
   "source": []
  }
 ],
 "metadata": {
  "kernelspec": {
   "display_name": "Python 3",
   "language": "python",
   "name": "python3"
  },
  "language_info": {
   "codemirror_mode": {
    "name": "ipython",
    "version": 3
   },
   "file_extension": ".py",
   "mimetype": "text/x-python",
   "name": "python",
   "nbconvert_exporter": "python",
   "pygments_lexer": "ipython3",
   "version": "3.7.4"
  },
  "toc": {
   "base_numbering": 1,
   "nav_menu": {},
   "number_sections": true,
   "sideBar": true,
   "skip_h1_title": false,
   "title_cell": "Table of Contents",
   "title_sidebar": "Contents",
   "toc_cell": false,
   "toc_position": {
    "height": "calc(100% - 180px)",
    "left": "10px",
    "top": "150px",
    "width": "172.2px"
   },
   "toc_section_display": true,
   "toc_window_display": true
  }
 },
 "nbformat": 4,
 "nbformat_minor": 2
}
