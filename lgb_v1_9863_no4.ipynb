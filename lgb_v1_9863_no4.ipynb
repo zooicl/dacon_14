{
 "cells": [
  {
   "cell_type": "code",
   "execution_count": 1,
   "metadata": {
    "ExecuteTime": {
     "end_time": "2020-01-04T20:07:28.889200Z",
     "start_time": "2020-01-04T20:07:27.603740Z"
    },
    "colab": {
     "base_uri": "https://localhost:8080/",
     "height": 71
    },
    "colab_type": "code",
    "executionInfo": {
     "elapsed": 1590,
     "status": "ok",
     "timestamp": 1576286906380,
     "user": {
      "displayName": "주이클",
      "photoUrl": "https://lh3.googleusercontent.com/a-/AAuE7mCWVh4nvn9788qUddhoWTl5qQoYt0bzVMDlJWUumTg=s64",
      "userId": "02708070532256873610"
     },
     "user_tz": -540
    },
    "id": "U3xmRNtgpZwi",
    "outputId": "f6e95e03-5913-4a53-9ff3-1b6cde1b5a82"
   },
   "outputs": [
    {
     "name": "stderr",
     "output_type": "stream",
     "text": [
      "/home/aiden/anaconda3/lib/python3.7/site-packages/sklearn/externals/joblib/__init__.py:15: DeprecationWarning: sklearn.externals.joblib is deprecated in 0.21 and will be removed in 0.23. Please import this functionality directly from joblib, which can be installed with: pip install joblib. If this warning is raised when loading pickled models, you may need to re-serialize those models with scikit-learn 0.21+.\n",
      "  warnings.warn(msg, category=DeprecationWarning)\n"
     ]
    },
    {
     "name": "stdout",
     "output_type": "stream",
     "text": [
      "2.3.2\n",
      "1.3.1\n",
      "GeForce RTX 2070 SUPER\n",
      "True\n"
     ]
    },
    {
     "data": {
      "text/plain": [
       "device(type='cuda', index=0)"
      ]
     },
     "execution_count": 1,
     "metadata": {},
     "output_type": "execute_result"
    }
   ],
   "source": [
    "#!/usr/bin/env python\n",
    "# coding: utf-8\n",
    "get_ipython().run_line_magic('matplotlib', 'inline')\n",
    "import pandas as pd\n",
    "import time\n",
    "import numpy as np\n",
    "from datetime import datetime\n",
    "from sklearn.externals import joblib \n",
    "import os\n",
    "from konlpy.tag import Mecab\n",
    "import lightgbm as lgb\n",
    "print(lgb.__version__)\n",
    "\n",
    "from sklearn import metrics\n",
    "from sklearn.preprocessing import MinMaxScaler\n",
    "from sklearn.externals import joblib \n",
    "from sklearn.model_selection import StratifiedKFold\n",
    "\n",
    "import gc\n",
    "\n",
    "from tqdm import tqdm_notebook\n",
    "\n",
    "import warnings\n",
    "warnings.filterwarnings(action='ignore')\n",
    "\n",
    "\n",
    "import torch\n",
    "print(torch.__version__)\n",
    "import torch.nn.functional as F\n",
    "from torch.utils.data import Dataset, DataLoader\n",
    "\n",
    "from torchsummary import summary\n",
    "\n",
    "from tools import eval_summary\n",
    "\n",
    "print(torch.cuda.get_device_name(0))\n",
    "print(torch.cuda.is_available())\n",
    "\n",
    "device = torch.device(\"cuda:0\" if torch.cuda.is_available() else \"cpu\")\n",
    "# device = torch.device('cpu')\n",
    "device"
   ]
  },
  {
   "cell_type": "code",
   "execution_count": 2,
   "metadata": {
    "ExecuteTime": {
     "end_time": "2020-01-04T20:07:30.029395Z",
     "start_time": "2020-01-04T20:07:28.890314Z"
    }
   },
   "outputs": [
    {
     "name": "stdout",
     "output_type": "stream",
     "text": [
      "/home/aiden/src/dacon_14\n"
     ]
    },
    {
     "data": {
      "text/plain": [
       "(297571, 3)"
      ]
     },
     "execution_count": 2,
     "metadata": {},
     "output_type": "execute_result"
    }
   ],
   "source": [
    "print(os.getcwd())\n",
    "\n",
    "base_path = '.'\n",
    "\n",
    "df_train = pd.read_csv(os.path.join(base_path , 'input/train.csv'), index_col=0)\n",
    "df_test = pd.read_csv(os.path.join(base_path , 'input/public_test.csv'), index_col=0)\n",
    "df_test['smishing'] = -1\n",
    "\n",
    "df_fea = pd.concat([df_train, df_test])\n",
    "df_fea.shape"
   ]
  },
  {
   "cell_type": "code",
   "execution_count": 3,
   "metadata": {
    "ExecuteTime": {
     "end_time": "2020-01-04T20:07:30.032238Z",
     "start_time": "2020-01-04T20:07:30.030395Z"
    },
    "colab": {
     "base_uri": "https://localhost:8080/",
     "height": 1000
    },
    "colab_type": "code",
    "executionInfo": {
     "elapsed": 185838,
     "status": "ok",
     "timestamp": 1576287091046,
     "user": {
      "displayName": "주이클",
      "photoUrl": "https://lh3.googleusercontent.com/a-/AAuE7mCWVh4nvn9788qUddhoWTl5qQoYt0bzVMDlJWUumTg=s64",
      "userId": "02708070532256873610"
     },
     "user_tz": -540
    },
    "id": "QOi9dYzqpZxV",
    "outputId": "9ceb7e20-059e-4946-934e-ab85c98dca56",
    "scrolled": true
   },
   "outputs": [
    {
     "name": "stdout",
     "output_type": "stream",
     "text": [
      "295945\n"
     ]
    }
   ],
   "source": [
    "train_size = len(df_train)\n",
    "print(train_size)\n",
    "\n",
    "# cat_cols = []\n",
    "# fea_cols = tfidf_cols + cat_cols + cnt_cols\n",
    "# fea_cols = cnt_cols + cat_cols\n",
    "# fea_cols = tfidf_cols + cat_cols\n",
    "# len(fea_cols)"
   ]
  },
  {
   "cell_type": "markdown",
   "metadata": {},
   "source": [
    "#### Load Data"
   ]
  },
  {
   "cell_type": "code",
   "execution_count": 4,
   "metadata": {
    "ExecuteTime": {
     "end_time": "2020-01-04T20:07:40.974693Z",
     "start_time": "2020-01-04T20:07:30.033097Z"
    },
    "colab": {
     "base_uri": "https://localhost:8080/",
     "height": 51
    },
    "colab_type": "code",
    "executionInfo": {
     "elapsed": 187149,
     "status": "ok",
     "timestamp": 1576287092380,
     "user": {
      "displayName": "주이클",
      "photoUrl": "https://lh3.googleusercontent.com/a-/AAuE7mCWVh4nvn9788qUddhoWTl5qQoYt0bzVMDlJWUumTg=s64",
      "userId": "02708070532256873610"
     },
     "user_tz": -540
    },
    "id": "LCEEOdJK4__q",
    "outputId": "24fb71a8-e639-43d1-b476-d617adfff1e7"
   },
   "outputs": [
    {
     "name": "stdout",
     "output_type": "stream",
     "text": [
      "model_set\n",
      " 0    277242\n",
      "1     18703\n",
      "Name: smishing, dtype: int64\n"
     ]
    }
   ],
   "source": [
    "# merged_ts = '20191231T113708_5499'\n",
    "# merged_ts = '20191231T162533_2022'\n",
    "# merged_ts = '20191231T165424_6099'\n",
    "# merged_ts = '20191231T111228_8180'\n",
    "# merged_ts = '20200101T184353_5853'\n",
    "# merged_ts = '20200102T005929_6546_128_49980' # 984\n",
    "# merged_ts = '20200102T015155_8438_128_49980' # 986\n",
    "# merged_ts = '20200102T160226_8438_275_997'\n",
    "# merged_ts = '20200104T033010_10938_512_49980'\n",
    "\n",
    "# merged_ts = '20200104T141453_13225_64_49980' #1445\n",
    "# merged_ts = '20200104T143414_12439_64_49980'\n",
    "\n",
    "\n",
    "merged_ts = '20200104T151347_9528_64_49980'\n",
    "\n",
    "\n",
    "train_path = 'data/df_merged_{}_train.pkl'.format(merged_ts)\n",
    "test_path = 'data/df_merged_{}_test.pkl'.format(merged_ts)\n",
    "dict_path = 'data/df_merged_{}_fea_dict.pkl'.format(merged_ts)\n",
    "\n",
    "df_model = joblib.load(train_path)  \n",
    "df_test = joblib.load(test_path) \n",
    "fea_dict = joblib.load(dict_path)\n",
    "\n",
    "print('model_set\\n', df_model['smishing'].value_counts())"
   ]
  },
  {
   "cell_type": "code",
   "execution_count": 5,
   "metadata": {
    "ExecuteTime": {
     "end_time": "2020-01-04T20:07:40.979978Z",
     "start_time": "2020-01-04T20:07:40.975752Z"
    },
    "colab": {
     "base_uri": "https://localhost:8080/",
     "height": 51
    },
    "colab_type": "code",
    "executionInfo": {
     "elapsed": 187149,
     "status": "ok",
     "timestamp": 1576287092380,
     "user": {
      "displayName": "주이클",
      "photoUrl": "https://lh3.googleusercontent.com/a-/AAuE7mCWVh4nvn9788qUddhoWTl5qQoYt0bzVMDlJWUumTg=s64",
      "userId": "02708070532256873610"
     },
     "user_tz": -540
    },
    "id": "LCEEOdJK4__q",
    "outputId": "24fb71a8-e639-43d1-b476-d617adfff1e7"
   },
   "outputs": [],
   "source": [
    "seq_cols = ['seq_' + str(i) for i in range(64)]\n",
    "idx_col = [c for c in df_model.columns if '_idx' in c][0]\n",
    "ridx_col = [c for c in df_model.columns if '_ridx' in c][0]"
   ]
  },
  {
   "cell_type": "code",
   "execution_count": 6,
   "metadata": {
    "ExecuteTime": {
     "end_time": "2020-01-04T20:07:40.986395Z",
     "start_time": "2020-01-04T20:07:40.980811Z"
    },
    "colab": {
     "base_uri": "https://localhost:8080/",
     "height": 51
    },
    "colab_type": "code",
    "executionInfo": {
     "elapsed": 187149,
     "status": "ok",
     "timestamp": 1576287092380,
     "user": {
      "displayName": "주이클",
      "photoUrl": "https://lh3.googleusercontent.com/a-/AAuE7mCWVh4nvn9788qUddhoWTl5qQoYt0bzVMDlJWUumTg=s64",
      "userId": "02708070532256873610"
     },
     "user_tz": -540
    },
    "id": "LCEEOdJK4__q",
    "outputId": "24fb71a8-e639-43d1-b476-d617adfff1e7"
   },
   "outputs": [],
   "source": [
    "# df_model[seq_cols] = pd.DataFrame(df_model[idx_col].values.tolist(), df_model.index, dtype=np.int16)\n",
    "# df_test[seq_cols] = pd.DataFrame(df_model[idx_col].values.tolist(), df_model.index, dtype=np.int16)"
   ]
  },
  {
   "cell_type": "code",
   "execution_count": 7,
   "metadata": {
    "ExecuteTime": {
     "end_time": "2020-01-04T20:07:44.422631Z",
     "start_time": "2020-01-04T20:07:40.987241Z"
    },
    "colab": {
     "base_uri": "https://localhost:8080/",
     "height": 51
    },
    "colab_type": "code",
    "executionInfo": {
     "elapsed": 187149,
     "status": "ok",
     "timestamp": 1576287092380,
     "user": {
      "displayName": "주이클",
      "photoUrl": "https://lh3.googleusercontent.com/a-/AAuE7mCWVh4nvn9788qUddhoWTl5qQoYt0bzVMDlJWUumTg=s64",
      "userId": "02708070532256873610"
     },
     "user_tz": -540
    },
    "id": "LCEEOdJK4__q",
    "outputId": "24fb71a8-e639-43d1-b476-d617adfff1e7",
    "scrolled": true
   },
   "outputs": [],
   "source": [
    "df_model.drop(idx_col, axis=1, inplace=True)\n",
    "df_test.drop(idx_col, axis=1, inplace=True)\n",
    "\n",
    "df_model.drop(ridx_col, axis=1, inplace=True)\n",
    "df_test.drop(ridx_col, axis=1, inplace=True)"
   ]
  },
  {
   "cell_type": "code",
   "execution_count": null,
   "metadata": {},
   "outputs": [],
   "source": [
    "no_fea_cols = [\n",
    "    'tfidf_word_22_0167_xxx 은행',\n",
    "    'fea__noun_cnt',\n",
    "]"
   ]
  },
  {
   "cell_type": "code",
   "execution_count": 8,
   "metadata": {
    "ExecuteTime": {
     "end_time": "2020-01-04T20:07:44.428794Z",
     "start_time": "2020-01-04T20:07:44.424196Z"
    }
   },
   "outputs": [
    {
     "data": {
      "text/plain": [
       "(9526, 0)"
      ]
     },
     "execution_count": 8,
     "metadata": {},
     "output_type": "execute_result"
    }
   ],
   "source": [
    "fea_cols = [c for c in df_model.columns if c not in ['smishing', 'id', idx_col, ridx_col] + no_fea_cols]\n",
    "# cat_cols = [c for c in fea_cols if 'seq_' in c]\n",
    "cat_cols = []\n",
    "\n",
    "len(fea_cols), len(cat_cols)"
   ]
  },
  {
   "cell_type": "code",
   "execution_count": 9,
   "metadata": {
    "ExecuteTime": {
     "end_time": "2020-01-04T20:07:44.478548Z",
     "start_time": "2020-01-04T20:07:44.429950Z"
    }
   },
   "outputs": [
    {
     "data": {
      "text/plain": [
       "100"
      ]
     },
     "execution_count": 9,
     "metadata": {},
     "output_type": "execute_result"
    }
   ],
   "source": [
    "gc.collect()"
   ]
  },
  {
   "cell_type": "code",
   "execution_count": 10,
   "metadata": {
    "ExecuteTime": {
     "end_time": "2020-01-04T20:07:44.887625Z",
     "start_time": "2020-01-04T20:07:44.479320Z"
    }
   },
   "outputs": [
    {
     "name": "stdout",
     "output_type": "stream",
     "text": [
      "<class 'pandas.core.frame.DataFrame'>\n",
      "Int64Index: 295945 entries, 0 to 336378\n",
      "Columns: 9527 entries, smishing to tfidf_pos_word_22_0999\n",
      "dtypes: float16(9482), int16(44), int64(1)\n",
      "memory usage: 5.3 GB\n"
     ]
    }
   ],
   "source": [
    "df_model.info()"
   ]
  },
  {
   "cell_type": "code",
   "execution_count": 11,
   "metadata": {
    "ExecuteTime": {
     "end_time": "2020-01-04T20:07:45.468342Z",
     "start_time": "2020-01-04T20:07:44.888347Z"
    }
   },
   "outputs": [
    {
     "data": {
      "text/html": [
       "<div>\n",
       "<style scoped>\n",
       "    .dataframe tbody tr th:only-of-type {\n",
       "        vertical-align: middle;\n",
       "    }\n",
       "\n",
       "    .dataframe tbody tr th {\n",
       "        vertical-align: top;\n",
       "    }\n",
       "\n",
       "    .dataframe thead th {\n",
       "        text-align: right;\n",
       "    }\n",
       "</style>\n",
       "<table border=\"1\" class=\"dataframe\">\n",
       "  <thead>\n",
       "    <tr style=\"text-align: right;\">\n",
       "      <th></th>\n",
       "      <th>id</th>\n",
       "      <th>smishing</th>\n",
       "      <th>fea__EC</th>\n",
       "      <th>fea__EF</th>\n",
       "      <th>fea__EP</th>\n",
       "      <th>fea__ETM</th>\n",
       "      <th>fea__ETN</th>\n",
       "      <th>fea__IC</th>\n",
       "      <th>fea__JC</th>\n",
       "      <th>fea__JKB</th>\n",
       "      <th>...</th>\n",
       "      <th>tfidf_pos_word_22_0990</th>\n",
       "      <th>tfidf_pos_word_22_0991</th>\n",
       "      <th>tfidf_pos_word_22_0992</th>\n",
       "      <th>tfidf_pos_word_22_0993</th>\n",
       "      <th>tfidf_pos_word_22_0994</th>\n",
       "      <th>tfidf_pos_word_22_0995</th>\n",
       "      <th>tfidf_pos_word_22_0996</th>\n",
       "      <th>tfidf_pos_word_22_0997</th>\n",
       "      <th>tfidf_pos_word_22_0998</th>\n",
       "      <th>tfidf_pos_word_22_0999</th>\n",
       "    </tr>\n",
       "  </thead>\n",
       "  <tbody>\n",
       "    <tr>\n",
       "      <td>0</td>\n",
       "      <td>0</td>\n",
       "      <td>0</td>\n",
       "      <td>0</td>\n",
       "      <td>2</td>\n",
       "      <td>1</td>\n",
       "      <td>1</td>\n",
       "      <td>0</td>\n",
       "      <td>0</td>\n",
       "      <td>0</td>\n",
       "      <td>0</td>\n",
       "      <td>...</td>\n",
       "      <td>0.0</td>\n",
       "      <td>0.0</td>\n",
       "      <td>0.0</td>\n",
       "      <td>0.0</td>\n",
       "      <td>0.0</td>\n",
       "      <td>0.0</td>\n",
       "      <td>0.0</td>\n",
       "      <td>0.0</td>\n",
       "      <td>0.0</td>\n",
       "      <td>0.0</td>\n",
       "    </tr>\n",
       "    <tr>\n",
       "      <td>1</td>\n",
       "      <td>1</td>\n",
       "      <td>0</td>\n",
       "      <td>1</td>\n",
       "      <td>1</td>\n",
       "      <td>2</td>\n",
       "      <td>1</td>\n",
       "      <td>0</td>\n",
       "      <td>0</td>\n",
       "      <td>0</td>\n",
       "      <td>0</td>\n",
       "      <td>...</td>\n",
       "      <td>0.0</td>\n",
       "      <td>0.0</td>\n",
       "      <td>0.0</td>\n",
       "      <td>0.0</td>\n",
       "      <td>0.0</td>\n",
       "      <td>0.0</td>\n",
       "      <td>0.0</td>\n",
       "      <td>0.0</td>\n",
       "      <td>0.0</td>\n",
       "      <td>0.0</td>\n",
       "    </tr>\n",
       "    <tr>\n",
       "      <td>2</td>\n",
       "      <td>2</td>\n",
       "      <td>0</td>\n",
       "      <td>2</td>\n",
       "      <td>5</td>\n",
       "      <td>4</td>\n",
       "      <td>1</td>\n",
       "      <td>0</td>\n",
       "      <td>0</td>\n",
       "      <td>0</td>\n",
       "      <td>0</td>\n",
       "      <td>...</td>\n",
       "      <td>0.0</td>\n",
       "      <td>0.0</td>\n",
       "      <td>0.0</td>\n",
       "      <td>0.0</td>\n",
       "      <td>0.0</td>\n",
       "      <td>0.0</td>\n",
       "      <td>0.0</td>\n",
       "      <td>0.0</td>\n",
       "      <td>0.0</td>\n",
       "      <td>0.0</td>\n",
       "    </tr>\n",
       "    <tr>\n",
       "      <td>3</td>\n",
       "      <td>4</td>\n",
       "      <td>0</td>\n",
       "      <td>1</td>\n",
       "      <td>5</td>\n",
       "      <td>5</td>\n",
       "      <td>7</td>\n",
       "      <td>2</td>\n",
       "      <td>0</td>\n",
       "      <td>1</td>\n",
       "      <td>5</td>\n",
       "      <td>...</td>\n",
       "      <td>0.0</td>\n",
       "      <td>0.0</td>\n",
       "      <td>0.0</td>\n",
       "      <td>0.0</td>\n",
       "      <td>0.0</td>\n",
       "      <td>0.0</td>\n",
       "      <td>0.0</td>\n",
       "      <td>0.0</td>\n",
       "      <td>0.0</td>\n",
       "      <td>0.0</td>\n",
       "    </tr>\n",
       "    <tr>\n",
       "      <td>4</td>\n",
       "      <td>5</td>\n",
       "      <td>0</td>\n",
       "      <td>2</td>\n",
       "      <td>1</td>\n",
       "      <td>1</td>\n",
       "      <td>1</td>\n",
       "      <td>2</td>\n",
       "      <td>0</td>\n",
       "      <td>0</td>\n",
       "      <td>0</td>\n",
       "      <td>...</td>\n",
       "      <td>0.0</td>\n",
       "      <td>0.0</td>\n",
       "      <td>0.0</td>\n",
       "      <td>0.0</td>\n",
       "      <td>0.0</td>\n",
       "      <td>0.0</td>\n",
       "      <td>0.0</td>\n",
       "      <td>0.0</td>\n",
       "      <td>0.0</td>\n",
       "      <td>0.0</td>\n",
       "    </tr>\n",
       "    <tr>\n",
       "      <td>...</td>\n",
       "      <td>...</td>\n",
       "      <td>...</td>\n",
       "      <td>...</td>\n",
       "      <td>...</td>\n",
       "      <td>...</td>\n",
       "      <td>...</td>\n",
       "      <td>...</td>\n",
       "      <td>...</td>\n",
       "      <td>...</td>\n",
       "      <td>...</td>\n",
       "      <td>...</td>\n",
       "      <td>...</td>\n",
       "      <td>...</td>\n",
       "      <td>...</td>\n",
       "      <td>...</td>\n",
       "      <td>...</td>\n",
       "      <td>...</td>\n",
       "      <td>...</td>\n",
       "      <td>...</td>\n",
       "      <td>...</td>\n",
       "      <td>...</td>\n",
       "    </tr>\n",
       "    <tr>\n",
       "      <td>295940</td>\n",
       "      <td>336373</td>\n",
       "      <td>0</td>\n",
       "      <td>5</td>\n",
       "      <td>4</td>\n",
       "      <td>8</td>\n",
       "      <td>7</td>\n",
       "      <td>2</td>\n",
       "      <td>0</td>\n",
       "      <td>2</td>\n",
       "      <td>4</td>\n",
       "      <td>...</td>\n",
       "      <td>0.0</td>\n",
       "      <td>0.0</td>\n",
       "      <td>0.0</td>\n",
       "      <td>0.0</td>\n",
       "      <td>0.0</td>\n",
       "      <td>0.0</td>\n",
       "      <td>0.0</td>\n",
       "      <td>0.0</td>\n",
       "      <td>0.0</td>\n",
       "      <td>0.0</td>\n",
       "    </tr>\n",
       "    <tr>\n",
       "      <td>295941</td>\n",
       "      <td>336375</td>\n",
       "      <td>0</td>\n",
       "      <td>0</td>\n",
       "      <td>1</td>\n",
       "      <td>0</td>\n",
       "      <td>0</td>\n",
       "      <td>0</td>\n",
       "      <td>0</td>\n",
       "      <td>0</td>\n",
       "      <td>0</td>\n",
       "      <td>...</td>\n",
       "      <td>0.0</td>\n",
       "      <td>0.0</td>\n",
       "      <td>0.0</td>\n",
       "      <td>0.0</td>\n",
       "      <td>0.0</td>\n",
       "      <td>0.0</td>\n",
       "      <td>0.0</td>\n",
       "      <td>0.0</td>\n",
       "      <td>0.0</td>\n",
       "      <td>0.0</td>\n",
       "    </tr>\n",
       "    <tr>\n",
       "      <td>295942</td>\n",
       "      <td>336376</td>\n",
       "      <td>0</td>\n",
       "      <td>5</td>\n",
       "      <td>2</td>\n",
       "      <td>3</td>\n",
       "      <td>0</td>\n",
       "      <td>0</td>\n",
       "      <td>0</td>\n",
       "      <td>1</td>\n",
       "      <td>1</td>\n",
       "      <td>...</td>\n",
       "      <td>0.0</td>\n",
       "      <td>0.0</td>\n",
       "      <td>0.0</td>\n",
       "      <td>0.0</td>\n",
       "      <td>0.0</td>\n",
       "      <td>0.0</td>\n",
       "      <td>0.0</td>\n",
       "      <td>0.0</td>\n",
       "      <td>0.0</td>\n",
       "      <td>0.0</td>\n",
       "    </tr>\n",
       "    <tr>\n",
       "      <td>295943</td>\n",
       "      <td>336377</td>\n",
       "      <td>0</td>\n",
       "      <td>3</td>\n",
       "      <td>2</td>\n",
       "      <td>1</td>\n",
       "      <td>0</td>\n",
       "      <td>0</td>\n",
       "      <td>0</td>\n",
       "      <td>0</td>\n",
       "      <td>1</td>\n",
       "      <td>...</td>\n",
       "      <td>0.0</td>\n",
       "      <td>0.0</td>\n",
       "      <td>0.0</td>\n",
       "      <td>0.0</td>\n",
       "      <td>0.0</td>\n",
       "      <td>0.0</td>\n",
       "      <td>0.0</td>\n",
       "      <td>0.0</td>\n",
       "      <td>0.0</td>\n",
       "      <td>0.0</td>\n",
       "    </tr>\n",
       "    <tr>\n",
       "      <td>295944</td>\n",
       "      <td>336378</td>\n",
       "      <td>0</td>\n",
       "      <td>16</td>\n",
       "      <td>7</td>\n",
       "      <td>6</td>\n",
       "      <td>7</td>\n",
       "      <td>4</td>\n",
       "      <td>0</td>\n",
       "      <td>0</td>\n",
       "      <td>6</td>\n",
       "      <td>...</td>\n",
       "      <td>0.0</td>\n",
       "      <td>0.0</td>\n",
       "      <td>0.0</td>\n",
       "      <td>0.0</td>\n",
       "      <td>0.0</td>\n",
       "      <td>0.0</td>\n",
       "      <td>0.0</td>\n",
       "      <td>0.0</td>\n",
       "      <td>0.0</td>\n",
       "      <td>0.0</td>\n",
       "    </tr>\n",
       "  </tbody>\n",
       "</table>\n",
       "<p>295945 rows × 9528 columns</p>\n",
       "</div>"
      ],
      "text/plain": [
       "            id  smishing  fea__EC  fea__EF  fea__EP  fea__ETM  fea__ETN  \\\n",
       "0            0         0        0        2        1         1         0   \n",
       "1            1         0        1        1        2         1         0   \n",
       "2            2         0        2        5        4         1         0   \n",
       "3            4         0        1        5        5         7         2   \n",
       "4            5         0        2        1        1         1         2   \n",
       "...        ...       ...      ...      ...      ...       ...       ...   \n",
       "295940  336373         0        5        4        8         7         2   \n",
       "295941  336375         0        0        1        0         0         0   \n",
       "295942  336376         0        5        2        3         0         0   \n",
       "295943  336377         0        3        2        1         0         0   \n",
       "295944  336378         0       16        7        6         7         4   \n",
       "\n",
       "        fea__IC  fea__JC  fea__JKB  ...  tfidf_pos_word_22_0990  \\\n",
       "0             0        0         0  ...                     0.0   \n",
       "1             0        0         0  ...                     0.0   \n",
       "2             0        0         0  ...                     0.0   \n",
       "3             0        1         5  ...                     0.0   \n",
       "4             0        0         0  ...                     0.0   \n",
       "...         ...      ...       ...  ...                     ...   \n",
       "295940        0        2         4  ...                     0.0   \n",
       "295941        0        0         0  ...                     0.0   \n",
       "295942        0        1         1  ...                     0.0   \n",
       "295943        0        0         1  ...                     0.0   \n",
       "295944        0        0         6  ...                     0.0   \n",
       "\n",
       "        tfidf_pos_word_22_0991  tfidf_pos_word_22_0992  \\\n",
       "0                          0.0                     0.0   \n",
       "1                          0.0                     0.0   \n",
       "2                          0.0                     0.0   \n",
       "3                          0.0                     0.0   \n",
       "4                          0.0                     0.0   \n",
       "...                        ...                     ...   \n",
       "295940                     0.0                     0.0   \n",
       "295941                     0.0                     0.0   \n",
       "295942                     0.0                     0.0   \n",
       "295943                     0.0                     0.0   \n",
       "295944                     0.0                     0.0   \n",
       "\n",
       "        tfidf_pos_word_22_0993  tfidf_pos_word_22_0994  \\\n",
       "0                          0.0                     0.0   \n",
       "1                          0.0                     0.0   \n",
       "2                          0.0                     0.0   \n",
       "3                          0.0                     0.0   \n",
       "4                          0.0                     0.0   \n",
       "...                        ...                     ...   \n",
       "295940                     0.0                     0.0   \n",
       "295941                     0.0                     0.0   \n",
       "295942                     0.0                     0.0   \n",
       "295943                     0.0                     0.0   \n",
       "295944                     0.0                     0.0   \n",
       "\n",
       "        tfidf_pos_word_22_0995  tfidf_pos_word_22_0996  \\\n",
       "0                          0.0                     0.0   \n",
       "1                          0.0                     0.0   \n",
       "2                          0.0                     0.0   \n",
       "3                          0.0                     0.0   \n",
       "4                          0.0                     0.0   \n",
       "...                        ...                     ...   \n",
       "295940                     0.0                     0.0   \n",
       "295941                     0.0                     0.0   \n",
       "295942                     0.0                     0.0   \n",
       "295943                     0.0                     0.0   \n",
       "295944                     0.0                     0.0   \n",
       "\n",
       "        tfidf_pos_word_22_0997  tfidf_pos_word_22_0998  tfidf_pos_word_22_0999  \n",
       "0                          0.0                     0.0                     0.0  \n",
       "1                          0.0                     0.0                     0.0  \n",
       "2                          0.0                     0.0                     0.0  \n",
       "3                          0.0                     0.0                     0.0  \n",
       "4                          0.0                     0.0                     0.0  \n",
       "...                        ...                     ...                     ...  \n",
       "295940                     0.0                     0.0                     0.0  \n",
       "295941                     0.0                     0.0                     0.0  \n",
       "295942                     0.0                     0.0                     0.0  \n",
       "295943                     0.0                     0.0                     0.0  \n",
       "295944                     0.0                     0.0                     0.0  \n",
       "\n",
       "[295945 rows x 9528 columns]"
      ]
     },
     "execution_count": 11,
     "metadata": {},
     "output_type": "execute_result"
    }
   ],
   "source": [
    "df_model = df_model.reset_index()\n",
    "df_model"
   ]
  },
  {
   "cell_type": "markdown",
   "metadata": {},
   "source": [
    "#### Params"
   ]
  },
  {
   "cell_type": "code",
   "execution_count": 12,
   "metadata": {
    "ExecuteTime": {
     "end_time": "2020-01-04T20:07:45.471987Z",
     "start_time": "2020-01-04T20:07:45.469014Z"
    },
    "colab": {
     "base_uri": "https://localhost:8080/",
     "height": 51
    },
    "colab_type": "code",
    "executionInfo": {
     "elapsed": 187149,
     "status": "ok",
     "timestamp": 1576287092380,
     "user": {
      "displayName": "주이클",
      "photoUrl": "https://lh3.googleusercontent.com/a-/AAuE7mCWVh4nvn9788qUddhoWTl5qQoYt0bzVMDlJWUumTg=s64",
      "userId": "02708070532256873610"
     },
     "user_tz": -540
    },
    "id": "LCEEOdJK4__q",
    "outputId": "24fb71a8-e639-43d1-b476-d617adfff1e7"
   },
   "outputs": [],
   "source": [
    "from sklearn.model_selection import train_test_split\n",
    "from sklearn.model_selection import StratifiedKFold\n",
    "\n",
    "model_ts = datetime.now().strftime('%Y%m%dT%H%M%S')\n",
    "\n",
    "initscore_filename = ''\n",
    "params = {\n",
    "    'boosting':'gbdt',\n",
    "#     'boosting':'dart',\n",
    "    'num_leaves': 7, \n",
    "#     'max_depth': 5,\n",
    "    'objective': 'binary',\n",
    "    'metric':'auc',\n",
    "    'num_threads': 16,\n",
    "    'learning_rate': 0.005,\n",
    "#     'is_unbalance': True,\n",
    "    'scale_pos_weight':200,\n",
    "    'bagging_fraction':0.5,\n",
    "    'bagging_freq':10,\n",
    "    'feature_fraction':0.5,\n",
    "    'initscore_filename':initscore_filename,\n",
    "#     'lambda_l1':200,\n",
    "#     'lambda_l2':2000,\n",
    "    'device_type':'gpu',\n",
    "}\n",
    "\n",
    "data_params = {\n",
    "    'max_bin':128,\n",
    "#     'enable_bundle': False,\n",
    "}\n",
    "num_round = 15000\n",
    "\n"
   ]
  },
  {
   "cell_type": "markdown",
   "metadata": {},
   "source": [
    "#### Train"
   ]
  },
  {
   "cell_type": "code",
   "execution_count": 13,
   "metadata": {
    "ExecuteTime": {
     "end_time": "2020-01-04T20:49:29.226671Z",
     "start_time": "2020-01-04T20:07:45.472704Z"
    },
    "scrolled": false
   },
   "outputs": [
    {
     "name": "stdout",
     "output_type": "stream",
     "text": [
      "merged_ts 20200104T151347_9528_64_49980 model_ts 20200105T050745\n",
      "{'boosting': 'gbdt', 'num_leaves': 7, 'objective': 'binary', 'metric': 'auc', 'num_threads': 16, 'learning_rate': 0.005, 'scale_pos_weight': 200, 'bagging_fraction': 0.5, 'bagging_freq': 10, 'feature_fraction': 0.4, 'initscore_filename': ''}\n",
      "{'max_bin': 128}\n"
     ]
    },
    {
     "data": {
      "application/vnd.jupyter.widget-view+json": {
       "model_id": "ab6845ef1e6e4b5aad86d369ac4b8e7a",
       "version_major": 2,
       "version_minor": 0
      },
      "text/plain": [
       "HBox(children=(IntProgress(value=0, description='Try', max=1, style=ProgressStyle(description_width='initial')…"
      ]
     },
     "metadata": {},
     "output_type": "display_data"
    },
    {
     "name": "stdout",
     "output_type": "stream",
     "text": [
      "0 9526\n"
     ]
    },
    {
     "data": {
      "application/vnd.jupyter.widget-view+json": {
       "model_id": "c388a87f4e7d4281be793b220d6536ad",
       "version_major": 2,
       "version_minor": 0
      },
      "text/plain": [
       "HBox(children=(IntProgress(value=0, description='CV', max=5, style=ProgressStyle(description_width='initial'))…"
      ]
     },
     "metadata": {},
     "output_type": "display_data"
    },
    {
     "name": "stdout",
     "output_type": "stream",
     "text": [
      "\n",
      " 0 ******************** 0 ********************\n",
      "train_set (array([0, 1]), array([221793,  14962]))\n",
      "valid_set (array([0, 1]), array([55449,  3741]))\n",
      "Training until validation scores don't improve for 500 rounds\n",
      "[200]\ttraining's auc: 0.999942\tvalid_1's auc: 0.999724\n",
      "[400]\ttraining's auc: 0.999995\tvalid_1's auc: 0.999823\n",
      "[600]\ttraining's auc: 0.999998\tvalid_1's auc: 0.999892\n",
      "[800]\ttraining's auc: 0.999999\tvalid_1's auc: 0.99994\n",
      "[1000]\ttraining's auc: 0.999999\tvalid_1's auc: 0.999962\n",
      "[1200]\ttraining's auc: 1\tvalid_1's auc: 0.999974\n",
      "[1400]\ttraining's auc: 1\tvalid_1's auc: 0.999985\n",
      "[1600]\ttraining's auc: 1\tvalid_1's auc: 0.999989\n",
      "[1800]\ttraining's auc: 1\tvalid_1's auc: 0.999992\n",
      "[2000]\ttraining's auc: 1\tvalid_1's auc: 0.999993\n",
      "[2200]\ttraining's auc: 1\tvalid_1's auc: 0.999994\n",
      "[2400]\ttraining's auc: 1\tvalid_1's auc: 0.999996\n",
      "[2600]\ttraining's auc: 1\tvalid_1's auc: 0.999997\n",
      "[2800]\ttraining's auc: 1\tvalid_1's auc: 0.999997\n",
      "[3000]\ttraining's auc: 1\tvalid_1's auc: 0.999997\n",
      "[3200]\ttraining's auc: 1\tvalid_1's auc: 0.999997\n",
      "[3400]\ttraining's auc: 1\tvalid_1's auc: 0.999998\n",
      "[3600]\ttraining's auc: 1\tvalid_1's auc: 0.999998\n",
      "[3800]\ttraining's auc: 1\tvalid_1's auc: 0.999998\n",
      "[4000]\ttraining's auc: 1\tvalid_1's auc: 0.999998\n",
      "[4200]\ttraining's auc: 1\tvalid_1's auc: 0.999998\n",
      "[4400]\ttraining's auc: 1\tvalid_1's auc: 0.999998\n",
      "[4600]\ttraining's auc: 1\tvalid_1's auc: 0.999998\n",
      "[4800]\ttraining's auc: 1\tvalid_1's auc: 0.999998\n",
      "[5000]\ttraining's auc: 1\tvalid_1's auc: 0.999998\n",
      "[5200]\ttraining's auc: 1\tvalid_1's auc: 0.999998\n",
      "[5400]\ttraining's auc: 1\tvalid_1's auc: 0.999999\n",
      "[5600]\ttraining's auc: 1\tvalid_1's auc: 0.999999\n",
      "[5800]\ttraining's auc: 1\tvalid_1's auc: 0.999999\n",
      "[6000]\ttraining's auc: 1\tvalid_1's auc: 0.999999\n",
      "[6200]\ttraining's auc: 1\tvalid_1's auc: 0.999999\n",
      "[6400]\ttraining's auc: 1\tvalid_1's auc: 0.999999\n",
      "[6600]\ttraining's auc: 1\tvalid_1's auc: 0.999999\n",
      "[6800]\ttraining's auc: 1\tvalid_1's auc: 0.999999\n",
      "[7000]\ttraining's auc: 1\tvalid_1's auc: 0.999999\n",
      "[7200]\ttraining's auc: 1\tvalid_1's auc: 0.999999\n",
      "[7400]\ttraining's auc: 1\tvalid_1's auc: 0.999999\n",
      "[7600]\ttraining's auc: 1\tvalid_1's auc: 0.999999\n",
      "[7800]\ttraining's auc: 1\tvalid_1's auc: 0.999999\n",
      "[8000]\ttraining's auc: 1\tvalid_1's auc: 0.999999\n",
      "[8200]\ttraining's auc: 1\tvalid_1's auc: 0.999999\n",
      "Early stopping, best iteration is:\n",
      "[7778]\ttraining's auc: 1\tvalid_1's auc: 0.999999\n",
      "pred_tag smishing_0_0__7778 Best Iteration: 7778\n",
      "<split>\n",
      " [('tfidf_pos_word_22_0072_xxx 은행', 1002), ('tfidf_pos_char_11_0000_ ', 533), ('tfidf_pos_char_11_0005_-', 417), ('tfidf_word_11_0908_전화', 402), ('tfidf_word_22_0167_xxx 은행', 385)]\n",
      "<gain>\n",
      " [('cnt_0715_자', 10251929.399085732), ('fea__NNG', 4249013.164548608), ('fea__noun_cnt', 2800990.4890740314), ('tfidf_char_11_0223_능', 1282931.851027036), ('fea__text_len', 1207126.3937267317)]\n",
      "valid\n",
      " {'auc': 0.9999989876332607, 'confusion_matrix': array([[55448,     1],\n",
      "       [   18,  3723]]), 'precision': 0.9997314715359829, 'recall': 0.9951884522854851}\n",
      "train\n",
      " {'auc': 1.0, 'confusion_matrix': array([[221793,      0],\n",
      "       [     0,  14962]]), 'precision': 1.0, 'recall': 1.0}\n",
      "model\n",
      " {'auc': 0.9999999193868327, 'confusion_matrix': array([[277241,      1],\n",
      "       [    18,  18685]]), 'precision': 0.9999464839987157, 'recall': 0.999037587552799}\n",
      "\n",
      " 0 ******************** 1 ********************\n",
      "train_set (array([0, 1]), array([221793,  14962]))\n",
      "valid_set (array([0, 1]), array([55449,  3741]))\n",
      "Training until validation scores don't improve for 500 rounds\n",
      "[200]\ttraining's auc: 0.999939\tvalid_1's auc: 0.999973\n",
      "[400]\ttraining's auc: 0.999991\tvalid_1's auc: 0.999989\n",
      "[600]\ttraining's auc: 0.999996\tvalid_1's auc: 0.999994\n",
      "[800]\ttraining's auc: 0.999998\tvalid_1's auc: 0.999997\n",
      "[1000]\ttraining's auc: 0.999999\tvalid_1's auc: 0.999998\n",
      "[1200]\ttraining's auc: 0.999999\tvalid_1's auc: 0.999999\n",
      "[1400]\ttraining's auc: 1\tvalid_1's auc: 0.999999\n",
      "[1600]\ttraining's auc: 1\tvalid_1's auc: 0.999999\n",
      "[1800]\ttraining's auc: 1\tvalid_1's auc: 0.999999\n",
      "[2000]\ttraining's auc: 1\tvalid_1's auc: 1\n",
      "[2200]\ttraining's auc: 1\tvalid_1's auc: 1\n",
      "[2400]\ttraining's auc: 1\tvalid_1's auc: 1\n",
      "[2600]\ttraining's auc: 1\tvalid_1's auc: 1\n",
      "[2800]\ttraining's auc: 1\tvalid_1's auc: 1\n",
      "[3000]\ttraining's auc: 1\tvalid_1's auc: 1\n",
      "[3200]\ttraining's auc: 1\tvalid_1's auc: 1\n",
      "[3400]\ttraining's auc: 1\tvalid_1's auc: 1\n",
      "[3600]\ttraining's auc: 1\tvalid_1's auc: 1\n",
      "[3800]\ttraining's auc: 1\tvalid_1's auc: 1\n",
      "[4000]\ttraining's auc: 1\tvalid_1's auc: 1\n",
      "[4200]\ttraining's auc: 1\tvalid_1's auc: 1\n",
      "[4400]\ttraining's auc: 1\tvalid_1's auc: 1\n",
      "[4600]\ttraining's auc: 1\tvalid_1's auc: 1\n",
      "[4800]\ttraining's auc: 1\tvalid_1's auc: 1\n",
      "Early stopping, best iteration is:\n",
      "[4309]\ttraining's auc: 1\tvalid_1's auc: 1\n",
      "pred_tag smishing_0_1__4309 Best Iteration: 4309\n",
      "<split>\n",
      " [('tfidf_pos_word_22_0072_xxx 은행', 751), ('tfidf_pos_char_11_0000_ ', 416), ('tfidf_word_11_0761_올림', 363), ('tfidf_word_22_0167_xxx 은행', 317), ('tfidf_word_11_0358_대환', 275)]\n",
      "<gain>\n",
      " [('cnt_0715_자', 11394595.946987152), ('fea__NNG', 4000654.974593878), ('fea__noun_cnt', 3857102.5005878806), ('cnt_0583_신', 1632483.4356594086), ('tfidf_pos_char_11_0000_ ', 1405844.9637806714)]\n",
      "valid\n",
      " {'auc': 0.9999998987633261, 'confusion_matrix': array([[55449,     0],\n",
      "       [    3,  3738]]), 'precision': 1.0, 'recall': 0.9991980753809142}\n",
      "train\n",
      " {'auc': 1.0, 'confusion_matrix': array([[221793,      0],\n",
      "       [     0,  14962]]), 'precision': 1.0, 'recall': 1.0}\n",
      "model\n",
      " {'auc': 0.9999999832216614, 'confusion_matrix': array([[277242,      0],\n",
      "       [     3,  18700]]), 'precision': 1.0, 'recall': 0.9998395979254665}\n",
      "\n",
      " 0 ******************** 2 ********************\n",
      "train_set (array([0, 1]), array([221794,  14962]))\n",
      "valid_set (array([0, 1]), array([55448,  3741]))\n",
      "Training until validation scores don't improve for 500 rounds\n",
      "[200]\ttraining's auc: 0.999877\tvalid_1's auc: 0.999901\n",
      "[400]\ttraining's auc: 0.999992\tvalid_1's auc: 0.999942\n",
      "[600]\ttraining's auc: 0.999997\tvalid_1's auc: 0.999962\n",
      "[800]\ttraining's auc: 0.999999\tvalid_1's auc: 0.999972\n",
      "[1000]\ttraining's auc: 0.999999\tvalid_1's auc: 0.999978\n",
      "[1200]\ttraining's auc: 1\tvalid_1's auc: 0.99998\n",
      "[1400]\ttraining's auc: 1\tvalid_1's auc: 0.999984\n",
      "[1600]\ttraining's auc: 1\tvalid_1's auc: 0.999989\n",
      "[1800]\ttraining's auc: 1\tvalid_1's auc: 0.999991\n",
      "[2000]\ttraining's auc: 1\tvalid_1's auc: 0.999992\n",
      "[2200]\ttraining's auc: 1\tvalid_1's auc: 0.999993\n",
      "[2400]\ttraining's auc: 1\tvalid_1's auc: 0.999994\n",
      "[2600]\ttraining's auc: 1\tvalid_1's auc: 0.999995\n",
      "[2800]\ttraining's auc: 1\tvalid_1's auc: 0.999995\n",
      "[3000]\ttraining's auc: 1\tvalid_1's auc: 0.999995\n",
      "[3200]\ttraining's auc: 1\tvalid_1's auc: 0.999995\n",
      "[3400]\ttraining's auc: 1\tvalid_1's auc: 0.999996\n",
      "[3600]\ttraining's auc: 1\tvalid_1's auc: 0.999996\n",
      "[3800]\ttraining's auc: 1\tvalid_1's auc: 0.999996\n",
      "[4000]\ttraining's auc: 1\tvalid_1's auc: 0.999996\n",
      "[4200]\ttraining's auc: 1\tvalid_1's auc: 0.999996\n",
      "Early stopping, best iteration is:\n",
      "[3856]\ttraining's auc: 1\tvalid_1's auc: 0.999996\n",
      "pred_tag smishing_0_2__3856 Best Iteration: 3856\n",
      "<split>\n",
      " [('tfidf_pos_word_22_0072_xxx 은행', 733), ('tfidf_pos_char_11_0000_ ', 421), ('tfidf_word_11_0761_올림', 371), ('tfidf_word_22_0167_xxx 은행', 310), ('cnt_0583_신', 288)]\n",
      "<gain>\n",
      " [('cnt_0715_자', 5996048.211163342), ('fea__NNG', 5987186.071977973), ('fea__noun_cnt', 5267523.043702364), ('fea__SN', 2096173.0519723892), ('cnt_0583_신', 1847991.3240268826)]\n",
      "valid\n",
      " {'auc': 0.9999962975634381, 'confusion_matrix': array([[55436,    12],\n",
      "       [    3,  3738]]), 'precision': 0.9968, 'recall': 0.9991980753809142}\n",
      "train\n",
      " {'auc': 1.0, 'confusion_matrix': array([[221794,      0],\n",
      "       [     0,  14962]]), 'precision': 1.0, 'recall': 1.0}\n",
      "model\n",
      " {'auc': 0.99999952769941, 'confusion_matrix': array([[277230,     12],\n",
      "       [     3,  18700]]), 'precision': 0.9993587002992732, 'recall': 0.9998395979254665}\n",
      "\n",
      " 0 ******************** 3 ********************\n",
      "train_set (array([0, 1]), array([221794,  14963]))\n",
      "valid_set (array([0, 1]), array([55448,  3740]))\n",
      "Training until validation scores don't improve for 500 rounds\n",
      "[200]\ttraining's auc: 0.999941\tvalid_1's auc: 0.99992\n",
      "[400]\ttraining's auc: 0.999981\tvalid_1's auc: 0.999964\n",
      "[600]\ttraining's auc: 0.999996\tvalid_1's auc: 0.999988\n",
      "[800]\ttraining's auc: 0.999998\tvalid_1's auc: 0.999994\n",
      "[1000]\ttraining's auc: 0.999999\tvalid_1's auc: 0.999997\n",
      "[1200]\ttraining's auc: 0.999999\tvalid_1's auc: 0.999999\n"
     ]
    },
    {
     "name": "stdout",
     "output_type": "stream",
     "text": [
      "[1400]\ttraining's auc: 1\tvalid_1's auc: 0.999999\n",
      "[1600]\ttraining's auc: 1\tvalid_1's auc: 1\n",
      "[1800]\ttraining's auc: 1\tvalid_1's auc: 1\n",
      "[2000]\ttraining's auc: 1\tvalid_1's auc: 1\n",
      "[2200]\ttraining's auc: 1\tvalid_1's auc: 1\n",
      "[2400]\ttraining's auc: 1\tvalid_1's auc: 1\n",
      "[2600]\ttraining's auc: 1\tvalid_1's auc: 1\n",
      "[2800]\ttraining's auc: 1\tvalid_1's auc: 1\n",
      "[3000]\ttraining's auc: 1\tvalid_1's auc: 1\n",
      "Early stopping, best iteration is:\n",
      "[2547]\ttraining's auc: 1\tvalid_1's auc: 1\n",
      "pred_tag smishing_0_3__2547 Best Iteration: 2547\n",
      "<split>\n",
      " [('tfidf_pos_word_22_0072_xxx 은행', 569), ('tfidf_pos_char_11_0000_ ', 349), ('tfidf_word_11_0761_올림', 307), ('tfidf_word_22_0164_xxx 올림', 213), ('tfidf_word_22_0167_xxx 은행', 184)]\n",
      "<gain>\n",
      " [('cnt_0715_자', 9646236.840148926), ('fea__NNG', 6309678.482791901), ('fea__noun_cnt', 4403920.885671616), ('fea__text_len', 1301859.7569961548), ('tfidf_word_11_0761_올림', 946270.7339038849)]\n",
      "valid\n",
      " {'auc': 0.9999999807113202, 'confusion_matrix': array([[55438,    10],\n",
      "       [    0,  3740]]), 'precision': 0.9973333333333333, 'recall': 1.0}\n",
      "train\n",
      " {'auc': 0.9999999996986775, 'confusion_matrix': array([[221782,     12],\n",
      "       [     0,  14963]]), 'precision': 0.9991986644407346, 'recall': 1.0}\n",
      "model\n",
      " {'auc': 0.9999999982643099, 'confusion_matrix': array([[277220,     22],\n",
      "       [     0,  18703]]), 'precision': 0.9988251001335113, 'recall': 1.0}\n",
      "\n",
      " 0 ******************** 4 ********************\n",
      "train_set (array([0, 1]), array([221794,  14963]))\n",
      "valid_set (array([0, 1]), array([55448,  3740]))\n",
      "Training until validation scores don't improve for 500 rounds\n",
      "[200]\ttraining's auc: 0.999958\tvalid_1's auc: 0.999436\n",
      "[400]\ttraining's auc: 0.999995\tvalid_1's auc: 0.999566\n",
      "[600]\ttraining's auc: 0.999997\tvalid_1's auc: 0.999745\n",
      "[800]\ttraining's auc: 0.999999\tvalid_1's auc: 0.999843\n",
      "[1000]\ttraining's auc: 1\tvalid_1's auc: 0.99988\n",
      "[1200]\ttraining's auc: 1\tvalid_1's auc: 0.9999\n",
      "[1400]\ttraining's auc: 1\tvalid_1's auc: 0.999917\n",
      "[1600]\ttraining's auc: 1\tvalid_1's auc: 0.999936\n",
      "[1800]\ttraining's auc: 1\tvalid_1's auc: 0.999948\n",
      "[2000]\ttraining's auc: 1\tvalid_1's auc: 0.999961\n",
      "[2200]\ttraining's auc: 1\tvalid_1's auc: 0.999963\n",
      "[2400]\ttraining's auc: 1\tvalid_1's auc: 0.999966\n",
      "[2600]\ttraining's auc: 1\tvalid_1's auc: 0.999968\n",
      "[2800]\ttraining's auc: 1\tvalid_1's auc: 0.999972\n",
      "[3000]\ttraining's auc: 1\tvalid_1's auc: 0.999973\n",
      "[3200]\ttraining's auc: 1\tvalid_1's auc: 0.999974\n",
      "[3400]\ttraining's auc: 1\tvalid_1's auc: 0.999974\n",
      "[3600]\ttraining's auc: 1\tvalid_1's auc: 0.999974\n",
      "[3800]\ttraining's auc: 1\tvalid_1's auc: 0.999974\n",
      "[4000]\ttraining's auc: 1\tvalid_1's auc: 0.999975\n",
      "[4200]\ttraining's auc: 1\tvalid_1's auc: 0.999975\n",
      "[4400]\ttraining's auc: 1\tvalid_1's auc: 0.999976\n",
      "[4600]\ttraining's auc: 1\tvalid_1's auc: 0.999978\n",
      "[4800]\ttraining's auc: 1\tvalid_1's auc: 0.999978\n",
      "[5000]\ttraining's auc: 1\tvalid_1's auc: 0.999978\n",
      "Early stopping, best iteration is:\n",
      "[4675]\ttraining's auc: 1\tvalid_1's auc: 0.999979\n",
      "pred_tag smishing_0_4__4675 Best Iteration: 4675\n",
      "<split>\n",
      " [('tfidf_pos_word_22_0072_xxx 은행', 769), ('tfidf_pos_char_11_0000_ ', 440), ('tfidf_word_11_0761_올림', 436), ('tfidf_pos_word_11_0140_광고', 352), ('cnt_0126_금', 256)]\n",
      "<gain>\n",
      " [('fea__NNG', 8499187.489727542), ('cnt_0715_자', 8209546.550192013), ('fea__noun_cnt', 3008369.555284828), ('cnt_0126_금', 2615627.7182840034), ('tfidf_word_11_0761_올림', 1116381.3258800507)]\n",
      "valid\n",
      " {'auc': 0.9999794768447114, 'confusion_matrix': array([[55436,    12],\n",
      "       [    5,  3735]]), 'precision': 0.9967974379503602, 'recall': 0.9986631016042781}\n",
      "train\n",
      " {'auc': 1.0, 'confusion_matrix': array([[221794,      0],\n",
      "       [     0,  14963]]), 'precision': 1.0, 'recall': 1.0}\n",
      "model\n",
      " {'auc': 0.9999984498357931, 'confusion_matrix': array([[277230,     12],\n",
      "       [     5,  18698]]), 'precision': 0.9993586317477284, 'recall': 0.9997326632091108}\n",
      "\n",
      "\n"
     ]
    }
   ],
   "source": [
    "print('merged_ts', merged_ts, 'model_ts', model_ts)\n",
    "print(params)\n",
    "print(data_params)\n",
    "pred_csv = []\n",
    "fea_size = -1\n",
    "try_cnt = 1\n",
    "\n",
    "\n",
    "for t in tqdm_notebook(range(try_cnt), total=try_cnt, desc = 'Try'):\n",
    "    fea_cols = [c for c in df_model.columns if c not in ['smishing', 'id', 'score']]\n",
    "    \n",
    "    if fea_size > 0:\n",
    "        fea_cols = list(set(np.random.choice(fea_cols, fea_size)))\n",
    "        print(t, len(fea_cols), fea_cols[:100])\n",
    "    else:\n",
    "        print(t, len(fea_cols))\n",
    "\n",
    "    [df_model.drop(c, axis=1, inplace=True) for c in df_model.columns if 'smishing_' in c]\n",
    "    [df_test.drop(c, axis=1, inplace=True) for c in df_test.columns if 'smishing_' in c]\n",
    "\n",
    "#     X = df_model[fea_cols].values\n",
    "#     y = df_model['smishing'].values\n",
    "\n",
    "    n_splits = 5\n",
    "    skf = StratifiedKFold(n_splits=n_splits, random_state=8405)\n",
    "    cnt = 0\n",
    "    \n",
    "#     train_data = lgb.Dataset(X, label=y, feature_name=fea_cols, categorical_feature=cat_cols, \n",
    "#                              free_raw_data=False, params=data_params)\n",
    "\n",
    "    # for train_index, valid_index in skf.split(X, y):\n",
    "    for train_index, valid_index in tqdm_notebook(skf.split(df_model['id'].values, df_model['smishing'].values), total=n_splits, desc = 'CV'):\n",
    "        print('\\n', t, '*' * 20, cnt, '*' * 20)\n",
    "        \n",
    "        train_set = lgb.Dataset(df_model.loc[train_index, fea_cols].values, \n",
    "                                 label=df_model.loc[train_index, 'smishing'].values, \n",
    "                                 feature_name=fea_cols, categorical_feature=cat_cols, \n",
    "                                 free_raw_data=True, params=data_params)\n",
    "        \n",
    "        valid_set = lgb.Dataset(df_model.loc[valid_index, fea_cols].values, \n",
    "                                 label=df_model.loc[valid_index, 'smishing'].values, \n",
    "                                 feature_name=fea_cols, categorical_feature=cat_cols, \n",
    "                                 free_raw_data=True, params=data_params)\n",
    "\n",
    "#         train_set = train_data.subset(train_index, params=data_params).construct()\n",
    "#         valid_set = train_data.subset(valid_index, params=data_params).construct()\n",
    "        print('train_set', np.unique(train_set.get_label(), return_counts=True))\n",
    "        print('valid_set', np.unique(valid_set.get_label(), return_counts=True))\n",
    "\n",
    "        bst = lgb.train(params, train_set, num_round, categorical_feature=cat_cols,\n",
    "                        early_stopping_rounds=500, \n",
    "                        valid_sets=[train_set, valid_set],\n",
    "                        verbose_eval=200,\n",
    "                        # init_model=init_model,\n",
    "                       )\n",
    "        \n",
    "        pred_tag = 'smishing_{}_{}__{}'.format(t, cnt, bst.best_iteration)\n",
    "        print('pred_tag', pred_tag, 'Best Iteration:', bst.best_iteration)\n",
    "\n",
    "        renamed_cols = [fea_dict[c] if c in fea_dict.keys() else c for c in fea_cols]\n",
    "\n",
    "        impt_dict = {k:v for k, v in zip(renamed_cols, bst.feature_importance(importance_type='split'))}\n",
    "        print('<split>\\n', sorted(impt_dict.items(), key=(lambda x:x[1]), reverse=True)[:5])\n",
    "        joblib.dump(impt_dict, 'model/{}_{}_split.pkl'.format(model_ts, pred_tag))\n",
    "\n",
    "        impt_dict = {k:v for k, v in zip(renamed_cols, bst.feature_importance(importance_type='gain'))}    \n",
    "        print('<gain>\\n', sorted(impt_dict.items(), key=(lambda x:x[1]), reverse=True)[:5])\n",
    "        joblib.dump(impt_dict, 'model/{}_{}_gain.pkl'.format(model_ts, pred_tag))\n",
    "        \n",
    "        \n",
    "        df_pred_valid = pd.DataFrame(index=valid_index, \n",
    "                               data=bst.predict(df_model.loc[valid_index, fea_cols].values),\n",
    "                               columns=['score'])\n",
    "        \n",
    "        df_pred_valid['type'] = 'valid'\n",
    "        df_pred_valid['smishing'] = df_model.loc[valid_index, 'smishing'].values\n",
    "        \n",
    "        df_pred_train = pd.DataFrame(index=train_index, \n",
    "                               data=bst.predict(df_model.loc[train_index, fea_cols].values),\n",
    "                               columns=['score'])\n",
    "        \n",
    "        df_pred_train['type'] = 'train'\n",
    "        df_pred_train['smishing'] = df_model.loc[train_index, 'smishing'].values\n",
    "        \n",
    "        \n",
    "        print('valid\\n', eval_summary(df_pred_valid['smishing'].values, \n",
    "                                      df_pred_valid['score'].values, cut_off=0.5))\n",
    "\n",
    "        print('train\\n', eval_summary(df_pred_train['smishing'].values, \n",
    "                                      df_pred_train['score'].values, cut_off=0.5))\n",
    "        \n",
    "        df_pred_model = pd.concat([df_pred_train, df_pred_valid])\n",
    "              \n",
    "        df_pred_model[['score', 'smishing']].to_csv('submit/{}_{}_lgb_score.csv'.format(model_ts, pred_tag), index=True)\n",
    "        print('model\\n', eval_summary(df_pred_model['smishing'].values, df_pred_model['score'].values, cut_off=0.5))\n",
    "        \n",
    "        df_test['smishing'] = bst.predict(df_test[fea_cols].values)    \n",
    "        df_test[['smishing']].to_csv('submit/{}_{}_lgb.csv'.format(model_ts, pred_tag), index=True)\n",
    "        pred_csv.append('submit/{}_{}_lgb.csv'.format(model_ts, pred_tag))\n",
    "        \n",
    "        del train_set, valid_set\n",
    "        gc.collect()\n",
    "        cnt = cnt + 1\n"
   ]
  },
  {
   "cell_type": "code",
   "execution_count": 14,
   "metadata": {
    "ExecuteTime": {
     "end_time": "2020-01-04T20:49:29.241810Z",
     "start_time": "2020-01-04T20:49:29.228703Z"
    }
   },
   "outputs": [
    {
     "name": "stdout",
     "output_type": "stream",
     "text": [
      "5\n"
     ]
    }
   ],
   "source": [
    "print(len(pred_csv))\n",
    "\n",
    "df_submit = pd.concat([pd.read_csv(csv, index_col=0) for csv in pred_csv], axis=1)"
   ]
  },
  {
   "cell_type": "code",
   "execution_count": 27,
   "metadata": {
    "ExecuteTime": {
     "end_time": "2020-01-04T20:53:07.461669Z",
     "start_time": "2020-01-04T20:53:07.458212Z"
    }
   },
   "outputs": [
    {
     "data": {
      "text/plain": [
       "['submit/20200105T050745_smishing_0_0__7778_lgb.csv',\n",
       " 'submit/20200105T050745_smishing_0_1__4309_lgb.csv',\n",
       " 'submit/20200105T050745_smishing_0_2__3856_lgb.csv',\n",
       " 'submit/20200105T050745_smishing_0_3__2547_lgb.csv',\n",
       " 'submit/20200105T050745_smishing_0_4__4675_lgb.csv']"
      ]
     },
     "execution_count": 27,
     "metadata": {},
     "output_type": "execute_result"
    }
   ],
   "source": [
    "pred_csv"
   ]
  },
  {
   "cell_type": "code",
   "execution_count": 29,
   "metadata": {
    "ExecuteTime": {
     "end_time": "2020-01-04T20:53:50.676509Z",
     "start_time": "2020-01-04T20:53:50.651488Z"
    }
   },
   "outputs": [
    {
     "name": "stdout",
     "output_type": "stream",
     "text": [
      "submit/20200105T050745_smishing_0_0__7778_lgb.csv\n",
      "submit/20200105T050745_smishing_0_1__4309_lgb.csv\n",
      "submit/20200105T050745_smishing_0_2__3856_lgb.csv\n",
      "submit/20200105T050745_smishing_0_3__2547_lgb.csv\n"
     ]
    }
   ],
   "source": [
    "df_submit = df_test[['smishing']]\n",
    "df_submit['smishing'] = 0\n",
    "for csv in [c for c in pred_csv if 'smishing_0_4' not in c]:\n",
    "    print(csv)\n",
    "    df = pd.read_csv(csv, index_col=0)\n",
    "    df_submit['smishing'] = df_submit['smishing'] + df['smishing']\n",
    "    c = csv.split('__')[0][-1]\n",
    "    df_submit['smishing_{}'.format(c)] = df['smishing']\n",
    "#     display(df.head())\n",
    "df_submit['smishing'] = df_submit['smishing'] / len(pred_csv)"
   ]
  },
  {
   "cell_type": "code",
   "execution_count": 30,
   "metadata": {
    "ExecuteTime": {
     "end_time": "2020-01-04T20:53:55.692386Z",
     "start_time": "2020-01-04T20:53:55.684037Z"
    },
    "scrolled": true
   },
   "outputs": [],
   "source": [
    "pred_cols = [c for c in df_submit.columns if 'smishing_' in c]\n",
    "# pred_cols.remove('smishing_1')\n",
    "# pred_cols.remove('smishing_2')\n",
    "df_submit['std'] = df_submit[pred_cols].std(axis=1)\n",
    "df_submit['median'] = df_submit[pred_cols].median(axis=1)"
   ]
  },
  {
   "cell_type": "code",
   "execution_count": 31,
   "metadata": {
    "ExecuteTime": {
     "end_time": "2020-01-04T20:53:57.591574Z",
     "start_time": "2020-01-04T20:53:57.575254Z"
    },
    "scrolled": true
   },
   "outputs": [
    {
     "name": "stdout",
     "output_type": "stream",
     "text": [
      "(1626, 7)\n"
     ]
    },
    {
     "data": {
      "text/html": [
       "<div>\n",
       "<style scoped>\n",
       "    .dataframe tbody tr th:only-of-type {\n",
       "        vertical-align: middle;\n",
       "    }\n",
       "\n",
       "    .dataframe tbody tr th {\n",
       "        vertical-align: top;\n",
       "    }\n",
       "\n",
       "    .dataframe thead th {\n",
       "        text-align: right;\n",
       "    }\n",
       "</style>\n",
       "<table border=\"1\" class=\"dataframe\">\n",
       "  <thead>\n",
       "    <tr style=\"text-align: right;\">\n",
       "      <th></th>\n",
       "      <th>smishing</th>\n",
       "      <th>smishing_0</th>\n",
       "      <th>smishing_1</th>\n",
       "      <th>smishing_2</th>\n",
       "      <th>smishing_3</th>\n",
       "      <th>std</th>\n",
       "      <th>median</th>\n",
       "    </tr>\n",
       "    <tr>\n",
       "      <th>id</th>\n",
       "      <th></th>\n",
       "      <th></th>\n",
       "      <th></th>\n",
       "      <th></th>\n",
       "      <th></th>\n",
       "      <th></th>\n",
       "      <th></th>\n",
       "    </tr>\n",
       "  </thead>\n",
       "  <tbody>\n",
       "    <tr>\n",
       "      <td>340274</td>\n",
       "      <td>0.553468</td>\n",
       "      <td>0.040890</td>\n",
       "      <td>0.934895</td>\n",
       "      <td>0.858354</td>\n",
       "      <td>0.933200</td>\n",
       "      <td>0.435428</td>\n",
       "      <td>0.895777</td>\n",
       "    </tr>\n",
       "    <tr>\n",
       "      <td>340597</td>\n",
       "      <td>0.386624</td>\n",
       "      <td>0.001272</td>\n",
       "      <td>0.239634</td>\n",
       "      <td>0.797530</td>\n",
       "      <td>0.894686</td>\n",
       "      <td>0.431935</td>\n",
       "      <td>0.518582</td>\n",
       "    </tr>\n",
       "    <tr>\n",
       "      <td>341178</td>\n",
       "      <td>0.542576</td>\n",
       "      <td>0.047653</td>\n",
       "      <td>0.791121</td>\n",
       "      <td>0.916411</td>\n",
       "      <td>0.957693</td>\n",
       "      <td>0.426303</td>\n",
       "      <td>0.853766</td>\n",
       "    </tr>\n",
       "    <tr>\n",
       "      <td>341349</td>\n",
       "      <td>0.376202</td>\n",
       "      <td>0.003271</td>\n",
       "      <td>0.578452</td>\n",
       "      <td>0.338716</td>\n",
       "      <td>0.960568</td>\n",
       "      <td>0.403109</td>\n",
       "      <td>0.458584</td>\n",
       "    </tr>\n",
       "    <tr>\n",
       "      <td>340483</td>\n",
       "      <td>0.542377</td>\n",
       "      <td>0.079213</td>\n",
       "      <td>0.889974</td>\n",
       "      <td>0.827621</td>\n",
       "      <td>0.915076</td>\n",
       "      <td>0.400862</td>\n",
       "      <td>0.858798</td>\n",
       "    </tr>\n",
       "    <tr>\n",
       "      <td>341365</td>\n",
       "      <td>0.396334</td>\n",
       "      <td>0.004835</td>\n",
       "      <td>0.598378</td>\n",
       "      <td>0.427248</td>\n",
       "      <td>0.951208</td>\n",
       "      <td>0.393134</td>\n",
       "      <td>0.512813</td>\n",
       "    </tr>\n",
       "    <tr>\n",
       "      <td>340046</td>\n",
       "      <td>0.372582</td>\n",
       "      <td>0.001439</td>\n",
       "      <td>0.457241</td>\n",
       "      <td>0.447381</td>\n",
       "      <td>0.956847</td>\n",
       "      <td>0.390372</td>\n",
       "      <td>0.452311</td>\n",
       "    </tr>\n",
       "    <tr>\n",
       "      <td>341111</td>\n",
       "      <td>0.426808</td>\n",
       "      <td>0.005642</td>\n",
       "      <td>0.509381</td>\n",
       "      <td>0.724052</td>\n",
       "      <td>0.894963</td>\n",
       "      <td>0.385651</td>\n",
       "      <td>0.616716</td>\n",
       "    </tr>\n",
       "    <tr>\n",
       "      <td>340259</td>\n",
       "      <td>0.426570</td>\n",
       "      <td>0.023565</td>\n",
       "      <td>0.465781</td>\n",
       "      <td>0.736767</td>\n",
       "      <td>0.906735</td>\n",
       "      <td>0.385245</td>\n",
       "      <td>0.601274</td>\n",
       "    </tr>\n",
       "    <tr>\n",
       "      <td>341027</td>\n",
       "      <td>0.422950</td>\n",
       "      <td>0.004279</td>\n",
       "      <td>0.502609</td>\n",
       "      <td>0.723392</td>\n",
       "      <td>0.884470</td>\n",
       "      <td>0.383047</td>\n",
       "      <td>0.613001</td>\n",
       "    </tr>\n",
       "    <tr>\n",
       "      <td>340399</td>\n",
       "      <td>0.564212</td>\n",
       "      <td>0.166017</td>\n",
       "      <td>0.748665</td>\n",
       "      <td>0.938636</td>\n",
       "      <td>0.967741</td>\n",
       "      <td>0.372392</td>\n",
       "      <td>0.843650</td>\n",
       "    </tr>\n",
       "    <tr>\n",
       "      <td>341000</td>\n",
       "      <td>0.241099</td>\n",
       "      <td>0.000185</td>\n",
       "      <td>0.052588</td>\n",
       "      <td>0.347135</td>\n",
       "      <td>0.805588</td>\n",
       "      <td>0.369204</td>\n",
       "      <td>0.199861</td>\n",
       "    </tr>\n",
       "    <tr>\n",
       "      <td>340630</td>\n",
       "      <td>0.476827</td>\n",
       "      <td>0.090942</td>\n",
       "      <td>0.776970</td>\n",
       "      <td>0.586637</td>\n",
       "      <td>0.929586</td>\n",
       "      <td>0.364783</td>\n",
       "      <td>0.681803</td>\n",
       "    </tr>\n",
       "    <tr>\n",
       "      <td>340285</td>\n",
       "      <td>0.399489</td>\n",
       "      <td>0.042529</td>\n",
       "      <td>0.433069</td>\n",
       "      <td>0.729996</td>\n",
       "      <td>0.791850</td>\n",
       "      <td>0.342458</td>\n",
       "      <td>0.581532</td>\n",
       "    </tr>\n",
       "    <tr>\n",
       "      <td>340291</td>\n",
       "      <td>0.432886</td>\n",
       "      <td>0.133821</td>\n",
       "      <td>0.396658</td>\n",
       "      <td>0.819138</td>\n",
       "      <td>0.814814</td>\n",
       "      <td>0.336137</td>\n",
       "      <td>0.605736</td>\n",
       "    </tr>\n",
       "    <tr>\n",
       "      <td>340281</td>\n",
       "      <td>0.504069</td>\n",
       "      <td>0.154825</td>\n",
       "      <td>0.713293</td>\n",
       "      <td>0.763465</td>\n",
       "      <td>0.888762</td>\n",
       "      <td>0.325320</td>\n",
       "      <td>0.738379</td>\n",
       "    </tr>\n",
       "    <tr>\n",
       "      <td>341104</td>\n",
       "      <td>0.352358</td>\n",
       "      <td>0.013036</td>\n",
       "      <td>0.381607</td>\n",
       "      <td>0.622611</td>\n",
       "      <td>0.744536</td>\n",
       "      <td>0.322385</td>\n",
       "      <td>0.502109</td>\n",
       "    </tr>\n",
       "    <tr>\n",
       "      <td>340056</td>\n",
       "      <td>0.263472</td>\n",
       "      <td>0.001239</td>\n",
       "      <td>0.240890</td>\n",
       "      <td>0.317465</td>\n",
       "      <td>0.757765</td>\n",
       "      <td>0.315786</td>\n",
       "      <td>0.279177</td>\n",
       "    </tr>\n",
       "    <tr>\n",
       "      <td>340718</td>\n",
       "      <td>0.602457</td>\n",
       "      <td>0.298238</td>\n",
       "      <td>0.847704</td>\n",
       "      <td>0.934602</td>\n",
       "      <td>0.931740</td>\n",
       "      <td>0.305889</td>\n",
       "      <td>0.889722</td>\n",
       "    </tr>\n",
       "    <tr>\n",
       "      <td>341364</td>\n",
       "      <td>0.247385</td>\n",
       "      <td>0.001061</td>\n",
       "      <td>0.147651</td>\n",
       "      <td>0.392437</td>\n",
       "      <td>0.695777</td>\n",
       "      <td>0.304093</td>\n",
       "      <td>0.270044</td>\n",
       "    </tr>\n",
       "    <tr>\n",
       "      <td>340592</td>\n",
       "      <td>0.172148</td>\n",
       "      <td>0.000095</td>\n",
       "      <td>0.032854</td>\n",
       "      <td>0.171918</td>\n",
       "      <td>0.655873</td>\n",
       "      <td>0.303087</td>\n",
       "      <td>0.102386</td>\n",
       "    </tr>\n",
       "    <tr>\n",
       "      <td>340282</td>\n",
       "      <td>0.274638</td>\n",
       "      <td>0.004165</td>\n",
       "      <td>0.463396</td>\n",
       "      <td>0.214317</td>\n",
       "      <td>0.691309</td>\n",
       "      <td>0.298431</td>\n",
       "      <td>0.338857</td>\n",
       "    </tr>\n",
       "    <tr>\n",
       "      <td>340984</td>\n",
       "      <td>0.273101</td>\n",
       "      <td>0.001490</td>\n",
       "      <td>0.253711</td>\n",
       "      <td>0.398177</td>\n",
       "      <td>0.712127</td>\n",
       "      <td>0.296586</td>\n",
       "      <td>0.325944</td>\n",
       "    </tr>\n",
       "    <tr>\n",
       "      <td>340217</td>\n",
       "      <td>0.194105</td>\n",
       "      <td>0.000994</td>\n",
       "      <td>0.080616</td>\n",
       "      <td>0.248703</td>\n",
       "      <td>0.640212</td>\n",
       "      <td>0.284456</td>\n",
       "      <td>0.164659</td>\n",
       "    </tr>\n",
       "    <tr>\n",
       "      <td>341196</td>\n",
       "      <td>0.151184</td>\n",
       "      <td>0.000720</td>\n",
       "      <td>0.042060</td>\n",
       "      <td>0.105583</td>\n",
       "      <td>0.607559</td>\n",
       "      <td>0.282366</td>\n",
       "      <td>0.073821</td>\n",
       "    </tr>\n",
       "    <tr>\n",
       "      <td>340408</td>\n",
       "      <td>0.213912</td>\n",
       "      <td>0.034434</td>\n",
       "      <td>0.166860</td>\n",
       "      <td>0.192174</td>\n",
       "      <td>0.676091</td>\n",
       "      <td>0.281110</td>\n",
       "      <td>0.179517</td>\n",
       "    </tr>\n",
       "    <tr>\n",
       "      <td>341477</td>\n",
       "      <td>0.182516</td>\n",
       "      <td>0.014325</td>\n",
       "      <td>0.097751</td>\n",
       "      <td>0.637496</td>\n",
       "      <td>0.163007</td>\n",
       "      <td>0.279603</td>\n",
       "      <td>0.130379</td>\n",
       "    </tr>\n",
       "    <tr>\n",
       "      <td>340639</td>\n",
       "      <td>0.145627</td>\n",
       "      <td>0.000644</td>\n",
       "      <td>0.039836</td>\n",
       "      <td>0.089872</td>\n",
       "      <td>0.597782</td>\n",
       "      <td>0.279561</td>\n",
       "      <td>0.064854</td>\n",
       "    </tr>\n",
       "    <tr>\n",
       "      <td>340917</td>\n",
       "      <td>0.145763</td>\n",
       "      <td>0.000684</td>\n",
       "      <td>0.039836</td>\n",
       "      <td>0.090512</td>\n",
       "      <td>0.597782</td>\n",
       "      <td>0.279482</td>\n",
       "      <td>0.065174</td>\n",
       "    </tr>\n",
       "    <tr>\n",
       "      <td>341437</td>\n",
       "      <td>0.190702</td>\n",
       "      <td>0.010363</td>\n",
       "      <td>0.124935</td>\n",
       "      <td>0.640462</td>\n",
       "      <td>0.177751</td>\n",
       "      <td>0.277012</td>\n",
       "      <td>0.151343</td>\n",
       "    </tr>\n",
       "  </tbody>\n",
       "</table>\n",
       "</div>"
      ],
      "text/plain": [
       "        smishing  smishing_0  smishing_1  smishing_2  smishing_3       std  \\\n",
       "id                                                                           \n",
       "340274  0.553468    0.040890    0.934895    0.858354    0.933200  0.435428   \n",
       "340597  0.386624    0.001272    0.239634    0.797530    0.894686  0.431935   \n",
       "341178  0.542576    0.047653    0.791121    0.916411    0.957693  0.426303   \n",
       "341349  0.376202    0.003271    0.578452    0.338716    0.960568  0.403109   \n",
       "340483  0.542377    0.079213    0.889974    0.827621    0.915076  0.400862   \n",
       "341365  0.396334    0.004835    0.598378    0.427248    0.951208  0.393134   \n",
       "340046  0.372582    0.001439    0.457241    0.447381    0.956847  0.390372   \n",
       "341111  0.426808    0.005642    0.509381    0.724052    0.894963  0.385651   \n",
       "340259  0.426570    0.023565    0.465781    0.736767    0.906735  0.385245   \n",
       "341027  0.422950    0.004279    0.502609    0.723392    0.884470  0.383047   \n",
       "340399  0.564212    0.166017    0.748665    0.938636    0.967741  0.372392   \n",
       "341000  0.241099    0.000185    0.052588    0.347135    0.805588  0.369204   \n",
       "340630  0.476827    0.090942    0.776970    0.586637    0.929586  0.364783   \n",
       "340285  0.399489    0.042529    0.433069    0.729996    0.791850  0.342458   \n",
       "340291  0.432886    0.133821    0.396658    0.819138    0.814814  0.336137   \n",
       "340281  0.504069    0.154825    0.713293    0.763465    0.888762  0.325320   \n",
       "341104  0.352358    0.013036    0.381607    0.622611    0.744536  0.322385   \n",
       "340056  0.263472    0.001239    0.240890    0.317465    0.757765  0.315786   \n",
       "340718  0.602457    0.298238    0.847704    0.934602    0.931740  0.305889   \n",
       "341364  0.247385    0.001061    0.147651    0.392437    0.695777  0.304093   \n",
       "340592  0.172148    0.000095    0.032854    0.171918    0.655873  0.303087   \n",
       "340282  0.274638    0.004165    0.463396    0.214317    0.691309  0.298431   \n",
       "340984  0.273101    0.001490    0.253711    0.398177    0.712127  0.296586   \n",
       "340217  0.194105    0.000994    0.080616    0.248703    0.640212  0.284456   \n",
       "341196  0.151184    0.000720    0.042060    0.105583    0.607559  0.282366   \n",
       "340408  0.213912    0.034434    0.166860    0.192174    0.676091  0.281110   \n",
       "341477  0.182516    0.014325    0.097751    0.637496    0.163007  0.279603   \n",
       "340639  0.145627    0.000644    0.039836    0.089872    0.597782  0.279561   \n",
       "340917  0.145763    0.000684    0.039836    0.090512    0.597782  0.279482   \n",
       "341437  0.190702    0.010363    0.124935    0.640462    0.177751  0.277012   \n",
       "\n",
       "          median  \n",
       "id                \n",
       "340274  0.895777  \n",
       "340597  0.518582  \n",
       "341178  0.853766  \n",
       "341349  0.458584  \n",
       "340483  0.858798  \n",
       "341365  0.512813  \n",
       "340046  0.452311  \n",
       "341111  0.616716  \n",
       "340259  0.601274  \n",
       "341027  0.613001  \n",
       "340399  0.843650  \n",
       "341000  0.199861  \n",
       "340630  0.681803  \n",
       "340285  0.581532  \n",
       "340291  0.605736  \n",
       "340281  0.738379  \n",
       "341104  0.502109  \n",
       "340056  0.279177  \n",
       "340718  0.889722  \n",
       "341364  0.270044  \n",
       "340592  0.102386  \n",
       "340282  0.338857  \n",
       "340984  0.325944  \n",
       "340217  0.164659  \n",
       "341196  0.073821  \n",
       "340408  0.179517  \n",
       "341477  0.130379  \n",
       "340639  0.064854  \n",
       "340917  0.065174  \n",
       "341437  0.151343  "
      ]
     },
     "execution_count": 31,
     "metadata": {},
     "output_type": "execute_result"
    }
   ],
   "source": [
    "df_std = df_submit[df_submit['std'] < 1]\n",
    "print(df_std.shape)\n",
    "df_std.sort_values('std', ascending=False).head(30)"
   ]
  },
  {
   "cell_type": "code",
   "execution_count": 32,
   "metadata": {
    "ExecuteTime": {
     "end_time": "2020-01-04T20:54:07.434130Z",
     "start_time": "2020-01-04T20:54:07.230049Z"
    }
   },
   "outputs": [
    {
     "data": {
      "text/plain": [
       "<matplotlib.axes._subplots.AxesSubplot at 0x7efb5ba84a90>"
      ]
     },
     "execution_count": 32,
     "metadata": {},
     "output_type": "execute_result"
    },
    {
     "data": {
      "image/png": "[encoded data removed]",
      "text/plain": [
       "<Figure size 1440x360 with 1 Axes>"
      ]
     },
     "metadata": {
      "needs_background": "light"
     },
     "output_type": "display_data"
    }
   ],
   "source": [
    "df_submit['smishing'].hist(bins=100, figsize=(20, 5))"
   ]
  },
  {
   "cell_type": "code",
   "execution_count": 33,
   "metadata": {
    "ExecuteTime": {
     "end_time": "2020-01-04T20:54:10.041325Z",
     "start_time": "2020-01-04T20:54:10.035445Z"
    }
   },
   "outputs": [
    {
     "data": {
      "text/plain": [
       "0    1458\n",
       "1      29\n",
       "2      16\n",
       "3       6\n",
       "4       8\n",
       "5      10\n",
       "6       6\n",
       "7      93\n",
       "Name: smishing, dtype: int64"
      ]
     },
     "execution_count": 33,
     "metadata": {},
     "output_type": "execute_result"
    }
   ],
   "source": [
    "(df_submit['smishing'] * 10).astype(int).value_counts(sort=False)"
   ]
  },
  {
   "cell_type": "code",
   "execution_count": 34,
   "metadata": {
    "ExecuteTime": {
     "end_time": "2020-01-04T20:55:26.920371Z",
     "start_time": "2020-01-04T20:55:26.908690Z"
    }
   },
   "outputs": [
    {
     "name": "stdout",
     "output_type": "stream",
     "text": [
      "20200105T050745\n"
     ]
    }
   ],
   "source": [
    "print(model_ts)\n",
    "df_submit[['smishing']].to_csv('submit/{}_lgb_no4.csv'.format(model_ts), index=True)"
   ]
  },
  {
   "cell_type": "code",
   "execution_count": 21,
   "metadata": {
    "ExecuteTime": {
     "end_time": "2020-01-04T20:49:29.543899Z",
     "start_time": "2020-01-04T20:49:29.539612Z"
    },
    "scrolled": true
   },
   "outputs": [],
   "source": [
    "# print(len(pred_cols))\n",
    "# df_test['pred_max'] = df_test[pred_cols].max(axis=1)\n",
    "# df_test['pred_min'] = df_test[pred_cols].min(axis=1)\n",
    "# df_test['pred_mean'] = df_test[pred_cols].mean(axis=1)\n",
    "# df_test['pred_std'] = df_test[pred_cols].std(axis=1)\n",
    "\n",
    "# print(df_test['pred_std'].max(), df_test['pred_std'].min(), df_test['pred_std'].mean())\n",
    "\n",
    "# df_test['smishing'] = df_test['pred_mean']"
   ]
  },
  {
   "cell_type": "code",
   "execution_count": 22,
   "metadata": {
    "ExecuteTime": {
     "end_time": "2020-01-04T20:49:29.752390Z",
     "start_time": "2020-01-04T20:49:29.545009Z"
    },
    "scrolled": false
   },
   "outputs": [
    {
     "data": {
      "text/plain": [
       "<matplotlib.axes._subplots.AxesSubplot at 0x7efb5b580610>"
      ]
     },
     "execution_count": 22,
     "metadata": {},
     "output_type": "execute_result"
    },
    {
     "data": {
      "image/png": "[encoded data removed]",
      "text/plain": [
       "<Figure size 1440x360 with 1 Axes>"
      ]
     },
     "metadata": {
      "needs_background": "light"
     },
     "output_type": "display_data"
    }
   ],
   "source": [
    "df_test['smishing'].hist(bins=100, figsize=(20, 5))"
   ]
  },
  {
   "cell_type": "code",
   "execution_count": 23,
   "metadata": {
    "ExecuteTime": {
     "end_time": "2020-01-04T20:49:29.760326Z",
     "start_time": "2020-01-04T20:49:29.756703Z"
    }
   },
   "outputs": [
    {
     "data": {
      "text/plain": [
       "0    1456\n",
       "1      26\n",
       "2      12\n",
       "3       1\n",
       "4      10\n",
       "5       2\n",
       "6       2\n",
       "7       7\n",
       "8       4\n",
       "9     106\n",
       "Name: smishing, dtype: int64"
      ]
     },
     "execution_count": 23,
     "metadata": {},
     "output_type": "execute_result"
    }
   ],
   "source": [
    "(df_test['smishing'] * 10).astype(int).value_counts(sort=False)"
   ]
  },
  {
   "cell_type": "code",
   "execution_count": 24,
   "metadata": {
    "ExecuteTime": {
     "end_time": "2020-01-04T20:49:29.766905Z",
     "start_time": "2020-01-04T20:49:29.761550Z"
    }
   },
   "outputs": [
    {
     "data": {
      "text/plain": [
       "'20200105T050745'"
      ]
     },
     "execution_count": 24,
     "metadata": {},
     "output_type": "execute_result"
    }
   ],
   "source": [
    "model_ts"
   ]
  },
  {
   "cell_type": "code",
   "execution_count": 25,
   "metadata": {
    "ExecuteTime": {
     "end_time": "2020-01-04T20:49:29.779398Z",
     "start_time": "2020-01-04T20:49:29.768068Z"
    }
   },
   "outputs": [],
   "source": [
    "df_test['smishing'] = df_test['smishing']\n",
    "df_test[['smishing']].to_csv('submit/{}_lgb_no4.csv'.format(model_ts), index=True)\n"
   ]
  },
  {
   "cell_type": "code",
   "execution_count": 26,
   "metadata": {
    "ExecuteTime": {
     "end_time": "2020-01-04T20:49:29.781722Z",
     "start_time": "2020-01-04T20:49:29.780306Z"
    }
   },
   "outputs": [],
   "source": [
    "# df_test['smishing'] = df_test['pred_mean']\n",
    "# df_test[['smishing']].to_csv('submit/{}_lgb.csv'.format(model_ts), index=True)\n",
    "# # df_test[['id', 'smishing', 'text']].sort_values('smishing', ascending=False).to_csv('{}_text.csv'.format(model_ts), index=False)\n"
   ]
  },
  {
   "cell_type": "code",
   "execution_count": null,
   "metadata": {},
   "outputs": [],
   "source": []
  }
 ],
 "metadata": {
  "accelerator": "GPU",
  "colab": {
   "collapsed_sections": [],
   "name": "mecab_tfidf.ipynb",
   "provenance": []
  },
  "kernelspec": {
   "display_name": "Python 3",
   "language": "python",
   "name": "python3"
  },
  "language_info": {
   "codemirror_mode": {
    "name": "ipython",
    "version": 3
   },
   "file_extension": ".py",
   "mimetype": "text/x-python",
   "name": "python",
   "nbconvert_exporter": "python",
   "pygments_lexer": "ipython3",
   "version": "3.7.4"
  },
  "toc": {
   "base_numbering": 1,
   "nav_menu": {},
   "number_sections": true,
   "sideBar": true,
   "skip_h1_title": false,
   "title_cell": "Table of Contents",
   "title_sidebar": "Contents",
   "toc_cell": false,
   "toc_position": {
    "height": "calc(100% - 180px)",
    "left": "10px",
    "top": "150px",
    "width": "165px"
   },
   "toc_section_display": true,
   "toc_window_display": true
  }
 },
 "nbformat": 4,
 "nbformat_minor": 1
}
