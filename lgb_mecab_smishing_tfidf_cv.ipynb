{
 "cells": [
  {
   "cell_type": "code",
   "execution_count": null,
   "metadata": {
    "ExecuteTime": {
     "end_time": "2019-12-26T04:39:21.117252Z",
     "start_time": "2019-12-26T04:39:20.441218Z"
    },
    "colab": {
     "base_uri": "https://localhost:8080/",
     "height": 71
    },
    "colab_type": "code",
    "executionInfo": {
     "elapsed": 1590,
     "status": "ok",
     "timestamp": 1576286906380,
     "user": {
      "displayName": "주이클",
      "photoUrl": "https://lh3.googleusercontent.com/a-/AAuE7mCWVh4nvn9788qUddhoWTl5qQoYt0bzVMDlJWUumTg=s64",
      "userId": "02708070532256873610"
     },
     "user_tz": -540
    },
    "id": "U3xmRNtgpZwi",
    "outputId": "f6e95e03-5913-4a53-9ff3-1b6cde1b5a82"
   },
   "outputs": [],
   "source": [
    "#!/usr/bin/env python\n",
    "# coding: utf-8\n",
    "get_ipython().run_line_magic('matplotlib', 'inline')\n",
    "import pandas as pd\n",
    "import time\n",
    "import numpy as np\n",
    "from datetime import datetime\n",
    "from sklearn.externals import joblib \n",
    "import os\n",
    "from konlpy.tag import Mecab\n",
    "import lightgbm as lgb\n",
    "print(lgb.__version__)\n",
    "\n",
    "from sklearn import metrics"
   ]
  },
  {
   "cell_type": "code",
   "execution_count": null,
   "metadata": {
    "ExecuteTime": {
     "end_time": "2019-12-26T04:39:22.303765Z",
     "start_time": "2019-12-26T04:39:21.118331Z"
    }
   },
   "outputs": [],
   "source": [
    "print(os.getcwd())\n",
    "\n",
    "base_path = '.'\n",
    "\n",
    "df_train = pd.read_csv(os.path.join(base_path , 'input/train.csv'), index_col=0)\n",
    "df_test = pd.read_csv(os.path.join(base_path , 'input/public_test.csv'), index_col=0)\n",
    "df_test['smishing'] = -1\n",
    "\n",
    "df_fea = pd.concat([df_train, df_test])\n",
    "df_fea.shape"
   ]
  },
  {
   "cell_type": "markdown",
   "metadata": {},
   "source": [
    "### Mecab"
   ]
  },
  {
   "cell_type": "code",
   "execution_count": null,
   "metadata": {
    "ExecuteTime": {
     "end_time": "2019-12-26T04:39:22.305792Z",
     "start_time": "2019-12-26T04:39:22.304548Z"
    },
    "colab": {},
    "colab_type": "code",
    "id": "uquxguHUpZwt"
   },
   "outputs": [],
   "source": [
    "# mecab = Mecab()\n",
    "# # df_space['morphs'] = df_space['spacing'].apply(lambda x: mecab.morphs(x))\n",
    "# df_fea['nouns'] = df_fea['text'].apply(lambda x: mecab.nouns(x))\n",
    "\n",
    "# df_fea['nouns_str'] = df_fea['nouns'].apply(lambda x: ' '.join(x))"
   ]
  },
  {
   "cell_type": "code",
   "execution_count": null,
   "metadata": {
    "ExecuteTime": {
     "end_time": "2019-12-26T04:39:22.446514Z",
     "start_time": "2019-12-26T04:39:22.444882Z"
    }
   },
   "outputs": [],
   "source": [
    "# df_fea.to_pickle('df_fea.pkl')"
   ]
  },
  {
   "cell_type": "code",
   "execution_count": null,
   "metadata": {
    "ExecuteTime": {
     "end_time": "2019-12-26T04:39:25.082018Z",
     "start_time": "2019-12-26T04:39:22.760523Z"
    }
   },
   "outputs": [],
   "source": [
    "df_fea = pd.read_pickle('df_fea.pkl')"
   ]
  },
  {
   "cell_type": "markdown",
   "metadata": {},
   "source": [
    "### Count"
   ]
  },
  {
   "cell_type": "code",
   "execution_count": null,
   "metadata": {
    "ExecuteTime": {
     "end_time": "2019-12-26T04:39:39.652725Z",
     "start_time": "2019-12-26T04:39:33.635278Z"
    }
   },
   "outputs": [],
   "source": [
    "from sklearn.feature_extraction.text import CountVectorizer\n",
    "\n",
    "vectorizer = CountVectorizer(max_df=0.25, min_df=50)\n",
    "\n",
    "vectorizer = vectorizer.fit(df_fea[df_fea['smishing']==1]['nouns_str'].values)\n",
    "cnt_vec = vectorizer.transform(df_fea['nouns_str'].values).toarray()\n",
    "\n",
    "cnt_dict = {'cnt_{0:03d}'.format(i):'cnt_{0:03d}_{1}'.format(i, c) for i, c in enumerate(vectorizer.get_feature_names())}\n",
    "cnt_cols = sorted(cnt_dict.keys())\n",
    "\n",
    "df_cnt_vec = pd.DataFrame(cnt_vec, columns=cnt_cols, dtype=np.uint8)\n",
    "df_cnt_vec.shape"
   ]
  },
  {
   "cell_type": "code",
   "execution_count": null,
   "metadata": {
    "ExecuteTime": {
     "end_time": "2019-12-26T04:39:39.655213Z",
     "start_time": "2019-12-26T04:39:39.653809Z"
    }
   },
   "outputs": [],
   "source": [
    "# df_cnt_vec = df_cnt_vec.astype(np.int32)\n",
    "\n",
    "# vectorizer2 = CountVectorizer(analyzer='word', ngram_range=(2, 2))\n",
    "# X2 = vectorizer2.fit_transform(corpus)\n",
    "# print(vectorizer2.get_feature_names())"
   ]
  },
  {
   "cell_type": "markdown",
   "metadata": {},
   "source": [
    "### tfidf"
   ]
  },
  {
   "cell_type": "code",
   "execution_count": null,
   "metadata": {
    "ExecuteTime": {
     "end_time": "2019-12-26T04:39:45.480678Z",
     "start_time": "2019-12-26T04:39:39.656086Z"
    },
    "colab": {},
    "colab_type": "code",
    "id": "l2Dgkdt6pZw_"
   },
   "outputs": [],
   "source": [
    "from sklearn.feature_extraction.text import TfidfVectorizer\n",
    "\n",
    "tfidf_size = None\n",
    "stop_words = [\n",
    "#    '은행',\n",
    "#     '고객',\n",
    "#     '가능',\n",
    "#     '전화',\n",
    "#     '기간',\n",
    "#     '대출',\n",
    "#     '금리',\n",
    "#     '상담',\n",
    "#     '광고',\n",
    "#     '상품',\n",
    "#     '센터',\n",
    "]\n",
    "vectorizer = TfidfVectorizer(max_features=tfidf_size, \n",
    "                             stop_words=stop_words, \n",
    "                             mid_df=200)\n",
    "\n",
    "vectorizer = vectorizer.fit(df_fea[df_fea['smishing']==1]['nouns_str'].values)\n",
    "\n",
    "tfidf = vectorizer.transform(df_fea['nouns_str'].values).toarray()\n",
    "tfidf_dict = {'tfidf_{0:03d}'.format(v):'tfidf_{0:03d}_{1}'.format(v, k) for k, v in sorted(vectorizer.vocabulary_.items(), key=lambda item: item[1])}\n",
    "tfidf_cols = sorted(tfidf_dict.keys())\n",
    "\n",
    "df_tfidf = pd.DataFrame(tfidf, columns=tfidf_cols)"
   ]
  },
  {
   "cell_type": "markdown",
   "metadata": {},
   "source": [
    "### Merged"
   ]
  },
  {
   "cell_type": "code",
   "execution_count": null,
   "metadata": {
    "ExecuteTime": {
     "end_time": "2019-12-26T04:39:46.795812Z",
     "start_time": "2019-12-26T04:39:45.481619Z"
    },
    "colab": {
     "base_uri": "https://localhost:8080/",
     "height": 34
    },
    "colab_type": "code",
    "executionInfo": {
     "elapsed": 185503,
     "status": "ok",
     "timestamp": 1576287090605,
     "user": {
      "displayName": "주이클",
      "photoUrl": "https://lh3.googleusercontent.com/a-/AAuE7mCWVh4nvn9788qUddhoWTl5qQoYt0bzVMDlJWUumTg=s64",
      "userId": "02708070532256873610"
     },
     "user_tz": -540
    },
    "id": "4f9oWotspZxF",
    "outputId": "6e0f2830-c6ef-4e00-9b0b-19ea6751dad0",
    "scrolled": true
   },
   "outputs": [],
   "source": [
    "print(df_fea.shape, df_cnt_vec.shape, df_tfidf.shape)\n",
    "\n",
    "df_merged = pd.concat([df_fea.reset_index(), df_cnt_vec[cnt_cols], df_tfidf[tfidf_cols]], axis=1)\n",
    "print(df_merged.shape)\n",
    "# df_merged = pd.concat([df_merged, df_tfidf[tfidf_cols]], axis=1)\n",
    "# print(df_merged.shape)\n",
    "\n",
    "print(df_merged.info())\n",
    "df_merged.head(10)"
   ]
  },
  {
   "cell_type": "code",
   "execution_count": null,
   "metadata": {
    "ExecuteTime": {
     "end_time": "2019-12-26T04:39:52.726662Z",
     "start_time": "2019-12-26T04:39:52.724538Z"
    }
   },
   "outputs": [],
   "source": [
    "# df_merged.to_pickle('df_merged.pkl')"
   ]
  },
  {
   "cell_type": "code",
   "execution_count": null,
   "metadata": {
    "ExecuteTime": {
     "end_time": "2019-12-26T04:39:53.188521Z",
     "start_time": "2019-12-26T04:39:53.183520Z"
    },
    "colab": {
     "base_uri": "https://localhost:8080/",
     "height": 1000
    },
    "colab_type": "code",
    "executionInfo": {
     "elapsed": 185838,
     "status": "ok",
     "timestamp": 1576287091046,
     "user": {
      "displayName": "주이클",
      "photoUrl": "https://lh3.googleusercontent.com/a-/AAuE7mCWVh4nvn9788qUddhoWTl5qQoYt0bzVMDlJWUumTg=s64",
      "userId": "02708070532256873610"
     },
     "user_tz": -540
    },
    "id": "QOi9dYzqpZxV",
    "outputId": "9ceb7e20-059e-4946-934e-ab85c98dca56",
    "scrolled": true
   },
   "outputs": [],
   "source": [
    "train_size = len(df_train)\n",
    "print(train_size)\n",
    "\n",
    "cat_cols = []\n",
    "fea_cols = cnt_cols + tfidf_cols + cat_cols\n",
    "# fea_cols = cnt_cols + cat_cols\n",
    "# fea_cols = tfidf_cols + cat_cols\n",
    "len(fea_cols)"
   ]
  },
  {
   "cell_type": "markdown",
   "metadata": {},
   "source": [
    "### Model"
   ]
  },
  {
   "cell_type": "code",
   "execution_count": null,
   "metadata": {
    "ExecuteTime": {
     "end_time": "2019-12-26T04:39:55.980791Z",
     "start_time": "2019-12-26T04:39:55.974621Z"
    }
   },
   "outputs": [],
   "source": [
    "def eval_summary(y_true, y_score, cut_off=0.5):\n",
    "    y_pred = y_score.copy()\n",
    "    y_pred[y_pred > cut_off] = 1\n",
    "    y_pred[y_pred <= cut_off] = 0\n",
    "\n",
    "    eval_dict = {}\n",
    "    fpr, tpr, thresholds = metrics.roc_curve(y_true, y_score, pos_label=1)\n",
    "    \n",
    "    eval_dict['auc'] = metrics.auc(fpr, tpr)\n",
    "    eval_dict['confusion_matrix'] = metrics.confusion_matrix(y_true, y_pred)\n",
    "    \n",
    "    pre, rec, _, _ = metrics.precision_recall_fscore_support(y_true, y_pred, pos_label=1)\n",
    "    eval_dict['precision'] = pre[1]\n",
    "    eval_dict['recall'] = rec[1]\n",
    "    \n",
    "    return eval_dict"
   ]
  },
  {
   "cell_type": "code",
   "execution_count": null,
   "metadata": {
    "ExecuteTime": {
     "end_time": "2019-12-26T04:40:09.458114Z",
     "start_time": "2019-12-26T04:40:09.191102Z"
    },
    "colab": {
     "base_uri": "https://localhost:8080/",
     "height": 51
    },
    "colab_type": "code",
    "executionInfo": {
     "elapsed": 187149,
     "status": "ok",
     "timestamp": 1576287092380,
     "user": {
      "displayName": "주이클",
      "photoUrl": "https://lh3.googleusercontent.com/a-/AAuE7mCWVh4nvn9788qUddhoWTl5qQoYt0bzVMDlJWUumTg=s64",
      "userId": "02708070532256873610"
     },
     "user_tz": -540
    },
    "id": "LCEEOdJK4__q",
    "outputId": "24fb71a8-e639-43d1-b476-d617adfff1e7"
   },
   "outputs": [],
   "source": [
    "from sklearn.model_selection import train_test_split\n",
    "from sklearn.model_selection import StratifiedKFold\n",
    "\n",
    "lgb_ts = datetime.now().strftime('%Y%m%dT%H%M%S')\n",
    "\n",
    "initscore_filename = ''\n",
    "params = {\n",
    "    'boosting':'gbdt',\n",
    "#     'boosting':'dart',\n",
    "    'num_leaves': 15, \n",
    "    'objective': 'binary',\n",
    "    'metric':'auc',\n",
    "    'num_threads': -1,\n",
    "    'learning_rate': 0.01,\n",
    "#     'is_unbalance': True,\n",
    "    'scale_pos_weight':20,\n",
    "    'bagging_fraction':0.3,\n",
    "    'bagging_freq':10,\n",
    "    'feature_fraction':0.4,\n",
    "    'initscore_filename':initscore_filename,\n",
    "#     'lambda_l1':200,\n",
    "#     'lambda_l2':2000,\n",
    "    \n",
    "    'device_type':'gpu',\n",
    "    \n",
    "    \n",
    "}\n",
    "\n",
    "data_params = {\n",
    "    'max_bin':64,\n",
    "    'enable_bundle': False,\n",
    "    \n",
    "}\n",
    "num_round = 5000\n",
    "\n",
    "[df_test.drop(c, axis=1, inplace=True) for c in df_test.columns if 'smishing_' in c]\n",
    "\n",
    "df_test = df_merged.loc[train_size:]\n",
    "\n",
    "import gc\n",
    "gc.collect()"
   ]
  },
  {
   "cell_type": "code",
   "execution_count": null,
   "metadata": {
    "ExecuteTime": {
     "end_time": "2019-12-26T05:49:22.762437Z",
     "start_time": "2019-12-26T04:40:09.967361Z"
    },
    "colab": {
     "base_uri": "https://localhost:8080/",
     "height": 51
    },
    "colab_type": "code",
    "executionInfo": {
     "elapsed": 187149,
     "status": "ok",
     "timestamp": 1576287092380,
     "user": {
      "displayName": "주이클",
      "photoUrl": "https://lh3.googleusercontent.com/a-/AAuE7mCWVh4nvn9788qUddhoWTl5qQoYt0bzVMDlJWUumTg=s64",
      "userId": "02708070532256873610"
     },
     "user_tz": -540
    },
    "id": "LCEEOdJK4__q",
    "outputId": "24fb71a8-e639-43d1-b476-d617adfff1e7",
    "scrolled": true
   },
   "outputs": [],
   "source": [
    "# model_index, hidden_index = train_test_split(range(train_size),     \n",
    "#     test_size=0.1, random_state=1984)\n",
    "\n",
    "skf_g = StratifiedKFold(n_splits=11, random_state=1984)\n",
    "cnt_g = 0\n",
    "\n",
    "for model_index, hidden_index in skf_g.split(range(train_size), df_train['smishing'].values):\n",
    "    cnt_g = cnt_g + 1\n",
    "    df_model = df_merged.iloc[model_index]\n",
    "    df_hidden = df_merged.iloc[hidden_index]\n",
    "    print('model_set\\n', df_model['smishing'].value_counts())\n",
    "    print('hidden_set\\n', df_hidden['smishing'].value_counts())\n",
    "    \n",
    "    [df_model.drop(c, axis=1, inplace=True) for c in df_model.columns if 'smishing_' in c]\n",
    "    [df_hidden.drop(c, axis=1, inplace=True) for c in df_hidden.columns if 'smishing_' in c]\n",
    "\n",
    "\n",
    "    X = df_model[fea_cols].values\n",
    "    y = df_model['smishing'].values\n",
    "#     print(np.unique(y, return_counts=True))\n",
    "\n",
    "    X_hidden = df_hidden[fea_cols].values\n",
    "    y_hidden = df_hidden['smishing'].values\n",
    "#     print(np.unique(y_hidden, return_counts=True))\n",
    "\n",
    "    skf = StratifiedKFold(n_splits=10, random_state=8405)\n",
    "#     print(skf)\n",
    "    cnt = 0\n",
    "    train_data = lgb.Dataset(X, label=y, feature_name=fea_cols, categorical_feature=cat_cols, \n",
    "                             free_raw_data=False, params=data_params)\n",
    "\n",
    "    for train_index, valid_index in skf.split(X, y):\n",
    "        cnt = cnt + 1\n",
    "        print('\\n', cnt_g, '*' * 20, cnt, '*' * 20)\n",
    "\n",
    "        train_set = train_data.subset(train_index, params=data_params).construct()\n",
    "        valid_set = train_data.subset(valid_index, params=data_params).construct()\n",
    "        print('train_set', np.unique(train_set.get_label(), return_counts=True))\n",
    "        print('valid_set', np.unique(valid_set.get_label(), return_counts=True))\n",
    "        \n",
    "        bst = lgb.train(params, train_set, num_round, categorical_feature=cat_cols,\n",
    "                        early_stopping_rounds=300, \n",
    "                        valid_sets=[train_set, valid_set],\n",
    "                        verbose_eval=200,\n",
    "                        # init_model=init_model,\n",
    "                       )\n",
    "        \n",
    "        renamed_cols = [cnt_dict[c] if c in cnt_dict.keys() else c for c in fea_cols]\n",
    "        renamed_cols = [tfidf_dict[c] if c in tfidf_dict.keys() else c for c in renamed_cols]\n",
    "        impt_dict = {k:v for k, v in zip(renamed_cols, bst.feature_importance(importance_type='split'))}\n",
    "        print('split:', sorted(impt_dict.items(), key=(lambda x:x[1]), reverse=True)[:5])\n",
    "        \n",
    "        impt_dict = {k:v for k, v in zip(renamed_cols, bst.feature_importance(importance_type='gain'))}\n",
    "        print('gain:', sorted(impt_dict.items(), key=(lambda x:x[1]), reverse=True)[:5])\n",
    " \n",
    "        \n",
    "    #     for r in sorted(impt_dict.items(), key=(lambda x:x[1]), reverse=True):\n",
    "    #         print(r)\n",
    "    #         if r[1] < 1:\n",
    "    #             del_fea_cols.append(r[0])\n",
    "    #     print(del_fea_cols)\n",
    "    #     print(len(del_fea_cols))\n",
    "    #     lgb.plot_importance(bst, height=0.3, figsize=(20, 100), max_num_features=100)\n",
    "        df_model['smishing_{}_{}'.format(cnt_g, cnt)] = bst.predict(X)        \n",
    "        df_hidden['smishing_{}_{}'.format(cnt_g, cnt)] = bst.predict(X_hidden)        \n",
    "        df_test['smishing_{}_{}'.format(cnt_g, cnt)] = bst.predict(df_test[fea_cols].values)    \n",
    "        \n",
    "        print('model\\n', eval_summary(y, df_model['smishing_{}_{}'.format(cnt_g, cnt)].values, cut_off=0.5))\n",
    "        print('hidden\\n', eval_summary(y_hidden, df_hidden['smishing_{}_{}'.format(cnt_g, cnt)].values, cut_off=0.5))\n",
    "\n",
    "    # Predict 정리\n",
    "    y = df_hidden['smishing'].values\n",
    "    pred = df_hidden[[c for c in df_hidden.columns if 'smishing_' in c]].mean(axis=1)\n",
    "    \n",
    "    fpr, tpr, thresholds = metrics.roc_curve(y, pred, pos_label=1)\n",
    "    print('\\n', '#' * 10, cnt_g, 'auc:', metrics.auc(fpr, tpr))"
   ]
  },
  {
   "cell_type": "code",
   "execution_count": null,
   "metadata": {
    "ExecuteTime": {
     "end_time": "2019-12-26T05:52:31.024491Z",
     "start_time": "2019-12-26T05:52:31.008588Z"
    },
    "scrolled": true
   },
   "outputs": [],
   "source": [
    "pred_cols = [c for c in df_test.columns if 'smishing_' in c]\n",
    "print(len(pred_cols))\n",
    "df_test['pred_max'] = df_test[pred_cols].max(axis=1)\n",
    "df_test['pred_min'] = df_test[pred_cols].min(axis=1)\n",
    "df_test['pred_mean'] = df_test[pred_cols].mean(axis=1)\n",
    "df_test['pred_std'] = df_test[pred_cols].std(axis=1)"
   ]
  },
  {
   "cell_type": "code",
   "execution_count": null,
   "metadata": {
    "ExecuteTime": {
     "end_time": "2019-12-26T05:52:39.902183Z",
     "start_time": "2019-12-26T05:52:39.898211Z"
    }
   },
   "outputs": [],
   "source": [
    "df_test['pred_std'].max(), df_test['pred_std'].min()"
   ]
  },
  {
   "cell_type": "code",
   "execution_count": null,
   "metadata": {
    "ExecuteTime": {
     "end_time": "2019-12-26T05:52:46.809592Z",
     "start_time": "2019-12-26T05:52:46.608968Z"
    }
   },
   "outputs": [],
   "source": [
    "df_test['pred_mean'].hist(bins=100)"
   ]
  },
  {
   "cell_type": "code",
   "execution_count": null,
   "metadata": {
    "ExecuteTime": {
     "end_time": "2019-12-26T05:52:51.188553Z",
     "start_time": "2019-12-26T05:52:51.185298Z"
    }
   },
   "outputs": [],
   "source": [
    "lgb_ts"
   ]
  },
  {
   "cell_type": "code",
   "execution_count": null,
   "metadata": {
    "ExecuteTime": {
     "end_time": "2019-12-26T05:52:54.496068Z",
     "start_time": "2019-12-26T05:52:54.456891Z"
    }
   },
   "outputs": [],
   "source": [
    "df_test['smishing'] = df_test['pred_mean']\n",
    "df_test[['id', 'smishing']].to_csv('{}.csv'.format(lgb_ts), index=False)\n",
    "df_test[['id', 'smishing', 'text']].sort_values('smishing', ascending=False).to_csv('{}_text.csv'.format(lgb_ts), index=False)"
   ]
  },
  {
   "cell_type": "code",
   "execution_count": null,
   "metadata": {
    "ExecuteTime": {
     "end_time": "2019-12-25T08:13:24.967116Z",
     "start_time": "2019-12-25T08:12:06.430738Z"
    }
   },
   "outputs": [],
   "source": [
    "# eval_hist = lgb.cv(params, train_data, num_boost_round=num_round, nfold=20, stratified=True, shuffle=True, \n",
    "#        metrics=None, fobj=None, feval=None, init_model=None, feature_name='auto', categorical_feature='auto',\n",
    "#        early_stopping_rounds=500, fpreproc=None, verbose_eval=100, show_stdv=True, seed=0, callbacks=None,\n",
    "#        eval_train_metric=False)\n"
   ]
  },
  {
   "cell_type": "code",
   "execution_count": null,
   "metadata": {
    "ExecuteTime": {
     "end_time": "2019-12-25T07:41:51.005807Z",
     "start_time": "2019-12-25T07:39:53.383729Z"
    },
    "colab": {
     "base_uri": "https://localhost:8080/",
     "height": 1000
    },
    "colab_type": "code",
    "id": "DmPNoCIz7TfX",
    "outputId": "6e7f53bc-4dd2-40e2-86be-4b1c46825d0c"
   },
   "outputs": [],
   "source": [
    "# for train_index, valid_index in skf.split(X, y):\n",
    "#     cnt = cnt + 1\n",
    "#     print('\\n', '*' * 20, cnt, '*' * 20)\n",
    "    \n",
    "#     # init_bst_name = 'model.txt'\n",
    "#     # init_model = joblib.load(init_bst_name)\n",
    "#     # bst = None\n",
    "#     # init_model = bst\n",
    "#     train_set = train_data.subset(train_index).construct()\n",
    "#     valid_set = train_data.subset(valid_index).construct()\n",
    "#     print('train_set', np.unique(train_set.get_label(), return_counts=True))\n",
    "#     print('valid_set', np.unique(valid_set.get_label(), return_counts=True))\n",
    "#     bst = lgb.train(param, train_set, num_round, categorical_feature=cat_cols,\n",
    "#                     early_stopping_rounds=200, \n",
    "#                     valid_sets=[train_set, valid_set],\n",
    "#                     verbose_eval=200,\n",
    "#                     # init_model=init_model,\n",
    "#                    )\n",
    "#     impt_dict = {k:v for k, v in zip(fea_cols, bst.feature_importance())}\n",
    "#     del_fea_cols = []\n",
    "#     print(sorted(impt_dict.items(), key=(lambda x:x[1]), reverse=True)[:5])\n",
    "# #     for r in sorted(impt_dict.items(), key=(lambda x:x[1]), reverse=True):\n",
    "# #         print(r)\n",
    "# #         if r[1] < 1:\n",
    "# #             del_fea_cols.append(r[0])\n",
    "# #     print(del_fea_cols)\n",
    "# #     print(len(del_fea_cols))\n",
    "# #     lgb.plot_importance(bst, height=0.3, figsize=(20, 100), max_num_features=100)\n",
    "#     df_model['smishing_{}'.format(cnt)] = bst.predict(X)        \n",
    "#     df_hidden['smishing_{}'.format(cnt)] = bst.predict(X_hidden)        \n",
    "#     df_test['smishing_{}'.format(cnt)] = bst.predict(df_test[fea_cols].values)    "
   ]
  },
  {
   "cell_type": "code",
   "execution_count": null,
   "metadata": {
    "colab": {},
    "colab_type": "code",
    "id": "dtoNNPnG75fT"
   },
   "outputs": [],
   "source": []
  }
 ],
 "metadata": {
  "accelerator": "GPU",
  "colab": {
   "collapsed_sections": [],
   "name": "mecab_tfidf.ipynb",
   "provenance": []
  },
  "kernelspec": {
   "display_name": "Python 3",
   "language": "python",
   "name": "python3"
  },
  "language_info": {
   "codemirror_mode": {
    "name": "ipython",
    "version": 3
   },
   "file_extension": ".py",
   "mimetype": "text/x-python",
   "name": "python",
   "nbconvert_exporter": "python",
   "pygments_lexer": "ipython3",
   "version": "3.7.4"
  },
  "toc": {
   "base_numbering": 1,
   "nav_menu": {},
   "number_sections": true,
   "sideBar": true,
   "skip_h1_title": false,
   "title_cell": "Table of Contents",
   "title_sidebar": "Contents",
   "toc_cell": false,
   "toc_position": {
    "height": "calc(100% - 180px)",
    "left": "10px",
    "top": "150px",
    "width": "165px"
   },
   "toc_section_display": true,
   "toc_window_display": true
  }
 },
 "nbformat": 4,
 "nbformat_minor": 1
}
