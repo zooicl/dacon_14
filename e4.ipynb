{
 "cells": [
  {
   "cell_type": "code",
   "execution_count": 1,
   "metadata": {
    "ExecuteTime": {
     "end_time": "2020-01-03T20:10:39.511398Z",
     "start_time": "2020-01-03T20:10:38.121057Z"
    }
   },
   "outputs": [],
   "source": [
    "import pandas as pd\n",
    "from tools import eval_summary"
   ]
  },
  {
   "cell_type": "code",
   "execution_count": 3,
   "metadata": {
    "ExecuteTime": {
     "end_time": "2020-01-03T20:10:50.542739Z",
     "start_time": "2020-01-03T20:10:50.530056Z"
    }
   },
   "outputs": [],
   "source": [
    "df_rnn = pd.read_csv('submit/20200103T211839_smishing_3_nn.csv', index_col=0)"
   ]
  },
  {
   "cell_type": "code",
   "execution_count": 18,
   "metadata": {
    "ExecuteTime": {
     "end_time": "2020-01-03T20:15:21.445109Z",
     "start_time": "2020-01-03T20:15:21.431966Z"
    }
   },
   "outputs": [],
   "source": [
    "df_lgb = pd.read_csv('submit/20200104T040724.csv', index_col=0)"
   ]
  },
  {
   "cell_type": "code",
   "execution_count": 16,
   "metadata": {
    "ExecuteTime": {
     "end_time": "2020-01-03T20:14:30.948724Z",
     "start_time": "2020-01-03T20:14:30.942764Z"
    }
   },
   "outputs": [
    {
     "name": "stdout",
     "output_type": "stream",
     "text": [
      "[3.5308403e-05] [0.999998]\n"
     ]
    },
    {
     "data": {
      "text/plain": [
       "array([4.46955892e-04, 3.08666076e-03, 7.12384748e-05, ...,\n",
       "       1.49740054e-04, 2.04987687e-03, 2.50399432e-03])"
      ]
     },
     "execution_count": 16,
     "metadata": {},
     "output_type": "execute_result"
    }
   ],
   "source": [
    "from sklearn.preprocessing import MinMaxScaler\n",
    "scaler_rnn = MinMaxScaler()\n",
    "\n",
    "scaler_rnn = scaler_rnn.fit(df_rnn[['smishing']].values)\n",
    "print(scaler_rnn.data_min_, scaler_rnn.data_max_)\n",
    "\n",
    "score_rnn = scaler_rnn.transform(df_rnn[['smishing']].values).reshape(1,-1)[0]\n",
    "score_rnn"
   ]
  },
  {
   "cell_type": "code",
   "execution_count": 19,
   "metadata": {
    "ExecuteTime": {
     "end_time": "2020-01-03T20:15:23.007721Z",
     "start_time": "2020-01-03T20:15:23.001515Z"
    }
   },
   "outputs": [
    {
     "name": "stdout",
     "output_type": "stream",
     "text": [
      "[3.75730502e-08] [0.99998889]\n"
     ]
    },
    {
     "data": {
      "text/plain": [
       "array([1.66474034e-06, 1.23235789e-03, 1.39443589e-07, ...,\n",
       "       2.66519766e-07, 1.09369138e-04, 3.90671637e-04])"
      ]
     },
     "execution_count": 19,
     "metadata": {},
     "output_type": "execute_result"
    }
   ],
   "source": [
    "scaler_lgb = MinMaxScaler()\n",
    "scaler_lgb = scaler_lgb.fit(df_lgb[['smishing']].values)\n",
    "print(scaler_lgb.data_min_, scaler_lgb.data_max_)\n",
    "\n",
    "score_lgb = scaler_lgb.transform(df_lgb[['smishing']].values).reshape(1,-1)[0]\n",
    "score_lgb"
   ]
  },
  {
   "cell_type": "code",
   "execution_count": 20,
   "metadata": {
    "ExecuteTime": {
     "end_time": "2020-01-03T20:15:43.209474Z",
     "start_time": "2020-01-03T20:15:43.206929Z"
    },
    "scrolled": true
   },
   "outputs": [],
   "source": [
    "df_lgb['smishing'] = (score_rnn + score_lgb)  / 2"
   ]
  },
  {
   "cell_type": "code",
   "execution_count": 22,
   "metadata": {
    "ExecuteTime": {
     "end_time": "2020-01-03T20:15:50.916066Z",
     "start_time": "2020-01-03T20:15:50.909429Z"
    }
   },
   "outputs": [
    {
     "data": {
      "text/html": [
       "<div>\n",
       "<style scoped>\n",
       "    .dataframe tbody tr th:only-of-type {\n",
       "        vertical-align: middle;\n",
       "    }\n",
       "\n",
       "    .dataframe tbody tr th {\n",
       "        vertical-align: top;\n",
       "    }\n",
       "\n",
       "    .dataframe thead th {\n",
       "        text-align: right;\n",
       "    }\n",
       "</style>\n",
       "<table border=\"1\" class=\"dataframe\">\n",
       "  <thead>\n",
       "    <tr style=\"text-align: right;\">\n",
       "      <th></th>\n",
       "      <th>smishing</th>\n",
       "    </tr>\n",
       "    <tr>\n",
       "      <th>id</th>\n",
       "      <th></th>\n",
       "    </tr>\n",
       "  </thead>\n",
       "  <tbody>\n",
       "    <tr>\n",
       "      <td>340000</td>\n",
       "      <td>0.000224</td>\n",
       "    </tr>\n",
       "    <tr>\n",
       "      <td>340001</td>\n",
       "      <td>0.002160</td>\n",
       "    </tr>\n",
       "    <tr>\n",
       "      <td>340002</td>\n",
       "      <td>0.000036</td>\n",
       "    </tr>\n",
       "    <tr>\n",
       "      <td>340003</td>\n",
       "      <td>0.000072</td>\n",
       "    </tr>\n",
       "    <tr>\n",
       "      <td>340004</td>\n",
       "      <td>0.000048</td>\n",
       "    </tr>\n",
       "    <tr>\n",
       "      <td>...</td>\n",
       "      <td>...</td>\n",
       "    </tr>\n",
       "    <tr>\n",
       "      <td>341621</td>\n",
       "      <td>0.000038</td>\n",
       "    </tr>\n",
       "    <tr>\n",
       "      <td>341622</td>\n",
       "      <td>0.000080</td>\n",
       "    </tr>\n",
       "    <tr>\n",
       "      <td>341623</td>\n",
       "      <td>0.000075</td>\n",
       "    </tr>\n",
       "    <tr>\n",
       "      <td>341624</td>\n",
       "      <td>0.001080</td>\n",
       "    </tr>\n",
       "    <tr>\n",
       "      <td>341625</td>\n",
       "      <td>0.001447</td>\n",
       "    </tr>\n",
       "  </tbody>\n",
       "</table>\n",
       "<p>1626 rows × 1 columns</p>\n",
       "</div>"
      ],
      "text/plain": [
       "        smishing\n",
       "id              \n",
       "340000  0.000224\n",
       "340001  0.002160\n",
       "340002  0.000036\n",
       "340003  0.000072\n",
       "340004  0.000048\n",
       "...          ...\n",
       "341621  0.000038\n",
       "341622  0.000080\n",
       "341623  0.000075\n",
       "341624  0.001080\n",
       "341625  0.001447\n",
       "\n",
       "[1626 rows x 1 columns]"
      ]
     },
     "execution_count": 22,
     "metadata": {},
     "output_type": "execute_result"
    }
   ],
   "source": [
    "df_lgb"
   ]
  },
  {
   "cell_type": "code",
   "execution_count": 23,
   "metadata": {
    "ExecuteTime": {
     "end_time": "2020-01-03T20:16:06.141425Z",
     "start_time": "2020-01-03T20:16:06.134233Z"
    }
   },
   "outputs": [],
   "source": [
    "df_lgb[['smishing']].to_csv('submit/e4.csv')"
   ]
  },
  {
   "cell_type": "code",
   "execution_count": null,
   "metadata": {},
   "outputs": [],
   "source": []
  }
 ],
 "metadata": {
  "kernelspec": {
   "display_name": "Python 3",
   "language": "python",
   "name": "python3"
  },
  "language_info": {
   "codemirror_mode": {
    "name": "ipython",
    "version": 3
   },
   "file_extension": ".py",
   "mimetype": "text/x-python",
   "name": "python",
   "nbconvert_exporter": "python",
   "pygments_lexer": "ipython3",
   "version": "3.7.4"
  },
  "toc": {
   "base_numbering": 1,
   "nav_menu": {},
   "number_sections": true,
   "sideBar": true,
   "skip_h1_title": false,
   "title_cell": "Table of Contents",
   "title_sidebar": "Contents",
   "toc_cell": false,
   "toc_position": {},
   "toc_section_display": true,
   "toc_window_display": false
  }
 },
 "nbformat": 4,
 "nbformat_minor": 2
}
