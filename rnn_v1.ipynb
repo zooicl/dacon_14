{
 "cells": [
  {
   "cell_type": "code",
   "execution_count": 1,
   "metadata": {
    "ExecuteTime": {
     "end_time": "2019-12-31T16:28:37.670758Z",
     "start_time": "2019-12-31T16:28:36.881713Z"
    },
    "colab": {
     "base_uri": "https://localhost:8080/",
     "height": 71
    },
    "colab_type": "code",
    "executionInfo": {
     "elapsed": 1590,
     "status": "ok",
     "timestamp": 1576286906380,
     "user": {
      "displayName": "주이클",
      "photoUrl": "https://lh3.googleusercontent.com/a-/AAuE7mCWVh4nvn9788qUddhoWTl5qQoYt0bzVMDlJWUumTg=s64",
      "userId": "02708070532256873610"
     },
     "user_tz": -540
    },
    "id": "U3xmRNtgpZwi",
    "outputId": "f6e95e03-5913-4a53-9ff3-1b6cde1b5a82"
   },
   "outputs": [
    {
     "name": "stderr",
     "output_type": "stream",
     "text": [
      "/home/aiden/anaconda3/lib/python3.7/site-packages/sklearn/externals/joblib/__init__.py:15: DeprecationWarning: sklearn.externals.joblib is deprecated in 0.21 and will be removed in 0.23. Please import this functionality directly from joblib, which can be installed with: pip install joblib. If this warning is raised when loading pickled models, you may need to re-serialize those models with scikit-learn 0.21+.\n",
      "  warnings.warn(msg, category=DeprecationWarning)\n"
     ]
    },
    {
     "name": "stdout",
     "output_type": "stream",
     "text": [
      "2.3.2\n",
      "1.3.1\n",
      "GeForce RTX 2070 SUPER\n",
      "True\n"
     ]
    },
    {
     "data": {
      "text/plain": [
       "(device(type='cuda', index=0), 8)"
      ]
     },
     "execution_count": 1,
     "metadata": {},
     "output_type": "execute_result"
    }
   ],
   "source": [
    "#!/usr/bin/env python\n",
    "# coding: utf-8\n",
    "get_ipython().run_line_magic('matplotlib', 'inline')\n",
    "import pandas as pd\n",
    "import time\n",
    "import numpy as np\n",
    "from datetime import datetime\n",
    "from sklearn.externals import joblib \n",
    "import os\n",
    "from konlpy.tag import Mecab\n",
    "import lightgbm as lgb\n",
    "print(lgb.__version__)\n",
    "\n",
    "from sklearn import metrics\n",
    "from sklearn.preprocessing import MinMaxScaler\n",
    "from sklearn.externals import joblib \n",
    "from sklearn.model_selection import StratifiedKFold\n",
    "\n",
    "import gc\n",
    "\n",
    "from tqdm import tqdm_notebook\n",
    "\n",
    "import warnings\n",
    "warnings.filterwarnings(action='ignore')\n",
    "\n",
    "\n",
    "import torch\n",
    "print(torch.__version__)\n",
    "import torch.nn.functional as F\n",
    "from torch.utils.data import Dataset, DataLoader\n",
    "\n",
    "\n",
    "from torchsummary import summary\n",
    "\n",
    "print(torch.cuda.get_device_name(0))\n",
    "print(torch.cuda.is_available())\n",
    "\n",
    "device = torch.device(\"cuda:0\" if torch.cuda.is_available() else \"cpu\")\n",
    "# device = torch.device('cpu')\n",
    "device, torch.get_num_threads()"
   ]
  },
  {
   "cell_type": "markdown",
   "metadata": {},
   "source": [
    "#### Model"
   ]
  },
  {
   "cell_type": "code",
   "execution_count": 2,
   "metadata": {
    "ExecuteTime": {
     "end_time": "2019-12-31T16:28:37.677911Z",
     "start_time": "2019-12-31T16:28:37.671747Z"
    }
   },
   "outputs": [],
   "source": [
    "class RNNModel(torch.nn.Module):\n",
    "    def __init__(self, input_size, embed_size, hidden_size, num_layers):\n",
    "        super(RNNModel,self).__init__()\n",
    "        \n",
    "        self.hidden_size = hidden_size\n",
    "        self.num_layers = num_layers\n",
    "        \n",
    "        self.embed = torch.nn.Embedding(input_size, embed_size)\n",
    "        self.lstm = torch.nn.LSTM(embed_size,\n",
    "                    hidden_size,\n",
    "                    num_layers,\n",
    "                    batch_first=True,\n",
    "                    bidirectional=False)\n",
    "        self.linear = torch.nn.Linear(hidden_size, 64)\n",
    "        self.linear64 = torch.nn.Linear(64, 2)\n",
    "        \n",
    "        self.relu = torch.nn.ReLU()\n",
    "        self.dropout = torch.nn.Dropout(p=0.7)\n",
    "\n",
    "    def init_hidden(self, batch_size):\n",
    "        # (num_layers * num_directions, input_size, hidden_size)\n",
    "        hidden = Variable(torch.zeros(self.num_layers, batch_size, self.hidden_size)).to(device)\n",
    "        cell = Variable(torch.zeros(self.num_layers, batch_size, self.hidden_size)).to(device)\n",
    "        return hidden, cell\n",
    "\n",
    "        \n",
    "    def forward(self, x):   \n",
    "        embed = self.embed(x)\n",
    "        \n",
    "        hidden, cell = self.init_hidden(embed.size(0)) # initial hidden,cell\n",
    "        output, (hidden, cell) = self.lstm(embed, (hidden, cell))\n",
    "        \n",
    "        hidden = hidden[-1:]\n",
    "        hidden = torch.cat([h for h in hidden], 1)\n",
    "        output = self.linear(hidden)\n",
    "        output = self.relu(output)\n",
    "        output = self.dropout(output)\n",
    "        output = self.linear64(output)\n",
    "        return output"
   ]
  },
  {
   "cell_type": "markdown",
   "metadata": {},
   "source": [
    "#### Dataset"
   ]
  },
  {
   "cell_type": "code",
   "execution_count": 4,
   "metadata": {
    "ExecuteTime": {
     "end_time": "2019-12-31T16:28:37.702647Z",
     "start_time": "2019-12-31T16:28:37.695742Z"
    }
   },
   "outputs": [],
   "source": [
    "# X = np.stack(df_model[:5000][fea_cols].values)\n",
    "\n",
    "# embed = torch.nn.Embedding(input_size, 128).to(device)\n",
    "# temp = torch.Tensor(X).long().to(device)\n",
    "# X_embed = embed(temp)\n",
    "\n",
    "# X_embed\n",
    "\n",
    "class RNNDataset(Dataset):\n",
    "    def __init__(self, df, y_col, col='text_idx'):\n",
    "        self.col = col\n",
    "        self.X = np.stack(df[self.col].values)\n",
    "        self.y = pd.get_dummies(df[y_col].astype(int), prefix=y_col).values\n",
    "        \n",
    "#         self.embed = torch.nn.Embedding(input_size, embed_size)\n",
    "        \n",
    "    def __len__(self):\n",
    "        return len(self.X)\n",
    "    \n",
    "    def get_feature_names(self):\n",
    "        return [self.col]\n",
    "\n",
    "    def __getitem__(self, idx):\n",
    "        return self.X[idx].astype(np.int64), self.y[idx].astype(np.float32)\n",
    "#         x = self.X[idx].astype(np.int64)\n",
    "#         x = self.embed(torch.Tensor(x).long()).detach().numpy()\n",
    "#         return x, self.y[idx].astype(np.float32)"
   ]
  },
  {
   "cell_type": "markdown",
   "metadata": {},
   "source": [
    "#### eval_summary"
   ]
  },
  {
   "cell_type": "code",
   "execution_count": 5,
   "metadata": {
    "ExecuteTime": {
     "end_time": "2019-12-31T16:28:37.710581Z",
     "start_time": "2019-12-31T16:28:37.703487Z"
    }
   },
   "outputs": [],
   "source": [
    "def eval_summary(y_true, y_score, cut_off=0.5):\n",
    "    if len(y_true) == 0 or len(y_score) == 0:\n",
    "        return 'zero length'\n",
    "    if len(y_true) != len(y_score):\n",
    "        return 'diff length'\n",
    "    \n",
    "    y_pred = y_score.copy()\n",
    "    y_pred[y_pred > cut_off] = 1\n",
    "    y_pred[y_pred <= cut_off] = 0\n",
    "\n",
    "    eval_dict = {}\n",
    "    fpr, tpr, thresholds = metrics.roc_curve(y_true, y_score, pos_label=1)\n",
    "    \n",
    "    eval_dict['auc'] = metrics.auc(fpr, tpr)\n",
    "    eval_dict['confusion_matrix'] = metrics.confusion_matrix(y_true, y_pred)\n",
    "    \n",
    "    pre, rec, _, _ = metrics.precision_recall_fscore_support(y_true, y_pred, pos_label=1)\n",
    "    eval_dict['precision'] = pre[1]\n",
    "    eval_dict['recall'] = rec[1]\n",
    "    \n",
    "    return eval_dict"
   ]
  },
  {
   "cell_type": "markdown",
   "metadata": {},
   "source": [
    "#### train/test_torch"
   ]
  },
  {
   "cell_type": "code",
   "execution_count": 6,
   "metadata": {
    "ExecuteTime": {
     "end_time": "2019-12-31T16:28:37.726393Z",
     "start_time": "2019-12-31T16:28:37.711564Z"
    }
   },
   "outputs": [],
   "source": [
    "from torch.utils.data import DataLoader\n",
    "step = 64\n",
    "num_workers = 8\n",
    "\n",
    "\n",
    "def train_torch(dataset):\n",
    "    model.train()\n",
    "    loss = 0\n",
    "    acc = 0\n",
    "    data_loader = DataLoader(dataset=dataset,\n",
    "#                           batch_size=100000,\n",
    "#                         batch_size=int(train_size * 0.7),\n",
    "                          batch_size=len(dataset) // step,\n",
    "#                           batch_size=10000,\n",
    "                          shuffle=True,\n",
    "                          num_workers=num_workers,\n",
    "                         drop_last=True\n",
    "                         )\n",
    "    for i, data in enumerate(data_loader):\n",
    "#     for i, data in tqdm_notebook(enumerate(data_loader), total=len(data_loader), desc = 'data_loader'):\n",
    "        X_batch, y_batch = data\n",
    "    \n",
    "        \n",
    "        X_batch = X_batch.to(device)\n",
    "        y_batch = y_batch.to(device)\n",
    "        \n",
    "        y_pred = model(X_batch)\n",
    "        \n",
    "        loss = criterion(y_pred, y_batch)\n",
    "        \n",
    "        loss += loss.item()\n",
    "        \n",
    "        optimizer.zero_grad()\n",
    "        loss.backward()\n",
    "        optimizer.step()\n",
    "        acc += (y_pred.argmax(1) == y_batch.argmax(1)).sum().item()\n",
    "        \n",
    "        del X_batch, y_batch, y_pred\n",
    "        gc.collect()\n",
    "\n",
    "    return loss / len(dataset), acc / len(dataset)\n",
    "\n",
    "\n",
    "def test_torch(dataset):\n",
    "    model.eval()\n",
    "    loss = 0\n",
    "    acc = 0\n",
    "    \n",
    "    data_loader = DataLoader(dataset=dataset,\n",
    "                          batch_size=len(dataset) // step,\n",
    "                          shuffle=False,\n",
    "                          num_workers=num_workers,\n",
    "                          drop_last=True\n",
    "                         ) \n",
    "    \n",
    "    for i, data in enumerate(data_loader):\n",
    "        X_batch, y_batch = data\n",
    "        \n",
    "        X_batch = X_batch.to(device)\n",
    "        y_batch = y_batch.to(device)\n",
    "\n",
    "        with torch.no_grad():\n",
    "            y_pred = model(X_batch)\n",
    "            loss = criterion(y_pred, y_batch)\n",
    "            loss += loss.item()\n",
    "            acc += (y_pred.argmax(1) == y_batch.argmax(1)).sum().item()\n",
    "            \n",
    "            y_pred = torch.sigmoid(y_pred)\n",
    "            \n",
    "            del X_batch, y_batch, y_pred\n",
    "            \n",
    "    return loss / len(dataset), acc / len(dataset)\n",
    "\n",
    "\n",
    "def pred_torch(dataset):\n",
    "    model.eval()\n",
    "    loss = 0\n",
    "    acc = 0\n",
    "    \n",
    "    y_true_list = []\n",
    "    y_score_list = []\n",
    "\n",
    "    data_loader = DataLoader(dataset=dataset,\n",
    "                          batch_size=len(dataset) // step,\n",
    "                          shuffle=False,\n",
    "                          num_workers=1,\n",
    "                          drop_last=True\n",
    "                         ) \n",
    "    \n",
    "    for i, data in enumerate(data_loader):\n",
    "        X_batch, y_batch = data\n",
    "        \n",
    "        X_batch = X_batch.to(device)\n",
    "        y_batch = y_batch.to(device)\n",
    "        \n",
    "        y_true = y_batch\n",
    "        y_true_list.append(y_true[:, 1].cpu().detach().numpy())\n",
    "\n",
    "        with torch.no_grad():\n",
    "            y_pred = model(X_batch)\n",
    "            loss = criterion(y_pred, y_batch)\n",
    "            loss += loss.item()\n",
    "            acc += (y_pred.argmax(1) == y_batch.argmax(1)).sum().item()\n",
    "            \n",
    "            y_pred = torch.sigmoid(y_pred)\n",
    "            y_score_list.append(y_pred[:, 1].cpu().detach().numpy())\n",
    "            \n",
    "            del X_batch, y_batch, y_true, y_pred\n",
    "            \n",
    "    return loss / len(dataset), acc / len(dataset), np.concatenate(y_true_list, axis=0), np.concatenate(y_score_list, axis=0)\n"
   ]
  },
  {
   "cell_type": "markdown",
   "metadata": {},
   "source": [
    "#### Load Data"
   ]
  },
  {
   "cell_type": "code",
   "execution_count": 7,
   "metadata": {
    "ExecuteTime": {
     "end_time": "2019-12-31T16:28:40.470072Z",
     "start_time": "2019-12-31T16:28:37.727630Z"
    }
   },
   "outputs": [
    {
     "name": "stdout",
     "output_type": "stream",
     "text": [
      "model_set\n",
      " 0    277242\n",
      "1     18703\n",
      "Name: smishing, dtype: int64\n"
     ]
    },
    {
     "data": {
      "text/plain": [
       "24161"
      ]
     },
     "execution_count": 7,
     "metadata": {},
     "output_type": "execute_result"
    }
   ],
   "source": [
    "merged_ts = '20200101T002838_100_24161'\n",
    "train_path = 'data/df_merged_{}_train.pkl'.format(merged_ts)\n",
    "test_path = 'data/df_merged_{}_test.pkl'.format(merged_ts)\n",
    "\n",
    "df_model = joblib.load(train_path)  \n",
    "df_model = df_model.reset_index()\n",
    "print('model_set\\n', df_model['smishing'].value_counts())\n",
    "df_test = joblib.load(test_path) \n",
    "\n",
    "idx_cols = ['smishing', 'id', 'index']\n",
    "fea_cols = 'nouns_{}_idx'.format(merged_ts.split('_')[1])\n",
    "input_size = int(merged_ts.split('_')[-1])\n",
    "input_size"
   ]
  },
  {
   "cell_type": "code",
   "execution_count": 8,
   "metadata": {
    "ExecuteTime": {
     "end_time": "2019-12-31T16:28:40.489438Z",
     "start_time": "2019-12-31T16:28:40.471477Z"
    }
   },
   "outputs": [
    {
     "name": "stdout",
     "output_type": "stream",
     "text": [
      "<class 'pandas.core.frame.DataFrame'>\n",
      "RangeIndex: 295945 entries, 0 to 295944\n",
      "Data columns (total 3 columns):\n",
      "id               295945 non-null int64\n",
      "nouns_100_idx    295945 non-null object\n",
      "smishing         295945 non-null int64\n",
      "dtypes: int64(2), object(1)\n",
      "memory usage: 6.8+ MB\n"
     ]
    }
   ],
   "source": [
    "df_model.info()"
   ]
  },
  {
   "cell_type": "code",
   "execution_count": 9,
   "metadata": {
    "ExecuteTime": {
     "end_time": "2019-12-31T16:28:41.848110Z",
     "start_time": "2019-12-31T16:28:40.491447Z"
    }
   },
   "outputs": [],
   "source": [
    "x_test = torch.Tensor(np.stack(df_test[fea_cols].values)).long().to(device)"
   ]
  },
  {
   "cell_type": "code",
   "execution_count": 10,
   "metadata": {
    "ExecuteTime": {
     "end_time": "2019-12-31T16:28:41.850245Z",
     "start_time": "2019-12-31T16:28:41.848924Z"
    }
   },
   "outputs": [],
   "source": [
    "# X = np.stack(df_model[:5000][fea_cols].values)\n",
    "\n",
    "# len(X[0])\n",
    "\n",
    "# temp = torch.Tensor(X).long().to(device)\n",
    "\n",
    "# temp\n",
    "\n",
    "# embed = torch.nn.Embedding(input_size, 128).to(device)\n",
    "# X_embed = embed(temp)\n",
    "\n",
    "# X_embed"
   ]
  },
  {
   "cell_type": "markdown",
   "metadata": {},
   "source": [
    "#### Training"
   ]
  },
  {
   "cell_type": "code",
   "execution_count": 11,
   "metadata": {
    "ExecuteTime": {
     "end_time": "2019-12-31T16:28:41.861547Z",
     "start_time": "2019-12-31T16:28:41.850933Z"
    }
   },
   "outputs": [],
   "source": [
    "from torchtools import EarlyStopping"
   ]
  },
  {
   "cell_type": "code",
   "execution_count": 12,
   "metadata": {
    "ExecuteTime": {
     "end_time": "2019-12-31T17:12:11.274465Z",
     "start_time": "2019-12-31T16:28:41.862743Z"
    },
    "scrolled": false
   },
   "outputs": [
    {
     "name": "stdout",
     "output_type": "stream",
     "text": [
      "197296 98649\n",
      "\n",
      "CV 0\n",
      "RNNModel(\n",
      "  (embed): Embedding(24161, 256)\n",
      "  (lstm): LSTM(256, 128, num_layers=2, batch_first=True)\n",
      "  (linear): Linear(in_features=128, out_features=64, bias=True)\n",
      "  (linear64): Linear(in_features=64, out_features=2, bias=True)\n",
      "  (relu): ReLU()\n",
      "  (dropout): Dropout(p=0.7, inplace=False)\n",
      ")\n",
      "20200101T012844\n",
      "Epoch: 1\n"
     ]
    },
    {
     "data": {
      "application/vnd.jupyter.widget-view+json": {
       "model_id": "34399cc448e74893b299e64db9e8814d",
       "version_major": 2,
       "version_minor": 0
      },
      "text/plain": [
       "HBox(children=(IntProgress(value=0, description='CV 0 Epoch', max=50, style=ProgressStyle(description_width='i…"
      ]
     },
     "metadata": {},
     "output_type": "display_data"
    },
    {
     "name": "stdout",
     "output_type": "stream",
     "text": [
      "CV 0 Epoch 1\n",
      "\tTrain loss: 0.0278672743588686\tValid loss: 0.23335766792297363\t0.11941871792078018\n",
      "Validation loss decreased (inf --> 0.233358).  Saving model ...\n",
      "\t {'auc': 0.9952483585121591, 'confusion_matrix': array([[90596,  1818],\n",
      "       [  245,  5965]]), 'precision': 0.7664139791854041, 'recall': 0.9605475040257649}\n",
      "CV 0 Epoch 2\n",
      "\tTrain loss: 0.00479491613805294\tValid loss: 0.013228232972323895\t0.3624759316444397\n",
      "Validation loss decreased (0.233358 --> 0.013228).  Saving model ...\n",
      "CV 0 Epoch 3\n",
      "\tTrain loss: 0.002613573567941785\tValid loss: 0.013067252933979034\t0.20000940561294556\n",
      "Validation loss decreased (0.013228 --> 0.013067).  Saving model ...\n",
      "CV 0 Epoch 4\n",
      "\tTrain loss: 0.002473504049703479\tValid loss: 0.0028259081300348043\t0.8752952814102173\n",
      "Validation loss decreased (0.013067 --> 0.002826).  Saving model ...\n",
      "CV 0 Epoch 5\n",
      "\tTrain loss: 0.0006033224053680897\tValid loss: 0.0029189852066338062\t0.20668908953666687\n",
      "EarlyStopping counter: 1 out of 20\n",
      "CV 0 Epoch 6\n",
      "\tTrain loss: 0.0005737822502851486\tValid loss: 0.003203323343768716\t0.17912092804908752\n",
      "EarlyStopping counter: 2 out of 20\n",
      "CV 0 Epoch 7\n",
      "\tTrain loss: 0.00035671336809173226\tValid loss: 0.0030272307340055704\t0.11783488094806671\n",
      "EarlyStopping counter: 3 out of 20\n",
      "CV 0 Epoch 8\n",
      "\tTrain loss: 0.00040236706263385713\tValid loss: 0.003678833832964301\t0.1093735322356224\n",
      "EarlyStopping counter: 4 out of 20\n",
      "CV 0 Epoch 9\n",
      "\tTrain loss: 0.0032137224916368723\tValid loss: 0.0039803506806492805\t0.8073968291282654\n",
      "EarlyStopping counter: 5 out of 20\n",
      "CV 0 Epoch 10\n",
      "\tTrain loss: 0.0003834954113699496\tValid loss: 0.0035367191303521395\t0.10843253135681152\n",
      "EarlyStopping counter: 6 out of 20\n",
      "CV 0 Epoch 11\n",
      "\tTrain loss: 0.0003450879594311118\tValid loss: 0.004150481894612312\t0.08314406871795654\n",
      "EarlyStopping counter: 7 out of 20\n",
      "CV 0 Epoch 12\n",
      "\tTrain loss: 0.000189426020369865\tValid loss: 0.005435121711343527\t0.03485221415758133\n",
      "EarlyStopping counter: 8 out of 20\n",
      "CV 0 Epoch 13\n",
      "\tTrain loss: 0.0003160230990033597\tValid loss: 0.004509310238063335\t0.07008235901594162\n",
      "EarlyStopping counter: 9 out of 20\n",
      "CV 0 Epoch 14\n",
      "\tTrain loss: 0.0001553211477585137\tValid loss: 0.004223457537591457\t0.036775827407836914\n",
      "EarlyStopping counter: 10 out of 20\n",
      "CV 0 Epoch 15\n",
      "\tTrain loss: 0.00011822630767710507\tValid loss: 0.004588673356920481\t0.025764811784029007\n",
      "EarlyStopping counter: 11 out of 20\n",
      "CV 0 Epoch 16\n",
      "\tTrain loss: 8.937589882407337e-05\tValid loss: 0.004711175803095102\t0.018971038982272148\n",
      "EarlyStopping counter: 12 out of 20\n",
      "CV 0 Epoch 17\n",
      "\tTrain loss: 0.00011243416520301253\tValid loss: 0.004831243772059679\t0.023272302001714706\n",
      "EarlyStopping counter: 13 out of 20\n",
      "CV 0 Epoch 18\n",
      "\tTrain loss: 0.00026400061324238777\tValid loss: 0.004923854488879442\t0.053616657853126526\n",
      "EarlyStopping counter: 14 out of 20\n",
      "CV 0 Epoch 19\n",
      "\tTrain loss: 7.968636782607064e-05\tValid loss: 0.0049405465833842754\t0.016129059717059135\n",
      "EarlyStopping counter: 15 out of 20\n",
      "CV 0 Epoch 20\n",
      "\tTrain loss: 6.61182202748023e-05\tValid loss: 0.005002074409276247\t0.013218159787356853\n",
      "EarlyStopping counter: 16 out of 20\n",
      "CV 0 Epoch 21\n",
      "\tTrain loss: 9.18344667297788e-05\tValid loss: 0.005093155894428492\t0.018030954524874687\n",
      "EarlyStopping counter: 17 out of 20\n",
      "CV 0 Epoch 22\n",
      "\tTrain loss: 7.260339771164581e-05\tValid loss: 0.005102717317640781\t0.014228379353880882\n",
      "EarlyStopping counter: 18 out of 20\n",
      "CV 0 Epoch 23\n",
      "\tTrain loss: 0.0001591864856891334\tValid loss: 0.005131900310516357\t0.03101901337504387\n",
      "EarlyStopping counter: 19 out of 20\n",
      "CV 0 Epoch 24\n",
      "\tTrain loss: 7.907457620603964e-05\tValid loss: 0.005131785292178392\t0.015408785082399845\n",
      "EarlyStopping counter: 20 out of 20\n",
      "\tEarly stopping epoch 24, valid loss 0.005131785292178392\n",
      "\t {'auc': 0.9997885983354258, 'confusion_matrix': array([[92287,   127],\n",
      "       [   31,  6179]]), 'precision': 0.979860450364732, 'recall': 0.9950080515297907}\n",
      "END CV 0 eval summary (train)\n",
      " {'auc': 0.999828792554276, 'confusion_matrix': array([[184574,    221],\n",
      "       [    19,  12434]]), 'precision': 0.9825365468194389, 'recall': 0.9984742632297439}\n",
      "197297 98648\n",
      "\n",
      "CV 1\n",
      "20200101T013933\n",
      "Epoch: 1\n"
     ]
    },
    {
     "data": {
      "application/vnd.jupyter.widget-view+json": {
       "model_id": "c7b424aa5f244423a013be7aff055e9e",
       "version_major": 2,
       "version_minor": 0
      },
      "text/plain": [
       "HBox(children=(IntProgress(value=0, description='CV 1 Epoch', max=50, style=ProgressStyle(description_width='i…"
      ]
     },
     "metadata": {},
     "output_type": "display_data"
    },
    {
     "name": "stdout",
     "output_type": "stream",
     "text": [
      "CV 1 Epoch 1\n",
      "\tTrain loss: 0.019042346626520157\tValid loss: 0.14439861476421356\t0.1318734735250473\n",
      "Validation loss decreased (inf --> 0.144399).  Saving model ...\n",
      "\t {'auc': 0.9877564542141056, 'confusion_matrix': array([[85811,  6603],\n",
      "       [   78,  6132]]), 'precision': 0.48150765606595997, 'recall': 0.9874396135265701}\n",
      "CV 1 Epoch 2\n",
      "\tTrain loss: 0.004971635062247515\tValid loss: 0.01519655529409647\t0.32715538144111633\n",
      "Validation loss decreased (0.144399 --> 0.015197).  Saving model ...\n",
      "CV 1 Epoch 3\n",
      "\tTrain loss: 0.0020300631877034903\tValid loss: 0.006386818829923868\t0.3178520202636719\n",
      "Validation loss decreased (0.015197 --> 0.006387).  Saving model ...\n",
      "CV 1 Epoch 4\n",
      "\tTrain loss: 0.0011337576434016228\tValid loss: 0.010285480879247189\t0.11022894084453583\n",
      "EarlyStopping counter: 1 out of 20\n",
      "CV 1 Epoch 5\n",
      "\tTrain loss: 0.0010679296683520079\tValid loss: 0.0030335166957229376\t0.3520434498786926\n",
      "Validation loss decreased (0.006387 --> 0.003034).  Saving model ...\n",
      "\t {'auc': 0.9998369559554297, 'confusion_matrix': array([[92278,   136],\n",
      "       [   12,  6198]]), 'precision': 0.9785285759393748, 'recall': 0.9980676328502416}\n",
      "CV 1 Epoch 6\n",
      "\tTrain loss: 0.002099311910569668\tValid loss: 0.0015465832548215985\t1.3573869466781616\n",
      "Validation loss decreased (0.003034 --> 0.001547).  Saving model ...\n",
      "CV 1 Epoch 7\n",
      "\tTrain loss: 0.00030036515090614557\tValid loss: 0.0024812568444758654\t0.12105362862348557\n",
      "EarlyStopping counter: 1 out of 20\n",
      "CV 1 Epoch 8\n",
      "\tTrain loss: 0.00020050551393069327\tValid loss: 0.0012846221216022968\t0.15608131885528564\n",
      "Validation loss decreased (0.001547 --> 0.001285).  Saving model ...\n",
      "\t {'auc': 0.9999348351796598, 'confusion_matrix': array([[92371,    43],\n",
      "       [   23,  6187]]), 'precision': 0.9930979133226324, 'recall': 0.9962962962962963}\n",
      "CV 1 Epoch 9\n",
      "\tTrain loss: 0.00014902798284310848\tValid loss: 0.001659694709815085\t0.0897924080491066\n",
      "EarlyStopping counter: 1 out of 20\n",
      "CV 1 Epoch 10\n",
      "\tTrain loss: 0.00031271090847440064\tValid loss: 0.00048134877579286695\t0.6496555805206299\n",
      "Validation loss decreased (0.001285 --> 0.000481).  Saving model ...\n",
      "\t {'auc': 0.9998483187415365, 'confusion_matrix': array([[92376,    38],\n",
      "       [   16,  6194]]), 'precision': 0.9939024390243902, 'recall': 0.9974235104669887}\n",
      "CV 1 Epoch 11\n",
      "\tTrain loss: 0.0002924659929703921\tValid loss: 0.0005443859845399857\t0.5372401475906372\n",
      "EarlyStopping counter: 1 out of 20\n",
      "CV 1 Epoch 12\n",
      "\tTrain loss: 0.00036363545223139226\tValid loss: 0.00022793903190176934\t1.5953189134597778\n",
      "Validation loss decreased (0.000481 --> 0.000228).  Saving model ...\n",
      "\t {'auc': 0.9998755199027884, 'confusion_matrix': array([[92363,    51],\n",
      "       [   14,  6196]]), 'precision': 0.9918360813190331, 'recall': 0.9977455716586151}\n",
      "CV 1 Epoch 13\n",
      "\tTrain loss: 0.00011068422463722527\tValid loss: 0.0013481942005455494\t0.08209813386201859\n",
      "EarlyStopping counter: 1 out of 20\n",
      "CV 1 Epoch 14\n",
      "\tTrain loss: 0.00010474578448338434\tValid loss: 0.0007010082481428981\t0.14942161738872528\n",
      "EarlyStopping counter: 2 out of 20\n",
      "CV 1 Epoch 15\n",
      "\tTrain loss: 0.00013586801651399583\tValid loss: 0.0015549072995781898\t0.08738014101982117\n",
      "EarlyStopping counter: 3 out of 20\n",
      "CV 1 Epoch 16\n",
      "\tTrain loss: 6.411650247173384e-05\tValid loss: 0.0026517368387430906\t0.024179060012102127\n",
      "EarlyStopping counter: 4 out of 20\n",
      "CV 1 Epoch 17\n",
      "\tTrain loss: 4.8685142246540636e-05\tValid loss: 0.0018862866563722491\t0.02581004425883293\n",
      "EarlyStopping counter: 5 out of 20\n",
      "CV 1 Epoch 18\n",
      "\tTrain loss: 6.965454667806625e-05\tValid loss: 0.0009563833009451628\t0.07283120602369308\n",
      "EarlyStopping counter: 6 out of 20\n",
      "CV 1 Epoch 19\n",
      "\tTrain loss: 4.587678631651215e-05\tValid loss: 0.0004320619918871671\t0.10618102550506592\n",
      "EarlyStopping counter: 7 out of 20\n",
      "CV 1 Epoch 20\n",
      "\tTrain loss: 5.452071127365343e-05\tValid loss: 0.0010000080801546574\t0.054520271718502045\n",
      "EarlyStopping counter: 8 out of 20\n",
      "CV 1 Epoch 21\n",
      "\tTrain loss: 6.783213757444173e-05\tValid loss: 0.001166173373349011\t0.05816642567515373\n",
      "EarlyStopping counter: 9 out of 20\n",
      "CV 1 Epoch 22\n",
      "\tTrain loss: 7.952966552693397e-05\tValid loss: 0.0013090919237583876\t0.0607517808675766\n",
      "EarlyStopping counter: 10 out of 20\n",
      "CV 1 Epoch 23\n",
      "\tTrain loss: 5.488840179168619e-05\tValid loss: 0.0015130920801311731\t0.036275651305913925\n",
      "EarlyStopping counter: 11 out of 20\n",
      "CV 1 Epoch 24\n",
      "\tTrain loss: 1.6741641957196407e-05\tValid loss: 0.002076525241136551\t0.008062334731221199\n",
      "EarlyStopping counter: 12 out of 20\n",
      "CV 1 Epoch 25\n",
      "\tTrain loss: 9.645048703532666e-05\tValid loss: 0.001441340777091682\t0.06691719591617584\n",
      "EarlyStopping counter: 13 out of 20\n",
      "CV 1 Epoch 26\n",
      "\tTrain loss: 9.610319102648646e-05\tValid loss: 0.0014557027025148273\t0.06601841747760773\n",
      "EarlyStopping counter: 14 out of 20\n",
      "CV 1 Epoch 27\n",
      "\tTrain loss: 3.1775402021594346e-05\tValid loss: 0.001784921740181744\t0.017802126705646515\n",
      "EarlyStopping counter: 15 out of 20\n",
      "CV 1 Epoch 28\n",
      "\tTrain loss: 3.052702231798321e-05\tValid loss: 0.0020800211932510138\t0.01467630360275507\n",
      "EarlyStopping counter: 16 out of 20\n",
      "CV 1 Epoch 29\n",
      "\tTrain loss: 4.9935908464249223e-05\tValid loss: 0.0017615238903090358\t0.028348129242658615\n",
      "EarlyStopping counter: 17 out of 20\n",
      "CV 1 Epoch 30\n",
      "\tTrain loss: 5.0171325710834935e-05\tValid loss: 0.0017376246396452188\t0.028873512521386147\n",
      "EarlyStopping counter: 18 out of 20\n",
      "CV 1 Epoch 31\n",
      "\tTrain loss: 1.5404224541271105e-05\tValid loss: 0.0016609583981335163\t0.009274299256503582\n",
      "EarlyStopping counter: 19 out of 20\n",
      "CV 1 Epoch 32\n",
      "\tTrain loss: 0.0001824749051593244\tValid loss: 0.0017244407208636403\t0.10581686347723007\n",
      "EarlyStopping counter: 20 out of 20\n",
      "\tEarly stopping epoch 32, valid loss 0.0017244407208636403\n",
      "\t {'auc': 0.9998755199027884, 'confusion_matrix': array([[92363,    51],\n",
      "       [   14,  6196]]), 'precision': 0.9918360813190331, 'recall': 0.9977455716586151}\n",
      "END CV 1 eval summary (train)\n",
      " {'auc': 0.9999939035583629, 'confusion_matrix': array([[184771,     23],\n",
      "       [     2,  12452]]), 'precision': 0.9981563126252505, 'recall': 0.9998394090252127}\n",
      "197297 98648\n",
      "\n",
      "CV 2\n",
      "20200101T015403\n",
      "Epoch: 1\n"
     ]
    },
    {
     "data": {
      "application/vnd.jupyter.widget-view+json": {
       "model_id": "f66a3eaf010f4f9a9e3b0273a36f0b88",
       "version_major": 2,
       "version_minor": 0
      },
      "text/plain": [
       "HBox(children=(IntProgress(value=0, description='CV 2 Epoch', max=50, style=ProgressStyle(description_width='i…"
      ]
     },
     "metadata": {},
     "output_type": "display_data"
    },
    {
     "name": "stdout",
     "output_type": "stream",
     "text": [
      "CV 2 Epoch 1\n",
      "\tTrain loss: 0.020877288654446602\tValid loss: 0.04455934464931488\t0.46852773427963257\n",
      "Validation loss decreased (inf --> 0.044559).  Saving model ...\n",
      "\t {'auc': 0.9865899584355886, 'confusion_matrix': array([[51326, 41070],\n",
      "       [    1,  6227]]), 'precision': 0.13165739898936507, 'recall': 0.9998394348105331}\n",
      "CV 2 Epoch 2\n",
      "\tTrain loss: 0.00927262008190155\tValid loss: 0.010455254465341568\t0.8868861198425293\n",
      "Validation loss decreased (0.044559 --> 0.010455).  Saving model ...\n",
      "CV 2 Epoch 3\n",
      "\tTrain loss: 0.0036744349636137486\tValid loss: 0.005377007648348808\t0.6833605766296387\n",
      "Validation loss decreased (0.010455 --> 0.005377).  Saving model ...\n",
      "CV 2 Epoch 4\n",
      "\tTrain loss: 0.001875836169347167\tValid loss: 0.00536634586751461\t0.3495555818080902\n",
      "Validation loss decreased (0.005377 --> 0.005366).  Saving model ...\n",
      "CV 2 Epoch 5\n",
      "\tTrain loss: 0.0009689595899544656\tValid loss: 0.0028003344777971506\t0.34601566195487976\n",
      "Validation loss decreased (0.005366 --> 0.002800).  Saving model ...\n",
      "CV 2 Epoch 6\n",
      "\tTrain loss: 0.0005371842999011278\tValid loss: 0.003765283850952983\t0.14266768097877502\n",
      "EarlyStopping counter: 1 out of 20\n",
      "CV 2 Epoch 7\n",
      "\tTrain loss: 0.0005224650958552957\tValid loss: 0.0011385752586647868\t0.45887619256973267\n",
      "Validation loss decreased (0.002800 --> 0.001139).  Saving model ...\n",
      "\t {'auc': 0.9997793810037124, 'confusion_matrix': array([[92232,   164],\n",
      "       [   17,  6211]]), 'precision': 0.9742745098039216, 'recall': 0.9972703917790623}\n",
      "CV 2 Epoch 8\n",
      "\tTrain loss: 0.0003488553920760751\tValid loss: 0.004270469304174185\t0.08169017732143402\n",
      "EarlyStopping counter: 1 out of 20\n",
      "CV 2 Epoch 9\n",
      "\tTrain loss: 0.0004904621164314449\tValid loss: 0.002870267955586314\t0.17087677121162415\n",
      "EarlyStopping counter: 2 out of 20\n",
      "CV 2 Epoch 10\n",
      "\tTrain loss: 0.0002738037146627903\tValid loss: 0.0035872755106538534\t0.07632637023925781\n",
      "EarlyStopping counter: 3 out of 20\n",
      "CV 2 Epoch 11\n",
      "\tTrain loss: 0.00031039732857607305\tValid loss: 0.003336689667776227\t0.09302552789449692\n",
      "EarlyStopping counter: 4 out of 20\n",
      "CV 2 Epoch 12\n",
      "\tTrain loss: 0.00020647810015361756\tValid loss: 0.0025215500500053167\t0.08188538998365402\n",
      "EarlyStopping counter: 5 out of 20\n",
      "CV 2 Epoch 13\n",
      "\tTrain loss: 0.0002046324370894581\tValid loss: 0.0020445508416742086\t0.1000867411494255\n",
      "EarlyStopping counter: 6 out of 20\n",
      "CV 2 Epoch 14\n",
      "\tTrain loss: 0.00022549924324266613\tValid loss: 0.0020014902111142874\t0.11266567558050156\n",
      "EarlyStopping counter: 7 out of 20\n",
      "CV 2 Epoch 15\n",
      "\tTrain loss: 0.00026525428984314203\tValid loss: 0.0005135727697052062\t0.516488254070282\n",
      "Validation loss decreased (0.001139 --> 0.000514).  Saving model ...\n",
      "\t {'auc': 0.9996815093297418, 'confusion_matrix': array([[91134,  1262],\n",
      "       [   14,  6214]]), 'precision': 0.8311931514178705, 'recall': 0.9977520873474631}\n",
      "CV 2 Epoch 16\n",
      "\tTrain loss: 0.00010424340871395543\tValid loss: 0.0017211997183039784\t0.06056438758969307\n",
      "EarlyStopping counter: 1 out of 20\n",
      "CV 2 Epoch 17\n",
      "\tTrain loss: 0.0003053527616430074\tValid loss: 0.0032190929632633924\t0.09485676884651184\n",
      "EarlyStopping counter: 2 out of 20\n",
      "CV 2 Epoch 18\n",
      "\tTrain loss: 0.00017444831610191613\tValid loss: 0.00015285708650480956\t1.1412510871887207\n",
      "Validation loss decreased (0.000514 --> 0.000153).  Saving model ...\n",
      "\t {'auc': 0.9998553912325611, 'confusion_matrix': array([[92244,   152],\n",
      "       [   12,  6216]]), 'precision': 0.9761306532663316, 'recall': 0.9980732177263969}\n",
      "CV 2 Epoch 19\n",
      "\tTrain loss: 7.273852679645643e-05\tValid loss: 0.001409855205565691\t0.051592905074357986\n",
      "EarlyStopping counter: 1 out of 20\n",
      "CV 2 Epoch 20\n",
      "\tTrain loss: 5.006970604881644e-05\tValid loss: 0.00011450594320194796\t0.4372673034667969\n",
      "Validation loss decreased (0.000153 --> 0.000115).  Saving model ...\n",
      "\t {'auc': 0.999817330074289, 'confusion_matrix': array([[92300,    96],\n",
      "       [   16,  6212]]), 'precision': 0.9847812301838935, 'recall': 0.9974309569685292}\n",
      "CV 2 Epoch 21\n",
      "\tTrain loss: 0.0001161413238150999\tValid loss: 0.00037353267543949187\t0.3109268248081207\n",
      "EarlyStopping counter: 1 out of 20\n",
      "CV 2 Epoch 22\n",
      "\tTrain loss: 4.284038732293993e-05\tValid loss: 0.0003895107365678996\t0.10998512804508209\n",
      "EarlyStopping counter: 2 out of 20\n",
      "CV 2 Epoch 23\n",
      "\tTrain loss: 6.83753241901286e-05\tValid loss: 0.0032067575957626104\t0.021322261542081833\n",
      "EarlyStopping counter: 3 out of 20\n",
      "CV 2 Epoch 24\n",
      "\tTrain loss: 4.674954107031226e-05\tValid loss: 0.0012227868428453803\t0.03823196142911911\n",
      "EarlyStopping counter: 4 out of 20\n",
      "CV 2 Epoch 25\n",
      "\tTrain loss: 4.043714579893276e-05\tValid loss: 0.0004744419420603663\t0.08523096889257431\n",
      "EarlyStopping counter: 5 out of 20\n",
      "CV 2 Epoch 26\n",
      "\tTrain loss: 8.536154200555757e-05\tValid loss: 0.002609340474009514\t0.032713837921619415\n",
      "EarlyStopping counter: 6 out of 20\n",
      "CV 2 Epoch 27\n",
      "\tTrain loss: 3.8131376641104e-05\tValid loss: 0.0019318582490086555\t0.01973818615078926\n",
      "EarlyStopping counter: 7 out of 20\n",
      "CV 2 Epoch 28\n",
      "\tTrain loss: 7.477484177798033e-05\tValid loss: 0.0027589097153395414\t0.027103040367364883\n",
      "EarlyStopping counter: 8 out of 20\n",
      "CV 2 Epoch 29\n",
      "\tTrain loss: 6.02395084570162e-05\tValid loss: 0.0024712770245969296\t0.024375861510634422\n",
      "EarlyStopping counter: 9 out of 20\n",
      "CV 2 Epoch 30\n",
      "\tTrain loss: 8.335626625921577e-05\tValid loss: 0.002119575161486864\t0.03932687267661095\n",
      "EarlyStopping counter: 10 out of 20\n",
      "CV 2 Epoch 31\n",
      "\tTrain loss: 3.864998507197015e-05\tValid loss: 0.0022495444864034653\t0.01718124933540821\n",
      "EarlyStopping counter: 11 out of 20\n",
      "CV 2 Epoch 32\n",
      "\tTrain loss: 4.278665073798038e-05\tValid loss: 0.002722137840464711\t0.01571803167462349\n",
      "EarlyStopping counter: 12 out of 20\n",
      "CV 2 Epoch 33\n",
      "\tTrain loss: 3.8681464502587914e-05\tValid loss: 0.0027537436690181494\t0.014046864584088326\n",
      "EarlyStopping counter: 13 out of 20\n",
      "CV 2 Epoch 34\n",
      "\tTrain loss: 3.618599657784216e-05\tValid loss: 0.002900456078350544\t0.012475967407226562\n",
      "EarlyStopping counter: 14 out of 20\n",
      "CV 2 Epoch 35\n",
      "\tTrain loss: 2.767997830233071e-05\tValid loss: 0.001211760682053864\t0.022842776030302048\n",
      "EarlyStopping counter: 15 out of 20\n",
      "CV 2 Epoch 36\n",
      "\tTrain loss: 5.632017564494163e-05\tValid loss: 0.0008173627429641783\t0.06890475004911423\n",
      "EarlyStopping counter: 16 out of 20\n",
      "CV 2 Epoch 37\n",
      "\tTrain loss: 6.397678953362629e-05\tValid loss: 0.0009326658910140395\t0.06859561055898666\n",
      "EarlyStopping counter: 17 out of 20\n",
      "CV 2 Epoch 38\n",
      "\tTrain loss: 3.907809514203109e-05\tValid loss: 0.0011160955764353275\t0.035013217478990555\n",
      "EarlyStopping counter: 18 out of 20\n",
      "CV 2 Epoch 39\n",
      "\tTrain loss: 2.2783422537031583e-05\tValid loss: 0.0012437093537300825\t0.01831892877817154\n",
      "EarlyStopping counter: 19 out of 20\n",
      "CV 2 Epoch 40\n",
      "\tTrain loss: 8.004467963473871e-05\tValid loss: 0.001277873758226633\t0.06263896077871323\n",
      "EarlyStopping counter: 20 out of 20\n",
      "\tEarly stopping epoch 40, valid loss 0.001277873758226633\n",
      "\t {'auc': 0.999817330074289, 'confusion_matrix': array([[92300,    96],\n",
      "       [   16,  6212]]), 'precision': 0.9847812301838935, 'recall': 0.9974309569685292}\n",
      "END CV 2 eval summary (train)\n",
      " {'auc': 0.9999433611898455, 'confusion_matrix': array([[184826,      2],\n",
      "       [     2,  12418]]), 'precision': 0.9998389694041868, 'recall': 0.9998389694041868}\n"
     ]
    }
   ],
   "source": [
    "[df_test.drop(c, axis=1, inplace=True) for c in df_test.columns if 'smishing_' in c]\n",
    "\n",
    "skf = StratifiedKFold(n_splits=3, random_state=8405)\n",
    "\n",
    "for cv, index in enumerate(skf.split(df_model[fea_cols], df_model['smishing'])):\n",
    "    train_index, valid_index = index\n",
    "    \n",
    "    print(len(train_index), len(valid_index))\n",
    "    train_set = RNNDataset(df_model.loc[train_index, [fea_cols, 'smishing']], 'smishing', fea_cols)\n",
    "    valid_set = RNNDataset(df_model.loc[valid_index, [fea_cols, 'smishing']], 'smishing', fea_cols)\n",
    "    \n",
    "    print('\\nCV', cv)\n",
    "    model = RNNModel(input_size=input_size, \n",
    "                     embed_size=256, \n",
    "                     hidden_size=128, \n",
    "                     num_layers=2).to(device)\n",
    "#     model = LSTMModel(input_size=128, hidden_size=32, num_layers=1).to(device)\n",
    "#     model = NNModel(input_size=input_size, dropout_probability=0.7).to(device)\n",
    "#     model =  LRModel(input_size=input_size).to(device)\n",
    "\n",
    "    # initialize the early_stopping object\n",
    "    early_stopping = EarlyStopping(patience=20, verbose=True)\n",
    "\n",
    "    epoch = 1\n",
    "    if cv == 0:\n",
    "#         print(summary(model, (input_size, )))\n",
    "        print(model.train())\n",
    "    \n",
    "#     pos_weight = torch.Tensor([1., 10.,])\n",
    "    pos_weight = torch.Tensor([1., 20.,])\n",
    "    criterion = torch.nn.BCEWithLogitsLoss(reduction='sum', pos_weight=pos_weight).to(device)\n",
    "    optimizer = torch.optim.Adam(model.parameters(), lr = 0.00025)\n",
    "\n",
    "    model_ts = datetime.now().strftime('%Y%m%dT%H%M%S')\n",
    "    print(model_ts)\n",
    "    print('Epoch:', epoch)\n",
    "\n",
    "    N_EPOCHS = 50\n",
    "    is_summary = True\n",
    "    for e in tqdm_notebook(range(epoch, epoch + N_EPOCHS), total=N_EPOCHS, desc = 'CV {} Epoch'.format(cv)):\n",
    "        start_time = time.time()\n",
    "        \n",
    "        train_loss, train_acc = train_torch(train_set)\n",
    "        valid_loss, valid_acc = test_torch(valid_set)\n",
    "        print('CV {} Epoch {}\\n\\tTrain loss: {}\\tValid loss: {}\\t{}'.format(cv, e, train_loss, valid_loss, train_loss / valid_loss))\n",
    "        \n",
    "        early_stopping(valid_loss, model)\n",
    "        \n",
    "        if early_stopping.counter == 0:\n",
    "            if is_summary:\n",
    "                _, _, y_true, y_score = pred_torch(valid_set)            \n",
    "                print('\\t', eval_summary(y_true, y_score, cut_off=0.5))\n",
    "                is_summary = False\n",
    "        else:\n",
    "            is_summary = True\n",
    "        \n",
    "        if early_stopping.early_stop:\n",
    "            print(\"\\tEarly stopping epoch {}, valid loss {}\".format(e, valid_loss))\n",
    "            break\n",
    "    \n",
    "        epoch = e + 1\n",
    "    \n",
    "    # load the last checkpoint with the best model\n",
    "    model.load_state_dict(torch.load('checkpoint.pt'))\n",
    "    \n",
    "#     valid_set = RNNDataset(df_model.loc[valid_index,[fea_cols, 'smishing']], 'smishing')\n",
    "    _, _, y_true, y_score = pred_torch(valid_set)            \n",
    "    print('\\t', eval_summary(y_true, y_score, cut_off=0.5))\n",
    "\n",
    "#     train_set = RNNDataset(df_model.loc[train_index, [fea_cols, 'smishing']], 'smishing')\n",
    "    _, _, y_true, y_score = pred_torch(train_set)            \n",
    "    print('END CV {} eval summary (train)\\n'.format(cv), eval_summary(y_true, y_score, cut_off=0.5))\n",
    "\n",
    "    torch.save(model.state_dict(), 'model/{}_{}_{}.model'.format(model_ts, cv, epoch-1))\n",
    "    \n",
    "    model.eval()\n",
    "    pred_col = 'smishing_{}'.format(cv)\n",
    "    df_test[pred_col] = torch.sigmoid(model(x_test))[:, 1].cpu().detach().numpy()\n",
    "    df_test[[pred_col]].to_csv('submit/{}_{}_nn.csv'.format(model_ts, pred_col), index=True)"
   ]
  },
  {
   "cell_type": "markdown",
   "metadata": {},
   "source": [
    "#### Predict Train"
   ]
  },
  {
   "cell_type": "code",
   "execution_count": 13,
   "metadata": {
    "ExecuteTime": {
     "end_time": "2019-12-31T17:12:11.491308Z",
     "start_time": "2019-12-31T17:12:11.275246Z"
    }
   },
   "outputs": [
    {
     "data": {
      "text/plain": [
       "0    184823\n",
       "1         4\n",
       "2         1\n",
       "6         1\n",
       "9     12419\n",
       "dtype: int64"
      ]
     },
     "execution_count": 13,
     "metadata": {},
     "output_type": "execute_result"
    },
    {
     "data": {
      "image/png": "[encoded data removed]",
      "text/plain": [
       "<Figure size 1440x360 with 1 Axes>"
      ]
     },
     "metadata": {
      "needs_background": "light"
     },
     "output_type": "display_data"
    }
   ],
   "source": [
    "df = pd.Series(y_score)\n",
    "df.hist(bins=100, figsize=(20, 5))\n",
    "(df * 10).astype(int).value_counts(sort=False)"
   ]
  },
  {
   "cell_type": "code",
   "execution_count": 14,
   "metadata": {
    "ExecuteTime": {
     "end_time": "2019-12-31T17:12:11.493507Z",
     "start_time": "2019-12-31T17:12:11.492124Z"
    }
   },
   "outputs": [],
   "source": [
    "# df_model[(y_score <= 0.5) & (y_true == 1)]['text']"
   ]
  },
  {
   "cell_type": "code",
   "execution_count": 15,
   "metadata": {
    "ExecuteTime": {
     "end_time": "2019-12-31T17:12:11.501459Z",
     "start_time": "2019-12-31T17:12:11.494220Z"
    }
   },
   "outputs": [],
   "source": [
    "# df_model[(y_score > 0.5) & (y_true == 0)]['text']"
   ]
  },
  {
   "cell_type": "markdown",
   "metadata": {},
   "source": [
    "#### Predict Test"
   ]
  },
  {
   "cell_type": "code",
   "execution_count": 16,
   "metadata": {
    "ExecuteTime": {
     "end_time": "2019-12-31T17:12:11.515086Z",
     "start_time": "2019-12-31T17:12:11.502560Z"
    }
   },
   "outputs": [
    {
     "name": "stdout",
     "output_type": "stream",
     "text": [
      "3\n",
      "0.5772618055343628 0.00013806430797558278 0.028200680390000343\n"
     ]
    }
   ],
   "source": [
    "pred_cols = [c for c in df_test.columns if 'smishing_' in c]\n",
    "print(len(pred_cols))\n",
    "df_test['pred_max'] = df_test[pred_cols].max(axis=1)\n",
    "df_test['pred_min'] = df_test[pred_cols].min(axis=1)\n",
    "df_test['pred_mean'] = df_test[pred_cols].mean(axis=1)\n",
    "df_test['pred_std'] = df_test[pred_cols].std(axis=1)\n",
    "\n",
    "print(df_test['pred_std'].max(), df_test['pred_std'].min(), df_test['pred_std'].mean())\n",
    "\n",
    "df_test['smishing'] = df_test['pred_mean']"
   ]
  },
  {
   "cell_type": "code",
   "execution_count": 17,
   "metadata": {
    "ExecuteTime": {
     "end_time": "2019-12-31T17:12:11.723895Z",
     "start_time": "2019-12-31T17:12:11.516065Z"
    }
   },
   "outputs": [
    {
     "data": {
      "text/plain": [
       "<matplotlib.axes._subplots.AxesSubplot at 0x7efb72be22d0>"
      ]
     },
     "execution_count": 17,
     "metadata": {},
     "output_type": "execute_result"
    },
    {
     "data": {
      "image/png": "[encoded data removed]",
      "text/plain": [
       "<Figure size 1440x360 with 1 Axes>"
      ]
     },
     "metadata": {
      "needs_background": "light"
     },
     "output_type": "display_data"
    }
   ],
   "source": [
    "# df_test['smishing'] = torch.sigmoid(model(x_test))[:, 1].cpu().detach().numpy()\n",
    "df_test['smishing'].hist(bins=100, figsize=(20, 5))"
   ]
  },
  {
   "cell_type": "code",
   "execution_count": 18,
   "metadata": {
    "ExecuteTime": {
     "end_time": "2019-12-31T17:12:11.733102Z",
     "start_time": "2019-12-31T17:12:11.724805Z"
    }
   },
   "outputs": [
    {
     "name": "stdout",
     "output_type": "stream",
     "text": [
      "smishing_0\n"
     ]
    },
    {
     "data": {
      "text/plain": [
       "0    1457\n",
       "1      21\n",
       "2      10\n",
       "3       2\n",
       "4       5\n",
       "5      13\n",
       "6       9\n",
       "7      13\n",
       "8       2\n",
       "9      94\n",
       "Name: smishing_0, dtype: int64"
      ]
     },
     "metadata": {},
     "output_type": "display_data"
    },
    {
     "name": "stdout",
     "output_type": "stream",
     "text": [
      "smishing_1\n"
     ]
    },
    {
     "data": {
      "text/plain": [
       "0    1494\n",
       "1       4\n",
       "2       1\n",
       "3       1\n",
       "4       1\n",
       "6       1\n",
       "7       4\n",
       "8       1\n",
       "9     119\n",
       "Name: smishing_1, dtype: int64"
      ]
     },
     "metadata": {},
     "output_type": "display_data"
    },
    {
     "name": "stdout",
     "output_type": "stream",
     "text": [
      "smishing_2\n"
     ]
    },
    {
     "data": {
      "text/plain": [
       "0    1519\n",
       "1       3\n",
       "2       3\n",
       "3       2\n",
       "5       1\n",
       "6       2\n",
       "7       5\n",
       "9      91\n",
       "Name: smishing_2, dtype: int64"
      ]
     },
     "metadata": {},
     "output_type": "display_data"
    }
   ],
   "source": [
    "for c in pred_cols:\n",
    "    print(c)\n",
    "    display((df_test[c] * 10).astype(int).value_counts(sort=False))"
   ]
  },
  {
   "cell_type": "code",
   "execution_count": 19,
   "metadata": {
    "ExecuteTime": {
     "end_time": "2019-12-31T17:12:11.739313Z",
     "start_time": "2019-12-31T17:12:11.734400Z"
    },
    "scrolled": true
   },
   "outputs": [
    {
     "data": {
      "text/plain": [
       "0    1459\n",
       "1      12\n",
       "2      20\n",
       "3      16\n",
       "4       7\n",
       "5       9\n",
       "6      18\n",
       "7       3\n",
       "8       3\n",
       "9      79\n",
       "Name: smishing, dtype: int64"
      ]
     },
     "execution_count": 19,
     "metadata": {},
     "output_type": "execute_result"
    }
   ],
   "source": [
    "# 0     1504\n",
    "# 1       11\n",
    "# 2        6\n",
    "# 3        6\n",
    "# 4        2\n",
    "# 5        3\n",
    "# 6        2\n",
    "# 9       39\n",
    "# 10      53\n",
    "(df_test['smishing'] * 10).astype(int).value_counts(sort=False)"
   ]
  },
  {
   "cell_type": "code",
   "execution_count": 20,
   "metadata": {
    "ExecuteTime": {
     "end_time": "2019-12-31T17:12:11.745291Z",
     "start_time": "2019-12-31T17:12:11.740429Z"
    }
   },
   "outputs": [
    {
     "data": {
      "text/plain": [
       "'20200101T015403'"
      ]
     },
     "execution_count": 20,
     "metadata": {},
     "output_type": "execute_result"
    }
   ],
   "source": [
    "model_ts"
   ]
  },
  {
   "cell_type": "code",
   "execution_count": 23,
   "metadata": {
    "ExecuteTime": {
     "end_time": "2019-12-31T17:13:24.823819Z",
     "start_time": "2019-12-31T17:13:24.813867Z"
    }
   },
   "outputs": [],
   "source": [
    "df_test[['smishing']].to_csv('submit/{}.csv'.format(model_ts), index=True)\n",
    "# df_test[['id', 'smishing', 'text']].sort_values('smishing', ascending=False).to_csv('{}_text.csv'.format(model_ts), index=False)\n"
   ]
  },
  {
   "cell_type": "code",
   "execution_count": null,
   "metadata": {
    "colab": {},
    "colab_type": "code",
    "id": "dtoNNPnG75fT"
   },
   "outputs": [],
   "source": []
  }
 ],
 "metadata": {
  "accelerator": "GPU",
  "colab": {
   "collapsed_sections": [],
   "name": "mecab_tfidf.ipynb",
   "provenance": []
  },
  "kernelspec": {
   "display_name": "Python 3",
   "language": "python",
   "name": "python3"
  },
  "language_info": {
   "codemirror_mode": {
    "name": "ipython",
    "version": 3
   },
   "file_extension": ".py",
   "mimetype": "text/x-python",
   "name": "python",
   "nbconvert_exporter": "python",
   "pygments_lexer": "ipython3",
   "version": "3.7.4"
  },
  "toc": {
   "base_numbering": 1,
   "nav_menu": {},
   "number_sections": true,
   "sideBar": true,
   "skip_h1_title": false,
   "title_cell": "Table of Contents",
   "title_sidebar": "Contents",
   "toc_cell": false,
   "toc_position": {
    "height": "calc(100% - 180px)",
    "left": "10px",
    "top": "150px",
    "width": "165px"
   },
   "toc_section_display": true,
   "toc_window_display": true
  }
 },
 "nbformat": 4,
 "nbformat_minor": 1
}
