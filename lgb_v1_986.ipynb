{
 "cells": [
  {
   "cell_type": "code",
   "execution_count": 1,
   "metadata": {
    "ExecuteTime": {
     "end_time": "2020-01-01T17:07:39.079000Z",
     "start_time": "2020-01-01T17:07:37.758337Z"
    },
    "colab": {
     "base_uri": "https://localhost:8080/",
     "height": 71
    },
    "colab_type": "code",
    "executionInfo": {
     "elapsed": 1590,
     "status": "ok",
     "timestamp": 1576286906380,
     "user": {
      "displayName": "주이클",
      "photoUrl": "https://lh3.googleusercontent.com/a-/AAuE7mCWVh4nvn9788qUddhoWTl5qQoYt0bzVMDlJWUumTg=s64",
      "userId": "02708070532256873610"
     },
     "user_tz": -540
    },
    "id": "U3xmRNtgpZwi",
    "outputId": "f6e95e03-5913-4a53-9ff3-1b6cde1b5a82"
   },
   "outputs": [
    {
     "name": "stderr",
     "output_type": "stream",
     "text": [
      "/home/aiden/anaconda3/lib/python3.7/site-packages/sklearn/externals/joblib/__init__.py:15: DeprecationWarning: sklearn.externals.joblib is deprecated in 0.21 and will be removed in 0.23. Please import this functionality directly from joblib, which can be installed with: pip install joblib. If this warning is raised when loading pickled models, you may need to re-serialize those models with scikit-learn 0.21+.\n",
      "  warnings.warn(msg, category=DeprecationWarning)\n"
     ]
    },
    {
     "name": "stdout",
     "output_type": "stream",
     "text": [
      "2.3.2\n",
      "1.3.1\n",
      "GeForce RTX 2070 SUPER\n",
      "True\n"
     ]
    },
    {
     "data": {
      "text/plain": [
       "device(type='cuda', index=0)"
      ]
     },
     "execution_count": 1,
     "metadata": {},
     "output_type": "execute_result"
    }
   ],
   "source": [
    "#!/usr/bin/env python\n",
    "# coding: utf-8\n",
    "get_ipython().run_line_magic('matplotlib', 'inline')\n",
    "import pandas as pd\n",
    "import time\n",
    "import numpy as np\n",
    "from datetime import datetime\n",
    "from sklearn.externals import joblib \n",
    "import os\n",
    "from konlpy.tag import Mecab\n",
    "import lightgbm as lgb\n",
    "print(lgb.__version__)\n",
    "\n",
    "from sklearn import metrics\n",
    "from sklearn.preprocessing import MinMaxScaler\n",
    "from sklearn.externals import joblib \n",
    "from sklearn.model_selection import StratifiedKFold\n",
    "\n",
    "import gc\n",
    "\n",
    "from tqdm import tqdm_notebook\n",
    "\n",
    "import warnings\n",
    "warnings.filterwarnings(action='ignore')\n",
    "\n",
    "\n",
    "import torch\n",
    "print(torch.__version__)\n",
    "import torch.nn.functional as F\n",
    "from torch.utils.data import Dataset, DataLoader\n",
    "\n",
    "from torchsummary import summary\n",
    "\n",
    "from tools import eval_summary\n",
    "\n",
    "print(torch.cuda.get_device_name(0))\n",
    "print(torch.cuda.is_available())\n",
    "\n",
    "device = torch.device(\"cuda:0\" if torch.cuda.is_available() else \"cpu\")\n",
    "# device = torch.device('cpu')\n",
    "device"
   ]
  },
  {
   "cell_type": "code",
   "execution_count": 2,
   "metadata": {
    "ExecuteTime": {
     "end_time": "2020-01-01T17:07:40.206228Z",
     "start_time": "2020-01-01T17:07:39.080107Z"
    }
   },
   "outputs": [
    {
     "name": "stdout",
     "output_type": "stream",
     "text": [
      "/home/aiden/src/dacon_14\n"
     ]
    },
    {
     "data": {
      "text/plain": [
       "(297571, 3)"
      ]
     },
     "execution_count": 2,
     "metadata": {},
     "output_type": "execute_result"
    }
   ],
   "source": [
    "print(os.getcwd())\n",
    "\n",
    "base_path = '.'\n",
    "\n",
    "df_train = pd.read_csv(os.path.join(base_path , 'input/train.csv'), index_col=0)\n",
    "df_test = pd.read_csv(os.path.join(base_path , 'input/public_test.csv'), index_col=0)\n",
    "df_test['smishing'] = -1\n",
    "\n",
    "df_fea = pd.concat([df_train, df_test])\n",
    "df_fea.shape"
   ]
  },
  {
   "cell_type": "code",
   "execution_count": 3,
   "metadata": {
    "ExecuteTime": {
     "end_time": "2020-01-01T17:07:40.209113Z",
     "start_time": "2020-01-01T17:07:40.207123Z"
    },
    "colab": {
     "base_uri": "https://localhost:8080/",
     "height": 1000
    },
    "colab_type": "code",
    "executionInfo": {
     "elapsed": 185838,
     "status": "ok",
     "timestamp": 1576287091046,
     "user": {
      "displayName": "주이클",
      "photoUrl": "https://lh3.googleusercontent.com/a-/AAuE7mCWVh4nvn9788qUddhoWTl5qQoYt0bzVMDlJWUumTg=s64",
      "userId": "02708070532256873610"
     },
     "user_tz": -540
    },
    "id": "QOi9dYzqpZxV",
    "outputId": "9ceb7e20-059e-4946-934e-ab85c98dca56",
    "scrolled": true
   },
   "outputs": [
    {
     "name": "stdout",
     "output_type": "stream",
     "text": [
      "295945\n"
     ]
    }
   ],
   "source": [
    "train_size = len(df_train)\n",
    "print(train_size)\n",
    "\n",
    "cat_cols = []\n",
    "# fea_cols = tfidf_cols + cat_cols + cnt_cols\n",
    "# fea_cols = cnt_cols + cat_cols\n",
    "# fea_cols = tfidf_cols + cat_cols\n",
    "# len(fea_cols)"
   ]
  },
  {
   "cell_type": "markdown",
   "metadata": {},
   "source": [
    "#### Load Data"
   ]
  },
  {
   "cell_type": "code",
   "execution_count": 4,
   "metadata": {
    "ExecuteTime": {
     "end_time": "2020-01-01T17:07:50.425359Z",
     "start_time": "2020-01-01T17:07:40.209910Z"
    },
    "colab": {
     "base_uri": "https://localhost:8080/",
     "height": 51
    },
    "colab_type": "code",
    "executionInfo": {
     "elapsed": 187149,
     "status": "ok",
     "timestamp": 1576287092380,
     "user": {
      "displayName": "주이클",
      "photoUrl": "https://lh3.googleusercontent.com/a-/AAuE7mCWVh4nvn9788qUddhoWTl5qQoYt0bzVMDlJWUumTg=s64",
      "userId": "02708070532256873610"
     },
     "user_tz": -540
    },
    "id": "LCEEOdJK4__q",
    "outputId": "24fb71a8-e639-43d1-b476-d617adfff1e7"
   },
   "outputs": [
    {
     "name": "stdout",
     "output_type": "stream",
     "text": [
      "model_set\n",
      " 0    277242\n",
      "1     18703\n",
      "Name: smishing, dtype: int64\n"
     ]
    }
   ],
   "source": [
    "# merged_ts = '20191231T113708_5499'\n",
    "# merged_ts = '20191231T162533_2022'\n",
    "# merged_ts = '20191231T165424_6099'\n",
    "# merged_ts = '20191231T111228_8180'\n",
    "# merged_ts = '20200101T184353_5853'\n",
    "\n",
    "# merged_ts = '20200102T005929_6546_128_49980' # 984\n",
    "merged_ts = '20200102T015155_8438_128_49980'\n",
    "\n",
    "\n",
    "train_path = 'data/df_merged_{}_train.pkl'.format(merged_ts)\n",
    "test_path = 'data/df_merged_{}_test.pkl'.format(merged_ts)\n",
    "dict_path = 'data/df_merged_{}_fea_dict.pkl'.format(merged_ts)\n",
    "\n",
    "df_model = joblib.load(train_path)  \n",
    "df_test = joblib.load(test_path) \n",
    "fea_dict = joblib.load(dict_path)\n",
    "\n",
    "print('model_set\\n', df_model['smishing'].value_counts())\n",
    "\n",
    "df_model.drop('morphs_128_idx', axis=1, inplace=True)\n",
    "df_test.drop('morphs_128_idx', axis=1, inplace=True)\n"
   ]
  },
  {
   "cell_type": "code",
   "execution_count": 5,
   "metadata": {
    "ExecuteTime": {
     "end_time": "2020-01-01T17:07:50.429934Z",
     "start_time": "2020-01-01T17:07:50.426164Z"
    }
   },
   "outputs": [
    {
     "data": {
      "text/plain": [
       "8437"
      ]
     },
     "execution_count": 5,
     "metadata": {},
     "output_type": "execute_result"
    }
   ],
   "source": [
    "fea_cols = [c for c in df_model.columns if c not in ['smishing', 'id', 'morphs_128_idx']]\n",
    "len(fea_cols)"
   ]
  },
  {
   "cell_type": "markdown",
   "metadata": {},
   "source": [
    "#### Params"
   ]
  },
  {
   "cell_type": "code",
   "execution_count": 6,
   "metadata": {
    "ExecuteTime": {
     "end_time": "2020-01-01T17:07:50.442923Z",
     "start_time": "2020-01-01T17:07:50.430659Z"
    },
    "colab": {
     "base_uri": "https://localhost:8080/",
     "height": 51
    },
    "colab_type": "code",
    "executionInfo": {
     "elapsed": 187149,
     "status": "ok",
     "timestamp": 1576287092380,
     "user": {
      "displayName": "주이클",
      "photoUrl": "https://lh3.googleusercontent.com/a-/AAuE7mCWVh4nvn9788qUddhoWTl5qQoYt0bzVMDlJWUumTg=s64",
      "userId": "02708070532256873610"
     },
     "user_tz": -540
    },
    "id": "LCEEOdJK4__q",
    "outputId": "24fb71a8-e639-43d1-b476-d617adfff1e7"
   },
   "outputs": [],
   "source": [
    "from sklearn.model_selection import train_test_split\n",
    "from sklearn.model_selection import StratifiedKFold\n",
    "\n",
    "model_ts = datetime.now().strftime('%Y%m%dT%H%M%S')\n",
    "\n",
    "initscore_filename = ''\n",
    "params = {\n",
    "    'boosting':'gbdt',\n",
    "#     'boosting':'dart',\n",
    "    'num_leaves': 7, \n",
    "#     'max_depth': 5,\n",
    "    'objective': 'binary',\n",
    "    'metric':'auc',\n",
    "    'num_threads': 16,\n",
    "    'learning_rate': 0.005,\n",
    "#     'is_unbalance': True,\n",
    "    'scale_pos_weight':200,\n",
    "    'bagging_fraction':0.5,\n",
    "    'bagging_freq':10,\n",
    "    'feature_fraction':0.5,\n",
    "    'initscore_filename':initscore_filename,\n",
    "#     'lambda_l1':200,\n",
    "#     'lambda_l2':2000,\n",
    "    'device_type':'gpu',\n",
    "}\n",
    "\n",
    "data_params = {\n",
    "    'max_bin':128,\n",
    "#     'enable_bundle': False,\n",
    "}\n",
    "num_round = 8000\n",
    "\n"
   ]
  },
  {
   "cell_type": "code",
   "execution_count": 7,
   "metadata": {
    "ExecuteTime": {
     "end_time": "2020-01-01T17:07:50.754567Z",
     "start_time": "2020-01-01T17:07:50.443868Z"
    }
   },
   "outputs": [
    {
     "name": "stdout",
     "output_type": "stream",
     "text": [
      "<class 'pandas.core.frame.DataFrame'>\n",
      "Int64Index: 295945 entries, 0 to 336378\n",
      "Columns: 8438 entries, smishing to tfidf_pos_word_22_0499\n",
      "dtypes: float16(8393), int16(44), int64(1)\n",
      "memory usage: 4.7 GB\n"
     ]
    }
   ],
   "source": [
    "df_model.info()"
   ]
  },
  {
   "cell_type": "code",
   "execution_count": 8,
   "metadata": {
    "ExecuteTime": {
     "end_time": "2020-01-01T17:07:51.281013Z",
     "start_time": "2020-01-01T17:07:50.755793Z"
    }
   },
   "outputs": [],
   "source": [
    "df_model = df_model.reset_index()"
   ]
  },
  {
   "cell_type": "code",
   "execution_count": 9,
   "metadata": {
    "ExecuteTime": {
     "end_time": "2020-01-01T17:07:51.314000Z",
     "start_time": "2020-01-01T17:07:51.281976Z"
    }
   },
   "outputs": [
    {
     "data": {
      "text/html": [
       "<div>\n",
       "<style scoped>\n",
       "    .dataframe tbody tr th:only-of-type {\n",
       "        vertical-align: middle;\n",
       "    }\n",
       "\n",
       "    .dataframe tbody tr th {\n",
       "        vertical-align: top;\n",
       "    }\n",
       "\n",
       "    .dataframe thead th {\n",
       "        text-align: right;\n",
       "    }\n",
       "</style>\n",
       "<table border=\"1\" class=\"dataframe\">\n",
       "  <thead>\n",
       "    <tr style=\"text-align: right;\">\n",
       "      <th></th>\n",
       "      <th>id</th>\n",
       "      <th>smishing</th>\n",
       "      <th>EC</th>\n",
       "      <th>EF</th>\n",
       "      <th>EP</th>\n",
       "      <th>ETM</th>\n",
       "      <th>ETN</th>\n",
       "      <th>IC</th>\n",
       "      <th>JC</th>\n",
       "      <th>JKB</th>\n",
       "      <th>...</th>\n",
       "      <th>tfidf_pos_word_22_0490</th>\n",
       "      <th>tfidf_pos_word_22_0491</th>\n",
       "      <th>tfidf_pos_word_22_0492</th>\n",
       "      <th>tfidf_pos_word_22_0493</th>\n",
       "      <th>tfidf_pos_word_22_0494</th>\n",
       "      <th>tfidf_pos_word_22_0495</th>\n",
       "      <th>tfidf_pos_word_22_0496</th>\n",
       "      <th>tfidf_pos_word_22_0497</th>\n",
       "      <th>tfidf_pos_word_22_0498</th>\n",
       "      <th>tfidf_pos_word_22_0499</th>\n",
       "    </tr>\n",
       "  </thead>\n",
       "  <tbody>\n",
       "    <tr>\n",
       "      <td>0</td>\n",
       "      <td>0</td>\n",
       "      <td>0</td>\n",
       "      <td>0</td>\n",
       "      <td>2</td>\n",
       "      <td>1</td>\n",
       "      <td>1</td>\n",
       "      <td>0</td>\n",
       "      <td>0</td>\n",
       "      <td>0</td>\n",
       "      <td>0</td>\n",
       "      <td>...</td>\n",
       "      <td>0.0</td>\n",
       "      <td>0.0</td>\n",
       "      <td>0.0</td>\n",
       "      <td>0.0</td>\n",
       "      <td>0.0</td>\n",
       "      <td>0.0</td>\n",
       "      <td>0.0</td>\n",
       "      <td>0.0</td>\n",
       "      <td>0.0</td>\n",
       "      <td>0.0</td>\n",
       "    </tr>\n",
       "    <tr>\n",
       "      <td>1</td>\n",
       "      <td>1</td>\n",
       "      <td>0</td>\n",
       "      <td>1</td>\n",
       "      <td>1</td>\n",
       "      <td>2</td>\n",
       "      <td>1</td>\n",
       "      <td>0</td>\n",
       "      <td>0</td>\n",
       "      <td>0</td>\n",
       "      <td>0</td>\n",
       "      <td>...</td>\n",
       "      <td>0.0</td>\n",
       "      <td>0.0</td>\n",
       "      <td>0.0</td>\n",
       "      <td>0.0</td>\n",
       "      <td>0.0</td>\n",
       "      <td>0.0</td>\n",
       "      <td>0.0</td>\n",
       "      <td>0.0</td>\n",
       "      <td>0.0</td>\n",
       "      <td>0.0</td>\n",
       "    </tr>\n",
       "    <tr>\n",
       "      <td>2</td>\n",
       "      <td>2</td>\n",
       "      <td>0</td>\n",
       "      <td>2</td>\n",
       "      <td>5</td>\n",
       "      <td>4</td>\n",
       "      <td>1</td>\n",
       "      <td>0</td>\n",
       "      <td>0</td>\n",
       "      <td>0</td>\n",
       "      <td>0</td>\n",
       "      <td>...</td>\n",
       "      <td>0.0</td>\n",
       "      <td>0.0</td>\n",
       "      <td>0.0</td>\n",
       "      <td>0.0</td>\n",
       "      <td>0.0</td>\n",
       "      <td>0.0</td>\n",
       "      <td>0.0</td>\n",
       "      <td>0.0</td>\n",
       "      <td>0.0</td>\n",
       "      <td>0.0</td>\n",
       "    </tr>\n",
       "    <tr>\n",
       "      <td>3</td>\n",
       "      <td>4</td>\n",
       "      <td>0</td>\n",
       "      <td>1</td>\n",
       "      <td>5</td>\n",
       "      <td>5</td>\n",
       "      <td>7</td>\n",
       "      <td>2</td>\n",
       "      <td>0</td>\n",
       "      <td>1</td>\n",
       "      <td>5</td>\n",
       "      <td>...</td>\n",
       "      <td>0.0</td>\n",
       "      <td>0.0</td>\n",
       "      <td>0.0</td>\n",
       "      <td>0.0</td>\n",
       "      <td>0.0</td>\n",
       "      <td>0.0</td>\n",
       "      <td>0.0</td>\n",
       "      <td>0.0</td>\n",
       "      <td>0.0</td>\n",
       "      <td>0.0</td>\n",
       "    </tr>\n",
       "    <tr>\n",
       "      <td>4</td>\n",
       "      <td>5</td>\n",
       "      <td>0</td>\n",
       "      <td>2</td>\n",
       "      <td>1</td>\n",
       "      <td>1</td>\n",
       "      <td>1</td>\n",
       "      <td>2</td>\n",
       "      <td>0</td>\n",
       "      <td>0</td>\n",
       "      <td>0</td>\n",
       "      <td>...</td>\n",
       "      <td>0.0</td>\n",
       "      <td>0.0</td>\n",
       "      <td>0.0</td>\n",
       "      <td>0.0</td>\n",
       "      <td>0.0</td>\n",
       "      <td>0.0</td>\n",
       "      <td>0.0</td>\n",
       "      <td>0.0</td>\n",
       "      <td>0.0</td>\n",
       "      <td>0.0</td>\n",
       "    </tr>\n",
       "    <tr>\n",
       "      <td>...</td>\n",
       "      <td>...</td>\n",
       "      <td>...</td>\n",
       "      <td>...</td>\n",
       "      <td>...</td>\n",
       "      <td>...</td>\n",
       "      <td>...</td>\n",
       "      <td>...</td>\n",
       "      <td>...</td>\n",
       "      <td>...</td>\n",
       "      <td>...</td>\n",
       "      <td>...</td>\n",
       "      <td>...</td>\n",
       "      <td>...</td>\n",
       "      <td>...</td>\n",
       "      <td>...</td>\n",
       "      <td>...</td>\n",
       "      <td>...</td>\n",
       "      <td>...</td>\n",
       "      <td>...</td>\n",
       "      <td>...</td>\n",
       "      <td>...</td>\n",
       "    </tr>\n",
       "    <tr>\n",
       "      <td>295940</td>\n",
       "      <td>336373</td>\n",
       "      <td>0</td>\n",
       "      <td>5</td>\n",
       "      <td>4</td>\n",
       "      <td>8</td>\n",
       "      <td>7</td>\n",
       "      <td>2</td>\n",
       "      <td>0</td>\n",
       "      <td>2</td>\n",
       "      <td>4</td>\n",
       "      <td>...</td>\n",
       "      <td>0.0</td>\n",
       "      <td>0.0</td>\n",
       "      <td>0.0</td>\n",
       "      <td>0.0</td>\n",
       "      <td>0.0</td>\n",
       "      <td>0.0</td>\n",
       "      <td>0.0</td>\n",
       "      <td>0.0</td>\n",
       "      <td>0.0</td>\n",
       "      <td>0.0</td>\n",
       "    </tr>\n",
       "    <tr>\n",
       "      <td>295941</td>\n",
       "      <td>336375</td>\n",
       "      <td>0</td>\n",
       "      <td>0</td>\n",
       "      <td>1</td>\n",
       "      <td>0</td>\n",
       "      <td>0</td>\n",
       "      <td>0</td>\n",
       "      <td>0</td>\n",
       "      <td>0</td>\n",
       "      <td>0</td>\n",
       "      <td>...</td>\n",
       "      <td>0.0</td>\n",
       "      <td>0.0</td>\n",
       "      <td>0.0</td>\n",
       "      <td>0.0</td>\n",
       "      <td>0.0</td>\n",
       "      <td>0.0</td>\n",
       "      <td>0.0</td>\n",
       "      <td>0.0</td>\n",
       "      <td>0.0</td>\n",
       "      <td>0.0</td>\n",
       "    </tr>\n",
       "    <tr>\n",
       "      <td>295942</td>\n",
       "      <td>336376</td>\n",
       "      <td>0</td>\n",
       "      <td>5</td>\n",
       "      <td>2</td>\n",
       "      <td>3</td>\n",
       "      <td>0</td>\n",
       "      <td>0</td>\n",
       "      <td>0</td>\n",
       "      <td>1</td>\n",
       "      <td>1</td>\n",
       "      <td>...</td>\n",
       "      <td>0.0</td>\n",
       "      <td>0.0</td>\n",
       "      <td>0.0</td>\n",
       "      <td>0.0</td>\n",
       "      <td>0.0</td>\n",
       "      <td>0.0</td>\n",
       "      <td>0.0</td>\n",
       "      <td>0.0</td>\n",
       "      <td>0.0</td>\n",
       "      <td>0.0</td>\n",
       "    </tr>\n",
       "    <tr>\n",
       "      <td>295943</td>\n",
       "      <td>336377</td>\n",
       "      <td>0</td>\n",
       "      <td>3</td>\n",
       "      <td>2</td>\n",
       "      <td>1</td>\n",
       "      <td>0</td>\n",
       "      <td>0</td>\n",
       "      <td>0</td>\n",
       "      <td>0</td>\n",
       "      <td>1</td>\n",
       "      <td>...</td>\n",
       "      <td>0.0</td>\n",
       "      <td>0.0</td>\n",
       "      <td>0.0</td>\n",
       "      <td>0.0</td>\n",
       "      <td>0.0</td>\n",
       "      <td>0.0</td>\n",
       "      <td>0.0</td>\n",
       "      <td>0.0</td>\n",
       "      <td>0.0</td>\n",
       "      <td>0.0</td>\n",
       "    </tr>\n",
       "    <tr>\n",
       "      <td>295944</td>\n",
       "      <td>336378</td>\n",
       "      <td>0</td>\n",
       "      <td>16</td>\n",
       "      <td>7</td>\n",
       "      <td>6</td>\n",
       "      <td>7</td>\n",
       "      <td>4</td>\n",
       "      <td>0</td>\n",
       "      <td>0</td>\n",
       "      <td>6</td>\n",
       "      <td>...</td>\n",
       "      <td>0.0</td>\n",
       "      <td>0.0</td>\n",
       "      <td>0.0</td>\n",
       "      <td>0.0</td>\n",
       "      <td>0.0</td>\n",
       "      <td>0.0</td>\n",
       "      <td>0.0</td>\n",
       "      <td>0.0</td>\n",
       "      <td>0.0</td>\n",
       "      <td>0.0</td>\n",
       "    </tr>\n",
       "  </tbody>\n",
       "</table>\n",
       "<p>295945 rows × 8439 columns</p>\n",
       "</div>"
      ],
      "text/plain": [
       "            id  smishing  EC  EF  EP  ETM  ETN  IC  JC  JKB  ...  \\\n",
       "0            0         0   0   2   1    1    0   0   0    0  ...   \n",
       "1            1         0   1   1   2    1    0   0   0    0  ...   \n",
       "2            2         0   2   5   4    1    0   0   0    0  ...   \n",
       "3            4         0   1   5   5    7    2   0   1    5  ...   \n",
       "4            5         0   2   1   1    1    2   0   0    0  ...   \n",
       "...        ...       ...  ..  ..  ..  ...  ...  ..  ..  ...  ...   \n",
       "295940  336373         0   5   4   8    7    2   0   2    4  ...   \n",
       "295941  336375         0   0   1   0    0    0   0   0    0  ...   \n",
       "295942  336376         0   5   2   3    0    0   0   1    1  ...   \n",
       "295943  336377         0   3   2   1    0    0   0   0    1  ...   \n",
       "295944  336378         0  16   7   6    7    4   0   0    6  ...   \n",
       "\n",
       "        tfidf_pos_word_22_0490  tfidf_pos_word_22_0491  \\\n",
       "0                          0.0                     0.0   \n",
       "1                          0.0                     0.0   \n",
       "2                          0.0                     0.0   \n",
       "3                          0.0                     0.0   \n",
       "4                          0.0                     0.0   \n",
       "...                        ...                     ...   \n",
       "295940                     0.0                     0.0   \n",
       "295941                     0.0                     0.0   \n",
       "295942                     0.0                     0.0   \n",
       "295943                     0.0                     0.0   \n",
       "295944                     0.0                     0.0   \n",
       "\n",
       "        tfidf_pos_word_22_0492  tfidf_pos_word_22_0493  \\\n",
       "0                          0.0                     0.0   \n",
       "1                          0.0                     0.0   \n",
       "2                          0.0                     0.0   \n",
       "3                          0.0                     0.0   \n",
       "4                          0.0                     0.0   \n",
       "...                        ...                     ...   \n",
       "295940                     0.0                     0.0   \n",
       "295941                     0.0                     0.0   \n",
       "295942                     0.0                     0.0   \n",
       "295943                     0.0                     0.0   \n",
       "295944                     0.0                     0.0   \n",
       "\n",
       "        tfidf_pos_word_22_0494  tfidf_pos_word_22_0495  \\\n",
       "0                          0.0                     0.0   \n",
       "1                          0.0                     0.0   \n",
       "2                          0.0                     0.0   \n",
       "3                          0.0                     0.0   \n",
       "4                          0.0                     0.0   \n",
       "...                        ...                     ...   \n",
       "295940                     0.0                     0.0   \n",
       "295941                     0.0                     0.0   \n",
       "295942                     0.0                     0.0   \n",
       "295943                     0.0                     0.0   \n",
       "295944                     0.0                     0.0   \n",
       "\n",
       "        tfidf_pos_word_22_0496  tfidf_pos_word_22_0497  \\\n",
       "0                          0.0                     0.0   \n",
       "1                          0.0                     0.0   \n",
       "2                          0.0                     0.0   \n",
       "3                          0.0                     0.0   \n",
       "4                          0.0                     0.0   \n",
       "...                        ...                     ...   \n",
       "295940                     0.0                     0.0   \n",
       "295941                     0.0                     0.0   \n",
       "295942                     0.0                     0.0   \n",
       "295943                     0.0                     0.0   \n",
       "295944                     0.0                     0.0   \n",
       "\n",
       "        tfidf_pos_word_22_0498  tfidf_pos_word_22_0499  \n",
       "0                          0.0                     0.0  \n",
       "1                          0.0                     0.0  \n",
       "2                          0.0                     0.0  \n",
       "3                          0.0                     0.0  \n",
       "4                          0.0                     0.0  \n",
       "...                        ...                     ...  \n",
       "295940                     0.0                     0.0  \n",
       "295941                     0.0                     0.0  \n",
       "295942                     0.0                     0.0  \n",
       "295943                     0.0                     0.0  \n",
       "295944                     0.0                     0.0  \n",
       "\n",
       "[295945 rows x 8439 columns]"
      ]
     },
     "execution_count": 9,
     "metadata": {},
     "output_type": "execute_result"
    }
   ],
   "source": [
    "df_model"
   ]
  },
  {
   "cell_type": "markdown",
   "metadata": {},
   "source": [
    "#### Train"
   ]
  },
  {
   "cell_type": "code",
   "execution_count": 10,
   "metadata": {
    "ExecuteTime": {
     "end_time": "2020-01-01T17:43:52.868535Z",
     "start_time": "2020-01-01T17:07:51.314710Z"
    },
    "scrolled": true
   },
   "outputs": [
    {
     "data": {
      "application/vnd.jupyter.widget-view+json": {
       "model_id": "18f815ecf36e4a5cbe80bc50a49357ee",
       "version_major": 2,
       "version_minor": 0
      },
      "text/plain": [
       "HBox(children=(IntProgress(value=0, description='Try', max=1, style=ProgressStyle(description_width='initial')…"
      ]
     },
     "metadata": {},
     "output_type": "display_data"
    },
    {
     "name": "stdout",
     "output_type": "stream",
     "text": [
      "0 8437\n"
     ]
    },
    {
     "data": {
      "application/vnd.jupyter.widget-view+json": {
       "model_id": "b69568abd00e469381d3caf885f3ec48",
       "version_major": 2,
       "version_minor": 0
      },
      "text/plain": [
       "HBox(children=(IntProgress(value=0, description='CV', max=5, style=ProgressStyle(description_width='initial'))…"
      ]
     },
     "metadata": {},
     "output_type": "display_data"
    },
    {
     "name": "stdout",
     "output_type": "stream",
     "text": [
      "\n",
      " 0 ******************** 1 ********************\n",
      "train_set (array([0, 1]), array([221793,  14962]))\n",
      "valid_set (array([0, 1]), array([55449,  3741]))\n",
      "Training until validation scores don't improve for 300 rounds\n",
      "[200]\ttraining's auc: 0.999958\tvalid_1's auc: 0.999671\n",
      "[400]\ttraining's auc: 0.999994\tvalid_1's auc: 0.999795\n",
      "[600]\ttraining's auc: 0.999997\tvalid_1's auc: 0.999884\n",
      "[800]\ttraining's auc: 0.999999\tvalid_1's auc: 0.999934\n",
      "[1000]\ttraining's auc: 0.999999\tvalid_1's auc: 0.999958\n",
      "[1200]\ttraining's auc: 1\tvalid_1's auc: 0.999975\n",
      "[1400]\ttraining's auc: 1\tvalid_1's auc: 0.999984\n",
      "[1600]\ttraining's auc: 1\tvalid_1's auc: 0.999987\n",
      "[1800]\ttraining's auc: 1\tvalid_1's auc: 0.999991\n",
      "[2000]\ttraining's auc: 1\tvalid_1's auc: 0.999991\n",
      "[2200]\ttraining's auc: 1\tvalid_1's auc: 0.999994\n",
      "[2400]\ttraining's auc: 1\tvalid_1's auc: 0.999995\n",
      "[2600]\ttraining's auc: 1\tvalid_1's auc: 0.999996\n",
      "[2800]\ttraining's auc: 1\tvalid_1's auc: 0.999997\n",
      "[3000]\ttraining's auc: 1\tvalid_1's auc: 0.999997\n",
      "[3200]\ttraining's auc: 1\tvalid_1's auc: 0.999998\n",
      "[3400]\ttraining's auc: 1\tvalid_1's auc: 0.999998\n",
      "[3600]\ttraining's auc: 1\tvalid_1's auc: 0.999998\n",
      "[3800]\ttraining's auc: 1\tvalid_1's auc: 0.999998\n",
      "[4000]\ttraining's auc: 1\tvalid_1's auc: 0.999998\n",
      "[4200]\ttraining's auc: 1\tvalid_1's auc: 0.999999\n",
      "[4400]\ttraining's auc: 1\tvalid_1's auc: 0.999999\n",
      "[4600]\ttraining's auc: 1\tvalid_1's auc: 0.999999\n",
      "[4800]\ttraining's auc: 1\tvalid_1's auc: 0.999999\n",
      "[5000]\ttraining's auc: 1\tvalid_1's auc: 0.999999\n",
      "Early stopping, best iteration is:\n",
      "[4845]\ttraining's auc: 1\tvalid_1's auc: 0.999999\n",
      "Best Iteration: 4845\n",
      "split: [('tfidf_pos_word_22_0028_xxx 은행', 922), ('tfidf_pos_char_11_0000_ ', 408), ('tfidf_word_11_1516_전화', 400), ('tfidf_word_11_1263_올림', 342), ('tfidf_word_11_0928_상품', 301)]\n",
      "gain: [('NNG', 8739796.605808899), ('cnt_0715_자', 7482551.761188), ('fea__noun_cnt', 4736938.920264065), ('tfidf_pos_char_11_0636_자', 1152292.167648971), ('tfidf_word_22_0130_xxx 올림', 1053760.323183775)]\n",
      "model\n",
      " {'auc': 0.9999998491878067, 'confusion_matrix': array([[277240,      2],\n",
      "       [    17,  18686]]), 'precision': 0.9998929794520548, 'recall': 0.9990910549109768}\n",
      "\n",
      " 0 ******************** 2 ********************\n",
      "train_set (array([0, 1]), array([221793,  14962]))\n",
      "valid_set (array([0, 1]), array([55449,  3741]))\n",
      "Training until validation scores don't improve for 300 rounds\n",
      "[200]\ttraining's auc: 0.999879\tvalid_1's auc: 0.999964\n",
      "[400]\ttraining's auc: 0.999988\tvalid_1's auc: 0.999989\n",
      "[600]\ttraining's auc: 0.999996\tvalid_1's auc: 0.999994\n",
      "[800]\ttraining's auc: 0.999998\tvalid_1's auc: 0.999996\n",
      "[1000]\ttraining's auc: 0.999999\tvalid_1's auc: 0.999997\n",
      "[1200]\ttraining's auc: 0.999999\tvalid_1's auc: 0.999998\n",
      "[1400]\ttraining's auc: 1\tvalid_1's auc: 0.999999\n",
      "[1600]\ttraining's auc: 1\tvalid_1's auc: 0.999999\n",
      "[1800]\ttraining's auc: 1\tvalid_1's auc: 0.999999\n",
      "[2000]\ttraining's auc: 1\tvalid_1's auc: 0.999999\n",
      "[2200]\ttraining's auc: 1\tvalid_1's auc: 0.999999\n",
      "[2400]\ttraining's auc: 1\tvalid_1's auc: 1\n",
      "[2600]\ttraining's auc: 1\tvalid_1's auc: 1\n",
      "[2800]\ttraining's auc: 1\tvalid_1's auc: 1\n",
      "[3000]\ttraining's auc: 1\tvalid_1's auc: 1\n",
      "[3200]\ttraining's auc: 1\tvalid_1's auc: 1\n",
      "[3400]\ttraining's auc: 1\tvalid_1's auc: 1\n",
      "[3600]\ttraining's auc: 1\tvalid_1's auc: 1\n",
      "[3800]\ttraining's auc: 1\tvalid_1's auc: 1\n",
      "[4000]\ttraining's auc: 1\tvalid_1's auc: 1\n",
      "[4200]\ttraining's auc: 1\tvalid_1's auc: 1\n",
      "[4400]\ttraining's auc: 1\tvalid_1's auc: 1\n",
      "Early stopping, best iteration is:\n",
      "[4123]\ttraining's auc: 1\tvalid_1's auc: 1\n",
      "Best Iteration: 4123\n",
      "split: [('tfidf_pos_word_22_0028_xxx 은행', 926), ('tfidf_pos_char_11_0000_ ', 493), ('tfidf_word_11_1263_올림', 328), ('tfidf_word_11_1516_전화', 296), ('tfidf_word_11_0552_대환', 271)]\n",
      "gain: [('cnt_0715_자', 11339123.726689339), ('NNG', 6062719.995234251), ('fea__noun_cnt', 2936708.2091826797), ('tfidf_pos_char_11_0000_ ', 1354003.8440878987), ('cnt_0583_신', 1143871.6743621826)]\n",
      "model\n",
      " {'auc': 0.9999999510149653, 'confusion_matrix': array([[277242,      0],\n",
      "       [     3,  18700]]), 'precision': 1.0, 'recall': 0.9998395979254665}\n",
      "\n",
      " 0 ******************** 3 ********************\n",
      "train_set (array([0, 1]), array([221794,  14962]))\n",
      "valid_set (array([0, 1]), array([55448,  3741]))\n",
      "Training until validation scores don't improve for 300 rounds\n",
      "[200]\ttraining's auc: 0.999888\tvalid_1's auc: 0.99988\n",
      "[400]\ttraining's auc: 0.999979\tvalid_1's auc: 0.999943\n",
      "[600]\ttraining's auc: 0.999997\tvalid_1's auc: 0.999963\n",
      "[800]\ttraining's auc: 0.999999\tvalid_1's auc: 0.999969\n",
      "[1000]\ttraining's auc: 0.999999\tvalid_1's auc: 0.999972\n",
      "[1200]\ttraining's auc: 1\tvalid_1's auc: 0.999975\n",
      "[1400]\ttraining's auc: 1\tvalid_1's auc: 0.999982\n",
      "[1600]\ttraining's auc: 1\tvalid_1's auc: 0.999987\n",
      "[1800]\ttraining's auc: 1\tvalid_1's auc: 0.999989\n",
      "[2000]\ttraining's auc: 1\tvalid_1's auc: 0.99999\n",
      "[2200]\ttraining's auc: 1\tvalid_1's auc: 0.999991\n",
      "[2400]\ttraining's auc: 1\tvalid_1's auc: 0.999992\n",
      "[2600]\ttraining's auc: 1\tvalid_1's auc: 0.999993\n",
      "[2800]\ttraining's auc: 1\tvalid_1's auc: 0.999993\n",
      "[3000]\ttraining's auc: 1\tvalid_1's auc: 0.999994\n",
      "[3200]\ttraining's auc: 1\tvalid_1's auc: 0.999994\n",
      "[3400]\ttraining's auc: 1\tvalid_1's auc: 0.999995\n",
      "[3600]\ttraining's auc: 1\tvalid_1's auc: 0.999995\n",
      "[3800]\ttraining's auc: 1\tvalid_1's auc: 0.999995\n",
      "[4000]\ttraining's auc: 1\tvalid_1's auc: 0.999996\n",
      "[4200]\ttraining's auc: 1\tvalid_1's auc: 0.999996\n",
      "[4400]\ttraining's auc: 1\tvalid_1's auc: 0.999996\n",
      "[4600]\ttraining's auc: 1\tvalid_1's auc: 0.999996\n",
      "[4800]\ttraining's auc: 1\tvalid_1's auc: 0.999996\n",
      "[5000]\ttraining's auc: 1\tvalid_1's auc: 0.999996\n",
      "Early stopping, best iteration is:\n",
      "[4820]\ttraining's auc: 1\tvalid_1's auc: 0.999996\n",
      "Best Iteration: 4820\n",
      "split: [('tfidf_pos_word_22_0028_xxx 은행', 1078), ('tfidf_pos_char_11_0000_ ', 504), ('tfidf_word_11_1263_올림', 416), ('tfidf_word_11_1516_전화', 392), ('tfidf_word_22_0132_xxx 은행', 300)]\n",
      "gain: [('NNG', 10286940.28599383), ('cnt_0715_자', 6826166.127836943), ('fea__noun_cnt', 3528586.854627624), ('cnt_0583_신', 1554516.5825088695), ('tfidf_pos_char_11_0000_ ', 1468990.7043112367)]\n",
      "model\n",
      " {'auc': 0.999999486428554, 'confusion_matrix': array([[277242,      0],\n",
      "       [     4,  18699]]), 'precision': 1.0, 'recall': 0.9997861305672887}\n",
      "\n",
      " 0 ******************** 4 ********************\n",
      "train_set (array([0, 1]), array([221794,  14963]))\n",
      "valid_set (array([0, 1]), array([55448,  3740]))\n",
      "Training until validation scores don't improve for 300 rounds\n",
      "[200]\ttraining's auc: 0.999921\tvalid_1's auc: 0.999896\n",
      "[400]\ttraining's auc: 0.999987\tvalid_1's auc: 0.999961\n",
      "[600]\ttraining's auc: 0.999996\tvalid_1's auc: 0.999986\n",
      "[800]\ttraining's auc: 0.999998\tvalid_1's auc: 0.999993\n",
      "[1000]\ttraining's auc: 0.999999\tvalid_1's auc: 0.999996\n",
      "[1200]\ttraining's auc: 0.999999\tvalid_1's auc: 0.999998\n",
      "[1400]\ttraining's auc: 1\tvalid_1's auc: 0.999999\n",
      "[1600]\ttraining's auc: 1\tvalid_1's auc: 0.999999\n",
      "[1800]\ttraining's auc: 1\tvalid_1's auc: 1\n",
      "[2000]\ttraining's auc: 1\tvalid_1's auc: 1\n",
      "[2200]\ttraining's auc: 1\tvalid_1's auc: 1\n",
      "[2400]\ttraining's auc: 1\tvalid_1's auc: 1\n",
      "[2600]\ttraining's auc: 1\tvalid_1's auc: 1\n",
      "[2800]\ttraining's auc: 1\tvalid_1's auc: 1\n",
      "[3000]\ttraining's auc: 1\tvalid_1's auc: 1\n",
      "[3200]\ttraining's auc: 1\tvalid_1's auc: 1\n",
      "Early stopping, best iteration is:\n",
      "[2975]\ttraining's auc: 1\tvalid_1's auc: 1\n",
      "Best Iteration: 2975\n",
      "split: [('tfidf_pos_word_22_0028_xxx 은행', 751), ('tfidf_pos_char_11_0000_ ', 402), ('tfidf_word_11_1263_올림', 296), ('tfidf_word_11_1516_전화', 275), ('tfidf_word_11_0552_대환', 201)]\n",
      "gain: [('NNG', 9164624.482588291), ('cnt_0715_자', 7103132.232330322), ('fea__noun_cnt', 4608267.0783081055), ('tfidf_word_11_1263_올림', 1040954.7727255821), ('fea__morphs_cnt', 961742.066434145)]\n",
      "model\n",
      " {'auc': 0.9999999998071455, 'confusion_matrix': array([[277233,      9],\n",
      "       [     0,  18703]]), 'precision': 0.9995190252244549, 'recall': 1.0}\n",
      "\n",
      " 0 ******************** 5 ********************\n",
      "train_set (array([0, 1]), array([221794,  14963]))\n",
      "valid_set (array([0, 1]), array([55448,  3740]))\n",
      "Training until validation scores don't improve for 300 rounds\n",
      "[200]\ttraining's auc: 0.999947\tvalid_1's auc: 0.999324\n",
      "[400]\ttraining's auc: 0.99999\tvalid_1's auc: 0.999571\n",
      "[600]\ttraining's auc: 0.999997\tvalid_1's auc: 0.999741\n",
      "[800]\ttraining's auc: 0.999999\tvalid_1's auc: 0.999842\n",
      "[1000]\ttraining's auc: 1\tvalid_1's auc: 0.999894\n",
      "[1200]\ttraining's auc: 1\tvalid_1's auc: 0.999912\n"
     ]
    },
    {
     "name": "stdout",
     "output_type": "stream",
     "text": [
      "[1400]\ttraining's auc: 1\tvalid_1's auc: 0.999934\n",
      "[1600]\ttraining's auc: 1\tvalid_1's auc: 0.999948\n",
      "[1800]\ttraining's auc: 1\tvalid_1's auc: 0.999961\n",
      "[2000]\ttraining's auc: 1\tvalid_1's auc: 0.999967\n",
      "[2200]\ttraining's auc: 1\tvalid_1's auc: 0.999969\n",
      "[2400]\ttraining's auc: 1\tvalid_1's auc: 0.999971\n",
      "[2600]\ttraining's auc: 1\tvalid_1's auc: 0.999972\n",
      "[2800]\ttraining's auc: 1\tvalid_1's auc: 0.999973\n",
      "[3000]\ttraining's auc: 1\tvalid_1's auc: 0.999975\n",
      "[3200]\ttraining's auc: 1\tvalid_1's auc: 0.999976\n",
      "[3400]\ttraining's auc: 1\tvalid_1's auc: 0.999982\n",
      "[3600]\ttraining's auc: 1\tvalid_1's auc: 0.999985\n",
      "[3800]\ttraining's auc: 1\tvalid_1's auc: 0.999985\n",
      "[4000]\ttraining's auc: 1\tvalid_1's auc: 0.999985\n",
      "Early stopping, best iteration is:\n",
      "[3777]\ttraining's auc: 1\tvalid_1's auc: 0.999985\n",
      "Best Iteration: 3777\n",
      "split: [('tfidf_pos_word_22_0028_xxx 은행', 857), ('tfidf_pos_char_11_0000_ ', 421), ('tfidf_word_11_1263_올림', 385), ('tfidf_word_11_0307_광고', 296), ('tfidf_word_11_1516_전화', 279)]\n",
      "gain: [('cnt_0715_자', 9798872.550420403), ('NNG', 6306628.172301531), ('fea__noun_cnt', 3428932.7664530277), ('cnt_0126_금', 1720976.594862163), ('tfidf_pos_char_11_0000_ ', 1228866.9846589565)]\n",
      "model\n",
      " {'auc': 0.9999988689085503, 'confusion_matrix': array([[277225,     17],\n",
      "       [     5,  18698]]), 'precision': 0.999091637723751, 'recall': 0.9997326632091108}\n",
      "\n",
      "\n"
     ]
    }
   ],
   "source": [
    "pred_csv = []\n",
    "fea_size = -1\n",
    "try_cnt = 1\n",
    "\n",
    "for t in tqdm_notebook(range(try_cnt), total=try_cnt, desc = 'Try'):\n",
    "    fea_cols = [c for c in df_model.columns if c not in ['smishing', 'id', 'score']]\n",
    "    \n",
    "    if fea_size > 0:\n",
    "        fea_cols = list(set(np.random.choice(fea_cols, fea_size)))\n",
    "        print(t, len(fea_cols), fea_cols[:100])\n",
    "    else:\n",
    "        print(t, len(fea_cols))\n",
    "\n",
    "    [df_model.drop(c, axis=1, inplace=True) for c in df_model.columns if 'smishing_' in c]\n",
    "    [df_test.drop(c, axis=1, inplace=True) for c in df_test.columns if 'smishing_' in c]\n",
    "\n",
    "#     X = df_model[fea_cols].values\n",
    "#     y = df_model['smishing'].values\n",
    "\n",
    "    n_splits = 5\n",
    "    skf = StratifiedKFold(n_splits=n_splits, random_state=8405)\n",
    "    cnt = 0\n",
    "    \n",
    "#     train_data = lgb.Dataset(X, label=y, feature_name=fea_cols, categorical_feature=cat_cols, \n",
    "#                              free_raw_data=False, params=data_params)\n",
    "\n",
    "    # for train_index, valid_index in skf.split(X, y):\n",
    "    for train_index, valid_index in tqdm_notebook(skf.split(df_model[fea_cols].values, df_model['smishing'].values), total=n_splits, desc = 'CV'):\n",
    "        cnt = cnt + 1\n",
    "        print('\\n', t, '*' * 20, cnt, '*' * 20)\n",
    "        \n",
    "        train_set = lgb.Dataset(df_model.loc[train_index, fea_cols].values, \n",
    "                                 label=df_model.loc[train_index, 'smishing'].values, \n",
    "                                 feature_name=fea_cols, categorical_feature=cat_cols, \n",
    "                                 free_raw_data=True, params=data_params)\n",
    "        \n",
    "        valid_set = lgb.Dataset(df_model.loc[valid_index, fea_cols].values, \n",
    "                                 label=df_model.loc[valid_index, 'smishing'].values, \n",
    "                                 feature_name=fea_cols, categorical_feature=cat_cols, \n",
    "                                 free_raw_data=True, params=data_params)\n",
    "\n",
    "#         train_set = train_data.subset(train_index, params=data_params).construct()\n",
    "#         valid_set = train_data.subset(valid_index, params=data_params).construct()\n",
    "        print('train_set', np.unique(train_set.get_label(), return_counts=True))\n",
    "        print('valid_set', np.unique(valid_set.get_label(), return_counts=True))\n",
    "\n",
    "        bst = lgb.train(params, train_set, num_round, categorical_feature=cat_cols,\n",
    "                        early_stopping_rounds=300, \n",
    "                        valid_sets=[train_set, valid_set],\n",
    "                        verbose_eval=200,\n",
    "                        # init_model=init_model,\n",
    "                       )\n",
    "\n",
    "        print('Best Iteration:', bst.best_iteration)\n",
    "        pred_tag = 'smishing_{}_{}__{}'.format(t, cnt, bst.best_iteration)\n",
    "\n",
    "        renamed_cols = [fea_dict[c] if c in fea_dict.keys() else c for c in fea_cols]\n",
    "\n",
    "        impt_dict = {k:v for k, v in zip(renamed_cols, bst.feature_importance(importance_type='split'))}\n",
    "        print('split:', sorted(impt_dict.items(), key=(lambda x:x[1]), reverse=True)[:5])\n",
    "        joblib.dump(impt_dict, 'model/{}_{}_split.pkl'.format(model_ts, pred_tag))\n",
    "\n",
    "        impt_dict = {k:v for k, v in zip(renamed_cols, bst.feature_importance(importance_type='gain'))}    \n",
    "        print('gain:', sorted(impt_dict.items(), key=(lambda x:x[1]), reverse=True)[:5])\n",
    "        joblib.dump(impt_dict, 'model/{}_gain.pkl'.format(model_ts, pred_tag))\n",
    "\n",
    "        df_model['score'] = bst.predict(df_model[fea_cols].values)    \n",
    "        df_model[['score']].to_csv('submit/{}_{}_lgb_score.csv'.format(model_ts, pred_tag), index=True)\n",
    "        print('model\\n', eval_summary(df_model['smishing'].values, df_model['score'].values, cut_off=0.5))\n",
    "        \n",
    "        df_test['smishing'] = bst.predict(df_test[fea_cols].values)    \n",
    "        df_test[['smishing']].to_csv('submit/{}_{}_lgb.csv'.format(model_ts, pred_tag), index=True)\n",
    "        pred_csv.append('submit/{}_{}_lgb.csv'.format(model_ts, pred_tag))\n",
    "        \n",
    "        del train_set, valid_set\n",
    "        gc.collect()\n"
   ]
  },
  {
   "cell_type": "code",
   "execution_count": 11,
   "metadata": {
    "ExecuteTime": {
     "end_time": "2020-01-01T17:43:52.873647Z",
     "start_time": "2020-01-01T17:43:52.871097Z"
    }
   },
   "outputs": [],
   "source": [
    "# y_true = df_model['smishing'].values\n",
    "# y_score = df_model[[c for c in df_model.columns if 'smishing_' in c]].mean(axis=1)\n",
    "\n",
    "# print('agg model\\n', eval_summary(y_true, y_score, cut_off=0.5))"
   ]
  },
  {
   "cell_type": "code",
   "execution_count": 12,
   "metadata": {
    "ExecuteTime": {
     "end_time": "2020-01-01T17:43:52.881786Z",
     "start_time": "2020-01-01T17:43:52.874673Z"
    },
    "scrolled": true
   },
   "outputs": [],
   "source": [
    "# df_model[(y_score <= 0.5) & (y_true == 1)]['text']"
   ]
  },
  {
   "cell_type": "code",
   "execution_count": 13,
   "metadata": {
    "ExecuteTime": {
     "end_time": "2020-01-01T17:43:52.889380Z",
     "start_time": "2020-01-01T17:43:52.882895Z"
    },
    "scrolled": true
   },
   "outputs": [],
   "source": [
    "# df_model[(y_score > 0.5) & (y_true == 0)]['text']"
   ]
  },
  {
   "cell_type": "code",
   "execution_count": 14,
   "metadata": {
    "ExecuteTime": {
     "end_time": "2020-01-01T17:43:52.914463Z",
     "start_time": "2020-01-01T17:43:52.890465Z"
    }
   },
   "outputs": [
    {
     "name": "stdout",
     "output_type": "stream",
     "text": [
      "5\n"
     ]
    }
   ],
   "source": [
    "print(len(pred_csv))\n",
    "\n",
    "df_submit = pd.concat([pd.read_csv(csv, index_col=0) for csv in pred_csv], axis=1)"
   ]
  },
  {
   "cell_type": "code",
   "execution_count": 15,
   "metadata": {
    "ExecuteTime": {
     "end_time": "2020-01-01T17:43:52.982710Z",
     "start_time": "2020-01-01T17:43:52.915288Z"
    }
   },
   "outputs": [
    {
     "name": "stdout",
     "output_type": "stream",
     "text": [
      "submit/20200102T020750_smishing_0_1__4845_lgb.csv\n",
      "submit/20200102T020750_smishing_0_2__4123_lgb.csv\n",
      "submit/20200102T020750_smishing_0_3__4820_lgb.csv\n",
      "submit/20200102T020750_smishing_0_4__2975_lgb.csv\n",
      "submit/20200102T020750_smishing_0_5__3777_lgb.csv\n"
     ]
    }
   ],
   "source": [
    "df_submit = df_test[['smishing']]\n",
    "df_submit['smishing'] = 0\n",
    "for csv in pred_csv:\n",
    "    print(csv)\n",
    "    df = pd.read_csv(csv, index_col=0)\n",
    "    df_submit['smishing'] = df_submit['smishing'] + df['smishing']\n",
    "    c = csv.split('__')[0][-1]\n",
    "    df_submit['smishing_{}'.format(c)] = df['smishing']\n",
    "#     display(df.head())\n",
    "df_submit['smishing'] = df_submit['smishing'] / len(pred_csv)"
   ]
  },
  {
   "cell_type": "code",
   "execution_count": 16,
   "metadata": {
    "ExecuteTime": {
     "end_time": "2020-01-01T17:43:52.989702Z",
     "start_time": "2020-01-01T17:43:52.983651Z"
    },
    "scrolled": true
   },
   "outputs": [],
   "source": [
    "pred_cols = [c for c in df_submit.columns if 'smishing_' in c]\n",
    "pred_cols.remove('smishing_1')\n",
    "pred_cols.remove('smishing_2')\n",
    "df_submit['std'] = df_submit[pred_cols].std(axis=1)\n",
    "df_submit['median'] = df_submit[pred_cols].median(axis=1)"
   ]
  },
  {
   "cell_type": "code",
   "execution_count": 17,
   "metadata": {
    "ExecuteTime": {
     "end_time": "2020-01-01T17:43:53.004625Z",
     "start_time": "2020-01-01T17:43:52.990466Z"
    }
   },
   "outputs": [
    {
     "name": "stdout",
     "output_type": "stream",
     "text": [
      "(1626, 8)\n"
     ]
    },
    {
     "data": {
      "text/html": [
       "<div>\n",
       "<style scoped>\n",
       "    .dataframe tbody tr th:only-of-type {\n",
       "        vertical-align: middle;\n",
       "    }\n",
       "\n",
       "    .dataframe tbody tr th {\n",
       "        vertical-align: top;\n",
       "    }\n",
       "\n",
       "    .dataframe thead th {\n",
       "        text-align: right;\n",
       "    }\n",
       "</style>\n",
       "<table border=\"1\" class=\"dataframe\">\n",
       "  <thead>\n",
       "    <tr style=\"text-align: right;\">\n",
       "      <th></th>\n",
       "      <th>smishing</th>\n",
       "      <th>smishing_1</th>\n",
       "      <th>smishing_2</th>\n",
       "      <th>smishing_3</th>\n",
       "      <th>smishing_4</th>\n",
       "      <th>smishing_5</th>\n",
       "      <th>std</th>\n",
       "      <th>median</th>\n",
       "    </tr>\n",
       "    <tr>\n",
       "      <th>id</th>\n",
       "      <th></th>\n",
       "      <th></th>\n",
       "      <th></th>\n",
       "      <th></th>\n",
       "      <th></th>\n",
       "      <th></th>\n",
       "      <th></th>\n",
       "      <th></th>\n",
       "    </tr>\n",
       "  </thead>\n",
       "  <tbody>\n",
       "    <tr>\n",
       "      <td>341227</td>\n",
       "      <td>0.706087</td>\n",
       "      <td>0.679118</td>\n",
       "      <td>0.901728</td>\n",
       "      <td>0.981549</td>\n",
       "      <td>0.871519</td>\n",
       "      <td>0.096519</td>\n",
       "      <td>0.482357</td>\n",
       "      <td>0.871519</td>\n",
       "    </tr>\n",
       "    <tr>\n",
       "      <td>340046</td>\n",
       "      <td>0.427041</td>\n",
       "      <td>0.032274</td>\n",
       "      <td>0.334214</td>\n",
       "      <td>0.121047</td>\n",
       "      <td>0.854306</td>\n",
       "      <td>0.793363</td>\n",
       "      <td>0.406897</td>\n",
       "      <td>0.793363</td>\n",
       "    </tr>\n",
       "    <tr>\n",
       "      <td>341349</td>\n",
       "      <td>0.470899</td>\n",
       "      <td>0.085766</td>\n",
       "      <td>0.611003</td>\n",
       "      <td>0.214015</td>\n",
       "      <td>0.954856</td>\n",
       "      <td>0.488858</td>\n",
       "      <td>0.374508</td>\n",
       "      <td>0.488858</td>\n",
       "    </tr>\n",
       "    <tr>\n",
       "      <td>340592</td>\n",
       "      <td>0.267926</td>\n",
       "      <td>0.009460</td>\n",
       "      <td>0.029901</td>\n",
       "      <td>0.051133</td>\n",
       "      <td>0.484391</td>\n",
       "      <td>0.764747</td>\n",
       "      <td>0.359527</td>\n",
       "      <td>0.484391</td>\n",
       "    </tr>\n",
       "    <tr>\n",
       "      <td>340056</td>\n",
       "      <td>0.373374</td>\n",
       "      <td>0.056993</td>\n",
       "      <td>0.170552</td>\n",
       "      <td>0.132636</td>\n",
       "      <td>0.726873</td>\n",
       "      <td>0.779817</td>\n",
       "      <td>0.359343</td>\n",
       "      <td>0.726873</td>\n",
       "    </tr>\n",
       "    <tr>\n",
       "      <td>341620</td>\n",
       "      <td>0.564389</td>\n",
       "      <td>0.519732</td>\n",
       "      <td>0.182455</td>\n",
       "      <td>0.855915</td>\n",
       "      <td>0.310487</td>\n",
       "      <td>0.953353</td>\n",
       "      <td>0.346473</td>\n",
       "      <td>0.855915</td>\n",
       "    </tr>\n",
       "    <tr>\n",
       "      <td>340361</td>\n",
       "      <td>0.263704</td>\n",
       "      <td>0.061647</td>\n",
       "      <td>0.155459</td>\n",
       "      <td>0.029228</td>\n",
       "      <td>0.356773</td>\n",
       "      <td>0.715411</td>\n",
       "      <td>0.343208</td>\n",
       "      <td>0.356773</td>\n",
       "    </tr>\n",
       "    <tr>\n",
       "      <td>341477</td>\n",
       "      <td>0.244879</td>\n",
       "      <td>0.141601</td>\n",
       "      <td>0.021571</td>\n",
       "      <td>0.715319</td>\n",
       "      <td>0.121179</td>\n",
       "      <td>0.224723</td>\n",
       "      <td>0.317387</td>\n",
       "      <td>0.224723</td>\n",
       "    </tr>\n",
       "    <tr>\n",
       "      <td>341365</td>\n",
       "      <td>0.512334</td>\n",
       "      <td>0.117621</td>\n",
       "      <td>0.628527</td>\n",
       "      <td>0.322624</td>\n",
       "      <td>0.943968</td>\n",
       "      <td>0.548930</td>\n",
       "      <td>0.314467</td>\n",
       "      <td>0.548930</td>\n",
       "    </tr>\n",
       "    <tr>\n",
       "      <td>340913</td>\n",
       "      <td>0.700042</td>\n",
       "      <td>0.603073</td>\n",
       "      <td>0.759435</td>\n",
       "      <td>0.357538</td>\n",
       "      <td>0.880451</td>\n",
       "      <td>0.899713</td>\n",
       "      <td>0.307615</td>\n",
       "      <td>0.880451</td>\n",
       "    </tr>\n",
       "    <tr>\n",
       "      <td>340217</td>\n",
       "      <td>0.272746</td>\n",
       "      <td>0.038240</td>\n",
       "      <td>0.075619</td>\n",
       "      <td>0.063350</td>\n",
       "      <td>0.563179</td>\n",
       "      <td>0.623342</td>\n",
       "      <td>0.307419</td>\n",
       "      <td>0.563179</td>\n",
       "    </tr>\n",
       "    <tr>\n",
       "      <td>341412</td>\n",
       "      <td>0.221822</td>\n",
       "      <td>0.008291</td>\n",
       "      <td>0.109398</td>\n",
       "      <td>0.105216</td>\n",
       "      <td>0.679919</td>\n",
       "      <td>0.206286</td>\n",
       "      <td>0.306819</td>\n",
       "      <td>0.206286</td>\n",
       "    </tr>\n",
       "    <tr>\n",
       "      <td>341000</td>\n",
       "      <td>0.238029</td>\n",
       "      <td>0.009569</td>\n",
       "      <td>0.047441</td>\n",
       "      <td>0.092961</td>\n",
       "      <td>0.669236</td>\n",
       "      <td>0.370938</td>\n",
       "      <td>0.288197</td>\n",
       "      <td>0.370938</td>\n",
       "    </tr>\n",
       "    <tr>\n",
       "      <td>341426</td>\n",
       "      <td>0.202848</td>\n",
       "      <td>0.008117</td>\n",
       "      <td>0.108261</td>\n",
       "      <td>0.079345</td>\n",
       "      <td>0.624808</td>\n",
       "      <td>0.193707</td>\n",
       "      <td>0.287650</td>\n",
       "      <td>0.193707</td>\n",
       "    </tr>\n",
       "    <tr>\n",
       "      <td>341437</td>\n",
       "      <td>0.227214</td>\n",
       "      <td>0.105520</td>\n",
       "      <td>0.026856</td>\n",
       "      <td>0.657616</td>\n",
       "      <td>0.107374</td>\n",
       "      <td>0.238702</td>\n",
       "      <td>0.287374</td>\n",
       "      <td>0.238702</td>\n",
       "    </tr>\n",
       "    <tr>\n",
       "      <td>341434</td>\n",
       "      <td>0.238383</td>\n",
       "      <td>0.139696</td>\n",
       "      <td>0.017538</td>\n",
       "      <td>0.651554</td>\n",
       "      <td>0.091559</td>\n",
       "      <td>0.291571</td>\n",
       "      <td>0.283780</td>\n",
       "      <td>0.291571</td>\n",
       "    </tr>\n",
       "    <tr>\n",
       "      <td>341414</td>\n",
       "      <td>0.162889</td>\n",
       "      <td>0.005767</td>\n",
       "      <td>0.069936</td>\n",
       "      <td>0.030212</td>\n",
       "      <td>0.556918</td>\n",
       "      <td>0.151615</td>\n",
       "      <td>0.275810</td>\n",
       "      <td>0.151615</td>\n",
       "    </tr>\n",
       "    <tr>\n",
       "      <td>340630</td>\n",
       "      <td>0.561806</td>\n",
       "      <td>0.192184</td>\n",
       "      <td>0.701842</td>\n",
       "      <td>0.346689</td>\n",
       "      <td>0.888714</td>\n",
       "      <td>0.679603</td>\n",
       "      <td>0.273359</td>\n",
       "      <td>0.679603</td>\n",
       "    </tr>\n",
       "    <tr>\n",
       "      <td>340285</td>\n",
       "      <td>0.526918</td>\n",
       "      <td>0.119011</td>\n",
       "      <td>0.350726</td>\n",
       "      <td>0.453785</td>\n",
       "      <td>0.711299</td>\n",
       "      <td>0.999769</td>\n",
       "      <td>0.273138</td>\n",
       "      <td>0.711299</td>\n",
       "    </tr>\n",
       "    <tr>\n",
       "      <td>340052</td>\n",
       "      <td>0.130367</td>\n",
       "      <td>0.002767</td>\n",
       "      <td>0.035247</td>\n",
       "      <td>0.011763</td>\n",
       "      <td>0.090429</td>\n",
       "      <td>0.511628</td>\n",
       "      <td>0.268781</td>\n",
       "      <td>0.090429</td>\n",
       "    </tr>\n",
       "    <tr>\n",
       "      <td>340259</td>\n",
       "      <td>0.462443</td>\n",
       "      <td>0.121411</td>\n",
       "      <td>0.208268</td>\n",
       "      <td>0.382075</td>\n",
       "      <td>0.817898</td>\n",
       "      <td>0.782561</td>\n",
       "      <td>0.242067</td>\n",
       "      <td>0.782561</td>\n",
       "    </tr>\n",
       "    <tr>\n",
       "      <td>340369</td>\n",
       "      <td>0.642415</td>\n",
       "      <td>0.729635</td>\n",
       "      <td>0.360398</td>\n",
       "      <td>0.429840</td>\n",
       "      <td>0.824126</td>\n",
       "      <td>0.868078</td>\n",
       "      <td>0.241332</td>\n",
       "      <td>0.824126</td>\n",
       "    </tr>\n",
       "    <tr>\n",
       "      <td>340282</td>\n",
       "      <td>0.326235</td>\n",
       "      <td>0.148973</td>\n",
       "      <td>0.557312</td>\n",
       "      <td>0.084257</td>\n",
       "      <td>0.562727</td>\n",
       "      <td>0.277905</td>\n",
       "      <td>0.240678</td>\n",
       "      <td>0.277905</td>\n",
       "    </tr>\n",
       "    <tr>\n",
       "      <td>341458</td>\n",
       "      <td>0.440857</td>\n",
       "      <td>0.363391</td>\n",
       "      <td>0.356833</td>\n",
       "      <td>0.261687</td>\n",
       "      <td>0.496396</td>\n",
       "      <td>0.725977</td>\n",
       "      <td>0.232150</td>\n",
       "      <td>0.496396</td>\n",
       "    </tr>\n",
       "    <tr>\n",
       "      <td>340275</td>\n",
       "      <td>0.484970</td>\n",
       "      <td>0.022447</td>\n",
       "      <td>0.320205</td>\n",
       "      <td>0.558215</td>\n",
       "      <td>0.564069</td>\n",
       "      <td>0.959912</td>\n",
       "      <td>0.230249</td>\n",
       "      <td>0.564069</td>\n",
       "    </tr>\n",
       "    <tr>\n",
       "      <td>340276</td>\n",
       "      <td>0.486492</td>\n",
       "      <td>0.022639</td>\n",
       "      <td>0.323670</td>\n",
       "      <td>0.559695</td>\n",
       "      <td>0.566543</td>\n",
       "      <td>0.959912</td>\n",
       "      <td>0.229114</td>\n",
       "      <td>0.566543</td>\n",
       "    </tr>\n",
       "    <tr>\n",
       "      <td>340118</td>\n",
       "      <td>0.192672</td>\n",
       "      <td>0.007789</td>\n",
       "      <td>0.012791</td>\n",
       "      <td>0.054546</td>\n",
       "      <td>0.425198</td>\n",
       "      <td>0.463034</td>\n",
       "      <td>0.225713</td>\n",
       "      <td>0.425198</td>\n",
       "    </tr>\n",
       "    <tr>\n",
       "      <td>340984</td>\n",
       "      <td>0.413193</td>\n",
       "      <td>0.059100</td>\n",
       "      <td>0.442747</td>\n",
       "      <td>0.401957</td>\n",
       "      <td>0.775915</td>\n",
       "      <td>0.386248</td>\n",
       "      <td>0.220580</td>\n",
       "      <td>0.401957</td>\n",
       "    </tr>\n",
       "    <tr>\n",
       "      <td>341440</td>\n",
       "      <td>0.195007</td>\n",
       "      <td>0.057560</td>\n",
       "      <td>0.014791</td>\n",
       "      <td>0.536982</td>\n",
       "      <td>0.122930</td>\n",
       "      <td>0.242774</td>\n",
       "      <td>0.213057</td>\n",
       "      <td>0.242774</td>\n",
       "    </tr>\n",
       "    <tr>\n",
       "      <td>340691</td>\n",
       "      <td>0.299272</td>\n",
       "      <td>0.030605</td>\n",
       "      <td>0.309674</td>\n",
       "      <td>0.221679</td>\n",
       "      <td>0.626227</td>\n",
       "      <td>0.308176</td>\n",
       "      <td>0.213032</td>\n",
       "      <td>0.308176</td>\n",
       "    </tr>\n",
       "  </tbody>\n",
       "</table>\n",
       "</div>"
      ],
      "text/plain": [
       "        smishing  smishing_1  smishing_2  smishing_3  smishing_4  smishing_5  \\\n",
       "id                                                                             \n",
       "341227  0.706087    0.679118    0.901728    0.981549    0.871519    0.096519   \n",
       "340046  0.427041    0.032274    0.334214    0.121047    0.854306    0.793363   \n",
       "341349  0.470899    0.085766    0.611003    0.214015    0.954856    0.488858   \n",
       "340592  0.267926    0.009460    0.029901    0.051133    0.484391    0.764747   \n",
       "340056  0.373374    0.056993    0.170552    0.132636    0.726873    0.779817   \n",
       "341620  0.564389    0.519732    0.182455    0.855915    0.310487    0.953353   \n",
       "340361  0.263704    0.061647    0.155459    0.029228    0.356773    0.715411   \n",
       "341477  0.244879    0.141601    0.021571    0.715319    0.121179    0.224723   \n",
       "341365  0.512334    0.117621    0.628527    0.322624    0.943968    0.548930   \n",
       "340913  0.700042    0.603073    0.759435    0.357538    0.880451    0.899713   \n",
       "340217  0.272746    0.038240    0.075619    0.063350    0.563179    0.623342   \n",
       "341412  0.221822    0.008291    0.109398    0.105216    0.679919    0.206286   \n",
       "341000  0.238029    0.009569    0.047441    0.092961    0.669236    0.370938   \n",
       "341426  0.202848    0.008117    0.108261    0.079345    0.624808    0.193707   \n",
       "341437  0.227214    0.105520    0.026856    0.657616    0.107374    0.238702   \n",
       "341434  0.238383    0.139696    0.017538    0.651554    0.091559    0.291571   \n",
       "341414  0.162889    0.005767    0.069936    0.030212    0.556918    0.151615   \n",
       "340630  0.561806    0.192184    0.701842    0.346689    0.888714    0.679603   \n",
       "340285  0.526918    0.119011    0.350726    0.453785    0.711299    0.999769   \n",
       "340052  0.130367    0.002767    0.035247    0.011763    0.090429    0.511628   \n",
       "340259  0.462443    0.121411    0.208268    0.382075    0.817898    0.782561   \n",
       "340369  0.642415    0.729635    0.360398    0.429840    0.824126    0.868078   \n",
       "340282  0.326235    0.148973    0.557312    0.084257    0.562727    0.277905   \n",
       "341458  0.440857    0.363391    0.356833    0.261687    0.496396    0.725977   \n",
       "340275  0.484970    0.022447    0.320205    0.558215    0.564069    0.959912   \n",
       "340276  0.486492    0.022639    0.323670    0.559695    0.566543    0.959912   \n",
       "340118  0.192672    0.007789    0.012791    0.054546    0.425198    0.463034   \n",
       "340984  0.413193    0.059100    0.442747    0.401957    0.775915    0.386248   \n",
       "341440  0.195007    0.057560    0.014791    0.536982    0.122930    0.242774   \n",
       "340691  0.299272    0.030605    0.309674    0.221679    0.626227    0.308176   \n",
       "\n",
       "             std    median  \n",
       "id                          \n",
       "341227  0.482357  0.871519  \n",
       "340046  0.406897  0.793363  \n",
       "341349  0.374508  0.488858  \n",
       "340592  0.359527  0.484391  \n",
       "340056  0.359343  0.726873  \n",
       "341620  0.346473  0.855915  \n",
       "340361  0.343208  0.356773  \n",
       "341477  0.317387  0.224723  \n",
       "341365  0.314467  0.548930  \n",
       "340913  0.307615  0.880451  \n",
       "340217  0.307419  0.563179  \n",
       "341412  0.306819  0.206286  \n",
       "341000  0.288197  0.370938  \n",
       "341426  0.287650  0.193707  \n",
       "341437  0.287374  0.238702  \n",
       "341434  0.283780  0.291571  \n",
       "341414  0.275810  0.151615  \n",
       "340630  0.273359  0.679603  \n",
       "340285  0.273138  0.711299  \n",
       "340052  0.268781  0.090429  \n",
       "340259  0.242067  0.782561  \n",
       "340369  0.241332  0.824126  \n",
       "340282  0.240678  0.277905  \n",
       "341458  0.232150  0.496396  \n",
       "340275  0.230249  0.564069  \n",
       "340276  0.229114  0.566543  \n",
       "340118  0.225713  0.425198  \n",
       "340984  0.220580  0.401957  \n",
       "341440  0.213057  0.242774  \n",
       "340691  0.213032  0.308176  "
      ]
     },
     "execution_count": 17,
     "metadata": {},
     "output_type": "execute_result"
    }
   ],
   "source": [
    "df_std = df_submit[df_submit['std'] < 1]\n",
    "print(df_std.shape)\n",
    "df_std.sort_values('std', ascending=False).head(30)"
   ]
  },
  {
   "cell_type": "code",
   "execution_count": 18,
   "metadata": {
    "ExecuteTime": {
     "end_time": "2020-01-01T17:43:53.245438Z",
     "start_time": "2020-01-01T17:43:53.005669Z"
    }
   },
   "outputs": [
    {
     "data": {
      "text/plain": [
       "<matplotlib.axes._subplots.AxesSubplot at 0x7efb7597e890>"
      ]
     },
     "execution_count": 18,
     "metadata": {},
     "output_type": "execute_result"
    },
    {
     "data": {
      "image/png": "[encoded data removed]",
      "text/plain": [
       "<Figure size 1440x360 with 1 Axes>"
      ]
     },
     "metadata": {
      "needs_background": "light"
     },
     "output_type": "display_data"
    }
   ],
   "source": [
    "df_submit['smishing'].hist(bins=100, figsize=(20, 5))"
   ]
  },
  {
   "cell_type": "code",
   "execution_count": 19,
   "metadata": {
    "ExecuteTime": {
     "end_time": "2020-01-01T17:43:53.250472Z",
     "start_time": "2020-01-01T17:43:53.246426Z"
    }
   },
   "outputs": [
    {
     "data": {
      "text/plain": [
       "0    1451\n",
       "1      28\n",
       "2      11\n",
       "3       6\n",
       "4      12\n",
       "5       5\n",
       "6       2\n",
       "7       8\n",
       "8       9\n",
       "9      94\n",
       "Name: smishing, dtype: int64"
      ]
     },
     "execution_count": 19,
     "metadata": {},
     "output_type": "execute_result"
    }
   ],
   "source": [
    "(df_submit['smishing'] * 10).astype(int).value_counts(sort=False)"
   ]
  },
  {
   "cell_type": "code",
   "execution_count": 20,
   "metadata": {
    "ExecuteTime": {
     "end_time": "2020-01-01T17:43:53.262417Z",
     "start_time": "2020-01-01T17:43:53.251421Z"
    }
   },
   "outputs": [
    {
     "name": "stdout",
     "output_type": "stream",
     "text": [
      "20200102T020750\n"
     ]
    }
   ],
   "source": [
    "print(model_ts)\n",
    "df_submit[['smishing']].to_csv('submit/{}.csv'.format(model_ts), index=True)"
   ]
  },
  {
   "cell_type": "code",
   "execution_count": 21,
   "metadata": {
    "ExecuteTime": {
     "end_time": "2020-01-01T17:43:53.424795Z",
     "start_time": "2020-01-01T17:43:53.264371Z"
    },
    "scrolled": true
   },
   "outputs": [
    {
     "name": "stdout",
     "output_type": "stream",
     "text": [
      "3\n"
     ]
    },
    {
     "ename": "KeyError",
     "evalue": "\"None of [Index(['smishing_3', 'smishing_4', 'smishing_5'], dtype='object')] are in the [columns]\"",
     "output_type": "error",
     "traceback": [
      "\u001b[0;31m---------------------------------------------------------------------------\u001b[0m",
      "\u001b[0;31mKeyError\u001b[0m                                  Traceback (most recent call last)",
      "\u001b[0;32m<ipython-input-21-daf66b22063c>\u001b[0m in \u001b[0;36m<module>\u001b[0;34m\u001b[0m\n\u001b[1;32m      1\u001b[0m \u001b[0mprint\u001b[0m\u001b[0;34m(\u001b[0m\u001b[0mlen\u001b[0m\u001b[0;34m(\u001b[0m\u001b[0mpred_cols\u001b[0m\u001b[0;34m)\u001b[0m\u001b[0;34m)\u001b[0m\u001b[0;34m\u001b[0m\u001b[0;34m\u001b[0m\u001b[0m\n\u001b[0;32m----> 2\u001b[0;31m \u001b[0mdf_test\u001b[0m\u001b[0;34m[\u001b[0m\u001b[0;34m'pred_max'\u001b[0m\u001b[0;34m]\u001b[0m \u001b[0;34m=\u001b[0m \u001b[0mdf_test\u001b[0m\u001b[0;34m[\u001b[0m\u001b[0mpred_cols\u001b[0m\u001b[0;34m]\u001b[0m\u001b[0;34m.\u001b[0m\u001b[0mmax\u001b[0m\u001b[0;34m(\u001b[0m\u001b[0maxis\u001b[0m\u001b[0;34m=\u001b[0m\u001b[0;36m1\u001b[0m\u001b[0;34m)\u001b[0m\u001b[0;34m\u001b[0m\u001b[0;34m\u001b[0m\u001b[0m\n\u001b[0m\u001b[1;32m      3\u001b[0m \u001b[0mdf_test\u001b[0m\u001b[0;34m[\u001b[0m\u001b[0;34m'pred_min'\u001b[0m\u001b[0;34m]\u001b[0m \u001b[0;34m=\u001b[0m \u001b[0mdf_test\u001b[0m\u001b[0;34m[\u001b[0m\u001b[0mpred_cols\u001b[0m\u001b[0;34m]\u001b[0m\u001b[0;34m.\u001b[0m\u001b[0mmin\u001b[0m\u001b[0;34m(\u001b[0m\u001b[0maxis\u001b[0m\u001b[0;34m=\u001b[0m\u001b[0;36m1\u001b[0m\u001b[0;34m)\u001b[0m\u001b[0;34m\u001b[0m\u001b[0;34m\u001b[0m\u001b[0m\n\u001b[1;32m      4\u001b[0m \u001b[0mdf_test\u001b[0m\u001b[0;34m[\u001b[0m\u001b[0;34m'pred_mean'\u001b[0m\u001b[0;34m]\u001b[0m \u001b[0;34m=\u001b[0m \u001b[0mdf_test\u001b[0m\u001b[0;34m[\u001b[0m\u001b[0mpred_cols\u001b[0m\u001b[0;34m]\u001b[0m\u001b[0;34m.\u001b[0m\u001b[0mmean\u001b[0m\u001b[0;34m(\u001b[0m\u001b[0maxis\u001b[0m\u001b[0;34m=\u001b[0m\u001b[0;36m1\u001b[0m\u001b[0;34m)\u001b[0m\u001b[0;34m\u001b[0m\u001b[0;34m\u001b[0m\u001b[0m\n\u001b[1;32m      5\u001b[0m \u001b[0mdf_test\u001b[0m\u001b[0;34m[\u001b[0m\u001b[0;34m'pred_std'\u001b[0m\u001b[0;34m]\u001b[0m \u001b[0;34m=\u001b[0m \u001b[0mdf_test\u001b[0m\u001b[0;34m[\u001b[0m\u001b[0mpred_cols\u001b[0m\u001b[0;34m]\u001b[0m\u001b[0;34m.\u001b[0m\u001b[0mstd\u001b[0m\u001b[0;34m(\u001b[0m\u001b[0maxis\u001b[0m\u001b[0;34m=\u001b[0m\u001b[0;36m1\u001b[0m\u001b[0;34m)\u001b[0m\u001b[0;34m\u001b[0m\u001b[0;34m\u001b[0m\u001b[0m\n",
      "\u001b[0;32m~/anaconda3/lib/python3.7/site-packages/pandas/core/frame.py\u001b[0m in \u001b[0;36m__getitem__\u001b[0;34m(self, key)\u001b[0m\n\u001b[1;32m   2984\u001b[0m             \u001b[0;32mif\u001b[0m \u001b[0mis_iterator\u001b[0m\u001b[0;34m(\u001b[0m\u001b[0mkey\u001b[0m\u001b[0;34m)\u001b[0m\u001b[0;34m:\u001b[0m\u001b[0;34m\u001b[0m\u001b[0;34m\u001b[0m\u001b[0m\n\u001b[1;32m   2985\u001b[0m                 \u001b[0mkey\u001b[0m \u001b[0;34m=\u001b[0m \u001b[0mlist\u001b[0m\u001b[0;34m(\u001b[0m\u001b[0mkey\u001b[0m\u001b[0;34m)\u001b[0m\u001b[0;34m\u001b[0m\u001b[0;34m\u001b[0m\u001b[0m\n\u001b[0;32m-> 2986\u001b[0;31m             \u001b[0mindexer\u001b[0m \u001b[0;34m=\u001b[0m \u001b[0mself\u001b[0m\u001b[0;34m.\u001b[0m\u001b[0mloc\u001b[0m\u001b[0;34m.\u001b[0m\u001b[0m_convert_to_indexer\u001b[0m\u001b[0;34m(\u001b[0m\u001b[0mkey\u001b[0m\u001b[0;34m,\u001b[0m \u001b[0maxis\u001b[0m\u001b[0;34m=\u001b[0m\u001b[0;36m1\u001b[0m\u001b[0;34m,\u001b[0m \u001b[0mraise_missing\u001b[0m\u001b[0;34m=\u001b[0m\u001b[0;32mTrue\u001b[0m\u001b[0;34m)\u001b[0m\u001b[0;34m\u001b[0m\u001b[0;34m\u001b[0m\u001b[0m\n\u001b[0m\u001b[1;32m   2987\u001b[0m \u001b[0;34m\u001b[0m\u001b[0m\n\u001b[1;32m   2988\u001b[0m         \u001b[0;31m# take() does not accept boolean indexers\u001b[0m\u001b[0;34m\u001b[0m\u001b[0;34m\u001b[0m\u001b[0;34m\u001b[0m\u001b[0m\n",
      "\u001b[0;32m~/anaconda3/lib/python3.7/site-packages/pandas/core/indexing.py\u001b[0m in \u001b[0;36m_convert_to_indexer\u001b[0;34m(self, obj, axis, is_setter, raise_missing)\u001b[0m\n\u001b[1;32m   1283\u001b[0m                 \u001b[0;31m# When setting, missing keys are not allowed, even with .loc:\u001b[0m\u001b[0;34m\u001b[0m\u001b[0;34m\u001b[0m\u001b[0;34m\u001b[0m\u001b[0m\n\u001b[1;32m   1284\u001b[0m                 \u001b[0mkwargs\u001b[0m \u001b[0;34m=\u001b[0m \u001b[0;34m{\u001b[0m\u001b[0;34m\"raise_missing\"\u001b[0m\u001b[0;34m:\u001b[0m \u001b[0;32mTrue\u001b[0m \u001b[0;32mif\u001b[0m \u001b[0mis_setter\u001b[0m \u001b[0;32melse\u001b[0m \u001b[0mraise_missing\u001b[0m\u001b[0;34m}\u001b[0m\u001b[0;34m\u001b[0m\u001b[0;34m\u001b[0m\u001b[0m\n\u001b[0;32m-> 1285\u001b[0;31m                 \u001b[0;32mreturn\u001b[0m \u001b[0mself\u001b[0m\u001b[0;34m.\u001b[0m\u001b[0m_get_listlike_indexer\u001b[0m\u001b[0;34m(\u001b[0m\u001b[0mobj\u001b[0m\u001b[0;34m,\u001b[0m \u001b[0maxis\u001b[0m\u001b[0;34m,\u001b[0m \u001b[0;34m**\u001b[0m\u001b[0mkwargs\u001b[0m\u001b[0;34m)\u001b[0m\u001b[0;34m[\u001b[0m\u001b[0;36m1\u001b[0m\u001b[0;34m]\u001b[0m\u001b[0;34m\u001b[0m\u001b[0;34m\u001b[0m\u001b[0m\n\u001b[0m\u001b[1;32m   1286\u001b[0m         \u001b[0;32melse\u001b[0m\u001b[0;34m:\u001b[0m\u001b[0;34m\u001b[0m\u001b[0;34m\u001b[0m\u001b[0m\n\u001b[1;32m   1287\u001b[0m             \u001b[0;32mtry\u001b[0m\u001b[0;34m:\u001b[0m\u001b[0;34m\u001b[0m\u001b[0;34m\u001b[0m\u001b[0m\n",
      "\u001b[0;32m~/anaconda3/lib/python3.7/site-packages/pandas/core/indexing.py\u001b[0m in \u001b[0;36m_get_listlike_indexer\u001b[0;34m(self, key, axis, raise_missing)\u001b[0m\n\u001b[1;32m   1090\u001b[0m \u001b[0;34m\u001b[0m\u001b[0m\n\u001b[1;32m   1091\u001b[0m         self._validate_read_indexer(\n\u001b[0;32m-> 1092\u001b[0;31m             \u001b[0mkeyarr\u001b[0m\u001b[0;34m,\u001b[0m \u001b[0mindexer\u001b[0m\u001b[0;34m,\u001b[0m \u001b[0mo\u001b[0m\u001b[0;34m.\u001b[0m\u001b[0m_get_axis_number\u001b[0m\u001b[0;34m(\u001b[0m\u001b[0maxis\u001b[0m\u001b[0;34m)\u001b[0m\u001b[0;34m,\u001b[0m \u001b[0mraise_missing\u001b[0m\u001b[0;34m=\u001b[0m\u001b[0mraise_missing\u001b[0m\u001b[0;34m\u001b[0m\u001b[0;34m\u001b[0m\u001b[0m\n\u001b[0m\u001b[1;32m   1093\u001b[0m         )\n\u001b[1;32m   1094\u001b[0m         \u001b[0;32mreturn\u001b[0m \u001b[0mkeyarr\u001b[0m\u001b[0;34m,\u001b[0m \u001b[0mindexer\u001b[0m\u001b[0;34m\u001b[0m\u001b[0;34m\u001b[0m\u001b[0m\n",
      "\u001b[0;32m~/anaconda3/lib/python3.7/site-packages/pandas/core/indexing.py\u001b[0m in \u001b[0;36m_validate_read_indexer\u001b[0;34m(self, key, indexer, axis, raise_missing)\u001b[0m\n\u001b[1;32m   1175\u001b[0m                 raise KeyError(\n\u001b[1;32m   1176\u001b[0m                     \"None of [{key}] are in the [{axis}]\".format(\n\u001b[0;32m-> 1177\u001b[0;31m                         \u001b[0mkey\u001b[0m\u001b[0;34m=\u001b[0m\u001b[0mkey\u001b[0m\u001b[0;34m,\u001b[0m \u001b[0maxis\u001b[0m\u001b[0;34m=\u001b[0m\u001b[0mself\u001b[0m\u001b[0;34m.\u001b[0m\u001b[0mobj\u001b[0m\u001b[0;34m.\u001b[0m\u001b[0m_get_axis_name\u001b[0m\u001b[0;34m(\u001b[0m\u001b[0maxis\u001b[0m\u001b[0;34m)\u001b[0m\u001b[0;34m\u001b[0m\u001b[0;34m\u001b[0m\u001b[0m\n\u001b[0m\u001b[1;32m   1178\u001b[0m                     )\n\u001b[1;32m   1179\u001b[0m                 )\n",
      "\u001b[0;31mKeyError\u001b[0m: \"None of [Index(['smishing_3', 'smishing_4', 'smishing_5'], dtype='object')] are in the [columns]\""
     ]
    }
   ],
   "source": [
    "# print(len(pred_cols))\n",
    "# df_test['pred_max'] = df_test[pred_cols].max(axis=1)\n",
    "# df_test['pred_min'] = df_test[pred_cols].min(axis=1)\n",
    "# df_test['pred_mean'] = df_test[pred_cols].mean(axis=1)\n",
    "# df_test['pred_std'] = df_test[pred_cols].std(axis=1)\n",
    "\n",
    "# print(df_test['pred_std'].max(), df_test['pred_std'].min(), df_test['pred_std'].mean())\n",
    "\n",
    "# df_test['smishing'] = df_test['pred_mean']"
   ]
  },
  {
   "cell_type": "code",
   "execution_count": null,
   "metadata": {
    "ExecuteTime": {
     "end_time": "2020-01-01T17:43:53.426576Z",
     "start_time": "2020-01-01T17:07:37.788Z"
    },
    "scrolled": false
   },
   "outputs": [],
   "source": [
    "df_test['smishing'].hist(bins=100, figsize=(20, 5))"
   ]
  },
  {
   "cell_type": "code",
   "execution_count": null,
   "metadata": {
    "ExecuteTime": {
     "end_time": "2020-01-01T17:43:53.427061Z",
     "start_time": "2020-01-01T17:07:37.789Z"
    }
   },
   "outputs": [],
   "source": [
    "(df_test['smishing'] * 10).astype(int).value_counts(sort=False)"
   ]
  },
  {
   "cell_type": "code",
   "execution_count": null,
   "metadata": {
    "ExecuteTime": {
     "end_time": "2020-01-01T17:43:53.427511Z",
     "start_time": "2020-01-01T17:07:37.790Z"
    }
   },
   "outputs": [],
   "source": [
    "# for c in pred_cols:\n",
    "#     print(c)\n",
    "#     display((df_test[c] * 10).astype(int).value_counts(sort=False))"
   ]
  },
  {
   "cell_type": "code",
   "execution_count": null,
   "metadata": {
    "ExecuteTime": {
     "end_time": "2020-01-01T17:43:53.428102Z",
     "start_time": "2020-01-01T17:07:37.791Z"
    }
   },
   "outputs": [],
   "source": [
    "model_ts"
   ]
  },
  {
   "cell_type": "code",
   "execution_count": null,
   "metadata": {
    "ExecuteTime": {
     "end_time": "2020-01-01T17:43:53.428665Z",
     "start_time": "2020-01-01T17:07:37.792Z"
    }
   },
   "outputs": [],
   "source": [
    "df_test['smishing'] = df_test['smishing']\n",
    "df_test[['smishing']].to_csv('submit/{}.csv'.format(model_ts), index=True)\n"
   ]
  },
  {
   "cell_type": "code",
   "execution_count": null,
   "metadata": {
    "ExecuteTime": {
     "end_time": "2020-01-01T17:43:53.429193Z",
     "start_time": "2020-01-01T17:07:37.794Z"
    }
   },
   "outputs": [],
   "source": [
    "# df_test['smishing'] = df_test['pred_mean']\n",
    "# df_test[['smishing']].to_csv('submit/{}_lgb.csv'.format(model_ts), index=True)\n",
    "# # df_test[['id', 'smishing', 'text']].sort_values('smishing', ascending=False).to_csv('{}_text.csv'.format(model_ts), index=False)\n"
   ]
  },
  {
   "cell_type": "code",
   "execution_count": null,
   "metadata": {},
   "outputs": [],
   "source": []
  }
 ],
 "metadata": {
  "accelerator": "GPU",
  "colab": {
   "collapsed_sections": [],
   "name": "mecab_tfidf.ipynb",
   "provenance": []
  },
  "kernelspec": {
   "display_name": "Python 3",
   "language": "python",
   "name": "python3"
  },
  "language_info": {
   "codemirror_mode": {
    "name": "ipython",
    "version": 3
   },
   "file_extension": ".py",
   "mimetype": "text/x-python",
   "name": "python",
   "nbconvert_exporter": "python",
   "pygments_lexer": "ipython3",
   "version": "3.7.4"
  },
  "toc": {
   "base_numbering": 1,
   "nav_menu": {},
   "number_sections": true,
   "sideBar": true,
   "skip_h1_title": false,
   "title_cell": "Table of Contents",
   "title_sidebar": "Contents",
   "toc_cell": false,
   "toc_position": {
    "height": "calc(100% - 180px)",
    "left": "10px",
    "top": "150px",
    "width": "165px"
   },
   "toc_section_display": true,
   "toc_window_display": true
  }
 },
 "nbformat": 4,
 "nbformat_minor": 1
}
