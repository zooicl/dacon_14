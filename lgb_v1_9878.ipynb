{
 "cells": [
  {
   "cell_type": "code",
   "execution_count": 1,
   "metadata": {
    "ExecuteTime": {
     "end_time": "2020-01-04T22:19:54.144305Z",
     "start_time": "2020-01-04T22:19:52.640279Z"
    },
    "colab": {
     "base_uri": "https://localhost:8080/",
     "height": 71
    },
    "colab_type": "code",
    "executionInfo": {
     "elapsed": 1590,
     "status": "ok",
     "timestamp": 1576286906380,
     "user": {
      "displayName": "주이클",
      "photoUrl": "https://lh3.googleusercontent.com/a-/AAuE7mCWVh4nvn9788qUddhoWTl5qQoYt0bzVMDlJWUumTg=s64",
      "userId": "02708070532256873610"
     },
     "user_tz": -540
    },
    "id": "U3xmRNtgpZwi",
    "outputId": "f6e95e03-5913-4a53-9ff3-1b6cde1b5a82"
   },
   "outputs": [
    {
     "name": "stderr",
     "output_type": "stream",
     "text": [
      "/home/aiden/anaconda3/lib/python3.7/site-packages/sklearn/externals/joblib/__init__.py:15: DeprecationWarning: sklearn.externals.joblib is deprecated in 0.21 and will be removed in 0.23. Please import this functionality directly from joblib, which can be installed with: pip install joblib. If this warning is raised when loading pickled models, you may need to re-serialize those models with scikit-learn 0.21+.\n",
      "  warnings.warn(msg, category=DeprecationWarning)\n"
     ]
    },
    {
     "name": "stdout",
     "output_type": "stream",
     "text": [
      "2.3.2\n",
      "1.3.1\n",
      "GeForce RTX 2070 SUPER\n",
      "True\n"
     ]
    },
    {
     "data": {
      "text/plain": [
       "device(type='cuda', index=0)"
      ]
     },
     "execution_count": 1,
     "metadata": {},
     "output_type": "execute_result"
    }
   ],
   "source": [
    "#!/usr/bin/env python\n",
    "# coding: utf-8\n",
    "get_ipython().run_line_magic('matplotlib', 'inline')\n",
    "import pandas as pd\n",
    "import time\n",
    "import numpy as np\n",
    "from datetime import datetime\n",
    "from sklearn.externals import joblib \n",
    "import os\n",
    "from konlpy.tag import Mecab\n",
    "import lightgbm as lgb\n",
    "print(lgb.__version__)\n",
    "\n",
    "from sklearn import metrics\n",
    "from sklearn.preprocessing import MinMaxScaler\n",
    "from sklearn.externals import joblib \n",
    "from sklearn.model_selection import StratifiedKFold\n",
    "\n",
    "import gc\n",
    "\n",
    "from tqdm import tqdm_notebook\n",
    "\n",
    "import warnings\n",
    "warnings.filterwarnings(action='ignore')\n",
    "\n",
    "\n",
    "import torch\n",
    "print(torch.__version__)\n",
    "import torch.nn.functional as F\n",
    "from torch.utils.data import Dataset, DataLoader\n",
    "\n",
    "from torchsummary import summary\n",
    "\n",
    "from tools import eval_summary\n",
    "\n",
    "print(torch.cuda.get_device_name(0))\n",
    "print(torch.cuda.is_available())\n",
    "\n",
    "device = torch.device(\"cuda:0\" if torch.cuda.is_available() else \"cpu\")\n",
    "# device = torch.device('cpu')\n",
    "device"
   ]
  },
  {
   "cell_type": "code",
   "execution_count": 2,
   "metadata": {
    "ExecuteTime": {
     "end_time": "2020-01-04T22:19:55.280943Z",
     "start_time": "2020-01-04T22:19:54.145235Z"
    }
   },
   "outputs": [
    {
     "name": "stdout",
     "output_type": "stream",
     "text": [
      "/home/aiden/src/dacon_14\n"
     ]
    },
    {
     "data": {
      "text/plain": [
       "(297571, 3)"
      ]
     },
     "execution_count": 2,
     "metadata": {},
     "output_type": "execute_result"
    }
   ],
   "source": [
    "print(os.getcwd())\n",
    "\n",
    "base_path = '.'\n",
    "\n",
    "df_train = pd.read_csv(os.path.join(base_path , 'input/train.csv'), index_col=0)\n",
    "df_test = pd.read_csv(os.path.join(base_path , 'input/public_test.csv'), index_col=0)\n",
    "df_test['smishing'] = -1\n",
    "\n",
    "df_fea = pd.concat([df_train, df_test])\n",
    "df_fea.shape"
   ]
  },
  {
   "cell_type": "code",
   "execution_count": 3,
   "metadata": {
    "ExecuteTime": {
     "end_time": "2020-01-04T22:19:55.284716Z",
     "start_time": "2020-01-04T22:19:55.282199Z"
    },
    "colab": {
     "base_uri": "https://localhost:8080/",
     "height": 1000
    },
    "colab_type": "code",
    "executionInfo": {
     "elapsed": 185838,
     "status": "ok",
     "timestamp": 1576287091046,
     "user": {
      "displayName": "주이클",
      "photoUrl": "https://lh3.googleusercontent.com/a-/AAuE7mCWVh4nvn9788qUddhoWTl5qQoYt0bzVMDlJWUumTg=s64",
      "userId": "02708070532256873610"
     },
     "user_tz": -540
    },
    "id": "QOi9dYzqpZxV",
    "outputId": "9ceb7e20-059e-4946-934e-ab85c98dca56",
    "scrolled": true
   },
   "outputs": [
    {
     "name": "stdout",
     "output_type": "stream",
     "text": [
      "295945\n"
     ]
    }
   ],
   "source": [
    "train_size = len(df_train)\n",
    "print(train_size)\n",
    "\n",
    "# cat_cols = []\n",
    "# fea_cols = tfidf_cols + cat_cols + cnt_cols\n",
    "# fea_cols = cnt_cols + cat_cols\n",
    "# fea_cols = tfidf_cols + cat_cols\n",
    "# len(fea_cols)"
   ]
  },
  {
   "cell_type": "markdown",
   "metadata": {},
   "source": [
    "#### Load Data"
   ]
  },
  {
   "cell_type": "code",
   "execution_count": 4,
   "metadata": {
    "ExecuteTime": {
     "end_time": "2020-01-04T22:20:12.187733Z",
     "start_time": "2020-01-04T22:19:55.285734Z"
    },
    "colab": {
     "base_uri": "https://localhost:8080/",
     "height": 51
    },
    "colab_type": "code",
    "executionInfo": {
     "elapsed": 187149,
     "status": "ok",
     "timestamp": 1576287092380,
     "user": {
      "displayName": "주이클",
      "photoUrl": "https://lh3.googleusercontent.com/a-/AAuE7mCWVh4nvn9788qUddhoWTl5qQoYt0bzVMDlJWUumTg=s64",
      "userId": "02708070532256873610"
     },
     "user_tz": -540
    },
    "id": "LCEEOdJK4__q",
    "outputId": "24fb71a8-e639-43d1-b476-d617adfff1e7"
   },
   "outputs": [
    {
     "name": "stdout",
     "output_type": "stream",
     "text": [
      "model_set\n",
      " 0    277242\n",
      "1     18703\n",
      "Name: smishing, dtype: int64\n"
     ]
    }
   ],
   "source": [
    "# merged_ts = '20191231T113708_5499'\n",
    "# merged_ts = '20191231T162533_2022'\n",
    "# merged_ts = '20191231T165424_6099'\n",
    "# merged_ts = '20191231T111228_8180'\n",
    "# merged_ts = '20200101T184353_5853'\n",
    "# merged_ts = '20200102T005929_6546_128_49980' # 984\n",
    "# merged_ts = '20200102T015155_8438_128_49980' # 986\n",
    "# merged_ts = '20200102T160226_8438_275_997'\n",
    "# merged_ts = '20200104T033010_10938_512_49980'\n",
    "\n",
    "# merged_ts = '20200104T141453_13225_64_49980' #1445\n",
    "# merged_ts = '20200104T143414_12439_64_49980'\n",
    "\n",
    "\n",
    "merged_ts = '20200104T151347_9528_64_49980'\n",
    "\n",
    "merged_ts = '20200104T033010_10938_512_49980' # 9868\n",
    "\n",
    "\n",
    "train_path = 'data/df_merged_{}_train.pkl'.format(merged_ts)\n",
    "test_path = 'data/df_merged_{}_test.pkl'.format(merged_ts)\n",
    "dict_path = 'data/df_merged_{}_fea_dict.pkl'.format(merged_ts)\n",
    "\n",
    "df_model = joblib.load(train_path)  \n",
    "df_test = joblib.load(test_path) \n",
    "fea_dict = joblib.load(dict_path)\n",
    "\n",
    "print('model_set\\n', df_model['smishing'].value_counts())"
   ]
  },
  {
   "cell_type": "code",
   "execution_count": 5,
   "metadata": {
    "ExecuteTime": {
     "end_time": "2020-01-04T22:20:12.193753Z",
     "start_time": "2020-01-04T22:20:12.189027Z"
    },
    "colab": {
     "base_uri": "https://localhost:8080/",
     "height": 51
    },
    "colab_type": "code",
    "executionInfo": {
     "elapsed": 187149,
     "status": "ok",
     "timestamp": 1576287092380,
     "user": {
      "displayName": "주이클",
      "photoUrl": "https://lh3.googleusercontent.com/a-/AAuE7mCWVh4nvn9788qUddhoWTl5qQoYt0bzVMDlJWUumTg=s64",
      "userId": "02708070532256873610"
     },
     "user_tz": -540
    },
    "id": "LCEEOdJK4__q",
    "outputId": "24fb71a8-e639-43d1-b476-d617adfff1e7"
   },
   "outputs": [],
   "source": [
    "seq_cols = ['seq_' + str(i) for i in range(64)]\n",
    "idx_col = [c for c in df_model.columns if '_idx' in c][0]\n",
    "# ridx_col = [c for c in df_model.columns if '_ridx' in c][0]\n",
    "ridx_col = ''"
   ]
  },
  {
   "cell_type": "code",
   "execution_count": 6,
   "metadata": {
    "ExecuteTime": {
     "end_time": "2020-01-04T22:20:12.199787Z",
     "start_time": "2020-01-04T22:20:12.194881Z"
    },
    "colab": {
     "base_uri": "https://localhost:8080/",
     "height": 51
    },
    "colab_type": "code",
    "executionInfo": {
     "elapsed": 187149,
     "status": "ok",
     "timestamp": 1576287092380,
     "user": {
      "displayName": "주이클",
      "photoUrl": "https://lh3.googleusercontent.com/a-/AAuE7mCWVh4nvn9788qUddhoWTl5qQoYt0bzVMDlJWUumTg=s64",
      "userId": "02708070532256873610"
     },
     "user_tz": -540
    },
    "id": "LCEEOdJK4__q",
    "outputId": "24fb71a8-e639-43d1-b476-d617adfff1e7"
   },
   "outputs": [],
   "source": [
    "# df_model[seq_cols] = pd.DataFrame(df_model[idx_col].values.tolist(), df_model.index, dtype=np.int16)\n",
    "# df_test[seq_cols] = pd.DataFrame(df_model[idx_col].values.tolist(), df_model.index, dtype=np.int16)"
   ]
  },
  {
   "cell_type": "code",
   "execution_count": 7,
   "metadata": {
    "ExecuteTime": {
     "end_time": "2020-01-04T22:20:15.151494Z",
     "start_time": "2020-01-04T22:20:12.200840Z"
    },
    "colab": {
     "base_uri": "https://localhost:8080/",
     "height": 51
    },
    "colab_type": "code",
    "executionInfo": {
     "elapsed": 187149,
     "status": "ok",
     "timestamp": 1576287092380,
     "user": {
      "displayName": "주이클",
      "photoUrl": "https://lh3.googleusercontent.com/a-/AAuE7mCWVh4nvn9788qUddhoWTl5qQoYt0bzVMDlJWUumTg=s64",
      "userId": "02708070532256873610"
     },
     "user_tz": -540
    },
    "id": "LCEEOdJK4__q",
    "outputId": "24fb71a8-e639-43d1-b476-d617adfff1e7",
    "scrolled": true
   },
   "outputs": [],
   "source": [
    "df_model.drop(idx_col, axis=1, inplace=True)\n",
    "df_test.drop(idx_col, axis=1, inplace=True)\n",
    "\n",
    "# df_model.drop(ridx_col, axis=1, inplace=True)\n",
    "# df_test.drop(ridx_col, axis=1, inplace=True)"
   ]
  },
  {
   "cell_type": "code",
   "execution_count": 8,
   "metadata": {
    "ExecuteTime": {
     "end_time": "2020-01-04T22:20:15.194854Z",
     "start_time": "2020-01-04T22:20:15.152596Z"
    }
   },
   "outputs": [],
   "source": [
    "no_fea_cols = [\n",
    "#     'tfidf_word_22_0169_xxx 은행',\n",
    "#     'fea__noun_cnt',\n",
    "]"
   ]
  },
  {
   "cell_type": "code",
   "execution_count": 9,
   "metadata": {
    "ExecuteTime": {
     "end_time": "2020-01-04T22:20:15.198375Z",
     "start_time": "2020-01-04T22:20:15.195557Z"
    },
    "scrolled": true
   },
   "outputs": [
    {
     "data": {
      "text/plain": [
       "8656"
      ]
     },
     "execution_count": 9,
     "metadata": {},
     "output_type": "execute_result"
    }
   ],
   "source": [
    "len(zero_dict)"
   ]
  },
  {
   "cell_type": "code",
   "execution_count": 10,
   "metadata": {
    "ExecuteTime": {
     "end_time": "2020-01-04T22:20:16.014769Z",
     "start_time": "2020-01-04T22:20:15.199088Z"
    }
   },
   "outputs": [
    {
     "data": {
      "text/plain": [
       "(2281, 0)"
      ]
     },
     "execution_count": 10,
     "metadata": {},
     "output_type": "execute_result"
    }
   ],
   "source": [
    "fea_cols = [c for c in df_model.columns if c not in ['smishing', 'id', idx_col, ridx_col] + no_fea_cols]\n",
    "# cat_cols = [c for c in fea_cols if 'seq_' in c]\n",
    "cat_cols = []\n",
    "\n",
    "len(fea_cols), len(cat_cols)"
   ]
  },
  {
   "cell_type": "code",
   "execution_count": 11,
   "metadata": {
    "ExecuteTime": {
     "end_time": "2020-01-04T22:20:16.058700Z",
     "start_time": "2020-01-04T22:20:16.015411Z"
    }
   },
   "outputs": [
    {
     "data": {
      "text/plain": [
       "140"
      ]
     },
     "execution_count": 11,
     "metadata": {},
     "output_type": "execute_result"
    }
   ],
   "source": [
    "gc.collect()"
   ]
  },
  {
   "cell_type": "code",
   "execution_count": 12,
   "metadata": {
    "ExecuteTime": {
     "end_time": "2020-01-04T22:20:16.502054Z",
     "start_time": "2020-01-04T22:20:16.059332Z"
    }
   },
   "outputs": [
    {
     "name": "stdout",
     "output_type": "stream",
     "text": [
      "<class 'pandas.core.frame.DataFrame'>\n",
      "Int64Index: 295945 entries, 0 to 336378\n",
      "Columns: 10938 entries, smishing to tfidf_pos_word_22_0999\n",
      "dtypes: float16(10893), int16(44), int64(1)\n",
      "memory usage: 6.0 GB\n"
     ]
    }
   ],
   "source": [
    "df_model.info()"
   ]
  },
  {
   "cell_type": "code",
   "execution_count": 13,
   "metadata": {
    "ExecuteTime": {
     "end_time": "2020-01-04T22:20:17.188038Z",
     "start_time": "2020-01-04T22:20:16.503047Z"
    }
   },
   "outputs": [
    {
     "data": {
      "text/html": [
       "<div>\n",
       "<style scoped>\n",
       "    .dataframe tbody tr th:only-of-type {\n",
       "        vertical-align: middle;\n",
       "    }\n",
       "\n",
       "    .dataframe tbody tr th {\n",
       "        vertical-align: top;\n",
       "    }\n",
       "\n",
       "    .dataframe thead th {\n",
       "        text-align: right;\n",
       "    }\n",
       "</style>\n",
       "<table border=\"1\" class=\"dataframe\">\n",
       "  <thead>\n",
       "    <tr style=\"text-align: right;\">\n",
       "      <th></th>\n",
       "      <th>id</th>\n",
       "      <th>smishing</th>\n",
       "      <th>fea__EC</th>\n",
       "      <th>fea__EF</th>\n",
       "      <th>fea__EP</th>\n",
       "      <th>fea__ETM</th>\n",
       "      <th>fea__ETN</th>\n",
       "      <th>fea__IC</th>\n",
       "      <th>fea__JC</th>\n",
       "      <th>fea__JKB</th>\n",
       "      <th>...</th>\n",
       "      <th>tfidf_pos_word_22_0990</th>\n",
       "      <th>tfidf_pos_word_22_0991</th>\n",
       "      <th>tfidf_pos_word_22_0992</th>\n",
       "      <th>tfidf_pos_word_22_0993</th>\n",
       "      <th>tfidf_pos_word_22_0994</th>\n",
       "      <th>tfidf_pos_word_22_0995</th>\n",
       "      <th>tfidf_pos_word_22_0996</th>\n",
       "      <th>tfidf_pos_word_22_0997</th>\n",
       "      <th>tfidf_pos_word_22_0998</th>\n",
       "      <th>tfidf_pos_word_22_0999</th>\n",
       "    </tr>\n",
       "  </thead>\n",
       "  <tbody>\n",
       "    <tr>\n",
       "      <td>0</td>\n",
       "      <td>0</td>\n",
       "      <td>0</td>\n",
       "      <td>0</td>\n",
       "      <td>2</td>\n",
       "      <td>1</td>\n",
       "      <td>1</td>\n",
       "      <td>0</td>\n",
       "      <td>0</td>\n",
       "      <td>0</td>\n",
       "      <td>0</td>\n",
       "      <td>...</td>\n",
       "      <td>0.0</td>\n",
       "      <td>0.0</td>\n",
       "      <td>0.0</td>\n",
       "      <td>0.0</td>\n",
       "      <td>0.0</td>\n",
       "      <td>0.0</td>\n",
       "      <td>0.0</td>\n",
       "      <td>0.0</td>\n",
       "      <td>0.0</td>\n",
       "      <td>0.0</td>\n",
       "    </tr>\n",
       "    <tr>\n",
       "      <td>1</td>\n",
       "      <td>1</td>\n",
       "      <td>0</td>\n",
       "      <td>1</td>\n",
       "      <td>1</td>\n",
       "      <td>2</td>\n",
       "      <td>1</td>\n",
       "      <td>0</td>\n",
       "      <td>0</td>\n",
       "      <td>0</td>\n",
       "      <td>0</td>\n",
       "      <td>...</td>\n",
       "      <td>0.0</td>\n",
       "      <td>0.0</td>\n",
       "      <td>0.0</td>\n",
       "      <td>0.0</td>\n",
       "      <td>0.0</td>\n",
       "      <td>0.0</td>\n",
       "      <td>0.0</td>\n",
       "      <td>0.0</td>\n",
       "      <td>0.0</td>\n",
       "      <td>0.0</td>\n",
       "    </tr>\n",
       "    <tr>\n",
       "      <td>2</td>\n",
       "      <td>2</td>\n",
       "      <td>0</td>\n",
       "      <td>2</td>\n",
       "      <td>5</td>\n",
       "      <td>4</td>\n",
       "      <td>1</td>\n",
       "      <td>0</td>\n",
       "      <td>0</td>\n",
       "      <td>0</td>\n",
       "      <td>0</td>\n",
       "      <td>...</td>\n",
       "      <td>0.0</td>\n",
       "      <td>0.0</td>\n",
       "      <td>0.0</td>\n",
       "      <td>0.0</td>\n",
       "      <td>0.0</td>\n",
       "      <td>0.0</td>\n",
       "      <td>0.0</td>\n",
       "      <td>0.0</td>\n",
       "      <td>0.0</td>\n",
       "      <td>0.0</td>\n",
       "    </tr>\n",
       "    <tr>\n",
       "      <td>3</td>\n",
       "      <td>4</td>\n",
       "      <td>0</td>\n",
       "      <td>1</td>\n",
       "      <td>5</td>\n",
       "      <td>5</td>\n",
       "      <td>7</td>\n",
       "      <td>2</td>\n",
       "      <td>0</td>\n",
       "      <td>1</td>\n",
       "      <td>5</td>\n",
       "      <td>...</td>\n",
       "      <td>0.0</td>\n",
       "      <td>0.0</td>\n",
       "      <td>0.0</td>\n",
       "      <td>0.0</td>\n",
       "      <td>0.0</td>\n",
       "      <td>0.0</td>\n",
       "      <td>0.0</td>\n",
       "      <td>0.0</td>\n",
       "      <td>0.0</td>\n",
       "      <td>0.0</td>\n",
       "    </tr>\n",
       "    <tr>\n",
       "      <td>4</td>\n",
       "      <td>5</td>\n",
       "      <td>0</td>\n",
       "      <td>2</td>\n",
       "      <td>1</td>\n",
       "      <td>1</td>\n",
       "      <td>1</td>\n",
       "      <td>2</td>\n",
       "      <td>0</td>\n",
       "      <td>0</td>\n",
       "      <td>0</td>\n",
       "      <td>...</td>\n",
       "      <td>0.0</td>\n",
       "      <td>0.0</td>\n",
       "      <td>0.0</td>\n",
       "      <td>0.0</td>\n",
       "      <td>0.0</td>\n",
       "      <td>0.0</td>\n",
       "      <td>0.0</td>\n",
       "      <td>0.0</td>\n",
       "      <td>0.0</td>\n",
       "      <td>0.0</td>\n",
       "    </tr>\n",
       "    <tr>\n",
       "      <td>...</td>\n",
       "      <td>...</td>\n",
       "      <td>...</td>\n",
       "      <td>...</td>\n",
       "      <td>...</td>\n",
       "      <td>...</td>\n",
       "      <td>...</td>\n",
       "      <td>...</td>\n",
       "      <td>...</td>\n",
       "      <td>...</td>\n",
       "      <td>...</td>\n",
       "      <td>...</td>\n",
       "      <td>...</td>\n",
       "      <td>...</td>\n",
       "      <td>...</td>\n",
       "      <td>...</td>\n",
       "      <td>...</td>\n",
       "      <td>...</td>\n",
       "      <td>...</td>\n",
       "      <td>...</td>\n",
       "      <td>...</td>\n",
       "      <td>...</td>\n",
       "    </tr>\n",
       "    <tr>\n",
       "      <td>295940</td>\n",
       "      <td>336373</td>\n",
       "      <td>0</td>\n",
       "      <td>5</td>\n",
       "      <td>4</td>\n",
       "      <td>8</td>\n",
       "      <td>7</td>\n",
       "      <td>2</td>\n",
       "      <td>0</td>\n",
       "      <td>2</td>\n",
       "      <td>4</td>\n",
       "      <td>...</td>\n",
       "      <td>0.0</td>\n",
       "      <td>0.0</td>\n",
       "      <td>0.0</td>\n",
       "      <td>0.0</td>\n",
       "      <td>0.0</td>\n",
       "      <td>0.0</td>\n",
       "      <td>0.0</td>\n",
       "      <td>0.0</td>\n",
       "      <td>0.0</td>\n",
       "      <td>0.0</td>\n",
       "    </tr>\n",
       "    <tr>\n",
       "      <td>295941</td>\n",
       "      <td>336375</td>\n",
       "      <td>0</td>\n",
       "      <td>0</td>\n",
       "      <td>1</td>\n",
       "      <td>0</td>\n",
       "      <td>0</td>\n",
       "      <td>0</td>\n",
       "      <td>0</td>\n",
       "      <td>0</td>\n",
       "      <td>0</td>\n",
       "      <td>...</td>\n",
       "      <td>0.0</td>\n",
       "      <td>0.0</td>\n",
       "      <td>0.0</td>\n",
       "      <td>0.0</td>\n",
       "      <td>0.0</td>\n",
       "      <td>0.0</td>\n",
       "      <td>0.0</td>\n",
       "      <td>0.0</td>\n",
       "      <td>0.0</td>\n",
       "      <td>0.0</td>\n",
       "    </tr>\n",
       "    <tr>\n",
       "      <td>295942</td>\n",
       "      <td>336376</td>\n",
       "      <td>0</td>\n",
       "      <td>5</td>\n",
       "      <td>2</td>\n",
       "      <td>3</td>\n",
       "      <td>0</td>\n",
       "      <td>0</td>\n",
       "      <td>0</td>\n",
       "      <td>1</td>\n",
       "      <td>1</td>\n",
       "      <td>...</td>\n",
       "      <td>0.0</td>\n",
       "      <td>0.0</td>\n",
       "      <td>0.0</td>\n",
       "      <td>0.0</td>\n",
       "      <td>0.0</td>\n",
       "      <td>0.0</td>\n",
       "      <td>0.0</td>\n",
       "      <td>0.0</td>\n",
       "      <td>0.0</td>\n",
       "      <td>0.0</td>\n",
       "    </tr>\n",
       "    <tr>\n",
       "      <td>295943</td>\n",
       "      <td>336377</td>\n",
       "      <td>0</td>\n",
       "      <td>3</td>\n",
       "      <td>2</td>\n",
       "      <td>1</td>\n",
       "      <td>0</td>\n",
       "      <td>0</td>\n",
       "      <td>0</td>\n",
       "      <td>0</td>\n",
       "      <td>1</td>\n",
       "      <td>...</td>\n",
       "      <td>0.0</td>\n",
       "      <td>0.0</td>\n",
       "      <td>0.0</td>\n",
       "      <td>0.0</td>\n",
       "      <td>0.0</td>\n",
       "      <td>0.0</td>\n",
       "      <td>0.0</td>\n",
       "      <td>0.0</td>\n",
       "      <td>0.0</td>\n",
       "      <td>0.0</td>\n",
       "    </tr>\n",
       "    <tr>\n",
       "      <td>295944</td>\n",
       "      <td>336378</td>\n",
       "      <td>0</td>\n",
       "      <td>16</td>\n",
       "      <td>7</td>\n",
       "      <td>6</td>\n",
       "      <td>7</td>\n",
       "      <td>4</td>\n",
       "      <td>0</td>\n",
       "      <td>0</td>\n",
       "      <td>6</td>\n",
       "      <td>...</td>\n",
       "      <td>0.0</td>\n",
       "      <td>0.0</td>\n",
       "      <td>0.0</td>\n",
       "      <td>0.0</td>\n",
       "      <td>0.0</td>\n",
       "      <td>0.0</td>\n",
       "      <td>0.0</td>\n",
       "      <td>0.0</td>\n",
       "      <td>0.0</td>\n",
       "      <td>0.0</td>\n",
       "    </tr>\n",
       "  </tbody>\n",
       "</table>\n",
       "<p>295945 rows × 10939 columns</p>\n",
       "</div>"
      ],
      "text/plain": [
       "            id  smishing  fea__EC  fea__EF  fea__EP  fea__ETM  fea__ETN  \\\n",
       "0            0         0        0        2        1         1         0   \n",
       "1            1         0        1        1        2         1         0   \n",
       "2            2         0        2        5        4         1         0   \n",
       "3            4         0        1        5        5         7         2   \n",
       "4            5         0        2        1        1         1         2   \n",
       "...        ...       ...      ...      ...      ...       ...       ...   \n",
       "295940  336373         0        5        4        8         7         2   \n",
       "295941  336375         0        0        1        0         0         0   \n",
       "295942  336376         0        5        2        3         0         0   \n",
       "295943  336377         0        3        2        1         0         0   \n",
       "295944  336378         0       16        7        6         7         4   \n",
       "\n",
       "        fea__IC  fea__JC  fea__JKB  ...  tfidf_pos_word_22_0990  \\\n",
       "0             0        0         0  ...                     0.0   \n",
       "1             0        0         0  ...                     0.0   \n",
       "2             0        0         0  ...                     0.0   \n",
       "3             0        1         5  ...                     0.0   \n",
       "4             0        0         0  ...                     0.0   \n",
       "...         ...      ...       ...  ...                     ...   \n",
       "295940        0        2         4  ...                     0.0   \n",
       "295941        0        0         0  ...                     0.0   \n",
       "295942        0        1         1  ...                     0.0   \n",
       "295943        0        0         1  ...                     0.0   \n",
       "295944        0        0         6  ...                     0.0   \n",
       "\n",
       "        tfidf_pos_word_22_0991  tfidf_pos_word_22_0992  \\\n",
       "0                          0.0                     0.0   \n",
       "1                          0.0                     0.0   \n",
       "2                          0.0                     0.0   \n",
       "3                          0.0                     0.0   \n",
       "4                          0.0                     0.0   \n",
       "...                        ...                     ...   \n",
       "295940                     0.0                     0.0   \n",
       "295941                     0.0                     0.0   \n",
       "295942                     0.0                     0.0   \n",
       "295943                     0.0                     0.0   \n",
       "295944                     0.0                     0.0   \n",
       "\n",
       "        tfidf_pos_word_22_0993  tfidf_pos_word_22_0994  \\\n",
       "0                          0.0                     0.0   \n",
       "1                          0.0                     0.0   \n",
       "2                          0.0                     0.0   \n",
       "3                          0.0                     0.0   \n",
       "4                          0.0                     0.0   \n",
       "...                        ...                     ...   \n",
       "295940                     0.0                     0.0   \n",
       "295941                     0.0                     0.0   \n",
       "295942                     0.0                     0.0   \n",
       "295943                     0.0                     0.0   \n",
       "295944                     0.0                     0.0   \n",
       "\n",
       "        tfidf_pos_word_22_0995  tfidf_pos_word_22_0996  \\\n",
       "0                          0.0                     0.0   \n",
       "1                          0.0                     0.0   \n",
       "2                          0.0                     0.0   \n",
       "3                          0.0                     0.0   \n",
       "4                          0.0                     0.0   \n",
       "...                        ...                     ...   \n",
       "295940                     0.0                     0.0   \n",
       "295941                     0.0                     0.0   \n",
       "295942                     0.0                     0.0   \n",
       "295943                     0.0                     0.0   \n",
       "295944                     0.0                     0.0   \n",
       "\n",
       "        tfidf_pos_word_22_0997  tfidf_pos_word_22_0998  tfidf_pos_word_22_0999  \n",
       "0                          0.0                     0.0                     0.0  \n",
       "1                          0.0                     0.0                     0.0  \n",
       "2                          0.0                     0.0                     0.0  \n",
       "3                          0.0                     0.0                     0.0  \n",
       "4                          0.0                     0.0                     0.0  \n",
       "...                        ...                     ...                     ...  \n",
       "295940                     0.0                     0.0                     0.0  \n",
       "295941                     0.0                     0.0                     0.0  \n",
       "295942                     0.0                     0.0                     0.0  \n",
       "295943                     0.0                     0.0                     0.0  \n",
       "295944                     0.0                     0.0                     0.0  \n",
       "\n",
       "[295945 rows x 10939 columns]"
      ]
     },
     "execution_count": 13,
     "metadata": {},
     "output_type": "execute_result"
    }
   ],
   "source": [
    "df_model = df_model.reset_index()\n",
    "df_model"
   ]
  },
  {
   "cell_type": "markdown",
   "metadata": {},
   "source": [
    "#### Params"
   ]
  },
  {
   "cell_type": "code",
   "execution_count": 14,
   "metadata": {
    "ExecuteTime": {
     "end_time": "2020-01-04T22:20:17.191763Z",
     "start_time": "2020-01-04T22:20:17.188729Z"
    },
    "colab": {
     "base_uri": "https://localhost:8080/",
     "height": 51
    },
    "colab_type": "code",
    "executionInfo": {
     "elapsed": 187149,
     "status": "ok",
     "timestamp": 1576287092380,
     "user": {
      "displayName": "주이클",
      "photoUrl": "https://lh3.googleusercontent.com/a-/AAuE7mCWVh4nvn9788qUddhoWTl5qQoYt0bzVMDlJWUumTg=s64",
      "userId": "02708070532256873610"
     },
     "user_tz": -540
    },
    "id": "LCEEOdJK4__q",
    "outputId": "24fb71a8-e639-43d1-b476-d617adfff1e7"
   },
   "outputs": [],
   "source": [
    "from sklearn.model_selection import train_test_split\n",
    "from sklearn.model_selection import StratifiedKFold\n",
    "\n",
    "model_ts = datetime.now().strftime('%Y%m%dT%H%M%S')\n",
    "\n",
    "initscore_filename = ''\n",
    "params = {\n",
    "    'boosting':'gbdt',\n",
    "#     'boosting':'dart',\n",
    "    'num_leaves': 7, \n",
    "#     'max_depth': 5,\n",
    "    'objective': 'binary',\n",
    "    'metric':'auc',\n",
    "    'num_threads': 16,\n",
    "    'learning_rate': 0.005,\n",
    "#     'is_unbalance': True,\n",
    "    'scale_pos_weight':200,\n",
    "    'bagging_fraction':0.5,\n",
    "    'bagging_freq':10,\n",
    "    'feature_fraction':0.5,\n",
    "    'initscore_filename':initscore_filename,\n",
    "#     'lambda_l1':200,\n",
    "#     'lambda_l2':2000,\n",
    "    'device_type':'gpu',\n",
    "}\n",
    "\n",
    "data_params = {\n",
    "    'max_bin':128,\n",
    "#     'enable_bundle': False,\n",
    "}\n",
    "num_round = 15000\n",
    "\n"
   ]
  },
  {
   "cell_type": "markdown",
   "metadata": {},
   "source": [
    "#### Train"
   ]
  },
  {
   "cell_type": "code",
   "execution_count": 15,
   "metadata": {
    "ExecuteTime": {
     "end_time": "2020-01-04T22:20:17.197453Z",
     "start_time": "2020-01-04T22:20:17.192478Z"
    }
   },
   "outputs": [],
   "source": [
    "def save_feature_importance(renamed_cols, bst, importance_type, file_name):\n",
    "    impt_dict = {k:v for k, v in zip(renamed_cols, bst.feature_importance(importance_type=importance_type))}\n",
    "    print(f'<{importance_type}>\\n', sorted(impt_dict.items(), key=(lambda x:x[1]), reverse=True)[:10])\n",
    "    joblib.dump(impt_dict, f'model/{file_name}_{importance_type}.pkl')"
   ]
  },
  {
   "cell_type": "code",
   "execution_count": null,
   "metadata": {
    "ExecuteTime": {
     "start_time": "2020-01-04T22:20:24.605Z"
    },
    "scrolled": false
   },
   "outputs": [
    {
     "name": "stdout",
     "output_type": "stream",
     "text": [
      "merged_ts 20200104T033010_10938_512_49980 model_ts 20200105T072017\n",
      "{'boosting': 'gbdt', 'num_leaves': 7, 'objective': 'binary', 'metric': 'auc', 'num_threads': 16, 'learning_rate': 0.005, 'scale_pos_weight': 200, 'bagging_fraction': 0.5, 'bagging_freq': 10, 'feature_fraction': 0.5, 'initscore_filename': '', 'device_type': 'gpu'}\n",
      "{'max_bin': 128}\n"
     ]
    },
    {
     "data": {
      "application/vnd.jupyter.widget-view+json": {
       "model_id": "90f9a633a1794234a3a866dcc52fefa5",
       "version_major": 2,
       "version_minor": 0
      },
      "text/plain": [
       "HBox(children=(IntProgress(value=0, description='Try', max=1, style=ProgressStyle(description_width='initial')…"
      ]
     },
     "metadata": {},
     "output_type": "display_data"
    },
    {
     "name": "stdout",
     "output_type": "stream",
     "text": [
      "0 2281\n"
     ]
    },
    {
     "data": {
      "application/vnd.jupyter.widget-view+json": {
       "model_id": "1edb04472263429e998f287743eea3c1",
       "version_major": 2,
       "version_minor": 0
      },
      "text/plain": [
       "HBox(children=(IntProgress(value=0, description='CV', max=5, style=ProgressStyle(description_width='initial'))…"
      ]
     },
     "metadata": {},
     "output_type": "display_data"
    },
    {
     "name": "stdout",
     "output_type": "stream",
     "text": [
      "\n",
      " 0 ******************** 0 ********************\n",
      "train_set (array([0, 1]), array([221793,  14962]))\n",
      "valid_set (array([0, 1]), array([55449,  3741]))\n",
      "Training until validation scores don't improve for 500 rounds\n",
      "[200]\ttraining's auc: 0.999966\tvalid_1's auc: 0.99973\n",
      "[400]\ttraining's auc: 0.999995\tvalid_1's auc: 0.999809\n",
      "[600]\ttraining's auc: 0.999998\tvalid_1's auc: 0.999889\n",
      "[800]\ttraining's auc: 0.999999\tvalid_1's auc: 0.999939\n",
      "[1000]\ttraining's auc: 0.999999\tvalid_1's auc: 0.999964\n",
      "[1200]\ttraining's auc: 1\tvalid_1's auc: 0.999978\n",
      "[1400]\ttraining's auc: 1\tvalid_1's auc: 0.999987\n",
      "[1600]\ttraining's auc: 1\tvalid_1's auc: 0.999991\n"
     ]
    }
   ],
   "source": [
    "print('merged_ts', merged_ts, 'model_ts', model_ts)\n",
    "print(params)\n",
    "print(data_params)\n",
    "pred_csv = []\n",
    "fea_size = -1\n",
    "try_cnt = 1\n",
    "\n",
    "\n",
    "for t in tqdm_notebook(range(try_cnt), total=try_cnt, desc = 'Try'):\n",
    "#     fea_cols = [c for c in df_model.columns if c not in ['smishing', 'id', 'score']]\n",
    "    \n",
    "    if fea_size > 0:\n",
    "        fea_cols = list(set(np.random.choice(fea_cols, fea_size)))\n",
    "        print(t, len(fea_cols), fea_cols[:100])\n",
    "    else:\n",
    "        print(t, len(fea_cols))\n",
    "\n",
    "    [df_model.drop(c, axis=1, inplace=True) for c in df_model.columns if 'smishing_' in c]\n",
    "    [df_test.drop(c, axis=1, inplace=True) for c in df_test.columns if 'smishing_' in c]\n",
    "\n",
    "    n_splits = 5\n",
    "    skf = StratifiedKFold(n_splits=n_splits, random_state=8405)\n",
    "    cnt = 0\n",
    "    \n",
    "    # for train_index, valid_index in skf.split(X, y):\n",
    "    for train_index, valid_index in tqdm_notebook(skf.split(df_model['id'].values, df_model['smishing'].values), total=n_splits, desc = 'CV'):\n",
    "        print('\\n', t, '*' * 20, cnt, '*' * 20)\n",
    "        \n",
    "        train_set = lgb.Dataset(df_model.loc[train_index, fea_cols].values, \n",
    "                                 label=df_model.loc[train_index, 'smishing'].values, \n",
    "                                 feature_name=fea_cols, categorical_feature=cat_cols, \n",
    "                                 free_raw_data=True, params=data_params)\n",
    "        \n",
    "        valid_set = lgb.Dataset(df_model.loc[valid_index, fea_cols].values, \n",
    "                                 label=df_model.loc[valid_index, 'smishing'].values, \n",
    "                                 feature_name=fea_cols, categorical_feature=cat_cols, \n",
    "                                 free_raw_data=True, params=data_params)\n",
    "\n",
    "        print('train_set', np.unique(train_set.get_label(), return_counts=True))\n",
    "        print('valid_set', np.unique(valid_set.get_label(), return_counts=True))\n",
    "\n",
    "        bst = lgb.train(params, train_set, num_round, categorical_feature=cat_cols,\n",
    "                        early_stopping_rounds=500, \n",
    "                        valid_sets=[train_set, valid_set],\n",
    "                        verbose_eval=200,\n",
    "                        # init_model=init_model,\n",
    "                       )\n",
    "        \n",
    "        pred_tag = 'smishing_{}_{}__{}'.format(t, cnt, bst.best_iteration)\n",
    "        print('pred_tag', pred_tag, 'Best Iteration:', bst.best_iteration)\n",
    "\n",
    "        renamed_cols = [fea_dict[c] if c in fea_dict.keys() else c for c in fea_cols]\n",
    "        \n",
    "        save_feature_importance(renamed_cols, bst, 'split', f\"{model_ts}_{pred_tag}\")\n",
    "        save_feature_importance(renamed_cols, bst, 'gain', f\"{model_ts}_{pred_tag}\")\n",
    "\n",
    "#         impt_dict = {k:v for k, v in zip(renamed_cols, bst.feature_importance(importance_type='split'))}\n",
    "#         print('<split>\\n', sorted(impt_dict.items(), key=(lambda x:x[1]), reverse=True)[:5])\n",
    "#         joblib.dump(impt_dict, 'model/{}_{}_split.pkl'.format(model_ts, pred_tag))\n",
    "\n",
    "#         impt_dict = {k:v for k, v in zip(renamed_cols, bst.feature_importance(importance_type='gain'))}    \n",
    "#         print('<gain>\\n', sorted(impt_dict.items(), key=(lambda x:x[1]), reverse=True)[:5])\n",
    "#         joblib.dump(impt_dict, 'model/{}_{}_gain.pkl'.format(model_ts, pred_tag))\n",
    "        \n",
    "        \n",
    "        df_pred_valid = pd.DataFrame(index=valid_index, \n",
    "                               data=bst.predict(df_model.loc[valid_index, fea_cols].values),\n",
    "                               columns=['score'])\n",
    "        \n",
    "        df_pred_valid['type'] = 'valid'\n",
    "        df_pred_valid['smishing'] = df_model.loc[valid_index, 'smishing'].values\n",
    "        \n",
    "        df_pred_train = pd.DataFrame(index=train_index, \n",
    "                               data=bst.predict(df_model.loc[train_index, fea_cols].values),\n",
    "                               columns=['score'])\n",
    "        \n",
    "        df_pred_train['type'] = 'train'\n",
    "        df_pred_train['smishing'] = df_model.loc[train_index, 'smishing'].values\n",
    "        \n",
    "        \n",
    "        print('valid\\n', eval_summary(df_pred_valid['smishing'].values, \n",
    "                                      df_pred_valid['score'].values, cut_off=0.5))\n",
    "\n",
    "        print('train\\n', eval_summary(df_pred_train['smishing'].values, \n",
    "                                      df_pred_train['score'].values, cut_off=0.5))\n",
    "        \n",
    "        df_pred_model = pd.concat([df_pred_train, df_pred_valid])\n",
    "              \n",
    "        df_pred_model[['score', 'smishing']].to_csv('submit/{}_{}_lgb_score.csv'.format(model_ts, pred_tag), index=True)\n",
    "        print('model\\n', eval_summary(df_pred_model['smishing'].values, df_pred_model['score'].values, cut_off=0.5))\n",
    "        \n",
    "        df_test['smishing'] = bst.predict(df_test[fea_cols].values)    \n",
    "        df_test[['smishing']].to_csv('submit/{}_{}_lgb.csv'.format(model_ts, pred_tag), index=True)\n",
    "        pred_csv.append('submit/{}_{}_lgb.csv'.format(model_ts, pred_tag))\n",
    "        \n",
    "        del train_set, valid_set\n",
    "        gc.collect()\n",
    "        cnt = cnt + 1\n"
   ]
  },
  {
   "cell_type": "markdown",
   "metadata": {},
   "source": [
    "#### Submit"
   ]
  },
  {
   "cell_type": "code",
   "execution_count": null,
   "metadata": {
    "ExecuteTime": {
     "end_time": "2020-01-04T21:54:18.664133Z",
     "start_time": "2020-01-04T21:54:18.638103Z"
    }
   },
   "outputs": [],
   "source": [
    "df_submit = df_test[['smishing']]\n",
    "df_submit['smishing'] = 0\n",
    "for csv in pred_csv:\n",
    "    print(csv)\n",
    "    df = pd.read_csv(csv, index_col=0)\n",
    "    c = csv.split('__')[0][-1]\n",
    "    df_submit['smishing_{}'.format(c)] = df['smishing']"
   ]
  },
  {
   "cell_type": "code",
   "execution_count": null,
   "metadata": {
    "ExecuteTime": {
     "end_time": "2020-01-04T21:54:20.534410Z",
     "start_time": "2020-01-04T21:54:20.510433Z"
    },
    "scrolled": true
   },
   "outputs": [],
   "source": [
    "pred_cols = [c for c in df_submit.columns if 'smishing_' in c]\n",
    "df_submit['std'] = df_submit[pred_cols].std(axis=1)\n",
    "df_submit['median'] = df_submit[pred_cols].median(axis=1)\n",
    "df_submit['mean'] = df_submit[pred_cols].median(axis=1)\n",
    "\n",
    "pred_cols_n4 = [c for c in pred_cols if '_4' in c]\n",
    "df_submit['std_n4'] = df_submit[pred_cols_n4].std(axis=1)\n",
    "df_submit['median_n4'] = df_submit[pred_cols_n4].median(axis=1)\n",
    "df_submit['mean_n4'] = df_submit[pred_cols_n4].median(axis=1)\n"
   ]
  },
  {
   "cell_type": "markdown",
   "metadata": {},
   "source": [
    "#### Save"
   ]
  },
  {
   "cell_type": "code",
   "execution_count": null,
   "metadata": {
    "ExecuteTime": {
     "end_time": "2020-01-04T21:54:26.466681Z",
     "start_time": "2020-01-04T21:54:26.438037Z"
    }
   },
   "outputs": [],
   "source": [
    "print(model_ts)\n",
    "df_submit['smishing'] = df_submit['median']\n",
    "df_submit[['smishing']].to_csv('submit/{}_lgb_median.csv'.format(model_ts), index=True)\n",
    "\n",
    "df_submit['smishing'] = df_submit['mean_n4']\n",
    "df_submit[['smishing']].to_csv('submit/{}_lgb_n4.csv'.format(model_ts), index=True)\n",
    "\n",
    "df_submit['smishing'] = df_submit['mean']\n",
    "df_submit[['smishing']].to_csv('submit/{}_lgb.csv'.format(model_ts), index=True)"
   ]
  },
  {
   "cell_type": "markdown",
   "metadata": {},
   "source": [
    "#### Eval"
   ]
  },
  {
   "cell_type": "code",
   "execution_count": null,
   "metadata": {
    "ExecuteTime": {
     "end_time": "2020-01-04T21:04:45.757165Z",
     "start_time": "2020-01-04T21:04:25.962Z"
    },
    "scrolled": true
   },
   "outputs": [],
   "source": [
    "df_std = df_submit[df_submit['std'] < 1]\n",
    "print(df_std.shape)\n",
    "df_std.sort_values('std', ascending=False).head(30)"
   ]
  },
  {
   "cell_type": "code",
   "execution_count": null,
   "metadata": {
    "ExecuteTime": {
     "end_time": "2020-01-04T21:04:45.757625Z",
     "start_time": "2020-01-04T21:04:25.964Z"
    }
   },
   "outputs": [],
   "source": [
    "df_submit['smishing'].hist(bins=100, figsize=(20, 5))"
   ]
  },
  {
   "cell_type": "code",
   "execution_count": null,
   "metadata": {
    "ExecuteTime": {
     "end_time": "2020-01-04T21:04:45.758086Z",
     "start_time": "2020-01-04T21:04:25.967Z"
    }
   },
   "outputs": [],
   "source": [
    "(df_submit['smishing'] * 10).astype(int).value_counts(sort=False)"
   ]
  },
  {
   "cell_type": "code",
   "execution_count": null,
   "metadata": {
    "ExecuteTime": {
     "end_time": "2020-01-04T21:04:45.758552Z",
     "start_time": "2020-01-04T21:04:25.969Z"
    }
   },
   "outputs": [],
   "source": [
    "print(model_ts)\n",
    "df_submit[['smishing']].to_csv('submit/{}_lgb.csv'.format(model_ts), index=True)"
   ]
  },
  {
   "cell_type": "code",
   "execution_count": null,
   "metadata": {},
   "outputs": [],
   "source": []
  }
 ],
 "metadata": {
  "accelerator": "GPU",
  "colab": {
   "collapsed_sections": [],
   "name": "mecab_tfidf.ipynb",
   "provenance": []
  },
  "kernelspec": {
   "display_name": "Python 3",
   "language": "python",
   "name": "python3"
  },
  "language_info": {
   "codemirror_mode": {
    "name": "ipython",
    "version": 3
   },
   "file_extension": ".py",
   "mimetype": "text/x-python",
   "name": "python",
   "nbconvert_exporter": "python",
   "pygments_lexer": "ipython3",
   "version": "3.7.4"
  },
  "toc": {
   "base_numbering": 1,
   "nav_menu": {},
   "number_sections": true,
   "sideBar": true,
   "skip_h1_title": false,
   "title_cell": "Table of Contents",
   "title_sidebar": "Contents",
   "toc_cell": false,
   "toc_position": {
    "height": "calc(100% - 180px)",
    "left": "10px",
    "top": "150px",
    "width": "165px"
   },
   "toc_section_display": true,
   "toc_window_display": true
  }
 },
 "nbformat": 4,
 "nbformat_minor": 1
}
