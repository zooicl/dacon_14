{
 "cells": [
  {
   "cell_type": "code",
   "execution_count": 1,
   "metadata": {
    "ExecuteTime": {
     "end_time": "2020-01-03T19:07:05.362143Z",
     "start_time": "2020-01-03T19:07:04.062799Z"
    },
    "colab": {
     "base_uri": "https://localhost:8080/",
     "height": 71
    },
    "colab_type": "code",
    "executionInfo": {
     "elapsed": 1590,
     "status": "ok",
     "timestamp": 1576286906380,
     "user": {
      "displayName": "주이클",
      "photoUrl": "https://lh3.googleusercontent.com/a-/AAuE7mCWVh4nvn9788qUddhoWTl5qQoYt0bzVMDlJWUumTg=s64",
      "userId": "02708070532256873610"
     },
     "user_tz": -540
    },
    "id": "U3xmRNtgpZwi",
    "outputId": "f6e95e03-5913-4a53-9ff3-1b6cde1b5a82"
   },
   "outputs": [
    {
     "name": "stderr",
     "output_type": "stream",
     "text": [
      "/home/aiden/anaconda3/lib/python3.7/site-packages/sklearn/externals/joblib/__init__.py:15: DeprecationWarning: sklearn.externals.joblib is deprecated in 0.21 and will be removed in 0.23. Please import this functionality directly from joblib, which can be installed with: pip install joblib. If this warning is raised when loading pickled models, you may need to re-serialize those models with scikit-learn 0.21+.\n",
      "  warnings.warn(msg, category=DeprecationWarning)\n"
     ]
    },
    {
     "name": "stdout",
     "output_type": "stream",
     "text": [
      "2.3.2\n",
      "1.3.1\n",
      "GeForce RTX 2070 SUPER\n",
      "True\n"
     ]
    },
    {
     "data": {
      "text/plain": [
       "device(type='cuda', index=0)"
      ]
     },
     "execution_count": 1,
     "metadata": {},
     "output_type": "execute_result"
    }
   ],
   "source": [
    "#!/usr/bin/env python\n",
    "# coding: utf-8\n",
    "get_ipython().run_line_magic('matplotlib', 'inline')\n",
    "import pandas as pd\n",
    "import time\n",
    "import numpy as np\n",
    "from datetime import datetime\n",
    "from sklearn.externals import joblib \n",
    "import os\n",
    "from konlpy.tag import Mecab\n",
    "import lightgbm as lgb\n",
    "print(lgb.__version__)\n",
    "\n",
    "from sklearn import metrics\n",
    "from sklearn.preprocessing import MinMaxScaler\n",
    "from sklearn.externals import joblib \n",
    "from sklearn.model_selection import StratifiedKFold\n",
    "\n",
    "import gc\n",
    "\n",
    "from tqdm import tqdm_notebook\n",
    "\n",
    "import warnings\n",
    "warnings.filterwarnings(action='ignore')\n",
    "\n",
    "\n",
    "import torch\n",
    "print(torch.__version__)\n",
    "import torch.nn.functional as F\n",
    "from torch.utils.data import Dataset, DataLoader\n",
    "\n",
    "from torchsummary import summary\n",
    "\n",
    "from tools import eval_summary\n",
    "\n",
    "print(torch.cuda.get_device_name(0))\n",
    "print(torch.cuda.is_available())\n",
    "\n",
    "device = torch.device(\"cuda:0\" if torch.cuda.is_available() else \"cpu\")\n",
    "# device = torch.device('cpu')\n",
    "device"
   ]
  },
  {
   "cell_type": "code",
   "execution_count": 2,
   "metadata": {
    "ExecuteTime": {
     "end_time": "2020-01-03T19:07:06.507680Z",
     "start_time": "2020-01-03T19:07:05.363372Z"
    }
   },
   "outputs": [
    {
     "name": "stdout",
     "output_type": "stream",
     "text": [
      "/home/aiden/src/dacon_14\n"
     ]
    },
    {
     "data": {
      "text/plain": [
       "(297571, 3)"
      ]
     },
     "execution_count": 2,
     "metadata": {},
     "output_type": "execute_result"
    }
   ],
   "source": [
    "print(os.getcwd())\n",
    "\n",
    "base_path = '.'\n",
    "\n",
    "df_train = pd.read_csv(os.path.join(base_path , 'input/train.csv'), index_col=0)\n",
    "df_test = pd.read_csv(os.path.join(base_path , 'input/public_test.csv'), index_col=0)\n",
    "df_test['smishing'] = -1\n",
    "\n",
    "df_fea = pd.concat([df_train, df_test])\n",
    "df_fea.shape"
   ]
  },
  {
   "cell_type": "code",
   "execution_count": 3,
   "metadata": {
    "ExecuteTime": {
     "end_time": "2020-01-03T19:07:06.510379Z",
     "start_time": "2020-01-03T19:07:06.508588Z"
    },
    "colab": {
     "base_uri": "https://localhost:8080/",
     "height": 1000
    },
    "colab_type": "code",
    "executionInfo": {
     "elapsed": 185838,
     "status": "ok",
     "timestamp": 1576287091046,
     "user": {
      "displayName": "주이클",
      "photoUrl": "https://lh3.googleusercontent.com/a-/AAuE7mCWVh4nvn9788qUddhoWTl5qQoYt0bzVMDlJWUumTg=s64",
      "userId": "02708070532256873610"
     },
     "user_tz": -540
    },
    "id": "QOi9dYzqpZxV",
    "outputId": "9ceb7e20-059e-4946-934e-ab85c98dca56",
    "scrolled": true
   },
   "outputs": [
    {
     "name": "stdout",
     "output_type": "stream",
     "text": [
      "295945\n"
     ]
    }
   ],
   "source": [
    "train_size = len(df_train)\n",
    "print(train_size)\n",
    "\n",
    "# cat_cols = []\n",
    "# fea_cols = tfidf_cols + cat_cols + cnt_cols\n",
    "# fea_cols = cnt_cols + cat_cols\n",
    "# fea_cols = tfidf_cols + cat_cols\n",
    "# len(fea_cols)"
   ]
  },
  {
   "cell_type": "markdown",
   "metadata": {},
   "source": [
    "#### Load Data"
   ]
  },
  {
   "cell_type": "code",
   "execution_count": 4,
   "metadata": {
    "ExecuteTime": {
     "end_time": "2020-01-03T19:07:22.099097Z",
     "start_time": "2020-01-03T19:07:06.511296Z"
    },
    "colab": {
     "base_uri": "https://localhost:8080/",
     "height": 51
    },
    "colab_type": "code",
    "executionInfo": {
     "elapsed": 187149,
     "status": "ok",
     "timestamp": 1576287092380,
     "user": {
      "displayName": "주이클",
      "photoUrl": "https://lh3.googleusercontent.com/a-/AAuE7mCWVh4nvn9788qUddhoWTl5qQoYt0bzVMDlJWUumTg=s64",
      "userId": "02708070532256873610"
     },
     "user_tz": -540
    },
    "id": "LCEEOdJK4__q",
    "outputId": "24fb71a8-e639-43d1-b476-d617adfff1e7"
   },
   "outputs": [
    {
     "name": "stdout",
     "output_type": "stream",
     "text": [
      "model_set\n",
      " 0    277242\n",
      "1     18703\n",
      "Name: smishing, dtype: int64\n"
     ]
    }
   ],
   "source": [
    "# merged_ts = '20191231T113708_5499'\n",
    "# merged_ts = '20191231T162533_2022'\n",
    "# merged_ts = '20191231T165424_6099'\n",
    "# merged_ts = '20191231T111228_8180'\n",
    "# merged_ts = '20200101T184353_5853'\n",
    "# merged_ts = '20200102T005929_6546_128_49980' # 984\n",
    "# merged_ts = '20200102T015155_8438_128_49980' # 986\n",
    "# merged_ts = '20200102T160226_8438_275_997'\n",
    "merged_ts = '20200104T033010_10938_512_49980'\n",
    "\n",
    "\n",
    "train_path = 'data/df_merged_{}_train.pkl'.format(merged_ts)\n",
    "test_path = 'data/df_merged_{}_test.pkl'.format(merged_ts)\n",
    "dict_path = 'data/df_merged_{}_fea_dict.pkl'.format(merged_ts)\n",
    "\n",
    "df_model = joblib.load(train_path)  \n",
    "df_test = joblib.load(test_path) \n",
    "fea_dict = joblib.load(dict_path)\n",
    "\n",
    "print('model_set\\n', df_model['smishing'].value_counts())"
   ]
  },
  {
   "cell_type": "code",
   "execution_count": 5,
   "metadata": {
    "ExecuteTime": {
     "end_time": "2020-01-03T19:07:22.103060Z",
     "start_time": "2020-01-03T19:07:22.100041Z"
    },
    "colab": {
     "base_uri": "https://localhost:8080/",
     "height": 51
    },
    "colab_type": "code",
    "executionInfo": {
     "elapsed": 187149,
     "status": "ok",
     "timestamp": 1576287092380,
     "user": {
      "displayName": "주이클",
      "photoUrl": "https://lh3.googleusercontent.com/a-/AAuE7mCWVh4nvn9788qUddhoWTl5qQoYt0bzVMDlJWUumTg=s64",
      "userId": "02708070532256873610"
     },
     "user_tz": -540
    },
    "id": "LCEEOdJK4__q",
    "outputId": "24fb71a8-e639-43d1-b476-d617adfff1e7"
   },
   "outputs": [],
   "source": [
    "seq_cols = ['seq_' + str(i) for i in range(512)]\n",
    "idx_col = [c for c in df_model.columns if '_idx' in c][0]"
   ]
  },
  {
   "cell_type": "code",
   "execution_count": 6,
   "metadata": {
    "ExecuteTime": {
     "end_time": "2020-01-03T19:07:22.109037Z",
     "start_time": "2020-01-03T19:07:22.103858Z"
    },
    "colab": {
     "base_uri": "https://localhost:8080/",
     "height": 51
    },
    "colab_type": "code",
    "executionInfo": {
     "elapsed": 187149,
     "status": "ok",
     "timestamp": 1576287092380,
     "user": {
      "displayName": "주이클",
      "photoUrl": "https://lh3.googleusercontent.com/a-/AAuE7mCWVh4nvn9788qUddhoWTl5qQoYt0bzVMDlJWUumTg=s64",
      "userId": "02708070532256873610"
     },
     "user_tz": -540
    },
    "id": "LCEEOdJK4__q",
    "outputId": "24fb71a8-e639-43d1-b476-d617adfff1e7"
   },
   "outputs": [],
   "source": [
    "# df_model[seq_cols] = pd.DataFrame(df_model[idx_col].values.tolist(), df_model.index, dtype=np.int16)\n",
    "# df_test[seq_cols] = pd.DataFrame(df_model[idx_col].values.tolist(), df_model.index, dtype=np.int16)"
   ]
  },
  {
   "cell_type": "code",
   "execution_count": 7,
   "metadata": {
    "ExecuteTime": {
     "end_time": "2020-01-03T19:07:24.657016Z",
     "start_time": "2020-01-03T19:07:22.110049Z"
    },
    "colab": {
     "base_uri": "https://localhost:8080/",
     "height": 51
    },
    "colab_type": "code",
    "executionInfo": {
     "elapsed": 187149,
     "status": "ok",
     "timestamp": 1576287092380,
     "user": {
      "displayName": "주이클",
      "photoUrl": "https://lh3.googleusercontent.com/a-/AAuE7mCWVh4nvn9788qUddhoWTl5qQoYt0bzVMDlJWUumTg=s64",
      "userId": "02708070532256873610"
     },
     "user_tz": -540
    },
    "id": "LCEEOdJK4__q",
    "outputId": "24fb71a8-e639-43d1-b476-d617adfff1e7",
    "scrolled": true
   },
   "outputs": [],
   "source": [
    "df_model.drop(idx_col, axis=1, inplace=True)\n",
    "df_test.drop(idx_col, axis=1, inplace=True)"
   ]
  },
  {
   "cell_type": "code",
   "execution_count": 8,
   "metadata": {
    "ExecuteTime": {
     "end_time": "2020-01-03T19:07:24.662967Z",
     "start_time": "2020-01-03T19:07:24.658406Z"
    }
   },
   "outputs": [
    {
     "data": {
      "text/plain": [
       "(10937, 0)"
      ]
     },
     "execution_count": 8,
     "metadata": {},
     "output_type": "execute_result"
    }
   ],
   "source": [
    "fea_cols = [c for c in df_model.columns if c not in ['smishing', 'id', idx_col]]\n",
    "cat_cols = [c for c in fea_cols if 'seq_' in c]\n",
    "\n",
    "len(fea_cols), len(cat_cols)"
   ]
  },
  {
   "cell_type": "code",
   "execution_count": 9,
   "metadata": {
    "ExecuteTime": {
     "end_time": "2020-01-03T19:07:24.715757Z",
     "start_time": "2020-01-03T19:07:24.663858Z"
    }
   },
   "outputs": [
    {
     "data": {
      "text/plain": [
       "100"
      ]
     },
     "execution_count": 9,
     "metadata": {},
     "output_type": "execute_result"
    }
   ],
   "source": [
    "gc.collect()"
   ]
  },
  {
   "cell_type": "markdown",
   "metadata": {},
   "source": [
    "#### Params"
   ]
  },
  {
   "cell_type": "code",
   "execution_count": 10,
   "metadata": {
    "ExecuteTime": {
     "end_time": "2020-01-03T19:07:24.721001Z",
     "start_time": "2020-01-03T19:07:24.716523Z"
    },
    "colab": {
     "base_uri": "https://localhost:8080/",
     "height": 51
    },
    "colab_type": "code",
    "executionInfo": {
     "elapsed": 187149,
     "status": "ok",
     "timestamp": 1576287092380,
     "user": {
      "displayName": "주이클",
      "photoUrl": "https://lh3.googleusercontent.com/a-/AAuE7mCWVh4nvn9788qUddhoWTl5qQoYt0bzVMDlJWUumTg=s64",
      "userId": "02708070532256873610"
     },
     "user_tz": -540
    },
    "id": "LCEEOdJK4__q",
    "outputId": "24fb71a8-e639-43d1-b476-d617adfff1e7"
   },
   "outputs": [],
   "source": [
    "from sklearn.model_selection import train_test_split\n",
    "from sklearn.model_selection import StratifiedKFold\n",
    "\n",
    "model_ts = datetime.now().strftime('%Y%m%dT%H%M%S')\n",
    "\n",
    "initscore_filename = ''\n",
    "params = {\n",
    "    'boosting':'gbdt',\n",
    "#     'boosting':'dart',\n",
    "    'num_leaves': 7, \n",
    "#     'max_depth': 5,\n",
    "    'objective': 'binary',\n",
    "    'metric':'auc',\n",
    "    'num_threads': 16,\n",
    "    'learning_rate': 0.005,\n",
    "#     'is_unbalance': True,\n",
    "    'scale_pos_weight':200,\n",
    "    'bagging_fraction':0.5,\n",
    "    'bagging_freq':10,\n",
    "    'feature_fraction':0.5,\n",
    "    'initscore_filename':initscore_filename,\n",
    "#     'lambda_l1':200,\n",
    "#     'lambda_l2':2000,\n",
    "#     'device_type':'gpu',\n",
    "}\n",
    "\n",
    "data_params = {\n",
    "    'max_bin':128,\n",
    "#     'enable_bundle': False,\n",
    "}\n",
    "num_round = 11000\n",
    "\n"
   ]
  },
  {
   "cell_type": "code",
   "execution_count": 11,
   "metadata": {
    "ExecuteTime": {
     "end_time": "2020-01-03T19:07:25.170961Z",
     "start_time": "2020-01-03T19:07:24.721654Z"
    }
   },
   "outputs": [
    {
     "name": "stdout",
     "output_type": "stream",
     "text": [
      "<class 'pandas.core.frame.DataFrame'>\n",
      "Int64Index: 295945 entries, 0 to 336378\n",
      "Columns: 10938 entries, smishing to tfidf_pos_word_22_0999\n",
      "dtypes: float16(10893), int16(44), int64(1)\n",
      "memory usage: 6.0 GB\n"
     ]
    }
   ],
   "source": [
    "df_model.info()"
   ]
  },
  {
   "cell_type": "code",
   "execution_count": 12,
   "metadata": {
    "ExecuteTime": {
     "end_time": "2020-01-03T19:07:25.837936Z",
     "start_time": "2020-01-03T19:07:25.171772Z"
    }
   },
   "outputs": [
    {
     "data": {
      "text/html": [
       "<div>\n",
       "<style scoped>\n",
       "    .dataframe tbody tr th:only-of-type {\n",
       "        vertical-align: middle;\n",
       "    }\n",
       "\n",
       "    .dataframe tbody tr th {\n",
       "        vertical-align: top;\n",
       "    }\n",
       "\n",
       "    .dataframe thead th {\n",
       "        text-align: right;\n",
       "    }\n",
       "</style>\n",
       "<table border=\"1\" class=\"dataframe\">\n",
       "  <thead>\n",
       "    <tr style=\"text-align: right;\">\n",
       "      <th></th>\n",
       "      <th>id</th>\n",
       "      <th>smishing</th>\n",
       "      <th>fea__EC</th>\n",
       "      <th>fea__EF</th>\n",
       "      <th>fea__EP</th>\n",
       "      <th>fea__ETM</th>\n",
       "      <th>fea__ETN</th>\n",
       "      <th>fea__IC</th>\n",
       "      <th>fea__JC</th>\n",
       "      <th>fea__JKB</th>\n",
       "      <th>...</th>\n",
       "      <th>tfidf_pos_word_22_0990</th>\n",
       "      <th>tfidf_pos_word_22_0991</th>\n",
       "      <th>tfidf_pos_word_22_0992</th>\n",
       "      <th>tfidf_pos_word_22_0993</th>\n",
       "      <th>tfidf_pos_word_22_0994</th>\n",
       "      <th>tfidf_pos_word_22_0995</th>\n",
       "      <th>tfidf_pos_word_22_0996</th>\n",
       "      <th>tfidf_pos_word_22_0997</th>\n",
       "      <th>tfidf_pos_word_22_0998</th>\n",
       "      <th>tfidf_pos_word_22_0999</th>\n",
       "    </tr>\n",
       "  </thead>\n",
       "  <tbody>\n",
       "    <tr>\n",
       "      <td>0</td>\n",
       "      <td>0</td>\n",
       "      <td>0</td>\n",
       "      <td>0</td>\n",
       "      <td>2</td>\n",
       "      <td>1</td>\n",
       "      <td>1</td>\n",
       "      <td>0</td>\n",
       "      <td>0</td>\n",
       "      <td>0</td>\n",
       "      <td>0</td>\n",
       "      <td>...</td>\n",
       "      <td>0.0</td>\n",
       "      <td>0.0</td>\n",
       "      <td>0.0</td>\n",
       "      <td>0.0</td>\n",
       "      <td>0.0</td>\n",
       "      <td>0.0</td>\n",
       "      <td>0.0</td>\n",
       "      <td>0.0</td>\n",
       "      <td>0.0</td>\n",
       "      <td>0.0</td>\n",
       "    </tr>\n",
       "    <tr>\n",
       "      <td>1</td>\n",
       "      <td>1</td>\n",
       "      <td>0</td>\n",
       "      <td>1</td>\n",
       "      <td>1</td>\n",
       "      <td>2</td>\n",
       "      <td>1</td>\n",
       "      <td>0</td>\n",
       "      <td>0</td>\n",
       "      <td>0</td>\n",
       "      <td>0</td>\n",
       "      <td>...</td>\n",
       "      <td>0.0</td>\n",
       "      <td>0.0</td>\n",
       "      <td>0.0</td>\n",
       "      <td>0.0</td>\n",
       "      <td>0.0</td>\n",
       "      <td>0.0</td>\n",
       "      <td>0.0</td>\n",
       "      <td>0.0</td>\n",
       "      <td>0.0</td>\n",
       "      <td>0.0</td>\n",
       "    </tr>\n",
       "    <tr>\n",
       "      <td>2</td>\n",
       "      <td>2</td>\n",
       "      <td>0</td>\n",
       "      <td>2</td>\n",
       "      <td>5</td>\n",
       "      <td>4</td>\n",
       "      <td>1</td>\n",
       "      <td>0</td>\n",
       "      <td>0</td>\n",
       "      <td>0</td>\n",
       "      <td>0</td>\n",
       "      <td>...</td>\n",
       "      <td>0.0</td>\n",
       "      <td>0.0</td>\n",
       "      <td>0.0</td>\n",
       "      <td>0.0</td>\n",
       "      <td>0.0</td>\n",
       "      <td>0.0</td>\n",
       "      <td>0.0</td>\n",
       "      <td>0.0</td>\n",
       "      <td>0.0</td>\n",
       "      <td>0.0</td>\n",
       "    </tr>\n",
       "    <tr>\n",
       "      <td>3</td>\n",
       "      <td>4</td>\n",
       "      <td>0</td>\n",
       "      <td>1</td>\n",
       "      <td>5</td>\n",
       "      <td>5</td>\n",
       "      <td>7</td>\n",
       "      <td>2</td>\n",
       "      <td>0</td>\n",
       "      <td>1</td>\n",
       "      <td>5</td>\n",
       "      <td>...</td>\n",
       "      <td>0.0</td>\n",
       "      <td>0.0</td>\n",
       "      <td>0.0</td>\n",
       "      <td>0.0</td>\n",
       "      <td>0.0</td>\n",
       "      <td>0.0</td>\n",
       "      <td>0.0</td>\n",
       "      <td>0.0</td>\n",
       "      <td>0.0</td>\n",
       "      <td>0.0</td>\n",
       "    </tr>\n",
       "    <tr>\n",
       "      <td>4</td>\n",
       "      <td>5</td>\n",
       "      <td>0</td>\n",
       "      <td>2</td>\n",
       "      <td>1</td>\n",
       "      <td>1</td>\n",
       "      <td>1</td>\n",
       "      <td>2</td>\n",
       "      <td>0</td>\n",
       "      <td>0</td>\n",
       "      <td>0</td>\n",
       "      <td>...</td>\n",
       "      <td>0.0</td>\n",
       "      <td>0.0</td>\n",
       "      <td>0.0</td>\n",
       "      <td>0.0</td>\n",
       "      <td>0.0</td>\n",
       "      <td>0.0</td>\n",
       "      <td>0.0</td>\n",
       "      <td>0.0</td>\n",
       "      <td>0.0</td>\n",
       "      <td>0.0</td>\n",
       "    </tr>\n",
       "    <tr>\n",
       "      <td>...</td>\n",
       "      <td>...</td>\n",
       "      <td>...</td>\n",
       "      <td>...</td>\n",
       "      <td>...</td>\n",
       "      <td>...</td>\n",
       "      <td>...</td>\n",
       "      <td>...</td>\n",
       "      <td>...</td>\n",
       "      <td>...</td>\n",
       "      <td>...</td>\n",
       "      <td>...</td>\n",
       "      <td>...</td>\n",
       "      <td>...</td>\n",
       "      <td>...</td>\n",
       "      <td>...</td>\n",
       "      <td>...</td>\n",
       "      <td>...</td>\n",
       "      <td>...</td>\n",
       "      <td>...</td>\n",
       "      <td>...</td>\n",
       "      <td>...</td>\n",
       "    </tr>\n",
       "    <tr>\n",
       "      <td>295940</td>\n",
       "      <td>336373</td>\n",
       "      <td>0</td>\n",
       "      <td>5</td>\n",
       "      <td>4</td>\n",
       "      <td>8</td>\n",
       "      <td>7</td>\n",
       "      <td>2</td>\n",
       "      <td>0</td>\n",
       "      <td>2</td>\n",
       "      <td>4</td>\n",
       "      <td>...</td>\n",
       "      <td>0.0</td>\n",
       "      <td>0.0</td>\n",
       "      <td>0.0</td>\n",
       "      <td>0.0</td>\n",
       "      <td>0.0</td>\n",
       "      <td>0.0</td>\n",
       "      <td>0.0</td>\n",
       "      <td>0.0</td>\n",
       "      <td>0.0</td>\n",
       "      <td>0.0</td>\n",
       "    </tr>\n",
       "    <tr>\n",
       "      <td>295941</td>\n",
       "      <td>336375</td>\n",
       "      <td>0</td>\n",
       "      <td>0</td>\n",
       "      <td>1</td>\n",
       "      <td>0</td>\n",
       "      <td>0</td>\n",
       "      <td>0</td>\n",
       "      <td>0</td>\n",
       "      <td>0</td>\n",
       "      <td>0</td>\n",
       "      <td>...</td>\n",
       "      <td>0.0</td>\n",
       "      <td>0.0</td>\n",
       "      <td>0.0</td>\n",
       "      <td>0.0</td>\n",
       "      <td>0.0</td>\n",
       "      <td>0.0</td>\n",
       "      <td>0.0</td>\n",
       "      <td>0.0</td>\n",
       "      <td>0.0</td>\n",
       "      <td>0.0</td>\n",
       "    </tr>\n",
       "    <tr>\n",
       "      <td>295942</td>\n",
       "      <td>336376</td>\n",
       "      <td>0</td>\n",
       "      <td>5</td>\n",
       "      <td>2</td>\n",
       "      <td>3</td>\n",
       "      <td>0</td>\n",
       "      <td>0</td>\n",
       "      <td>0</td>\n",
       "      <td>1</td>\n",
       "      <td>1</td>\n",
       "      <td>...</td>\n",
       "      <td>0.0</td>\n",
       "      <td>0.0</td>\n",
       "      <td>0.0</td>\n",
       "      <td>0.0</td>\n",
       "      <td>0.0</td>\n",
       "      <td>0.0</td>\n",
       "      <td>0.0</td>\n",
       "      <td>0.0</td>\n",
       "      <td>0.0</td>\n",
       "      <td>0.0</td>\n",
       "    </tr>\n",
       "    <tr>\n",
       "      <td>295943</td>\n",
       "      <td>336377</td>\n",
       "      <td>0</td>\n",
       "      <td>3</td>\n",
       "      <td>2</td>\n",
       "      <td>1</td>\n",
       "      <td>0</td>\n",
       "      <td>0</td>\n",
       "      <td>0</td>\n",
       "      <td>0</td>\n",
       "      <td>1</td>\n",
       "      <td>...</td>\n",
       "      <td>0.0</td>\n",
       "      <td>0.0</td>\n",
       "      <td>0.0</td>\n",
       "      <td>0.0</td>\n",
       "      <td>0.0</td>\n",
       "      <td>0.0</td>\n",
       "      <td>0.0</td>\n",
       "      <td>0.0</td>\n",
       "      <td>0.0</td>\n",
       "      <td>0.0</td>\n",
       "    </tr>\n",
       "    <tr>\n",
       "      <td>295944</td>\n",
       "      <td>336378</td>\n",
       "      <td>0</td>\n",
       "      <td>16</td>\n",
       "      <td>7</td>\n",
       "      <td>6</td>\n",
       "      <td>7</td>\n",
       "      <td>4</td>\n",
       "      <td>0</td>\n",
       "      <td>0</td>\n",
       "      <td>6</td>\n",
       "      <td>...</td>\n",
       "      <td>0.0</td>\n",
       "      <td>0.0</td>\n",
       "      <td>0.0</td>\n",
       "      <td>0.0</td>\n",
       "      <td>0.0</td>\n",
       "      <td>0.0</td>\n",
       "      <td>0.0</td>\n",
       "      <td>0.0</td>\n",
       "      <td>0.0</td>\n",
       "      <td>0.0</td>\n",
       "    </tr>\n",
       "  </tbody>\n",
       "</table>\n",
       "<p>295945 rows × 10939 columns</p>\n",
       "</div>"
      ],
      "text/plain": [
       "            id  smishing  fea__EC  fea__EF  fea__EP  fea__ETM  fea__ETN  \\\n",
       "0            0         0        0        2        1         1         0   \n",
       "1            1         0        1        1        2         1         0   \n",
       "2            2         0        2        5        4         1         0   \n",
       "3            4         0        1        5        5         7         2   \n",
       "4            5         0        2        1        1         1         2   \n",
       "...        ...       ...      ...      ...      ...       ...       ...   \n",
       "295940  336373         0        5        4        8         7         2   \n",
       "295941  336375         0        0        1        0         0         0   \n",
       "295942  336376         0        5        2        3         0         0   \n",
       "295943  336377         0        3        2        1         0         0   \n",
       "295944  336378         0       16        7        6         7         4   \n",
       "\n",
       "        fea__IC  fea__JC  fea__JKB  ...  tfidf_pos_word_22_0990  \\\n",
       "0             0        0         0  ...                     0.0   \n",
       "1             0        0         0  ...                     0.0   \n",
       "2             0        0         0  ...                     0.0   \n",
       "3             0        1         5  ...                     0.0   \n",
       "4             0        0         0  ...                     0.0   \n",
       "...         ...      ...       ...  ...                     ...   \n",
       "295940        0        2         4  ...                     0.0   \n",
       "295941        0        0         0  ...                     0.0   \n",
       "295942        0        1         1  ...                     0.0   \n",
       "295943        0        0         1  ...                     0.0   \n",
       "295944        0        0         6  ...                     0.0   \n",
       "\n",
       "        tfidf_pos_word_22_0991  tfidf_pos_word_22_0992  \\\n",
       "0                          0.0                     0.0   \n",
       "1                          0.0                     0.0   \n",
       "2                          0.0                     0.0   \n",
       "3                          0.0                     0.0   \n",
       "4                          0.0                     0.0   \n",
       "...                        ...                     ...   \n",
       "295940                     0.0                     0.0   \n",
       "295941                     0.0                     0.0   \n",
       "295942                     0.0                     0.0   \n",
       "295943                     0.0                     0.0   \n",
       "295944                     0.0                     0.0   \n",
       "\n",
       "        tfidf_pos_word_22_0993  tfidf_pos_word_22_0994  \\\n",
       "0                          0.0                     0.0   \n",
       "1                          0.0                     0.0   \n",
       "2                          0.0                     0.0   \n",
       "3                          0.0                     0.0   \n",
       "4                          0.0                     0.0   \n",
       "...                        ...                     ...   \n",
       "295940                     0.0                     0.0   \n",
       "295941                     0.0                     0.0   \n",
       "295942                     0.0                     0.0   \n",
       "295943                     0.0                     0.0   \n",
       "295944                     0.0                     0.0   \n",
       "\n",
       "        tfidf_pos_word_22_0995  tfidf_pos_word_22_0996  \\\n",
       "0                          0.0                     0.0   \n",
       "1                          0.0                     0.0   \n",
       "2                          0.0                     0.0   \n",
       "3                          0.0                     0.0   \n",
       "4                          0.0                     0.0   \n",
       "...                        ...                     ...   \n",
       "295940                     0.0                     0.0   \n",
       "295941                     0.0                     0.0   \n",
       "295942                     0.0                     0.0   \n",
       "295943                     0.0                     0.0   \n",
       "295944                     0.0                     0.0   \n",
       "\n",
       "        tfidf_pos_word_22_0997  tfidf_pos_word_22_0998  tfidf_pos_word_22_0999  \n",
       "0                          0.0                     0.0                     0.0  \n",
       "1                          0.0                     0.0                     0.0  \n",
       "2                          0.0                     0.0                     0.0  \n",
       "3                          0.0                     0.0                     0.0  \n",
       "4                          0.0                     0.0                     0.0  \n",
       "...                        ...                     ...                     ...  \n",
       "295940                     0.0                     0.0                     0.0  \n",
       "295941                     0.0                     0.0                     0.0  \n",
       "295942                     0.0                     0.0                     0.0  \n",
       "295943                     0.0                     0.0                     0.0  \n",
       "295944                     0.0                     0.0                     0.0  \n",
       "\n",
       "[295945 rows x 10939 columns]"
      ]
     },
     "execution_count": 12,
     "metadata": {},
     "output_type": "execute_result"
    }
   ],
   "source": [
    "df_model = df_model.reset_index()\n",
    "df_model"
   ]
  },
  {
   "cell_type": "markdown",
   "metadata": {},
   "source": [
    "#### Train"
   ]
  },
  {
   "cell_type": "code",
   "execution_count": 13,
   "metadata": {
    "ExecuteTime": {
     "end_time": "2020-01-03T19:49:47.448495Z",
     "start_time": "2020-01-03T19:07:25.838639Z"
    },
    "scrolled": false
   },
   "outputs": [
    {
     "name": "stdout",
     "output_type": "stream",
     "text": [
      "merged_ts 20200104T033010_10938_512_49980 model_ts 20200104T040724\n",
      "{'boosting': 'gbdt', 'num_leaves': 7, 'objective': 'binary', 'metric': 'auc', 'num_threads': 16, 'learning_rate': 0.005, 'scale_pos_weight': 200, 'bagging_fraction': 0.5, 'bagging_freq': 10, 'feature_fraction': 0.5, 'initscore_filename': ''}\n",
      "{'max_bin': 128}\n"
     ]
    },
    {
     "data": {
      "application/vnd.jupyter.widget-view+json": {
       "model_id": "5c451279460a4aa69dbfc8b4159fc6d2",
       "version_major": 2,
       "version_minor": 0
      },
      "text/plain": [
       "HBox(children=(IntProgress(value=0, description='Try', max=1, style=ProgressStyle(description_width='initial')…"
      ]
     },
     "metadata": {},
     "output_type": "display_data"
    },
    {
     "name": "stdout",
     "output_type": "stream",
     "text": [
      "0 10937\n"
     ]
    },
    {
     "data": {
      "application/vnd.jupyter.widget-view+json": {
       "model_id": "369a98d2c828448399f41c0c476f071a",
       "version_major": 2,
       "version_minor": 0
      },
      "text/plain": [
       "HBox(children=(IntProgress(value=0, description='CV', max=5, style=ProgressStyle(description_width='initial'))…"
      ]
     },
     "metadata": {},
     "output_type": "display_data"
    },
    {
     "name": "stdout",
     "output_type": "stream",
     "text": [
      "\n",
      " 0 ******************** 1 ********************\n",
      "train_set (array([0, 1]), array([221793,  14962]))\n",
      "valid_set (array([0, 1]), array([55449,  3741]))\n",
      "Training until validation scores don't improve for 300 rounds\n",
      "[200]\ttraining's auc: 0.99991\tvalid_1's auc: 0.999703\n",
      "[400]\ttraining's auc: 0.999995\tvalid_1's auc: 0.999803\n",
      "[600]\ttraining's auc: 0.999998\tvalid_1's auc: 0.999891\n",
      "[800]\ttraining's auc: 0.999999\tvalid_1's auc: 0.999938\n",
      "[1000]\ttraining's auc: 0.999999\tvalid_1's auc: 0.999964\n",
      "[1200]\ttraining's auc: 1\tvalid_1's auc: 0.999977\n",
      "[1400]\ttraining's auc: 1\tvalid_1's auc: 0.999986\n",
      "[1600]\ttraining's auc: 1\tvalid_1's auc: 0.99999\n",
      "[1800]\ttraining's auc: 1\tvalid_1's auc: 0.999992\n",
      "[2000]\ttraining's auc: 1\tvalid_1's auc: 0.999993\n",
      "[2200]\ttraining's auc: 1\tvalid_1's auc: 0.999994\n",
      "[2400]\ttraining's auc: 1\tvalid_1's auc: 0.999995\n",
      "[2600]\ttraining's auc: 1\tvalid_1's auc: 0.999997\n",
      "[2800]\ttraining's auc: 1\tvalid_1's auc: 0.999997\n",
      "[3000]\ttraining's auc: 1\tvalid_1's auc: 0.999998\n",
      "[3200]\ttraining's auc: 1\tvalid_1's auc: 0.999998\n",
      "[3400]\ttraining's auc: 1\tvalid_1's auc: 0.999998\n",
      "[3600]\ttraining's auc: 1\tvalid_1's auc: 0.999998\n",
      "[3800]\ttraining's auc: 1\tvalid_1's auc: 0.999998\n",
      "[4000]\ttraining's auc: 1\tvalid_1's auc: 0.999999\n",
      "[4200]\ttraining's auc: 1\tvalid_1's auc: 0.999999\n",
      "[4400]\ttraining's auc: 1\tvalid_1's auc: 0.999999\n",
      "Early stopping, best iteration is:\n",
      "[4292]\ttraining's auc: 1\tvalid_1's auc: 0.999999\n",
      "pred_tag smishing_0_1__4292 Best Iteration: 4292\n",
      "<split> [('tfidf_pos_word_22_0066_xxx 은행', 853), ('tfidf_pos_char_11_0000_ ', 347), ('tfidf_word_11_1881_전화', 336), ('tfidf_word_11_1574_올림', 320), ('tfidf_word_11_1159_상품', 267)]\n",
      "<gain>\n",
      " [('cnt_0715_자', 10982758.005176187), ('fea__NNG', 7194212.909621358), ('fea__noun_cnt', 3706245.783693731), ('tfidf_word_11_1574_올림', 802559.6932463646), ('tfidf_char_11_0715_자', 779342.4007550925)]\n",
      "model\n",
      " {'auc': 0.9999998387736655, 'confusion_matrix': array([[277240,      2],\n",
      "       [    15,  18688]]), 'precision': 0.9998929909042269, 'recall': 0.9991979896273325}\n",
      "\n",
      " 0 ******************** 2 ********************\n",
      "train_set (array([0, 1]), array([221793,  14962]))\n",
      "valid_set (array([0, 1]), array([55449,  3741]))\n",
      "Training until validation scores don't improve for 300 rounds\n",
      "[200]\ttraining's auc: 0.999893\tvalid_1's auc: 0.999937\n",
      "[400]\ttraining's auc: 0.999989\tvalid_1's auc: 0.99999\n",
      "[600]\ttraining's auc: 0.999997\tvalid_1's auc: 0.999995\n",
      "[800]\ttraining's auc: 0.999998\tvalid_1's auc: 0.999997\n",
      "[1000]\ttraining's auc: 0.999999\tvalid_1's auc: 0.999998\n",
      "[1200]\ttraining's auc: 1\tvalid_1's auc: 0.999998\n",
      "[1400]\ttraining's auc: 1\tvalid_1's auc: 0.999999\n",
      "[1600]\ttraining's auc: 1\tvalid_1's auc: 0.999999\n",
      "[1800]\ttraining's auc: 1\tvalid_1's auc: 0.999999\n",
      "[2000]\ttraining's auc: 1\tvalid_1's auc: 0.999999\n",
      "[2200]\ttraining's auc: 1\tvalid_1's auc: 1\n",
      "[2400]\ttraining's auc: 1\tvalid_1's auc: 1\n",
      "[2600]\ttraining's auc: 1\tvalid_1's auc: 1\n",
      "[2800]\ttraining's auc: 1\tvalid_1's auc: 1\n",
      "[3000]\ttraining's auc: 1\tvalid_1's auc: 1\n",
      "[3200]\ttraining's auc: 1\tvalid_1's auc: 1\n",
      "[3400]\ttraining's auc: 1\tvalid_1's auc: 1\n",
      "[3600]\ttraining's auc: 1\tvalid_1's auc: 1\n",
      "[3800]\ttraining's auc: 1\tvalid_1's auc: 1\n",
      "[4000]\ttraining's auc: 1\tvalid_1's auc: 1\n",
      "[4200]\ttraining's auc: 1\tvalid_1's auc: 1\n",
      "[4400]\ttraining's auc: 1\tvalid_1's auc: 1\n",
      "Early stopping, best iteration is:\n",
      "[4174]\ttraining's auc: 1\tvalid_1's auc: 1\n",
      "pred_tag smishing_0_2__4174 Best Iteration: 4174\n",
      "<split> [('tfidf_pos_word_22_0066_xxx 은행', 846), ('tfidf_pos_char_11_0000_ ', 435), ('tfidf_word_11_0686_대환', 341), ('tfidf_word_11_1574_올림', 305), ('tfidf_word_22_0169_xxx 은행', 294)]\n",
      "<gain>\n",
      " [('cnt_0715_자', 12799416.249465942), ('fea__NNG', 6405444.691788316), ('fea__noun_cnt', 3024585.21033144), ('tfidf_word_11_1574_올림', 1014260.3338059187), ('tfidf_word_22_0166_xxx 올림', 600112.2341366112)]\n",
      "model\n",
      " {'auc': 0.9999999573791627, 'confusion_matrix': array([[277242,      0],\n",
      "       [     4,  18699]]), 'precision': 1.0, 'recall': 0.9997861305672887}\n",
      "\n",
      " 0 ******************** 3 ********************\n",
      "train_set (array([0, 1]), array([221794,  14962]))\n",
      "valid_set (array([0, 1]), array([55448,  3741]))\n",
      "Training until validation scores don't improve for 300 rounds\n",
      "[200]\ttraining's auc: 0.999855\tvalid_1's auc: 0.999804\n",
      "[400]\ttraining's auc: 0.999992\tvalid_1's auc: 0.999942\n",
      "[600]\ttraining's auc: 0.999997\tvalid_1's auc: 0.99996\n",
      "[800]\ttraining's auc: 0.999999\tvalid_1's auc: 0.999969\n",
      "[1000]\ttraining's auc: 0.999999\tvalid_1's auc: 0.999974\n",
      "[1200]\ttraining's auc: 1\tvalid_1's auc: 0.999975\n",
      "[1400]\ttraining's auc: 1\tvalid_1's auc: 0.999981\n",
      "[1600]\ttraining's auc: 1\tvalid_1's auc: 0.999987\n",
      "[1800]\ttraining's auc: 1\tvalid_1's auc: 0.999989\n",
      "[2000]\ttraining's auc: 1\tvalid_1's auc: 0.99999\n",
      "[2200]\ttraining's auc: 1\tvalid_1's auc: 0.999991\n",
      "[2400]\ttraining's auc: 1\tvalid_1's auc: 0.999992\n",
      "[2600]\ttraining's auc: 1\tvalid_1's auc: 0.999993\n",
      "[2800]\ttraining's auc: 1\tvalid_1's auc: 0.999994\n",
      "[3000]\ttraining's auc: 1\tvalid_1's auc: 0.999994\n",
      "[3200]\ttraining's auc: 1\tvalid_1's auc: 0.999994\n",
      "[3400]\ttraining's auc: 1\tvalid_1's auc: 0.999995\n",
      "[3600]\ttraining's auc: 1\tvalid_1's auc: 0.999995\n",
      "[3800]\ttraining's auc: 1\tvalid_1's auc: 0.999996\n",
      "[4000]\ttraining's auc: 1\tvalid_1's auc: 0.999996\n",
      "Early stopping, best iteration is:\n",
      "[3860]\ttraining's auc: 1\tvalid_1's auc: 0.999996\n",
      "pred_tag smishing_0_3__3860 Best Iteration: 3860\n",
      "<split> [('tfidf_pos_word_22_0066_xxx 은행', 919), ('tfidf_pos_char_11_0000_ ', 442), ('tfidf_word_11_1574_올림', 371), ('cnt_0583_신', 302), ('tfidf_word_22_0169_xxx 은행', 270)]\n",
      "<gain>\n",
      " [('cnt_0715_자', 8889608.520258904), ('fea__NNG', 8799453.845493197), ('fea__noun_cnt', 3725743.6655603647), ('cnt_0583_신', 1817726.1787457466), ('tfidf_word_11_1574_올림', 804783.1618899405)]\n",
      "model\n",
      " {'auc': 0.9999994409148998, 'confusion_matrix': array([[277238,      4],\n",
      "       [     3,  18700]]), 'precision': 0.9997861420017109, 'recall': 0.9998395979254665}\n",
      "\n",
      " 0 ******************** 4 ********************\n",
      "train_set (array([0, 1]), array([221794,  14963]))\n",
      "valid_set (array([0, 1]), array([55448,  3740]))\n",
      "Training until validation scores don't improve for 300 rounds\n",
      "[200]\ttraining's auc: 0.999931\tvalid_1's auc: 0.999904\n",
      "[400]\ttraining's auc: 0.999991\tvalid_1's auc: 0.999967\n",
      "[600]\ttraining's auc: 0.999996\tvalid_1's auc: 0.999989\n",
      "[800]\ttraining's auc: 0.999998\tvalid_1's auc: 0.999995\n",
      "[1000]\ttraining's auc: 0.999999\tvalid_1's auc: 0.999997\n",
      "[1200]\ttraining's auc: 0.999999\tvalid_1's auc: 0.999999\n",
      "[1400]\ttraining's auc: 1\tvalid_1's auc: 0.999999\n",
      "[1600]\ttraining's auc: 1\tvalid_1's auc: 1\n",
      "[1800]\ttraining's auc: 1\tvalid_1's auc: 1\n",
      "[2000]\ttraining's auc: 1\tvalid_1's auc: 1\n",
      "[2200]\ttraining's auc: 1\tvalid_1's auc: 1\n",
      "[2400]\ttraining's auc: 1\tvalid_1's auc: 1\n",
      "[2600]\ttraining's auc: 1\tvalid_1's auc: 1\n",
      "Early stopping, best iteration is:\n",
      "[2457]\ttraining's auc: 1\tvalid_1's auc: 1\n",
      "pred_tag smishing_0_4__2457 Best Iteration: 2457\n",
      "<split> [('tfidf_pos_word_22_0066_xxx 은행', 633), ('tfidf_pos_char_11_0000_ ', 380), ('tfidf_word_11_1574_올림', 289), ('tfidf_word_11_1881_전화', 229), ('cnt_0583_신', 192)]\n",
      "<gain>\n",
      " [('cnt_0715_자', 11086433.72381115), ('fea__NNG', 6483455.941192627), ('fea__noun_cnt', 2699214.42248106), ('fea__morphs_cnt', 1267550.9005317688), ('fea__text_len', 1058325.0093107224)]\n",
      "model\n",
      " {'auc': 0.9999999973000374, 'confusion_matrix': array([[277214,     28],\n",
      "       [     0,  18703]]), 'precision': 0.9985051518872458, 'recall': 1.0}\n",
      "\n",
      " 0 ******************** 5 ********************\n",
      "train_set (array([0, 1]), array([221794,  14963]))\n",
      "valid_set (array([0, 1]), array([55448,  3740]))\n",
      "Training until validation scores don't improve for 300 rounds\n",
      "[200]\ttraining's auc: 0.999948\tvalid_1's auc: 0.999258\n",
      "[400]\ttraining's auc: 0.999986\tvalid_1's auc: 0.999533\n",
      "[600]\ttraining's auc: 0.999997\tvalid_1's auc: 0.999704\n",
      "[800]\ttraining's auc: 0.999999\tvalid_1's auc: 0.999835\n",
      "[1000]\ttraining's auc: 1\tvalid_1's auc: 0.999883\n",
      "[1200]\ttraining's auc: 1\tvalid_1's auc: 0.999904\n",
      "[1400]\ttraining's auc: 1\tvalid_1's auc: 0.99992\n",
      "[1600]\ttraining's auc: 1\tvalid_1's auc: 0.99994\n",
      "[1800]\ttraining's auc: 1\tvalid_1's auc: 0.999954\n",
      "[2000]\ttraining's auc: 1\tvalid_1's auc: 0.999962\n",
      "[2200]\ttraining's auc: 1\tvalid_1's auc: 0.999965\n",
      "[2400]\ttraining's auc: 1\tvalid_1's auc: 0.999969\n",
      "[2600]\ttraining's auc: 1\tvalid_1's auc: 0.999972\n",
      "[2800]\ttraining's auc: 1\tvalid_1's auc: 0.999973\n"
     ]
    },
    {
     "name": "stdout",
     "output_type": "stream",
     "text": [
      "[3000]\ttraining's auc: 1\tvalid_1's auc: 0.999974\n",
      "[3200]\ttraining's auc: 1\tvalid_1's auc: 0.999974\n",
      "[3400]\ttraining's auc: 1\tvalid_1's auc: 0.999974\n",
      "[3600]\ttraining's auc: 1\tvalid_1's auc: 0.999975\n",
      "[3800]\ttraining's auc: 1\tvalid_1's auc: 0.999975\n",
      "[4000]\ttraining's auc: 1\tvalid_1's auc: 0.999976\n",
      "[4200]\ttraining's auc: 1\tvalid_1's auc: 0.999976\n",
      "[4400]\ttraining's auc: 1\tvalid_1's auc: 0.999976\n",
      "[4600]\ttraining's auc: 1\tvalid_1's auc: 0.999976\n",
      "Early stopping, best iteration is:\n",
      "[4350]\ttraining's auc: 1\tvalid_1's auc: 0.999976\n",
      "pred_tag smishing_0_5__4350 Best Iteration: 4350\n",
      "<split> [('tfidf_pos_word_22_0066_xxx 은행', 915), ('tfidf_pos_char_11_0000_ ', 480), ('tfidf_word_11_1574_올림', 430), ('cnt_0126_금', 288), ('tfidf_word_11_0385_광고', 284)]\n",
      "<gain>\n",
      " [('cnt_0715_자', 8746285.863495275), ('fea__NNG', 8121328.632161468), ('fea__noun_cnt', 4388111.176655725), ('cnt_0126_금', 1897787.350112155), ('tfidf_word_11_1574_올림', 926982.2932132259)]\n",
      "model\n",
      " {'auc': 0.9999984247647125, 'confusion_matrix': array([[277230,     12],\n",
      "       [     5,  18698]]), 'precision': 0.9993586317477284, 'recall': 0.9997326632091108}\n",
      "\n",
      "\n"
     ]
    }
   ],
   "source": [
    "print('merged_ts', merged_ts, 'model_ts', model_ts)\n",
    "print(params)\n",
    "print(data_params)\n",
    "pred_csv = []\n",
    "fea_size = -1\n",
    "try_cnt = 1\n",
    "\n",
    "\n",
    "for t in tqdm_notebook(range(try_cnt), total=try_cnt, desc = 'Try'):\n",
    "    fea_cols = [c for c in df_model.columns if c not in ['smishing', 'id', 'score']]\n",
    "    \n",
    "    if fea_size > 0:\n",
    "        fea_cols = list(set(np.random.choice(fea_cols, fea_size)))\n",
    "        print(t, len(fea_cols), fea_cols[:100])\n",
    "    else:\n",
    "        print(t, len(fea_cols))\n",
    "\n",
    "    [df_model.drop(c, axis=1, inplace=True) for c in df_model.columns if 'smishing_' in c]\n",
    "    [df_test.drop(c, axis=1, inplace=True) for c in df_test.columns if 'smishing_' in c]\n",
    "\n",
    "#     X = df_model[fea_cols].values\n",
    "#     y = df_model['smishing'].values\n",
    "\n",
    "    n_splits = 5\n",
    "    skf = StratifiedKFold(n_splits=n_splits, random_state=8405)\n",
    "    cnt = 0\n",
    "    \n",
    "#     train_data = lgb.Dataset(X, label=y, feature_name=fea_cols, categorical_feature=cat_cols, \n",
    "#                              free_raw_data=False, params=data_params)\n",
    "\n",
    "    # for train_index, valid_index in skf.split(X, y):\n",
    "    for train_index, valid_index in tqdm_notebook(skf.split(df_model['id'].values, df_model['smishing'].values), total=n_splits, desc = 'CV'):\n",
    "#         cnt = cnt + 1\n",
    "        print('\\n', t, '*' * 20, cnt, '*' * 20)\n",
    "        \n",
    "        train_set = lgb.Dataset(df_model.loc[train_index, fea_cols].values, \n",
    "                                 label=df_model.loc[train_index, 'smishing'].values, \n",
    "                                 feature_name=fea_cols, categorical_feature=cat_cols, \n",
    "                                 free_raw_data=True, params=data_params)\n",
    "        \n",
    "        valid_set = lgb.Dataset(df_model.loc[valid_index, fea_cols].values, \n",
    "                                 label=df_model.loc[valid_index, 'smishing'].values, \n",
    "                                 feature_name=fea_cols, categorical_feature=cat_cols, \n",
    "                                 free_raw_data=True, params=data_params)\n",
    "\n",
    "#         train_set = train_data.subset(train_index, params=data_params).construct()\n",
    "#         valid_set = train_data.subset(valid_index, params=data_params).construct()\n",
    "        print('train_set', np.unique(train_set.get_label(), return_counts=True))\n",
    "        print('valid_set', np.unique(valid_set.get_label(), return_counts=True))\n",
    "\n",
    "        bst = lgb.train(params, train_set, num_round, categorical_feature=cat_cols,\n",
    "                        early_stopping_rounds=300, \n",
    "                        valid_sets=[train_set, valid_set],\n",
    "                        verbose_eval=200,\n",
    "                        # init_model=init_model,\n",
    "                       )\n",
    "        \n",
    "        pred_tag = 'smishing_{}_{}__{}'.format(t, cnt, bst.best_iteration)\n",
    "        print('pred_tag', pred_tag, 'Best Iteration:', bst.best_iteration)\n",
    "\n",
    "        renamed_cols = [fea_dict[c] if c in fea_dict.keys() else c for c in fea_cols]\n",
    "\n",
    "        impt_dict = {k:v for k, v in zip(renamed_cols, bst.feature_importance(importance_type='split'))}\n",
    "        print('<split>', sorted(impt_dict.items(), key=(lambda x:x[1]), reverse=True)[:5])\n",
    "        joblib.dump(impt_dict, 'model/{}_{}_split.pkl'.format(model_ts, pred_tag))\n",
    "\n",
    "        impt_dict = {k:v for k, v in zip(renamed_cols, bst.feature_importance(importance_type='gain'))}    \n",
    "        print('<gain>\\n', sorted(impt_dict.items(), key=(lambda x:x[1]), reverse=True)[:5])\n",
    "        joblib.dump(impt_dict, 'model/{}_{}_gain.pkl'.format(model_ts, pred_tag))\n",
    "\n",
    "        df_model['score'] = bst.predict(df_model[fea_cols].values)    \n",
    "        df_model[['score']].to_csv('submit/{}_{}_lgb_score.csv'.format(model_ts, pred_tag), index=True)\n",
    "        print('model\\n', eval_summary(df_model['smishing'].values, df_model['score'].values, cut_off=0.5))\n",
    "        \n",
    "        df_test['smishing'] = bst.predict(df_test[fea_cols].values)    \n",
    "        df_test[['smishing']].to_csv('submit/{}_{}_lgb.csv'.format(model_ts, pred_tag), index=True)\n",
    "        pred_csv.append('submit/{}_{}_lgb.csv'.format(model_ts, pred_tag))\n",
    "        \n",
    "        del train_set, valid_set\n",
    "        gc.collect()\n"
   ]
  },
  {
   "cell_type": "code",
   "execution_count": 14,
   "metadata": {
    "ExecuteTime": {
     "end_time": "2020-01-03T19:49:47.454944Z",
     "start_time": "2020-01-03T19:49:47.452179Z"
    }
   },
   "outputs": [],
   "source": [
    "# y_true = df_model['smishing'].values\n",
    "# y_score = df_model[[c for c in df_model.columns if 'smishing_' in c]].mean(axis=1)\n",
    "\n",
    "# print('agg model\\n', eval_summary(y_true, y_score, cut_off=0.5))"
   ]
  },
  {
   "cell_type": "code",
   "execution_count": 15,
   "metadata": {
    "ExecuteTime": {
     "end_time": "2020-01-03T19:49:47.467918Z",
     "start_time": "2020-01-03T19:49:47.455790Z"
    },
    "scrolled": true
   },
   "outputs": [],
   "source": [
    "# df_model[(y_score <= 0.5) & (y_true == 1)]['text']"
   ]
  },
  {
   "cell_type": "code",
   "execution_count": 16,
   "metadata": {
    "ExecuteTime": {
     "end_time": "2020-01-03T19:49:47.473503Z",
     "start_time": "2020-01-03T19:49:47.468819Z"
    },
    "scrolled": true
   },
   "outputs": [],
   "source": [
    "# df_model[(y_score > 0.5) & (y_true == 0)]['text']"
   ]
  },
  {
   "cell_type": "code",
   "execution_count": 17,
   "metadata": {
    "ExecuteTime": {
     "end_time": "2020-01-03T19:49:47.508820Z",
     "start_time": "2020-01-03T19:49:47.475548Z"
    }
   },
   "outputs": [
    {
     "name": "stdout",
     "output_type": "stream",
     "text": [
      "5\n"
     ]
    }
   ],
   "source": [
    "print(len(pred_csv))\n",
    "\n",
    "df_submit = pd.concat([pd.read_csv(csv, index_col=0) for csv in pred_csv], axis=1)"
   ]
  },
  {
   "cell_type": "code",
   "execution_count": 18,
   "metadata": {
    "ExecuteTime": {
     "end_time": "2020-01-03T19:49:47.587211Z",
     "start_time": "2020-01-03T19:49:47.509870Z"
    }
   },
   "outputs": [
    {
     "name": "stdout",
     "output_type": "stream",
     "text": [
      "submit/20200104T040724_smishing_0_1__4292_lgb.csv\n",
      "submit/20200104T040724_smishing_0_2__4174_lgb.csv\n",
      "submit/20200104T040724_smishing_0_3__3860_lgb.csv\n",
      "submit/20200104T040724_smishing_0_4__2457_lgb.csv\n",
      "submit/20200104T040724_smishing_0_5__4350_lgb.csv\n"
     ]
    }
   ],
   "source": [
    "df_submit = df_test[['smishing']]\n",
    "df_submit['smishing'] = 0\n",
    "for csv in pred_csv:\n",
    "    print(csv)\n",
    "    df = pd.read_csv(csv, index_col=0)\n",
    "    df_submit['smishing'] = df_submit['smishing'] + df['smishing']\n",
    "    c = csv.split('__')[0][-1]\n",
    "    df_submit['smishing_{}'.format(c)] = df['smishing']\n",
    "#     display(df.head())\n",
    "df_submit['smishing'] = df_submit['smishing'] / len(pred_csv)"
   ]
  },
  {
   "cell_type": "code",
   "execution_count": 31,
   "metadata": {
    "ExecuteTime": {
     "end_time": "2020-01-03T19:56:13.780269Z",
     "start_time": "2020-01-03T19:56:13.774592Z"
    },
    "scrolled": true
   },
   "outputs": [],
   "source": [
    "pred_cols = [c for c in df_submit.columns if 'smishing_' in c]\n",
    "# pred_cols.remove('smishing_1')\n",
    "# pred_cols.remove('smishing_2')\n",
    "df_submit['std'] = df_submit[pred_cols].std(axis=1)\n",
    "df_submit['median'] = df_submit[pred_cols].median(axis=1)"
   ]
  },
  {
   "cell_type": "code",
   "execution_count": 32,
   "metadata": {
    "ExecuteTime": {
     "end_time": "2020-01-03T19:56:14.482134Z",
     "start_time": "2020-01-03T19:56:14.468553Z"
    }
   },
   "outputs": [
    {
     "name": "stdout",
     "output_type": "stream",
     "text": [
      "(1626, 8)\n"
     ]
    },
    {
     "data": {
      "text/html": [
       "<div>\n",
       "<style scoped>\n",
       "    .dataframe tbody tr th:only-of-type {\n",
       "        vertical-align: middle;\n",
       "    }\n",
       "\n",
       "    .dataframe tbody tr th {\n",
       "        vertical-align: top;\n",
       "    }\n",
       "\n",
       "    .dataframe thead th {\n",
       "        text-align: right;\n",
       "    }\n",
       "</style>\n",
       "<table border=\"1\" class=\"dataframe\">\n",
       "  <thead>\n",
       "    <tr style=\"text-align: right;\">\n",
       "      <th></th>\n",
       "      <th>smishing</th>\n",
       "      <th>smishing_1</th>\n",
       "      <th>smishing_2</th>\n",
       "      <th>smishing_3</th>\n",
       "      <th>smishing_4</th>\n",
       "      <th>smishing_5</th>\n",
       "      <th>std</th>\n",
       "      <th>median</th>\n",
       "    </tr>\n",
       "    <tr>\n",
       "      <th>id</th>\n",
       "      <th></th>\n",
       "      <th></th>\n",
       "      <th></th>\n",
       "      <th></th>\n",
       "      <th></th>\n",
       "      <th></th>\n",
       "      <th></th>\n",
       "      <th></th>\n",
       "    </tr>\n",
       "  </thead>\n",
       "  <tbody>\n",
       "    <tr>\n",
       "      <td>341227</td>\n",
       "      <td>0.628679</td>\n",
       "      <td>0.462020</td>\n",
       "      <td>0.834005</td>\n",
       "      <td>0.938520</td>\n",
       "      <td>0.875227</td>\n",
       "      <td>0.033620</td>\n",
       "      <td>0.381057</td>\n",
       "      <td>0.834005</td>\n",
       "    </tr>\n",
       "    <tr>\n",
       "      <td>340275</td>\n",
       "      <td>0.484184</td>\n",
       "      <td>0.063221</td>\n",
       "      <td>0.206667</td>\n",
       "      <td>0.546858</td>\n",
       "      <td>0.637444</td>\n",
       "      <td>0.966731</td>\n",
       "      <td>0.358641</td>\n",
       "      <td>0.546858</td>\n",
       "    </tr>\n",
       "    <tr>\n",
       "      <td>340276</td>\n",
       "      <td>0.488110</td>\n",
       "      <td>0.064195</td>\n",
       "      <td>0.218316</td>\n",
       "      <td>0.551729</td>\n",
       "      <td>0.639578</td>\n",
       "      <td>0.966731</td>\n",
       "      <td>0.356567</td>\n",
       "      <td>0.551729</td>\n",
       "    </tr>\n",
       "    <tr>\n",
       "      <td>340046</td>\n",
       "      <td>0.441105</td>\n",
       "      <td>0.043838</td>\n",
       "      <td>0.355065</td>\n",
       "      <td>0.218618</td>\n",
       "      <td>0.938827</td>\n",
       "      <td>0.649176</td>\n",
       "      <td>0.355579</td>\n",
       "      <td>0.355065</td>\n",
       "    </tr>\n",
       "    <tr>\n",
       "      <td>341104</td>\n",
       "      <td>0.506147</td>\n",
       "      <td>0.145574</td>\n",
       "      <td>0.470425</td>\n",
       "      <td>0.803222</td>\n",
       "      <td>0.880985</td>\n",
       "      <td>0.230528</td>\n",
       "      <td>0.330156</td>\n",
       "      <td>0.470425</td>\n",
       "    </tr>\n",
       "    <tr>\n",
       "      <td>340597</td>\n",
       "      <td>0.617719</td>\n",
       "      <td>0.244174</td>\n",
       "      <td>0.291368</td>\n",
       "      <td>0.731410</td>\n",
       "      <td>0.927540</td>\n",
       "      <td>0.894101</td>\n",
       "      <td>0.328384</td>\n",
       "      <td>0.731410</td>\n",
       "    </tr>\n",
       "    <tr>\n",
       "      <td>340285</td>\n",
       "      <td>0.563589</td>\n",
       "      <td>0.161865</td>\n",
       "      <td>0.405092</td>\n",
       "      <td>0.472976</td>\n",
       "      <td>0.778113</td>\n",
       "      <td>0.999897</td>\n",
       "      <td>0.328291</td>\n",
       "      <td>0.472976</td>\n",
       "    </tr>\n",
       "    <tr>\n",
       "      <td>341000</td>\n",
       "      <td>0.291396</td>\n",
       "      <td>0.030617</td>\n",
       "      <td>0.070628</td>\n",
       "      <td>0.279606</td>\n",
       "      <td>0.818338</td>\n",
       "      <td>0.257792</td>\n",
       "      <td>0.314515</td>\n",
       "      <td>0.257792</td>\n",
       "    </tr>\n",
       "    <tr>\n",
       "      <td>340259</td>\n",
       "      <td>0.432313</td>\n",
       "      <td>0.094050</td>\n",
       "      <td>0.203967</td>\n",
       "      <td>0.352268</td>\n",
       "      <td>0.800637</td>\n",
       "      <td>0.710641</td>\n",
       "      <td>0.310685</td>\n",
       "      <td>0.352268</td>\n",
       "    </tr>\n",
       "    <tr>\n",
       "      <td>340592</td>\n",
       "      <td>0.235105</td>\n",
       "      <td>0.016526</td>\n",
       "      <td>0.037313</td>\n",
       "      <td>0.100022</td>\n",
       "      <td>0.703642</td>\n",
       "      <td>0.318022</td>\n",
       "      <td>0.287901</td>\n",
       "      <td>0.100022</td>\n",
       "    </tr>\n",
       "    <tr>\n",
       "      <td>341349</td>\n",
       "      <td>0.497197</td>\n",
       "      <td>0.168921</td>\n",
       "      <td>0.577290</td>\n",
       "      <td>0.401479</td>\n",
       "      <td>0.935811</td>\n",
       "      <td>0.402485</td>\n",
       "      <td>0.284910</td>\n",
       "      <td>0.402485</td>\n",
       "    </tr>\n",
       "    <tr>\n",
       "      <td>340217</td>\n",
       "      <td>0.313850</td>\n",
       "      <td>0.082749</td>\n",
       "      <td>0.107224</td>\n",
       "      <td>0.175853</td>\n",
       "      <td>0.747708</td>\n",
       "      <td>0.455718</td>\n",
       "      <td>0.284387</td>\n",
       "      <td>0.175853</td>\n",
       "    </tr>\n",
       "    <tr>\n",
       "      <td>340056</td>\n",
       "      <td>0.357196</td>\n",
       "      <td>0.106026</td>\n",
       "      <td>0.251500</td>\n",
       "      <td>0.252934</td>\n",
       "      <td>0.839021</td>\n",
       "      <td>0.336500</td>\n",
       "      <td>0.281830</td>\n",
       "      <td>0.252934</td>\n",
       "    </tr>\n",
       "    <tr>\n",
       "      <td>340984</td>\n",
       "      <td>0.308999</td>\n",
       "      <td>0.043085</td>\n",
       "      <td>0.249126</td>\n",
       "      <td>0.457977</td>\n",
       "      <td>0.701858</td>\n",
       "      <td>0.092949</td>\n",
       "      <td>0.272720</td>\n",
       "      <td>0.249126</td>\n",
       "    </tr>\n",
       "    <tr>\n",
       "      <td>341027</td>\n",
       "      <td>0.730980</td>\n",
       "      <td>0.271100</td>\n",
       "      <td>0.724528</td>\n",
       "      <td>0.827504</td>\n",
       "      <td>0.951393</td>\n",
       "      <td>0.880373</td>\n",
       "      <td>0.270068</td>\n",
       "      <td>0.827504</td>\n",
       "    </tr>\n",
       "    <tr>\n",
       "      <td>341620</td>\n",
       "      <td>0.669864</td>\n",
       "      <td>0.659316</td>\n",
       "      <td>0.336681</td>\n",
       "      <td>0.922723</td>\n",
       "      <td>0.484285</td>\n",
       "      <td>0.946314</td>\n",
       "      <td>0.267359</td>\n",
       "      <td>0.659316</td>\n",
       "    </tr>\n",
       "    <tr>\n",
       "      <td>341437</td>\n",
       "      <td>0.294684</td>\n",
       "      <td>0.149374</td>\n",
       "      <td>0.048595</td>\n",
       "      <td>0.726464</td>\n",
       "      <td>0.221922</td>\n",
       "      <td>0.327065</td>\n",
       "      <td>0.261941</td>\n",
       "      <td>0.221922</td>\n",
       "    </tr>\n",
       "    <tr>\n",
       "      <td>341477</td>\n",
       "      <td>0.270373</td>\n",
       "      <td>0.160704</td>\n",
       "      <td>0.043326</td>\n",
       "      <td>0.719068</td>\n",
       "      <td>0.202681</td>\n",
       "      <td>0.226086</td>\n",
       "      <td>0.260504</td>\n",
       "      <td>0.202681</td>\n",
       "    </tr>\n",
       "    <tr>\n",
       "      <td>340399</td>\n",
       "      <td>0.788593</td>\n",
       "      <td>0.350951</td>\n",
       "      <td>0.764879</td>\n",
       "      <td>0.918881</td>\n",
       "      <td>0.945567</td>\n",
       "      <td>0.962688</td>\n",
       "      <td>0.256913</td>\n",
       "      <td>0.918881</td>\n",
       "    </tr>\n",
       "    <tr>\n",
       "      <td>341365</td>\n",
       "      <td>0.542712</td>\n",
       "      <td>0.212885</td>\n",
       "      <td>0.622552</td>\n",
       "      <td>0.500359</td>\n",
       "      <td>0.914379</td>\n",
       "      <td>0.463383</td>\n",
       "      <td>0.255628</td>\n",
       "      <td>0.500359</td>\n",
       "    </tr>\n",
       "    <tr>\n",
       "      <td>340662</td>\n",
       "      <td>0.302404</td>\n",
       "      <td>0.053323</td>\n",
       "      <td>0.268415</td>\n",
       "      <td>0.460859</td>\n",
       "      <td>0.646098</td>\n",
       "      <td>0.083327</td>\n",
       "      <td>0.252203</td>\n",
       "      <td>0.268415</td>\n",
       "    </tr>\n",
       "    <tr>\n",
       "      <td>340941</td>\n",
       "      <td>0.304096</td>\n",
       "      <td>0.054073</td>\n",
       "      <td>0.252801</td>\n",
       "      <td>0.474432</td>\n",
       "      <td>0.643914</td>\n",
       "      <td>0.095262</td>\n",
       "      <td>0.251617</td>\n",
       "      <td>0.252801</td>\n",
       "    </tr>\n",
       "    <tr>\n",
       "      <td>340926</td>\n",
       "      <td>0.303885</td>\n",
       "      <td>0.054073</td>\n",
       "      <td>0.251306</td>\n",
       "      <td>0.474432</td>\n",
       "      <td>0.643914</td>\n",
       "      <td>0.095703</td>\n",
       "      <td>0.251603</td>\n",
       "      <td>0.251306</td>\n",
       "    </tr>\n",
       "    <tr>\n",
       "      <td>340291</td>\n",
       "      <td>0.606216</td>\n",
       "      <td>0.283449</td>\n",
       "      <td>0.426810</td>\n",
       "      <td>0.642155</td>\n",
       "      <td>0.803291</td>\n",
       "      <td>0.875373</td>\n",
       "      <td>0.249470</td>\n",
       "      <td>0.642155</td>\n",
       "    </tr>\n",
       "    <tr>\n",
       "      <td>341364</td>\n",
       "      <td>0.220167</td>\n",
       "      <td>0.027356</td>\n",
       "      <td>0.150526</td>\n",
       "      <td>0.267166</td>\n",
       "      <td>0.628929</td>\n",
       "      <td>0.026860</td>\n",
       "      <td>0.249343</td>\n",
       "      <td>0.150526</td>\n",
       "    </tr>\n",
       "    <tr>\n",
       "      <td>340819</td>\n",
       "      <td>0.229221</td>\n",
       "      <td>0.007538</td>\n",
       "      <td>0.100913</td>\n",
       "      <td>0.527147</td>\n",
       "      <td>0.451444</td>\n",
       "      <td>0.059064</td>\n",
       "      <td>0.241196</td>\n",
       "      <td>0.100913</td>\n",
       "    </tr>\n",
       "    <tr>\n",
       "      <td>340770</td>\n",
       "      <td>0.229221</td>\n",
       "      <td>0.007538</td>\n",
       "      <td>0.100913</td>\n",
       "      <td>0.527147</td>\n",
       "      <td>0.451444</td>\n",
       "      <td>0.059064</td>\n",
       "      <td>0.241196</td>\n",
       "      <td>0.100913</td>\n",
       "    </tr>\n",
       "    <tr>\n",
       "      <td>341111</td>\n",
       "      <td>0.746871</td>\n",
       "      <td>0.345791</td>\n",
       "      <td>0.739508</td>\n",
       "      <td>0.827306</td>\n",
       "      <td>0.956462</td>\n",
       "      <td>0.865291</td>\n",
       "      <td>0.237350</td>\n",
       "      <td>0.827306</td>\n",
       "    </tr>\n",
       "    <tr>\n",
       "      <td>340118</td>\n",
       "      <td>0.210427</td>\n",
       "      <td>0.012670</td>\n",
       "      <td>0.027385</td>\n",
       "      <td>0.128955</td>\n",
       "      <td>0.580473</td>\n",
       "      <td>0.302652</td>\n",
       "      <td>0.237007</td>\n",
       "      <td>0.128955</td>\n",
       "    </tr>\n",
       "    <tr>\n",
       "      <td>341434</td>\n",
       "      <td>0.244649</td>\n",
       "      <td>0.168365</td>\n",
       "      <td>0.028638</td>\n",
       "      <td>0.641669</td>\n",
       "      <td>0.134429</td>\n",
       "      <td>0.250142</td>\n",
       "      <td>0.235735</td>\n",
       "      <td>0.168365</td>\n",
       "    </tr>\n",
       "  </tbody>\n",
       "</table>\n",
       "</div>"
      ],
      "text/plain": [
       "        smishing  smishing_1  smishing_2  smishing_3  smishing_4  smishing_5  \\\n",
       "id                                                                             \n",
       "341227  0.628679    0.462020    0.834005    0.938520    0.875227    0.033620   \n",
       "340275  0.484184    0.063221    0.206667    0.546858    0.637444    0.966731   \n",
       "340276  0.488110    0.064195    0.218316    0.551729    0.639578    0.966731   \n",
       "340046  0.441105    0.043838    0.355065    0.218618    0.938827    0.649176   \n",
       "341104  0.506147    0.145574    0.470425    0.803222    0.880985    0.230528   \n",
       "340597  0.617719    0.244174    0.291368    0.731410    0.927540    0.894101   \n",
       "340285  0.563589    0.161865    0.405092    0.472976    0.778113    0.999897   \n",
       "341000  0.291396    0.030617    0.070628    0.279606    0.818338    0.257792   \n",
       "340259  0.432313    0.094050    0.203967    0.352268    0.800637    0.710641   \n",
       "340592  0.235105    0.016526    0.037313    0.100022    0.703642    0.318022   \n",
       "341349  0.497197    0.168921    0.577290    0.401479    0.935811    0.402485   \n",
       "340217  0.313850    0.082749    0.107224    0.175853    0.747708    0.455718   \n",
       "340056  0.357196    0.106026    0.251500    0.252934    0.839021    0.336500   \n",
       "340984  0.308999    0.043085    0.249126    0.457977    0.701858    0.092949   \n",
       "341027  0.730980    0.271100    0.724528    0.827504    0.951393    0.880373   \n",
       "341620  0.669864    0.659316    0.336681    0.922723    0.484285    0.946314   \n",
       "341437  0.294684    0.149374    0.048595    0.726464    0.221922    0.327065   \n",
       "341477  0.270373    0.160704    0.043326    0.719068    0.202681    0.226086   \n",
       "340399  0.788593    0.350951    0.764879    0.918881    0.945567    0.962688   \n",
       "341365  0.542712    0.212885    0.622552    0.500359    0.914379    0.463383   \n",
       "340662  0.302404    0.053323    0.268415    0.460859    0.646098    0.083327   \n",
       "340941  0.304096    0.054073    0.252801    0.474432    0.643914    0.095262   \n",
       "340926  0.303885    0.054073    0.251306    0.474432    0.643914    0.095703   \n",
       "340291  0.606216    0.283449    0.426810    0.642155    0.803291    0.875373   \n",
       "341364  0.220167    0.027356    0.150526    0.267166    0.628929    0.026860   \n",
       "340819  0.229221    0.007538    0.100913    0.527147    0.451444    0.059064   \n",
       "340770  0.229221    0.007538    0.100913    0.527147    0.451444    0.059064   \n",
       "341111  0.746871    0.345791    0.739508    0.827306    0.956462    0.865291   \n",
       "340118  0.210427    0.012670    0.027385    0.128955    0.580473    0.302652   \n",
       "341434  0.244649    0.168365    0.028638    0.641669    0.134429    0.250142   \n",
       "\n",
       "             std    median  \n",
       "id                          \n",
       "341227  0.381057  0.834005  \n",
       "340275  0.358641  0.546858  \n",
       "340276  0.356567  0.551729  \n",
       "340046  0.355579  0.355065  \n",
       "341104  0.330156  0.470425  \n",
       "340597  0.328384  0.731410  \n",
       "340285  0.328291  0.472976  \n",
       "341000  0.314515  0.257792  \n",
       "340259  0.310685  0.352268  \n",
       "340592  0.287901  0.100022  \n",
       "341349  0.284910  0.402485  \n",
       "340217  0.284387  0.175853  \n",
       "340056  0.281830  0.252934  \n",
       "340984  0.272720  0.249126  \n",
       "341027  0.270068  0.827504  \n",
       "341620  0.267359  0.659316  \n",
       "341437  0.261941  0.221922  \n",
       "341477  0.260504  0.202681  \n",
       "340399  0.256913  0.918881  \n",
       "341365  0.255628  0.500359  \n",
       "340662  0.252203  0.268415  \n",
       "340941  0.251617  0.252801  \n",
       "340926  0.251603  0.251306  \n",
       "340291  0.249470  0.642155  \n",
       "341364  0.249343  0.150526  \n",
       "340819  0.241196  0.100913  \n",
       "340770  0.241196  0.100913  \n",
       "341111  0.237350  0.827306  \n",
       "340118  0.237007  0.128955  \n",
       "341434  0.235735  0.168365  "
      ]
     },
     "execution_count": 32,
     "metadata": {},
     "output_type": "execute_result"
    }
   ],
   "source": [
    "df_std = df_submit[df_submit['std'] < 1]\n",
    "print(df_std.shape)\n",
    "df_std.sort_values('std', ascending=False).head(30)"
   ]
  },
  {
   "cell_type": "code",
   "execution_count": 33,
   "metadata": {
    "ExecuteTime": {
     "end_time": "2020-01-03T19:56:18.990931Z",
     "start_time": "2020-01-03T19:56:18.772816Z"
    }
   },
   "outputs": [
    {
     "data": {
      "text/plain": [
       "<matplotlib.axes._subplots.AxesSubplot at 0x7efb755e0110>"
      ]
     },
     "execution_count": 33,
     "metadata": {},
     "output_type": "execute_result"
    },
    {
     "data": {
      "image/png": "[encoded data removed]",
      "text/plain": [
       "<Figure size 1440x360 with 1 Axes>"
      ]
     },
     "metadata": {
      "needs_background": "light"
     },
     "output_type": "display_data"
    }
   ],
   "source": [
    "df_submit['smishing'].hist(bins=100, figsize=(20, 5))"
   ]
  },
  {
   "cell_type": "code",
   "execution_count": 34,
   "metadata": {
    "ExecuteTime": {
     "end_time": "2020-01-03T19:56:19.994930Z",
     "start_time": "2020-01-03T19:56:19.989512Z"
    }
   },
   "outputs": [
    {
     "data": {
      "text/plain": [
       "0    1451\n",
       "1      20\n",
       "2      18\n",
       "3       7\n",
       "4       5\n",
       "5       8\n",
       "6       5\n",
       "7      12\n",
       "8       5\n",
       "9      95\n",
       "Name: smishing, dtype: int64"
      ]
     },
     "execution_count": 34,
     "metadata": {},
     "output_type": "execute_result"
    }
   ],
   "source": [
    "(df_submit['smishing'] * 10).astype(int).value_counts(sort=False)"
   ]
  },
  {
   "cell_type": "code",
   "execution_count": 35,
   "metadata": {
    "ExecuteTime": {
     "end_time": "2020-01-03T19:56:22.708326Z",
     "start_time": "2020-01-03T19:56:22.699550Z"
    }
   },
   "outputs": [
    {
     "name": "stdout",
     "output_type": "stream",
     "text": [
      "20200104T040724\n"
     ]
    }
   ],
   "source": [
    "print(model_ts)\n",
    "df_submit[['smishing']].to_csv('submit/{}.csv'.format(model_ts), index=True)"
   ]
  },
  {
   "cell_type": "code",
   "execution_count": 24,
   "metadata": {
    "ExecuteTime": {
     "end_time": "2020-01-03T19:49:47.915261Z",
     "start_time": "2020-01-03T19:49:47.913855Z"
    },
    "scrolled": true
   },
   "outputs": [],
   "source": [
    "# print(len(pred_cols))\n",
    "# df_test['pred_max'] = df_test[pred_cols].max(axis=1)\n",
    "# df_test['pred_min'] = df_test[pred_cols].min(axis=1)\n",
    "# df_test['pred_mean'] = df_test[pred_cols].mean(axis=1)\n",
    "# df_test['pred_std'] = df_test[pred_cols].std(axis=1)\n",
    "\n",
    "# print(df_test['pred_std'].max(), df_test['pred_std'].min(), df_test['pred_std'].mean())\n",
    "\n",
    "# df_test['smishing'] = df_test['pred_mean']"
   ]
  },
  {
   "cell_type": "code",
   "execution_count": 25,
   "metadata": {
    "ExecuteTime": {
     "end_time": "2020-01-03T19:49:48.137691Z",
     "start_time": "2020-01-03T19:49:47.916369Z"
    },
    "scrolled": false
   },
   "outputs": [
    {
     "data": {
      "text/plain": [
       "<matplotlib.axes._subplots.AxesSubplot at 0x7efb757a77d0>"
      ]
     },
     "execution_count": 25,
     "metadata": {},
     "output_type": "execute_result"
    },
    {
     "data": {
      "image/png": "[encoded data removed]",
      "text/plain": [
       "<Figure size 1440x360 with 1 Axes>"
      ]
     },
     "metadata": {
      "needs_background": "light"
     },
     "output_type": "display_data"
    }
   ],
   "source": [
    "df_test['smishing'].hist(bins=100, figsize=(20, 5))"
   ]
  },
  {
   "cell_type": "code",
   "execution_count": 26,
   "metadata": {
    "ExecuteTime": {
     "end_time": "2020-01-03T19:49:48.142351Z",
     "start_time": "2020-01-03T19:49:48.138707Z"
    }
   },
   "outputs": [
    {
     "data": {
      "text/plain": [
       "0    1462\n",
       "1      12\n",
       "2      15\n",
       "3       5\n",
       "4       5\n",
       "5       5\n",
       "6       3\n",
       "7       7\n",
       "8      10\n",
       "9     102\n",
       "Name: smishing, dtype: int64"
      ]
     },
     "execution_count": 26,
     "metadata": {},
     "output_type": "execute_result"
    }
   ],
   "source": [
    "(df_test['smishing'] * 10).astype(int).value_counts(sort=False)"
   ]
  },
  {
   "cell_type": "code",
   "execution_count": 27,
   "metadata": {
    "ExecuteTime": {
     "end_time": "2020-01-03T19:49:48.147190Z",
     "start_time": "2020-01-03T19:49:48.143248Z"
    }
   },
   "outputs": [],
   "source": [
    "# for c in pred_cols:\n",
    "#     print(c)\n",
    "#     display((df_test[c] * 10).astype(int).value_counts(sort=False))"
   ]
  },
  {
   "cell_type": "code",
   "execution_count": 28,
   "metadata": {
    "ExecuteTime": {
     "end_time": "2020-01-03T19:49:48.153889Z",
     "start_time": "2020-01-03T19:49:48.148403Z"
    }
   },
   "outputs": [
    {
     "data": {
      "text/plain": [
       "'20200104T040724'"
      ]
     },
     "execution_count": 28,
     "metadata": {},
     "output_type": "execute_result"
    }
   ],
   "source": [
    "model_ts"
   ]
  },
  {
   "cell_type": "code",
   "execution_count": 29,
   "metadata": {
    "ExecuteTime": {
     "end_time": "2020-01-03T19:49:48.169299Z",
     "start_time": "2020-01-03T19:49:48.155070Z"
    }
   },
   "outputs": [],
   "source": [
    "df_test['smishing'] = df_test['smishing']\n",
    "df_test[['smishing']].to_csv('submit/{}.csv'.format(model_ts), index=True)\n"
   ]
  },
  {
   "cell_type": "code",
   "execution_count": 30,
   "metadata": {
    "ExecuteTime": {
     "end_time": "2020-01-03T19:49:48.172219Z",
     "start_time": "2020-01-03T19:49:48.170600Z"
    }
   },
   "outputs": [],
   "source": [
    "# df_test['smishing'] = df_test['pred_mean']\n",
    "# df_test[['smishing']].to_csv('submit/{}_lgb.csv'.format(model_ts), index=True)\n",
    "# # df_test[['id', 'smishing', 'text']].sort_values('smishing', ascending=False).to_csv('{}_text.csv'.format(model_ts), index=False)\n"
   ]
  },
  {
   "cell_type": "code",
   "execution_count": null,
   "metadata": {},
   "outputs": [],
   "source": []
  }
 ],
 "metadata": {
  "accelerator": "GPU",
  "colab": {
   "collapsed_sections": [],
   "name": "mecab_tfidf.ipynb",
   "provenance": []
  },
  "kernelspec": {
   "display_name": "Python 3",
   "language": "python",
   "name": "python3"
  },
  "language_info": {
   "codemirror_mode": {
    "name": "ipython",
    "version": 3
   },
   "file_extension": ".py",
   "mimetype": "text/x-python",
   "name": "python",
   "nbconvert_exporter": "python",
   "pygments_lexer": "ipython3",
   "version": "3.7.4"
  },
  "toc": {
   "base_numbering": 1,
   "nav_menu": {},
   "number_sections": true,
   "sideBar": true,
   "skip_h1_title": false,
   "title_cell": "Table of Contents",
   "title_sidebar": "Contents",
   "toc_cell": false,
   "toc_position": {
    "height": "calc(100% - 180px)",
    "left": "10px",
    "top": "150px",
    "width": "165px"
   },
   "toc_section_display": true,
   "toc_window_display": true
  }
 },
 "nbformat": 4,
 "nbformat_minor": 1
}
