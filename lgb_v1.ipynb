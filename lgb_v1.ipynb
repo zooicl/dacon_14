{
 "cells": [
  {
   "cell_type": "code",
   "execution_count": null,
   "metadata": {
    "ExecuteTime": {
     "end_time": "2020-01-02T08:35:12.500736Z",
     "start_time": "2020-01-02T08:35:11.424668Z"
    },
    "colab": {
     "base_uri": "https://localhost:8080/",
     "height": 71
    },
    "colab_type": "code",
    "executionInfo": {
     "elapsed": 1590,
     "status": "ok",
     "timestamp": 1576286906380,
     "user": {
      "displayName": "주이클",
      "photoUrl": "https://lh3.googleusercontent.com/a-/AAuE7mCWVh4nvn9788qUddhoWTl5qQoYt0bzVMDlJWUumTg=s64",
      "userId": "02708070532256873610"
     },
     "user_tz": -540
    },
    "id": "U3xmRNtgpZwi",
    "outputId": "f6e95e03-5913-4a53-9ff3-1b6cde1b5a82"
   },
   "outputs": [],
   "source": [
    "#!/usr/bin/env python\n",
    "# coding: utf-8\n",
    "get_ipython().run_line_magic('matplotlib', 'inline')\n",
    "import pandas as pd\n",
    "import time\n",
    "import numpy as np\n",
    "from datetime import datetime\n",
    "from sklearn.externals import joblib \n",
    "import os\n",
    "from konlpy.tag import Mecab\n",
    "import lightgbm as lgb\n",
    "print(lgb.__version__)\n",
    "\n",
    "from sklearn import metrics\n",
    "from sklearn.preprocessing import MinMaxScaler\n",
    "from sklearn.externals import joblib \n",
    "from sklearn.model_selection import StratifiedKFold\n",
    "\n",
    "import gc\n",
    "\n",
    "from tqdm import tqdm_notebook\n",
    "\n",
    "import warnings\n",
    "warnings.filterwarnings(action='ignore')\n",
    "\n",
    "\n",
    "import torch\n",
    "print(torch.__version__)\n",
    "import torch.nn.functional as F\n",
    "from torch.utils.data import Dataset, DataLoader\n",
    "\n",
    "from torchsummary import summary\n",
    "\n",
    "from tools import eval_summary\n",
    "\n",
    "print(torch.cuda.get_device_name(0))\n",
    "print(torch.cuda.is_available())\n",
    "\n",
    "device = torch.device(\"cuda:0\" if torch.cuda.is_available() else \"cpu\")\n",
    "# device = torch.device('cpu')\n",
    "device"
   ]
  },
  {
   "cell_type": "code",
   "execution_count": null,
   "metadata": {
    "ExecuteTime": {
     "end_time": "2020-01-02T08:35:13.634019Z",
     "start_time": "2020-01-02T08:35:12.501769Z"
    }
   },
   "outputs": [],
   "source": [
    "print(os.getcwd())\n",
    "\n",
    "base_path = '.'\n",
    "\n",
    "df_train = pd.read_csv(os.path.join(base_path , 'input/train.csv'), index_col=0)\n",
    "df_test = pd.read_csv(os.path.join(base_path , 'input/public_test.csv'), index_col=0)\n",
    "df_test['smishing'] = -1\n",
    "\n",
    "df_fea = pd.concat([df_train, df_test])\n",
    "df_fea.shape"
   ]
  },
  {
   "cell_type": "code",
   "execution_count": null,
   "metadata": {
    "ExecuteTime": {
     "end_time": "2020-01-02T08:35:13.636809Z",
     "start_time": "2020-01-02T08:35:13.634968Z"
    },
    "colab": {
     "base_uri": "https://localhost:8080/",
     "height": 1000
    },
    "colab_type": "code",
    "executionInfo": {
     "elapsed": 185838,
     "status": "ok",
     "timestamp": 1576287091046,
     "user": {
      "displayName": "주이클",
      "photoUrl": "https://lh3.googleusercontent.com/a-/AAuE7mCWVh4nvn9788qUddhoWTl5qQoYt0bzVMDlJWUumTg=s64",
      "userId": "02708070532256873610"
     },
     "user_tz": -540
    },
    "id": "QOi9dYzqpZxV",
    "outputId": "9ceb7e20-059e-4946-934e-ab85c98dca56",
    "scrolled": true
   },
   "outputs": [],
   "source": [
    "train_size = len(df_train)\n",
    "print(train_size)\n",
    "\n",
    "# cat_cols = []\n",
    "# fea_cols = tfidf_cols + cat_cols + cnt_cols\n",
    "# fea_cols = cnt_cols + cat_cols\n",
    "# fea_cols = tfidf_cols + cat_cols\n",
    "# len(fea_cols)"
   ]
  },
  {
   "cell_type": "markdown",
   "metadata": {},
   "source": [
    "#### Load Data"
   ]
  },
  {
   "cell_type": "code",
   "execution_count": null,
   "metadata": {
    "ExecuteTime": {
     "end_time": "2020-01-02T08:35:23.821064Z",
     "start_time": "2020-01-02T08:35:13.638377Z"
    },
    "colab": {
     "base_uri": "https://localhost:8080/",
     "height": 51
    },
    "colab_type": "code",
    "executionInfo": {
     "elapsed": 187149,
     "status": "ok",
     "timestamp": 1576287092380,
     "user": {
      "displayName": "주이클",
      "photoUrl": "https://lh3.googleusercontent.com/a-/AAuE7mCWVh4nvn9788qUddhoWTl5qQoYt0bzVMDlJWUumTg=s64",
      "userId": "02708070532256873610"
     },
     "user_tz": -540
    },
    "id": "LCEEOdJK4__q",
    "outputId": "24fb71a8-e639-43d1-b476-d617adfff1e7"
   },
   "outputs": [],
   "source": [
    "# merged_ts = '20191231T113708_5499'\n",
    "# merged_ts = '20191231T162533_2022'\n",
    "# merged_ts = '20191231T165424_6099'\n",
    "# merged_ts = '20191231T111228_8180'\n",
    "# merged_ts = '20200101T184353_5853'\n",
    "\n",
    "# merged_ts = '20200102T005929_6546_128_49980' # 984\n",
    "# merged_ts = '20200102T015155_8438_128_49980'\n",
    "merged_ts = '20200102T160226_8438_275_997'\n",
    "\n",
    "\n",
    "train_path = 'data/df_merged_{}_train.pkl'.format(merged_ts)\n",
    "test_path = 'data/df_merged_{}_test.pkl'.format(merged_ts)\n",
    "dict_path = 'data/df_merged_{}_fea_dict.pkl'.format(merged_ts)\n",
    "\n",
    "df_model = joblib.load(train_path)  \n",
    "df_test = joblib.load(test_path) \n",
    "fea_dict = joblib.load(dict_path)\n",
    "\n",
    "print('model_set\\n', df_model['smishing'].value_counts())"
   ]
  },
  {
   "cell_type": "code",
   "execution_count": null,
   "metadata": {
    "ExecuteTime": {
     "end_time": "2020-01-02T08:35:48.023941Z",
     "start_time": "2020-01-02T08:35:23.821873Z"
    },
    "colab": {
     "base_uri": "https://localhost:8080/",
     "height": 51
    },
    "colab_type": "code",
    "executionInfo": {
     "elapsed": 187149,
     "status": "ok",
     "timestamp": 1576287092380,
     "user": {
      "displayName": "주이클",
      "photoUrl": "https://lh3.googleusercontent.com/a-/AAuE7mCWVh4nvn9788qUddhoWTl5qQoYt0bzVMDlJWUumTg=s64",
      "userId": "02708070532256873610"
     },
     "user_tz": -540
    },
    "id": "LCEEOdJK4__q",
    "outputId": "24fb71a8-e639-43d1-b476-d617adfff1e7",
    "scrolled": true
   },
   "outputs": [],
   "source": [
    "seq_cols = ['seq_' + str(i) for i in range(275)]\n",
    "idx_col = [c for c in df_model.columns if '_idx' in c][0]\n",
    "df_model[seq_cols] = pd.DataFrame(df_model[idx_col].values.tolist(), df_model.index, dtype=np.int16)\n",
    "df_test[seq_cols] = pd.DataFrame(df_model[idx_col].values.tolist(), df_model.index, dtype=np.int16)\n",
    "\n",
    "df_model.drop(idx_col, axis=1, inplace=True)\n",
    "df_test.drop(idx_col, axis=1, inplace=True)"
   ]
  },
  {
   "cell_type": "code",
   "execution_count": null,
   "metadata": {
    "ExecuteTime": {
     "end_time": "2020-01-02T08:35:48.028905Z",
     "start_time": "2020-01-02T08:35:48.024711Z"
    }
   },
   "outputs": [],
   "source": [
    "fea_cols = [c for c in df_model.columns if c not in ['smishing', 'id', idx_col]]\n",
    "cat_cols = [c for c in fea_cols if 'seq_' in c]\n",
    "\n",
    "len(fea_cols), len(cat_cols)"
   ]
  },
  {
   "cell_type": "code",
   "execution_count": null,
   "metadata": {
    "ExecuteTime": {
     "end_time": "2020-01-02T08:35:48.089283Z",
     "start_time": "2020-01-02T08:35:48.029597Z"
    }
   },
   "outputs": [],
   "source": [
    "gc.collect()"
   ]
  },
  {
   "cell_type": "markdown",
   "metadata": {},
   "source": [
    "#### Params"
   ]
  },
  {
   "cell_type": "code",
   "execution_count": null,
   "metadata": {
    "ExecuteTime": {
     "end_time": "2020-01-02T08:35:48.094547Z",
     "start_time": "2020-01-02T08:35:48.090934Z"
    },
    "colab": {
     "base_uri": "https://localhost:8080/",
     "height": 51
    },
    "colab_type": "code",
    "executionInfo": {
     "elapsed": 187149,
     "status": "ok",
     "timestamp": 1576287092380,
     "user": {
      "displayName": "주이클",
      "photoUrl": "https://lh3.googleusercontent.com/a-/AAuE7mCWVh4nvn9788qUddhoWTl5qQoYt0bzVMDlJWUumTg=s64",
      "userId": "02708070532256873610"
     },
     "user_tz": -540
    },
    "id": "LCEEOdJK4__q",
    "outputId": "24fb71a8-e639-43d1-b476-d617adfff1e7"
   },
   "outputs": [],
   "source": [
    "from sklearn.model_selection import train_test_split\n",
    "from sklearn.model_selection import StratifiedKFold\n",
    "\n",
    "model_ts = datetime.now().strftime('%Y%m%dT%H%M%S')\n",
    "\n",
    "initscore_filename = ''\n",
    "params = {\n",
    "    'boosting':'gbdt',\n",
    "#     'boosting':'dart',\n",
    "    'num_leaves': 7, \n",
    "#     'max_depth': 5,\n",
    "    'objective': 'binary',\n",
    "    'metric':'auc',\n",
    "    'num_threads': 16,\n",
    "    'learning_rate': 0.005,\n",
    "#     'is_unbalance': True,\n",
    "    'scale_pos_weight':200,\n",
    "    'bagging_fraction':0.5,\n",
    "    'bagging_freq':10,\n",
    "    'feature_fraction':0.5,\n",
    "    'initscore_filename':initscore_filename,\n",
    "#     'lambda_l1':200,\n",
    "#     'lambda_l2':2000,\n",
    "#     'device_type':'gpu',\n",
    "}\n",
    "\n",
    "data_params = {\n",
    "    'max_bin':128,\n",
    "#     'enable_bundle': False,\n",
    "}\n",
    "num_round = 11000\n",
    "\n"
   ]
  },
  {
   "cell_type": "code",
   "execution_count": null,
   "metadata": {
    "ExecuteTime": {
     "end_time": "2020-01-02T08:35:48.405232Z",
     "start_time": "2020-01-02T08:35:48.095579Z"
    }
   },
   "outputs": [],
   "source": [
    "df_model.info()"
   ]
  },
  {
   "cell_type": "code",
   "execution_count": null,
   "metadata": {
    "ExecuteTime": {
     "end_time": "2020-01-02T08:35:48.937313Z",
     "start_time": "2020-01-02T08:35:48.406066Z"
    }
   },
   "outputs": [],
   "source": [
    "df_model = df_model.reset_index()\n",
    "\n",
    "df_model"
   ]
  },
  {
   "cell_type": "markdown",
   "metadata": {},
   "source": [
    "#### Train"
   ]
  },
  {
   "cell_type": "code",
   "execution_count": null,
   "metadata": {
    "ExecuteTime": {
     "end_time": "2020-01-02T09:16:06.886785Z",
     "start_time": "2020-01-02T08:35:48.938740Z"
    },
    "scrolled": false
   },
   "outputs": [],
   "source": [
    "pred_csv = []\n",
    "fea_size = -1\n",
    "try_cnt = 1\n",
    "\n",
    "for t in tqdm_notebook(range(try_cnt), total=try_cnt, desc = 'Try'):\n",
    "    fea_cols = [c for c in df_model.columns if c not in ['smishing', 'id', 'score']]\n",
    "    \n",
    "    if fea_size > 0:\n",
    "        fea_cols = list(set(np.random.choice(fea_cols, fea_size)))\n",
    "        print(t, len(fea_cols), fea_cols[:100])\n",
    "    else:\n",
    "        print(t, len(fea_cols))\n",
    "\n",
    "    [df_model.drop(c, axis=1, inplace=True) for c in df_model.columns if 'smishing_' in c]\n",
    "    [df_test.drop(c, axis=1, inplace=True) for c in df_test.columns if 'smishing_' in c]\n",
    "\n",
    "#     X = df_model[fea_cols].values\n",
    "#     y = df_model['smishing'].values\n",
    "\n",
    "    n_splits = 5\n",
    "    skf = StratifiedKFold(n_splits=n_splits, random_state=8405)\n",
    "    cnt = 0\n",
    "    \n",
    "#     train_data = lgb.Dataset(X, label=y, feature_name=fea_cols, categorical_feature=cat_cols, \n",
    "#                              free_raw_data=False, params=data_params)\n",
    "\n",
    "    # for train_index, valid_index in skf.split(X, y):\n",
    "    for train_index, valid_index in tqdm_notebook(skf.split(df_model['id'].values, df_model['smishing'].values), total=n_splits, desc = 'CV'):\n",
    "        cnt = cnt + 1\n",
    "        print('\\n', t, '*' * 20, cnt, '*' * 20)\n",
    "        \n",
    "        train_set = lgb.Dataset(df_model.loc[train_index, fea_cols].values, \n",
    "                                 label=df_model.loc[train_index, 'smishing'].values, \n",
    "                                 feature_name=fea_cols, categorical_feature=cat_cols, \n",
    "                                 free_raw_data=True, params=data_params)\n",
    "        \n",
    "        valid_set = lgb.Dataset(df_model.loc[valid_index, fea_cols].values, \n",
    "                                 label=df_model.loc[valid_index, 'smishing'].values, \n",
    "                                 feature_name=fea_cols, categorical_feature=cat_cols, \n",
    "                                 free_raw_data=True, params=data_params)\n",
    "\n",
    "#         train_set = train_data.subset(train_index, params=data_params).construct()\n",
    "#         valid_set = train_data.subset(valid_index, params=data_params).construct()\n",
    "        print('train_set', np.unique(train_set.get_label(), return_counts=True))\n",
    "        print('valid_set', np.unique(valid_set.get_label(), return_counts=True))\n",
    "\n",
    "        bst = lgb.train(params, train_set, num_round, categorical_feature=cat_cols,\n",
    "                        early_stopping_rounds=300, \n",
    "                        valid_sets=[train_set, valid_set],\n",
    "                        verbose_eval=200,\n",
    "                        # init_model=init_model,\n",
    "                       )\n",
    "        \n",
    "        print('Best Iteration:', bst.best_iteration)\n",
    "        pred_tag = 'smishing_{}_{}__{}'.format(t, cnt, bst.best_iteration)\n",
    "\n",
    "        renamed_cols = [fea_dict[c] if c in fea_dict.keys() else c for c in fea_cols]\n",
    "\n",
    "        impt_dict = {k:v for k, v in zip(renamed_cols, bst.feature_importance(importance_type='split'))}\n",
    "        print('split:', sorted(impt_dict.items(), key=(lambda x:x[1]), reverse=True)[:5])\n",
    "        joblib.dump(impt_dict, 'model/{}_{}_split.pkl'.format(model_ts, pred_tag))\n",
    "\n",
    "        impt_dict = {k:v for k, v in zip(renamed_cols, bst.feature_importance(importance_type='gain'))}    \n",
    "        print('gain:', sorted(impt_dict.items(), key=(lambda x:x[1]), reverse=True)[:5])\n",
    "        joblib.dump(impt_dict, 'model/{}_{}_gain.pkl'.format(model_ts, pred_tag))\n",
    "\n",
    "        df_model['score'] = bst.predict(df_model[fea_cols].values)    \n",
    "        df_model[['score']].to_csv('submit/{}_{}_lgb_score.csv'.format(model_ts, pred_tag), index=True)\n",
    "        print('model\\n', eval_summary(df_model['smishing'].values, df_model['score'].values, cut_off=0.5))\n",
    "        \n",
    "        df_test['smishing'] = bst.predict(df_test[fea_cols].values)    \n",
    "        df_test[['smishing']].to_csv('submit/{}_{}_lgb.csv'.format(model_ts, pred_tag), index=True)\n",
    "        pred_csv.append('submit/{}_{}_lgb.csv'.format(model_ts, pred_tag))\n",
    "        \n",
    "        del train_set, valid_set\n",
    "        gc.collect()\n"
   ]
  },
  {
   "cell_type": "code",
   "execution_count": null,
   "metadata": {
    "ExecuteTime": {
     "end_time": "2020-01-02T09:16:06.889156Z",
     "start_time": "2020-01-02T09:16:06.887578Z"
    }
   },
   "outputs": [],
   "source": [
    "# y_true = df_model['smishing'].values\n",
    "# y_score = df_model[[c for c in df_model.columns if 'smishing_' in c]].mean(axis=1)\n",
    "\n",
    "# print('agg model\\n', eval_summary(y_true, y_score, cut_off=0.5))"
   ]
  },
  {
   "cell_type": "code",
   "execution_count": null,
   "metadata": {
    "ExecuteTime": {
     "end_time": "2020-01-02T09:16:06.903734Z",
     "start_time": "2020-01-02T09:16:06.890002Z"
    },
    "scrolled": true
   },
   "outputs": [],
   "source": [
    "# df_model[(y_score <= 0.5) & (y_true == 1)]['text']"
   ]
  },
  {
   "cell_type": "code",
   "execution_count": null,
   "metadata": {
    "ExecuteTime": {
     "end_time": "2020-01-02T09:16:06.909652Z",
     "start_time": "2020-01-02T09:16:06.904535Z"
    },
    "scrolled": true
   },
   "outputs": [],
   "source": [
    "# df_model[(y_score > 0.5) & (y_true == 0)]['text']"
   ]
  },
  {
   "cell_type": "code",
   "execution_count": null,
   "metadata": {
    "ExecuteTime": {
     "end_time": "2020-01-02T09:16:06.924991Z",
     "start_time": "2020-01-02T09:16:06.910448Z"
    }
   },
   "outputs": [],
   "source": [
    "print(len(pred_csv))\n",
    "\n",
    "df_submit = pd.concat([pd.read_csv(csv, index_col=0) for csv in pred_csv], axis=1)"
   ]
  },
  {
   "cell_type": "code",
   "execution_count": null,
   "metadata": {
    "ExecuteTime": {
     "end_time": "2020-01-02T09:16:06.946650Z",
     "start_time": "2020-01-02T09:16:06.925743Z"
    }
   },
   "outputs": [],
   "source": [
    "df_submit = df_test[['smishing']]\n",
    "df_submit['smishing'] = 0\n",
    "for csv in pred_csv:\n",
    "    print(csv)\n",
    "    df = pd.read_csv(csv, index_col=0)\n",
    "    df_submit['smishing'] = df_submit['smishing'] + df['smishing']\n",
    "    c = csv.split('__')[0][-1]\n",
    "    df_submit['smishing_{}'.format(c)] = df['smishing']\n",
    "#     display(df.head())\n",
    "df_submit['smishing'] = df_submit['smishing'] / len(pred_csv)"
   ]
  },
  {
   "cell_type": "code",
   "execution_count": null,
   "metadata": {
    "ExecuteTime": {
     "end_time": "2020-01-02T09:16:06.952205Z",
     "start_time": "2020-01-02T09:16:06.947414Z"
    },
    "scrolled": true
   },
   "outputs": [],
   "source": [
    "pred_cols = [c for c in df_submit.columns if 'smishing_' in c]\n",
    "pred_cols.remove('smishing_1')\n",
    "pred_cols.remove('smishing_2')\n",
    "df_submit['std'] = df_submit[pred_cols].std(axis=1)\n",
    "df_submit['median'] = df_submit[pred_cols].median(axis=1)"
   ]
  },
  {
   "cell_type": "code",
   "execution_count": null,
   "metadata": {
    "ExecuteTime": {
     "end_time": "2020-01-02T09:16:06.966105Z",
     "start_time": "2020-01-02T09:16:06.952976Z"
    }
   },
   "outputs": [],
   "source": [
    "df_std = df_submit[df_submit['std'] < 1]\n",
    "print(df_std.shape)\n",
    "df_std.sort_values('std', ascending=False).head(30)"
   ]
  },
  {
   "cell_type": "code",
   "execution_count": null,
   "metadata": {
    "ExecuteTime": {
     "end_time": "2020-01-02T09:16:07.175933Z",
     "start_time": "2020-01-02T09:16:06.966824Z"
    }
   },
   "outputs": [],
   "source": [
    "df_submit['smishing'].hist(bins=100, figsize=(20, 5))"
   ]
  },
  {
   "cell_type": "code",
   "execution_count": null,
   "metadata": {
    "ExecuteTime": {
     "end_time": "2020-01-02T09:16:07.179594Z",
     "start_time": "2020-01-02T09:16:07.176583Z"
    }
   },
   "outputs": [],
   "source": [
    "(df_submit['smishing'] * 10).astype(int).value_counts(sort=False)"
   ]
  },
  {
   "cell_type": "code",
   "execution_count": null,
   "metadata": {
    "ExecuteTime": {
     "end_time": "2020-01-02T09:16:07.191659Z",
     "start_time": "2020-01-02T09:16:07.180191Z"
    }
   },
   "outputs": [],
   "source": [
    "print(model_ts)\n",
    "df_submit[['smishing']].to_csv('submit/{}.csv'.format(model_ts), index=True)"
   ]
  },
  {
   "cell_type": "code",
   "execution_count": null,
   "metadata": {
    "ExecuteTime": {
     "end_time": "2020-01-02T09:16:07.196248Z",
     "start_time": "2020-01-02T09:16:07.192388Z"
    },
    "scrolled": true
   },
   "outputs": [],
   "source": [
    "# print(len(pred_cols))\n",
    "# df_test['pred_max'] = df_test[pred_cols].max(axis=1)\n",
    "# df_test['pred_min'] = df_test[pred_cols].min(axis=1)\n",
    "# df_test['pred_mean'] = df_test[pred_cols].mean(axis=1)\n",
    "# df_test['pred_std'] = df_test[pred_cols].std(axis=1)\n",
    "\n",
    "# print(df_test['pred_std'].max(), df_test['pred_std'].min(), df_test['pred_std'].mean())\n",
    "\n",
    "# df_test['smishing'] = df_test['pred_mean']"
   ]
  },
  {
   "cell_type": "code",
   "execution_count": null,
   "metadata": {
    "ExecuteTime": {
     "end_time": "2020-01-02T09:16:07.392821Z",
     "start_time": "2020-01-02T09:16:07.197534Z"
    },
    "scrolled": false
   },
   "outputs": [],
   "source": [
    "df_test['smishing'].hist(bins=100, figsize=(20, 5))"
   ]
  },
  {
   "cell_type": "code",
   "execution_count": null,
   "metadata": {
    "ExecuteTime": {
     "end_time": "2020-01-02T09:16:07.397147Z",
     "start_time": "2020-01-02T09:16:07.393747Z"
    }
   },
   "outputs": [],
   "source": [
    "(df_test['smishing'] * 10).astype(int).value_counts(sort=False)"
   ]
  },
  {
   "cell_type": "code",
   "execution_count": null,
   "metadata": {
    "ExecuteTime": {
     "end_time": "2020-01-02T09:16:07.404672Z",
     "start_time": "2020-01-02T09:16:07.397851Z"
    }
   },
   "outputs": [],
   "source": [
    "# for c in pred_cols:\n",
    "#     print(c)\n",
    "#     display((df_test[c] * 10).astype(int).value_counts(sort=False))"
   ]
  },
  {
   "cell_type": "code",
   "execution_count": null,
   "metadata": {
    "ExecuteTime": {
     "end_time": "2020-01-02T09:16:07.411040Z",
     "start_time": "2020-01-02T09:16:07.405613Z"
    }
   },
   "outputs": [],
   "source": [
    "model_ts"
   ]
  },
  {
   "cell_type": "code",
   "execution_count": null,
   "metadata": {
    "ExecuteTime": {
     "end_time": "2020-01-02T09:16:07.425590Z",
     "start_time": "2020-01-02T09:16:07.412025Z"
    }
   },
   "outputs": [],
   "source": [
    "df_test['smishing'] = df_test['smishing']\n",
    "df_test[['smishing']].to_csv('submit/{}.csv'.format(model_ts), index=True)\n"
   ]
  },
  {
   "cell_type": "code",
   "execution_count": null,
   "metadata": {
    "ExecuteTime": {
     "end_time": "2020-01-02T09:16:07.428344Z",
     "start_time": "2020-01-02T09:16:07.426705Z"
    }
   },
   "outputs": [],
   "source": [
    "# df_test['smishing'] = df_test['pred_mean']\n",
    "# df_test[['smishing']].to_csv('submit/{}_lgb.csv'.format(model_ts), index=True)\n",
    "# # df_test[['id', 'smishing', 'text']].sort_values('smishing', ascending=False).to_csv('{}_text.csv'.format(model_ts), index=False)\n"
   ]
  },
  {
   "cell_type": "code",
   "execution_count": null,
   "metadata": {},
   "outputs": [],
   "source": []
  }
 ],
 "metadata": {
  "accelerator": "GPU",
  "colab": {
   "collapsed_sections": [],
   "name": "mecab_tfidf.ipynb",
   "provenance": []
  },
  "kernelspec": {
   "display_name": "Python 3",
   "language": "python",
   "name": "python3"
  },
  "language_info": {
   "codemirror_mode": {
    "name": "ipython",
    "version": 3
   },
   "file_extension": ".py",
   "mimetype": "text/x-python",
   "name": "python",
   "nbconvert_exporter": "python",
   "pygments_lexer": "ipython3",
   "version": "3.7.4"
  },
  "toc": {
   "base_numbering": 1,
   "nav_menu": {},
   "number_sections": true,
   "sideBar": true,
   "skip_h1_title": false,
   "title_cell": "Table of Contents",
   "title_sidebar": "Contents",
   "toc_cell": false,
   "toc_position": {
    "height": "calc(100% - 180px)",
    "left": "10px",
    "top": "150px",
    "width": "165px"
   },
   "toc_section_display": true,
   "toc_window_display": true
  }
 },
 "nbformat": 4,
 "nbformat_minor": 1
}
