{
 "cells": [
  {
   "cell_type": "code",
   "execution_count": null,
   "metadata": {
    "ExecuteTime": {
     "end_time": "2020-01-05T22:09:46.384977Z",
     "start_time": "2020-01-05T22:09:46.368045Z"
    },
    "colab": {
     "base_uri": "https://localhost:8080/",
     "height": 71
    },
    "colab_type": "code",
    "executionInfo": {
     "elapsed": 1590,
     "status": "ok",
     "timestamp": 1576286906380,
     "user": {
      "displayName": "주이클",
      "photoUrl": "https://lh3.googleusercontent.com/a-/AAuE7mCWVh4nvn9788qUddhoWTl5qQoYt0bzVMDlJWUumTg=s64",
      "userId": "02708070532256873610"
     },
     "user_tz": -540
    },
    "id": "U3xmRNtgpZwi",
    "outputId": "f6e95e03-5913-4a53-9ff3-1b6cde1b5a82"
   },
   "outputs": [],
   "source": [
    "#!/usr/bin/env python\n",
    "# coding: utf-8\n",
    "get_ipython().run_line_magic('matplotlib', 'inline')\n",
    "import pandas as pd\n",
    "import time\n",
    "import numpy as np\n",
    "from datetime import datetime\n",
    "from sklearn.externals import joblib \n",
    "import os\n",
    "import glob\n",
    "from konlpy.tag import Mecab\n",
    "import lightgbm as lgb\n",
    "print(lgb.__version__)\n",
    "\n",
    "from sklearn import metrics\n",
    "from sklearn.preprocessing import MinMaxScaler\n",
    "from sklearn.externals import joblib \n",
    "from sklearn.model_selection import StratifiedKFold\n",
    "\n",
    "import gc\n",
    "\n",
    "from tqdm import tqdm_notebook\n",
    "\n",
    "import warnings\n",
    "warnings.filterwarnings(action='ignore')\n",
    "\n",
    "\n",
    "import torch\n",
    "print(torch.__version__)\n",
    "import torch.nn.functional as F\n",
    "from torch.utils.data import Dataset, DataLoader\n",
    "\n",
    "from torchsummary import summary\n",
    "\n",
    "from tools import eval_summary, save_feature_importance, merge_preds\n",
    "\n",
    "print(torch.cuda.get_device_name(0))\n",
    "print(torch.cuda.is_available())\n",
    "\n",
    "device = torch.device(\"cuda:0\" if torch.cuda.is_available() else \"cpu\")\n",
    "# device = torch.device('cpu')\n",
    "device"
   ]
  },
  {
   "cell_type": "markdown",
   "metadata": {},
   "source": [
    "#### Load Data"
   ]
  },
  {
   "cell_type": "code",
   "execution_count": null,
   "metadata": {
    "ExecuteTime": {
     "end_time": "2020-01-05T21:06:20.683096Z",
     "start_time": "2020-01-05T21:06:19.534334Z"
    }
   },
   "outputs": [],
   "source": [
    "print(os.getcwd())\n",
    "\n",
    "base_path = '.'\n",
    "\n",
    "df_train = pd.read_csv(os.path.join(base_path , 'input/train.csv'), index_col=0)\n",
    "df_test = pd.read_csv(os.path.join(base_path , 'input/public_test.csv'), index_col=0)\n",
    "df_test['smishing'] = -1\n",
    "\n",
    "df_fea = pd.concat([df_train, df_test])\n",
    "df_fea.shape"
   ]
  },
  {
   "cell_type": "code",
   "execution_count": null,
   "metadata": {
    "ExecuteTime": {
     "end_time": "2020-01-05T21:06:20.685942Z",
     "start_time": "2020-01-05T21:06:20.684064Z"
    },
    "colab": {
     "base_uri": "https://localhost:8080/",
     "height": 1000
    },
    "colab_type": "code",
    "executionInfo": {
     "elapsed": 185838,
     "status": "ok",
     "timestamp": 1576287091046,
     "user": {
      "displayName": "주이클",
      "photoUrl": "https://lh3.googleusercontent.com/a-/AAuE7mCWVh4nvn9788qUddhoWTl5qQoYt0bzVMDlJWUumTg=s64",
      "userId": "02708070532256873610"
     },
     "user_tz": -540
    },
    "id": "QOi9dYzqpZxV",
    "outputId": "9ceb7e20-059e-4946-934e-ab85c98dca56",
    "scrolled": true
   },
   "outputs": [],
   "source": [
    "train_size = len(df_train)\n",
    "print(train_size)\n",
    "\n",
    "# cat_cols = []\n",
    "# fea_cols = tfidf_cols + cat_cols + cnt_cols\n",
    "# fea_cols = cnt_cols + cat_cols\n",
    "# fea_cols = tfidf_cols + cat_cols\n",
    "# len(fea_cols)"
   ]
  },
  {
   "cell_type": "code",
   "execution_count": null,
   "metadata": {
    "ExecuteTime": {
     "end_time": "2020-01-05T21:06:34.687736Z",
     "start_time": "2020-01-05T21:06:20.686856Z"
    },
    "colab": {
     "base_uri": "https://localhost:8080/",
     "height": 51
    },
    "colab_type": "code",
    "executionInfo": {
     "elapsed": 187149,
     "status": "ok",
     "timestamp": 1576287092380,
     "user": {
      "displayName": "주이클",
      "photoUrl": "https://lh3.googleusercontent.com/a-/AAuE7mCWVh4nvn9788qUddhoWTl5qQoYt0bzVMDlJWUumTg=s64",
      "userId": "02708070532256873610"
     },
     "user_tz": -540
    },
    "id": "LCEEOdJK4__q",
    "outputId": "24fb71a8-e639-43d1-b476-d617adfff1e7"
   },
   "outputs": [],
   "source": [
    "# merged_ts = '20191231T113708_5499'\n",
    "# merged_ts = '20191231T162533_2022'\n",
    "# merged_ts = '20191231T165424_6099'\n",
    "# merged_ts = '20191231T111228_8180'\n",
    "# merged_ts = '20200101T184353_5853'\n",
    "# merged_ts = '20200102T005929_6546_128_49980' # 984\n",
    "# merged_ts = '20200102T015155_8438_128_49980' # 986\n",
    "# merged_ts = '20200102T160226_8438_275_997'\n",
    "# merged_ts = '20200104T033010_10938_512_49980'\n",
    "# merged_ts = '20200104T141453_13225_64_49980' #1445\n",
    "# merged_ts = '20200104T143414_12439_64_49980'\n",
    "# merged_ts = '20200104T151347_9528_64_49980'\n",
    "\n",
    "# merged_ts = '20200104T033010_10938_512_49980' # 9878\n",
    "\n",
    "merged_ts = '20200105T104739_12438_128_49980' \n",
    "\n",
    "merged_ts = '20200106T060355_12568_128_49980' \n",
    "\n",
    "\n",
    "\n",
    "\n",
    "train_path = 'data/df_merged_{}_train.pkl'.format(merged_ts)\n",
    "test_path = 'data/df_merged_{}_test.pkl'.format(merged_ts)\n",
    "dict_path = 'data/df_merged_{}_fea_dict.pkl'.format(merged_ts)\n",
    "\n",
    "df_model = joblib.load(train_path)  \n",
    "df_test = joblib.load(test_path) \n",
    "fea_dict = joblib.load(dict_path)\n",
    "\n",
    "print('model_set\\n', df_model['smishing'].value_counts())"
   ]
  },
  {
   "cell_type": "code",
   "execution_count": null,
   "metadata": {
    "ExecuteTime": {
     "end_time": "2020-01-05T21:06:40.357250Z",
     "start_time": "2020-01-05T21:06:34.689140Z"
    },
    "colab": {
     "base_uri": "https://localhost:8080/",
     "height": 51
    },
    "colab_type": "code",
    "executionInfo": {
     "elapsed": 187149,
     "status": "ok",
     "timestamp": 1576287092380,
     "user": {
      "displayName": "주이클",
      "photoUrl": "https://lh3.googleusercontent.com/a-/AAuE7mCWVh4nvn9788qUddhoWTl5qQoYt0bzVMDlJWUumTg=s64",
      "userId": "02708070532256873610"
     },
     "user_tz": -540
    },
    "id": "LCEEOdJK4__q",
    "outputId": "24fb71a8-e639-43d1-b476-d617adfff1e7"
   },
   "outputs": [],
   "source": [
    "for c in [c for c in df_model.columns if 'idx' in c]:\n",
    "    df_model.drop(c, axis=1, inplace=True)\n",
    "    df_test.drop(c, axis=1, inplace=True)\n",
    "\n",
    "gc.collect()"
   ]
  },
  {
   "cell_type": "code",
   "execution_count": null,
   "metadata": {
    "ExecuteTime": {
     "end_time": "2020-01-05T21:06:40.360356Z",
     "start_time": "2020-01-05T21:06:40.358031Z"
    }
   },
   "outputs": [],
   "source": [
    "zero_dict = []\n",
    "# zero_dict += list(joblib.load('20200105T060507_zero_dict.pkl'))\n",
    "# zero_dict += list(joblib.load('model/20200105T104918_zero_dict.pkl'))\n",
    "# zero_dict += list(joblib.load('model/20200105T112414_zero_dict.pkl'))\n",
    "# zero_dict += list(joblib.load('model/20200105T112414_zero_dict.pkl'))\n",
    "# zero_dict += list(joblib.load('model/20200105T114935_zero_dict.pkl'))\n",
    "\n",
    "no_fea_cols = list(set(zero_dict))\n",
    "# no_fea_cols += [\n",
    "#     'tfidf_word_22_0169',#_xxx 은행',\n",
    "#     'fea__noun_cnt',\n",
    "# ]\n",
    "\n",
    "len(no_fea_cols)"
   ]
  },
  {
   "cell_type": "code",
   "execution_count": null,
   "metadata": {
    "ExecuteTime": {
     "end_time": "2020-01-05T21:06:40.369010Z",
     "start_time": "2020-01-05T21:06:40.361040Z"
    }
   },
   "outputs": [],
   "source": [
    "fea_cols = [c for c in df_model.columns if c not in ['smishing', 'id'] + no_fea_cols]\n",
    "cat_cols = []\n",
    "\n",
    "len(fea_cols), len(cat_cols)"
   ]
  },
  {
   "cell_type": "code",
   "execution_count": null,
   "metadata": {
    "ExecuteTime": {
     "end_time": "2020-01-05T21:06:40.427448Z",
     "start_time": "2020-01-05T21:06:40.370446Z"
    }
   },
   "outputs": [],
   "source": [
    "gc.collect()"
   ]
  },
  {
   "cell_type": "code",
   "execution_count": null,
   "metadata": {
    "ExecuteTime": {
     "end_time": "2020-01-05T21:06:41.714034Z",
     "start_time": "2020-01-05T21:06:40.428422Z"
    }
   },
   "outputs": [],
   "source": [
    "print(df_model.info())\n",
    "df_model = df_model.reset_index()\n",
    "df_model"
   ]
  },
  {
   "cell_type": "markdown",
   "metadata": {},
   "source": [
    "#### Params"
   ]
  },
  {
   "cell_type": "code",
   "execution_count": null,
   "metadata": {
    "ExecuteTime": {
     "end_time": "2020-01-05T21:06:41.717837Z",
     "start_time": "2020-01-05T21:06:41.714808Z"
    },
    "colab": {
     "base_uri": "https://localhost:8080/",
     "height": 51
    },
    "colab_type": "code",
    "executionInfo": {
     "elapsed": 187149,
     "status": "ok",
     "timestamp": 1576287092380,
     "user": {
      "displayName": "주이클",
      "photoUrl": "https://lh3.googleusercontent.com/a-/AAuE7mCWVh4nvn9788qUddhoWTl5qQoYt0bzVMDlJWUumTg=s64",
      "userId": "02708070532256873610"
     },
     "user_tz": -540
    },
    "id": "LCEEOdJK4__q",
    "outputId": "24fb71a8-e639-43d1-b476-d617adfff1e7"
   },
   "outputs": [],
   "source": [
    "from sklearn.model_selection import train_test_split\n",
    "from sklearn.model_selection import StratifiedKFold\n",
    "\n",
    "model_ts = datetime.now().strftime('%Y%m%dT%H%M%S')\n",
    "\n",
    "initscore_filename = ''\n",
    "params = {\n",
    "    'boosting':'gbdt',\n",
    "#     'boosting':'dart',\n",
    "    'num_leaves': 7, \n",
    "#     'max_depth': 5,\n",
    "    'objective': 'binary',\n",
    "    'metric':'auc',\n",
    "    'num_threads': 16,\n",
    "    'learning_rate': 0.005,\n",
    "#     'is_unbalance': True,\n",
    "    'scale_pos_weight':200,\n",
    "    'bagging_fraction':0.5,\n",
    "    'bagging_freq':10,\n",
    "    'feature_fraction':0.5,\n",
    "    'initscore_filename':initscore_filename,\n",
    "#     'lambda_l1':200,\n",
    "#     'lambda_l2':2000,\n",
    "    'device_type':'gpu',\n",
    "}\n",
    "\n",
    "data_params = {\n",
    "    'max_bin':128,\n",
    "#     'enable_bundle': False,\n",
    "}\n",
    "num_round = 20000\n"
   ]
  },
  {
   "cell_type": "markdown",
   "metadata": {},
   "source": [
    "#### Train"
   ]
  },
  {
   "cell_type": "code",
   "execution_count": null,
   "metadata": {
    "ExecuteTime": {
     "end_time": "2020-01-05T22:06:25.236280Z",
     "start_time": "2020-01-05T21:06:41.718546Z"
    },
    "scrolled": true
   },
   "outputs": [],
   "source": [
    "print('merged_ts', merged_ts, 'model_ts', model_ts)\n",
    "print(params)\n",
    "print(data_params)\n",
    "pred_csv = []\n",
    "fea_size = -1\n",
    "# try_list = [3, 4, 5, 6, 7, 10, 13, 16]\n",
    "try_list = [5]\n",
    "\n",
    "for t in tqdm_notebook(try_list, total=len(try_list), desc = 'Try'):\n",
    "#     fea_cols = [c for c in df_model.columns if c not in ['smishing', 'id', 'score']]\n",
    "    \n",
    "    if fea_size > 0:\n",
    "        fea_cols = list(set(np.random.choice(fea_cols, fea_size)))\n",
    "        print(t, len(fea_cols), fea_cols[:100])\n",
    "    else:\n",
    "        print(t, len(fea_cols))\n",
    "\n",
    "    [df_model.drop(c, axis=1, inplace=True) for c in df_model.columns if 'smishing_' in c]\n",
    "    [df_test.drop(c, axis=1, inplace=True) for c in df_test.columns if 'smishing_' in c]\n",
    "\n",
    "    n_splits = t#5\n",
    "    skf = StratifiedKFold(n_splits=n_splits, random_state=8405)\n",
    "    cnt = 0\n",
    "    \n",
    "    # for train_index, valid_index in skf.split(X, y):\n",
    "    for train_index, valid_index in tqdm_notebook(skf.split(df_model['id'].values, df_model['smishing'].values), total=n_splits, desc = 'CV'):\n",
    "#         if cnt < 28:\n",
    "#             cnt += 1\n",
    "#             continue\n",
    "        print('split: \\n', t, '*' * 20, cnt, '*' * 20)\n",
    "        \n",
    "        train_set = lgb.Dataset(df_model.loc[train_index, fea_cols].values, \n",
    "                                 label=df_model.loc[train_index, 'smishing'].values, \n",
    "                                 feature_name=fea_cols, categorical_feature=cat_cols, \n",
    "                                 free_raw_data=True, params=data_params)\n",
    "        \n",
    "        valid_set = lgb.Dataset(df_model.loc[valid_index, fea_cols].values, \n",
    "                                 label=df_model.loc[valid_index, 'smishing'].values, \n",
    "                                 feature_name=fea_cols, categorical_feature=cat_cols, \n",
    "                                 free_raw_data=True, params=data_params)\n",
    "\n",
    "        print('train_set', np.unique(train_set.get_label(), return_counts=True))\n",
    "        print('valid_set', np.unique(valid_set.get_label(), return_counts=True))\n",
    "\n",
    "        bst = lgb.train(params, train_set, num_round, categorical_feature=cat_cols,\n",
    "                        early_stopping_rounds=500, \n",
    "                        valid_sets=[train_set, valid_set],\n",
    "                        verbose_eval=200,\n",
    "                        # init_model=init_model,\n",
    "                       )\n",
    "        \n",
    "        pred_tag = 'smishing_{}_{}__{}'.format(t, cnt, bst.best_iteration)\n",
    "        print('pred_tag', pred_tag, 'Best Iteration:', bst.best_iteration)\n",
    "\n",
    "        renamed_cols = [fea_dict[c] if c in fea_dict.keys() else c for c in fea_cols]\n",
    "        \n",
    "        save_feature_importance(renamed_cols, bst, 'split', f\"{model_ts}_{pred_tag}\")\n",
    "        save_feature_importance(renamed_cols, bst, 'gain', f\"{model_ts}_{pred_tag}\")\n",
    "\n",
    "        df_pred_valid = pd.DataFrame(index=valid_index, \n",
    "                               data=bst.predict(df_model.loc[valid_index, fea_cols].values),\n",
    "                               columns=['score'])\n",
    "        \n",
    "        df_pred_valid['type'] = 'valid'\n",
    "        df_pred_valid['smishing'] = df_model.loc[valid_index, 'smishing'].values\n",
    "        \n",
    "        df_pred_train = pd.DataFrame(index=train_index, \n",
    "                               data=bst.predict(df_model.loc[train_index, fea_cols].values),\n",
    "                               columns=['score'])\n",
    "        \n",
    "        df_pred_train['type'] = 'train'\n",
    "        df_pred_train['smishing'] = df_model.loc[train_index, 'smishing'].values\n",
    "        \n",
    "        \n",
    "        print('valid\\n', eval_summary(df_pred_valid['smishing'].values, \n",
    "                                      df_pred_valid['score'].values, cut_off=0.5))\n",
    "\n",
    "        print('train\\n', eval_summary(df_pred_train['smishing'].values, \n",
    "                                      df_pred_train['score'].values, cut_off=0.5))\n",
    "        \n",
    "        df_pred_model = pd.concat([df_pred_train, df_pred_valid])\n",
    "              \n",
    "        df_pred_model[['score', 'smishing']].to_csv('submit/{}_{}_lgb_score.csv'.format(model_ts, pred_tag), index=True)\n",
    "        print('model\\n', eval_summary(df_pred_model['smishing'].values, df_pred_model['score'].values, cut_off=0.5))\n",
    "        \n",
    "        df_test['smishing'] = bst.predict(df_test[fea_cols].values)    \n",
    "        df_test[['smishing']].to_csv('submit/{}_{}_lgb.csv'.format(model_ts, pred_tag), index=True)\n",
    "        pred_csv.append('submit/{}_{}_lgb.csv'.format(model_ts, pred_tag))\n",
    "        \n",
    "        del train_set, valid_set\n",
    "        gc.collect()\n",
    "        cnt = cnt + 1\n"
   ]
  },
  {
   "cell_type": "markdown",
   "metadata": {},
   "source": [
    "#### Submit"
   ]
  },
  {
   "cell_type": "code",
   "execution_count": null,
   "metadata": {
    "ExecuteTime": {
     "end_time": "2020-01-05T22:09:28.780743Z",
     "start_time": "2020-01-05T22:09:28.617206Z"
    }
   },
   "outputs": [],
   "source": [
    "df_submit = merge_preds(pred_csv)"
   ]
  },
  {
   "cell_type": "code",
   "execution_count": null,
   "metadata": {
    "ExecuteTime": {
     "end_time": "2020-01-05T22:06:25.281390Z",
     "start_time": "2020-01-05T22:06:25.240529Z"
    },
    "scrolled": true
   },
   "outputs": [],
   "source": [
    "# df_submit = df_test[['smishing']]\n",
    "# df_submit['smishing'] = 0\n",
    "# for csv in pred_csv:\n",
    "#     print(csv)\n",
    "#     df = pd.read_csv(csv, index_col=0)\n",
    "#     c = csv.split('__')[0][-1]\n",
    "#     df_submit['smishing_{}'.format(c)] = df['smishing']"
   ]
  },
  {
   "cell_type": "code",
   "execution_count": null,
   "metadata": {
    "ExecuteTime": {
     "end_time": "2020-01-05T22:06:25.301701Z",
     "start_time": "2020-01-05T22:06:25.282569Z"
    },
    "scrolled": true
   },
   "outputs": [],
   "source": [
    "# pred_cols = [c for c in df_submit.columns if 'smishing_' in c]\n",
    "# df_submit['std'] = df_submit[pred_cols].std(axis=1)\n",
    "# df_submit['median'] = df_submit[pred_cols].median(axis=1)\n",
    "# df_submit['mean'] = df_submit[pred_cols].mean(axis=1)\n",
    "\n",
    "# pred_cols_n4 = [c for c in pred_cols if '_4' in c]\n",
    "# df_submit['std_n4'] = df_submit[pred_cols_n4].std(axis=1)\n",
    "# df_submit['median_n4'] = df_submit[pred_cols_n4].median(axis=1)\n",
    "# df_submit['mean_n4'] = df_submit[pred_cols_n4].mean(axis=1)\n"
   ]
  },
  {
   "cell_type": "markdown",
   "metadata": {},
   "source": [
    "#### Save"
   ]
  },
  {
   "cell_type": "code",
   "execution_count": null,
   "metadata": {
    "ExecuteTime": {
     "end_time": "2020-01-05T22:06:25.326291Z",
     "start_time": "2020-01-05T22:06:25.302784Z"
    }
   },
   "outputs": [],
   "source": [
    "print(model_ts)\n",
    "df_submit['smishing'] = df_submit['median']\n",
    "df_submit[['smishing']].to_csv('submit/{}_lgb_median.csv'.format(model_ts), index=True)\n",
    "\n",
    "df_submit['smishing'] = df_submit['mean_n4']\n",
    "df_submit[['smishing']].to_csv('submit/{}_lgb_n4.csv'.format(model_ts), index=True)\n",
    "\n",
    "df_submit['smishing'] = df_submit['mean']\n",
    "df_submit[['smishing']].to_csv('submit/{}_lgb.csv'.format(model_ts), index=True)"
   ]
  },
  {
   "cell_type": "markdown",
   "metadata": {},
   "source": [
    "#### Eval"
   ]
  },
  {
   "cell_type": "markdown",
   "metadata": {},
   "source": [
    "##### Feature Imp"
   ]
  },
  {
   "cell_type": "code",
   "execution_count": null,
   "metadata": {
    "ExecuteTime": {
     "end_time": "2020-01-05T22:06:25.860413Z",
     "start_time": "2020-01-05T22:06:25.327284Z"
    },
    "scrolled": false
   },
   "outputs": [],
   "source": [
    "fea_imp_dict = {}\n",
    "for pkl in glob.glob(f'model/{model_ts}*split.pkl'):\n",
    "    for k, v in joblib.load(pkl).items():\n",
    "        if k in fea_imp_dict.keys():\n",
    "            fea_imp_dict[k] += v\n",
    "        else:\n",
    "            fea_imp_dict[k] = v\n",
    "sorted(fea_imp_dict.items(), key=(lambda x:x[1]), reverse=True)"
   ]
  },
  {
   "cell_type": "code",
   "execution_count": null,
   "metadata": {
    "ExecuteTime": {
     "end_time": "2020-01-05T22:06:26.214166Z",
     "start_time": "2020-01-05T22:06:25.861365Z"
    }
   },
   "outputs": [],
   "source": [
    "non_zero_cols = [k for k, v in fea_imp_dict.items() if v != 0]\n",
    "zero_cols = set(fea_imp_dict.keys()) - set(non_zero_cols)\n",
    "\n",
    "print('non_zero_cols', len(non_zero_cols) , 'zero_cols', len(zero_cols))\n",
    "\n",
    "zero_dict = {}\n",
    "non_zero_dict = {}\n",
    "for k, v in fea_dict.items():\n",
    "    if v in zero_cols:\n",
    "        zero_dict[k] = v\n",
    "    if v in non_zero_cols:\n",
    "        non_zero_dict[k] = v\n",
    "    \n",
    "print(joblib.dump(zero_dict, f'model/{model_ts}_zero_dict.pkl'))\n",
    "print(joblib.dump(non_zero_dict, f'model/{model_ts}_non_zero_dict.pkl'))"
   ]
  },
  {
   "cell_type": "code",
   "execution_count": null,
   "metadata": {
    "ExecuteTime": {
     "end_time": "2020-01-05T22:06:26.230900Z",
     "start_time": "2020-01-05T22:06:26.215333Z"
    },
    "scrolled": true
   },
   "outputs": [],
   "source": [
    "df_std = df_submit[df_submit['std'] < 1]\n",
    "print(df_std.shape)\n",
    "df_std.sort_values('std', ascending=False).head(30)"
   ]
  },
  {
   "cell_type": "code",
   "execution_count": null,
   "metadata": {
    "ExecuteTime": {
     "end_time": "2020-01-05T22:06:26.499890Z",
     "start_time": "2020-01-05T22:06:26.233402Z"
    }
   },
   "outputs": [],
   "source": [
    "df_submit['smishing'].hist(bins=100, figsize=(20, 5))"
   ]
  },
  {
   "cell_type": "code",
   "execution_count": null,
   "metadata": {
    "ExecuteTime": {
     "end_time": "2020-01-05T22:06:26.536381Z",
     "start_time": "2020-01-05T22:06:26.500853Z"
    }
   },
   "outputs": [],
   "source": [
    "(df_submit['smishing'] * 10).astype(int).value_counts(sort=False)"
   ]
  },
  {
   "cell_type": "code",
   "execution_count": null,
   "metadata": {
    "ExecuteTime": {
     "end_time": "2020-01-05T22:06:26.543729Z",
     "start_time": "2020-01-05T22:06:26.537289Z"
    }
   },
   "outputs": [],
   "source": [
    "print(model_ts)\n",
    "df_submit[['smishing']].to_csv('submit/{}_lgb.csv'.format(model_ts), index=True)"
   ]
  },
  {
   "cell_type": "code",
   "execution_count": null,
   "metadata": {},
   "outputs": [],
   "source": []
  }
 ],
 "metadata": {
  "accelerator": "GPU",
  "colab": {
   "collapsed_sections": [],
   "name": "mecab_tfidf.ipynb",
   "provenance": []
  },
  "kernelspec": {
   "display_name": "Python 3",
   "language": "python",
   "name": "python3"
  },
  "language_info": {
   "codemirror_mode": {
    "name": "ipython",
    "version": 3
   },
   "file_extension": ".py",
   "mimetype": "text/x-python",
   "name": "python",
   "nbconvert_exporter": "python",
   "pygments_lexer": "ipython3",
   "version": "3.7.4"
  },
  "toc": {
   "base_numbering": 1,
   "nav_menu": {},
   "number_sections": true,
   "sideBar": true,
   "skip_h1_title": false,
   "title_cell": "Table of Contents",
   "title_sidebar": "Contents",
   "toc_cell": false,
   "toc_position": {
    "height": "calc(100% - 180px)",
    "left": "10px",
    "top": "150px",
    "width": "165px"
   },
   "toc_section_display": true,
   "toc_window_display": true
  }
 },
 "nbformat": 4,
 "nbformat_minor": 1
}
