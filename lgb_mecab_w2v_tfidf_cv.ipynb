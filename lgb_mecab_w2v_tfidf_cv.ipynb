{
 "cells": [
  {
   "cell_type": "code",
   "execution_count": null,
   "metadata": {
    "ExecuteTime": {
     "end_time": "2019-12-25T09:00:41.158273Z",
     "start_time": "2019-12-25T09:00:41.153400Z"
    },
    "colab": {
     "base_uri": "https://localhost:8080/",
     "height": 71
    },
    "colab_type": "code",
    "executionInfo": {
     "elapsed": 1590,
     "status": "ok",
     "timestamp": 1576286906380,
     "user": {
      "displayName": "주이클",
      "photoUrl": "https://lh3.googleusercontent.com/a-/AAuE7mCWVh4nvn9788qUddhoWTl5qQoYt0bzVMDlJWUumTg=s64",
      "userId": "02708070532256873610"
     },
     "user_tz": -540
    },
    "id": "U3xmRNtgpZwi",
    "outputId": "f6e95e03-5913-4a53-9ff3-1b6cde1b5a82"
   },
   "outputs": [],
   "source": [
    "#!/usr/bin/env python\n",
    "# coding: utf-8\n",
    "get_ipython().run_line_magic('matplotlib', 'inline')\n",
    "import pandas as pd\n",
    "import time\n",
    "import numpy as np\n",
    "from datetime import datetime\n",
    "from sklearn.externals import joblib \n",
    "import os\n",
    "from konlpy.tag import Mecab\n",
    "import lightgbm as lgb\n",
    "print(lgb.__version__)\n",
    "\n",
    "from sklearn import metrics"
   ]
  },
  {
   "cell_type": "code",
   "execution_count": null,
   "metadata": {
    "ExecuteTime": {
     "end_time": "2019-12-25T08:04:33.897103Z",
     "start_time": "2019-12-25T08:04:33.894095Z"
    }
   },
   "outputs": [],
   "source": [
    "os.getcwd()"
   ]
  },
  {
   "cell_type": "code",
   "execution_count": null,
   "metadata": {
    "ExecuteTime": {
     "end_time": "2019-12-25T08:04:35.080013Z",
     "start_time": "2019-12-25T08:04:33.898084Z"
    },
    "colab": {
     "base_uri": "https://localhost:8080/",
     "height": 34
    },
    "colab_type": "code",
    "executionInfo": {
     "elapsed": 4539,
     "status": "ok",
     "timestamp": 1576286909403,
     "user": {
      "displayName": "주이클",
      "photoUrl": "https://lh3.googleusercontent.com/a-/AAuE7mCWVh4nvn9788qUddhoWTl5qQoYt0bzVMDlJWUumTg=s64",
      "userId": "02708070532256873610"
     },
     "user_tz": -540
    },
    "id": "-Z8nNhp-pZwp",
    "outputId": "d9a4411d-a1d7-4dd0-b74d-7fdda5aa9ee9"
   },
   "outputs": [],
   "source": [
    "base_path = '.'\n",
    "\n",
    "df_train = pd.read_csv(os.path.join(base_path , 'input/train.csv'), index_col=0)\n",
    "df_test = pd.read_csv(os.path.join(base_path , 'input/public_test.csv'), index_col=0)\n",
    "df_test['smishing'] = -1\n",
    "\n",
    "df_fea = pd.concat([df_train, df_test])\n",
    "df_fea.shape"
   ]
  },
  {
   "cell_type": "markdown",
   "metadata": {},
   "source": [
    "### Mecab"
   ]
  },
  {
   "cell_type": "code",
   "execution_count": null,
   "metadata": {
    "ExecuteTime": {
     "end_time": "2019-12-25T08:05:50.325968Z",
     "start_time": "2019-12-25T08:04:35.080877Z"
    },
    "colab": {},
    "colab_type": "code",
    "id": "uquxguHUpZwt"
   },
   "outputs": [],
   "source": [
    "mecab = Mecab()\n",
    "# df_space['morphs'] = df_space['spacing'].apply(lambda x: mecab.morphs(x))\n",
    "df_fea['nouns'] = df_fea['text'].apply(lambda x: mecab.nouns(x))\n",
    "# df_space['text_morphs'] = df_train['text'].apply(lambda x: mecab.morphs(x))"
   ]
  },
  {
   "cell_type": "markdown",
   "metadata": {},
   "source": [
    "### W2V"
   ]
  },
  {
   "cell_type": "code",
   "execution_count": null,
   "metadata": {
    "ExecuteTime": {
     "end_time": "2019-12-25T08:05:50.328726Z",
     "start_time": "2019-12-25T08:05:50.327101Z"
    },
    "colab": {},
    "colab_type": "code",
    "id": "uquxguHUpZwt"
   },
   "outputs": [],
   "source": [
    "# from gensim.models import Word2Vec\n",
    "# w2v_size = 100\n",
    "# w2v_model = Word2Vec(df_fea['nouns'].values, \n",
    "#                            size=w2v_size, \n",
    "#                            window = 5, \n",
    "#                            min_count=25, \n",
    "#                            workers=16, \n",
    "#                            iter=100, \n",
    "#                            sg=1)\n",
    "# ts = datetime.now().strftime('%Y%m%dT%H%M%S')\n",
    "# file_name = 'model/gensim_w2v_{}'.format(ts)\n",
    "# print(file_name)\n",
    "# joblib.dump(w2v_model, '{}.pkl'.format(file_name))\n",
    "# w2v_model.save('{}.model'.format(file_name))\n",
    "# w2v_model"
   ]
  },
  {
   "cell_type": "code",
   "execution_count": null,
   "metadata": {
    "ExecuteTime": {
     "end_time": "2019-12-25T08:05:50.462413Z",
     "start_time": "2019-12-25T08:05:50.329595Z"
    },
    "colab": {},
    "colab_type": "code",
    "id": "j1VJC1OipZw1"
   },
   "outputs": [],
   "source": [
    "ts = '20191214T055747'\n",
    "file_name = 'model/gensim_{}'.format(ts)\n",
    "\n",
    "w2v_model = joblib.load(os.path.join(base_path, '{}.pkl'.format(file_name)))\n",
    "w2v_size = w2v_model.wv.vectors.shape[1]"
   ]
  },
  {
   "cell_type": "code",
   "execution_count": null,
   "metadata": {
    "ExecuteTime": {
     "end_time": "2019-12-25T08:06:38.067934Z",
     "start_time": "2019-12-25T08:05:50.463375Z"
    },
    "colab": {},
    "colab_type": "code",
    "id": "uesePyR-pZw9"
   },
   "outputs": [],
   "source": [
    "def mean_w2v(row):\n",
    "    nouns = row['nouns']\n",
    "    w2v = np.zeros(w2v_size)\n",
    "\n",
    "    \n",
    "    for n in nouns:\n",
    "        if n in w2v_model.wv.vocab.keys():\n",
    "            w2v = np.add(w2v, w2v_model.wv[n])\n",
    "            \n",
    "    return w2v if len(nouns) == 0 else np.true_divide(w2v, len(nouns))\n",
    "\n",
    "w2v_cols = ['w2v_{}'.format(i) for i in range(w2v_size)]\n",
    "\n",
    "\n",
    "df_fea[w2v_cols] = df_fea.apply(mean_w2v, axis=1, result_type='expand')"
   ]
  },
  {
   "cell_type": "code",
   "execution_count": null,
   "metadata": {
    "ExecuteTime": {
     "end_time": "2019-12-25T08:06:38.085735Z",
     "start_time": "2019-12-25T08:06:38.068800Z"
    },
    "scrolled": true
   },
   "outputs": [],
   "source": [
    "df_fea.head(10)"
   ]
  },
  {
   "cell_type": "markdown",
   "metadata": {},
   "source": [
    "### tfidf"
   ]
  },
  {
   "cell_type": "code",
   "execution_count": null,
   "metadata": {
    "ExecuteTime": {
     "end_time": "2019-12-25T08:06:38.098108Z",
     "start_time": "2019-12-25T08:06:38.086918Z"
    },
    "colab": {},
    "colab_type": "code",
    "id": "l2Dgkdt6pZw_"
   },
   "outputs": [],
   "source": [
    "tfidf_size = 100\n",
    "tfidf_cols = ['tfidf_{}'.format(i) for i in range(tfidf_size)]"
   ]
  },
  {
   "cell_type": "code",
   "execution_count": null,
   "metadata": {
    "ExecuteTime": {
     "end_time": "2019-12-25T08:06:42.763071Z",
     "start_time": "2019-12-25T08:06:38.099321Z"
    },
    "colab": {},
    "colab_type": "code",
    "id": "VW9twTKxpZxC",
    "scrolled": true
   },
   "outputs": [],
   "source": [
    "from sklearn.feature_extraction.text import TfidfVectorizer\n",
    "vectorizer = TfidfVectorizer(max_features=tfidf_size)\n",
    "\n",
    "df_tfidf = pd.DataFrame(vectorizer.fit_transform(df_fea['nouns'].apply(lambda x: ' '.join(x))).toarray(), columns=tfidf_cols)"
   ]
  },
  {
   "cell_type": "markdown",
   "metadata": {},
   "source": [
    "### Merged"
   ]
  },
  {
   "cell_type": "code",
   "execution_count": null,
   "metadata": {
    "ExecuteTime": {
     "end_time": "2019-12-25T08:06:42.766094Z",
     "start_time": "2019-12-25T08:06:42.763927Z"
    },
    "colab": {
     "base_uri": "https://localhost:8080/",
     "height": 34
    },
    "colab_type": "code",
    "executionInfo": {
     "elapsed": 185503,
     "status": "ok",
     "timestamp": 1576287090605,
     "user": {
      "displayName": "주이클",
      "photoUrl": "https://lh3.googleusercontent.com/a-/AAuE7mCWVh4nvn9788qUddhoWTl5qQoYt0bzVMDlJWUumTg=s64",
      "userId": "02708070532256873610"
     },
     "user_tz": -540
    },
    "id": "4f9oWotspZxF",
    "outputId": "6e0f2830-c6ef-4e00-9b0b-19ea6751dad0"
   },
   "outputs": [],
   "source": [
    "df_fea.shape, df_tfidf.shape"
   ]
  },
  {
   "cell_type": "code",
   "execution_count": null,
   "metadata": {
    "ExecuteTime": {
     "end_time": "2019-12-25T08:06:43.118334Z",
     "start_time": "2019-12-25T08:06:42.766744Z"
    },
    "colab": {
     "base_uri": "https://localhost:8080/",
     "height": 34
    },
    "colab_type": "code",
    "executionInfo": {
     "elapsed": 185886,
     "status": "ok",
     "timestamp": 1576287091044,
     "user": {
      "displayName": "주이클",
      "photoUrl": "https://lh3.googleusercontent.com/a-/AAuE7mCWVh4nvn9788qUddhoWTl5qQoYt0bzVMDlJWUumTg=s64",
      "userId": "02708070532256873610"
     },
     "user_tz": -540
    },
    "id": "7vNYccbBpZxN",
    "outputId": "85f99c86-8486-4acd-a5f7-f551d3d8b641"
   },
   "outputs": [],
   "source": [
    "df_merged = pd.concat([df_fea.reset_index(), df_tfidf[tfidf_cols]], axis=1)\n",
    "df_merged.shape"
   ]
  },
  {
   "cell_type": "code",
   "execution_count": null,
   "metadata": {
    "ExecuteTime": {
     "end_time": "2019-12-25T08:06:43.135342Z",
     "start_time": "2019-12-25T08:06:43.119136Z"
    },
    "colab": {},
    "colab_type": "code",
    "id": "6Fyipoj2pZxP",
    "scrolled": true
   },
   "outputs": [],
   "source": [
    "df_merged.head(10)"
   ]
  },
  {
   "cell_type": "code",
   "execution_count": null,
   "metadata": {
    "ExecuteTime": {
     "end_time": "2019-12-25T08:06:43.142247Z",
     "start_time": "2019-12-25T08:06:43.135994Z"
    },
    "colab": {},
    "colab_type": "code",
    "id": "QKsa5lohpZxS"
   },
   "outputs": [],
   "source": [
    "# df_merged.to_csv('data_{}.csv'.format(ts))"
   ]
  },
  {
   "cell_type": "code",
   "execution_count": null,
   "metadata": {
    "ExecuteTime": {
     "end_time": "2019-12-25T08:06:43.150507Z",
     "start_time": "2019-12-25T08:06:43.143198Z"
    },
    "colab": {
     "base_uri": "https://localhost:8080/",
     "height": 1000
    },
    "colab_type": "code",
    "executionInfo": {
     "elapsed": 185838,
     "status": "ok",
     "timestamp": 1576287091046,
     "user": {
      "displayName": "주이클",
      "photoUrl": "https://lh3.googleusercontent.com/a-/AAuE7mCWVh4nvn9788qUddhoWTl5qQoYt0bzVMDlJWUumTg=s64",
      "userId": "02708070532256873610"
     },
     "user_tz": -540
    },
    "id": "QOi9dYzqpZxV",
    "outputId": "9ceb7e20-059e-4946-934e-ab85c98dca56"
   },
   "outputs": [],
   "source": [
    "cat_cols = []\n",
    "fea_cols = w2v_cols + tfidf_cols + cat_cols\n",
    "\n",
    "fea_cols"
   ]
  },
  {
   "cell_type": "code",
   "execution_count": null,
   "metadata": {
    "ExecuteTime": {
     "end_time": "2019-12-25T08:06:43.155915Z",
     "start_time": "2019-12-25T08:06:43.151513Z"
    },
    "colab": {},
    "colab_type": "code",
    "id": "KRn0rFEq5Pns"
   },
   "outputs": [],
   "source": [
    "train_size = len(df_train)\n",
    "print(train_size)"
   ]
  },
  {
   "cell_type": "markdown",
   "metadata": {},
   "source": [
    "### Model"
   ]
  },
  {
   "cell_type": "code",
   "execution_count": null,
   "metadata": {
    "ExecuteTime": {
     "end_time": "2019-12-25T10:18:41.836589Z",
     "start_time": "2019-12-25T10:18:41.757034Z"
    },
    "colab": {
     "base_uri": "https://localhost:8080/",
     "height": 51
    },
    "colab_type": "code",
    "executionInfo": {
     "elapsed": 187149,
     "status": "ok",
     "timestamp": 1576287092380,
     "user": {
      "displayName": "주이클",
      "photoUrl": "https://lh3.googleusercontent.com/a-/AAuE7mCWVh4nvn9788qUddhoWTl5qQoYt0bzVMDlJWUumTg=s64",
      "userId": "02708070532256873610"
     },
     "user_tz": -540
    },
    "id": "LCEEOdJK4__q",
    "outputId": "24fb71a8-e639-43d1-b476-d617adfff1e7"
   },
   "outputs": [],
   "source": [
    "from sklearn.model_selection import train_test_split\n",
    "from sklearn.model_selection import StratifiedKFold\n",
    "\n",
    "lgb_ts = datetime.now().strftime('%Y%m%dT%H%M%S')\n",
    "\n",
    "initscore_filename = ''\n",
    "params = {\n",
    "    'boosting':'gbdt',\n",
    "#     'boosting':'dart',\n",
    "    'num_leaves': 15, \n",
    "    'objective': 'binary',\n",
    "    'metric':'auc',\n",
    "    'num_threads': 16,\n",
    "    'learning_rate': 0.01,\n",
    "    'is_unbalance': True,\n",
    "    'bagging_fraction':0.15,\n",
    "    'bagging_freq':20,\n",
    "    'feature_fraction':0.1,\n",
    "    'initscore_filename':initscore_filename,\n",
    "#     'lambda_l1':200,\n",
    "#     'lambda_l2':2000,\n",
    "    'device_type':'gpu',\n",
    "}\n",
    "num_round = 10000\n",
    "\n",
    "[df_test.drop(c, axis=1, inplace=True) for c in df_test.columns if 'smishing_' in c]\n",
    "\n",
    "df_test = df_merged.loc[train_size:]"
   ]
  },
  {
   "cell_type": "code",
   "execution_count": null,
   "metadata": {
    "ExecuteTime": {
     "end_time": "2019-12-25T11:35:21.079605Z",
     "start_time": "2019-12-25T10:19:36.657797Z"
    },
    "colab": {
     "base_uri": "https://localhost:8080/",
     "height": 51
    },
    "colab_type": "code",
    "executionInfo": {
     "elapsed": 187149,
     "status": "ok",
     "timestamp": 1576287092380,
     "user": {
      "displayName": "주이클",
      "photoUrl": "https://lh3.googleusercontent.com/a-/AAuE7mCWVh4nvn9788qUddhoWTl5qQoYt0bzVMDlJWUumTg=s64",
      "userId": "02708070532256873610"
     },
     "user_tz": -540
    },
    "id": "LCEEOdJK4__q",
    "outputId": "24fb71a8-e639-43d1-b476-d617adfff1e7",
    "scrolled": false
   },
   "outputs": [],
   "source": [
    "# model_index, hidden_index = train_test_split(range(train_size),     \n",
    "#     test_size=0.1, random_state=1984)\n",
    "\n",
    "skf_g = StratifiedKFold(n_splits=11)\n",
    "cnt_g = 0\n",
    "\n",
    "for model_index, hidden_index in skf_g.split(range(train_size), df_train['smishing'].values):\n",
    "    cnt_g = cnt_g + 1\n",
    "    df_model = df_merged.iloc[model_index]\n",
    "    df_hidden = df_merged.iloc[hidden_index]\n",
    "    print('model_set\\n', df_model['smishing'].value_counts())\n",
    "    print('hidden_set\\n', df_hidden['smishing'].value_counts())\n",
    "    \n",
    "    [df_model.drop(c, axis=1, inplace=True) for c in df_model.columns if 'smishing_' in c]\n",
    "    [df_hidden.drop(c, axis=1, inplace=True) for c in df_hidden.columns if 'smishing_' in c]\n",
    "\n",
    "\n",
    "    X = df_model[fea_cols].values\n",
    "    y = df_model['smishing'].values\n",
    "#     print(np.unique(y, return_counts=True))\n",
    "\n",
    "    X_hidden = df_hidden[fea_cols].values\n",
    "    y_hidden = df_hidden['smishing'].values\n",
    "#     print(np.unique(y_hidden, return_counts=True))\n",
    "\n",
    "    skf = StratifiedKFold(n_splits=10)\n",
    "#     print(skf)\n",
    "    cnt = 0\n",
    "    train_data = lgb.Dataset(X, label=y, feature_name=fea_cols, categorical_feature=cat_cols, free_raw_data=False)\n",
    "\n",
    "    for train_index, valid_index in skf.split(X, y):\n",
    "        cnt = cnt + 1\n",
    "        print('\\n', cnt_g, '*' * 20, cnt, '*' * 20)\n",
    "\n",
    "        train_set = train_data.subset(train_index).construct()\n",
    "        valid_set = train_data.subset(valid_index).construct()\n",
    "        print('train_set', np.unique(train_set.get_label(), return_counts=True))\n",
    "        print('valid_set', np.unique(valid_set.get_label(), return_counts=True))\n",
    "        bst = lgb.train(params, train_set, num_round, categorical_feature=cat_cols,\n",
    "                        early_stopping_rounds=500, \n",
    "                        valid_sets=[train_set, valid_set],\n",
    "                        verbose_eval=200,\n",
    "                        # init_model=init_model,\n",
    "                       )\n",
    "        impt_dict = {k:v for k, v in zip(fea_cols, bst.feature_importance())}\n",
    "        del_fea_cols = []\n",
    "        print(sorted(impt_dict.items(), key=(lambda x:x[1]), reverse=True)[:5])\n",
    "    #     for r in sorted(impt_dict.items(), key=(lambda x:x[1]), reverse=True):\n",
    "    #         print(r)\n",
    "    #         if r[1] < 1:\n",
    "    #             del_fea_cols.append(r[0])\n",
    "    #     print(del_fea_cols)\n",
    "    #     print(len(del_fea_cols))\n",
    "    #     lgb.plot_importance(bst, height=0.3, figsize=(20, 100), max_num_features=100)\n",
    "        df_model['smishing_{}_{}'.format(cnt_g, cnt)] = bst.predict(X)        \n",
    "        df_hidden['smishing_{}_{}'.format(cnt_g, cnt)] = bst.predict(X_hidden)        \n",
    "        df_test['smishing_{}_{}'.format(cnt_g, cnt)] = bst.predict(df_test[fea_cols].values)    \n",
    "\n",
    "    # Predict 정리\n",
    "    y = df_hidden['smishing'].values\n",
    "    pred = df_hidden[[c for c in df_hidden.columns if 'smishing_' in c]].mean(axis=1)\n",
    "    \n",
    "    fpr, tpr, thresholds = metrics.roc_curve(y, pred, pos_label=1)\n",
    "    print('\\n', '#' * 10, cnt_g, 'auc:', metrics.auc(fpr, tpr))"
   ]
  },
  {
   "cell_type": "code",
   "execution_count": null,
   "metadata": {
    "ExecuteTime": {
     "end_time": "2019-12-25T11:55:58.097165Z",
     "start_time": "2019-12-25T11:55:58.080404Z"
    },
    "scrolled": true
   },
   "outputs": [],
   "source": [
    "pred_cols = [c for c in df_test.columns if 'smishing_' in c]\n",
    "print(len(pred_cols))\n",
    "df_test['pred_max'] = df_test[pred_cols].max(axis=1)\n",
    "df_test['pred_min'] = df_test[pred_cols].min(axis=1)\n",
    "df_test['pred_mean'] = df_test[pred_cols].mean(axis=1)\n",
    "df_test['pred_std'] = df_test[pred_cols].std(axis=1)"
   ]
  },
  {
   "cell_type": "code",
   "execution_count": null,
   "metadata": {
    "ExecuteTime": {
     "end_time": "2019-12-25T11:56:01.911429Z",
     "start_time": "2019-12-25T11:56:01.907860Z"
    }
   },
   "outputs": [],
   "source": [
    "df_test['pred_std'].max()"
   ]
  },
  {
   "cell_type": "code",
   "execution_count": null,
   "metadata": {
    "ExecuteTime": {
     "end_time": "2019-12-25T11:56:04.462502Z",
     "start_time": "2019-12-25T11:56:04.459093Z"
    }
   },
   "outputs": [],
   "source": [
    "df_test['pred_std'].min()"
   ]
  },
  {
   "cell_type": "code",
   "execution_count": null,
   "metadata": {
    "ExecuteTime": {
     "end_time": "2019-12-25T11:56:48.025931Z",
     "start_time": "2019-12-25T11:56:47.846957Z"
    }
   },
   "outputs": [],
   "source": [
    "df_test['pred_mean'].hist(bins=100)"
   ]
  },
  {
   "cell_type": "code",
   "execution_count": null,
   "metadata": {
    "ExecuteTime": {
     "end_time": "2019-12-25T11:59:27.394362Z",
     "start_time": "2019-12-25T11:59:27.381280Z"
    }
   },
   "outputs": [],
   "source": [
    "df_test.sort_values('pred_mean', ascending=False)[['text', 'pred_mean']].to_csv('')"
   ]
  },
  {
   "cell_type": "code",
   "execution_count": null,
   "metadata": {
    "ExecuteTime": {
     "end_time": "2019-12-25T11:56:16.739372Z",
     "start_time": "2019-12-25T11:56:16.736272Z"
    }
   },
   "outputs": [],
   "source": [
    "lgb_ts"
   ]
  },
  {
   "cell_type": "code",
   "execution_count": null,
   "metadata": {
    "ExecuteTime": {
     "end_time": "2019-12-25T12:01:04.376535Z",
     "start_time": "2019-12-25T12:01:04.344248Z"
    }
   },
   "outputs": [],
   "source": [
    "df_test['smishing'] = df_test['pred_mean']\n",
    "df_test[['id', 'smishing']].to_csv('{}.csv'.format(lgb_ts), index=False)\n",
    "df_test[['id', 'smishing', 'text']].sort_values('smishing', ascending=False).to_csv('{}_text.csv'.format(lgb_ts), index=False)"
   ]
  },
  {
   "cell_type": "code",
   "execution_count": null,
   "metadata": {
    "ExecuteTime": {
     "end_time": "2019-12-25T08:13:24.967116Z",
     "start_time": "2019-12-25T08:12:06.430738Z"
    }
   },
   "outputs": [],
   "source": [
    "# eval_hist = lgb.cv(params, train_data, num_boost_round=num_round, nfold=20, stratified=True, shuffle=True, \n",
    "#        metrics=None, fobj=None, feval=None, init_model=None, feature_name='auto', categorical_feature='auto',\n",
    "#        early_stopping_rounds=500, fpreproc=None, verbose_eval=100, show_stdv=True, seed=0, callbacks=None,\n",
    "#        eval_train_metric=False)\n"
   ]
  },
  {
   "cell_type": "code",
   "execution_count": null,
   "metadata": {
    "ExecuteTime": {
     "end_time": "2019-12-25T07:41:51.005807Z",
     "start_time": "2019-12-25T07:39:53.383729Z"
    },
    "colab": {
     "base_uri": "https://localhost:8080/",
     "height": 1000
    },
    "colab_type": "code",
    "id": "DmPNoCIz7TfX",
    "outputId": "6e7f53bc-4dd2-40e2-86be-4b1c46825d0c"
   },
   "outputs": [],
   "source": [
    "# for train_index, valid_index in skf.split(X, y):\n",
    "#     cnt = cnt + 1\n",
    "#     print('\\n', '*' * 20, cnt, '*' * 20)\n",
    "    \n",
    "#     # init_bst_name = 'model.txt'\n",
    "#     # init_model = joblib.load(init_bst_name)\n",
    "#     # bst = None\n",
    "#     # init_model = bst\n",
    "#     train_set = train_data.subset(train_index).construct()\n",
    "#     valid_set = train_data.subset(valid_index).construct()\n",
    "#     print('train_set', np.unique(train_set.get_label(), return_counts=True))\n",
    "#     print('valid_set', np.unique(valid_set.get_label(), return_counts=True))\n",
    "#     bst = lgb.train(param, train_set, num_round, categorical_feature=cat_cols,\n",
    "#                     early_stopping_rounds=200, \n",
    "#                     valid_sets=[train_set, valid_set],\n",
    "#                     verbose_eval=200,\n",
    "#                     # init_model=init_model,\n",
    "#                    )\n",
    "#     impt_dict = {k:v for k, v in zip(fea_cols, bst.feature_importance())}\n",
    "#     del_fea_cols = []\n",
    "#     print(sorted(impt_dict.items(), key=(lambda x:x[1]), reverse=True)[:5])\n",
    "# #     for r in sorted(impt_dict.items(), key=(lambda x:x[1]), reverse=True):\n",
    "# #         print(r)\n",
    "# #         if r[1] < 1:\n",
    "# #             del_fea_cols.append(r[0])\n",
    "# #     print(del_fea_cols)\n",
    "# #     print(len(del_fea_cols))\n",
    "# #     lgb.plot_importance(bst, height=0.3, figsize=(20, 100), max_num_features=100)\n",
    "#     df_model['smishing_{}'.format(cnt)] = bst.predict(X)        \n",
    "#     df_hidden['smishing_{}'.format(cnt)] = bst.predict(X_hidden)        \n",
    "#     df_test['smishing_{}'.format(cnt)] = bst.predict(df_test[fea_cols].values)    "
   ]
  },
  {
   "cell_type": "code",
   "execution_count": null,
   "metadata": {
    "colab": {},
    "colab_type": "code",
    "id": "dtoNNPnG75fT"
   },
   "outputs": [],
   "source": []
  }
 ],
 "metadata": {
  "accelerator": "GPU",
  "colab": {
   "collapsed_sections": [],
   "name": "mecab_tfidf.ipynb",
   "provenance": []
  },
  "kernelspec": {
   "display_name": "Python 3",
   "language": "python",
   "name": "python3"
  },
  "language_info": {
   "codemirror_mode": {
    "name": "ipython",
    "version": 3
   },
   "file_extension": ".py",
   "mimetype": "text/x-python",
   "name": "python",
   "nbconvert_exporter": "python",
   "pygments_lexer": "ipython3",
   "version": "3.7.4"
  },
  "toc": {
   "base_numbering": 1,
   "nav_menu": {},
   "number_sections": true,
   "sideBar": true,
   "skip_h1_title": false,
   "title_cell": "Table of Contents",
   "title_sidebar": "Contents",
   "toc_cell": false,
   "toc_position": {
    "height": "calc(100% - 180px)",
    "left": "10px",
    "top": "150px",
    "width": "165px"
   },
   "toc_section_display": true,
   "toc_window_display": true
  }
 },
 "nbformat": 4,
 "nbformat_minor": 1
}
