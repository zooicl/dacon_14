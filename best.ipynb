{
 "cells": [
  {
   "cell_type": "code",
   "execution_count": null,
   "metadata": {
    "ExecuteTime": {
     "end_time": "2019-12-31T05:39:17.266987Z",
     "start_time": "2019-12-31T05:39:17.245308Z"
    }
   },
   "outputs": [],
   "source": [
    "get_ipython().run_line_magic('matplotlib', 'inline')\n",
    "import pandas as pd\n",
    "import numpy as np\n",
    "import seaborn as sns\n",
    "\n",
    "from datetime import datetime\n",
    "\n",
    "from sklearn.externals import joblib "
   ]
  },
  {
   "cell_type": "code",
   "execution_count": null,
   "metadata": {
    "ExecuteTime": {
     "end_time": "2019-12-31T05:39:17.332419Z",
     "start_time": "2019-12-31T05:39:17.330435Z"
    },
    "scrolled": true
   },
   "outputs": [],
   "source": [
    "# for i in range(5):\n",
    "#     load_csv('20191230T191206{}.csv'.format(i), 'blue')"
   ]
  },
  {
   "cell_type": "code",
   "execution_count": null,
   "metadata": {
    "ExecuteTime": {
     "end_time": "2019-12-31T05:39:17.739219Z",
     "start_time": "2019-12-31T05:39:17.731446Z"
    }
   },
   "outputs": [],
   "source": [
    "def load_csv(csv_path, c):\n",
    "    df = pd.read_csv(csv_path)\n",
    "    display((df['smishing'] * 10).astype(int).value_counts(sort=False))\n",
    "    df.plot(kind='scatter', x='id', y='smishing', figsize=(20, 5), s=5, c=c)\n",
    "    df['tag'] = csv_path[-8:-4]\n",
    "    df['color'] = c\n",
    "    return df"
   ]
  },
  {
   "cell_type": "code",
   "execution_count": null,
   "metadata": {
    "ExecuteTime": {
     "end_time": "2019-12-31T05:42:52.103642Z",
     "start_time": "2019-12-31T05:42:51.643745Z"
    }
   },
   "outputs": [],
   "source": [
    "dfs = []\n",
    "for i in [0, 2, 3, 4]:\n",
    "    df = load_csv('20191231T141708_smishing_{}.csv'.format(i), 'blue')\n",
    "    dfs.append(df)"
   ]
  },
  {
   "cell_type": "code",
   "execution_count": null,
   "metadata": {
    "ExecuteTime": {
     "end_time": "2019-12-31T07:13:44.781669Z",
     "start_time": "2019-12-31T07:13:43.878057Z"
    },
    "scrolled": false
   },
   "outputs": [],
   "source": [
    "# df_t2 = load_csv('20191230T010609.csv', 'red')\n",
    "df_t1_nn = load_csv('submit/20191229T074522.csv', 'green')\n",
    "df_t1 = load_csv('submit/20191231T120011.csv', 'red')\n",
    "\n",
    "df_curr = load_csv('submit/20191231T154959.csv', 'blue')\n",
    "\n",
    "df_bad = load_csv('submit/20191231T151938_smishing_0.csv', 'gray')\n",
    "\n",
    "# df_best_dart = load_csv('20191230T213920.csv', 'green')"
   ]
  },
  {
   "cell_type": "code",
   "execution_count": null,
   "metadata": {},
   "outputs": [],
   "source": []
  },
  {
   "cell_type": "code",
   "execution_count": null,
   "metadata": {
    "ExecuteTime": {
     "end_time": "2019-12-30T17:02:46.935352Z",
     "start_time": "2019-12-30T17:02:46.930045Z"
    }
   },
   "outputs": [],
   "source": [
    "# df = df_best[['id']]\n",
    "# df['smishing'] = (df_best['smishing'] + df_best_nn['smishing']) / 2\n",
    "\n",
    "# df.to_csv('e2.csv', index=False)"
   ]
  },
  {
   "cell_type": "code",
   "execution_count": null,
   "metadata": {
    "ExecuteTime": {
     "end_time": "2019-12-31T05:40:12.419836Z",
     "start_time": "2019-12-31T05:40:12.408709Z"
    }
   },
   "outputs": [],
   "source": [
    "np.linalg.norm(df_t1_nn['smishing'].values - df_curr['smishing'].values)"
   ]
  },
  {
   "cell_type": "code",
   "execution_count": null,
   "metadata": {
    "ExecuteTime": {
     "end_time": "2019-12-31T05:40:21.233790Z",
     "start_time": "2019-12-31T05:40:21.219488Z"
    }
   },
   "outputs": [],
   "source": [
    "dfs = [\n",
    "    df_t1,\n",
    "#     df_best_nn\n",
    "    df_curr,\n",
    "#     df_best_dart\n",
    "#     load_csv('20191230T010609_2.csv', 'gray'),\n",
    "#     load_csv('20191230T124144.csv', 'green'),\n",
    "#     load_csv('20191230T191206_go.csv', 'blue')\n",
    "#     load_csv('submit/20191228T112709.csv', 'green'),\n",
    "]\n",
    "df = pd.concat(dfs).reset_index()\n"
   ]
  },
  {
   "cell_type": "code",
   "execution_count": null,
   "metadata": {
    "ExecuteTime": {
     "end_time": "2019-12-31T05:40:23.398769Z",
     "start_time": "2019-12-31T05:40:23.162694Z"
    }
   },
   "outputs": [],
   "source": [
    "df.plot(kind='scatter', x='id', y='smishing', figsize=(20, 10), s=4, c=df['color'])"
   ]
  },
  {
   "cell_type": "code",
   "execution_count": null,
   "metadata": {
    "ExecuteTime": {
     "end_time": "2019-12-30T14:36:38.389629Z",
     "start_time": "2019-12-30T14:36:38.245314Z"
    }
   },
   "outputs": [],
   "source": [
    "pos = 341000\n",
    "cond = (pos < df['id']) & (df['id'] < pos + 100)\n",
    "print(df[cond].shape)\n",
    "df[cond].plot(kind='scatter', x='id', y='smishing', figsize=(20, 10), s=4, c=df[cond]['color'])\n"
   ]
  },
  {
   "cell_type": "code",
   "execution_count": null,
   "metadata": {
    "ExecuteTime": {
     "end_time": "2019-12-30T04:17:54.802267Z",
     "start_time": "2019-12-30T04:17:54.792790Z"
    }
   },
   "outputs": [],
   "source": [
    "df"
   ]
  },
  {
   "cell_type": "code",
   "execution_count": null,
   "metadata": {
    "ExecuteTime": {
     "end_time": "2019-12-30T04:06:58.629623Z",
     "start_time": "2019-12-30T04:06:58.618418Z"
    }
   },
   "outputs": [],
   "source": [
    "np.linalg.norm(df1['smishing'].values - df1_2['smishing'].values)"
   ]
  },
  {
   "cell_type": "code",
   "execution_count": null,
   "metadata": {
    "ExecuteTime": {
     "end_time": "2019-12-30T04:07:14.048032Z",
     "start_time": "2019-12-30T04:07:14.043192Z"
    }
   },
   "outputs": [],
   "source": [
    "np.linalg.norm(df2['smishing'].values - df1_2['smishing'].values)"
   ]
  },
  {
   "cell_type": "code",
   "execution_count": null,
   "metadata": {
    "ExecuteTime": {
     "end_time": "2019-12-30T04:06:05.549125Z",
     "start_time": "2019-12-30T04:06:05.537297Z"
    }
   },
   "outputs": [],
   "source": [
    "np.linalg.norm(df1['smishing'].values - df3['smishing'].values)"
   ]
  },
  {
   "cell_type": "code",
   "execution_count": null,
   "metadata": {
    "ExecuteTime": {
     "end_time": "2019-12-30T04:06:13.944749Z",
     "start_time": "2019-12-30T04:06:13.934045Z"
    }
   },
   "outputs": [],
   "source": [
    "np.linalg.norm(df2['smishing'].values - df3['smishing'].values)"
   ]
  },
  {
   "cell_type": "code",
   "execution_count": null,
   "metadata": {
    "ExecuteTime": {
     "end_time": "2019-12-30T04:06:19.262909Z",
     "start_time": "2019-12-30T04:06:19.258995Z"
    }
   },
   "outputs": [],
   "source": [
    "np.linalg.norm(df1['smishing'].values - df2['smishing'].values)"
   ]
  },
  {
   "cell_type": "code",
   "execution_count": null,
   "metadata": {
    "ExecuteTime": {
     "end_time": "2019-12-31T08:01:10.616489Z",
     "start_time": "2019-12-31T08:01:10.510549Z"
    }
   },
   "outputs": [],
   "source": [
    "f1 = joblib.load('data/df_merged_20191231T165424_6099_fea_dict.pkl')\n",
    "f2 = joblib.load('data/df_merged_20191231T162533_2022_fea_dict.pkl')"
   ]
  },
  {
   "cell_type": "code",
   "execution_count": null,
   "metadata": {
    "ExecuteTime": {
     "end_time": "2019-12-31T08:02:19.028538Z",
     "start_time": "2019-12-31T08:02:19.017058Z"
    }
   },
   "outputs": [],
   "source": [
    "set(f1.values()) & set(f2.values())"
   ]
  },
  {
   "cell_type": "code",
   "execution_count": null,
   "metadata": {
    "ExecuteTime": {
     "end_time": "2019-12-31T08:01:17.601251Z",
     "start_time": "2019-12-31T08:01:17.584297Z"
    }
   },
   "outputs": [],
   "source": [
    "f2"
   ]
  },
  {
   "cell_type": "code",
   "execution_count": null,
   "metadata": {},
   "outputs": [],
   "source": []
  }
 ],
 "metadata": {
  "kernelspec": {
   "display_name": "Python 3",
   "language": "python",
   "name": "python3"
  },
  "language_info": {
   "codemirror_mode": {
    "name": "ipython",
    "version": 3
   },
   "file_extension": ".py",
   "mimetype": "text/x-python",
   "name": "python",
   "nbconvert_exporter": "python",
   "pygments_lexer": "ipython3",
   "version": "3.7.4"
  },
  "toc": {
   "base_numbering": 1,
   "nav_menu": {},
   "number_sections": true,
   "sideBar": true,
   "skip_h1_title": false,
   "title_cell": "Table of Contents",
   "title_sidebar": "Contents",
   "toc_cell": false,
   "toc_position": {},
   "toc_section_display": true,
   "toc_window_display": false
  }
 },
 "nbformat": 4,
 "nbformat_minor": 2
}
