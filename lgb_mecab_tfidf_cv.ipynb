{
 "cells": [
  {
   "cell_type": "code",
   "execution_count": 1,
   "metadata": {
    "ExecuteTime": {
     "end_time": "2019-12-25T16:01:18.681614Z",
     "start_time": "2019-12-25T16:01:18.111354Z"
    },
    "colab": {
     "base_uri": "https://localhost:8080/",
     "height": 71
    },
    "colab_type": "code",
    "executionInfo": {
     "elapsed": 1590,
     "status": "ok",
     "timestamp": 1576286906380,
     "user": {
      "displayName": "주이클",
      "photoUrl": "https://lh3.googleusercontent.com/a-/AAuE7mCWVh4nvn9788qUddhoWTl5qQoYt0bzVMDlJWUumTg=s64",
      "userId": "02708070532256873610"
     },
     "user_tz": -540
    },
    "id": "U3xmRNtgpZwi",
    "outputId": "f6e95e03-5913-4a53-9ff3-1b6cde1b5a82"
   },
   "outputs": [
    {
     "name": "stderr",
     "output_type": "stream",
     "text": [
      "/home/aiden/anaconda3/lib/python3.7/site-packages/sklearn/externals/joblib/__init__.py:15: DeprecationWarning: sklearn.externals.joblib is deprecated in 0.21 and will be removed in 0.23. Please import this functionality directly from joblib, which can be installed with: pip install joblib. If this warning is raised when loading pickled models, you may need to re-serialize those models with scikit-learn 0.21+.\n",
      "  warnings.warn(msg, category=DeprecationWarning)\n"
     ]
    },
    {
     "name": "stdout",
     "output_type": "stream",
     "text": [
      "2.3.2\n"
     ]
    }
   ],
   "source": [
    "#!/usr/bin/env python\n",
    "# coding: utf-8\n",
    "get_ipython().run_line_magic('matplotlib', 'inline')\n",
    "import pandas as pd\n",
    "import time\n",
    "import numpy as np\n",
    "from datetime import datetime\n",
    "from sklearn.externals import joblib \n",
    "import os\n",
    "from konlpy.tag import Mecab\n",
    "import lightgbm as lgb\n",
    "print(lgb.__version__)\n",
    "\n",
    "from sklearn import metrics"
   ]
  },
  {
   "cell_type": "code",
   "execution_count": 2,
   "metadata": {
    "ExecuteTime": {
     "end_time": "2019-12-25T16:01:18.685130Z",
     "start_time": "2019-12-25T16:01:18.682443Z"
    }
   },
   "outputs": [
    {
     "data": {
      "text/plain": [
       "'/home/aiden/src/dacon_14'"
      ]
     },
     "execution_count": 2,
     "metadata": {},
     "output_type": "execute_result"
    }
   ],
   "source": [
    "os.getcwd()"
   ]
  },
  {
   "cell_type": "code",
   "execution_count": 3,
   "metadata": {
    "ExecuteTime": {
     "end_time": "2019-12-25T16:01:20.388749Z",
     "start_time": "2019-12-25T16:01:19.224972Z"
    },
    "colab": {
     "base_uri": "https://localhost:8080/",
     "height": 34
    },
    "colab_type": "code",
    "executionInfo": {
     "elapsed": 4539,
     "status": "ok",
     "timestamp": 1576286909403,
     "user": {
      "displayName": "주이클",
      "photoUrl": "https://lh3.googleusercontent.com/a-/AAuE7mCWVh4nvn9788qUddhoWTl5qQoYt0bzVMDlJWUumTg=s64",
      "userId": "02708070532256873610"
     },
     "user_tz": -540
    },
    "id": "-Z8nNhp-pZwp",
    "outputId": "d9a4411d-a1d7-4dd0-b74d-7fdda5aa9ee9"
   },
   "outputs": [
    {
     "data": {
      "text/plain": [
       "(297571, 3)"
      ]
     },
     "execution_count": 3,
     "metadata": {},
     "output_type": "execute_result"
    }
   ],
   "source": [
    "base_path = '.'\n",
    "\n",
    "df_train = pd.read_csv(os.path.join(base_path , 'input/train.csv'), index_col=0)\n",
    "df_test = pd.read_csv(os.path.join(base_path , 'input/public_test.csv'), index_col=0)\n",
    "df_test['smishing'] = -1\n",
    "\n",
    "df_fea = pd.concat([df_train, df_test])\n",
    "df_fea.shape"
   ]
  },
  {
   "cell_type": "markdown",
   "metadata": {},
   "source": [
    "### Mecab"
   ]
  },
  {
   "cell_type": "code",
   "execution_count": 4,
   "metadata": {
    "ExecuteTime": {
     "end_time": "2019-12-25T16:02:37.107571Z",
     "start_time": "2019-12-25T16:01:20.913417Z"
    },
    "colab": {},
    "colab_type": "code",
    "id": "uquxguHUpZwt"
   },
   "outputs": [],
   "source": [
    "mecab = Mecab()\n",
    "# df_space['morphs'] = df_space['spacing'].apply(lambda x: mecab.morphs(x))\n",
    "df_fea['nouns'] = df_fea['text'].apply(lambda x: mecab.nouns(x))"
   ]
  },
  {
   "cell_type": "markdown",
   "metadata": {},
   "source": [
    "### tfidf"
   ]
  },
  {
   "cell_type": "code",
   "execution_count": 5,
   "metadata": {
    "ExecuteTime": {
     "end_time": "2019-12-25T16:02:42.087068Z",
     "start_time": "2019-12-25T16:02:37.108731Z"
    },
    "colab": {},
    "colab_type": "code",
    "id": "l2Dgkdt6pZw_"
   },
   "outputs": [],
   "source": [
    "from sklearn.feature_extraction.text import TfidfVectorizer\n",
    "\n",
    "tfidf_size = 100\n",
    "stop_words = [\n",
    "#    '은행',\n",
    "#     '고객',\n",
    "#     '가능',\n",
    "#     '전화',\n",
    "#     '기간',\n",
    "#     '대출',\n",
    "#     '금리',\n",
    "#     '상담',\n",
    "#     '광고',\n",
    "#     '상품',\n",
    "#     '센터',\n",
    "]\n",
    "vectorizer = TfidfVectorizer(max_features=tfidf_size, stop_words=stop_words)\n",
    "\n",
    "tfidf = vectorizer.fit_transform(df_fea['nouns'].apply(lambda x: ' '.join(x))).toarray()\n",
    "tfidf_dict = {'tfidf_{0:03d}'.format(v):'tfidf_{}_{}'.format(v, k) for k, v in sorted(vectorizer.vocabulary_.items(), key=lambda item: item[1])}\n",
    "tfidf_cols = sorted(tfidf_dict.keys())\n",
    "\n",
    "df_tfidf = pd.DataFrame(tfidf, columns=tfidf_cols)"
   ]
  },
  {
   "cell_type": "markdown",
   "metadata": {},
   "source": [
    "### Merged"
   ]
  },
  {
   "cell_type": "code",
   "execution_count": 6,
   "metadata": {
    "ExecuteTime": {
     "end_time": "2019-12-25T16:02:42.090619Z",
     "start_time": "2019-12-25T16:02:42.088284Z"
    },
    "colab": {
     "base_uri": "https://localhost:8080/",
     "height": 34
    },
    "colab_type": "code",
    "executionInfo": {
     "elapsed": 185503,
     "status": "ok",
     "timestamp": 1576287090605,
     "user": {
      "displayName": "주이클",
      "photoUrl": "https://lh3.googleusercontent.com/a-/AAuE7mCWVh4nvn9788qUddhoWTl5qQoYt0bzVMDlJWUumTg=s64",
      "userId": "02708070532256873610"
     },
     "user_tz": -540
    },
    "id": "4f9oWotspZxF",
    "outputId": "6e0f2830-c6ef-4e00-9b0b-19ea6751dad0"
   },
   "outputs": [
    {
     "data": {
      "text/plain": [
       "((297571, 4), (297571, 100))"
      ]
     },
     "execution_count": 6,
     "metadata": {},
     "output_type": "execute_result"
    }
   ],
   "source": [
    "df_fea.shape, df_tfidf.shape"
   ]
  },
  {
   "cell_type": "code",
   "execution_count": 7,
   "metadata": {
    "ExecuteTime": {
     "end_time": "2019-12-25T16:02:42.411485Z",
     "start_time": "2019-12-25T16:02:42.091488Z"
    },
    "colab": {
     "base_uri": "https://localhost:8080/",
     "height": 34
    },
    "colab_type": "code",
    "executionInfo": {
     "elapsed": 185886,
     "status": "ok",
     "timestamp": 1576287091044,
     "user": {
      "displayName": "주이클",
      "photoUrl": "https://lh3.googleusercontent.com/a-/AAuE7mCWVh4nvn9788qUddhoWTl5qQoYt0bzVMDlJWUumTg=s64",
      "userId": "02708070532256873610"
     },
     "user_tz": -540
    },
    "id": "7vNYccbBpZxN",
    "outputId": "85f99c86-8486-4acd-a5f7-f551d3d8b641"
   },
   "outputs": [
    {
     "data": {
      "text/plain": [
       "(297571, 105)"
      ]
     },
     "execution_count": 7,
     "metadata": {},
     "output_type": "execute_result"
    }
   ],
   "source": [
    "df_merged = pd.concat([df_fea.reset_index(), df_tfidf[tfidf_cols]], axis=1)\n",
    "df_merged.shape"
   ]
  },
  {
   "cell_type": "code",
   "execution_count": 8,
   "metadata": {
    "ExecuteTime": {
     "end_time": "2019-12-25T16:02:42.430255Z",
     "start_time": "2019-12-25T16:02:42.412383Z"
    },
    "colab": {},
    "colab_type": "code",
    "id": "6Fyipoj2pZxP",
    "scrolled": true
   },
   "outputs": [
    {
     "data": {
      "text/html": [
       "<div>\n",
       "<style scoped>\n",
       "    .dataframe tbody tr th:only-of-type {\n",
       "        vertical-align: middle;\n",
       "    }\n",
       "\n",
       "    .dataframe tbody tr th {\n",
       "        vertical-align: top;\n",
       "    }\n",
       "\n",
       "    .dataframe thead th {\n",
       "        text-align: right;\n",
       "    }\n",
       "</style>\n",
       "<table border=\"1\" class=\"dataframe\">\n",
       "  <thead>\n",
       "    <tr style=\"text-align: right;\">\n",
       "      <th></th>\n",
       "      <th>id</th>\n",
       "      <th>year_month</th>\n",
       "      <th>text</th>\n",
       "      <th>smishing</th>\n",
       "      <th>nouns</th>\n",
       "      <th>tfidf_000</th>\n",
       "      <th>tfidf_001</th>\n",
       "      <th>tfidf_002</th>\n",
       "      <th>tfidf_003</th>\n",
       "      <th>tfidf_004</th>\n",
       "      <th>...</th>\n",
       "      <th>tfidf_090</th>\n",
       "      <th>tfidf_091</th>\n",
       "      <th>tfidf_092</th>\n",
       "      <th>tfidf_093</th>\n",
       "      <th>tfidf_094</th>\n",
       "      <th>tfidf_095</th>\n",
       "      <th>tfidf_096</th>\n",
       "      <th>tfidf_097</th>\n",
       "      <th>tfidf_098</th>\n",
       "      <th>tfidf_099</th>\n",
       "    </tr>\n",
       "  </thead>\n",
       "  <tbody>\n",
       "    <tr>\n",
       "      <td>0</td>\n",
       "      <td>0</td>\n",
       "      <td>2017-01</td>\n",
       "      <td>XXX은행성산XXX팀장입니다.행복한주말되세요</td>\n",
       "      <td>0</td>\n",
       "      <td>[행성, 산, 팀장, 행복, 주말]</td>\n",
       "      <td>0.000000</td>\n",
       "      <td>0.0</td>\n",
       "      <td>0.0</td>\n",
       "      <td>0.000000</td>\n",
       "      <td>0.0</td>\n",
       "      <td>...</td>\n",
       "      <td>0.0</td>\n",
       "      <td>0.000000</td>\n",
       "      <td>0.678718</td>\n",
       "      <td>0.000000</td>\n",
       "      <td>0.000000</td>\n",
       "      <td>0.000000</td>\n",
       "      <td>0.440442</td>\n",
       "      <td>0.0</td>\n",
       "      <td>0.000000</td>\n",
       "      <td>0.000000</td>\n",
       "    </tr>\n",
       "    <tr>\n",
       "      <td>1</td>\n",
       "      <td>1</td>\n",
       "      <td>2017-01</td>\n",
       "      <td>오늘도많이웃으시는하루시작하세요XXX은행 진월동VIP라운지 XXX올림</td>\n",
       "      <td>0</td>\n",
       "      <td>[오늘, 하루, 시작, 은행, 진월동, 라운지]</td>\n",
       "      <td>0.000000</td>\n",
       "      <td>0.0</td>\n",
       "      <td>0.0</td>\n",
       "      <td>0.000000</td>\n",
       "      <td>0.0</td>\n",
       "      <td>...</td>\n",
       "      <td>0.0</td>\n",
       "      <td>0.000000</td>\n",
       "      <td>0.000000</td>\n",
       "      <td>0.000000</td>\n",
       "      <td>0.435313</td>\n",
       "      <td>0.000000</td>\n",
       "      <td>0.000000</td>\n",
       "      <td>0.0</td>\n",
       "      <td>0.000000</td>\n",
       "      <td>0.000000</td>\n",
       "    </tr>\n",
       "    <tr>\n",
       "      <td>2</td>\n",
       "      <td>2</td>\n",
       "      <td>2017-01</td>\n",
       "      <td>안녕하십니까 고객님. XXX은행입니다.금일 납부하셔야 할 금액은 153600원 입니...</td>\n",
       "      <td>0</td>\n",
       "      <td>[안녕, 고객, 은행, 금일, 납부, 금액, 원, 감사, 새해, 복, 은행, 옥포]</td>\n",
       "      <td>0.000000</td>\n",
       "      <td>0.0</td>\n",
       "      <td>0.0</td>\n",
       "      <td>0.296568</td>\n",
       "      <td>0.0</td>\n",
       "      <td>...</td>\n",
       "      <td>0.0</td>\n",
       "      <td>0.000000</td>\n",
       "      <td>0.000000</td>\n",
       "      <td>0.000000</td>\n",
       "      <td>0.000000</td>\n",
       "      <td>0.000000</td>\n",
       "      <td>0.000000</td>\n",
       "      <td>0.0</td>\n",
       "      <td>0.000000</td>\n",
       "      <td>0.000000</td>\n",
       "    </tr>\n",
       "    <tr>\n",
       "      <td>3</td>\n",
       "      <td>4</td>\n",
       "      <td>2017-01</td>\n",
       "      <td>XXX 고객님안녕하세요XXX은행 XXX지점입니다지난 한 해 동안 저희 XXX지점에 ...</td>\n",
       "      <td>0</td>\n",
       "      <td>[고객, 안녕, 은행, 지점, 해, 동안, 저희, 지점, 성원, 감사, 시작, 년,...</td>\n",
       "      <td>0.000000</td>\n",
       "      <td>0.0</td>\n",
       "      <td>0.0</td>\n",
       "      <td>0.142966</td>\n",
       "      <td>0.0</td>\n",
       "      <td>...</td>\n",
       "      <td>0.0</td>\n",
       "      <td>0.000000</td>\n",
       "      <td>0.000000</td>\n",
       "      <td>0.000000</td>\n",
       "      <td>0.000000</td>\n",
       "      <td>0.000000</td>\n",
       "      <td>0.323314</td>\n",
       "      <td>0.0</td>\n",
       "      <td>0.000000</td>\n",
       "      <td>0.000000</td>\n",
       "    </tr>\n",
       "    <tr>\n",
       "      <td>4</td>\n",
       "      <td>5</td>\n",
       "      <td>2017-01</td>\n",
       "      <td>1월은 새로움이 가득XXX입니다.올 한해 더 많이행복한 한해되시길바랍니다</td>\n",
       "      <td>0</td>\n",
       "      <td>[월, 한, 행복, 해]</td>\n",
       "      <td>0.000000</td>\n",
       "      <td>0.0</td>\n",
       "      <td>0.0</td>\n",
       "      <td>0.000000</td>\n",
       "      <td>0.0</td>\n",
       "      <td>...</td>\n",
       "      <td>0.0</td>\n",
       "      <td>0.000000</td>\n",
       "      <td>0.000000</td>\n",
       "      <td>0.000000</td>\n",
       "      <td>0.000000</td>\n",
       "      <td>0.000000</td>\n",
       "      <td>1.000000</td>\n",
       "      <td>0.0</td>\n",
       "      <td>0.000000</td>\n",
       "      <td>0.000000</td>\n",
       "    </tr>\n",
       "    <tr>\n",
       "      <td>5</td>\n",
       "      <td>6</td>\n",
       "      <td>2017-01</td>\n",
       "      <td>행복한주말보내세요XXX용현남전담직원대리 XXX올림</td>\n",
       "      <td>0</td>\n",
       "      <td>[행복, 주말, 현남, 전담, 직원, 대리]</td>\n",
       "      <td>0.000000</td>\n",
       "      <td>0.0</td>\n",
       "      <td>0.0</td>\n",
       "      <td>0.000000</td>\n",
       "      <td>0.0</td>\n",
       "      <td>...</td>\n",
       "      <td>0.0</td>\n",
       "      <td>0.000000</td>\n",
       "      <td>0.000000</td>\n",
       "      <td>0.000000</td>\n",
       "      <td>0.000000</td>\n",
       "      <td>0.000000</td>\n",
       "      <td>0.346004</td>\n",
       "      <td>0.0</td>\n",
       "      <td>0.000000</td>\n",
       "      <td>0.000000</td>\n",
       "    </tr>\n",
       "    <tr>\n",
       "      <td>6</td>\n",
       "      <td>7</td>\n",
       "      <td>2017-01</td>\n",
       "      <td>XXX 고객님 안녕하세요XXX은행 무교지점 XXX과장입니다 오늘 아침에 눈을 뜨니 ...</td>\n",
       "      <td>0</td>\n",
       "      <td>[고객, 안녕, 은행, 무교, 지점, 과장, 아침, 눈, 눈, 세상, 적, 눈, 눈...</td>\n",
       "      <td>0.000000</td>\n",
       "      <td>0.0</td>\n",
       "      <td>0.0</td>\n",
       "      <td>0.360218</td>\n",
       "      <td>0.0</td>\n",
       "      <td>...</td>\n",
       "      <td>0.0</td>\n",
       "      <td>0.000000</td>\n",
       "      <td>0.000000</td>\n",
       "      <td>0.000000</td>\n",
       "      <td>0.000000</td>\n",
       "      <td>0.000000</td>\n",
       "      <td>0.000000</td>\n",
       "      <td>0.0</td>\n",
       "      <td>0.000000</td>\n",
       "      <td>0.000000</td>\n",
       "    </tr>\n",
       "    <tr>\n",
       "      <td>7</td>\n",
       "      <td>8</td>\n",
       "      <td>2017-01</td>\n",
       "      <td>XXX 고객님지난 한해 베풀어 주신 은혜 진심으로 감사 드립니다.가슴 깊이 간직 하...</td>\n",
       "      <td>0</td>\n",
       "      <td>[고객, 한, 은혜, 진심, 감사, 가슴, 간직, 정유, 년, 새해, 가족, 행복,...</td>\n",
       "      <td>0.000000</td>\n",
       "      <td>0.0</td>\n",
       "      <td>0.0</td>\n",
       "      <td>0.509060</td>\n",
       "      <td>0.0</td>\n",
       "      <td>...</td>\n",
       "      <td>0.0</td>\n",
       "      <td>0.000000</td>\n",
       "      <td>0.000000</td>\n",
       "      <td>0.000000</td>\n",
       "      <td>0.000000</td>\n",
       "      <td>0.000000</td>\n",
       "      <td>0.575615</td>\n",
       "      <td>0.0</td>\n",
       "      <td>0.000000</td>\n",
       "      <td>0.000000</td>\n",
       "    </tr>\n",
       "    <tr>\n",
       "      <td>8</td>\n",
       "      <td>9</td>\n",
       "      <td>2017-01</td>\n",
       "      <td>설연휴 가족들과 훈훈한 정 나누시고 정겨운추억 많이 만드세요XXX오XXX올림</td>\n",
       "      <td>0</td>\n",
       "      <td>[설, 연휴, 가족, 정, 추억, 오]</td>\n",
       "      <td>0.000000</td>\n",
       "      <td>0.0</td>\n",
       "      <td>0.0</td>\n",
       "      <td>0.000000</td>\n",
       "      <td>0.0</td>\n",
       "      <td>...</td>\n",
       "      <td>0.0</td>\n",
       "      <td>0.000000</td>\n",
       "      <td>0.000000</td>\n",
       "      <td>0.000000</td>\n",
       "      <td>0.000000</td>\n",
       "      <td>0.000000</td>\n",
       "      <td>0.000000</td>\n",
       "      <td>0.0</td>\n",
       "      <td>0.000000</td>\n",
       "      <td>0.000000</td>\n",
       "    </tr>\n",
       "    <tr>\n",
       "      <td>9</td>\n",
       "      <td>10</td>\n",
       "      <td>2017-01</td>\n",
       "      <td>(광고)XXXBaXXX고객님들 뒤엔XXX 언제나 XXX새로운 마음가짐으로 새롭게 준...</td>\n",
       "      <td>1</td>\n",
       "      <td>[광고, 고객, 뒤, 마음가짐, 준비, 당, 행상, 품, 자격, 기준, 심사, 기준...</td>\n",
       "      <td>0.251901</td>\n",
       "      <td>0.0</td>\n",
       "      <td>0.0</td>\n",
       "      <td>0.000000</td>\n",
       "      <td>0.0</td>\n",
       "      <td>...</td>\n",
       "      <td>0.0</td>\n",
       "      <td>0.126803</td>\n",
       "      <td>0.000000</td>\n",
       "      <td>0.062682</td>\n",
       "      <td>0.000000</td>\n",
       "      <td>0.368754</td>\n",
       "      <td>0.000000</td>\n",
       "      <td>0.0</td>\n",
       "      <td>0.065059</td>\n",
       "      <td>0.130257</td>\n",
       "    </tr>\n",
       "  </tbody>\n",
       "</table>\n",
       "<p>10 rows × 105 columns</p>\n",
       "</div>"
      ],
      "text/plain": [
       "   id year_month                                               text  smishing  \\\n",
       "0   0    2017-01                           XXX은행성산XXX팀장입니다.행복한주말되세요         0   \n",
       "1   1    2017-01              오늘도많이웃으시는하루시작하세요XXX은행 진월동VIP라운지 XXX올림         0   \n",
       "2   2    2017-01  안녕하십니까 고객님. XXX은행입니다.금일 납부하셔야 할 금액은 153600원 입니...         0   \n",
       "3   4    2017-01  XXX 고객님안녕하세요XXX은행 XXX지점입니다지난 한 해 동안 저희 XXX지점에 ...         0   \n",
       "4   5    2017-01           1월은 새로움이 가득XXX입니다.올 한해 더 많이행복한 한해되시길바랍니다         0   \n",
       "5   6    2017-01                        행복한주말보내세요XXX용현남전담직원대리 XXX올림         0   \n",
       "6   7    2017-01  XXX 고객님 안녕하세요XXX은행 무교지점 XXX과장입니다 오늘 아침에 눈을 뜨니 ...         0   \n",
       "7   8    2017-01  XXX 고객님지난 한해 베풀어 주신 은혜 진심으로 감사 드립니다.가슴 깊이 간직 하...         0   \n",
       "8   9    2017-01         설연휴 가족들과 훈훈한 정 나누시고 정겨운추억 많이 만드세요XXX오XXX올림         0   \n",
       "9  10    2017-01  (광고)XXXBaXXX고객님들 뒤엔XXX 언제나 XXX새로운 마음가짐으로 새롭게 준...         1   \n",
       "\n",
       "                                               nouns  tfidf_000  tfidf_001  \\\n",
       "0                                [행성, 산, 팀장, 행복, 주말]   0.000000        0.0   \n",
       "1                         [오늘, 하루, 시작, 은행, 진월동, 라운지]   0.000000        0.0   \n",
       "2     [안녕, 고객, 은행, 금일, 납부, 금액, 원, 감사, 새해, 복, 은행, 옥포]   0.000000        0.0   \n",
       "3  [고객, 안녕, 은행, 지점, 해, 동안, 저희, 지점, 성원, 감사, 시작, 년,...   0.000000        0.0   \n",
       "4                                      [월, 한, 행복, 해]   0.000000        0.0   \n",
       "5                           [행복, 주말, 현남, 전담, 직원, 대리]   0.000000        0.0   \n",
       "6  [고객, 안녕, 은행, 무교, 지점, 과장, 아침, 눈, 눈, 세상, 적, 눈, 눈...   0.000000        0.0   \n",
       "7  [고객, 한, 은혜, 진심, 감사, 가슴, 간직, 정유, 년, 새해, 가족, 행복,...   0.000000        0.0   \n",
       "8                              [설, 연휴, 가족, 정, 추억, 오]   0.000000        0.0   \n",
       "9  [광고, 고객, 뒤, 마음가짐, 준비, 당, 행상, 품, 자격, 기준, 심사, 기준...   0.251901        0.0   \n",
       "\n",
       "   tfidf_002  tfidf_003  tfidf_004  ...  tfidf_090  tfidf_091  tfidf_092  \\\n",
       "0        0.0   0.000000        0.0  ...        0.0   0.000000   0.678718   \n",
       "1        0.0   0.000000        0.0  ...        0.0   0.000000   0.000000   \n",
       "2        0.0   0.296568        0.0  ...        0.0   0.000000   0.000000   \n",
       "3        0.0   0.142966        0.0  ...        0.0   0.000000   0.000000   \n",
       "4        0.0   0.000000        0.0  ...        0.0   0.000000   0.000000   \n",
       "5        0.0   0.000000        0.0  ...        0.0   0.000000   0.000000   \n",
       "6        0.0   0.360218        0.0  ...        0.0   0.000000   0.000000   \n",
       "7        0.0   0.509060        0.0  ...        0.0   0.000000   0.000000   \n",
       "8        0.0   0.000000        0.0  ...        0.0   0.000000   0.000000   \n",
       "9        0.0   0.000000        0.0  ...        0.0   0.126803   0.000000   \n",
       "\n",
       "   tfidf_093  tfidf_094  tfidf_095  tfidf_096  tfidf_097  tfidf_098  tfidf_099  \n",
       "0   0.000000   0.000000   0.000000   0.440442        0.0   0.000000   0.000000  \n",
       "1   0.000000   0.435313   0.000000   0.000000        0.0   0.000000   0.000000  \n",
       "2   0.000000   0.000000   0.000000   0.000000        0.0   0.000000   0.000000  \n",
       "3   0.000000   0.000000   0.000000   0.323314        0.0   0.000000   0.000000  \n",
       "4   0.000000   0.000000   0.000000   1.000000        0.0   0.000000   0.000000  \n",
       "5   0.000000   0.000000   0.000000   0.346004        0.0   0.000000   0.000000  \n",
       "6   0.000000   0.000000   0.000000   0.000000        0.0   0.000000   0.000000  \n",
       "7   0.000000   0.000000   0.000000   0.575615        0.0   0.000000   0.000000  \n",
       "8   0.000000   0.000000   0.000000   0.000000        0.0   0.000000   0.000000  \n",
       "9   0.062682   0.000000   0.368754   0.000000        0.0   0.065059   0.130257  \n",
       "\n",
       "[10 rows x 105 columns]"
      ]
     },
     "execution_count": 8,
     "metadata": {},
     "output_type": "execute_result"
    }
   ],
   "source": [
    "df_merged.head(10)"
   ]
  },
  {
   "cell_type": "code",
   "execution_count": 9,
   "metadata": {
    "ExecuteTime": {
     "end_time": "2019-12-25T16:02:42.434100Z",
     "start_time": "2019-12-25T16:02:42.431144Z"
    },
    "colab": {
     "base_uri": "https://localhost:8080/",
     "height": 1000
    },
    "colab_type": "code",
    "executionInfo": {
     "elapsed": 185838,
     "status": "ok",
     "timestamp": 1576287091046,
     "user": {
      "displayName": "주이클",
      "photoUrl": "https://lh3.googleusercontent.com/a-/AAuE7mCWVh4nvn9788qUddhoWTl5qQoYt0bzVMDlJWUumTg=s64",
      "userId": "02708070532256873610"
     },
     "user_tz": -540
    },
    "id": "QOi9dYzqpZxV",
    "outputId": "9ceb7e20-059e-4946-934e-ab85c98dca56",
    "scrolled": true
   },
   "outputs": [
    {
     "data": {
      "text/plain": [
       "['tfidf_000',\n",
       " 'tfidf_001',\n",
       " 'tfidf_002',\n",
       " 'tfidf_003',\n",
       " 'tfidf_004',\n",
       " 'tfidf_005',\n",
       " 'tfidf_006',\n",
       " 'tfidf_007',\n",
       " 'tfidf_008',\n",
       " 'tfidf_009',\n",
       " 'tfidf_010',\n",
       " 'tfidf_011',\n",
       " 'tfidf_012',\n",
       " 'tfidf_013',\n",
       " 'tfidf_014',\n",
       " 'tfidf_015',\n",
       " 'tfidf_016',\n",
       " 'tfidf_017',\n",
       " 'tfidf_018',\n",
       " 'tfidf_019',\n",
       " 'tfidf_020',\n",
       " 'tfidf_021',\n",
       " 'tfidf_022',\n",
       " 'tfidf_023',\n",
       " 'tfidf_024',\n",
       " 'tfidf_025',\n",
       " 'tfidf_026',\n",
       " 'tfidf_027',\n",
       " 'tfidf_028',\n",
       " 'tfidf_029',\n",
       " 'tfidf_030',\n",
       " 'tfidf_031',\n",
       " 'tfidf_032',\n",
       " 'tfidf_033',\n",
       " 'tfidf_034',\n",
       " 'tfidf_035',\n",
       " 'tfidf_036',\n",
       " 'tfidf_037',\n",
       " 'tfidf_038',\n",
       " 'tfidf_039',\n",
       " 'tfidf_040',\n",
       " 'tfidf_041',\n",
       " 'tfidf_042',\n",
       " 'tfidf_043',\n",
       " 'tfidf_044',\n",
       " 'tfidf_045',\n",
       " 'tfidf_046',\n",
       " 'tfidf_047',\n",
       " 'tfidf_048',\n",
       " 'tfidf_049',\n",
       " 'tfidf_050',\n",
       " 'tfidf_051',\n",
       " 'tfidf_052',\n",
       " 'tfidf_053',\n",
       " 'tfidf_054',\n",
       " 'tfidf_055',\n",
       " 'tfidf_056',\n",
       " 'tfidf_057',\n",
       " 'tfidf_058',\n",
       " 'tfidf_059',\n",
       " 'tfidf_060',\n",
       " 'tfidf_061',\n",
       " 'tfidf_062',\n",
       " 'tfidf_063',\n",
       " 'tfidf_064',\n",
       " 'tfidf_065',\n",
       " 'tfidf_066',\n",
       " 'tfidf_067',\n",
       " 'tfidf_068',\n",
       " 'tfidf_069',\n",
       " 'tfidf_070',\n",
       " 'tfidf_071',\n",
       " 'tfidf_072',\n",
       " 'tfidf_073',\n",
       " 'tfidf_074',\n",
       " 'tfidf_075',\n",
       " 'tfidf_076',\n",
       " 'tfidf_077',\n",
       " 'tfidf_078',\n",
       " 'tfidf_079',\n",
       " 'tfidf_080',\n",
       " 'tfidf_081',\n",
       " 'tfidf_082',\n",
       " 'tfidf_083',\n",
       " 'tfidf_084',\n",
       " 'tfidf_085',\n",
       " 'tfidf_086',\n",
       " 'tfidf_087',\n",
       " 'tfidf_088',\n",
       " 'tfidf_089',\n",
       " 'tfidf_090',\n",
       " 'tfidf_091',\n",
       " 'tfidf_092',\n",
       " 'tfidf_093',\n",
       " 'tfidf_094',\n",
       " 'tfidf_095',\n",
       " 'tfidf_096',\n",
       " 'tfidf_097',\n",
       " 'tfidf_098',\n",
       " 'tfidf_099']"
      ]
     },
     "execution_count": 9,
     "metadata": {},
     "output_type": "execute_result"
    }
   ],
   "source": [
    "cat_cols = []\n",
    "fea_cols =  tfidf_cols + cat_cols\n",
    "\n",
    "fea_cols"
   ]
  },
  {
   "cell_type": "code",
   "execution_count": 10,
   "metadata": {
    "ExecuteTime": {
     "end_time": "2019-12-25T16:02:42.439415Z",
     "start_time": "2019-12-25T16:02:42.435068Z"
    },
    "colab": {},
    "colab_type": "code",
    "id": "KRn0rFEq5Pns"
   },
   "outputs": [
    {
     "name": "stdout",
     "output_type": "stream",
     "text": [
      "295945\n"
     ]
    }
   ],
   "source": [
    "train_size = len(df_train)\n",
    "print(train_size)"
   ]
  },
  {
   "cell_type": "markdown",
   "metadata": {},
   "source": [
    "### Model"
   ]
  },
  {
   "cell_type": "code",
   "execution_count": 11,
   "metadata": {
    "ExecuteTime": {
     "end_time": "2019-12-25T16:02:42.446213Z",
     "start_time": "2019-12-25T16:02:42.441334Z"
    }
   },
   "outputs": [],
   "source": [
    "def eval_summary(y_true, y_score, cut_off=0.5):\n",
    "    y_pred = y_score.copy()\n",
    "    y_pred[y_pred > cut_off] = 1\n",
    "    y_pred[y_pred <= cut_off] = 0\n",
    "\n",
    "    eval_dict = {}\n",
    "    fpr, tpr, thresholds = metrics.roc_curve(y_true, y_score, pos_label=1)\n",
    "    \n",
    "    eval_dict['auc'] = metrics.auc(fpr, tpr)\n",
    "    eval_dict['confusion_matrix'] = metrics.confusion_matrix(y_true, y_pred)\n",
    "    \n",
    "    pre, rec, _, _ = metrics.precision_recall_fscore_support(y_true, y_pred, pos_label=1)\n",
    "    eval_dict['precision'] = pre[1]\n",
    "    eval_dict['recall'] = rec[1]\n",
    "    \n",
    "    return eval_dict"
   ]
  },
  {
   "cell_type": "code",
   "execution_count": 12,
   "metadata": {
    "ExecuteTime": {
     "end_time": "2019-12-25T16:02:42.452778Z",
     "start_time": "2019-12-25T16:02:42.447701Z"
    },
    "colab": {
     "base_uri": "https://localhost:8080/",
     "height": 51
    },
    "colab_type": "code",
    "executionInfo": {
     "elapsed": 187149,
     "status": "ok",
     "timestamp": 1576287092380,
     "user": {
      "displayName": "주이클",
      "photoUrl": "https://lh3.googleusercontent.com/a-/AAuE7mCWVh4nvn9788qUddhoWTl5qQoYt0bzVMDlJWUumTg=s64",
      "userId": "02708070532256873610"
     },
     "user_tz": -540
    },
    "id": "LCEEOdJK4__q",
    "outputId": "24fb71a8-e639-43d1-b476-d617adfff1e7"
   },
   "outputs": [],
   "source": [
    "from sklearn.model_selection import train_test_split\n",
    "from sklearn.model_selection import StratifiedKFold\n",
    "\n",
    "lgb_ts = datetime.now().strftime('%Y%m%dT%H%M%S')\n",
    "\n",
    "initscore_filename = ''\n",
    "params = {\n",
    "    'boosting':'gbdt',\n",
    "#     'boosting':'dart',\n",
    "    'num_leaves': 15, \n",
    "    'objective': 'binary',\n",
    "    'metric':'auc',\n",
    "    'num_threads': 16,\n",
    "    'learning_rate': 0.01,\n",
    "#     'is_unbalance': True,\n",
    "    'scale_pos_weight':20,\n",
    "    'bagging_fraction':0.3,\n",
    "    'bagging_freq':50,\n",
    "    'feature_fraction':0.4,\n",
    "    'initscore_filename':initscore_filename,\n",
    "#     'lambda_l1':200,\n",
    "#     'lambda_l2':2000,\n",
    "    'device_type':'gpu',\n",
    "}\n",
    "num_round = 3000\n",
    "\n",
    "[df_test.drop(c, axis=1, inplace=True) for c in df_test.columns if 'smishing_' in c]\n",
    "\n",
    "df_test = df_merged.loc[train_size:]"
   ]
  },
  {
   "cell_type": "code",
   "execution_count": 13,
   "metadata": {
    "ExecuteTime": {
     "end_time": "2019-12-25T16:04:33.405966Z",
     "start_time": "2019-12-25T16:02:42.453656Z"
    },
    "colab": {
     "base_uri": "https://localhost:8080/",
     "height": 51
    },
    "colab_type": "code",
    "executionInfo": {
     "elapsed": 187149,
     "status": "ok",
     "timestamp": 1576287092380,
     "user": {
      "displayName": "주이클",
      "photoUrl": "https://lh3.googleusercontent.com/a-/AAuE7mCWVh4nvn9788qUddhoWTl5qQoYt0bzVMDlJWUumTg=s64",
      "userId": "02708070532256873610"
     },
     "user_tz": -540
    },
    "id": "LCEEOdJK4__q",
    "outputId": "24fb71a8-e639-43d1-b476-d617adfff1e7",
    "scrolled": true
   },
   "outputs": [
    {
     "name": "stdout",
     "output_type": "stream",
     "text": [
      "model_set\n",
      " 0    252038\n",
      "1     17002\n",
      "Name: smishing, dtype: int64\n",
      "hidden_set\n",
      " 0    25204\n",
      "1     1701\n",
      "Name: smishing, dtype: int64\n",
      "\n",
      " 1 ******************** 1 ********************\n",
      "train_set (array([0., 1.], dtype=float32), array([226834,  15301]))\n",
      "valid_set (array([0., 1.], dtype=float32), array([25204,  1701]))\n",
      "Training until validation scores don't improve for 300 rounds\n",
      "[200]\ttraining's auc: 0.999933\tvalid_1's auc: 0.999909\n",
      "[400]\ttraining's auc: 0.999943\tvalid_1's auc: 0.999958\n",
      "[600]\ttraining's auc: 0.999976\tvalid_1's auc: 0.999985\n",
      "[800]\ttraining's auc: 0.999992\tvalid_1's auc: 0.999993\n",
      "[1000]\ttraining's auc: 0.999996\tvalid_1's auc: 0.999996\n",
      "[1200]\ttraining's auc: 0.999996\tvalid_1's auc: 0.999997\n",
      "[1400]\ttraining's auc: 0.999996\tvalid_1's auc: 0.999998\n",
      "[1600]\ttraining's auc: 0.999997\tvalid_1's auc: 0.999997\n",
      "[1800]\ttraining's auc: 0.999998\tvalid_1's auc: 0.999982\n",
      "Early stopping, best iteration is:\n",
      "[1548]\ttraining's auc: 0.999997\tvalid_1's auc: 0.999998\n",
      "split: [('tfidf_63_은행', 887), ('tfidf_11_고객', 691), ('tfidf_71_전화', 652), ('tfidf_0_가능', 631), ('tfidf_25_대출', 566)]\n",
      "gain: [('tfidf_0_가능', 2560195.5184071064), ('tfidf_45_상품', 1821869.9639683962), ('tfidf_13_광고', 714241.3290473223), ('tfidf_54_신청', 339759.286742717), ('tfidf_44_상담', 331837.88435563445)]\n"
     ]
    },
    {
     "name": "stderr",
     "output_type": "stream",
     "text": [
      "/home/aiden/anaconda3/lib/python3.7/site-packages/ipykernel_launcher.py:61: SettingWithCopyWarning: \n",
      "A value is trying to be set on a copy of a slice from a DataFrame.\n",
      "Try using .loc[row_indexer,col_indexer] = value instead\n",
      "\n",
      "See the caveats in the documentation: http://pandas.pydata.org/pandas-docs/stable/user_guide/indexing.html#returning-a-view-versus-a-copy\n",
      "/home/aiden/anaconda3/lib/python3.7/site-packages/ipykernel_launcher.py:62: SettingWithCopyWarning: \n",
      "A value is trying to be set on a copy of a slice from a DataFrame.\n",
      "Try using .loc[row_indexer,col_indexer] = value instead\n",
      "\n",
      "See the caveats in the documentation: http://pandas.pydata.org/pandas-docs/stable/user_guide/indexing.html#returning-a-view-versus-a-copy\n",
      "/home/aiden/anaconda3/lib/python3.7/site-packages/ipykernel_launcher.py:63: SettingWithCopyWarning: \n",
      "A value is trying to be set on a copy of a slice from a DataFrame.\n",
      "Try using .loc[row_indexer,col_indexer] = value instead\n",
      "\n",
      "See the caveats in the documentation: http://pandas.pydata.org/pandas-docs/stable/user_guide/indexing.html#returning-a-view-versus-a-copy\n"
     ]
    },
    {
     "name": "stdout",
     "output_type": "stream",
     "text": [
      "model\n",
      " {'auc': 0.9999967441046982, 'confusion_matrix': array([[252036,      2],\n",
      "       [    22,  16980]]), 'precision': 0.9998822282416676, 'recall': 0.9987060345841665}\n",
      "hidden\n",
      " {'auc': 0.9999838122799205, 'confusion_matrix': array([[25204,     0],\n",
      "       [    9,  1692]]), 'precision': 1.0, 'recall': 0.9947089947089947}\n",
      "\n",
      " 1 ******************** 2 ********************\n",
      "train_set (array([0., 1.], dtype=float32), array([226834,  15301]))\n",
      "valid_set (array([0., 1.], dtype=float32), array([25204,  1701]))\n",
      "Training until validation scores don't improve for 300 rounds\n",
      "[200]\ttraining's auc: 0.999959\tvalid_1's auc: 0.999715\n",
      "Early stopping, best iteration is:\n",
      "[86]\ttraining's auc: 0.999939\tvalid_1's auc: 0.999772\n",
      "split: [('tfidf_11_고객', 50), ('tfidf_79_직원', 44), ('tfidf_43_사항', 37), ('tfidf_44_상담', 36), ('tfidf_45_상품', 35)]\n",
      "gain: [('tfidf_0_가능', 2228001.746902466), ('tfidf_45_상품', 1677280.5234375), ('tfidf_13_광고', 576725.7120666504), ('tfidf_54_신청', 305436.56645965576), ('tfidf_44_상담', 288541.3619918823)]\n",
      "model\n",
      " {'auc': 0.9999187021472243, 'confusion_matrix': array([[251929,    109],\n",
      "       [   170,  16832]]), 'precision': 0.9935659052004014, 'recall': 0.9900011763321962}\n",
      "hidden\n",
      " {'auc': 0.9995317690304378, 'confusion_matrix': array([[25176,    28],\n",
      "       [   62,  1639]]), 'precision': 0.9832033593281344, 'recall': 0.9635508524397414}\n",
      "\n",
      " 1 ******************** 3 ********************\n",
      "train_set (array([0., 1.], dtype=float32), array([226834,  15302]))\n",
      "valid_set (array([0., 1.], dtype=float32), array([25204,  1700]))\n",
      "Training until validation scores don't improve for 300 rounds\n",
      "[200]\ttraining's auc: 0.999935\tvalid_1's auc: 0.999991\n",
      "[400]\ttraining's auc: 0.999941\tvalid_1's auc: 0.999997\n",
      "[600]\ttraining's auc: 0.999974\tvalid_1's auc: 0.999999\n",
      "[800]\ttraining's auc: 0.999991\tvalid_1's auc: 0.999999\n",
      "[1000]\ttraining's auc: 0.999994\tvalid_1's auc: 0.999999\n",
      "Early stopping, best iteration is:\n",
      "[742]\ttraining's auc: 0.999989\tvalid_1's auc: 0.999999\n",
      "split: [('tfidf_63_은행', 401), ('tfidf_71_전화', 351), ('tfidf_25_대출', 341), ('tfidf_11_고객', 318), ('tfidf_0_가능', 292)]\n",
      "gain: [('tfidf_0_가능', 2550328.7915177345), ('tfidf_45_상품', 1856732.020939827), ('tfidf_13_광고', 662288.5138859749), ('tfidf_54_신청', 324777.89938879013), ('tfidf_44_상담', 318530.4605374336)]\n",
      "model\n",
      " {'auc': 0.9999899931159377, 'confusion_matrix': array([[252006,     32],\n",
      "       [     9,  16993]]), 'precision': 0.9981204111600588, 'recall': 0.9994706505117045}\n",
      "hidden\n",
      " {'auc': 0.9999492442667247, 'confusion_matrix': array([[25199,     5],\n",
      "       [   11,  1690]]), 'precision': 0.9970501474926253, 'recall': 0.993533215755438}\n",
      "\n",
      " 1 ******************** 4 ********************\n",
      "train_set (array([0., 1.], dtype=float32), array([226834,  15302]))\n",
      "valid_set (array([0., 1.], dtype=float32), array([25204,  1700]))\n",
      "Training until validation scores don't improve for 300 rounds\n",
      "[200]\ttraining's auc: 0.999939\tvalid_1's auc: 0.999946\n",
      "[400]\ttraining's auc: 0.999943\tvalid_1's auc: 0.999981\n",
      "[600]\ttraining's auc: 0.999973\tvalid_1's auc: 0.999991\n",
      "[800]\ttraining's auc: 0.999981\tvalid_1's auc: 0.999993\n",
      "[1000]\ttraining's auc: 0.999996\tvalid_1's auc: 0.999994\n",
      "[1200]\ttraining's auc: 0.999996\tvalid_1's auc: 0.999995\n",
      "[1400]\ttraining's auc: 0.999997\tvalid_1's auc: 0.999996\n",
      "[1600]\ttraining's auc: 0.999997\tvalid_1's auc: 0.999996\n",
      "Early stopping, best iteration is:\n",
      "[1440]\ttraining's auc: 0.999997\tvalid_1's auc: 0.999997\n",
      "split: [('tfidf_63_은행', 772), ('tfidf_71_전화', 685), ('tfidf_11_고객', 614), ('tfidf_0_가능', 582), ('tfidf_25_대출', 536)]\n",
      "gain: [('tfidf_0_가능', 2561285.7030935585), ('tfidf_45_상품', 1933674.6810848713), ('tfidf_13_광고', 659200.1118664742), ('tfidf_54_신청', 326229.0236751437), ('tfidf_44_상담', 321887.0658507347)]\n",
      "model\n",
      " {'auc': 0.9999966309231313, 'confusion_matrix': array([[252036,      2],\n",
      "       [     8,  16994]]), 'precision': 0.9998823252530007, 'recall': 0.9995294671215151}\n",
      "hidden\n",
      " {'auc': 0.9999757650703709, 'confusion_matrix': array([[25204,     0],\n",
      "       [    8,  1693]]), 'precision': 1.0, 'recall': 0.9952968841857731}\n",
      "\n",
      " 1 ******************** 5 ********************\n",
      "train_set (array([0., 1.], dtype=float32), array([226834,  15302]))\n",
      "valid_set (array([0., 1.], dtype=float32), array([25204,  1700]))\n",
      "Training until validation scores don't improve for 300 rounds\n",
      "[200]\ttraining's auc: 0.999957\tvalid_1's auc: 0.999702\n",
      "[400]\ttraining's auc: 0.999972\tvalid_1's auc: 0.999757\n",
      "Early stopping, best iteration is:\n",
      "[209]\ttraining's auc: 0.999966\tvalid_1's auc: 0.999782\n",
      "split: [('tfidf_48_센터', 131), ('tfidf_63_은행', 121), ('tfidf_11_고객', 120), ('tfidf_79_직원', 98), ('tfidf_0_가능', 92)]\n",
      "gain: [('tfidf_0_가능', 2514111.688846588), ('tfidf_45_상품', 1801773.071861267), ('tfidf_13_광고', 666331.1910972595), ('tfidf_44_상담', 313761.92847442627), ('tfidf_54_신청', 304124.7921028137)]\n",
      "model\n",
      " {'auc': 0.9999443839782101, 'confusion_matrix': array([[251707,    331],\n",
      "       [    55,  16947]]), 'precision': 0.980842690126172, 'recall': 0.9967650864604164}\n",
      "hidden\n",
      " {'auc': 0.9997065450917573, 'confusion_matrix': array([[25124,    80],\n",
      "       [   17,  1684]]), 'precision': 0.9546485260770975, 'recall': 0.9900058788947678}\n",
      "\n",
      " 1 ******************** 6 ********************\n",
      "train_set (array([0., 1.], dtype=float32), array([226834,  15302]))\n",
      "valid_set (array([0., 1.], dtype=float32), array([25204,  1700]))\n",
      "Training until validation scores don't improve for 300 rounds\n",
      "[200]\ttraining's auc: 0.999916\tvalid_1's auc: 0.999983\n",
      "[400]\ttraining's auc: 0.999949\tvalid_1's auc: 0.999994\n",
      "[600]\ttraining's auc: 0.99996\tvalid_1's auc: 1\n",
      "[800]\ttraining's auc: 0.999985\tvalid_1's auc: 1\n"
     ]
    },
    {
     "ename": "KeyboardInterrupt",
     "evalue": "",
     "output_type": "error",
     "traceback": [
      "\u001b[0;31m---------------------------------------------------------------------------\u001b[0m",
      "\u001b[0;31mKeyboardInterrupt\u001b[0m                         Traceback (most recent call last)",
      "\u001b[0;32m<ipython-input-13-e75038412e1b>\u001b[0m in \u001b[0;36m<module>\u001b[0;34m\u001b[0m\n\u001b[1;32m     40\u001b[0m                         \u001b[0mearly_stopping_rounds\u001b[0m\u001b[0;34m=\u001b[0m\u001b[0;36m300\u001b[0m\u001b[0;34m,\u001b[0m\u001b[0;34m\u001b[0m\u001b[0;34m\u001b[0m\u001b[0m\n\u001b[1;32m     41\u001b[0m                         \u001b[0mvalid_sets\u001b[0m\u001b[0;34m=\u001b[0m\u001b[0;34m[\u001b[0m\u001b[0mtrain_set\u001b[0m\u001b[0;34m,\u001b[0m \u001b[0mvalid_set\u001b[0m\u001b[0;34m]\u001b[0m\u001b[0;34m,\u001b[0m\u001b[0;34m\u001b[0m\u001b[0;34m\u001b[0m\u001b[0m\n\u001b[0;32m---> 42\u001b[0;31m                         \u001b[0mverbose_eval\u001b[0m\u001b[0;34m=\u001b[0m\u001b[0;36m200\u001b[0m\u001b[0;34m,\u001b[0m\u001b[0;34m\u001b[0m\u001b[0;34m\u001b[0m\u001b[0m\n\u001b[0m\u001b[1;32m     43\u001b[0m                         \u001b[0;31m# init_model=init_model,\u001b[0m\u001b[0;34m\u001b[0m\u001b[0;34m\u001b[0m\u001b[0;34m\u001b[0m\u001b[0m\n\u001b[1;32m     44\u001b[0m                        )\n",
      "\u001b[0;32m~/anaconda3/lib/python3.7/site-packages/lightgbm/engine.py\u001b[0m in \u001b[0;36mtrain\u001b[0;34m(params, train_set, num_boost_round, valid_sets, valid_names, fobj, feval, init_model, feature_name, categorical_feature, early_stopping_rounds, evals_result, verbose_eval, learning_rates, keep_training_booster, callbacks)\u001b[0m\n\u001b[1;32m    247\u001b[0m                                     evaluation_result_list=None))\n\u001b[1;32m    248\u001b[0m \u001b[0;34m\u001b[0m\u001b[0m\n\u001b[0;32m--> 249\u001b[0;31m         \u001b[0mbooster\u001b[0m\u001b[0;34m.\u001b[0m\u001b[0mupdate\u001b[0m\u001b[0;34m(\u001b[0m\u001b[0mfobj\u001b[0m\u001b[0;34m=\u001b[0m\u001b[0mfobj\u001b[0m\u001b[0;34m)\u001b[0m\u001b[0;34m\u001b[0m\u001b[0;34m\u001b[0m\u001b[0m\n\u001b[0m\u001b[1;32m    250\u001b[0m \u001b[0;34m\u001b[0m\u001b[0m\n\u001b[1;32m    251\u001b[0m         \u001b[0mevaluation_result_list\u001b[0m \u001b[0;34m=\u001b[0m \u001b[0;34m[\u001b[0m\u001b[0;34m]\u001b[0m\u001b[0;34m\u001b[0m\u001b[0;34m\u001b[0m\u001b[0m\n",
      "\u001b[0;32m~/anaconda3/lib/python3.7/site-packages/lightgbm/basic.py\u001b[0m in \u001b[0;36mupdate\u001b[0;34m(self, train_set, fobj)\u001b[0m\n\u001b[1;32m   1974\u001b[0m             _safe_call(_LIB.LGBM_BoosterUpdateOneIter(\n\u001b[1;32m   1975\u001b[0m                 \u001b[0mself\u001b[0m\u001b[0;34m.\u001b[0m\u001b[0mhandle\u001b[0m\u001b[0;34m,\u001b[0m\u001b[0;34m\u001b[0m\u001b[0;34m\u001b[0m\u001b[0m\n\u001b[0;32m-> 1976\u001b[0;31m                 ctypes.byref(is_finished)))\n\u001b[0m\u001b[1;32m   1977\u001b[0m             \u001b[0mself\u001b[0m\u001b[0;34m.\u001b[0m\u001b[0m__is_predicted_cur_iter\u001b[0m \u001b[0;34m=\u001b[0m \u001b[0;34m[\u001b[0m\u001b[0;32mFalse\u001b[0m \u001b[0;32mfor\u001b[0m \u001b[0m_\u001b[0m \u001b[0;32min\u001b[0m \u001b[0mrange_\u001b[0m\u001b[0;34m(\u001b[0m\u001b[0mself\u001b[0m\u001b[0;34m.\u001b[0m\u001b[0m__num_dataset\u001b[0m\u001b[0;34m)\u001b[0m\u001b[0;34m]\u001b[0m\u001b[0;34m\u001b[0m\u001b[0;34m\u001b[0m\u001b[0m\n\u001b[1;32m   1978\u001b[0m             \u001b[0;32mreturn\u001b[0m \u001b[0mis_finished\u001b[0m\u001b[0;34m.\u001b[0m\u001b[0mvalue\u001b[0m \u001b[0;34m==\u001b[0m \u001b[0;36m1\u001b[0m\u001b[0;34m\u001b[0m\u001b[0;34m\u001b[0m\u001b[0m\n",
      "\u001b[0;31mKeyboardInterrupt\u001b[0m: "
     ]
    }
   ],
   "source": [
    "# model_index, hidden_index = train_test_split(range(train_size),     \n",
    "#     test_size=0.1, random_state=1984)\n",
    "\n",
    "skf_g = StratifiedKFold(n_splits=11, random_state=1984)\n",
    "cnt_g = 0\n",
    "\n",
    "for model_index, hidden_index in skf_g.split(range(train_size), df_train['smishing'].values):\n",
    "    cnt_g = cnt_g + 1\n",
    "    df_model = df_merged.iloc[model_index]\n",
    "    df_hidden = df_merged.iloc[hidden_index]\n",
    "    print('model_set\\n', df_model['smishing'].value_counts())\n",
    "    print('hidden_set\\n', df_hidden['smishing'].value_counts())\n",
    "    \n",
    "    [df_model.drop(c, axis=1, inplace=True) for c in df_model.columns if 'smishing_' in c]\n",
    "    [df_hidden.drop(c, axis=1, inplace=True) for c in df_hidden.columns if 'smishing_' in c]\n",
    "\n",
    "\n",
    "    X = df_model[fea_cols].values\n",
    "    y = df_model['smishing'].values\n",
    "#     print(np.unique(y, return_counts=True))\n",
    "\n",
    "    X_hidden = df_hidden[fea_cols].values\n",
    "    y_hidden = df_hidden['smishing'].values\n",
    "#     print(np.unique(y_hidden, return_counts=True))\n",
    "\n",
    "    skf = StratifiedKFold(n_splits=10, random_state=8405)\n",
    "#     print(skf)\n",
    "    cnt = 0\n",
    "    train_data = lgb.Dataset(X, label=y, feature_name=fea_cols, categorical_feature=cat_cols, free_raw_data=False)\n",
    "\n",
    "    for train_index, valid_index in skf.split(X, y):\n",
    "        cnt = cnt + 1\n",
    "        print('\\n', cnt_g, '*' * 20, cnt, '*' * 20)\n",
    "\n",
    "        train_set = train_data.subset(train_index).construct()\n",
    "        valid_set = train_data.subset(valid_index).construct()\n",
    "        print('train_set', np.unique(train_set.get_label(), return_counts=True))\n",
    "        print('valid_set', np.unique(valid_set.get_label(), return_counts=True))\n",
    "        bst = lgb.train(params, train_set, num_round, categorical_feature=cat_cols,\n",
    "                        early_stopping_rounds=300, \n",
    "                        valid_sets=[train_set, valid_set],\n",
    "                        verbose_eval=200,\n",
    "                        # init_model=init_model,\n",
    "                       )\n",
    "        \n",
    "        renamed_cols = [tfidf_dict[c] if c in tfidf_dict.keys() else c for c in fea_cols]\n",
    "        impt_dict = {k:v for k, v in zip(renamed_cols, bst.feature_importance(importance_type='split'))}\n",
    "        print('split:', sorted(impt_dict.items(), key=(lambda x:x[1]), reverse=True)[:5])\n",
    "        \n",
    "        impt_dict = {k:v for k, v in zip(renamed_cols, bst.feature_importance(importance_type='gain'))}\n",
    "        print('gain:', sorted(impt_dict.items(), key=(lambda x:x[1]), reverse=True)[:5])\n",
    " \n",
    "        \n",
    "    #     for r in sorted(impt_dict.items(), key=(lambda x:x[1]), reverse=True):\n",
    "    #         print(r)\n",
    "    #         if r[1] < 1:\n",
    "    #             del_fea_cols.append(r[0])\n",
    "    #     print(del_fea_cols)\n",
    "    #     print(len(del_fea_cols))\n",
    "    #     lgb.plot_importance(bst, height=0.3, figsize=(20, 100), max_num_features=100)\n",
    "        df_model['smishing_{}_{}'.format(cnt_g, cnt)] = bst.predict(X)        \n",
    "        df_hidden['smishing_{}_{}'.format(cnt_g, cnt)] = bst.predict(X_hidden)        \n",
    "        df_test['smishing_{}_{}'.format(cnt_g, cnt)] = bst.predict(df_test[fea_cols].values)    \n",
    "        \n",
    "        print('model\\n', eval_summary(y, df_model['smishing_{}_{}'.format(cnt_g, cnt)].values, cut_off=0.5))\n",
    "        print('hidden\\n', eval_summary(y_hidden, df_hidden['smishing_{}_{}'.format(cnt_g, cnt)].values, cut_off=0.5))\n",
    "\n",
    "    # Predict 정리\n",
    "    y = df_hidden['smishing'].values\n",
    "    pred = df_hidden[[c for c in df_hidden.columns if 'smishing_' in c]].mean(axis=1)\n",
    "    \n",
    "    fpr, tpr, thresholds = metrics.roc_curve(y, pred, pos_label=1)\n",
    "    print('\\n', '#' * 10, cnt_g, 'auc:', metrics.auc(fpr, tpr))"
   ]
  },
  {
   "cell_type": "code",
   "execution_count": null,
   "metadata": {
    "ExecuteTime": {
     "end_time": "2019-12-25T16:04:33.406954Z",
     "start_time": "2019-12-25T16:01:34.169Z"
    },
    "scrolled": true
   },
   "outputs": [],
   "source": [
    "pred_cols = [c for c in df_test.columns if 'smishing_' in c]\n",
    "print(len(pred_cols))\n",
    "df_test['pred_max'] = df_test[pred_cols].max(axis=1)\n",
    "df_test['pred_min'] = df_test[pred_cols].min(axis=1)\n",
    "df_test['pred_mean'] = df_test[pred_cols].mean(axis=1)\n",
    "df_test['pred_std'] = df_test[pred_cols].std(axis=1)"
   ]
  },
  {
   "cell_type": "code",
   "execution_count": null,
   "metadata": {
    "ExecuteTime": {
     "end_time": "2019-12-25T16:04:33.407533Z",
     "start_time": "2019-12-25T16:01:34.792Z"
    }
   },
   "outputs": [],
   "source": [
    "df_test['pred_std'].max()"
   ]
  },
  {
   "cell_type": "code",
   "execution_count": null,
   "metadata": {
    "ExecuteTime": {
     "end_time": "2019-12-25T16:04:33.408095Z",
     "start_time": "2019-12-25T16:01:35.033Z"
    }
   },
   "outputs": [],
   "source": [
    "df_test['pred_std'].min()"
   ]
  },
  {
   "cell_type": "code",
   "execution_count": null,
   "metadata": {
    "ExecuteTime": {
     "end_time": "2019-12-25T16:04:33.408651Z",
     "start_time": "2019-12-25T16:01:35.473Z"
    }
   },
   "outputs": [],
   "source": [
    "df_test['pred_mean'].hist(bins=100)"
   ]
  },
  {
   "cell_type": "code",
   "execution_count": null,
   "metadata": {
    "ExecuteTime": {
     "end_time": "2019-12-25T16:04:33.409219Z",
     "start_time": "2019-12-25T16:01:36.089Z"
    }
   },
   "outputs": [],
   "source": [
    "lgb_ts"
   ]
  },
  {
   "cell_type": "code",
   "execution_count": null,
   "metadata": {
    "ExecuteTime": {
     "end_time": "2019-12-25T16:04:33.409772Z",
     "start_time": "2019-12-25T16:01:36.808Z"
    }
   },
   "outputs": [],
   "source": [
    "df_test['smishing'] = df_test['pred_mean']\n",
    "df_test[['id', 'smishing']].to_csv('{}.csv'.format(lgb_ts), index=False)\n",
    "df_test[['id', 'smishing', 'text']].sort_values('smishing', ascending=False).to_csv('{}_text.csv'.format(lgb_ts), index=False)"
   ]
  },
  {
   "cell_type": "code",
   "execution_count": null,
   "metadata": {
    "ExecuteTime": {
     "end_time": "2019-12-25T08:13:24.967116Z",
     "start_time": "2019-12-25T08:12:06.430738Z"
    }
   },
   "outputs": [],
   "source": [
    "# eval_hist = lgb.cv(params, train_data, num_boost_round=num_round, nfold=20, stratified=True, shuffle=True, \n",
    "#        metrics=None, fobj=None, feval=None, init_model=None, feature_name='auto', categorical_feature='auto',\n",
    "#        early_stopping_rounds=500, fpreproc=None, verbose_eval=100, show_stdv=True, seed=0, callbacks=None,\n",
    "#        eval_train_metric=False)\n"
   ]
  },
  {
   "cell_type": "code",
   "execution_count": null,
   "metadata": {
    "ExecuteTime": {
     "end_time": "2019-12-25T07:41:51.005807Z",
     "start_time": "2019-12-25T07:39:53.383729Z"
    },
    "colab": {
     "base_uri": "https://localhost:8080/",
     "height": 1000
    },
    "colab_type": "code",
    "id": "DmPNoCIz7TfX",
    "outputId": "6e7f53bc-4dd2-40e2-86be-4b1c46825d0c"
   },
   "outputs": [],
   "source": [
    "# for train_index, valid_index in skf.split(X, y):\n",
    "#     cnt = cnt + 1\n",
    "#     print('\\n', '*' * 20, cnt, '*' * 20)\n",
    "    \n",
    "#     # init_bst_name = 'model.txt'\n",
    "#     # init_model = joblib.load(init_bst_name)\n",
    "#     # bst = None\n",
    "#     # init_model = bst\n",
    "#     train_set = train_data.subset(train_index).construct()\n",
    "#     valid_set = train_data.subset(valid_index).construct()\n",
    "#     print('train_set', np.unique(train_set.get_label(), return_counts=True))\n",
    "#     print('valid_set', np.unique(valid_set.get_label(), return_counts=True))\n",
    "#     bst = lgb.train(param, train_set, num_round, categorical_feature=cat_cols,\n",
    "#                     early_stopping_rounds=200, \n",
    "#                     valid_sets=[train_set, valid_set],\n",
    "#                     verbose_eval=200,\n",
    "#                     # init_model=init_model,\n",
    "#                    )\n",
    "#     impt_dict = {k:v for k, v in zip(fea_cols, bst.feature_importance())}\n",
    "#     del_fea_cols = []\n",
    "#     print(sorted(impt_dict.items(), key=(lambda x:x[1]), reverse=True)[:5])\n",
    "# #     for r in sorted(impt_dict.items(), key=(lambda x:x[1]), reverse=True):\n",
    "# #         print(r)\n",
    "# #         if r[1] < 1:\n",
    "# #             del_fea_cols.append(r[0])\n",
    "# #     print(del_fea_cols)\n",
    "# #     print(len(del_fea_cols))\n",
    "# #     lgb.plot_importance(bst, height=0.3, figsize=(20, 100), max_num_features=100)\n",
    "#     df_model['smishing_{}'.format(cnt)] = bst.predict(X)        \n",
    "#     df_hidden['smishing_{}'.format(cnt)] = bst.predict(X_hidden)        \n",
    "#     df_test['smishing_{}'.format(cnt)] = bst.predict(df_test[fea_cols].values)    "
   ]
  },
  {
   "cell_type": "code",
   "execution_count": null,
   "metadata": {
    "colab": {},
    "colab_type": "code",
    "id": "dtoNNPnG75fT"
   },
   "outputs": [],
   "source": []
  }
 ],
 "metadata": {
  "accelerator": "GPU",
  "colab": {
   "collapsed_sections": [],
   "name": "mecab_tfidf.ipynb",
   "provenance": []
  },
  "kernelspec": {
   "display_name": "Python 3",
   "language": "python",
   "name": "python3"
  },
  "language_info": {
   "codemirror_mode": {
    "name": "ipython",
    "version": 3
   },
   "file_extension": ".py",
   "mimetype": "text/x-python",
   "name": "python",
   "nbconvert_exporter": "python",
   "pygments_lexer": "ipython3",
   "version": "3.7.4"
  },
  "toc": {
   "base_numbering": 1,
   "nav_menu": {},
   "number_sections": true,
   "sideBar": true,
   "skip_h1_title": false,
   "title_cell": "Table of Contents",
   "title_sidebar": "Contents",
   "toc_cell": false,
   "toc_position": {
    "height": "calc(100% - 180px)",
    "left": "10px",
    "top": "150px",
    "width": "165px"
   },
   "toc_section_display": true,
   "toc_window_display": true
  }
 },
 "nbformat": 4,
 "nbformat_minor": 1
}
