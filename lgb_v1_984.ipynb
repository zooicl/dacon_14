{
 "cells": [
  {
   "cell_type": "code",
   "execution_count": 1,
   "metadata": {
    "ExecuteTime": {
     "end_time": "2020-01-01T16:10:54.268044Z",
     "start_time": "2020-01-01T16:10:52.955318Z"
    },
    "colab": {
     "base_uri": "https://localhost:8080/",
     "height": 71
    },
    "colab_type": "code",
    "executionInfo": {
     "elapsed": 1590,
     "status": "ok",
     "timestamp": 1576286906380,
     "user": {
      "displayName": "주이클",
      "photoUrl": "https://lh3.googleusercontent.com/a-/AAuE7mCWVh4nvn9788qUddhoWTl5qQoYt0bzVMDlJWUumTg=s64",
      "userId": "02708070532256873610"
     },
     "user_tz": -540
    },
    "id": "U3xmRNtgpZwi",
    "outputId": "f6e95e03-5913-4a53-9ff3-1b6cde1b5a82"
   },
   "outputs": [
    {
     "name": "stderr",
     "output_type": "stream",
     "text": [
      "/home/aiden/anaconda3/lib/python3.7/site-packages/sklearn/externals/joblib/__init__.py:15: DeprecationWarning: sklearn.externals.joblib is deprecated in 0.21 and will be removed in 0.23. Please import this functionality directly from joblib, which can be installed with: pip install joblib. If this warning is raised when loading pickled models, you may need to re-serialize those models with scikit-learn 0.21+.\n",
      "  warnings.warn(msg, category=DeprecationWarning)\n"
     ]
    },
    {
     "name": "stdout",
     "output_type": "stream",
     "text": [
      "2.3.2\n",
      "1.3.1\n",
      "GeForce RTX 2070 SUPER\n",
      "True\n"
     ]
    },
    {
     "data": {
      "text/plain": [
       "device(type='cuda', index=0)"
      ]
     },
     "execution_count": 1,
     "metadata": {},
     "output_type": "execute_result"
    }
   ],
   "source": [
    "#!/usr/bin/env python\n",
    "# coding: utf-8\n",
    "get_ipython().run_line_magic('matplotlib', 'inline')\n",
    "import pandas as pd\n",
    "import time\n",
    "import numpy as np\n",
    "from datetime import datetime\n",
    "from sklearn.externals import joblib \n",
    "import os\n",
    "from konlpy.tag import Mecab\n",
    "import lightgbm as lgb\n",
    "print(lgb.__version__)\n",
    "\n",
    "from sklearn import metrics\n",
    "from sklearn.preprocessing import MinMaxScaler\n",
    "from sklearn.externals import joblib \n",
    "from sklearn.model_selection import StratifiedKFold\n",
    "\n",
    "import gc\n",
    "\n",
    "from tqdm import tqdm_notebook\n",
    "\n",
    "import warnings\n",
    "warnings.filterwarnings(action='ignore')\n",
    "\n",
    "\n",
    "import torch\n",
    "print(torch.__version__)\n",
    "import torch.nn.functional as F\n",
    "from torch.utils.data import Dataset, DataLoader\n",
    "\n",
    "from torchsummary import summary\n",
    "\n",
    "from tools import eval_summary\n",
    "\n",
    "print(torch.cuda.get_device_name(0))\n",
    "print(torch.cuda.is_available())\n",
    "\n",
    "device = torch.device(\"cuda:0\" if torch.cuda.is_available() else \"cpu\")\n",
    "# device = torch.device('cpu')\n",
    "device"
   ]
  },
  {
   "cell_type": "code",
   "execution_count": 2,
   "metadata": {
    "ExecuteTime": {
     "end_time": "2020-01-01T16:10:55.413059Z",
     "start_time": "2020-01-01T16:10:54.269106Z"
    }
   },
   "outputs": [
    {
     "name": "stdout",
     "output_type": "stream",
     "text": [
      "/home/aiden/src/dacon_14\n"
     ]
    },
    {
     "data": {
      "text/plain": [
       "(297571, 3)"
      ]
     },
     "execution_count": 2,
     "metadata": {},
     "output_type": "execute_result"
    }
   ],
   "source": [
    "print(os.getcwd())\n",
    "\n",
    "base_path = '.'\n",
    "\n",
    "df_train = pd.read_csv(os.path.join(base_path , 'input/train.csv'), index_col=0)\n",
    "df_test = pd.read_csv(os.path.join(base_path , 'input/public_test.csv'), index_col=0)\n",
    "df_test['smishing'] = -1\n",
    "\n",
    "df_fea = pd.concat([df_train, df_test])\n",
    "df_fea.shape"
   ]
  },
  {
   "cell_type": "code",
   "execution_count": 3,
   "metadata": {
    "ExecuteTime": {
     "end_time": "2020-01-01T16:10:55.416698Z",
     "start_time": "2020-01-01T16:10:55.414321Z"
    },
    "colab": {
     "base_uri": "https://localhost:8080/",
     "height": 1000
    },
    "colab_type": "code",
    "executionInfo": {
     "elapsed": 185838,
     "status": "ok",
     "timestamp": 1576287091046,
     "user": {
      "displayName": "주이클",
      "photoUrl": "https://lh3.googleusercontent.com/a-/AAuE7mCWVh4nvn9788qUddhoWTl5qQoYt0bzVMDlJWUumTg=s64",
      "userId": "02708070532256873610"
     },
     "user_tz": -540
    },
    "id": "QOi9dYzqpZxV",
    "outputId": "9ceb7e20-059e-4946-934e-ab85c98dca56",
    "scrolled": true
   },
   "outputs": [
    {
     "name": "stdout",
     "output_type": "stream",
     "text": [
      "295945\n"
     ]
    }
   ],
   "source": [
    "train_size = len(df_train)\n",
    "print(train_size)\n",
    "\n",
    "cat_cols = []\n",
    "# fea_cols = tfidf_cols + cat_cols + cnt_cols\n",
    "# fea_cols = cnt_cols + cat_cols\n",
    "# fea_cols = tfidf_cols + cat_cols\n",
    "# len(fea_cols)"
   ]
  },
  {
   "cell_type": "markdown",
   "metadata": {},
   "source": [
    "#### Load Data"
   ]
  },
  {
   "cell_type": "code",
   "execution_count": 4,
   "metadata": {
    "ExecuteTime": {
     "end_time": "2020-01-01T16:11:04.304026Z",
     "start_time": "2020-01-01T16:10:55.417776Z"
    },
    "colab": {
     "base_uri": "https://localhost:8080/",
     "height": 51
    },
    "colab_type": "code",
    "executionInfo": {
     "elapsed": 187149,
     "status": "ok",
     "timestamp": 1576287092380,
     "user": {
      "displayName": "주이클",
      "photoUrl": "https://lh3.googleusercontent.com/a-/AAuE7mCWVh4nvn9788qUddhoWTl5qQoYt0bzVMDlJWUumTg=s64",
      "userId": "02708070532256873610"
     },
     "user_tz": -540
    },
    "id": "LCEEOdJK4__q",
    "outputId": "24fb71a8-e639-43d1-b476-d617adfff1e7"
   },
   "outputs": [
    {
     "name": "stdout",
     "output_type": "stream",
     "text": [
      "model_set\n",
      " 0    277242\n",
      "1     18703\n",
      "Name: smishing, dtype: int64\n"
     ]
    }
   ],
   "source": [
    "# merged_ts = '20191231T113708_5499'\n",
    "# merged_ts = '20191231T162533_2022'\n",
    "# merged_ts = '20191231T165424_6099'\n",
    "# merged_ts = '20191231T111228_8180'\n",
    "# merged_ts = '20200101T184353_5853'\n",
    "\n",
    "merged_ts = '20200102T005929_6546_128_49980'\n",
    "\n",
    "train_path = 'data/df_merged_{}_train.pkl'.format(merged_ts)\n",
    "test_path = 'data/df_merged_{}_test.pkl'.format(merged_ts)\n",
    "dict_path = 'data/df_merged_{}_fea_dict.pkl'.format(merged_ts)\n",
    "\n",
    "df_model = joblib.load(train_path)  \n",
    "df_test = joblib.load(test_path) \n",
    "fea_dict = joblib.load(dict_path)\n",
    "\n",
    "print('model_set\\n', df_model['smishing'].value_counts())\n",
    "\n",
    "df_model.drop('morphs_128_idx', axis=1, inplace=True)\n",
    "df_test.drop('morphs_128_idx', axis=1, inplace=True)\n"
   ]
  },
  {
   "cell_type": "code",
   "execution_count": 5,
   "metadata": {
    "ExecuteTime": {
     "end_time": "2020-01-01T16:11:04.308039Z",
     "start_time": "2020-01-01T16:11:04.304893Z"
    }
   },
   "outputs": [
    {
     "data": {
      "text/plain": [
       "6545"
      ]
     },
     "execution_count": 5,
     "metadata": {},
     "output_type": "execute_result"
    }
   ],
   "source": [
    "fea_cols = [c for c in df_model.columns if c not in ['smishing', 'id', 'morphs_128_idx']]\n",
    "len(fea_cols)"
   ]
  },
  {
   "cell_type": "markdown",
   "metadata": {},
   "source": [
    "#### Params"
   ]
  },
  {
   "cell_type": "code",
   "execution_count": 6,
   "metadata": {
    "ExecuteTime": {
     "end_time": "2020-01-01T16:11:04.317655Z",
     "start_time": "2020-01-01T16:11:04.308801Z"
    },
    "colab": {
     "base_uri": "https://localhost:8080/",
     "height": 51
    },
    "colab_type": "code",
    "executionInfo": {
     "elapsed": 187149,
     "status": "ok",
     "timestamp": 1576287092380,
     "user": {
      "displayName": "주이클",
      "photoUrl": "https://lh3.googleusercontent.com/a-/AAuE7mCWVh4nvn9788qUddhoWTl5qQoYt0bzVMDlJWUumTg=s64",
      "userId": "02708070532256873610"
     },
     "user_tz": -540
    },
    "id": "LCEEOdJK4__q",
    "outputId": "24fb71a8-e639-43d1-b476-d617adfff1e7"
   },
   "outputs": [],
   "source": [
    "from sklearn.model_selection import train_test_split\n",
    "from sklearn.model_selection import StratifiedKFold\n",
    "\n",
    "model_ts = datetime.now().strftime('%Y%m%dT%H%M%S')\n",
    "\n",
    "initscore_filename = ''\n",
    "params = {\n",
    "    'boosting':'gbdt',\n",
    "#     'boosting':'dart',\n",
    "    'num_leaves': 7, \n",
    "#     'max_depth': 5,\n",
    "    'objective': 'binary',\n",
    "    'metric':'auc',\n",
    "    'num_threads': 16,\n",
    "    'learning_rate': 0.005,\n",
    "#     'is_unbalance': True,\n",
    "    'scale_pos_weight':200,\n",
    "    'bagging_fraction':0.5,\n",
    "    'bagging_freq':10,\n",
    "    'feature_fraction':0.5,\n",
    "    'initscore_filename':initscore_filename,\n",
    "#     'lambda_l1':200,\n",
    "#     'lambda_l2':2000,\n",
    "    'device_type':'gpu',\n",
    "}\n",
    "\n",
    "data_params = {\n",
    "    'max_bin':128,\n",
    "#     'enable_bundle': False,\n",
    "}\n",
    "num_round = 8000"
   ]
  },
  {
   "cell_type": "code",
   "execution_count": 7,
   "metadata": {
    "ExecuteTime": {
     "end_time": "2020-01-01T16:11:04.579530Z",
     "start_time": "2020-01-01T16:11:04.318461Z"
    }
   },
   "outputs": [
    {
     "name": "stdout",
     "output_type": "stream",
     "text": [
      "<class 'pandas.core.frame.DataFrame'>\n",
      "Int64Index: 295945 entries, 0 to 336378\n",
      "Columns: 6546 entries, smishing to tfidf_word_33_0499\n",
      "dtypes: float16(6501), int16(44), int64(1)\n",
      "memory usage: 3.6 GB\n"
     ]
    }
   ],
   "source": [
    "df_model.info()"
   ]
  },
  {
   "cell_type": "code",
   "execution_count": 8,
   "metadata": {
    "ExecuteTime": {
     "end_time": "2020-01-01T16:11:04.983029Z",
     "start_time": "2020-01-01T16:11:04.580829Z"
    }
   },
   "outputs": [],
   "source": [
    "df_model = df_model.reset_index()"
   ]
  },
  {
   "cell_type": "code",
   "execution_count": 9,
   "metadata": {
    "ExecuteTime": {
     "end_time": "2020-01-01T16:11:05.010127Z",
     "start_time": "2020-01-01T16:11:04.984147Z"
    }
   },
   "outputs": [
    {
     "data": {
      "text/html": [
       "<div>\n",
       "<style scoped>\n",
       "    .dataframe tbody tr th:only-of-type {\n",
       "        vertical-align: middle;\n",
       "    }\n",
       "\n",
       "    .dataframe tbody tr th {\n",
       "        vertical-align: top;\n",
       "    }\n",
       "\n",
       "    .dataframe thead th {\n",
       "        text-align: right;\n",
       "    }\n",
       "</style>\n",
       "<table border=\"1\" class=\"dataframe\">\n",
       "  <thead>\n",
       "    <tr style=\"text-align: right;\">\n",
       "      <th></th>\n",
       "      <th>id</th>\n",
       "      <th>smishing</th>\n",
       "      <th>EC</th>\n",
       "      <th>EF</th>\n",
       "      <th>EP</th>\n",
       "      <th>ETM</th>\n",
       "      <th>ETN</th>\n",
       "      <th>IC</th>\n",
       "      <th>JC</th>\n",
       "      <th>JKB</th>\n",
       "      <th>...</th>\n",
       "      <th>tfidf_word_33_0490</th>\n",
       "      <th>tfidf_word_33_0491</th>\n",
       "      <th>tfidf_word_33_0492</th>\n",
       "      <th>tfidf_word_33_0493</th>\n",
       "      <th>tfidf_word_33_0494</th>\n",
       "      <th>tfidf_word_33_0495</th>\n",
       "      <th>tfidf_word_33_0496</th>\n",
       "      <th>tfidf_word_33_0497</th>\n",
       "      <th>tfidf_word_33_0498</th>\n",
       "      <th>tfidf_word_33_0499</th>\n",
       "    </tr>\n",
       "  </thead>\n",
       "  <tbody>\n",
       "    <tr>\n",
       "      <td>0</td>\n",
       "      <td>0</td>\n",
       "      <td>0</td>\n",
       "      <td>0</td>\n",
       "      <td>2</td>\n",
       "      <td>1</td>\n",
       "      <td>1</td>\n",
       "      <td>0</td>\n",
       "      <td>0</td>\n",
       "      <td>0</td>\n",
       "      <td>0</td>\n",
       "      <td>...</td>\n",
       "      <td>0.0</td>\n",
       "      <td>0.0</td>\n",
       "      <td>0.0</td>\n",
       "      <td>0.0</td>\n",
       "      <td>0.0</td>\n",
       "      <td>0.739746</td>\n",
       "      <td>0.00000</td>\n",
       "      <td>0.0</td>\n",
       "      <td>0.0</td>\n",
       "      <td>0.0</td>\n",
       "    </tr>\n",
       "    <tr>\n",
       "      <td>1</td>\n",
       "      <td>1</td>\n",
       "      <td>0</td>\n",
       "      <td>1</td>\n",
       "      <td>1</td>\n",
       "      <td>2</td>\n",
       "      <td>1</td>\n",
       "      <td>0</td>\n",
       "      <td>0</td>\n",
       "      <td>0</td>\n",
       "      <td>0</td>\n",
       "      <td>...</td>\n",
       "      <td>0.0</td>\n",
       "      <td>0.0</td>\n",
       "      <td>0.0</td>\n",
       "      <td>0.0</td>\n",
       "      <td>0.0</td>\n",
       "      <td>0.000000</td>\n",
       "      <td>0.00000</td>\n",
       "      <td>0.0</td>\n",
       "      <td>0.0</td>\n",
       "      <td>0.0</td>\n",
       "    </tr>\n",
       "    <tr>\n",
       "      <td>2</td>\n",
       "      <td>2</td>\n",
       "      <td>0</td>\n",
       "      <td>2</td>\n",
       "      <td>5</td>\n",
       "      <td>4</td>\n",
       "      <td>1</td>\n",
       "      <td>0</td>\n",
       "      <td>0</td>\n",
       "      <td>0</td>\n",
       "      <td>0</td>\n",
       "      <td>...</td>\n",
       "      <td>0.0</td>\n",
       "      <td>0.0</td>\n",
       "      <td>0.0</td>\n",
       "      <td>0.0</td>\n",
       "      <td>0.0</td>\n",
       "      <td>0.000000</td>\n",
       "      <td>0.00000</td>\n",
       "      <td>0.0</td>\n",
       "      <td>0.0</td>\n",
       "      <td>0.0</td>\n",
       "    </tr>\n",
       "    <tr>\n",
       "      <td>3</td>\n",
       "      <td>4</td>\n",
       "      <td>0</td>\n",
       "      <td>1</td>\n",
       "      <td>5</td>\n",
       "      <td>5</td>\n",
       "      <td>7</td>\n",
       "      <td>2</td>\n",
       "      <td>0</td>\n",
       "      <td>1</td>\n",
       "      <td>5</td>\n",
       "      <td>...</td>\n",
       "      <td>0.0</td>\n",
       "      <td>0.0</td>\n",
       "      <td>0.0</td>\n",
       "      <td>0.0</td>\n",
       "      <td>0.0</td>\n",
       "      <td>0.000000</td>\n",
       "      <td>0.00000</td>\n",
       "      <td>0.0</td>\n",
       "      <td>0.0</td>\n",
       "      <td>0.0</td>\n",
       "    </tr>\n",
       "    <tr>\n",
       "      <td>4</td>\n",
       "      <td>5</td>\n",
       "      <td>0</td>\n",
       "      <td>2</td>\n",
       "      <td>1</td>\n",
       "      <td>1</td>\n",
       "      <td>1</td>\n",
       "      <td>2</td>\n",
       "      <td>0</td>\n",
       "      <td>0</td>\n",
       "      <td>0</td>\n",
       "      <td>...</td>\n",
       "      <td>0.0</td>\n",
       "      <td>0.0</td>\n",
       "      <td>0.0</td>\n",
       "      <td>0.0</td>\n",
       "      <td>0.0</td>\n",
       "      <td>0.000000</td>\n",
       "      <td>0.00000</td>\n",
       "      <td>0.0</td>\n",
       "      <td>0.0</td>\n",
       "      <td>0.0</td>\n",
       "    </tr>\n",
       "    <tr>\n",
       "      <td>...</td>\n",
       "      <td>...</td>\n",
       "      <td>...</td>\n",
       "      <td>...</td>\n",
       "      <td>...</td>\n",
       "      <td>...</td>\n",
       "      <td>...</td>\n",
       "      <td>...</td>\n",
       "      <td>...</td>\n",
       "      <td>...</td>\n",
       "      <td>...</td>\n",
       "      <td>...</td>\n",
       "      <td>...</td>\n",
       "      <td>...</td>\n",
       "      <td>...</td>\n",
       "      <td>...</td>\n",
       "      <td>...</td>\n",
       "      <td>...</td>\n",
       "      <td>...</td>\n",
       "      <td>...</td>\n",
       "      <td>...</td>\n",
       "      <td>...</td>\n",
       "    </tr>\n",
       "    <tr>\n",
       "      <td>295940</td>\n",
       "      <td>336373</td>\n",
       "      <td>0</td>\n",
       "      <td>5</td>\n",
       "      <td>4</td>\n",
       "      <td>8</td>\n",
       "      <td>7</td>\n",
       "      <td>2</td>\n",
       "      <td>0</td>\n",
       "      <td>2</td>\n",
       "      <td>4</td>\n",
       "      <td>...</td>\n",
       "      <td>0.0</td>\n",
       "      <td>0.0</td>\n",
       "      <td>0.0</td>\n",
       "      <td>0.0</td>\n",
       "      <td>0.0</td>\n",
       "      <td>0.000000</td>\n",
       "      <td>0.00000</td>\n",
       "      <td>0.0</td>\n",
       "      <td>0.0</td>\n",
       "      <td>0.0</td>\n",
       "    </tr>\n",
       "    <tr>\n",
       "      <td>295941</td>\n",
       "      <td>336375</td>\n",
       "      <td>0</td>\n",
       "      <td>0</td>\n",
       "      <td>1</td>\n",
       "      <td>0</td>\n",
       "      <td>0</td>\n",
       "      <td>0</td>\n",
       "      <td>0</td>\n",
       "      <td>0</td>\n",
       "      <td>0</td>\n",
       "      <td>...</td>\n",
       "      <td>0.0</td>\n",
       "      <td>0.0</td>\n",
       "      <td>0.0</td>\n",
       "      <td>0.0</td>\n",
       "      <td>0.0</td>\n",
       "      <td>0.000000</td>\n",
       "      <td>0.00000</td>\n",
       "      <td>0.0</td>\n",
       "      <td>0.0</td>\n",
       "      <td>0.0</td>\n",
       "    </tr>\n",
       "    <tr>\n",
       "      <td>295942</td>\n",
       "      <td>336376</td>\n",
       "      <td>0</td>\n",
       "      <td>5</td>\n",
       "      <td>2</td>\n",
       "      <td>3</td>\n",
       "      <td>0</td>\n",
       "      <td>0</td>\n",
       "      <td>0</td>\n",
       "      <td>1</td>\n",
       "      <td>1</td>\n",
       "      <td>...</td>\n",
       "      <td>0.0</td>\n",
       "      <td>0.0</td>\n",
       "      <td>0.0</td>\n",
       "      <td>0.0</td>\n",
       "      <td>0.0</td>\n",
       "      <td>0.000000</td>\n",
       "      <td>0.00000</td>\n",
       "      <td>0.0</td>\n",
       "      <td>0.0</td>\n",
       "      <td>0.0</td>\n",
       "    </tr>\n",
       "    <tr>\n",
       "      <td>295943</td>\n",
       "      <td>336377</td>\n",
       "      <td>0</td>\n",
       "      <td>3</td>\n",
       "      <td>2</td>\n",
       "      <td>1</td>\n",
       "      <td>0</td>\n",
       "      <td>0</td>\n",
       "      <td>0</td>\n",
       "      <td>0</td>\n",
       "      <td>1</td>\n",
       "      <td>...</td>\n",
       "      <td>0.0</td>\n",
       "      <td>0.0</td>\n",
       "      <td>0.0</td>\n",
       "      <td>0.0</td>\n",
       "      <td>0.0</td>\n",
       "      <td>0.000000</td>\n",
       "      <td>0.00000</td>\n",
       "      <td>0.0</td>\n",
       "      <td>0.0</td>\n",
       "      <td>0.0</td>\n",
       "    </tr>\n",
       "    <tr>\n",
       "      <td>295944</td>\n",
       "      <td>336378</td>\n",
       "      <td>0</td>\n",
       "      <td>16</td>\n",
       "      <td>7</td>\n",
       "      <td>6</td>\n",
       "      <td>7</td>\n",
       "      <td>4</td>\n",
       "      <td>0</td>\n",
       "      <td>0</td>\n",
       "      <td>6</td>\n",
       "      <td>...</td>\n",
       "      <td>0.0</td>\n",
       "      <td>0.0</td>\n",
       "      <td>0.0</td>\n",
       "      <td>0.0</td>\n",
       "      <td>0.0</td>\n",
       "      <td>0.000000</td>\n",
       "      <td>0.35083</td>\n",
       "      <td>0.0</td>\n",
       "      <td>0.0</td>\n",
       "      <td>0.0</td>\n",
       "    </tr>\n",
       "  </tbody>\n",
       "</table>\n",
       "<p>295945 rows × 6547 columns</p>\n",
       "</div>"
      ],
      "text/plain": [
       "            id  smishing  EC  EF  EP  ETM  ETN  IC  JC  JKB  ...  \\\n",
       "0            0         0   0   2   1    1    0   0   0    0  ...   \n",
       "1            1         0   1   1   2    1    0   0   0    0  ...   \n",
       "2            2         0   2   5   4    1    0   0   0    0  ...   \n",
       "3            4         0   1   5   5    7    2   0   1    5  ...   \n",
       "4            5         0   2   1   1    1    2   0   0    0  ...   \n",
       "...        ...       ...  ..  ..  ..  ...  ...  ..  ..  ...  ...   \n",
       "295940  336373         0   5   4   8    7    2   0   2    4  ...   \n",
       "295941  336375         0   0   1   0    0    0   0   0    0  ...   \n",
       "295942  336376         0   5   2   3    0    0   0   1    1  ...   \n",
       "295943  336377         0   3   2   1    0    0   0   0    1  ...   \n",
       "295944  336378         0  16   7   6    7    4   0   0    6  ...   \n",
       "\n",
       "        tfidf_word_33_0490  tfidf_word_33_0491  tfidf_word_33_0492  \\\n",
       "0                      0.0                 0.0                 0.0   \n",
       "1                      0.0                 0.0                 0.0   \n",
       "2                      0.0                 0.0                 0.0   \n",
       "3                      0.0                 0.0                 0.0   \n",
       "4                      0.0                 0.0                 0.0   \n",
       "...                    ...                 ...                 ...   \n",
       "295940                 0.0                 0.0                 0.0   \n",
       "295941                 0.0                 0.0                 0.0   \n",
       "295942                 0.0                 0.0                 0.0   \n",
       "295943                 0.0                 0.0                 0.0   \n",
       "295944                 0.0                 0.0                 0.0   \n",
       "\n",
       "        tfidf_word_33_0493  tfidf_word_33_0494  tfidf_word_33_0495  \\\n",
       "0                      0.0                 0.0            0.739746   \n",
       "1                      0.0                 0.0            0.000000   \n",
       "2                      0.0                 0.0            0.000000   \n",
       "3                      0.0                 0.0            0.000000   \n",
       "4                      0.0                 0.0            0.000000   \n",
       "...                    ...                 ...                 ...   \n",
       "295940                 0.0                 0.0            0.000000   \n",
       "295941                 0.0                 0.0            0.000000   \n",
       "295942                 0.0                 0.0            0.000000   \n",
       "295943                 0.0                 0.0            0.000000   \n",
       "295944                 0.0                 0.0            0.000000   \n",
       "\n",
       "        tfidf_word_33_0496  tfidf_word_33_0497  tfidf_word_33_0498  \\\n",
       "0                  0.00000                 0.0                 0.0   \n",
       "1                  0.00000                 0.0                 0.0   \n",
       "2                  0.00000                 0.0                 0.0   \n",
       "3                  0.00000                 0.0                 0.0   \n",
       "4                  0.00000                 0.0                 0.0   \n",
       "...                    ...                 ...                 ...   \n",
       "295940             0.00000                 0.0                 0.0   \n",
       "295941             0.00000                 0.0                 0.0   \n",
       "295942             0.00000                 0.0                 0.0   \n",
       "295943             0.00000                 0.0                 0.0   \n",
       "295944             0.35083                 0.0                 0.0   \n",
       "\n",
       "        tfidf_word_33_0499  \n",
       "0                      0.0  \n",
       "1                      0.0  \n",
       "2                      0.0  \n",
       "3                      0.0  \n",
       "4                      0.0  \n",
       "...                    ...  \n",
       "295940                 0.0  \n",
       "295941                 0.0  \n",
       "295942                 0.0  \n",
       "295943                 0.0  \n",
       "295944                 0.0  \n",
       "\n",
       "[295945 rows x 6547 columns]"
      ]
     },
     "execution_count": 9,
     "metadata": {},
     "output_type": "execute_result"
    }
   ],
   "source": [
    "df_model"
   ]
  },
  {
   "cell_type": "markdown",
   "metadata": {},
   "source": [
    "#### Train"
   ]
  },
  {
   "cell_type": "code",
   "execution_count": 10,
   "metadata": {
    "ExecuteTime": {
     "end_time": "2020-01-01T16:36:24.994746Z",
     "start_time": "2020-01-01T16:11:05.010945Z"
    },
    "scrolled": false
   },
   "outputs": [
    {
     "data": {
      "application/vnd.jupyter.widget-view+json": {
       "model_id": "26dda4d59f714551a6d3d1576fe63c62",
       "version_major": 2,
       "version_minor": 0
      },
      "text/plain": [
       "HBox(children=(IntProgress(value=0, description='Try', max=1, style=ProgressStyle(description_width='initial')…"
      ]
     },
     "metadata": {},
     "output_type": "display_data"
    },
    {
     "name": "stdout",
     "output_type": "stream",
     "text": [
      "0 6545\n"
     ]
    },
    {
     "data": {
      "application/vnd.jupyter.widget-view+json": {
       "model_id": "cf464bc96bf046ee9eddb5739b5d5a17",
       "version_major": 2,
       "version_minor": 0
      },
      "text/plain": [
       "HBox(children=(IntProgress(value=0, description='CV', max=5, style=ProgressStyle(description_width='initial'))…"
      ]
     },
     "metadata": {},
     "output_type": "display_data"
    },
    {
     "name": "stdout",
     "output_type": "stream",
     "text": [
      "\n",
      " 0 ******************** 1 ********************\n",
      "train_set (array([0, 1]), array([221793,  14962]))\n",
      "valid_set (array([0, 1]), array([55449,  3741]))\n",
      "Training until validation scores don't improve for 300 rounds\n",
      "[200]\ttraining's auc: 0.99992\tvalid_1's auc: 0.999747\n",
      "[400]\ttraining's auc: 0.999993\tvalid_1's auc: 0.999815\n",
      "[600]\ttraining's auc: 0.999997\tvalid_1's auc: 0.999885\n",
      "[800]\ttraining's auc: 0.999999\tvalid_1's auc: 0.999931\n",
      "[1000]\ttraining's auc: 0.999999\tvalid_1's auc: 0.999956\n",
      "[1200]\ttraining's auc: 1\tvalid_1's auc: 0.999968\n",
      "[1400]\ttraining's auc: 1\tvalid_1's auc: 0.99998\n",
      "[1600]\ttraining's auc: 1\tvalid_1's auc: 0.999985\n",
      "[1800]\ttraining's auc: 1\tvalid_1's auc: 0.99999\n",
      "[2000]\ttraining's auc: 1\tvalid_1's auc: 0.999991\n",
      "[2200]\ttraining's auc: 1\tvalid_1's auc: 0.999994\n",
      "[2400]\ttraining's auc: 1\tvalid_1's auc: 0.999995\n",
      "[2600]\ttraining's auc: 1\tvalid_1's auc: 0.999996\n",
      "[2800]\ttraining's auc: 1\tvalid_1's auc: 0.999997\n",
      "[3000]\ttraining's auc: 1\tvalid_1's auc: 0.999997\n",
      "[3200]\ttraining's auc: 1\tvalid_1's auc: 0.999998\n",
      "[3400]\ttraining's auc: 1\tvalid_1's auc: 0.999998\n",
      "[3600]\ttraining's auc: 1\tvalid_1's auc: 0.999998\n",
      "[3800]\ttraining's auc: 1\tvalid_1's auc: 0.999998\n",
      "[4000]\ttraining's auc: 1\tvalid_1's auc: 0.999999\n",
      "[4200]\ttraining's auc: 1\tvalid_1's auc: 0.999999\n",
      "[4400]\ttraining's auc: 1\tvalid_1's auc: 0.999999\n",
      "[4600]\ttraining's auc: 1\tvalid_1's auc: 0.999999\n",
      "[4800]\ttraining's auc: 1\tvalid_1's auc: 0.999999\n",
      "[5000]\ttraining's auc: 1\tvalid_1's auc: 0.999999\n",
      "[5200]\ttraining's auc: 1\tvalid_1's auc: 0.999999\n",
      "Early stopping, best iteration is:\n",
      "[4924]\ttraining's auc: 1\tvalid_1's auc: 0.999999\n",
      "Best Iteration: 4924\n",
      "split: [('tfidf_word_22_0132_xxx 은행', 843), ('tfidf_word_11_1516_전화', 548), ('tfidf_word_11_0928_상품', 454), ('tfidf_char_11_0264_동', 417), ('tfidf_char_11_0731_점', 391)]\n",
      "gain: [('cnt_0715_자', 10166192.305194028), ('NNG', 5607835.523495078), ('fea__noun_cnt', 4407425.036279619), ('SN', 1360846.5096244812), ('tfidf_char_11_0715_자', 1231912.0310589373)]\n",
      "model\n",
      " {'auc': 0.9999998383879565, 'confusion_matrix': array([[277242,      0],\n",
      "       [    17,  18686]]), 'precision': 1.0, 'recall': 0.9990910549109768}\n",
      "\n",
      " 0 ******************** 2 ********************\n",
      "train_set (array([0, 1]), array([221793,  14962]))\n",
      "valid_set (array([0, 1]), array([55449,  3741]))\n",
      "Training until validation scores don't improve for 300 rounds\n",
      "[200]\ttraining's auc: 0.999835\tvalid_1's auc: 0.999937\n",
      "[400]\ttraining's auc: 0.999989\tvalid_1's auc: 0.999989\n",
      "[600]\ttraining's auc: 0.999996\tvalid_1's auc: 0.999994\n",
      "[800]\ttraining's auc: 0.999998\tvalid_1's auc: 0.999997\n",
      "[1000]\ttraining's auc: 0.999999\tvalid_1's auc: 0.999998\n",
      "[1200]\ttraining's auc: 0.999999\tvalid_1's auc: 0.999999\n",
      "[1400]\ttraining's auc: 1\tvalid_1's auc: 0.999999\n",
      "[1600]\ttraining's auc: 1\tvalid_1's auc: 0.999999\n",
      "[1800]\ttraining's auc: 1\tvalid_1's auc: 0.999999\n",
      "[2000]\ttraining's auc: 1\tvalid_1's auc: 1\n",
      "[2200]\ttraining's auc: 1\tvalid_1's auc: 1\n",
      "[2400]\ttraining's auc: 1\tvalid_1's auc: 1\n",
      "[2600]\ttraining's auc: 1\tvalid_1's auc: 1\n",
      "Early stopping, best iteration is:\n",
      "[2471]\ttraining's auc: 1\tvalid_1's auc: 1\n",
      "Best Iteration: 2471\n",
      "split: [('tfidf_word_22_0132_xxx 은행', 649), ('tfidf_word_11_1516_전화', 318), ('cnt_0583_신', 308), ('tfidf_word_11_1263_올림', 298), ('tfidf_char_11_0264_동', 257)]\n",
      "gain: [('cnt_0715_자', 11488388.20313263), ('NNG', 6054395.026348114), ('fea__noun_cnt', 3655324.316532135), ('SN', 1120828.3822774887), ('tfidf_word_11_1263_올림', 875525.2224721909)]\n",
      "model\n",
      " {'auc': 0.9999998977871324, 'confusion_matrix': array([[277223,     19],\n",
      "       [     2,  18701]]), 'precision': 0.9989850427350427, 'recall': 0.9998930652836443}\n",
      "\n",
      " 0 ******************** 3 ********************\n",
      "train_set (array([0, 1]), array([221794,  14962]))\n",
      "valid_set (array([0, 1]), array([55448,  3741]))\n",
      "Training until validation scores don't improve for 300 rounds\n",
      "[200]\ttraining's auc: 0.999904\tvalid_1's auc: 0.999867\n",
      "[400]\ttraining's auc: 0.999992\tvalid_1's auc: 0.999941\n",
      "[600]\ttraining's auc: 0.999997\tvalid_1's auc: 0.999957\n",
      "[800]\ttraining's auc: 0.999998\tvalid_1's auc: 0.999964\n",
      "[1000]\ttraining's auc: 0.999999\tvalid_1's auc: 0.99997\n",
      "[1200]\ttraining's auc: 0.999999\tvalid_1's auc: 0.999975\n",
      "[1400]\ttraining's auc: 1\tvalid_1's auc: 0.999979\n",
      "[1600]\ttraining's auc: 1\tvalid_1's auc: 0.999985\n",
      "[1800]\ttraining's auc: 1\tvalid_1's auc: 0.999988\n",
      "[2000]\ttraining's auc: 1\tvalid_1's auc: 0.999989\n",
      "[2200]\ttraining's auc: 1\tvalid_1's auc: 0.99999\n",
      "[2400]\ttraining's auc: 1\tvalid_1's auc: 0.999992\n",
      "[2600]\ttraining's auc: 1\tvalid_1's auc: 0.999993\n",
      "[2800]\ttraining's auc: 1\tvalid_1's auc: 0.999993\n",
      "[3000]\ttraining's auc: 1\tvalid_1's auc: 0.999994\n",
      "[3200]\ttraining's auc: 1\tvalid_1's auc: 0.999994\n",
      "[3400]\ttraining's auc: 1\tvalid_1's auc: 0.999994\n",
      "[3600]\ttraining's auc: 1\tvalid_1's auc: 0.999995\n",
      "[3800]\ttraining's auc: 1\tvalid_1's auc: 0.999995\n",
      "[4000]\ttraining's auc: 1\tvalid_1's auc: 0.999995\n",
      "[4200]\ttraining's auc: 1\tvalid_1's auc: 0.999995\n",
      "Early stopping, best iteration is:\n",
      "[3997]\ttraining's auc: 1\tvalid_1's auc: 0.999995\n",
      "Best Iteration: 3997\n",
      "split: [('tfidf_word_22_0132_xxx 은행', 935), ('tfidf_word_11_1516_전화', 444), ('tfidf_word_11_1263_올림', 413), ('tfidf_char_11_0731_점', 359), ('cnt_0583_신', 351)]\n",
      "gain: [('cnt_0715_자', 8615962.93688345), ('NNG', 6771462.96212393), ('fea__noun_cnt', 3704981.6341331005), ('cnt_0583_신', 3684165.155403137), ('fea__text_len', 837709.27714926)]\n",
      "model\n",
      " {'auc': 0.999999351044718, 'confusion_matrix': array([[277241,      1],\n",
      "       [     3,  18700]]), 'precision': 0.9999465269236939, 'recall': 0.9998395979254665}\n",
      "\n",
      " 0 ******************** 4 ********************\n",
      "train_set (array([0, 1]), array([221794,  14963]))\n",
      "valid_set (array([0, 1]), array([55448,  3740]))\n",
      "Training until validation scores don't improve for 300 rounds\n",
      "[200]\ttraining's auc: 0.999862\tvalid_1's auc: 0.999816\n",
      "[400]\ttraining's auc: 0.999988\tvalid_1's auc: 0.999952\n",
      "[600]\ttraining's auc: 0.999995\tvalid_1's auc: 0.99998\n",
      "[800]\ttraining's auc: 0.999998\tvalid_1's auc: 0.999989\n",
      "[1000]\ttraining's auc: 0.999999\tvalid_1's auc: 0.999995\n",
      "[1200]\ttraining's auc: 0.999999\tvalid_1's auc: 0.999997\n",
      "[1400]\ttraining's auc: 1\tvalid_1's auc: 0.999998\n",
      "[1600]\ttraining's auc: 1\tvalid_1's auc: 0.999999\n",
      "[1800]\ttraining's auc: 1\tvalid_1's auc: 0.999999\n",
      "[2000]\ttraining's auc: 1\tvalid_1's auc: 1\n",
      "[2200]\ttraining's auc: 1\tvalid_1's auc: 1\n",
      "[2400]\ttraining's auc: 1\tvalid_1's auc: 1\n",
      "[2600]\ttraining's auc: 1\tvalid_1's auc: 1\n",
      "[2800]\ttraining's auc: 1\tvalid_1's auc: 1\n",
      "[3000]\ttraining's auc: 1\tvalid_1's auc: 1\n",
      "Early stopping, best iteration is:\n",
      "[2755]\ttraining's auc: 1\tvalid_1's auc: 1\n",
      "Best Iteration: 2755\n",
      "split: [('tfidf_word_22_0132_xxx 은행', 624), ('tfidf_word_11_1263_올림', 356), ('tfidf_word_11_1516_전화', 354), ('tfidf_char_11_0731_점', 276), ('cnt_0583_신', 260)]\n",
      "gain: [('cnt_0715_자', 11634757.010062695), ('NNG', 5803480.683858395), ('fea__noun_cnt', 3858114.721373558), ('fea__text_len', 1432560.374707222), ('tfidf_word_11_1263_올림', 942009.357020855)]\n",
      "model\n",
      " {'auc': 1.0, 'confusion_matrix': array([[277226,     16],\n",
      "       [     0,  18703]]), 'precision': 0.9991452534857631, 'recall': 1.0}\n",
      "\n",
      " 0 ******************** 5 ********************\n",
      "train_set (array([0, 1]), array([221794,  14963]))\n",
      "valid_set (array([0, 1]), array([55448,  3740]))\n",
      "Training until validation scores don't improve for 300 rounds\n",
      "[200]\ttraining's auc: 0.999926\tvalid_1's auc: 0.999244\n",
      "[400]\ttraining's auc: 0.999984\tvalid_1's auc: 0.999489\n",
      "[600]\ttraining's auc: 0.999997\tvalid_1's auc: 0.999725\n",
      "[800]\ttraining's auc: 0.999999\tvalid_1's auc: 0.999837\n",
      "[1000]\ttraining's auc: 0.999999\tvalid_1's auc: 0.999879\n",
      "[1200]\ttraining's auc: 1\tvalid_1's auc: 0.999905\n",
      "[1400]\ttraining's auc: 1\tvalid_1's auc: 0.999925\n",
      "[1600]\ttraining's auc: 1\tvalid_1's auc: 0.999952\n",
      "[1800]\ttraining's auc: 1\tvalid_1's auc: 0.999958\n",
      "[2000]\ttraining's auc: 1\tvalid_1's auc: 0.999963\n",
      "[2200]\ttraining's auc: 1\tvalid_1's auc: 0.999966\n",
      "[2400]\ttraining's auc: 1\tvalid_1's auc: 0.999969\n",
      "[2600]\ttraining's auc: 1\tvalid_1's auc: 0.999972\n",
      "[2800]\ttraining's auc: 1\tvalid_1's auc: 0.999973\n",
      "[3000]\ttraining's auc: 1\tvalid_1's auc: 0.999979\n",
      "[3200]\ttraining's auc: 1\tvalid_1's auc: 0.999983\n",
      "[3400]\ttraining's auc: 1\tvalid_1's auc: 0.999984\n",
      "[3600]\ttraining's auc: 1\tvalid_1's auc: 0.999984\n",
      "[3800]\ttraining's auc: 1\tvalid_1's auc: 0.999985\n",
      "[4000]\ttraining's auc: 1\tvalid_1's auc: 0.999985\n"
     ]
    },
    {
     "name": "stdout",
     "output_type": "stream",
     "text": [
      "[4200]\ttraining's auc: 1\tvalid_1's auc: 0.999985\n",
      "[4400]\ttraining's auc: 1\tvalid_1's auc: 0.999986\n",
      "[4600]\ttraining's auc: 1\tvalid_1's auc: 0.999986\n",
      "Early stopping, best iteration is:\n",
      "[4460]\ttraining's auc: 1\tvalid_1's auc: 0.999986\n",
      "Best Iteration: 4460\n",
      "split: [('tfidf_word_22_0132_xxx 은행', 879), ('tfidf_word_11_0307_광고', 457), ('tfidf_word_11_1263_올림', 451), ('tfidf_word_11_1516_전화', 410), ('tfidf_word_11_0552_대환', 333)]\n",
      "gain: [('cnt_0715_자', 10554786.946340188), ('NNG', 8090486.678361863), ('fea__noun_cnt', 1807057.5245196223), ('fea__text_len', 1598521.1194939911), ('cnt_0126_금', 1460221.9497184753)]\n",
      "model\n",
      " {'auc': 0.9999989975424798, 'confusion_matrix': array([[277231,     11],\n",
      "       [     5,  18698]]), 'precision': 0.9994120476775883, 'recall': 0.9997326632091108}\n",
      "\n",
      "\n"
     ]
    }
   ],
   "source": [
    "pred_csv = []\n",
    "fea_size = -1\n",
    "try_cnt = 1\n",
    "\n",
    "for t in tqdm_notebook(range(try_cnt), total=try_cnt, desc = 'Try'):\n",
    "    fea_cols = [c for c in df_model.columns if c not in ['smishing', 'id', 'score']]\n",
    "    \n",
    "    if fea_size > 0:\n",
    "        fea_cols = list(set(np.random.choice(fea_cols, fea_size)))\n",
    "        print(t, len(fea_cols), fea_cols[:100])\n",
    "    else:\n",
    "        print(t, len(fea_cols))\n",
    "\n",
    "    [df_model.drop(c, axis=1, inplace=True) for c in df_model.columns if 'smishing_' in c]\n",
    "    [df_test.drop(c, axis=1, inplace=True) for c in df_test.columns if 'smishing_' in c]\n",
    "\n",
    "#     X = df_model[fea_cols].values\n",
    "#     y = df_model['smishing'].values\n",
    "\n",
    "    n_splits = 5\n",
    "    skf = StratifiedKFold(n_splits=n_splits, random_state=8405)\n",
    "    cnt = 0\n",
    "    \n",
    "#     train_data = lgb.Dataset(X, label=y, feature_name=fea_cols, categorical_feature=cat_cols, \n",
    "#                              free_raw_data=False, params=data_params)\n",
    "\n",
    "    # for train_index, valid_index in skf.split(X, y):\n",
    "    for train_index, valid_index in tqdm_notebook(skf.split(df_model[fea_cols].values, df_model['smishing'].values), total=n_splits, desc = 'CV'):\n",
    "        cnt = cnt + 1\n",
    "        print('\\n', t, '*' * 20, cnt, '*' * 20)\n",
    "        \n",
    "        train_set = lgb.Dataset(df_model.loc[train_index, fea_cols].values, \n",
    "                                 label=df_model.loc[train_index, 'smishing'].values, \n",
    "                                 feature_name=fea_cols, categorical_feature=cat_cols, \n",
    "                                 free_raw_data=True, params=data_params)\n",
    "        \n",
    "        valid_set = lgb.Dataset(df_model.loc[valid_index, fea_cols].values, \n",
    "                                 label=df_model.loc[valid_index, 'smishing'].values, \n",
    "                                 feature_name=fea_cols, categorical_feature=cat_cols, \n",
    "                                 free_raw_data=True, params=data_params)\n",
    "\n",
    "#         train_set = train_data.subset(train_index, params=data_params).construct()\n",
    "#         valid_set = train_data.subset(valid_index, params=data_params).construct()\n",
    "        print('train_set', np.unique(train_set.get_label(), return_counts=True))\n",
    "        print('valid_set', np.unique(valid_set.get_label(), return_counts=True))\n",
    "\n",
    "        bst = lgb.train(params, train_set, num_round, categorical_feature=cat_cols,\n",
    "                        early_stopping_rounds=300, \n",
    "                        valid_sets=[train_set, valid_set],\n",
    "                        verbose_eval=200,\n",
    "                        # init_model=init_model,\n",
    "                       )\n",
    "\n",
    "        print('Best Iteration:', bst.best_iteration)\n",
    "        pred_tag = 'smishing_{}_{}__{}'.format(t, cnt, bst.best_iteration)\n",
    "\n",
    "        renamed_cols = [fea_dict[c] if c in fea_dict.keys() else c for c in fea_cols]\n",
    "\n",
    "        impt_dict = {k:v for k, v in zip(renamed_cols, bst.feature_importance(importance_type='split'))}\n",
    "        print('split:', sorted(impt_dict.items(), key=(lambda x:x[1]), reverse=True)[:5])\n",
    "        joblib.dump(impt_dict, 'model/{}_{}_split.pkl'.format(model_ts, pred_tag))\n",
    "\n",
    "        impt_dict = {k:v for k, v in zip(renamed_cols, bst.feature_importance(importance_type='gain'))}    \n",
    "        print('gain:', sorted(impt_dict.items(), key=(lambda x:x[1]), reverse=True)[:5])\n",
    "        joblib.dump(impt_dict, 'model/{}_gain.pkl'.format(model_ts, pred_tag))\n",
    "\n",
    "        df_model['score'] = bst.predict(df_model[fea_cols].values)    \n",
    "        df_model[['score']].to_csv('submit/{}_{}_lgb_score.csv'.format(model_ts, pred_tag), index=True)\n",
    "        \n",
    "        print('model\\n', eval_summary(df_model['smishing'].values, df_model['score'].values, cut_off=0.5))\n",
    "        \n",
    "        df_test['smishing'] = bst.predict(df_test[fea_cols].values)    \n",
    "        df_test[['smishing']].to_csv('submit/{}_{}_lgb.csv'.format(model_ts, pred_tag), index=True)\n",
    "        pred_csv.append('submit/{}_{}_lgb.csv'.format(model_ts, pred_tag))\n"
   ]
  },
  {
   "cell_type": "code",
   "execution_count": 11,
   "metadata": {
    "ExecuteTime": {
     "end_time": "2020-01-01T16:36:25.022881Z",
     "start_time": "2020-01-01T16:36:25.004792Z"
    }
   },
   "outputs": [],
   "source": [
    "# y_true = df_model['smishing'].values\n",
    "# y_score = df_model[[c for c in df_model.columns if 'smishing_' in c]].mean(axis=1)\n",
    "\n",
    "# print('agg model\\n', eval_summary(y_true, y_score, cut_off=0.5))"
   ]
  },
  {
   "cell_type": "code",
   "execution_count": 12,
   "metadata": {
    "ExecuteTime": {
     "end_time": "2020-01-01T16:36:25.030562Z",
     "start_time": "2020-01-01T16:36:25.023872Z"
    },
    "scrolled": true
   },
   "outputs": [],
   "source": [
    "# df_model[(y_score <= 0.5) & (y_true == 1)]['text']"
   ]
  },
  {
   "cell_type": "code",
   "execution_count": 13,
   "metadata": {
    "ExecuteTime": {
     "end_time": "2020-01-01T16:36:25.036101Z",
     "start_time": "2020-01-01T16:36:25.031484Z"
    },
    "scrolled": true
   },
   "outputs": [],
   "source": [
    "# df_model[(y_score > 0.5) & (y_true == 0)]['text']"
   ]
  },
  {
   "cell_type": "code",
   "execution_count": 14,
   "metadata": {
    "ExecuteTime": {
     "end_time": "2020-01-01T16:36:25.062513Z",
     "start_time": "2020-01-01T16:36:25.037208Z"
    }
   },
   "outputs": [
    {
     "name": "stdout",
     "output_type": "stream",
     "text": [
      "5\n"
     ]
    }
   ],
   "source": [
    "print(len(pred_csv))\n",
    "\n",
    "df_submit = pd.concat([pd.read_csv(csv, index_col=0) for csv in pred_csv], axis=1)"
   ]
  },
  {
   "cell_type": "code",
   "execution_count": 15,
   "metadata": {
    "ExecuteTime": {
     "end_time": "2020-01-01T16:36:25.154799Z",
     "start_time": "2020-01-01T16:36:25.063352Z"
    }
   },
   "outputs": [
    {
     "name": "stdout",
     "output_type": "stream",
     "text": [
      "submit/20200102T011104_smishing_0_1__4924_lgb.csv\n",
      "submit/20200102T011104_smishing_0_2__2471_lgb.csv\n",
      "submit/20200102T011104_smishing_0_3__3997_lgb.csv\n",
      "submit/20200102T011104_smishing_0_4__2755_lgb.csv\n",
      "submit/20200102T011104_smishing_0_5__4460_lgb.csv\n"
     ]
    }
   ],
   "source": [
    "df_submit = df_test[['smishing']]\n",
    "df_submit['smishing'] = 0\n",
    "for csv in pred_csv:\n",
    "    print(csv)\n",
    "    df = pd.read_csv(csv, index_col=0)\n",
    "    df_submit['smishing'] = df_submit['smishing'] + df['smishing']\n",
    "    c = csv.split('__')[0][-1]\n",
    "    df_submit['smishing_{}'.format(c)] = df['smishing']\n",
    "#     display(df.head())\n",
    "df_submit['smishing'] = df_submit['smishing'] / len(pred_csv)"
   ]
  },
  {
   "cell_type": "code",
   "execution_count": 16,
   "metadata": {
    "ExecuteTime": {
     "end_time": "2020-01-01T16:36:25.161853Z",
     "start_time": "2020-01-01T16:36:25.155779Z"
    },
    "scrolled": true
   },
   "outputs": [],
   "source": [
    "pred_cols = [c for c in df_submit.columns if 'smishing_' in c]\n",
    "pred_cols.remove('smishing_1')\n",
    "pred_cols.remove('smishing_2')\n",
    "df_submit['std'] = df_submit[pred_cols].std(axis=1)\n",
    "df_submit['median'] = df_submit[pred_cols].median(axis=1)"
   ]
  },
  {
   "cell_type": "code",
   "execution_count": 18,
   "metadata": {
    "ExecuteTime": {
     "end_time": "2020-01-01T16:36:25.195155Z",
     "start_time": "2020-01-01T16:36:25.174327Z"
    }
   },
   "outputs": [
    {
     "name": "stdout",
     "output_type": "stream",
     "text": [
      "(1626, 8)\n"
     ]
    },
    {
     "data": {
      "text/html": [
       "<div>\n",
       "<style scoped>\n",
       "    .dataframe tbody tr th:only-of-type {\n",
       "        vertical-align: middle;\n",
       "    }\n",
       "\n",
       "    .dataframe tbody tr th {\n",
       "        vertical-align: top;\n",
       "    }\n",
       "\n",
       "    .dataframe thead th {\n",
       "        text-align: right;\n",
       "    }\n",
       "</style>\n",
       "<table border=\"1\" class=\"dataframe\">\n",
       "  <thead>\n",
       "    <tr style=\"text-align: right;\">\n",
       "      <th></th>\n",
       "      <th>smishing</th>\n",
       "      <th>smishing_1</th>\n",
       "      <th>smishing_2</th>\n",
       "      <th>smishing_3</th>\n",
       "      <th>smishing_4</th>\n",
       "      <th>smishing_5</th>\n",
       "      <th>std</th>\n",
       "      <th>median</th>\n",
       "    </tr>\n",
       "    <tr>\n",
       "      <th>id</th>\n",
       "      <th></th>\n",
       "      <th></th>\n",
       "      <th></th>\n",
       "      <th></th>\n",
       "      <th></th>\n",
       "      <th></th>\n",
       "      <th></th>\n",
       "      <th></th>\n",
       "    </tr>\n",
       "  </thead>\n",
       "  <tbody>\n",
       "    <tr>\n",
       "      <td>341227</td>\n",
       "      <td>0.689307</td>\n",
       "      <td>0.701385</td>\n",
       "      <td>0.858278</td>\n",
       "      <td>0.951755</td>\n",
       "      <td>0.870225</td>\n",
       "      <td>0.064891</td>\n",
       "      <td>0.490193</td>\n",
       "      <td>0.870225</td>\n",
       "    </tr>\n",
       "    <tr>\n",
       "      <td>341349</td>\n",
       "      <td>0.472185</td>\n",
       "      <td>0.060592</td>\n",
       "      <td>0.908467</td>\n",
       "      <td>0.233100</td>\n",
       "      <td>0.923623</td>\n",
       "      <td>0.235142</td>\n",
       "      <td>0.398085</td>\n",
       "      <td>0.235142</td>\n",
       "    </tr>\n",
       "    <tr>\n",
       "      <td>341365</td>\n",
       "      <td>0.505751</td>\n",
       "      <td>0.084262</td>\n",
       "      <td>0.910463</td>\n",
       "      <td>0.313221</td>\n",
       "      <td>0.927501</td>\n",
       "      <td>0.293307</td>\n",
       "      <td>0.360541</td>\n",
       "      <td>0.313221</td>\n",
       "    </tr>\n",
       "    <tr>\n",
       "      <td>341364</td>\n",
       "      <td>0.380077</td>\n",
       "      <td>0.019984</td>\n",
       "      <td>0.716490</td>\n",
       "      <td>0.357885</td>\n",
       "      <td>0.752433</td>\n",
       "      <td>0.053591</td>\n",
       "      <td>0.350391</td>\n",
       "      <td>0.357885</td>\n",
       "    </tr>\n",
       "    <tr>\n",
       "      <td>341620</td>\n",
       "      <td>0.674929</td>\n",
       "      <td>0.562716</td>\n",
       "      <td>0.617101</td>\n",
       "      <td>0.905276</td>\n",
       "      <td>0.330301</td>\n",
       "      <td>0.959250</td>\n",
       "      <td>0.348589</td>\n",
       "      <td>0.905276</td>\n",
       "    </tr>\n",
       "    <tr>\n",
       "      <td>340913</td>\n",
       "      <td>0.669996</td>\n",
       "      <td>0.508363</td>\n",
       "      <td>0.914880</td>\n",
       "      <td>0.264693</td>\n",
       "      <td>0.777744</td>\n",
       "      <td>0.884298</td>\n",
       "      <td>0.331282</td>\n",
       "      <td>0.777744</td>\n",
       "    </tr>\n",
       "    <tr>\n",
       "      <td>340275</td>\n",
       "      <td>0.382295</td>\n",
       "      <td>0.010439</td>\n",
       "      <td>0.241647</td>\n",
       "      <td>0.369761</td>\n",
       "      <td>0.356885</td>\n",
       "      <td>0.932742</td>\n",
       "      <td>0.328817</td>\n",
       "      <td>0.369761</td>\n",
       "    </tr>\n",
       "    <tr>\n",
       "      <td>340276</td>\n",
       "      <td>0.383755</td>\n",
       "      <td>0.010578</td>\n",
       "      <td>0.241647</td>\n",
       "      <td>0.373809</td>\n",
       "      <td>0.358027</td>\n",
       "      <td>0.934715</td>\n",
       "      <td>0.328490</td>\n",
       "      <td>0.373809</td>\n",
       "    </tr>\n",
       "    <tr>\n",
       "      <td>341434</td>\n",
       "      <td>0.343272</td>\n",
       "      <td>0.282168</td>\n",
       "      <td>0.106437</td>\n",
       "      <td>0.743182</td>\n",
       "      <td>0.115434</td>\n",
       "      <td>0.469138</td>\n",
       "      <td>0.314715</td>\n",
       "      <td>0.469138</td>\n",
       "    </tr>\n",
       "    <tr>\n",
       "      <td>340606</td>\n",
       "      <td>0.747836</td>\n",
       "      <td>0.927153</td>\n",
       "      <td>0.622708</td>\n",
       "      <td>0.912331</td>\n",
       "      <td>0.366738</td>\n",
       "      <td>0.910249</td>\n",
       "      <td>0.314399</td>\n",
       "      <td>0.910249</td>\n",
       "    </tr>\n",
       "    <tr>\n",
       "      <td>341000</td>\n",
       "      <td>0.280873</td>\n",
       "      <td>0.006555</td>\n",
       "      <td>0.396646</td>\n",
       "      <td>0.172454</td>\n",
       "      <td>0.694939</td>\n",
       "      <td>0.133770</td>\n",
       "      <td>0.313422</td>\n",
       "      <td>0.172454</td>\n",
       "    </tr>\n",
       "    <tr>\n",
       "      <td>340630</td>\n",
       "      <td>0.480040</td>\n",
       "      <td>0.083177</td>\n",
       "      <td>0.772302</td>\n",
       "      <td>0.247752</td>\n",
       "      <td>0.831233</td>\n",
       "      <td>0.465739</td>\n",
       "      <td>0.294832</td>\n",
       "      <td>0.465739</td>\n",
       "    </tr>\n",
       "    <tr>\n",
       "      <td>341437</td>\n",
       "      <td>0.326490</td>\n",
       "      <td>0.207899</td>\n",
       "      <td>0.112860</td>\n",
       "      <td>0.749840</td>\n",
       "      <td>0.178471</td>\n",
       "      <td>0.383379</td>\n",
       "      <td>0.289466</td>\n",
       "      <td>0.383379</td>\n",
       "    </tr>\n",
       "    <tr>\n",
       "      <td>341477</td>\n",
       "      <td>0.334027</td>\n",
       "      <td>0.205059</td>\n",
       "      <td>0.130697</td>\n",
       "      <td>0.749761</td>\n",
       "      <td>0.179581</td>\n",
       "      <td>0.405036</td>\n",
       "      <td>0.287162</td>\n",
       "      <td>0.405036</td>\n",
       "    </tr>\n",
       "    <tr>\n",
       "      <td>341412</td>\n",
       "      <td>0.246332</td>\n",
       "      <td>0.007385</td>\n",
       "      <td>0.425590</td>\n",
       "      <td>0.159991</td>\n",
       "      <td>0.584734</td>\n",
       "      <td>0.053960</td>\n",
       "      <td>0.280883</td>\n",
       "      <td>0.159991</td>\n",
       "    </tr>\n",
       "    <tr>\n",
       "      <td>340282</td>\n",
       "      <td>0.535752</td>\n",
       "      <td>0.181888</td>\n",
       "      <td>0.891302</td>\n",
       "      <td>0.407399</td>\n",
       "      <td>0.825855</td>\n",
       "      <td>0.372316</td>\n",
       "      <td>0.252333</td>\n",
       "      <td>0.407399</td>\n",
       "    </tr>\n",
       "    <tr>\n",
       "      <td>340217</td>\n",
       "      <td>0.481979</td>\n",
       "      <td>0.053273</td>\n",
       "      <td>0.557142</td>\n",
       "      <td>0.319204</td>\n",
       "      <td>0.702788</td>\n",
       "      <td>0.777489</td>\n",
       "      <td>0.245880</td>\n",
       "      <td>0.702788</td>\n",
       "    </tr>\n",
       "    <tr>\n",
       "      <td>341426</td>\n",
       "      <td>0.204259</td>\n",
       "      <td>0.008185</td>\n",
       "      <td>0.346894</td>\n",
       "      <td>0.113421</td>\n",
       "      <td>0.501926</td>\n",
       "      <td>0.050868</td>\n",
       "      <td>0.244371</td>\n",
       "      <td>0.113421</td>\n",
       "    </tr>\n",
       "    <tr>\n",
       "      <td>341440</td>\n",
       "      <td>0.239277</td>\n",
       "      <td>0.079196</td>\n",
       "      <td>0.109836</td>\n",
       "      <td>0.538582</td>\n",
       "      <td>0.065926</td>\n",
       "      <td>0.402845</td>\n",
       "      <td>0.243359</td>\n",
       "      <td>0.402845</td>\n",
       "    </tr>\n",
       "    <tr>\n",
       "      <td>341343</td>\n",
       "      <td>0.168678</td>\n",
       "      <td>0.004105</td>\n",
       "      <td>0.349516</td>\n",
       "      <td>0.047242</td>\n",
       "      <td>0.434194</td>\n",
       "      <td>0.008332</td>\n",
       "      <td>0.235444</td>\n",
       "      <td>0.047242</td>\n",
       "    </tr>\n",
       "    <tr>\n",
       "      <td>340046</td>\n",
       "      <td>0.536454</td>\n",
       "      <td>0.062318</td>\n",
       "      <td>0.757255</td>\n",
       "      <td>0.388075</td>\n",
       "      <td>0.856583</td>\n",
       "      <td>0.618040</td>\n",
       "      <td>0.234267</td>\n",
       "      <td>0.618040</td>\n",
       "    </tr>\n",
       "    <tr>\n",
       "      <td>340110</td>\n",
       "      <td>0.227981</td>\n",
       "      <td>0.006863</td>\n",
       "      <td>0.461756</td>\n",
       "      <td>0.095675</td>\n",
       "      <td>0.476497</td>\n",
       "      <td>0.099113</td>\n",
       "      <td>0.218882</td>\n",
       "      <td>0.099113</td>\n",
       "    </tr>\n",
       "    <tr>\n",
       "      <td>340285</td>\n",
       "      <td>0.660955</td>\n",
       "      <td>0.214430</td>\n",
       "      <td>0.772951</td>\n",
       "      <td>0.570993</td>\n",
       "      <td>0.746742</td>\n",
       "      <td>0.999657</td>\n",
       "      <td>0.215487</td>\n",
       "      <td>0.746742</td>\n",
       "    </tr>\n",
       "    <tr>\n",
       "      <td>340592</td>\n",
       "      <td>0.280722</td>\n",
       "      <td>0.006877</td>\n",
       "      <td>0.251819</td>\n",
       "      <td>0.135252</td>\n",
       "      <td>0.490243</td>\n",
       "      <td>0.519417</td>\n",
       "      <td>0.213874</td>\n",
       "      <td>0.490243</td>\n",
       "    </tr>\n",
       "    <tr>\n",
       "      <td>340118</td>\n",
       "      <td>0.351105</td>\n",
       "      <td>0.015432</td>\n",
       "      <td>0.362156</td>\n",
       "      <td>0.225599</td>\n",
       "      <td>0.509398</td>\n",
       "      <td>0.642941</td>\n",
       "      <td>0.213132</td>\n",
       "      <td>0.509398</td>\n",
       "    </tr>\n",
       "    <tr>\n",
       "      <td>340266</td>\n",
       "      <td>0.531489</td>\n",
       "      <td>0.191576</td>\n",
       "      <td>0.849394</td>\n",
       "      <td>0.339915</td>\n",
       "      <td>0.760290</td>\n",
       "      <td>0.516268</td>\n",
       "      <td>0.211093</td>\n",
       "      <td>0.516268</td>\n",
       "    </tr>\n",
       "    <tr>\n",
       "      <td>341414</td>\n",
       "      <td>0.148234</td>\n",
       "      <td>0.005840</td>\n",
       "      <td>0.258263</td>\n",
       "      <td>0.038889</td>\n",
       "      <td>0.397257</td>\n",
       "      <td>0.040920</td>\n",
       "      <td>0.206320</td>\n",
       "      <td>0.040920</td>\n",
       "    </tr>\n",
       "    <tr>\n",
       "      <td>341196</td>\n",
       "      <td>0.236064</td>\n",
       "      <td>0.040451</td>\n",
       "      <td>0.319029</td>\n",
       "      <td>0.075537</td>\n",
       "      <td>0.479338</td>\n",
       "      <td>0.265966</td>\n",
       "      <td>0.202009</td>\n",
       "      <td>0.265966</td>\n",
       "    </tr>\n",
       "    <tr>\n",
       "      <td>340639</td>\n",
       "      <td>0.222651</td>\n",
       "      <td>0.039333</td>\n",
       "      <td>0.293978</td>\n",
       "      <td>0.063110</td>\n",
       "      <td>0.459357</td>\n",
       "      <td>0.257478</td>\n",
       "      <td>0.198135</td>\n",
       "      <td>0.257478</td>\n",
       "    </tr>\n",
       "    <tr>\n",
       "      <td>340917</td>\n",
       "      <td>0.222721</td>\n",
       "      <td>0.038853</td>\n",
       "      <td>0.294403</td>\n",
       "      <td>0.063842</td>\n",
       "      <td>0.459357</td>\n",
       "      <td>0.257153</td>\n",
       "      <td>0.197774</td>\n",
       "      <td>0.257153</td>\n",
       "    </tr>\n",
       "  </tbody>\n",
       "</table>\n",
       "</div>"
      ],
      "text/plain": [
       "        smishing  smishing_1  smishing_2  smishing_3  smishing_4  smishing_5  \\\n",
       "id                                                                             \n",
       "341227  0.689307    0.701385    0.858278    0.951755    0.870225    0.064891   \n",
       "341349  0.472185    0.060592    0.908467    0.233100    0.923623    0.235142   \n",
       "341365  0.505751    0.084262    0.910463    0.313221    0.927501    0.293307   \n",
       "341364  0.380077    0.019984    0.716490    0.357885    0.752433    0.053591   \n",
       "341620  0.674929    0.562716    0.617101    0.905276    0.330301    0.959250   \n",
       "340913  0.669996    0.508363    0.914880    0.264693    0.777744    0.884298   \n",
       "340275  0.382295    0.010439    0.241647    0.369761    0.356885    0.932742   \n",
       "340276  0.383755    0.010578    0.241647    0.373809    0.358027    0.934715   \n",
       "341434  0.343272    0.282168    0.106437    0.743182    0.115434    0.469138   \n",
       "340606  0.747836    0.927153    0.622708    0.912331    0.366738    0.910249   \n",
       "341000  0.280873    0.006555    0.396646    0.172454    0.694939    0.133770   \n",
       "340630  0.480040    0.083177    0.772302    0.247752    0.831233    0.465739   \n",
       "341437  0.326490    0.207899    0.112860    0.749840    0.178471    0.383379   \n",
       "341477  0.334027    0.205059    0.130697    0.749761    0.179581    0.405036   \n",
       "341412  0.246332    0.007385    0.425590    0.159991    0.584734    0.053960   \n",
       "340282  0.535752    0.181888    0.891302    0.407399    0.825855    0.372316   \n",
       "340217  0.481979    0.053273    0.557142    0.319204    0.702788    0.777489   \n",
       "341426  0.204259    0.008185    0.346894    0.113421    0.501926    0.050868   \n",
       "341440  0.239277    0.079196    0.109836    0.538582    0.065926    0.402845   \n",
       "341343  0.168678    0.004105    0.349516    0.047242    0.434194    0.008332   \n",
       "340046  0.536454    0.062318    0.757255    0.388075    0.856583    0.618040   \n",
       "340110  0.227981    0.006863    0.461756    0.095675    0.476497    0.099113   \n",
       "340285  0.660955    0.214430    0.772951    0.570993    0.746742    0.999657   \n",
       "340592  0.280722    0.006877    0.251819    0.135252    0.490243    0.519417   \n",
       "340118  0.351105    0.015432    0.362156    0.225599    0.509398    0.642941   \n",
       "340266  0.531489    0.191576    0.849394    0.339915    0.760290    0.516268   \n",
       "341414  0.148234    0.005840    0.258263    0.038889    0.397257    0.040920   \n",
       "341196  0.236064    0.040451    0.319029    0.075537    0.479338    0.265966   \n",
       "340639  0.222651    0.039333    0.293978    0.063110    0.459357    0.257478   \n",
       "340917  0.222721    0.038853    0.294403    0.063842    0.459357    0.257153   \n",
       "\n",
       "             std    median  \n",
       "id                          \n",
       "341227  0.490193  0.870225  \n",
       "341349  0.398085  0.235142  \n",
       "341365  0.360541  0.313221  \n",
       "341364  0.350391  0.357885  \n",
       "341620  0.348589  0.905276  \n",
       "340913  0.331282  0.777744  \n",
       "340275  0.328817  0.369761  \n",
       "340276  0.328490  0.373809  \n",
       "341434  0.314715  0.469138  \n",
       "340606  0.314399  0.910249  \n",
       "341000  0.313422  0.172454  \n",
       "340630  0.294832  0.465739  \n",
       "341437  0.289466  0.383379  \n",
       "341477  0.287162  0.405036  \n",
       "341412  0.280883  0.159991  \n",
       "340282  0.252333  0.407399  \n",
       "340217  0.245880  0.702788  \n",
       "341426  0.244371  0.113421  \n",
       "341440  0.243359  0.402845  \n",
       "341343  0.235444  0.047242  \n",
       "340046  0.234267  0.618040  \n",
       "340110  0.218882  0.099113  \n",
       "340285  0.215487  0.746742  \n",
       "340592  0.213874  0.490243  \n",
       "340118  0.213132  0.509398  \n",
       "340266  0.211093  0.516268  \n",
       "341414  0.206320  0.040920  \n",
       "341196  0.202009  0.265966  \n",
       "340639  0.198135  0.257478  \n",
       "340917  0.197774  0.257153  "
      ]
     },
     "execution_count": 18,
     "metadata": {},
     "output_type": "execute_result"
    }
   ],
   "source": [
    "df_std = df_submit[df_submit['std'] < 1]\n",
    "print(df_std.shape)\n",
    "df_std.sort_values('std', ascending=False).head(30)"
   ]
  },
  {
   "cell_type": "code",
   "execution_count": 19,
   "metadata": {
    "ExecuteTime": {
     "end_time": "2020-01-01T16:36:25.425134Z",
     "start_time": "2020-01-01T16:36:25.196366Z"
    }
   },
   "outputs": [
    {
     "data": {
      "text/plain": [
       "<matplotlib.axes._subplots.AxesSubplot at 0x7efb7e28d5d0>"
      ]
     },
     "execution_count": 19,
     "metadata": {},
     "output_type": "execute_result"
    },
    {
     "data": {
      "image/png": "[encoded data removed]",
      "text/plain": [
       "<Figure size 1440x360 with 1 Axes>"
      ]
     },
     "metadata": {
      "needs_background": "light"
     },
     "output_type": "display_data"
    }
   ],
   "source": [
    "df_submit['smishing'].hist(bins=100, figsize=(20, 5))"
   ]
  },
  {
   "cell_type": "code",
   "execution_count": 20,
   "metadata": {
    "ExecuteTime": {
     "end_time": "2020-01-01T16:36:25.429939Z",
     "start_time": "2020-01-01T16:36:25.426184Z"
    }
   },
   "outputs": [
    {
     "data": {
      "text/plain": [
       "0    1445\n",
       "1      19\n",
       "2      12\n",
       "3       7\n",
       "4       5\n",
       "5       8\n",
       "6      14\n",
       "7      18\n",
       "8       6\n",
       "9      92\n",
       "Name: smishing, dtype: int64"
      ]
     },
     "execution_count": 20,
     "metadata": {},
     "output_type": "execute_result"
    }
   ],
   "source": [
    "(df_submit['smishing'] * 10).astype(int).value_counts(sort=False)"
   ]
  },
  {
   "cell_type": "code",
   "execution_count": 21,
   "metadata": {
    "ExecuteTime": {
     "end_time": "2020-01-01T16:36:25.442870Z",
     "start_time": "2020-01-01T16:36:25.430807Z"
    }
   },
   "outputs": [
    {
     "name": "stdout",
     "output_type": "stream",
     "text": [
      "20200102T011104\n"
     ]
    }
   ],
   "source": [
    "print(model_ts)\n",
    "df_submit[['smishing']].to_csv('submit/{}.csv'.format(model_ts), index=True)"
   ]
  },
  {
   "cell_type": "code",
   "execution_count": 22,
   "metadata": {
    "ExecuteTime": {
     "end_time": "2020-01-01T16:36:25.593951Z",
     "start_time": "2020-01-01T16:36:25.444119Z"
    },
    "scrolled": true
   },
   "outputs": [
    {
     "name": "stdout",
     "output_type": "stream",
     "text": [
      "3\n"
     ]
    },
    {
     "ename": "KeyError",
     "evalue": "\"None of [Index(['smishing_3', 'smishing_4', 'smishing_5'], dtype='object')] are in the [columns]\"",
     "output_type": "error",
     "traceback": [
      "\u001b[0;31m---------------------------------------------------------------------------\u001b[0m",
      "\u001b[0;31mKeyError\u001b[0m                                  Traceback (most recent call last)",
      "\u001b[0;32m<ipython-input-22-daf66b22063c>\u001b[0m in \u001b[0;36m<module>\u001b[0;34m\u001b[0m\n\u001b[1;32m      1\u001b[0m \u001b[0mprint\u001b[0m\u001b[0;34m(\u001b[0m\u001b[0mlen\u001b[0m\u001b[0;34m(\u001b[0m\u001b[0mpred_cols\u001b[0m\u001b[0;34m)\u001b[0m\u001b[0;34m)\u001b[0m\u001b[0;34m\u001b[0m\u001b[0;34m\u001b[0m\u001b[0m\n\u001b[0;32m----> 2\u001b[0;31m \u001b[0mdf_test\u001b[0m\u001b[0;34m[\u001b[0m\u001b[0;34m'pred_max'\u001b[0m\u001b[0;34m]\u001b[0m \u001b[0;34m=\u001b[0m \u001b[0mdf_test\u001b[0m\u001b[0;34m[\u001b[0m\u001b[0mpred_cols\u001b[0m\u001b[0;34m]\u001b[0m\u001b[0;34m.\u001b[0m\u001b[0mmax\u001b[0m\u001b[0;34m(\u001b[0m\u001b[0maxis\u001b[0m\u001b[0;34m=\u001b[0m\u001b[0;36m1\u001b[0m\u001b[0;34m)\u001b[0m\u001b[0;34m\u001b[0m\u001b[0;34m\u001b[0m\u001b[0m\n\u001b[0m\u001b[1;32m      3\u001b[0m \u001b[0mdf_test\u001b[0m\u001b[0;34m[\u001b[0m\u001b[0;34m'pred_min'\u001b[0m\u001b[0;34m]\u001b[0m \u001b[0;34m=\u001b[0m \u001b[0mdf_test\u001b[0m\u001b[0;34m[\u001b[0m\u001b[0mpred_cols\u001b[0m\u001b[0;34m]\u001b[0m\u001b[0;34m.\u001b[0m\u001b[0mmin\u001b[0m\u001b[0;34m(\u001b[0m\u001b[0maxis\u001b[0m\u001b[0;34m=\u001b[0m\u001b[0;36m1\u001b[0m\u001b[0;34m)\u001b[0m\u001b[0;34m\u001b[0m\u001b[0;34m\u001b[0m\u001b[0m\n\u001b[1;32m      4\u001b[0m \u001b[0mdf_test\u001b[0m\u001b[0;34m[\u001b[0m\u001b[0;34m'pred_mean'\u001b[0m\u001b[0;34m]\u001b[0m \u001b[0;34m=\u001b[0m \u001b[0mdf_test\u001b[0m\u001b[0;34m[\u001b[0m\u001b[0mpred_cols\u001b[0m\u001b[0;34m]\u001b[0m\u001b[0;34m.\u001b[0m\u001b[0mmean\u001b[0m\u001b[0;34m(\u001b[0m\u001b[0maxis\u001b[0m\u001b[0;34m=\u001b[0m\u001b[0;36m1\u001b[0m\u001b[0;34m)\u001b[0m\u001b[0;34m\u001b[0m\u001b[0;34m\u001b[0m\u001b[0m\n\u001b[1;32m      5\u001b[0m \u001b[0mdf_test\u001b[0m\u001b[0;34m[\u001b[0m\u001b[0;34m'pred_std'\u001b[0m\u001b[0;34m]\u001b[0m \u001b[0;34m=\u001b[0m \u001b[0mdf_test\u001b[0m\u001b[0;34m[\u001b[0m\u001b[0mpred_cols\u001b[0m\u001b[0;34m]\u001b[0m\u001b[0;34m.\u001b[0m\u001b[0mstd\u001b[0m\u001b[0;34m(\u001b[0m\u001b[0maxis\u001b[0m\u001b[0;34m=\u001b[0m\u001b[0;36m1\u001b[0m\u001b[0;34m)\u001b[0m\u001b[0;34m\u001b[0m\u001b[0;34m\u001b[0m\u001b[0m\n",
      "\u001b[0;32m~/anaconda3/lib/python3.7/site-packages/pandas/core/frame.py\u001b[0m in \u001b[0;36m__getitem__\u001b[0;34m(self, key)\u001b[0m\n\u001b[1;32m   2984\u001b[0m             \u001b[0;32mif\u001b[0m \u001b[0mis_iterator\u001b[0m\u001b[0;34m(\u001b[0m\u001b[0mkey\u001b[0m\u001b[0;34m)\u001b[0m\u001b[0;34m:\u001b[0m\u001b[0;34m\u001b[0m\u001b[0;34m\u001b[0m\u001b[0m\n\u001b[1;32m   2985\u001b[0m                 \u001b[0mkey\u001b[0m \u001b[0;34m=\u001b[0m \u001b[0mlist\u001b[0m\u001b[0;34m(\u001b[0m\u001b[0mkey\u001b[0m\u001b[0;34m)\u001b[0m\u001b[0;34m\u001b[0m\u001b[0;34m\u001b[0m\u001b[0m\n\u001b[0;32m-> 2986\u001b[0;31m             \u001b[0mindexer\u001b[0m \u001b[0;34m=\u001b[0m \u001b[0mself\u001b[0m\u001b[0;34m.\u001b[0m\u001b[0mloc\u001b[0m\u001b[0;34m.\u001b[0m\u001b[0m_convert_to_indexer\u001b[0m\u001b[0;34m(\u001b[0m\u001b[0mkey\u001b[0m\u001b[0;34m,\u001b[0m \u001b[0maxis\u001b[0m\u001b[0;34m=\u001b[0m\u001b[0;36m1\u001b[0m\u001b[0;34m,\u001b[0m \u001b[0mraise_missing\u001b[0m\u001b[0;34m=\u001b[0m\u001b[0;32mTrue\u001b[0m\u001b[0;34m)\u001b[0m\u001b[0;34m\u001b[0m\u001b[0;34m\u001b[0m\u001b[0m\n\u001b[0m\u001b[1;32m   2987\u001b[0m \u001b[0;34m\u001b[0m\u001b[0m\n\u001b[1;32m   2988\u001b[0m         \u001b[0;31m# take() does not accept boolean indexers\u001b[0m\u001b[0;34m\u001b[0m\u001b[0;34m\u001b[0m\u001b[0;34m\u001b[0m\u001b[0m\n",
      "\u001b[0;32m~/anaconda3/lib/python3.7/site-packages/pandas/core/indexing.py\u001b[0m in \u001b[0;36m_convert_to_indexer\u001b[0;34m(self, obj, axis, is_setter, raise_missing)\u001b[0m\n\u001b[1;32m   1283\u001b[0m                 \u001b[0;31m# When setting, missing keys are not allowed, even with .loc:\u001b[0m\u001b[0;34m\u001b[0m\u001b[0;34m\u001b[0m\u001b[0;34m\u001b[0m\u001b[0m\n\u001b[1;32m   1284\u001b[0m                 \u001b[0mkwargs\u001b[0m \u001b[0;34m=\u001b[0m \u001b[0;34m{\u001b[0m\u001b[0;34m\"raise_missing\"\u001b[0m\u001b[0;34m:\u001b[0m \u001b[0;32mTrue\u001b[0m \u001b[0;32mif\u001b[0m \u001b[0mis_setter\u001b[0m \u001b[0;32melse\u001b[0m \u001b[0mraise_missing\u001b[0m\u001b[0;34m}\u001b[0m\u001b[0;34m\u001b[0m\u001b[0;34m\u001b[0m\u001b[0m\n\u001b[0;32m-> 1285\u001b[0;31m                 \u001b[0;32mreturn\u001b[0m \u001b[0mself\u001b[0m\u001b[0;34m.\u001b[0m\u001b[0m_get_listlike_indexer\u001b[0m\u001b[0;34m(\u001b[0m\u001b[0mobj\u001b[0m\u001b[0;34m,\u001b[0m \u001b[0maxis\u001b[0m\u001b[0;34m,\u001b[0m \u001b[0;34m**\u001b[0m\u001b[0mkwargs\u001b[0m\u001b[0;34m)\u001b[0m\u001b[0;34m[\u001b[0m\u001b[0;36m1\u001b[0m\u001b[0;34m]\u001b[0m\u001b[0;34m\u001b[0m\u001b[0;34m\u001b[0m\u001b[0m\n\u001b[0m\u001b[1;32m   1286\u001b[0m         \u001b[0;32melse\u001b[0m\u001b[0;34m:\u001b[0m\u001b[0;34m\u001b[0m\u001b[0;34m\u001b[0m\u001b[0m\n\u001b[1;32m   1287\u001b[0m             \u001b[0;32mtry\u001b[0m\u001b[0;34m:\u001b[0m\u001b[0;34m\u001b[0m\u001b[0;34m\u001b[0m\u001b[0m\n",
      "\u001b[0;32m~/anaconda3/lib/python3.7/site-packages/pandas/core/indexing.py\u001b[0m in \u001b[0;36m_get_listlike_indexer\u001b[0;34m(self, key, axis, raise_missing)\u001b[0m\n\u001b[1;32m   1090\u001b[0m \u001b[0;34m\u001b[0m\u001b[0m\n\u001b[1;32m   1091\u001b[0m         self._validate_read_indexer(\n\u001b[0;32m-> 1092\u001b[0;31m             \u001b[0mkeyarr\u001b[0m\u001b[0;34m,\u001b[0m \u001b[0mindexer\u001b[0m\u001b[0;34m,\u001b[0m \u001b[0mo\u001b[0m\u001b[0;34m.\u001b[0m\u001b[0m_get_axis_number\u001b[0m\u001b[0;34m(\u001b[0m\u001b[0maxis\u001b[0m\u001b[0;34m)\u001b[0m\u001b[0;34m,\u001b[0m \u001b[0mraise_missing\u001b[0m\u001b[0;34m=\u001b[0m\u001b[0mraise_missing\u001b[0m\u001b[0;34m\u001b[0m\u001b[0;34m\u001b[0m\u001b[0m\n\u001b[0m\u001b[1;32m   1093\u001b[0m         )\n\u001b[1;32m   1094\u001b[0m         \u001b[0;32mreturn\u001b[0m \u001b[0mkeyarr\u001b[0m\u001b[0;34m,\u001b[0m \u001b[0mindexer\u001b[0m\u001b[0;34m\u001b[0m\u001b[0;34m\u001b[0m\u001b[0m\n",
      "\u001b[0;32m~/anaconda3/lib/python3.7/site-packages/pandas/core/indexing.py\u001b[0m in \u001b[0;36m_validate_read_indexer\u001b[0;34m(self, key, indexer, axis, raise_missing)\u001b[0m\n\u001b[1;32m   1175\u001b[0m                 raise KeyError(\n\u001b[1;32m   1176\u001b[0m                     \"None of [{key}] are in the [{axis}]\".format(\n\u001b[0;32m-> 1177\u001b[0;31m                         \u001b[0mkey\u001b[0m\u001b[0;34m=\u001b[0m\u001b[0mkey\u001b[0m\u001b[0;34m,\u001b[0m \u001b[0maxis\u001b[0m\u001b[0;34m=\u001b[0m\u001b[0mself\u001b[0m\u001b[0;34m.\u001b[0m\u001b[0mobj\u001b[0m\u001b[0;34m.\u001b[0m\u001b[0m_get_axis_name\u001b[0m\u001b[0;34m(\u001b[0m\u001b[0maxis\u001b[0m\u001b[0;34m)\u001b[0m\u001b[0;34m\u001b[0m\u001b[0;34m\u001b[0m\u001b[0m\n\u001b[0m\u001b[1;32m   1178\u001b[0m                     )\n\u001b[1;32m   1179\u001b[0m                 )\n",
      "\u001b[0;31mKeyError\u001b[0m: \"None of [Index(['smishing_3', 'smishing_4', 'smishing_5'], dtype='object')] are in the [columns]\""
     ]
    }
   ],
   "source": [
    "print(len(pred_cols))\n",
    "df_test['pred_max'] = df_test[pred_cols].max(axis=1)\n",
    "df_test['pred_min'] = df_test[pred_cols].min(axis=1)\n",
    "df_test['pred_mean'] = df_test[pred_cols].mean(axis=1)\n",
    "df_test['pred_std'] = df_test[pred_cols].std(axis=1)\n",
    "\n",
    "print(df_test['pred_std'].max(), df_test['pred_std'].min(), df_test['pred_std'].mean())\n",
    "\n",
    "df_test['smishing'] = df_test['pred_mean']"
   ]
  },
  {
   "cell_type": "code",
   "execution_count": null,
   "metadata": {
    "ExecuteTime": {
     "end_time": "2020-01-01T16:36:25.595883Z",
     "start_time": "2020-01-01T16:10:53.014Z"
    },
    "scrolled": false
   },
   "outputs": [],
   "source": [
    "df_test['smishing'].hist(bins=100, figsize=(20, 5))"
   ]
  },
  {
   "cell_type": "code",
   "execution_count": null,
   "metadata": {
    "ExecuteTime": {
     "end_time": "2020-01-01T16:36:25.596371Z",
     "start_time": "2020-01-01T16:10:53.015Z"
    }
   },
   "outputs": [],
   "source": [
    "(df_test['smishing'] * 10).astype(int).value_counts(sort=False)"
   ]
  },
  {
   "cell_type": "code",
   "execution_count": null,
   "metadata": {
    "ExecuteTime": {
     "end_time": "2020-01-01T16:36:25.596976Z",
     "start_time": "2020-01-01T16:10:53.016Z"
    }
   },
   "outputs": [],
   "source": [
    "# for c in pred_cols:\n",
    "#     print(c)\n",
    "#     display((df_test[c] * 10).astype(int).value_counts(sort=False))"
   ]
  },
  {
   "cell_type": "code",
   "execution_count": null,
   "metadata": {
    "ExecuteTime": {
     "end_time": "2020-01-01T16:36:25.597473Z",
     "start_time": "2020-01-01T16:10:53.017Z"
    }
   },
   "outputs": [],
   "source": [
    "model_ts"
   ]
  },
  {
   "cell_type": "code",
   "execution_count": null,
   "metadata": {
    "ExecuteTime": {
     "end_time": "2020-01-01T16:36:25.597958Z",
     "start_time": "2020-01-01T16:10:53.019Z"
    }
   },
   "outputs": [],
   "source": [
    "df_test['smishing'] = df_test['smishing']\n",
    "df_test[['smishing']].to_csv('submit/{}.csv'.format(model_ts), index=True)\n"
   ]
  },
  {
   "cell_type": "code",
   "execution_count": null,
   "metadata": {
    "ExecuteTime": {
     "end_time": "2020-01-01T16:36:25.598323Z",
     "start_time": "2020-01-01T16:10:53.020Z"
    }
   },
   "outputs": [],
   "source": [
    "# df_test['smishing'] = df_test['pred_mean']\n",
    "# df_test[['smishing']].to_csv('submit/{}_lgb.csv'.format(model_ts), index=True)\n",
    "# # df_test[['id', 'smishing', 'text']].sort_values('smishing', ascending=False).to_csv('{}_text.csv'.format(model_ts), index=False)\n"
   ]
  },
  {
   "cell_type": "code",
   "execution_count": null,
   "metadata": {},
   "outputs": [],
   "source": []
  }
 ],
 "metadata": {
  "accelerator": "GPU",
  "colab": {
   "collapsed_sections": [],
   "name": "mecab_tfidf.ipynb",
   "provenance": []
  },
  "kernelspec": {
   "display_name": "Python 3",
   "language": "python",
   "name": "python3"
  },
  "language_info": {
   "codemirror_mode": {
    "name": "ipython",
    "version": 3
   },
   "file_extension": ".py",
   "mimetype": "text/x-python",
   "name": "python",
   "nbconvert_exporter": "python",
   "pygments_lexer": "ipython3",
   "version": "3.7.4"
  },
  "toc": {
   "base_numbering": 1,
   "nav_menu": {},
   "number_sections": true,
   "sideBar": true,
   "skip_h1_title": false,
   "title_cell": "Table of Contents",
   "title_sidebar": "Contents",
   "toc_cell": false,
   "toc_position": {
    "height": "calc(100% - 180px)",
    "left": "10px",
    "top": "150px",
    "width": "165px"
   },
   "toc_section_display": true,
   "toc_window_display": true
  }
 },
 "nbformat": 4,
 "nbformat_minor": 1
}
