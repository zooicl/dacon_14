{
 "cells": [
  {
   "cell_type": "code",
   "execution_count": 1,
   "metadata": {
    "ExecuteTime": {
     "end_time": "2019-12-31T15:23:37.416349Z",
     "start_time": "2019-12-31T15:23:36.581935Z"
    },
    "colab": {
     "base_uri": "https://localhost:8080/",
     "height": 71
    },
    "colab_type": "code",
    "executionInfo": {
     "elapsed": 1590,
     "status": "ok",
     "timestamp": 1576286906380,
     "user": {
      "displayName": "주이클",
      "photoUrl": "https://lh3.googleusercontent.com/a-/AAuE7mCWVh4nvn9788qUddhoWTl5qQoYt0bzVMDlJWUumTg=s64",
      "userId": "02708070532256873610"
     },
     "user_tz": -540
    },
    "id": "U3xmRNtgpZwi",
    "outputId": "f6e95e03-5913-4a53-9ff3-1b6cde1b5a82"
   },
   "outputs": [
    {
     "name": "stderr",
     "output_type": "stream",
     "text": [
      "/home/aiden/anaconda3/lib/python3.7/site-packages/sklearn/externals/joblib/__init__.py:15: DeprecationWarning: sklearn.externals.joblib is deprecated in 0.21 and will be removed in 0.23. Please import this functionality directly from joblib, which can be installed with: pip install joblib. If this warning is raised when loading pickled models, you may need to re-serialize those models with scikit-learn 0.21+.\n",
      "  warnings.warn(msg, category=DeprecationWarning)\n"
     ]
    },
    {
     "name": "stdout",
     "output_type": "stream",
     "text": [
      "2.3.2\n",
      "1.3.1\n",
      "GeForce RTX 2070 SUPER\n",
      "True\n"
     ]
    },
    {
     "data": {
      "text/plain": [
       "device(type='cuda', index=0)"
      ]
     },
     "execution_count": 1,
     "metadata": {},
     "output_type": "execute_result"
    }
   ],
   "source": [
    "#!/usr/bin/env python\n",
    "# coding: utf-8\n",
    "get_ipython().run_line_magic('matplotlib', 'inline')\n",
    "import pandas as pd\n",
    "import time\n",
    "import numpy as np\n",
    "from datetime import datetime\n",
    "from sklearn.externals import joblib \n",
    "import os\n",
    "from konlpy.tag import Mecab\n",
    "import lightgbm as lgb\n",
    "print(lgb.__version__)\n",
    "\n",
    "from sklearn import metrics\n",
    "from sklearn.preprocessing import MinMaxScaler\n",
    "from sklearn.externals import joblib \n",
    "from sklearn.model_selection import StratifiedKFold\n",
    "\n",
    "import gc\n",
    "\n",
    "from tqdm import tqdm_notebook\n",
    "\n",
    "import warnings\n",
    "warnings.filterwarnings(action='ignore')\n",
    "\n",
    "\n",
    "import torch\n",
    "print(torch.__version__)\n",
    "import torch.nn.functional as F\n",
    "from torch.utils.data import Dataset, DataLoader\n",
    "\n",
    "from torchsummary import summary\n",
    "\n",
    "print(torch.cuda.get_device_name(0))\n",
    "print(torch.cuda.is_available())\n",
    "\n",
    "device = torch.device(\"cuda:0\" if torch.cuda.is_available() else \"cpu\")\n",
    "# device = torch.device('cpu')\n",
    "device"
   ]
  },
  {
   "cell_type": "code",
   "execution_count": 2,
   "metadata": {
    "ExecuteTime": {
     "end_time": "2019-12-31T15:23:38.556165Z",
     "start_time": "2019-12-31T15:23:37.417288Z"
    }
   },
   "outputs": [
    {
     "name": "stdout",
     "output_type": "stream",
     "text": [
      "/home/aiden/src/dacon_14\n"
     ]
    },
    {
     "data": {
      "text/plain": [
       "(297571, 3)"
      ]
     },
     "execution_count": 2,
     "metadata": {},
     "output_type": "execute_result"
    }
   ],
   "source": [
    "print(os.getcwd())\n",
    "\n",
    "base_path = '.'\n",
    "\n",
    "df_train = pd.read_csv(os.path.join(base_path , 'input/train.csv'), index_col=0)\n",
    "df_test = pd.read_csv(os.path.join(base_path , 'input/public_test.csv'), index_col=0)\n",
    "df_test['smishing'] = -1\n",
    "\n",
    "df_fea = pd.concat([df_train, df_test])\n",
    "df_fea.shape"
   ]
  },
  {
   "cell_type": "code",
   "execution_count": 3,
   "metadata": {
    "ExecuteTime": {
     "end_time": "2019-12-31T15:23:38.558828Z",
     "start_time": "2019-12-31T15:23:38.557195Z"
    }
   },
   "outputs": [],
   "source": [
    "dfs = []"
   ]
  },
  {
   "cell_type": "markdown",
   "metadata": {},
   "source": [
    "### Mecab"
   ]
  },
  {
   "cell_type": "code",
   "execution_count": 4,
   "metadata": {
    "ExecuteTime": {
     "end_time": "2019-12-31T15:23:38.564238Z",
     "start_time": "2019-12-31T15:23:38.559697Z"
    },
    "colab": {},
    "colab_type": "code",
    "id": "uquxguHUpZwt"
   },
   "outputs": [],
   "source": [
    "# mecab = Mecab()\n",
    "# # df_space['morphs'] = df_space['spacing'].apply(lambda x: mecab.morphs(x))\n",
    "# df_fea['nouns'] = df_fea['text'].apply(lambda x: mecab.nouns(x))\n",
    "\n",
    "# df_fea['nouns_str'] = df_fea['nouns'].apply(lambda x: ' '.join(x))"
   ]
  },
  {
   "cell_type": "code",
   "execution_count": 5,
   "metadata": {
    "ExecuteTime": {
     "end_time": "2019-12-31T15:23:38.571461Z",
     "start_time": "2019-12-31T15:23:38.564941Z"
    }
   },
   "outputs": [],
   "source": [
    "# df_fea.to_pickle('df_fea.pkl')"
   ]
  },
  {
   "cell_type": "code",
   "execution_count": 6,
   "metadata": {
    "ExecuteTime": {
     "end_time": "2019-12-31T15:23:41.006148Z",
     "start_time": "2019-12-31T15:23:38.573117Z"
    }
   },
   "outputs": [],
   "source": [
    "df_fea = pd.read_pickle('data/df_fea.pkl')#[:1000]"
   ]
  },
  {
   "cell_type": "code",
   "execution_count": 17,
   "metadata": {
    "ExecuteTime": {
     "end_time": "2019-12-31T15:28:25.120323Z",
     "start_time": "2019-12-31T15:28:25.112712Z"
    }
   },
   "outputs": [],
   "source": [
    "def _toidx(x):\n",
    "    return [int(vocab_dict[x[i]]) if i < len(x) else 0 for i in range(max_len)]\n",
    "\n",
    "def toidx(src_col, max_len):\n",
    "    idx_col_nm = '{}_{}_idx'.format(src_col, max_len)\n",
    "\n",
    "    vocab_set = set()\n",
    "    _ = df_fea[src_col].apply(lambda x: [vocab_set.add(c) for c in x])\n",
    "\n",
    "    vocab_dict = {v: i+1 for i, v in enumerate(vocab_set)}\n",
    "    vocab_dim = len(vocab_dict.keys()) + 1\n",
    "\n",
    "    def toidx(x):\n",
    "        return [int(vocab_dict[x[i]]) if i < len(x) else 0 for i in range(max_len)]\n",
    "\n",
    "    print(vocab_dim, max_len)\n",
    "    \n",
    "    return idx_col_nm, df_fea[src_col].apply(toidx), vocab_dim, max_len"
   ]
  },
  {
   "cell_type": "code",
   "execution_count": 18,
   "metadata": {
    "ExecuteTime": {
     "end_time": "2019-12-31T15:28:30.357159Z",
     "start_time": "2019-12-31T15:28:25.465865Z"
    }
   },
   "outputs": [
    {
     "name": "stdout",
     "output_type": "stream",
     "text": [
      "24161 100\n"
     ]
    },
    {
     "data": {
      "text/plain": [
       "'nouns_100_idx'"
      ]
     },
     "execution_count": 18,
     "metadata": {},
     "output_type": "execute_result"
    }
   ],
   "source": [
    "src_col = 'nouns'\n",
    "max_len = 100\n",
    "\n",
    "c, d, vocab_dim, max_len = toidx(src_col, max_len)\n",
    "df_fea[c] = d\n",
    "c"
   ]
  },
  {
   "cell_type": "code",
   "execution_count": null,
   "metadata": {},
   "outputs": [],
   "source": [
    "# src_col = 'text'\n",
    "# max_len = 100"
   ]
  },
  {
   "cell_type": "code",
   "execution_count": 19,
   "metadata": {
    "ExecuteTime": {
     "end_time": "2019-12-31T15:28:34.891880Z",
     "start_time": "2019-12-31T15:28:34.872795Z"
    }
   },
   "outputs": [
    {
     "data": {
      "text/html": [
       "<div>\n",
       "<style scoped>\n",
       "    .dataframe tbody tr th:only-of-type {\n",
       "        vertical-align: middle;\n",
       "    }\n",
       "\n",
       "    .dataframe tbody tr th {\n",
       "        vertical-align: top;\n",
       "    }\n",
       "\n",
       "    .dataframe thead th {\n",
       "        text-align: right;\n",
       "    }\n",
       "</style>\n",
       "<table border=\"1\" class=\"dataframe\">\n",
       "  <thead>\n",
       "    <tr style=\"text-align: right;\">\n",
       "      <th></th>\n",
       "      <th>nouns_100_idx</th>\n",
       "      <th>smishing</th>\n",
       "    </tr>\n",
       "    <tr>\n",
       "      <th>id</th>\n",
       "      <th></th>\n",
       "      <th></th>\n",
       "    </tr>\n",
       "  </thead>\n",
       "  <tbody>\n",
       "    <tr>\n",
       "      <td>0</td>\n",
       "      <td>[17437, 14804, 23106, 3204, 14669, 0, 0, 0, 0,...</td>\n",
       "      <td>0</td>\n",
       "    </tr>\n",
       "    <tr>\n",
       "      <td>1</td>\n",
       "      <td>[8288, 8847, 21933, 16764, 21199, 9233, 0, 0, ...</td>\n",
       "      <td>0</td>\n",
       "    </tr>\n",
       "    <tr>\n",
       "      <td>2</td>\n",
       "      <td>[10875, 24138, 16764, 21103, 12421, 7645, 4683...</td>\n",
       "      <td>0</td>\n",
       "    </tr>\n",
       "    <tr>\n",
       "      <td>4</td>\n",
       "      <td>[24138, 10875, 16764, 17896, 2824, 9280, 16371...</td>\n",
       "      <td>0</td>\n",
       "    </tr>\n",
       "    <tr>\n",
       "      <td>5</td>\n",
       "      <td>[11480, 4155, 3204, 2824, 0, 0, 0, 0, 0, 0, 0,...</td>\n",
       "      <td>0</td>\n",
       "    </tr>\n",
       "    <tr>\n",
       "      <td>...</td>\n",
       "      <td>...</td>\n",
       "      <td>...</td>\n",
       "    </tr>\n",
       "    <tr>\n",
       "      <td>341621</td>\n",
       "      <td>[10499, 24138, 10875, 24138, 6868, 23864, 4561...</td>\n",
       "      <td>-1</td>\n",
       "    </tr>\n",
       "    <tr>\n",
       "      <td>341622</td>\n",
       "      <td>[24138, 16371, 17896, 4440, 14397, 22911, 1174...</td>\n",
       "      <td>-1</td>\n",
       "    </tr>\n",
       "    <tr>\n",
       "      <td>341623</td>\n",
       "      <td>[24138, 16371, 16764, 17896, 24009, 14397, 102...</td>\n",
       "      <td>-1</td>\n",
       "    </tr>\n",
       "    <tr>\n",
       "      <td>341624</td>\n",
       "      <td>[10499, 6146, 17833, 21706, 4683, 18866, 18507...</td>\n",
       "      <td>-1</td>\n",
       "    </tr>\n",
       "    <tr>\n",
       "      <td>341625</td>\n",
       "      <td>[10499, 24138, 10875, 5625, 6461, 1229, 5116, ...</td>\n",
       "      <td>-1</td>\n",
       "    </tr>\n",
       "  </tbody>\n",
       "</table>\n",
       "<p>297571 rows × 2 columns</p>\n",
       "</div>"
      ],
      "text/plain": [
       "                                            nouns_100_idx  smishing\n",
       "id                                                                 \n",
       "0       [17437, 14804, 23106, 3204, 14669, 0, 0, 0, 0,...         0\n",
       "1       [8288, 8847, 21933, 16764, 21199, 9233, 0, 0, ...         0\n",
       "2       [10875, 24138, 16764, 21103, 12421, 7645, 4683...         0\n",
       "4       [24138, 10875, 16764, 17896, 2824, 9280, 16371...         0\n",
       "5       [11480, 4155, 3204, 2824, 0, 0, 0, 0, 0, 0, 0,...         0\n",
       "...                                                   ...       ...\n",
       "341621  [10499, 24138, 10875, 24138, 6868, 23864, 4561...        -1\n",
       "341622  [24138, 16371, 17896, 4440, 14397, 22911, 1174...        -1\n",
       "341623  [24138, 16371, 16764, 17896, 24009, 14397, 102...        -1\n",
       "341624  [10499, 6146, 17833, 21706, 4683, 18866, 18507...        -1\n",
       "341625  [10499, 24138, 10875, 5625, 6461, 1229, 5116, ...        -1\n",
       "\n",
       "[297571 rows x 2 columns]"
      ]
     },
     "execution_count": 19,
     "metadata": {},
     "output_type": "execute_result"
    }
   ],
   "source": [
    "df_merged = df_fea[[c, 'smishing']]\n",
    "df_merged"
   ]
  },
  {
   "cell_type": "code",
   "execution_count": 20,
   "metadata": {
    "ExecuteTime": {
     "end_time": "2019-12-31T15:28:37.647664Z",
     "start_time": "2019-12-31T15:28:37.629886Z"
    }
   },
   "outputs": [
    {
     "name": "stdout",
     "output_type": "stream",
     "text": [
      "<class 'pandas.core.frame.DataFrame'>\n",
      "Int64Index: 297571 entries, 0 to 341625\n",
      "Data columns (total 2 columns):\n",
      "nouns_100_idx    297571 non-null object\n",
      "smishing         297571 non-null int64\n",
      "dtypes: int64(1), object(1)\n",
      "memory usage: 6.8+ MB\n"
     ]
    }
   ],
   "source": [
    "df_merged.info()"
   ]
  },
  {
   "cell_type": "code",
   "execution_count": 21,
   "metadata": {
    "ExecuteTime": {
     "end_time": "2019-12-31T15:28:39.442712Z",
     "start_time": "2019-12-31T15:28:38.524539Z"
    }
   },
   "outputs": [
    {
     "name": "stdout",
     "output_type": "stream",
     "text": [
      "20200101T002838_100_24161\n"
     ]
    },
    {
     "data": {
      "text/plain": [
       "['data/df_merged_20200101T002838_100_24161_test.pkl']"
      ]
     },
     "execution_count": 21,
     "metadata": {},
     "output_type": "execute_result"
    }
   ],
   "source": [
    "merged_ts = '{}_{}_{}'.format(datetime.now().strftime('%Y%m%dT%H%M%S'), str(max_len), str(vocab_dim))\n",
    "print(merged_ts)\n",
    "joblib.dump(df_merged.loc[df_merged['smishing'] != -1,:], 'data/df_merged_{}_train.pkl'.format(merged_ts))\n",
    "\n",
    "joblib.dump(df_merged.loc[df_merged['smishing'] == 1,:], 'data/df_merged_{}_train_pos.pkl'.format(merged_ts))\n",
    "\n",
    "joblib.dump(df_merged.loc[df_merged['smishing'] == -1,:], 'data/df_merged_{}_test.pkl'.format(merged_ts))"
   ]
  },
  {
   "cell_type": "code",
   "execution_count": null,
   "metadata": {
    "ExecuteTime": {
     "end_time": "2019-12-31T15:12:12.745277Z",
     "start_time": "2019-12-31T15:12:12.075786Z"
    }
   },
   "outputs": [],
   "source": [
    "gc.collect()\n",
    "\n",
    "exit(0)"
   ]
  },
  {
   "cell_type": "code",
   "execution_count": null,
   "metadata": {},
   "outputs": [],
   "source": []
  }
 ],
 "metadata": {
  "accelerator": "GPU",
  "colab": {
   "collapsed_sections": [],
   "name": "mecab_tfidf.ipynb",
   "provenance": []
  },
  "kernelspec": {
   "display_name": "Python 3",
   "language": "python",
   "name": "python3"
  },
  "language_info": {
   "codemirror_mode": {
    "name": "ipython",
    "version": 3
   },
   "file_extension": ".py",
   "mimetype": "text/x-python",
   "name": "python",
   "nbconvert_exporter": "python",
   "pygments_lexer": "ipython3",
   "version": "3.7.4"
  },
  "toc": {
   "base_numbering": 1,
   "nav_menu": {},
   "number_sections": true,
   "sideBar": true,
   "skip_h1_title": false,
   "title_cell": "Table of Contents",
   "title_sidebar": "Contents",
   "toc_cell": false,
   "toc_position": {
    "height": "calc(100% - 180px)",
    "left": "10px",
    "top": "150px",
    "width": "165px"
   },
   "toc_section_display": true,
   "toc_window_display": true
  }
 },
 "nbformat": 4,
 "nbformat_minor": 1
}
