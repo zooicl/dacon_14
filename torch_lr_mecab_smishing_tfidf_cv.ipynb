{
 "cells": [
  {
   "cell_type": "code",
   "execution_count": null,
   "metadata": {
    "ExecuteTime": {
     "end_time": "2019-12-27T00:55:40.364568Z",
     "start_time": "2019-12-27T00:55:39.787874Z"
    },
    "colab": {
     "base_uri": "https://localhost:8080/",
     "height": 71
    },
    "colab_type": "code",
    "executionInfo": {
     "elapsed": 1590,
     "status": "ok",
     "timestamp": 1576286906380,
     "user": {
      "displayName": "주이클",
      "photoUrl": "https://lh3.googleusercontent.com/a-/AAuE7mCWVh4nvn9788qUddhoWTl5qQoYt0bzVMDlJWUumTg=s64",
      "userId": "02708070532256873610"
     },
     "user_tz": -540
    },
    "id": "U3xmRNtgpZwi",
    "outputId": "f6e95e03-5913-4a53-9ff3-1b6cde1b5a82"
   },
   "outputs": [],
   "source": [
    "#!/usr/bin/env python\n",
    "# coding: utf-8\n",
    "get_ipython().run_line_magic('matplotlib', 'inline')\n",
    "import pandas as pd\n",
    "import time\n",
    "import numpy as np\n",
    "from datetime import datetime\n",
    "from sklearn.externals import joblib \n",
    "import os\n",
    "from konlpy.tag import Mecab\n",
    "import lightgbm as lgb\n",
    "print(lgb.__version__)\n",
    "\n",
    "from sklearn import metrics"
   ]
  },
  {
   "cell_type": "code",
   "execution_count": null,
   "metadata": {
    "ExecuteTime": {
     "end_time": "2019-12-27T00:55:41.540031Z",
     "start_time": "2019-12-27T00:55:40.365592Z"
    }
   },
   "outputs": [],
   "source": [
    "print(os.getcwd())\n",
    "\n",
    "base_path = '.'\n",
    "\n",
    "df_train = pd.read_csv(os.path.join(base_path , 'input/train.csv'), index_col=0)\n",
    "df_test = pd.read_csv(os.path.join(base_path , 'input/public_test.csv'), index_col=0)\n",
    "df_test['smishing'] = -1\n",
    "\n",
    "df_fea = pd.concat([df_train, df_test])\n",
    "df_fea.shape"
   ]
  },
  {
   "cell_type": "markdown",
   "metadata": {},
   "source": [
    "### Mecab"
   ]
  },
  {
   "cell_type": "code",
   "execution_count": null,
   "metadata": {
    "ExecuteTime": {
     "end_time": "2019-12-27T00:55:41.542557Z",
     "start_time": "2019-12-27T00:55:41.540988Z"
    },
    "colab": {},
    "colab_type": "code",
    "id": "uquxguHUpZwt"
   },
   "outputs": [],
   "source": [
    "# mecab = Mecab()\n",
    "# # df_space['morphs'] = df_space['spacing'].apply(lambda x: mecab.morphs(x))\n",
    "# df_fea['nouns'] = df_fea['text'].apply(lambda x: mecab.nouns(x))\n",
    "\n",
    "# df_fea['nouns_str'] = df_fea['nouns'].apply(lambda x: ' '.join(x))"
   ]
  },
  {
   "cell_type": "code",
   "execution_count": null,
   "metadata": {
    "ExecuteTime": {
     "end_time": "2019-12-27T00:55:41.554940Z",
     "start_time": "2019-12-27T00:55:41.543667Z"
    }
   },
   "outputs": [],
   "source": [
    "# df_fea.to_pickle('df_fea.pkl')"
   ]
  },
  {
   "cell_type": "code",
   "execution_count": null,
   "metadata": {
    "ExecuteTime": {
     "end_time": "2019-12-27T00:55:43.897377Z",
     "start_time": "2019-12-27T00:55:41.555889Z"
    }
   },
   "outputs": [],
   "source": [
    "df_fea = pd.read_pickle('data/df_fea.pkl')"
   ]
  },
  {
   "cell_type": "markdown",
   "metadata": {},
   "source": [
    "### Count"
   ]
  },
  {
   "cell_type": "code",
   "execution_count": null,
   "metadata": {
    "ExecuteTime": {
     "end_time": "2019-12-27T00:55:49.995058Z",
     "start_time": "2019-12-27T00:55:43.898370Z"
    }
   },
   "outputs": [],
   "source": [
    "from sklearn.feature_extraction.text import CountVectorizer\n",
    "\n",
    "vectorizer = CountVectorizer(max_df=0.25, min_df=50)\n",
    "\n",
    "vectorizer = vectorizer.fit(df_fea[df_fea['smishing']==1]['nouns_str'].values)\n",
    "cnt_vec = vectorizer.transform(df_fea['nouns_str'].values).toarray()\n",
    "\n",
    "cnt_dict = {'cnt_{0:03d}'.format(i):'cnt_{0:03d}_{1}'.format(i, c) for i, c in enumerate(vectorizer.get_feature_names())}\n",
    "cnt_cols = sorted(cnt_dict.keys())\n",
    "\n",
    "df_cnt_vec = pd.DataFrame(cnt_vec, columns=cnt_cols, dtype=np.uint8)\n",
    "df_cnt_vec.shape"
   ]
  },
  {
   "cell_type": "code",
   "execution_count": null,
   "metadata": {
    "ExecuteTime": {
     "end_time": "2019-12-27T00:55:49.997352Z",
     "start_time": "2019-12-27T00:55:49.995863Z"
    }
   },
   "outputs": [],
   "source": [
    "# df_cnt_vec = df_cnt_vec.astype(np.int32)\n",
    "\n",
    "# vectorizer2 = CountVectorizer(analyzer='word', ngram_range=(2, 2))\n",
    "# X2 = vectorizer2.fit_transform(corpus)\n",
    "# print(vectorizer2.get_feature_names())"
   ]
  },
  {
   "cell_type": "markdown",
   "metadata": {},
   "source": [
    "### tfidf"
   ]
  },
  {
   "cell_type": "code",
   "execution_count": null,
   "metadata": {
    "ExecuteTime": {
     "start_time": "2019-12-27T00:55:39.933Z"
    },
    "colab": {},
    "colab_type": "code",
    "id": "l2Dgkdt6pZw_"
   },
   "outputs": [],
   "source": [
    "from sklearn.feature_extraction.text import TfidfVectorizer\n",
    "\n",
    "tfidf_size = None\n",
    "stop_words = [\n",
    "#    '은행',\n",
    "#     '고객',\n",
    "#     '가능',\n",
    "#     '전화',\n",
    "#     '기간',\n",
    "#     '대출',\n",
    "#     '금리',\n",
    "#     '상담',\n",
    "#     '광고',\n",
    "#     '상품',\n",
    "#     '센터',\n",
    "]\n",
    "vectorizer = TfidfVectorizer(max_features=tfidf_size, \n",
    "                             stop_words=stop_words, \n",
    "                             max_df=0.5,\n",
    "                             min_df=100)\n",
    "\n",
    "# vectorizer = vectorizer.fit(df_fea[df_fea['smishing']==1]['nouns_str'].values)\n",
    "vectorizer = vectorizer.fit(df_fea['nouns_str'].values)\n",
    "\n",
    "tfidf = vectorizer.transform(df_fea['nouns_str'].values).toarray()\n",
    "tfidf_dict = {'tfidf_{0:03d}'.format(v):'tfidf_{0:03d}_{1}'.format(v, k) for k, v in sorted(vectorizer.vocabulary_.items(), key=lambda item: item[1])}\n",
    "tfidf_cols = sorted(tfidf_dict.keys())\n",
    "\n",
    "df_tfidf = pd.DataFrame(tfidf, columns=tfidf_cols, dtype=np.float16)\n",
    "df_tfidf.shape"
   ]
  },
  {
   "cell_type": "code",
   "execution_count": null,
   "metadata": {
    "ExecuteTime": {
     "start_time": "2019-12-27T00:55:39.935Z"
    }
   },
   "outputs": [],
   "source": [
    "vectorizer = TfidfVectorizer(max_features=tfidf_size, \n",
    "                             stop_words=stop_words, \n",
    "                            # max_df=0.5,min_df=100\n",
    "                            )\n",
    "\n",
    "vectorizer = vectorizer.fit(df_fea[df_fea['smishing']==1]['nouns_str'].values)\n",
    "# vectorizer = vectorizer.fit(df_fea['nouns_str'].values)\n",
    "\n",
    "tfidf = vectorizer.transform(df_fea['nouns_str'].values).toarray()\n",
    "tfidf2_dict = {'tfidf2_{0:03d}'.format(v):'tfidf2_{0:03d}_{1}'.format(v, k) for k, v in sorted(vectorizer.vocabulary_.items(), key=lambda item: item[1])}\n",
    "tfidf2_cols = sorted(tfidf2_dict.keys())\n",
    "\n",
    "df_tfidf2 = pd.DataFrame(tfidf, columns=tfidf2_cols, dtype=np.float16)\n",
    "df_tfidf2.shape"
   ]
  },
  {
   "cell_type": "markdown",
   "metadata": {},
   "source": [
    "### Merged"
   ]
  },
  {
   "cell_type": "code",
   "execution_count": null,
   "metadata": {
    "ExecuteTime": {
     "start_time": "2019-12-27T00:55:39.938Z"
    },
    "colab": {
     "base_uri": "https://localhost:8080/",
     "height": 34
    },
    "colab_type": "code",
    "executionInfo": {
     "elapsed": 185503,
     "status": "ok",
     "timestamp": 1576287090605,
     "user": {
      "displayName": "주이클",
      "photoUrl": "https://lh3.googleusercontent.com/a-/AAuE7mCWVh4nvn9788qUddhoWTl5qQoYt0bzVMDlJWUumTg=s64",
      "userId": "02708070532256873610"
     },
     "user_tz": -540
    },
    "id": "4f9oWotspZxF",
    "outputId": "6e0f2830-c6ef-4e00-9b0b-19ea6751dad0",
    "scrolled": true
   },
   "outputs": [],
   "source": [
    "print(df_fea.shape, df_cnt_vec.shape, df_tfidf.shape, df_tfidf2.shape)\n",
    "\n",
    "df_merged = pd.concat([df_fea.reset_index(), df_cnt_vec[cnt_cols], df_tfidf[tfidf_cols], df_tfidf2[tfidf2_cols]], axis=1)\n",
    "print(df_merged.shape)\n",
    "# df_merged = pd.concat([df_merged, df_tfidf[tfidf_cols]], axis=1)\n",
    "# print(df_merged.shape)\n",
    "\n",
    "print(df_merged.info())\n",
    "df_merged.head(10)"
   ]
  },
  {
   "cell_type": "code",
   "execution_count": null,
   "metadata": {
    "ExecuteTime": {
     "start_time": "2019-12-27T00:55:39.940Z"
    }
   },
   "outputs": [],
   "source": [
    "del df_fea, df_cnt_vec, df_tfidf, df_tfidf2"
   ]
  },
  {
   "cell_type": "code",
   "execution_count": null,
   "metadata": {
    "ExecuteTime": {
     "start_time": "2019-12-27T00:55:39.942Z"
    }
   },
   "outputs": [],
   "source": [
    "# df_merged.to_pickle('df_merged.pkl')"
   ]
  },
  {
   "cell_type": "code",
   "execution_count": null,
   "metadata": {
    "ExecuteTime": {
     "start_time": "2019-12-27T00:55:39.944Z"
    },
    "colab": {
     "base_uri": "https://localhost:8080/",
     "height": 1000
    },
    "colab_type": "code",
    "executionInfo": {
     "elapsed": 185838,
     "status": "ok",
     "timestamp": 1576287091046,
     "user": {
      "displayName": "주이클",
      "photoUrl": "https://lh3.googleusercontent.com/a-/AAuE7mCWVh4nvn9788qUddhoWTl5qQoYt0bzVMDlJWUumTg=s64",
      "userId": "02708070532256873610"
     },
     "user_tz": -540
    },
    "id": "QOi9dYzqpZxV",
    "outputId": "9ceb7e20-059e-4946-934e-ab85c98dca56",
    "scrolled": true
   },
   "outputs": [],
   "source": [
    "train_size = len(df_train)\n",
    "print(train_size)\n",
    "\n",
    "cat_cols = []\n",
    "fea_cols = cnt_cols + tfidf_cols + cat_cols + tfidf2_cols\n",
    "fea_cols = tfidf_cols + cat_cols + tfidf2_cols\n",
    "# fea_cols = cnt_cols + cat_cols\n",
    "# fea_cols = tfidf_cols + cat_cols\n",
    "len(fea_cols)"
   ]
  },
  {
   "cell_type": "markdown",
   "metadata": {},
   "source": [
    "### Model"
   ]
  },
  {
   "cell_type": "code",
   "execution_count": null,
   "metadata": {
    "ExecuteTime": {
     "start_time": "2019-12-27T00:55:39.947Z"
    }
   },
   "outputs": [],
   "source": [
    "def eval_summary(y_true, y_score, cut_off=0.5):\n",
    "    y_pred = y_score.copy()\n",
    "    y_pred[y_pred > cut_off] = 1\n",
    "    y_pred[y_pred <= cut_off] = 0\n",
    "\n",
    "    eval_dict = {}\n",
    "    fpr, tpr, thresholds = metrics.roc_curve(y_true, y_score, pos_label=1)\n",
    "    \n",
    "    eval_dict['auc'] = metrics.auc(fpr, tpr)\n",
    "    eval_dict['confusion_matrix'] = metrics.confusion_matrix(y_true, y_pred)\n",
    "    \n",
    "    pre, rec, _, _ = metrics.precision_recall_fscore_support(y_true, y_pred, pos_label=1)\n",
    "    eval_dict['precision'] = pre[1]\n",
    "    eval_dict['recall'] = rec[1]\n",
    "    \n",
    "    return eval_dict"
   ]
  },
  {
   "cell_type": "markdown",
   "metadata": {},
   "source": [
    "#### torch LR"
   ]
  },
  {
   "cell_type": "code",
   "execution_count": null,
   "metadata": {
    "ExecuteTime": {
     "start_time": "2019-12-27T00:55:39.949Z"
    }
   },
   "outputs": [],
   "source": [
    "import torch\n",
    "print(torch.__version__)\n",
    "import torch.nn.functional as F\n",
    "\n",
    "print(torch.cuda.get_device_name(0))\n",
    "print(torch.cuda.is_available())\n",
    "\n",
    "device = torch.device(\"cuda:0\" if torch.cuda.is_available() else \"cpu\")\n",
    "device"
   ]
  },
  {
   "cell_type": "code",
   "execution_count": null,
   "metadata": {
    "ExecuteTime": {
     "start_time": "2019-12-27T00:55:39.951Z"
    }
   },
   "outputs": [],
   "source": [
    "class MyModel(torch.nn.Module):\n",
    "    \n",
    "    def __init__(self):\n",
    "        super(MyModel,self).__init__()\n",
    "        self.linear = torch.nn.Linear(len(fea_cols),1)\n",
    "        \n",
    "    def forward(self, x):\n",
    "        y_pred = F.sigmoid(self.linear(x))\n",
    "        return y_pred"
   ]
  },
  {
   "cell_type": "code",
   "execution_count": null,
   "metadata": {
    "ExecuteTime": {
     "start_time": "2019-12-27T00:55:39.952Z"
    }
   },
   "outputs": [],
   "source": [
    "# del model, x_data, y_data"
   ]
  },
  {
   "cell_type": "code",
   "execution_count": null,
   "metadata": {
    "ExecuteTime": {
     "start_time": "2019-12-27T00:55:39.954Z"
    }
   },
   "outputs": [],
   "source": [
    "torch.cuda.init()\n",
    "torch.cuda.empty_cache() "
   ]
  },
  {
   "cell_type": "code",
   "execution_count": null,
   "metadata": {
    "ExecuteTime": {
     "start_time": "2019-12-27T00:55:39.956Z"
    }
   },
   "outputs": [],
   "source": [
    "model_ts = datetime.now().strftime('%Y%m%dT%H%M%S')\n",
    "x_data = torch.Tensor(df_merged[:train_size][fea_cols].values).to(device)\n",
    "y_data = torch.Tensor(df_merged[:train_size][['smishing']].values).to(device)\n",
    "\n",
    "model = MyModel()\n",
    "model.to(device)\n",
    "\n",
    "criterion = torch.nn.BCELoss(size_average=True)\n",
    "optimizer = torch.optim.SGD(model.parameters(), lr=0.01)\n",
    "\n",
    "\n",
    "\n",
    "epoch = 0"
   ]
  },
  {
   "cell_type": "code",
   "execution_count": null,
   "metadata": {
    "ExecuteTime": {
     "start_time": "2019-12-27T00:55:39.963Z"
    },
    "scrolled": true
   },
   "outputs": [],
   "source": [
    "for e in range(epoch, epoch + 500000):\n",
    "    y_pred = model(x_data)\n",
    "    \n",
    "    loss = criterion(y_pred, y_data)\n",
    "\n",
    "    if e % 100 == 0:\n",
    "        print(e, loss.item())\n",
    "        \n",
    "    if e % 10000 == 0:\n",
    "        y_score = model(x_data).cpu().detach().numpy().reshape(1, -1)[0]\n",
    "        print(eval_summary(df_merged[:train_size]['smishing'].values, y_score, cut_off=0.5))\n",
    "        \n",
    "        x_test = torch.Tensor(df_merged[train_size:][fea_cols].values).to(device)\n",
    "        df_test['smishing_{}'.format(e)] = model(x_test).cpu().detach().numpy().reshape(1, -1)[0]\n",
    "    \n",
    "    optimizer.zero_grad()\n",
    "    loss.backward()\n",
    "    optimizer.step()\n",
    "    epoch = e\n",
    "    "
   ]
  },
  {
   "cell_type": "code",
   "execution_count": null,
   "metadata": {
    "ExecuteTime": {
     "start_time": "2019-12-27T00:55:39.965Z"
    }
   },
   "outputs": [],
   "source": [
    "y_score = model(x_data).cpu().detach().numpy().reshape(1, -1)[0]\n",
    "eval_summary(df_merged[:train_size]['smishing'].values, y_score, cut_off=0.5)"
   ]
  },
  {
   "cell_type": "code",
   "execution_count": null,
   "metadata": {
    "ExecuteTime": {
     "start_time": "2019-12-27T00:55:39.967Z"
    }
   },
   "outputs": [],
   "source": [
    "x_test = torch.Tensor(df_merged[train_size:][fea_cols].values).to(device)\n",
    "pred = model(x_test).cpu().detach().numpy().reshape(1, -1)[0]"
   ]
  },
  {
   "cell_type": "code",
   "execution_count": null,
   "metadata": {
    "ExecuteTime": {
     "start_time": "2019-12-27T00:55:39.969Z"
    }
   },
   "outputs": [],
   "source": [
    "model_ts"
   ]
  },
  {
   "cell_type": "code",
   "execution_count": null,
   "metadata": {
    "ExecuteTime": {
     "start_time": "2019-12-27T00:55:39.971Z"
    }
   },
   "outputs": [],
   "source": [
    "df_test['smishing'] = pred\n",
    "df_test['smishing'].hist(bins=100, figsize=(20, 5))"
   ]
  },
  {
   "cell_type": "code",
   "execution_count": null,
   "metadata": {
    "ExecuteTime": {
     "start_time": "2019-12-27T00:55:39.972Z"
    }
   },
   "outputs": [],
   "source": [
    "torch.save(model.state_dict(), 'model/torch_lr.model')"
   ]
  },
  {
   "cell_type": "code",
   "execution_count": null,
   "metadata": {
    "ExecuteTime": {
     "start_time": "2019-12-27T00:55:39.974Z"
    }
   },
   "outputs": [],
   "source": [
    "df_test[['id', 'smishing']].to_csv('torch_lr_{}.csv'.format(lgb_ts), index=False)\n",
    "df_test[['id', 'smishing', 'text']].sort_values('smishing', ascending=False).to_csv('torch_lr_{}_text.csv'.format(model_ts), index=False)"
   ]
  },
  {
   "cell_type": "code",
   "execution_count": null,
   "metadata": {
    "colab": {},
    "colab_type": "code",
    "id": "dtoNNPnG75fT"
   },
   "outputs": [],
   "source": []
  }
 ],
 "metadata": {
  "accelerator": "GPU",
  "colab": {
   "collapsed_sections": [],
   "name": "mecab_tfidf.ipynb",
   "provenance": []
  },
  "kernelspec": {
   "display_name": "Python 3",
   "language": "python",
   "name": "python3"
  },
  "language_info": {
   "codemirror_mode": {
    "name": "ipython",
    "version": 3
   },
   "file_extension": ".py",
   "mimetype": "text/x-python",
   "name": "python",
   "nbconvert_exporter": "python",
   "pygments_lexer": "ipython3",
   "version": "3.7.4"
  },
  "toc": {
   "base_numbering": 1,
   "nav_menu": {},
   "number_sections": true,
   "sideBar": true,
   "skip_h1_title": false,
   "title_cell": "Table of Contents",
   "title_sidebar": "Contents",
   "toc_cell": false,
   "toc_position": {
    "height": "calc(100% - 180px)",
    "left": "10px",
    "top": "150px",
    "width": "165px"
   },
   "toc_section_display": true,
   "toc_window_display": false
  }
 },
 "nbformat": 4,
 "nbformat_minor": 1
}
