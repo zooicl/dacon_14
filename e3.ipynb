{
 "cells": [
  {
   "cell_type": "code",
   "execution_count": 1,
   "metadata": {
    "ExecuteTime": {
     "end_time": "2020-01-02T20:51:26.864950Z",
     "start_time": "2020-01-02T20:51:25.892447Z"
    }
   },
   "outputs": [],
   "source": [
    "import pandas as pd\n",
    "from tools import eval_summary"
   ]
  },
  {
   "cell_type": "code",
   "execution_count": 2,
   "metadata": {
    "ExecuteTime": {
     "end_time": "2020-01-02T20:55:10.239588Z",
     "start_time": "2020-01-02T20:55:10.224607Z"
    }
   },
   "outputs": [],
   "source": [
    "df_rnn = pd.read_csv('submit/20200102T204244_smishing_3_nn.csv', index_col=0)"
   ]
  },
  {
   "cell_type": "code",
   "execution_count": 4,
   "metadata": {
    "ExecuteTime": {
     "end_time": "2020-01-02T20:56:38.761761Z",
     "start_time": "2020-01-02T20:56:38.749369Z"
    }
   },
   "outputs": [],
   "source": [
    "df_lgb = pd.read_csv('submit/20200102T020750.csv', index_col=0)"
   ]
  },
  {
   "cell_type": "code",
   "execution_count": 6,
   "metadata": {
    "ExecuteTime": {
     "end_time": "2020-01-02T20:57:20.887629Z",
     "start_time": "2020-01-02T20:57:20.880661Z"
    },
    "scrolled": true
   },
   "outputs": [],
   "source": [
    "df_lgb['smishing'] = (df_lgb['smishing'] + df_rnn['smishing_3'])  / 2"
   ]
  },
  {
   "cell_type": "code",
   "execution_count": 7,
   "metadata": {
    "ExecuteTime": {
     "end_time": "2020-01-02T20:57:47.418214Z",
     "start_time": "2020-01-02T20:57:47.407034Z"
    }
   },
   "outputs": [],
   "source": [
    "df_lgb[['smishing']].to_csv('submit/e3.csv')"
   ]
  },
  {
   "cell_type": "code",
   "execution_count": null,
   "metadata": {},
   "outputs": [],
   "source": []
  }
 ],
 "metadata": {
  "kernelspec": {
   "display_name": "Python 3",
   "language": "python",
   "name": "python3"
  },
  "language_info": {
   "codemirror_mode": {
    "name": "ipython",
    "version": 3
   },
   "file_extension": ".py",
   "mimetype": "text/x-python",
   "name": "python",
   "nbconvert_exporter": "python",
   "pygments_lexer": "ipython3",
   "version": "3.7.4"
  },
  "toc": {
   "base_numbering": 1,
   "nav_menu": {},
   "number_sections": true,
   "sideBar": true,
   "skip_h1_title": false,
   "title_cell": "Table of Contents",
   "title_sidebar": "Contents",
   "toc_cell": false,
   "toc_position": {},
   "toc_section_display": true,
   "toc_window_display": false
  }
 },
 "nbformat": 4,
 "nbformat_minor": 2
}
